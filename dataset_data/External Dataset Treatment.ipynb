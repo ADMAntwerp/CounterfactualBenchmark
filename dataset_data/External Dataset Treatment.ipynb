{
 "cells": [
  {
   "cell_type": "code",
   "execution_count": 1,
   "metadata": {},
   "outputs": [],
   "source": [
    "from io import StringIO\n",
    "import re\n",
    "\n",
    "import pickle\n",
    "import pandas as pd\n",
    "from sklearn.preprocessing import StandardScaler"
   ]
  },
  {
   "cell_type": "code",
   "execution_count": 2,
   "metadata": {},
   "outputs": [],
   "source": [
    "def findBinaryColumns(df):\n",
    "    \"\"\" Receives a DataFrame and returns which columns are binary (only have 2 or less values)\n",
    "    \n",
    "    Args:\n",
    "        df (DataFrame): Pandas DataFrame to be analyzed\n",
    "    Returns:\n",
    "        (list): List with the indexes of columns that are binary\n",
    "    \n",
    "    \"\"\"\n",
    "    dL = []\n",
    "    for c in df.columns:\n",
    "        uv = df[c].unique()\n",
    "        if len(uv) < 3:\n",
    "            print(c, df[c].unique())\n",
    "            dL.append(c)\n",
    "    print(dL)\n",
    "    return dL"
   ]
  },
  {
   "cell_type": "code",
   "execution_count": 3,
   "metadata": {},
   "outputs": [],
   "source": [
    "def getNoBinaryOut(df, dL):\n",
    "    \"\"\" Receive a DataFrame and a list with binary and/or non-categorical \n",
    "    columns and returns which columns must be OH converted\n",
    "    \n",
    "    Args:\n",
    "        df (DataFrame): Pandas DataFrame to be analyzed\n",
    "        dL (list): List with columns that must be ignored\n",
    "    Returns:\n",
    "        (list): List of columns that must be one-hot encoded\n",
    "    \"\"\"\n",
    "    co = 0\n",
    "    if \"output\" in list(df.columns):\n",
    "        co += 1\n",
    "    return list(set([*range(df.shape[1]-co)])-(set(dL+[\"output\"])))"
   ]
  },
  {
   "cell_type": "code",
   "execution_count": 4,
   "metadata": {},
   "outputs": [],
   "source": [
    "def renameReorderNonOH(df):\n",
    "    \"\"\" Remove columns name and replaces with a numeric sequence, \n",
    "    must be used with non one-hot encoded DataFrames\n",
    "    \n",
    "    Args:\n",
    "        df (DataFrame): Pandas DataFrame to be processed, must not be one-hot encoded\n",
    "    Returns:\n",
    "        (DataFrame): Pandas DataFrame with columns organized by sequential numbers\n",
    "    \"\"\"\n",
    "    if \"output\" in list(df.columns):\n",
    "        df_d = df.drop(columns=[\"output\"])\n",
    "        df_o = df[\"output\"]\n",
    "        \n",
    "        df_d.columns = [*range(df_d.shape[1])]\n",
    "\n",
    "        df = pd.concat([df_d, df_o], axis=1)\n",
    "    else:\n",
    "        print(\"Warning: No output was found\")\n",
    "    \n",
    "    return df"
   ]
  },
  {
   "cell_type": "code",
   "execution_count": 5,
   "metadata": {},
   "outputs": [],
   "source": [
    "def renameReorderOH(df):\n",
    "    \"\"\" Remove columns name and replaces with a numeric sequence,\n",
    "    must be used with one-hot encoded DataFrames\n",
    "    \n",
    "    Args:\n",
    "        df (DataFrame): Pandas DataFrame to be processed, must be one-hot encoded\n",
    "    Returns:\n",
    "        (DataFrame): Pandas DataFrame with columns orgnanized by sequential numbers\n",
    "    \"\"\"\n",
    "    if \"output\" in list(df.columns):\n",
    "        df_d = df.drop(columns=[\"output\"])\n",
    "        df_o = df[\"output\"]\n",
    "        \n",
    "        # All data columns must be in string format to allow reorder\n",
    "        df_d.columns = [str(c) for c in list(df_d.columns)]\n",
    "\n",
    "        # Reorder data columns\n",
    "        df_d = df_d.reindex(sorted((list(df_d.columns))),axis=1)\n",
    "\n",
    "        # Output DF\n",
    "        df = pd.concat([df_d, df_o], axis=1)\n",
    "        \n",
    "    else:\n",
    "        print(\"Warning: No output was found\")\n",
    "        \n",
    "        # This was done because in mixed datasets, in some situations the categorical\n",
    "        # has values higher than 9, therefore, a simple sorting will not organize well\n",
    "        # This is not needed in the case where has an output because these cases only\n",
    "        # have categorical features. Although the code is correct and works, it may\n",
    "        # be improved. With the below row also be used also in the other case.\n",
    "        df.columns = [\"0\"*(4-len(str(c).split(\"_\")[0]))+str(c) for c in list(df.columns)]\n",
    "        \n",
    "        df = df.reindex(sorted((list(df.columns))),axis=1)\n",
    "    \n",
    "    return df"
   ]
  },
  {
   "cell_type": "code",
   "execution_count": 6,
   "metadata": {},
   "outputs": [],
   "source": [
    "# Balance Scale - all categorical"
   ]
  },
  {
   "cell_type": "code",
   "execution_count": 7,
   "metadata": {},
   "outputs": [],
   "source": [
    "# Read raw data\n",
    "dfbs = pd.read_csv(\"./rawData/balance-scale.data\", header=None)"
   ]
  },
  {
   "cell_type": "code",
   "execution_count": 8,
   "metadata": {},
   "outputs": [],
   "source": [
    "# Define output row\n",
    "dfbs[0] = dfbs[0].map({\"L\":0, \"R\":1, \"B\":2})\n",
    "dfbs.rename(columns={0: \"output\"}, inplace=True)"
   ]
  },
  {
   "cell_type": "code",
   "execution_count": 9,
   "metadata": {},
   "outputs": [],
   "source": [
    "# Rename and Reorder columns\n",
    "dfbs = renameReorderNonOH(dfbs)"
   ]
  },
  {
   "cell_type": "code",
   "execution_count": 10,
   "metadata": {},
   "outputs": [
    {
     "name": "stdout",
     "output_type": "stream",
     "text": [
      "[]\n"
     ]
    }
   ],
   "source": [
    "# Find binary columns\n",
    "dL = findBinaryColumns(dfbs)"
   ]
  },
  {
   "cell_type": "code",
   "execution_count": 11,
   "metadata": {},
   "outputs": [],
   "source": [
    "# Save non-OH dataset\n",
    "dfbs.to_csv(\"./data/BalanceScale.csv\", index=False)"
   ]
  },
  {
   "cell_type": "code",
   "execution_count": 12,
   "metadata": {},
   "outputs": [],
   "source": [
    "# Generate OH version of DS\n",
    "OHdfbs = pd.get_dummies(dfbs, columns=getNoBinaryOut(dfbs, dL))"
   ]
  },
  {
   "cell_type": "code",
   "execution_count": 13,
   "metadata": {},
   "outputs": [],
   "source": [
    "# Rename and Reorder columns\n",
    "OHdfbs = renameReorderOH(OHdfbs)"
   ]
  },
  {
   "cell_type": "code",
   "execution_count": 14,
   "metadata": {},
   "outputs": [],
   "source": [
    "# Save OH dataset\n",
    "OHdfbs.to_csv(\"./data/OH_BalanceScale.csv\", index=False)"
   ]
  },
  {
   "cell_type": "code",
   "execution_count": 15,
   "metadata": {},
   "outputs": [],
   "source": [
    "###########################################################################"
   ]
  },
  {
   "cell_type": "code",
   "execution_count": 16,
   "metadata": {},
   "outputs": [],
   "source": [
    "# Car Evaluation - all categorical"
   ]
  },
  {
   "cell_type": "code",
   "execution_count": 17,
   "metadata": {},
   "outputs": [],
   "source": [
    "# Read raw data\n",
    "dfce = pd.read_csv(\"./rawData/car.data\", header=None)"
   ]
  },
  {
   "cell_type": "code",
   "execution_count": 18,
   "metadata": {},
   "outputs": [],
   "source": [
    "# Define output row\n",
    "dfce[6] = dfce[6].map({\"unacc\":0, \"acc\":1, \"vgood\":2, \"good\": 3})\n",
    "dfce.rename(columns={6: \"output\"}, inplace=True)"
   ]
  },
  {
   "cell_type": "code",
   "execution_count": 19,
   "metadata": {},
   "outputs": [],
   "source": [
    "# Rename and Reorder columns\n",
    "dfce = renameReorderNonOH(dfce)"
   ]
  },
  {
   "cell_type": "code",
   "execution_count": 20,
   "metadata": {},
   "outputs": [
    {
     "name": "stdout",
     "output_type": "stream",
     "text": [
      "[]\n"
     ]
    }
   ],
   "source": [
    "# Find binary columns\n",
    "dL = findBinaryColumns(dfce)"
   ]
  },
  {
   "cell_type": "code",
   "execution_count": 21,
   "metadata": {},
   "outputs": [],
   "source": [
    "# Save non-OH dataset\n",
    "dfce.to_csv(\"./data/CarEvaluation.csv\", index=False)"
   ]
  },
  {
   "cell_type": "code",
   "execution_count": 22,
   "metadata": {},
   "outputs": [],
   "source": [
    "# Generate OH version of DS\n",
    "OHdfce = pd.get_dummies(dfce, columns=getNoBinaryOut(dfce, dL))"
   ]
  },
  {
   "cell_type": "code",
   "execution_count": 23,
   "metadata": {},
   "outputs": [],
   "source": [
    "# Rename and Reorder columns\n",
    "OHdfce = renameReorderOH(OHdfce)"
   ]
  },
  {
   "cell_type": "code",
   "execution_count": 24,
   "metadata": {},
   "outputs": [],
   "source": [
    "# Save OH dataset\n",
    "OHdfce.to_csv(\"./data/OH_CarEvaluation.csv\", index=False)"
   ]
  },
  {
   "cell_type": "code",
   "execution_count": 25,
   "metadata": {},
   "outputs": [],
   "source": [
    "###########################################################################"
   ]
  },
  {
   "cell_type": "code",
   "execution_count": 26,
   "metadata": {},
   "outputs": [],
   "source": [
    "# Hayes-Roth - all categorical"
   ]
  },
  {
   "cell_type": "code",
   "execution_count": 27,
   "metadata": {},
   "outputs": [],
   "source": [
    "# Read raw data\n",
    "dfhr = pd.read_csv(\"./rawData/hayes-roth.data\", header=None).drop(columns=[0])"
   ]
  },
  {
   "cell_type": "code",
   "execution_count": 28,
   "metadata": {},
   "outputs": [],
   "source": [
    "# Define output row\n",
    "dfhr.rename(columns={5: \"output\"}, inplace=True)"
   ]
  },
  {
   "cell_type": "code",
   "execution_count": 29,
   "metadata": {},
   "outputs": [],
   "source": [
    "# Rename and Reorder columns\n",
    "dfhr = renameReorderNonOH(dfhr)"
   ]
  },
  {
   "cell_type": "code",
   "execution_count": 30,
   "metadata": {},
   "outputs": [
    {
     "name": "stdout",
     "output_type": "stream",
     "text": [
      "[]\n"
     ]
    }
   ],
   "source": [
    "# Find binary columns\n",
    "dL = findBinaryColumns(dfhr)"
   ]
  },
  {
   "cell_type": "code",
   "execution_count": 31,
   "metadata": {},
   "outputs": [],
   "source": [
    "# Save non-OH dataset\n",
    "dfhr.to_csv(\"./data/HayesRoth.csv\", index=False)"
   ]
  },
  {
   "cell_type": "code",
   "execution_count": 32,
   "metadata": {},
   "outputs": [],
   "source": [
    "# Generate OH version of DS\n",
    "OHdfhr = pd.get_dummies(dfhr, columns=getNoBinaryOut(dfhr, dL))"
   ]
  },
  {
   "cell_type": "code",
   "execution_count": 33,
   "metadata": {},
   "outputs": [],
   "source": [
    "# Rename and Reorder columns\n",
    "OHdfhr = renameReorderOH(OHdfhr)"
   ]
  },
  {
   "cell_type": "code",
   "execution_count": 34,
   "metadata": {},
   "outputs": [],
   "source": [
    "# Save OH dataset\n",
    "OHdfhr.to_csv(\"./data/OH_HayesRoth.csv\", index=False)"
   ]
  },
  {
   "cell_type": "code",
   "execution_count": 35,
   "metadata": {},
   "outputs": [],
   "source": [
    "###########################################################################"
   ]
  },
  {
   "cell_type": "code",
   "execution_count": 36,
   "metadata": {},
   "outputs": [],
   "source": [
    "# Chess - all categorical"
   ]
  },
  {
   "cell_type": "code",
   "execution_count": 37,
   "metadata": {},
   "outputs": [],
   "source": [
    "# Read raw data\n",
    "dfchess = pd.read_csv(\"./rawData/krkopt.data\", header=None)"
   ]
  },
  {
   "cell_type": "code",
   "execution_count": 38,
   "metadata": {},
   "outputs": [],
   "source": [
    "# Define output row\n",
    "dfchess[6] = dfchess[6].map({\"draw\":0, \"zero\":1, \"one\": 1, \"two\":1, \"three\": 1, \"four\": 1, \"five\": 1, \"six\": 1, \n",
    "                             \"seven\": 1, \"eight\": 1, \"nine\": 1, \"ten\": 1, \"eleven\": 1, \"twelve\": 1, \"thirteen\": 1, \n",
    "                            \"fourteen\": 1, \"fifteen\": 1, \"sixteen\": 1})\n",
    "dfchess.rename(columns={6: \"output\"}, inplace=True)"
   ]
  },
  {
   "cell_type": "code",
   "execution_count": 39,
   "metadata": {},
   "outputs": [],
   "source": [
    "# Rename and Reorder columns\n",
    "dfchess = renameReorderNonOH(dfchess)"
   ]
  },
  {
   "cell_type": "code",
   "execution_count": 40,
   "metadata": {},
   "outputs": [
    {
     "name": "stdout",
     "output_type": "stream",
     "text": [
      "output [0 1]\n",
      "['output']\n"
     ]
    }
   ],
   "source": [
    "# Find binary columns\n",
    "dL = findBinaryColumns(dfchess)"
   ]
  },
  {
   "cell_type": "code",
   "execution_count": 41,
   "metadata": {},
   "outputs": [],
   "source": [
    "# Save non-OH dataset\n",
    "dfchess.to_csv(\"./data/Chess.csv\", index=False)"
   ]
  },
  {
   "cell_type": "code",
   "execution_count": 42,
   "metadata": {},
   "outputs": [],
   "source": [
    "# Generate OH version of DS\n",
    "OHdfchess = pd.get_dummies(dfchess, columns=getNoBinaryOut(dfchess, dL))"
   ]
  },
  {
   "cell_type": "code",
   "execution_count": 43,
   "metadata": {},
   "outputs": [],
   "source": [
    "# Rename and Reorder columns\n",
    "OHdfchess = renameReorderOH(OHdfchess)"
   ]
  },
  {
   "cell_type": "code",
   "execution_count": 44,
   "metadata": {},
   "outputs": [],
   "source": [
    "# Save OH dataset\n",
    "OHdfchess.to_csv(\"./data/OH_Chess.csv\", index=False)"
   ]
  },
  {
   "cell_type": "code",
   "execution_count": 45,
   "metadata": {},
   "outputs": [],
   "source": [
    "###########################################################################"
   ]
  },
  {
   "cell_type": "code",
   "execution_count": 46,
   "metadata": {},
   "outputs": [],
   "source": [
    "# Lymphography - all categorical"
   ]
  },
  {
   "cell_type": "code",
   "execution_count": 47,
   "metadata": {},
   "outputs": [],
   "source": [
    "# Read raw data\n",
    "dflym = pd.read_csv(\"./rawData/lymphography.data\", header=None)"
   ]
  },
  {
   "cell_type": "code",
   "execution_count": 48,
   "metadata": {},
   "outputs": [],
   "source": [
    "# Define output row\n",
    "dflym.rename(columns={0: \"output\"}, inplace=True)"
   ]
  },
  {
   "cell_type": "code",
   "execution_count": 49,
   "metadata": {},
   "outputs": [],
   "source": [
    "# Rename and Reorder columns\n",
    "dflym = renameReorderNonOH(dflym)"
   ]
  },
  {
   "cell_type": "code",
   "execution_count": 50,
   "metadata": {},
   "outputs": [
    {
     "name": "stdout",
     "output_type": "stream",
     "text": [
      "1 [2 1]\n",
      "2 [1 2]\n",
      "3 [1 2]\n",
      "4 [1 2]\n",
      "5 [1 2]\n",
      "6 [1 2]\n",
      "7 [2 1]\n",
      "15 [1 2]\n",
      "16 [2 1]\n",
      "[1, 2, 3, 4, 5, 6, 7, 15, 16]\n"
     ]
    }
   ],
   "source": [
    "# Find binary columns\n",
    "dL = findBinaryColumns(dflym)"
   ]
  },
  {
   "cell_type": "code",
   "execution_count": 51,
   "metadata": {},
   "outputs": [],
   "source": [
    "# Adjust binary variables to be 0 or 1\n",
    "dflym[1] = dflym[1].map({1:0, 2:1})\n",
    "dflym[2] = dflym[2].map({1:0, 2:1})\n",
    "dflym[3] = dflym[3].map({1:0, 2:1})\n",
    "dflym[4] = dflym[4].map({1:0, 2:1})\n",
    "dflym[5] = dflym[5].map({1:0, 2:1})\n",
    "dflym[6] = dflym[6].map({1:0, 2:1})\n",
    "dflym[7] = dflym[7].map({1:0, 2:1})\n",
    "dflym[15] = dflym[15].map({1:0, 2:1})\n",
    "dflym[16] = dflym[16].map({1:0, 2:1})"
   ]
  },
  {
   "cell_type": "code",
   "execution_count": 52,
   "metadata": {},
   "outputs": [
    {
     "name": "stdout",
     "output_type": "stream",
     "text": [
      "1 [1 0]\n",
      "2 [0 1]\n",
      "3 [0 1]\n",
      "4 [0 1]\n",
      "5 [0 1]\n",
      "6 [0 1]\n",
      "7 [1 0]\n",
      "15 [0 1]\n",
      "16 [1 0]\n",
      "[1, 2, 3, 4, 5, 6, 7, 15, 16]\n"
     ]
    }
   ],
   "source": [
    "# Find binary columns\n",
    "dL = findBinaryColumns(dflym)"
   ]
  },
  {
   "cell_type": "code",
   "execution_count": 53,
   "metadata": {},
   "outputs": [],
   "source": [
    "# Save non-OH dataset\n",
    "dflym.to_csv(\"./data/Lymphography.csv\", index=False)"
   ]
  },
  {
   "cell_type": "code",
   "execution_count": 54,
   "metadata": {},
   "outputs": [],
   "source": [
    "# Generate OH version of DS\n",
    "OHdflym = pd.get_dummies(dflym, columns=getNoBinaryOut(dflym, dL))"
   ]
  },
  {
   "cell_type": "code",
   "execution_count": 55,
   "metadata": {},
   "outputs": [],
   "source": [
    "# Rename and Reorder columns\n",
    "OHdflym = renameReorderOH(OHdflym)"
   ]
  },
  {
   "cell_type": "code",
   "execution_count": 56,
   "metadata": {},
   "outputs": [],
   "source": [
    "# Save OH dataset\n",
    "OHdflym.to_csv(\"./data/OH_Lymphography.csv\", index=False)"
   ]
  },
  {
   "cell_type": "code",
   "execution_count": 57,
   "metadata": {},
   "outputs": [],
   "source": [
    "###########################################################################"
   ]
  },
  {
   "cell_type": "code",
   "execution_count": 58,
   "metadata": {},
   "outputs": [],
   "source": [
    "# Nursery - all categorical"
   ]
  },
  {
   "cell_type": "code",
   "execution_count": 59,
   "metadata": {},
   "outputs": [],
   "source": [
    "# Read raw data\n",
    "dfnur = pd.read_csv(\"./rawData/nursery.data\", header=None)"
   ]
  },
  {
   "cell_type": "code",
   "execution_count": 60,
   "metadata": {},
   "outputs": [],
   "source": [
    "# Define output row\n",
    "dfnur[8] = dfnur[8].map({\"not_recom\":0, \"recommend\":1, \"priority\":2, \"very_recom\": 5, \"spec_prior\": 3})\n",
    "dfnur.rename(columns={8: \"output\"}, inplace=True)"
   ]
  },
  {
   "cell_type": "code",
   "execution_count": 61,
   "metadata": {},
   "outputs": [],
   "source": [
    "# Rename and Reorder columns\n",
    "dfnur = renameReorderNonOH(dfnur)"
   ]
  },
  {
   "cell_type": "code",
   "execution_count": 62,
   "metadata": {},
   "outputs": [
    {
     "name": "stdout",
     "output_type": "stream",
     "text": [
      "5 ['convenient' 'inconv']\n",
      "[5]\n"
     ]
    }
   ],
   "source": [
    "# Find binary columns\n",
    "dL = findBinaryColumns(dfnur)"
   ]
  },
  {
   "cell_type": "code",
   "execution_count": 63,
   "metadata": {},
   "outputs": [],
   "source": [
    "# Adjust column to be binary\n",
    "dfnur[5] = dfnur[5].map({\"convenient\":0, \"inconv\":1})"
   ]
  },
  {
   "cell_type": "code",
   "execution_count": 64,
   "metadata": {},
   "outputs": [
    {
     "name": "stdout",
     "output_type": "stream",
     "text": [
      "5 [0 1]\n",
      "[5]\n"
     ]
    }
   ],
   "source": [
    "dL = findBinaryColumns(dfnur)"
   ]
  },
  {
   "cell_type": "code",
   "execution_count": 65,
   "metadata": {},
   "outputs": [],
   "source": [
    "# Save non-OH dataset\n",
    "dfnur.to_csv(\"./data/Nursery.csv\", index=False)"
   ]
  },
  {
   "cell_type": "code",
   "execution_count": 66,
   "metadata": {},
   "outputs": [],
   "source": [
    "# Generate OH version of DS\n",
    "OHdfnur = pd.get_dummies(dfnur, columns=getNoBinaryOut(dfnur, dL))"
   ]
  },
  {
   "cell_type": "code",
   "execution_count": 67,
   "metadata": {},
   "outputs": [],
   "source": [
    "# Rename and Reorder columns\n",
    "OHdfnur = renameReorderOH(OHdfnur)"
   ]
  },
  {
   "cell_type": "code",
   "execution_count": 68,
   "metadata": {},
   "outputs": [],
   "source": [
    "# Save OH dataset\n",
    "OHdfnur.to_csv(\"./data/OH_Nursery.csv\", index=False)"
   ]
  },
  {
   "cell_type": "code",
   "execution_count": 69,
   "metadata": {},
   "outputs": [],
   "source": [
    "###########################################################################"
   ]
  },
  {
   "cell_type": "code",
   "execution_count": 70,
   "metadata": {},
   "outputs": [],
   "source": [
    "# Soybean (small) - all categorical"
   ]
  },
  {
   "cell_type": "code",
   "execution_count": 71,
   "metadata": {},
   "outputs": [],
   "source": [
    "# Read raw data\n",
    "dfsoy = pd.read_csv(\"./rawData/soybean-small.data\", header=None)"
   ]
  },
  {
   "cell_type": "code",
   "execution_count": 72,
   "metadata": {},
   "outputs": [],
   "source": [
    "# Define output row\n",
    "dfsoy[35] = dfsoy[35].map({\"D1\":0, \"D2\":1, \"D3\":2, \"D4\":3})\n",
    "dfsoy.rename(columns={35: \"output\"}, inplace=True)"
   ]
  },
  {
   "cell_type": "code",
   "execution_count": 73,
   "metadata": {},
   "outputs": [],
   "source": [
    "# Rename and Reorder columns\n",
    "dfsoy = renameReorderNonOH(dfsoy)"
   ]
  },
  {
   "cell_type": "code",
   "execution_count": 74,
   "metadata": {},
   "outputs": [
    {
     "name": "stdout",
     "output_type": "stream",
     "text": [
      "1 [0 1]\n",
      "4 [1 0]\n",
      "7 [1 2]\n",
      "8 [0 1]\n",
      "10 [1]\n",
      "11 [1 0]\n",
      "12 [0]\n",
      "13 [2]\n",
      "14 [2]\n",
      "15 [0]\n",
      "16 [0]\n",
      "17 [0]\n",
      "18 [1]\n",
      "19 [0 1]\n",
      "22 [1 0]\n",
      "23 [1 0]\n",
      "24 [0 1]\n",
      "25 [0 2]\n",
      "26 [0 1]\n",
      "27 [0 3]\n",
      "28 [4]\n",
      "29 [0]\n",
      "30 [0]\n",
      "31 [0]\n",
      "32 [0]\n",
      "33 [0]\n",
      "34 [0 1]\n",
      "[1, 4, 7, 8, 10, 11, 12, 13, 14, 15, 16, 17, 18, 19, 22, 23, 24, 25, 26, 27, 28, 29, 30, 31, 32, 33, 34]\n"
     ]
    }
   ],
   "source": [
    "# Find binary columns\n",
    "dL = findBinaryColumns(dfsoy)"
   ]
  },
  {
   "cell_type": "code",
   "execution_count": 75,
   "metadata": {},
   "outputs": [],
   "source": [
    "# Adjust binary columns to have only 0 or/and 1\n",
    "dfsoy[28] = dfsoy[28].map({4:1})\n",
    "dfsoy[27] = dfsoy[27].map({0:0, 3:1})\n",
    "dfsoy[25] = dfsoy[25].map({0:0, 2:1})\n",
    "dfsoy[14] = dfsoy[14].map({2:1})\n",
    "dfsoy[13] = dfsoy[13].map({2:1})\n",
    "dfsoy[7] = dfsoy[7].map({1:0, 2:1})"
   ]
  },
  {
   "cell_type": "code",
   "execution_count": 76,
   "metadata": {},
   "outputs": [
    {
     "name": "stdout",
     "output_type": "stream",
     "text": [
      "1 [0 1]\n",
      "4 [1 0]\n",
      "7 [0 1]\n",
      "8 [0 1]\n",
      "10 [1]\n",
      "11 [1 0]\n",
      "12 [0]\n",
      "13 [1]\n",
      "14 [1]\n",
      "15 [0]\n",
      "16 [0]\n",
      "17 [0]\n",
      "18 [1]\n",
      "19 [0 1]\n",
      "22 [1 0]\n",
      "23 [1 0]\n",
      "24 [0 1]\n",
      "25 [0 1]\n",
      "26 [0 1]\n",
      "27 [0 1]\n",
      "28 [1]\n",
      "29 [0]\n",
      "30 [0]\n",
      "31 [0]\n",
      "32 [0]\n",
      "33 [0]\n",
      "34 [0 1]\n",
      "[1, 4, 7, 8, 10, 11, 12, 13, 14, 15, 16, 17, 18, 19, 22, 23, 24, 25, 26, 27, 28, 29, 30, 31, 32, 33, 34]\n"
     ]
    }
   ],
   "source": [
    "dL = findBinaryColumns(dfsoy)"
   ]
  },
  {
   "cell_type": "code",
   "execution_count": 77,
   "metadata": {},
   "outputs": [],
   "source": [
    "# Save non-OH dataset\n",
    "dfsoy.to_csv(\"./data/SoybeanSmall.csv\", index=False)"
   ]
  },
  {
   "cell_type": "code",
   "execution_count": 78,
   "metadata": {},
   "outputs": [],
   "source": [
    "# Generate OH version of DS\n",
    "OHdfsoy = pd.get_dummies(dfsoy, columns=getNoBinaryOut(dfsoy, dL))"
   ]
  },
  {
   "cell_type": "code",
   "execution_count": 79,
   "metadata": {},
   "outputs": [],
   "source": [
    "# Rename and Reorder columns\n",
    "OHdfsoy = renameReorderOH(OHdfsoy)"
   ]
  },
  {
   "cell_type": "code",
   "execution_count": 80,
   "metadata": {},
   "outputs": [],
   "source": [
    "# Save OH dataset\n",
    "OHdfsoy.to_csv(\"./data/OH_SoybeanSmall.csv\", index=False)"
   ]
  },
  {
   "cell_type": "code",
   "execution_count": 81,
   "metadata": {},
   "outputs": [],
   "source": [
    "###########################################################################"
   ]
  },
  {
   "cell_type": "code",
   "execution_count": 82,
   "metadata": {},
   "outputs": [],
   "source": [
    "# Tic-Tac-Toe - all categorical"
   ]
  },
  {
   "cell_type": "code",
   "execution_count": 83,
   "metadata": {},
   "outputs": [],
   "source": [
    "# Read raw data\n",
    "dfttt = pd.read_csv(\"./rawData/tic-tac-toe.data\", header=None)"
   ]
  },
  {
   "cell_type": "code",
   "execution_count": 84,
   "metadata": {},
   "outputs": [],
   "source": [
    "# Define output row\n",
    "dfttt[9] = dfttt[9].map({\"negative\":0, \"positive\":1})\n",
    "dfttt.rename(columns={9: \"output\"}, inplace=True)"
   ]
  },
  {
   "cell_type": "code",
   "execution_count": 85,
   "metadata": {},
   "outputs": [],
   "source": [
    "# Rename and Reorder columns\n",
    "dfttt = renameReorderNonOH(dfttt)"
   ]
  },
  {
   "cell_type": "code",
   "execution_count": 86,
   "metadata": {},
   "outputs": [
    {
     "name": "stdout",
     "output_type": "stream",
     "text": [
      "output [1 0]\n",
      "['output']\n"
     ]
    }
   ],
   "source": [
    "# Find binary columns\n",
    "dL = findBinaryColumns(dfttt)"
   ]
  },
  {
   "cell_type": "code",
   "execution_count": 87,
   "metadata": {},
   "outputs": [],
   "source": [
    "# Save non-OH dataset\n",
    "dfttt.to_csv(\"./data/TicTacToe.csv\", index=False)"
   ]
  },
  {
   "cell_type": "code",
   "execution_count": 88,
   "metadata": {},
   "outputs": [],
   "source": [
    "# Generate OH version of DS\n",
    "OHdfttt = pd.get_dummies(dfttt, columns=getNoBinaryOut(dfttt, dL))"
   ]
  },
  {
   "cell_type": "code",
   "execution_count": 89,
   "metadata": {},
   "outputs": [],
   "source": [
    "# Rename and Reorder columns\n",
    "OHdfttt = renameReorderOH(OHdfttt)"
   ]
  },
  {
   "cell_type": "code",
   "execution_count": 90,
   "metadata": {},
   "outputs": [],
   "source": [
    "# Save OH dataset\n",
    "OHdfttt.to_csv(\"./data/OH_TicTacToe.csv\", index=False)"
   ]
  },
  {
   "cell_type": "code",
   "execution_count": 91,
   "metadata": {},
   "outputs": [],
   "source": [
    "###########################################################################"
   ]
  },
  {
   "cell_type": "code",
   "execution_count": 92,
   "metadata": {},
   "outputs": [],
   "source": [
    "def verifyCell(df):\n",
    "    \"\"\" Verify columns without numerical values\n",
    "    \n",
    "    Args:\n",
    "        df (DataFrame): DataFrame to be analyzed\n",
    "    Returns:\n",
    "        (None)\n",
    "    \"\"\"\n",
    "    for i in range(df.shape[1]):\n",
    "        # Identify not number like\n",
    "        if (df[i].map(lambda x: len(re.findall(r'[^\\d\\.\\-|e]', str(x)))).sum() > 0):\n",
    "            print(i)\n",
    "        "
   ]
  },
  {
   "cell_type": "code",
   "execution_count": 93,
   "metadata": {},
   "outputs": [],
   "source": [
    "# Create a scaler to deal with numerical features\n",
    "scaler = StandardScaler()"
   ]
  },
  {
   "cell_type": "code",
   "execution_count": 94,
   "metadata": {},
   "outputs": [],
   "source": [
    "###########################################################################"
   ]
  },
  {
   "cell_type": "code",
   "execution_count": 95,
   "metadata": {},
   "outputs": [],
   "source": [
    "# BCW - all numerical"
   ]
  },
  {
   "cell_type": "code",
   "execution_count": 96,
   "metadata": {},
   "outputs": [],
   "source": [
    "# Read raw data\n",
    "dfbcw = pd.read_csv(\"./rawData/wpbc.data\", header=None)"
   ]
  },
  {
   "cell_type": "code",
   "execution_count": 97,
   "metadata": {},
   "outputs": [
    {
     "name": "stdout",
     "output_type": "stream",
     "text": [
      "1\n",
      "34\n"
     ]
    }
   ],
   "source": [
    "# Verify columns with non-numeric entries\n",
    "verifyCell(dfbcw)\n",
    "# Column 1 is the output, while column 24 has some few missing values"
   ]
  },
  {
   "cell_type": "code",
   "execution_count": 98,
   "metadata": {},
   "outputs": [],
   "source": [
    "# Delete column 0 as it is a Index and column 34 because it has missing values\n",
    "dfbcw.drop(columns=[0, 34], inplace=True)"
   ]
  },
  {
   "cell_type": "code",
   "execution_count": 99,
   "metadata": {},
   "outputs": [],
   "source": [
    "# Define output row\n",
    "dfbcw[1] = dfbcw[1].map({\"N\":0, \"R\":1})\n",
    "dfbcw.rename(columns={1: \"output\"}, inplace=True)"
   ]
  },
  {
   "cell_type": "code",
   "execution_count": 100,
   "metadata": {},
   "outputs": [],
   "source": [
    "# Rename and Reorder columns\n",
    "dfbcw = renameReorderNonOH(dfbcw)"
   ]
  },
  {
   "cell_type": "code",
   "execution_count": 101,
   "metadata": {},
   "outputs": [
    {
     "name": "stdout",
     "output_type": "stream",
     "text": [
      "output [0 1]\n",
      "['output']\n"
     ]
    }
   ],
   "source": [
    "# Find binary columns\n",
    "dL = findBinaryColumns(dfbcw)"
   ]
  },
  {
   "cell_type": "code",
   "execution_count": 102,
   "metadata": {},
   "outputs": [],
   "source": [
    "# Save non-OH dataset\n",
    "dfbcw.to_csv(\"./data/BCW.csv\", index=False)"
   ]
  },
  {
   "cell_type": "code",
   "execution_count": 103,
   "metadata": {},
   "outputs": [],
   "source": [
    "# Generate Normalized version of data\n",
    "dfbcwNORM = dfbcw.copy()\n",
    "dfbcwNORM.loc[:,:32] = scaler.fit_transform(dfbcwNORM.drop(columns=[\"output\"]))\n",
    "pickle.dump(scaler, open(f'./scalers/BCW.sc', 'wb'))"
   ]
  },
  {
   "cell_type": "code",
   "execution_count": 104,
   "metadata": {},
   "outputs": [],
   "source": [
    "# Save normalized data\n",
    "dfbcwNORM.to_csv(\"./data/NORM_BCW.csv\", index=False)"
   ]
  },
  {
   "cell_type": "code",
   "execution_count": 105,
   "metadata": {},
   "outputs": [],
   "source": [
    "###########################################################################"
   ]
  },
  {
   "cell_type": "code",
   "execution_count": 106,
   "metadata": {},
   "outputs": [],
   "source": [
    "# Ecoli - all numerical"
   ]
  },
  {
   "cell_type": "code",
   "execution_count": 107,
   "metadata": {},
   "outputs": [],
   "source": [
    "# Read raw data\n",
    "dfeco = pd.read_csv(StringIO(re.sub(' +', ' ', open(\"./rawData/ecoli.data\").read())), header=None, sep=\" \")"
   ]
  },
  {
   "cell_type": "code",
   "execution_count": 108,
   "metadata": {},
   "outputs": [
    {
     "name": "stdout",
     "output_type": "stream",
     "text": [
      "0\n",
      "8\n"
     ]
    }
   ],
   "source": [
    "# Verify columns with non-numeric entries\n",
    "verifyCell(dfeco)"
   ]
  },
  {
   "cell_type": "code",
   "execution_count": 109,
   "metadata": {},
   "outputs": [],
   "source": [
    "# Delete column 0 because it has another label that is not used in this task\n",
    "dfeco.drop(columns=[0], inplace=True)"
   ]
  },
  {
   "cell_type": "code",
   "execution_count": 110,
   "metadata": {},
   "outputs": [],
   "source": [
    "# Define output row\n",
    "dfeco[8] = dfeco[8].map({\"cp\":0, \"im\":1, \"imS\":2, \"imL\":3, \"imU\":4, \"om\":5, \"omL\":6, \"pp\":7})\n",
    "dfeco.rename(columns={8: \"output\"}, inplace=True)"
   ]
  },
  {
   "cell_type": "code",
   "execution_count": 111,
   "metadata": {},
   "outputs": [],
   "source": [
    "# Rename and Reorder columns\n",
    "dfeco = renameReorderNonOH(dfeco)"
   ]
  },
  {
   "cell_type": "code",
   "execution_count": 112,
   "metadata": {},
   "outputs": [
    {
     "name": "stdout",
     "output_type": "stream",
     "text": [
      "2 [0.48 1.  ]\n",
      "3 [0.5 1. ]\n",
      "[2, 3]\n"
     ]
    }
   ],
   "source": [
    "# Find binary columns\n",
    "dL = findBinaryColumns(dfeco)"
   ]
  },
  {
   "cell_type": "code",
   "execution_count": 113,
   "metadata": {},
   "outputs": [],
   "source": [
    "# Save non-OH dataset\n",
    "dfeco.to_csv(\"./data/Ecoli.csv\", index=False)"
   ]
  },
  {
   "cell_type": "code",
   "execution_count": 114,
   "metadata": {},
   "outputs": [],
   "source": [
    "# Generate Normalized version of data\n",
    "dfecoNORM = dfeco.copy()\n",
    "dfecoNORM.loc[:,:7] = scaler.fit_transform(dfecoNORM.drop(columns=[\"output\"]))\n",
    "pickle.dump(scaler, open(f'./scalers/Ecoli.sc', 'wb'))"
   ]
  },
  {
   "cell_type": "code",
   "execution_count": 115,
   "metadata": {},
   "outputs": [],
   "source": [
    "# Save normalized data\n",
    "dfecoNORM.to_csv(\"./data/NORM_Ecoli.csv\", index=False)"
   ]
  },
  {
   "cell_type": "code",
   "execution_count": 116,
   "metadata": {},
   "outputs": [],
   "source": [
    "###########################################################################"
   ]
  },
  {
   "cell_type": "code",
   "execution_count": 117,
   "metadata": {},
   "outputs": [],
   "source": [
    "# Iris - all numerical"
   ]
  },
  {
   "cell_type": "code",
   "execution_count": 118,
   "metadata": {},
   "outputs": [],
   "source": [
    "# Read raw data\n",
    "dfiri = pd.read_csv(\"./rawData/iris.data\", header=None)"
   ]
  },
  {
   "cell_type": "code",
   "execution_count": 119,
   "metadata": {},
   "outputs": [
    {
     "name": "stdout",
     "output_type": "stream",
     "text": [
      "4\n"
     ]
    }
   ],
   "source": [
    "# Verify columns with non-numeric entries\n",
    "verifyCell(dfiri)"
   ]
  },
  {
   "cell_type": "code",
   "execution_count": 120,
   "metadata": {},
   "outputs": [],
   "source": [
    "# No columns to be deleted"
   ]
  },
  {
   "cell_type": "code",
   "execution_count": 121,
   "metadata": {},
   "outputs": [],
   "source": [
    "# Define output row\n",
    "dfiri[4] = dfiri[4].map({\"Iris-setosa\":0, \"Iris-versicolor\":1, \"Iris-virginica\": 3})\n",
    "dfiri.rename(columns={4: \"output\"}, inplace=True)"
   ]
  },
  {
   "cell_type": "code",
   "execution_count": 122,
   "metadata": {},
   "outputs": [],
   "source": [
    "# Rename and Reorder columns\n",
    "dfiri = renameReorderNonOH(dfiri)"
   ]
  },
  {
   "cell_type": "code",
   "execution_count": 123,
   "metadata": {},
   "outputs": [
    {
     "name": "stdout",
     "output_type": "stream",
     "text": [
      "[]\n"
     ]
    }
   ],
   "source": [
    "# Find binary columns\n",
    "dL = findBinaryColumns(dfiri)"
   ]
  },
  {
   "cell_type": "code",
   "execution_count": 124,
   "metadata": {},
   "outputs": [],
   "source": [
    "# Save non-OH dataset\n",
    "dfiri.to_csv(\"./data/Iris.csv\", index=False)"
   ]
  },
  {
   "cell_type": "code",
   "execution_count": 125,
   "metadata": {},
   "outputs": [],
   "source": [
    "# Generate Normalized version of data\n",
    "dfiriNORM = dfiri.copy()\n",
    "dfiriNORM.loc[:,:4] = scaler.fit_transform(dfiriNORM.drop(columns=[\"output\"]))\n",
    "pickle.dump(scaler, open(f'./scalers/Iris.sc', 'wb'))"
   ]
  },
  {
   "cell_type": "code",
   "execution_count": 126,
   "metadata": {},
   "outputs": [],
   "source": [
    "# Save normalized data\n",
    "dfiriNORM.to_csv(\"./data/NORM_Iris.csv\", index=False)"
   ]
  },
  {
   "cell_type": "code",
   "execution_count": 127,
   "metadata": {},
   "outputs": [],
   "source": [
    "###########################################################################"
   ]
  },
  {
   "cell_type": "code",
   "execution_count": 128,
   "metadata": {},
   "outputs": [],
   "source": [
    "# ISOLET - all numerical"
   ]
  },
  {
   "cell_type": "code",
   "execution_count": 129,
   "metadata": {},
   "outputs": [],
   "source": [
    "# Read raw data\n",
    "dfiso1 = pd.read_csv(\"./rawData/isolet1+2+3+4.data\", header=None)\n",
    "dfiso2 = pd.read_csv(\"./rawData/isolet5.data\", header=None)\n",
    "\n",
    "dfiso = pd.concat([dfiso1, dfiso2])"
   ]
  },
  {
   "cell_type": "code",
   "execution_count": 130,
   "metadata": {},
   "outputs": [],
   "source": [
    "# Verify columns with non-numeric entries\n",
    "verifyCell(dfiso)"
   ]
  },
  {
   "cell_type": "code",
   "execution_count": 131,
   "metadata": {},
   "outputs": [],
   "source": [
    "# No columns to be deleted"
   ]
  },
  {
   "cell_type": "code",
   "execution_count": 132,
   "metadata": {},
   "outputs": [],
   "source": [
    "# Define output row\n",
    "dfiso.rename(columns={617: \"output\"}, inplace=True)"
   ]
  },
  {
   "cell_type": "code",
   "execution_count": 133,
   "metadata": {},
   "outputs": [],
   "source": [
    "# Rename and Reorder columns\n",
    "dfiso = renameReorderNonOH(dfiso)"
   ]
  },
  {
   "cell_type": "code",
   "execution_count": 134,
   "metadata": {},
   "outputs": [
    {
     "name": "stdout",
     "output_type": "stream",
     "text": [
      "577 [-1.  1.]\n",
      "578 [ 1. -1.]\n",
      "579 [-1.  1.]\n",
      "584 [-1.  1.]\n",
      "[577, 578, 579, 584]\n"
     ]
    }
   ],
   "source": [
    "# Find binary columns\n",
    "dL = findBinaryColumns(dfiso)"
   ]
  },
  {
   "cell_type": "code",
   "execution_count": 135,
   "metadata": {},
   "outputs": [],
   "source": [
    "# Save non-OH dataset\n",
    "dfiso.to_csv(\"./data/ISOLET.csv\", index=False)"
   ]
  },
  {
   "cell_type": "code",
   "execution_count": 136,
   "metadata": {},
   "outputs": [],
   "source": [
    "# Generate Normalized version of data\n",
    "dfisoNORM = dfiso.copy()\n",
    "dfisoNORM.loc[:,:617] = scaler.fit_transform(dfisoNORM.drop(columns=[\"output\"]))\n",
    "pickle.dump(scaler, open(f'./scalers/ISOLET.sc', 'wb'))"
   ]
  },
  {
   "cell_type": "code",
   "execution_count": 137,
   "metadata": {},
   "outputs": [],
   "source": [
    "# Save normalized data\n",
    "dfisoNORM.to_csv(\"./data/NORM_ISOLET.csv\", index=False)"
   ]
  },
  {
   "cell_type": "code",
   "execution_count": 138,
   "metadata": {},
   "outputs": [],
   "source": [
    "###########################################################################"
   ]
  },
  {
   "cell_type": "code",
   "execution_count": 139,
   "metadata": {},
   "outputs": [],
   "source": [
    "# SDD - all numerical"
   ]
  },
  {
   "cell_type": "code",
   "execution_count": 140,
   "metadata": {},
   "outputs": [],
   "source": [
    "# Read raw data\n",
    "dfsdd = pd.read_csv(\"./rawData/Sensorless_drive_diagnosis.txt\", header=None, sep=\" \")"
   ]
  },
  {
   "cell_type": "code",
   "execution_count": 141,
   "metadata": {},
   "outputs": [],
   "source": [
    "# Verify columns with non-numeric entries\n",
    "verifyCell(dfsdd)"
   ]
  },
  {
   "cell_type": "code",
   "execution_count": 142,
   "metadata": {},
   "outputs": [],
   "source": [
    "# No columns to be deleted"
   ]
  },
  {
   "cell_type": "code",
   "execution_count": 143,
   "metadata": {},
   "outputs": [],
   "source": [
    "# Define output row\n",
    "dfsdd.rename(columns={48: \"output\"}, inplace=True)"
   ]
  },
  {
   "cell_type": "code",
   "execution_count": 144,
   "metadata": {},
   "outputs": [],
   "source": [
    "# Rename and Reorder columns\n",
    "dfsdd = renameReorderNonOH(dfsdd)"
   ]
  },
  {
   "cell_type": "code",
   "execution_count": 145,
   "metadata": {},
   "outputs": [
    {
     "name": "stdout",
     "output_type": "stream",
     "text": [
      "[]\n"
     ]
    }
   ],
   "source": [
    "# Find binary columns\n",
    "dL = findBinaryColumns(dfsdd)"
   ]
  },
  {
   "cell_type": "code",
   "execution_count": 146,
   "metadata": {},
   "outputs": [],
   "source": [
    "# Save non-OH dataset\n",
    "dfsdd.to_csv(\"./data/SDD.csv\", index=False)"
   ]
  },
  {
   "cell_type": "code",
   "execution_count": 147,
   "metadata": {},
   "outputs": [],
   "source": [
    "# Generate Normalized version of data\n",
    "dfsddNORM = dfsdd.copy()\n",
    "dfsddNORM.loc[:,:48] = scaler.fit_transform(dfsddNORM.drop(columns=[\"output\"]))\n",
    "pickle.dump(scaler, open(f'./scalers/SDD.sc', 'wb'))"
   ]
  },
  {
   "cell_type": "code",
   "execution_count": 148,
   "metadata": {},
   "outputs": [],
   "source": [
    "# Save normalized data\n",
    "dfsddNORM.to_csv(\"./data/NORM_SDD.csv\", index=False)"
   ]
  },
  {
   "cell_type": "code",
   "execution_count": 149,
   "metadata": {},
   "outputs": [],
   "source": [
    "###########################################################################"
   ]
  },
  {
   "cell_type": "code",
   "execution_count": 150,
   "metadata": {},
   "outputs": [],
   "source": [
    "# PBC - all numerical"
   ]
  },
  {
   "cell_type": "code",
   "execution_count": 151,
   "metadata": {},
   "outputs": [],
   "source": [
    "# Read raw data\n",
    "dfpbc = pd.read_csv(StringIO(re.sub(' +', ' ', open(\"./rawData/page-blocks.data\").read())), header=None, sep=\" \")"
   ]
  },
  {
   "cell_type": "code",
   "execution_count": 152,
   "metadata": {},
   "outputs": [
    {
     "name": "stdout",
     "output_type": "stream",
     "text": [
      "0\n"
     ]
    }
   ],
   "source": [
    "# Verify columns with non-numeric entries\n",
    "verifyCell(dfpbc)"
   ]
  },
  {
   "cell_type": "code",
   "execution_count": 153,
   "metadata": {},
   "outputs": [],
   "source": [
    "# Delete column 0 as it is an artifact from import\n",
    "dfpbc.drop(columns=[0], inplace=True)"
   ]
  },
  {
   "cell_type": "code",
   "execution_count": 154,
   "metadata": {},
   "outputs": [],
   "source": [
    "# Define output row\n",
    "dfpbc.rename(columns={11: \"output\"}, inplace=True)"
   ]
  },
  {
   "cell_type": "code",
   "execution_count": 155,
   "metadata": {},
   "outputs": [],
   "source": [
    "# Rename and Reorder columns\n",
    "dfpbc = renameReorderNonOH(dfpbc)"
   ]
  },
  {
   "cell_type": "code",
   "execution_count": 156,
   "metadata": {},
   "outputs": [
    {
     "name": "stdout",
     "output_type": "stream",
     "text": [
      "[]\n"
     ]
    }
   ],
   "source": [
    "# Find binary columns\n",
    "dL = findBinaryColumns(dfpbc)"
   ]
  },
  {
   "cell_type": "code",
   "execution_count": 157,
   "metadata": {},
   "outputs": [],
   "source": [
    "# Save non-OH dataset\n",
    "dfpbc.to_csv(\"./data/PBC.csv\", index=False)"
   ]
  },
  {
   "cell_type": "code",
   "execution_count": 158,
   "metadata": {},
   "outputs": [],
   "source": [
    "# Generate Normalized version of data\n",
    "dfpbcNORM = dfpbc.copy()\n",
    "dfpbcNORM.loc[:,:10] = scaler.fit_transform(dfpbcNORM.drop(columns=[\"output\"]))\n",
    "pickle.dump(scaler, open(f'./scalers/PBC.sc', 'wb'))"
   ]
  },
  {
   "cell_type": "code",
   "execution_count": 159,
   "metadata": {},
   "outputs": [],
   "source": [
    "# Save normalized data\n",
    "dfpbcNORM.to_csv(\"./data/NORM_PBC.csv\", index=False)"
   ]
  },
  {
   "cell_type": "code",
   "execution_count": 160,
   "metadata": {},
   "outputs": [],
   "source": [
    "###########################################################################"
   ]
  },
  {
   "cell_type": "code",
   "execution_count": 161,
   "metadata": {},
   "outputs": [],
   "source": [
    "# CMSC - all numerical"
   ]
  },
  {
   "cell_type": "code",
   "execution_count": 162,
   "metadata": {},
   "outputs": [],
   "source": [
    "# Read raw data\n",
    "dfcmsc = pd.read_csv(StringIO(re.sub(' +', ' ',\"\\n\".join(\" \".join(item for item in line.split(\" \") if item != \"\") for line in open(\"./rawData/pop_failures.dat\").read().split(\"\\n\")))), header=None, sep=\" \")\n",
    "dfcmsc = dfcmsc.drop(0).reset_index(drop=True)\n",
    "dfcmsc = dfcmsc.drop(columns=[0,1])\n",
    "dfcmsc.columns = [*range(dfcmsc.shape[1])]"
   ]
  },
  {
   "cell_type": "code",
   "execution_count": 163,
   "metadata": {},
   "outputs": [],
   "source": [
    "# Verify columns with non-numeric entries\n",
    "verifyCell(dfcmsc)"
   ]
  },
  {
   "cell_type": "code",
   "execution_count": 164,
   "metadata": {},
   "outputs": [],
   "source": [
    "# No columns to be deleted"
   ]
  },
  {
   "cell_type": "code",
   "execution_count": 165,
   "metadata": {},
   "outputs": [],
   "source": [
    "# Define output row\n",
    "dfcmsc.rename(columns={18: \"output\"}, inplace=True)"
   ]
  },
  {
   "cell_type": "code",
   "execution_count": 166,
   "metadata": {},
   "outputs": [],
   "source": [
    "# Rename and Reorder columns\n",
    "dfcmsc = renameReorderNonOH(dfcmsc)"
   ]
  },
  {
   "cell_type": "code",
   "execution_count": 167,
   "metadata": {},
   "outputs": [
    {
     "name": "stdout",
     "output_type": "stream",
     "text": [
      "output ['0' '1']\n",
      "['output']\n"
     ]
    }
   ],
   "source": [
    "# Find binary columns\n",
    "dL = findBinaryColumns(dfcmsc)"
   ]
  },
  {
   "cell_type": "code",
   "execution_count": 168,
   "metadata": {},
   "outputs": [],
   "source": [
    "# Save non-OH dataset\n",
    "dfcmsc.to_csv(\"./data/CMSC.csv\", index=False)"
   ]
  },
  {
   "cell_type": "code",
   "execution_count": 169,
   "metadata": {},
   "outputs": [],
   "source": [
    "# Generate Normalized version of data\n",
    "dfcmscNORM = dfcmsc.copy()\n",
    "dfcmscNORM.loc[:,:18] = scaler.fit_transform(dfcmscNORM.drop(columns=[\"output\"]))\n",
    "pickle.dump(scaler, open(f'./scalers/CMSC.sc', 'wb'))"
   ]
  },
  {
   "cell_type": "code",
   "execution_count": 170,
   "metadata": {},
   "outputs": [],
   "source": [
    "# Save normalized data\n",
    "dfcmscNORM.to_csv(\"./data/NORM_CMSC.csv\", index=False)"
   ]
  },
  {
   "cell_type": "code",
   "execution_count": 171,
   "metadata": {},
   "outputs": [],
   "source": [
    "###########################################################################"
   ]
  },
  {
   "cell_type": "code",
   "execution_count": 172,
   "metadata": {},
   "outputs": [],
   "source": [
    "# MAGIC GT - all numerical"
   ]
  },
  {
   "cell_type": "code",
   "execution_count": 173,
   "metadata": {},
   "outputs": [],
   "source": [
    "# Read raw data\n",
    "dfmagt = pd.read_csv(\"./rawData/magic04.data\", header=None)"
   ]
  },
  {
   "cell_type": "code",
   "execution_count": 174,
   "metadata": {},
   "outputs": [
    {
     "name": "stdout",
     "output_type": "stream",
     "text": [
      "10\n"
     ]
    }
   ],
   "source": [
    "# Verify columns with non-numeric entries\n",
    "verifyCell(dfmagt)"
   ]
  },
  {
   "cell_type": "code",
   "execution_count": 175,
   "metadata": {},
   "outputs": [],
   "source": [
    "# No columns to be deleted"
   ]
  },
  {
   "cell_type": "code",
   "execution_count": 176,
   "metadata": {},
   "outputs": [],
   "source": [
    "# Define output row\n",
    "dfmagt[10] = dfmagt[10].map({\"g\":0, \"h\":1})\n",
    "dfmagt.rename(columns={10: \"output\"}, inplace=True)"
   ]
  },
  {
   "cell_type": "code",
   "execution_count": 177,
   "metadata": {},
   "outputs": [],
   "source": [
    "# Rename and Reorder columns\n",
    "dfmagt = renameReorderNonOH(dfmagt)"
   ]
  },
  {
   "cell_type": "code",
   "execution_count": 178,
   "metadata": {},
   "outputs": [
    {
     "name": "stdout",
     "output_type": "stream",
     "text": [
      "output [0 1]\n",
      "['output']\n"
     ]
    }
   ],
   "source": [
    "# Find binary columns\n",
    "dL = findBinaryColumns(dfmagt)"
   ]
  },
  {
   "cell_type": "code",
   "execution_count": 179,
   "metadata": {},
   "outputs": [],
   "source": [
    "# Save non-OH dataset\n",
    "dfmagt.to_csv(\"./data/MagicGT.csv\", index=False)"
   ]
  },
  {
   "cell_type": "code",
   "execution_count": 180,
   "metadata": {},
   "outputs": [],
   "source": [
    "# Generate Normalized version of data\n",
    "dfmagtNORM = dfmagt.copy()\n",
    "dfmagtNORM.loc[:,:10] = scaler.fit_transform(dfmagtNORM.drop(columns=[\"output\"]))\n",
    "pickle.dump(scaler, open(f'./scalers/MagicGT.sc', 'wb'))"
   ]
  },
  {
   "cell_type": "code",
   "execution_count": 181,
   "metadata": {},
   "outputs": [],
   "source": [
    "# Save normalized data\n",
    "dfmagtNORM.to_csv(\"./data/NORM_MagicGT.csv\", index=False)"
   ]
  },
  {
   "cell_type": "code",
   "execution_count": 182,
   "metadata": {},
   "outputs": [],
   "source": [
    "###########################################################################"
   ]
  },
  {
   "cell_type": "code",
   "execution_count": 183,
   "metadata": {},
   "outputs": [],
   "source": [
    "# Wine - all numerical"
   ]
  },
  {
   "cell_type": "code",
   "execution_count": 184,
   "metadata": {},
   "outputs": [],
   "source": [
    "# Read raw data\n",
    "dfwin = pd.read_csv(\"./rawData/wine.data\", header=None)"
   ]
  },
  {
   "cell_type": "code",
   "execution_count": 185,
   "metadata": {},
   "outputs": [],
   "source": [
    "# Verify columns with non-numeric entries\n",
    "verifyCell(dfwin)"
   ]
  },
  {
   "cell_type": "code",
   "execution_count": 186,
   "metadata": {},
   "outputs": [],
   "source": [
    "# No columns to be deleted"
   ]
  },
  {
   "cell_type": "code",
   "execution_count": 187,
   "metadata": {},
   "outputs": [],
   "source": [
    "# Define output row\n",
    "dfwin.rename(columns={0: \"output\"}, inplace=True)"
   ]
  },
  {
   "cell_type": "code",
   "execution_count": 188,
   "metadata": {},
   "outputs": [],
   "source": [
    "# Rename and Reorder columns\n",
    "dfwin = renameReorderNonOH(dfwin)"
   ]
  },
  {
   "cell_type": "code",
   "execution_count": 189,
   "metadata": {},
   "outputs": [
    {
     "name": "stdout",
     "output_type": "stream",
     "text": [
      "[]\n"
     ]
    }
   ],
   "source": [
    "# Find binary columns\n",
    "dL = findBinaryColumns(dfwin)"
   ]
  },
  {
   "cell_type": "code",
   "execution_count": 190,
   "metadata": {},
   "outputs": [],
   "source": [
    "# Save non-OH dataset\n",
    "dfwin.to_csv(\"./data/Wine.csv\", index=False)"
   ]
  },
  {
   "cell_type": "code",
   "execution_count": 191,
   "metadata": {},
   "outputs": [],
   "source": [
    "# Generate Normalized version of data\n",
    "dfwinNORM = dfwin.copy()\n",
    "dfwinNORM.loc[:,:13] = scaler.fit_transform(dfwinNORM.drop(columns=[\"output\"]))\n",
    "pickle.dump(scaler, open(f'./scalers/Wine.sc', 'wb'))"
   ]
  },
  {
   "cell_type": "code",
   "execution_count": 192,
   "metadata": {},
   "outputs": [],
   "source": [
    "# Save normalized data\n",
    "dfwinNORM.to_csv(\"./data/NORM_Wine.csv\", index=False)"
   ]
  },
  {
   "cell_type": "code",
   "execution_count": 193,
   "metadata": {},
   "outputs": [],
   "source": [
    "###########################################################################"
   ]
  },
  {
   "cell_type": "code",
   "execution_count": 194,
   "metadata": {},
   "outputs": [],
   "source": [
    "# Default of CCC\n",
    "# After Clean:\n",
    "# Numerical [0, 4, 11, 12, 13, 14, 15, 16, 17, 18, 19, 20, 21, 22]\n",
    "# Categorical [1, 2, 3, 5, 6, 7, 8, 9, 10]"
   ]
  },
  {
   "cell_type": "code",
   "execution_count": 195,
   "metadata": {},
   "outputs": [],
   "source": [
    "# Read raw data\n",
    "dfdccc = pd.read_excel(\"./rawData/default of credit card clients.xls\", header=None).drop(columns=[0])\n",
    "dfdccc = dfdccc.drop([0,1])\n",
    "dfdccc = dfdccc.reset_index(drop=True)\n",
    "dfdccc.columns = [*range(dfdccc.shape[1])]"
   ]
  },
  {
   "cell_type": "code",
   "execution_count": 196,
   "metadata": {},
   "outputs": [],
   "source": [
    "# Create and rename columns of Numerical DF\n",
    "dfdcccNUM = dfdccc[[0, 4, 11, 12, 13, 14, 15, 16, 17, 18, 19, 20, 21, 22]].copy()\n",
    "dfdcccNUM.columns = [*range(dfdcccNUM.shape[1])]"
   ]
  },
  {
   "cell_type": "code",
   "execution_count": 197,
   "metadata": {},
   "outputs": [],
   "source": [
    "# Create and remane columns of Categorical DF\n",
    "dfdcccCAT = dfdccc[[1, 2, 3, 5, 6, 7, 8, 9, 10]].copy()\n",
    "dfdcccCAT.columns = [*range(dfdcccCAT.shape[1])]"
   ]
  },
  {
   "cell_type": "code",
   "execution_count": 198,
   "metadata": {},
   "outputs": [],
   "source": [
    "# Create output column\n",
    "dfdccc.rename(columns={23: \"output\"}, inplace=True)\n",
    "dfdcccOUT = dfdccc[\"output\"].copy()"
   ]
  },
  {
   "cell_type": "code",
   "execution_count": 199,
   "metadata": {},
   "outputs": [],
   "source": [
    "# Treat Numerical Variables"
   ]
  },
  {
   "cell_type": "code",
   "execution_count": 200,
   "metadata": {},
   "outputs": [],
   "source": [
    "# Verify columns with non-numeric entries\n",
    "verifyCell(dfdcccNUM)"
   ]
  },
  {
   "cell_type": "code",
   "execution_count": 201,
   "metadata": {},
   "outputs": [],
   "source": [
    "# No columns to be deleted"
   ]
  },
  {
   "cell_type": "code",
   "execution_count": 202,
   "metadata": {},
   "outputs": [
    {
     "name": "stdout",
     "output_type": "stream",
     "text": [
      "Warning: No output was found\n"
     ]
    }
   ],
   "source": [
    "# Rename and Reorder columns, no output was found because it's separated in another variable\n",
    "dfdcccNUM = renameReorderNonOH(dfdcccNUM)"
   ]
  },
  {
   "cell_type": "code",
   "execution_count": 203,
   "metadata": {},
   "outputs": [
    {
     "name": "stdout",
     "output_type": "stream",
     "text": [
      "[]\n"
     ]
    }
   ],
   "source": [
    "# Find binary columns\n",
    "dL = findBinaryColumns(dfdcccNUM)"
   ]
  },
  {
   "cell_type": "code",
   "execution_count": 204,
   "metadata": {},
   "outputs": [],
   "source": [
    "# Save non-OH dataset"
   ]
  },
  {
   "cell_type": "code",
   "execution_count": 205,
   "metadata": {},
   "outputs": [],
   "source": [
    "# Generate Normalized version of data\n",
    "dfdcccNUM_NORM = dfdcccNUM.copy()\n",
    "dfdcccNUM_NORM.loc[:,:14] = scaler.fit_transform(dfdcccNUM_NORM)\n",
    "pickle.dump(scaler, open(f'./scalers/DefaultOfCCC.sc', 'wb'))"
   ]
  },
  {
   "cell_type": "code",
   "execution_count": 206,
   "metadata": {},
   "outputs": [],
   "source": [
    "# Treat Categorical Variables"
   ]
  },
  {
   "cell_type": "code",
   "execution_count": 207,
   "metadata": {},
   "outputs": [],
   "source": [
    "# Rename and Reorder columns"
   ]
  },
  {
   "cell_type": "code",
   "execution_count": 208,
   "metadata": {},
   "outputs": [
    {
     "name": "stdout",
     "output_type": "stream",
     "text": [
      "0 [2 1]\n",
      "[0]\n"
     ]
    }
   ],
   "source": [
    "dL = findBinaryColumns(dfdcccCAT)"
   ]
  },
  {
   "cell_type": "code",
   "execution_count": 209,
   "metadata": {},
   "outputs": [],
   "source": [
    "dfdcccCAT[0] = dfdcccCAT[0].map({1:0, 2:1})"
   ]
  },
  {
   "cell_type": "code",
   "execution_count": 210,
   "metadata": {},
   "outputs": [
    {
     "name": "stdout",
     "output_type": "stream",
     "text": [
      "0 [1 0]\n",
      "[0]\n"
     ]
    }
   ],
   "source": [
    "dL = findBinaryColumns(dfdcccCAT)"
   ]
  },
  {
   "cell_type": "code",
   "execution_count": 211,
   "metadata": {},
   "outputs": [],
   "source": [
    "# Generate OH version of DS\n",
    "dfdcccCAT_OH = pd.get_dummies(dfdcccCAT, columns=getNoBinaryOut(dfdcccCAT, dL))"
   ]
  },
  {
   "cell_type": "code",
   "execution_count": 212,
   "metadata": {},
   "outputs": [
    {
     "name": "stdout",
     "output_type": "stream",
     "text": [
      "Warning: No output was found\n"
     ]
    }
   ],
   "source": [
    "# Rename and Reorder columns, no output was found because it's separated in another variable\n",
    "dfdcccCAT_OH = renameReorderOH(dfdcccCAT_OH)"
   ]
  },
  {
   "cell_type": "code",
   "execution_count": 213,
   "metadata": {},
   "outputs": [],
   "source": [
    "# Rename Numerical columns to not have repeated column names\n",
    "dfdcccNUM.columns = [c+dfdcccCAT.shape[1] for c in range(dfdcccNUM.shape[1])]\n",
    "dfdcccNUM_NORM.columns = [c+dfdcccCAT.shape[1] for c in range(dfdcccNUM_NORM.shape[1])]"
   ]
  },
  {
   "cell_type": "code",
   "execution_count": 214,
   "metadata": {},
   "outputs": [],
   "source": [
    "# Create non-treated dataset\n",
    "pd.concat([dfdcccCAT, dfdcccNUM, dfdcccOUT], axis=1).to_csv(\"./data/DefaultOfCCC.csv\", index=False)"
   ]
  },
  {
   "cell_type": "code",
   "execution_count": 215,
   "metadata": {},
   "outputs": [],
   "source": [
    "# Create treated datasets\n",
    "pd.concat([dfdcccCAT_OH, dfdcccNUM, dfdcccOUT], axis=1).to_csv(\"./data/OH_DefaultOfCCC.csv\", index=False)\n",
    "pd.concat([dfdcccCAT, dfdcccNUM_NORM, dfdcccOUT], axis=1).to_csv(\"./data/NORM_DefaultOfCCC.csv\", index=False)\n",
    "pd.concat([dfdcccCAT_OH, dfdcccNUM_NORM, dfdcccOUT], axis=1).to_csv(\"./data/OH_NORM_DefaultOfCCC.csv\", index=False)"
   ]
  },
  {
   "cell_type": "code",
   "execution_count": 216,
   "metadata": {},
   "outputs": [],
   "source": [
    "###########################################################################"
   ]
  },
  {
   "cell_type": "code",
   "execution_count": 217,
   "metadata": {},
   "outputs": [],
   "source": [
    "# Student Performance (Port)\n",
    "# After Clean:\n",
    "# Numerical [2, 6, 7, 12, 13, 14, 23, 24, 25, 26, 27, 28, 29]\n",
    "# Categorical [0, 1, 3, 4, 5, 8, 9, 10, 11, 15, 16, 17, 18, 19, 20, 21, 22]"
   ]
  },
  {
   "cell_type": "code",
   "execution_count": 218,
   "metadata": {},
   "outputs": [],
   "source": [
    "# Read raw data\n",
    "dfspp = pd.read_csv(\"./rawData/student-por.csv\", sep=\";\")\n",
    "dfspp = dfspp.drop(columns=[\"G1\", \"G2\"])\n",
    "dfspp[\"G3\"] = dfspp[\"G3\"].map(lambda x: int(x > dfspp[\"G3\"].mean()))\n",
    "dfspp.columns = [*range(dfspp.shape[1])]"
   ]
  },
  {
   "cell_type": "code",
   "execution_count": 219,
   "metadata": {},
   "outputs": [],
   "source": [
    "# Create and rename columns of Numerical DF\n",
    "dfsppNUM = dfspp[[2, 6, 7, 12, 13, 14, 23, 24, 25, 26, 27, 28, 29]].copy()\n",
    "dfsppNUM.columns = [*range(dfsppNUM.shape[1])]"
   ]
  },
  {
   "cell_type": "code",
   "execution_count": 220,
   "metadata": {},
   "outputs": [],
   "source": [
    "# Create and remane columns of Categorical DF\n",
    "dfsppCAT = dfspp[[0, 1, 3, 4, 5, 8, 9, 10, 11, 15, 16, 17, 18, 19, 20, 21, 22]].copy()\n",
    "dfsppCAT.columns = [*range(dfsppCAT.shape[1])]"
   ]
  },
  {
   "cell_type": "code",
   "execution_count": 221,
   "metadata": {},
   "outputs": [],
   "source": [
    "# Create output column\n",
    "dfspp.rename(columns={30: \"output\"}, inplace=True)\n",
    "dfsppOUT = dfspp[\"output\"].copy()"
   ]
  },
  {
   "cell_type": "code",
   "execution_count": 222,
   "metadata": {},
   "outputs": [],
   "source": [
    "# Treat Numerical Variables"
   ]
  },
  {
   "cell_type": "code",
   "execution_count": 223,
   "metadata": {},
   "outputs": [],
   "source": [
    "# Verify columns with non-numeric entries\n",
    "verifyCell(dfsppNUM)"
   ]
  },
  {
   "cell_type": "code",
   "execution_count": 224,
   "metadata": {},
   "outputs": [],
   "source": [
    "# Delete columns without all numbers, except output"
   ]
  },
  {
   "cell_type": "code",
   "execution_count": 225,
   "metadata": {},
   "outputs": [
    {
     "name": "stdout",
     "output_type": "stream",
     "text": [
      "Warning: No output was found\n"
     ]
    }
   ],
   "source": [
    "# Rename and Reorder columns, no output was found because it's separated in another variable\n",
    "dfsppNUM = renameReorderNonOH(dfsppNUM)"
   ]
  },
  {
   "cell_type": "code",
   "execution_count": 226,
   "metadata": {},
   "outputs": [
    {
     "name": "stdout",
     "output_type": "stream",
     "text": [
      "[]\n"
     ]
    }
   ],
   "source": [
    "# Find binary columns\n",
    "dL = findBinaryColumns(dfsppNUM)"
   ]
  },
  {
   "cell_type": "code",
   "execution_count": 227,
   "metadata": {},
   "outputs": [],
   "source": [
    "# Save non-OH dataset"
   ]
  },
  {
   "cell_type": "code",
   "execution_count": 228,
   "metadata": {},
   "outputs": [],
   "source": [
    "# Generate Normalized version of data\n",
    "dfsppNUM_NORM = dfsppNUM.copy()\n",
    "dfsppNUM_NORM.loc[:,:13] = scaler.fit_transform(dfsppNUM_NORM)\n",
    "pickle.dump(scaler, open(f'./scalers/StudentPerf.sc', 'wb'))"
   ]
  },
  {
   "cell_type": "code",
   "execution_count": 229,
   "metadata": {},
   "outputs": [],
   "source": [
    "# Treat Categorical Variables"
   ]
  },
  {
   "cell_type": "code",
   "execution_count": 230,
   "metadata": {},
   "outputs": [],
   "source": [
    "# Rename and Reorder columns"
   ]
  },
  {
   "cell_type": "code",
   "execution_count": 231,
   "metadata": {},
   "outputs": [
    {
     "name": "stdout",
     "output_type": "stream",
     "text": [
      "0 ['GP' 'MS']\n",
      "1 ['F' 'M']\n",
      "2 ['U' 'R']\n",
      "3 ['GT3' 'LE3']\n",
      "4 ['A' 'T']\n",
      "9 ['yes' 'no']\n",
      "10 ['no' 'yes']\n",
      "11 ['no' 'yes']\n",
      "12 ['no' 'yes']\n",
      "13 ['yes' 'no']\n",
      "14 ['yes' 'no']\n",
      "15 ['no' 'yes']\n",
      "16 ['no' 'yes']\n",
      "[0, 1, 2, 3, 4, 9, 10, 11, 12, 13, 14, 15, 16]\n"
     ]
    }
   ],
   "source": [
    "dL = findBinaryColumns(dfsppCAT)"
   ]
  },
  {
   "cell_type": "code",
   "execution_count": 232,
   "metadata": {},
   "outputs": [],
   "source": [
    "# Adjust binary variables to have only 0 and/or 1\n",
    "dfsppCAT[0] = dfsppCAT[0].map({\"GP\": 0, \"MS\":1})\n",
    "dfsppCAT[1] = dfsppCAT[1].map({\"F\": 0, \"M\":1})\n",
    "dfsppCAT[2] = dfsppCAT[2].map({\"U\": 0, \"R\":1})\n",
    "dfsppCAT[3] = dfsppCAT[3].map({\"GT3\": 0, \"LE3\":1})\n",
    "dfsppCAT[4] = dfsppCAT[4].map({\"A\": 0, \"T\":1})\n",
    "dfsppCAT[9] = dfsppCAT[9].map({\"no\": 0, \"yes\":1})\n",
    "dfsppCAT[10] = dfsppCAT[10].map({\"no\": 0, \"yes\":1})\n",
    "dfsppCAT[11] = dfsppCAT[11].map({\"no\": 0, \"yes\":1})\n",
    "dfsppCAT[12] = dfsppCAT[12].map({\"no\": 0, \"yes\":1})\n",
    "dfsppCAT[13] = dfsppCAT[13].map({\"no\": 0, \"yes\":1})\n",
    "dfsppCAT[14] = dfsppCAT[14].map({\"no\": 0, \"yes\":1})\n",
    "dfsppCAT[15] = dfsppCAT[15].map({\"no\": 0, \"yes\":1})\n",
    "dfsppCAT[16] = dfsppCAT[16].map({\"no\": 0, \"yes\":1})"
   ]
  },
  {
   "cell_type": "code",
   "execution_count": 233,
   "metadata": {},
   "outputs": [
    {
     "name": "stdout",
     "output_type": "stream",
     "text": [
      "0 [0 1]\n",
      "1 [0 1]\n",
      "2 [0 1]\n",
      "3 [0 1]\n",
      "4 [0 1]\n",
      "9 [1 0]\n",
      "10 [0 1]\n",
      "11 [0 1]\n",
      "12 [0 1]\n",
      "13 [1 0]\n",
      "14 [1 0]\n",
      "15 [0 1]\n",
      "16 [0 1]\n",
      "[0, 1, 2, 3, 4, 9, 10, 11, 12, 13, 14, 15, 16]\n"
     ]
    }
   ],
   "source": [
    "dL = findBinaryColumns(dfsppCAT)"
   ]
  },
  {
   "cell_type": "code",
   "execution_count": 234,
   "metadata": {},
   "outputs": [],
   "source": [
    "# Generate OH version of DS\n",
    "dfsppCAT_OH = pd.get_dummies(dfsppCAT, columns=getNoBinaryOut(dfsppCAT, dL))"
   ]
  },
  {
   "cell_type": "code",
   "execution_count": 235,
   "metadata": {},
   "outputs": [
    {
     "name": "stdout",
     "output_type": "stream",
     "text": [
      "Warning: No output was found\n"
     ]
    }
   ],
   "source": [
    "# Rename and Reorder columns, no output was found because it's separated in another variable\n",
    "dfsppCAT_OH = renameReorderOH(dfsppCAT_OH)"
   ]
  },
  {
   "cell_type": "code",
   "execution_count": 236,
   "metadata": {},
   "outputs": [],
   "source": [
    "# Rename Numerical columns to not have repeated column names\n",
    "dfsppNUM.columns = [c+dfsppCAT.shape[1] for c in range(dfsppNUM.shape[1])]\n",
    "dfsppNUM_NORM.columns = [c+dfsppCAT.shape[1] for c in range(dfsppNUM_NORM.shape[1])]"
   ]
  },
  {
   "cell_type": "code",
   "execution_count": 237,
   "metadata": {},
   "outputs": [],
   "source": [
    "# Create non-treated dataset\n",
    "pd.concat([dfsppCAT, dfsppNUM, dfsppOUT], axis=1).to_csv(\"./data/StudentPerf.csv\", index=False)"
   ]
  },
  {
   "cell_type": "code",
   "execution_count": 238,
   "metadata": {},
   "outputs": [],
   "source": [
    "# Create treated datasets\n",
    "pd.concat([dfsppCAT_OH, dfsppNUM, dfsppOUT], axis=1).to_csv(\"./data/OH_StudentPerf.csv\", index=False)\n",
    "pd.concat([dfsppCAT, dfsppNUM_NORM, dfsppOUT], axis=1).to_csv(\"./data/NORM_StudentPerf.csv\", index=False)\n",
    "pd.concat([dfsppCAT_OH, dfsppNUM_NORM, dfsppOUT], axis=1).to_csv(\"./data/OH_NORM_StudentPerf.csv\", index=False)"
   ]
  },
  {
   "cell_type": "code",
   "execution_count": 239,
   "metadata": {},
   "outputs": [],
   "source": [
    "###########################################################################"
   ]
  },
  {
   "cell_type": "code",
   "execution_count": 240,
   "metadata": {},
   "outputs": [],
   "source": [
    "# Adult\n",
    "# After Clean:\n",
    "# Numerical [0, 2, 4, 10, 11, 12]\n",
    "# Categorical [1, 3, 5, 6, 7, 8, 9, 13]"
   ]
  },
  {
   "cell_type": "code",
   "execution_count": 241,
   "metadata": {},
   "outputs": [],
   "source": [
    "# Read raw data\n",
    "dfadu = pd.read_csv(StringIO(re.sub(' +', '', open(\"./rawData/adult.data\").read())), header=None)\n",
    "dfadu[14] = dfadu[14].map({\"<=50K\":0, \">50K\":1})"
   ]
  },
  {
   "cell_type": "code",
   "execution_count": 242,
   "metadata": {},
   "outputs": [],
   "source": [
    "# Create and rename columns of Numerical DF\n",
    "dfaduNUM = dfadu[[0, 2, 4, 10, 11, 12]].copy()\n",
    "dfaduNUM.columns = [*range(dfaduNUM.shape[1])]"
   ]
  },
  {
   "cell_type": "code",
   "execution_count": 243,
   "metadata": {},
   "outputs": [],
   "source": [
    "# Create and remane columns of Categorical DF\n",
    "dfaduCAT = dfadu[[1, 3, 5, 6, 7, 8, 9, 13]].copy()\n",
    "dfaduCAT.columns = [*range(dfaduCAT.shape[1])]"
   ]
  },
  {
   "cell_type": "code",
   "execution_count": 244,
   "metadata": {},
   "outputs": [],
   "source": [
    "# Create output column\n",
    "dfadu.rename(columns={14: \"output\"}, inplace=True)\n",
    "dfaduOUT = dfadu[\"output\"].copy()"
   ]
  },
  {
   "cell_type": "code",
   "execution_count": 245,
   "metadata": {},
   "outputs": [],
   "source": [
    "# Treat Numerical Variables"
   ]
  },
  {
   "cell_type": "code",
   "execution_count": 246,
   "metadata": {},
   "outputs": [],
   "source": [
    "# Verify columns with non-numeric entries\n",
    "verifyCell(dfaduNUM)"
   ]
  },
  {
   "cell_type": "code",
   "execution_count": 247,
   "metadata": {},
   "outputs": [],
   "source": [
    "# Delete columns without all numbers, except output"
   ]
  },
  {
   "cell_type": "code",
   "execution_count": 248,
   "metadata": {},
   "outputs": [
    {
     "name": "stdout",
     "output_type": "stream",
     "text": [
      "Warning: No output was found\n"
     ]
    }
   ],
   "source": [
    "# Rename and Reorder columns, no output was found because it's separated in another variable\n",
    "dfaduNUM = renameReorderNonOH(dfaduNUM)"
   ]
  },
  {
   "cell_type": "code",
   "execution_count": 249,
   "metadata": {},
   "outputs": [
    {
     "name": "stdout",
     "output_type": "stream",
     "text": [
      "[]\n"
     ]
    }
   ],
   "source": [
    "# Find binary columns\n",
    "dL = findBinaryColumns(dfaduNUM)"
   ]
  },
  {
   "cell_type": "code",
   "execution_count": 250,
   "metadata": {},
   "outputs": [],
   "source": [
    "# Save non-OH dataset"
   ]
  },
  {
   "cell_type": "code",
   "execution_count": 251,
   "metadata": {},
   "outputs": [],
   "source": [
    "# Generate Normalized version of data\n",
    "dfaduNUM_NORM = dfaduNUM.copy()\n",
    "dfaduNUM_NORM.loc[:,:6] = scaler.fit_transform(dfaduNUM)\n",
    "pickle.dump(scaler, open(f'./scalers/Adult.sc', 'wb'))"
   ]
  },
  {
   "cell_type": "code",
   "execution_count": 252,
   "metadata": {},
   "outputs": [],
   "source": [
    "# Treat Categorical Variables"
   ]
  },
  {
   "cell_type": "code",
   "execution_count": 253,
   "metadata": {},
   "outputs": [],
   "source": [
    "# Rename and Reorder columns"
   ]
  },
  {
   "cell_type": "code",
   "execution_count": 254,
   "metadata": {},
   "outputs": [
    {
     "name": "stdout",
     "output_type": "stream",
     "text": [
      "6 ['Male' 'Female']\n",
      "[6]\n"
     ]
    }
   ],
   "source": [
    "dL = findBinaryColumns(dfaduCAT)"
   ]
  },
  {
   "cell_type": "code",
   "execution_count": 255,
   "metadata": {},
   "outputs": [],
   "source": [
    "# Adjust binary features to only have 0 and/or 1\n",
    "dfaduCAT[6] = dfaduCAT[6].map({\"Male\":0, \"Female\":1})"
   ]
  },
  {
   "cell_type": "code",
   "execution_count": 256,
   "metadata": {},
   "outputs": [
    {
     "name": "stdout",
     "output_type": "stream",
     "text": [
      "6 [0 1]\n",
      "[6]\n"
     ]
    }
   ],
   "source": [
    "dL = findBinaryColumns(dfaduCAT)"
   ]
  },
  {
   "cell_type": "code",
   "execution_count": 257,
   "metadata": {},
   "outputs": [],
   "source": [
    "# Generate OH version of DS\n",
    "dfaduCAT_OH = pd.get_dummies(dfaduCAT, columns=getNoBinaryOut(dfaduCAT, dL))"
   ]
  },
  {
   "cell_type": "code",
   "execution_count": 258,
   "metadata": {},
   "outputs": [
    {
     "name": "stdout",
     "output_type": "stream",
     "text": [
      "Warning: No output was found\n"
     ]
    }
   ],
   "source": [
    "# Rename and Reorder columns, no output was found because it's separated in another variable\n",
    "dfaduCAT_OH = renameReorderOH(dfaduCAT_OH)"
   ]
  },
  {
   "cell_type": "code",
   "execution_count": 259,
   "metadata": {},
   "outputs": [],
   "source": [
    "# Rename Numerical columns to not have repeated column names\n",
    "dfaduNUM.columns = [c+dfaduCAT.shape[1] for c in range(dfaduNUM.shape[1])]\n",
    "dfaduNUM_NORM.columns = [c+dfaduCAT.shape[1] for c in range(dfaduNUM_NORM.shape[1])]"
   ]
  },
  {
   "cell_type": "code",
   "execution_count": 260,
   "metadata": {},
   "outputs": [],
   "source": [
    "# Create non-treated dataset\n",
    "pd.concat([dfaduCAT, dfaduNUM, dfaduOUT], axis=1).to_csv(\"./data/Adult.csv\", index=False)"
   ]
  },
  {
   "cell_type": "code",
   "execution_count": 261,
   "metadata": {},
   "outputs": [],
   "source": [
    "# Create treated datasets\n",
    "pd.concat([dfaduCAT_OH, dfaduNUM, dfaduOUT], axis=1).to_csv(\"./data/OH_Adult.csv\", index=False)\n",
    "pd.concat([dfaduCAT, dfaduNUM_NORM, dfaduOUT], axis=1).to_csv(\"./data/NORM_Adult.csv\", index=False)\n",
    "pd.concat([dfaduCAT_OH, dfaduNUM_NORM, dfaduOUT], axis=1).to_csv(\"./data/OH_NORM_Adult.csv\", index=False)"
   ]
  },
  {
   "cell_type": "code",
   "execution_count": 262,
   "metadata": {},
   "outputs": [],
   "source": [
    "###########################################################################"
   ]
  },
  {
   "cell_type": "code",
   "execution_count": 263,
   "metadata": {},
   "outputs": [],
   "source": [
    "# Internet Adv.\n",
    "# After Clean:\n",
    "# Numerical [0,1,2]\n",
    "# Categorical [3:1558]"
   ]
  },
  {
   "cell_type": "code",
   "execution_count": 264,
   "metadata": {},
   "outputs": [
    {
     "name": "stderr",
     "output_type": "stream",
     "text": [
      "/home/rmazzine/anaconda3/lib/python3.8/site-packages/IPython/core/interactiveshell.py:3071: DtypeWarning: Columns (3) have mixed types.Specify dtype option on import or set low_memory=False.\n",
      "  has_raised = await self.run_ast_nodes(code_ast.body, cell_name,\n"
     ]
    }
   ],
   "source": [
    "# Read raw data\n",
    "dfiadv = pd.read_csv(\"./rawData/ad.data\", header=None)\n",
    "dfiadv[1558] = dfiadv[1558].map({\"nonad.\":0, \"ad.\":1})\n",
    "dfiadv[0] = dfiadv[0].map(lambda x: \"\".join(str(x).split()))\n",
    "dfiadv[1] = dfiadv[1].map(lambda x: \"\".join(str(x).split()))\n",
    "dfiadv[2] = dfiadv[2].map(lambda x: \"\".join(str(x).split()))\n",
    "dfiadv[3] = dfiadv[3].map(lambda x: \"\".join(str(x).split()))\n",
    "dfiadv = dfiadv[dfiadv[2].map(lambda x: not bool(re.findall(r'[^\\d\\.\\-\\ |e]', str(x))))]\n",
    "dfiadv = dfiadv[dfiadv[3].map(lambda x: not bool(re.findall(r'[^\\d\\.\\-\\ |e]', str(x))))]"
   ]
  },
  {
   "cell_type": "code",
   "execution_count": 265,
   "metadata": {},
   "outputs": [],
   "source": [
    "# Create and rename columns of Numerical DF\n",
    "dfiadvNUM = dfiadv[[0,1,2]].copy()\n",
    "dfiadvNUM.columns = [*range(dfiadvNUM.shape[1])]"
   ]
  },
  {
   "cell_type": "code",
   "execution_count": 266,
   "metadata": {},
   "outputs": [],
   "source": [
    "# Create and remane columns of Categorical DF\n",
    "dfiadvCAT = dfiadv.loc[:, 3:1557].copy()\n",
    "dfiadvCAT.columns = [*range(dfiadvCAT.shape[1])]"
   ]
  },
  {
   "cell_type": "code",
   "execution_count": 267,
   "metadata": {},
   "outputs": [],
   "source": [
    "# Create output column\n",
    "dfiadv.rename(columns={1558: \"output\"}, inplace=True)\n",
    "dfiadvOUT = dfiadv[\"output\"].copy()"
   ]
  },
  {
   "cell_type": "code",
   "execution_count": 268,
   "metadata": {},
   "outputs": [],
   "source": [
    "# Treat Numerical Variables"
   ]
  },
  {
   "cell_type": "code",
   "execution_count": 269,
   "metadata": {},
   "outputs": [],
   "source": [
    "# Verify columns with non-numeric entries\n",
    "verifyCell(dfiadvNUM)"
   ]
  },
  {
   "cell_type": "code",
   "execution_count": 270,
   "metadata": {},
   "outputs": [],
   "source": [
    "# Delete columns without all numbers, except output"
   ]
  },
  {
   "cell_type": "code",
   "execution_count": 271,
   "metadata": {},
   "outputs": [
    {
     "name": "stdout",
     "output_type": "stream",
     "text": [
      "Warning: No output was found\n"
     ]
    }
   ],
   "source": [
    "# Rename and Reorder columns, no output was found because it's separated in another variable\n",
    "dfiadvNUM = renameReorderNonOH(dfiadvNUM)"
   ]
  },
  {
   "cell_type": "code",
   "execution_count": 272,
   "metadata": {},
   "outputs": [
    {
     "name": "stdout",
     "output_type": "stream",
     "text": [
      "[]\n"
     ]
    }
   ],
   "source": [
    "# Find binary columns\n",
    "dL = findBinaryColumns(dfiadvNUM)"
   ]
  },
  {
   "cell_type": "code",
   "execution_count": 273,
   "metadata": {},
   "outputs": [],
   "source": [
    "# Save non-OH dataset"
   ]
  },
  {
   "cell_type": "code",
   "execution_count": 274,
   "metadata": {},
   "outputs": [],
   "source": [
    "# Generate Normalized version of data\n",
    "dfiadvNUM_NORM = dfiadvNUM.copy()\n",
    "dfiadvNUM_NORM.loc[:,:14] = scaler.fit_transform(dfiadvNUM_NORM)\n",
    "pickle.dump(scaler, open(f'./scalers/InternetAdv.sc', 'wb'))"
   ]
  },
  {
   "cell_type": "code",
   "execution_count": 275,
   "metadata": {},
   "outputs": [],
   "source": [
    "# Treat Categorical Variables"
   ]
  },
  {
   "cell_type": "code",
   "execution_count": 276,
   "metadata": {},
   "outputs": [],
   "source": [
    "# Rename and Reorder columns"
   ]
  },
  {
   "cell_type": "code",
   "execution_count": 277,
   "metadata": {},
   "outputs": [
    {
     "name": "stdout",
     "output_type": "stream",
     "text": [
      "0 ['1' '0']\n",
      "1 [0 1]\n",
      "2 [0]\n",
      "3 [0 1]\n",
      "4 [0 1]\n",
      "5 [0 1]\n",
      "6 [0 1]\n",
      "7 [0 1]\n",
      "8 [0 1]\n",
      "9 [0 1]\n",
      "10 [0]\n",
      "11 [0 1]\n",
      "12 [0 1]\n",
      "13 [0 1]\n",
      "14 [0 1]\n",
      "15 [0 1]\n",
      "16 [0 1]\n",
      "17 [0 1]\n",
      "18 [0 1]\n",
      "19 [0 1]\n",
      "20 [0 1]\n",
      "21 [0 1]\n",
      "22 [0 1]\n",
      "23 [0 1]\n",
      "24 [0 1]\n",
      "25 [0 1]\n",
      "26 [0 1]\n",
      "27 [0 1]\n",
      "28 [0 1]\n",
      "29 [0 1]\n",
      "30 [0]\n",
      "31 [0 1]\n",
      "32 [0 1]\n",
      "33 [0 1]\n",
      "34 [0 1]\n",
      "35 [0]\n",
      "36 [0 1]\n",
      "37 [0 1]\n",
      "38 [0 1]\n",
      "39 [0 1]\n",
      "40 [0 1]\n",
      "41 [0 1]\n",
      "42 [0]\n",
      "43 [0 1]\n",
      "44 [0 1]\n",
      "45 [0 1]\n",
      "46 [0 1]\n",
      "47 [0 1]\n",
      "48 [0 1]\n",
      "49 [0 1]\n",
      "50 [0 1]\n",
      "51 [0 1]\n",
      "52 [0 1]\n",
      "53 [0 1]\n",
      "54 [0 1]\n",
      "55 [0 1]\n",
      "56 [0 1]\n",
      "57 [0 1]\n",
      "58 [0]\n",
      "59 [0]\n",
      "60 [0 1]\n",
      "61 [0 1]\n",
      "62 [0 1]\n",
      "63 [0 1]\n",
      "64 [0 1]\n",
      "65 [0 1]\n",
      "66 [0 1]\n",
      "67 [0 1]\n",
      "68 [0 1]\n",
      "69 [0 1]\n",
      "70 [0 1]\n",
      "71 [0 1]\n",
      "72 [0 1]\n",
      "73 [0 1]\n",
      "74 [0]\n",
      "75 [0]\n",
      "76 [0 1]\n",
      "77 [0 1]\n",
      "78 [0 1]\n",
      "79 [0]\n",
      "80 [0 1]\n",
      "81 [0 1]\n",
      "82 [0 1]\n",
      "83 [0 1]\n",
      "84 [0 1]\n",
      "85 [0 1]\n",
      "86 [0 1]\n",
      "87 [0 1]\n",
      "88 [0 1]\n",
      "89 [0]\n",
      "90 [0 1]\n",
      "91 [0 1]\n",
      "92 [1 0]\n",
      "93 [0 1]\n",
      "94 [0 1]\n",
      "95 [0 1]\n",
      "96 [0 1]\n",
      "97 [0 1]\n",
      "98 [0 1]\n",
      "99 [0 1]\n",
      "100 [0 1]\n",
      "101 [0 1]\n",
      "102 [0 1]\n",
      "103 [0 1]\n",
      "104 [0 1]\n",
      "105 [0 1]\n",
      "106 [0 1]\n",
      "107 [0 1]\n",
      "108 [0]\n",
      "109 [0 1]\n",
      "110 [0 1]\n",
      "111 [0 1]\n",
      "112 [0]\n",
      "113 [0]\n",
      "114 [0 1]\n",
      "115 [0 1]\n",
      "116 [0 1]\n",
      "117 [0 1]\n",
      "118 [0 1]\n",
      "119 [0 1]\n",
      "120 [0 1]\n",
      "121 [0 1]\n",
      "122 [0]\n",
      "123 [0 1]\n",
      "124 [0 1]\n",
      "125 [0 1]\n",
      "126 [0 1]\n",
      "127 [0 1]\n",
      "128 [0 1]\n",
      "129 [0 1]\n",
      "130 [0 1]\n",
      "131 [0 1]\n",
      "132 [0 1]\n",
      "133 [0 1]\n",
      "134 [0 1]\n",
      "135 [0 1]\n",
      "136 [0 1]\n",
      "137 [0 1]\n",
      "138 [0 1]\n",
      "139 [0 1]\n",
      "140 [0 1]\n",
      "141 [0 1]\n",
      "142 [0 1]\n",
      "143 [0]\n",
      "144 [0 1]\n",
      "145 [0 1]\n",
      "146 [0 1]\n",
      "147 [0 1]\n",
      "148 [0 1]\n",
      "149 [0 1]\n",
      "150 [0 1]\n",
      "151 [0 1]\n",
      "152 [0 1]\n",
      "153 [0 1]\n",
      "154 [0 1]\n",
      "155 [0 1]\n",
      "156 [0 1]\n",
      "157 [0 1]\n",
      "158 [0 1]\n",
      "159 [0]\n",
      "160 [0 1]\n",
      "161 [0]\n",
      "162 [0 1]\n",
      "163 [0 1]\n",
      "164 [0 1]\n",
      "165 [0 1]\n",
      "166 [0 1]\n",
      "167 [0 1]\n",
      "168 [0 1]\n",
      "169 [0 1]\n",
      "170 [0 1]\n",
      "171 [0 1]\n",
      "172 [0 1]\n",
      "173 [0 1]\n",
      "174 [0 1]\n",
      "175 [0 1]\n",
      "176 [0]\n",
      "177 [1 0]\n",
      "178 [0 1]\n",
      "179 [0 1]\n",
      "180 [0 1]\n",
      "181 [0]\n",
      "182 [0]\n",
      "183 [0 1]\n",
      "184 [0 1]\n",
      "185 [0 1]\n",
      "186 [0 1]\n",
      "187 [0 1]\n",
      "188 [0 1]\n",
      "189 [0 1]\n",
      "190 [0 1]\n",
      "191 [0 1]\n",
      "192 [0 1]\n",
      "193 [0 1]\n",
      "194 [0 1]\n",
      "195 [0 1]\n",
      "196 [0 1]\n",
      "197 [0 1]\n",
      "198 [0 1]\n",
      "199 [0 1]\n",
      "200 [0]\n",
      "201 [0 1]\n",
      "202 [0 1]\n",
      "203 [0 1]\n",
      "204 [0]\n",
      "205 [0 1]\n",
      "206 [0 1]\n",
      "207 [0 1]\n",
      "208 [0 1]\n",
      "209 [0 1]\n",
      "210 [0 1]\n",
      "211 [0 1]\n",
      "212 [0 1]\n",
      "213 [0 1]\n",
      "214 [0 1]\n",
      "215 [0 1]\n",
      "216 [0]\n",
      "217 [0 1]\n",
      "218 [0 1]\n",
      "219 [0 1]\n",
      "220 [0 1]\n",
      "221 [0 1]\n",
      "222 [0 1]\n",
      "223 [0 1]\n",
      "224 [0 1]\n",
      "225 [0 1]\n",
      "226 [0 1]\n",
      "227 [0 1]\n",
      "228 [0 1]\n",
      "229 [0 1]\n",
      "230 [0 1]\n",
      "231 [0 1]\n",
      "232 [0 1]\n",
      "233 [0 1]\n",
      "234 [0 1]\n",
      "235 [0 1]\n",
      "236 [0 1]\n",
      "237 [0 1]\n",
      "238 [0 1]\n",
      "239 [0 1]\n",
      "240 [0 1]\n",
      "241 [0]\n",
      "242 [0 1]\n",
      "243 [0 1]\n",
      "244 [0 1]\n",
      "245 [0 1]\n",
      "246 [0 1]\n",
      "247 [0 1]\n",
      "248 [0 1]\n",
      "249 [0 1]\n",
      "250 [0 1]\n",
      "251 [0 1]\n",
      "252 [0]\n",
      "253 [0 1]\n",
      "254 [0 1]\n",
      "255 [0 1]\n",
      "256 [0 1]\n",
      "257 [0 1]\n",
      "258 [0]\n",
      "259 [0 1]\n",
      "260 [0 1]\n",
      "261 [0 1]\n",
      "262 [0 1]\n",
      "263 [0]\n",
      "264 [0 1]\n",
      "265 [0 1]\n",
      "266 [1 0]\n",
      "267 [0 1]\n",
      "268 [0 1]\n",
      "269 [0 1]\n",
      "270 [0 1]\n",
      "271 [0 1]\n",
      "272 [0 1]\n",
      "273 [0 1]\n",
      "274 [0]\n",
      "275 [1 0]\n",
      "276 [0]\n",
      "277 [0]\n",
      "278 [0 1]\n",
      "279 [0 1]\n",
      "280 [0]\n",
      "281 [0 1]\n",
      "282 [0 1]\n",
      "283 [0 1]\n",
      "284 [0 1]\n",
      "285 [0 1]\n",
      "286 [0]\n",
      "287 [0 1]\n",
      "288 [0 1]\n",
      "289 [0 1]\n",
      "290 [0 1]\n",
      "291 [0 1]\n",
      "292 [0 1]\n",
      "293 [0 1]\n",
      "294 [0 1]\n",
      "295 [0 1]\n",
      "296 [0 1]\n",
      "297 [0 1]\n",
      "298 [0 1]\n",
      "299 [0 1]\n",
      "300 [0 1]\n",
      "301 [0 1]\n",
      "302 [0 1]\n",
      "303 [0 1]\n",
      "304 [0 1]\n",
      "305 [0]\n",
      "306 [0 1]\n",
      "307 [0 1]\n",
      "308 [0 1]\n",
      "309 [0 1]\n",
      "310 [0 1]\n",
      "311 [0]\n",
      "312 [0 1]\n",
      "313 [0 1]\n",
      "314 [0 1]\n",
      "315 [0 1]\n",
      "316 [0 1]\n",
      "317 [0 1]\n",
      "318 [0 1]\n",
      "319 [0 1]\n",
      "320 [0 1]\n",
      "321 [0 1]\n",
      "322 [0 1]\n",
      "323 [0 1]\n",
      "324 [0 1]\n",
      "325 [0 1]\n",
      "326 [0 1]\n",
      "327 [0 1]\n",
      "328 [0 1]\n",
      "329 [0 1]\n",
      "330 [0 1]\n",
      "331 [0 1]\n",
      "332 [0]\n",
      "333 [0 1]\n",
      "334 [0 1]\n",
      "335 [0 1]\n",
      "336 [0 1]\n",
      "337 [0 1]\n",
      "338 [0 1]\n",
      "339 [0 1]\n",
      "340 [0 1]\n",
      "341 [0 1]\n",
      "342 [0 1]\n",
      "343 [0 1]\n",
      "344 [0 1]\n",
      "345 [0 1]\n",
      "346 [0 1]\n",
      "347 [0 1]\n",
      "348 [0 1]\n",
      "349 [0 1]\n",
      "350 [0]\n",
      "351 [0 1]\n",
      "352 [0 1]\n",
      "353 [0 1]\n",
      "354 [0 1]\n",
      "355 [0 1]\n",
      "356 [0 1]\n",
      "357 [0 1]\n",
      "358 [0 1]\n",
      "359 [0 1]\n",
      "360 [0 1]\n",
      "361 [0 1]\n",
      "362 [0 1]\n",
      "363 [0 1]\n",
      "364 [0 1]\n",
      "365 [0 1]\n",
      "366 [1 0]\n",
      "367 [0 1]\n",
      "368 [0 1]\n",
      "369 [0 1]\n",
      "370 [0 1]\n",
      "371 [0 1]\n",
      "372 [0 1]\n",
      "373 [0 1]\n",
      "374 [0 1]\n",
      "375 [0 1]\n",
      "376 [0 1]\n",
      "377 [0 1]\n",
      "378 [0 1]\n",
      "379 [0]\n",
      "380 [0 1]\n",
      "381 [0 1]\n",
      "382 [0 1]\n",
      "383 [0 1]\n",
      "384 [0]\n",
      "385 [0]\n",
      "386 [0 1]\n",
      "387 [0]\n",
      "388 [0 1]\n",
      "389 [0 1]\n",
      "390 [0 1]\n",
      "391 [0 1]\n",
      "392 [0 1]\n",
      "393 [0 1]\n",
      "394 [0 1]\n",
      "395 [1 0]\n",
      "396 [0 1]\n",
      "397 [0 1]\n",
      "398 [0 1]\n",
      "399 [0 1]\n",
      "400 [0 1]\n",
      "401 [0 1]\n",
      "402 [0 1]\n",
      "403 [0 1]\n",
      "404 [0 1]\n",
      "405 [0 1]\n",
      "406 [0 1]\n",
      "407 [0 1]\n",
      "408 [0 1]\n",
      "409 [0 1]\n",
      "410 [0]\n",
      "411 [0]\n",
      "412 [0 1]\n",
      "413 [0 1]\n",
      "414 [0 1]\n",
      "415 [0 1]\n",
      "416 [0 1]\n",
      "417 [0 1]\n",
      "418 [0]\n",
      "419 [0 1]\n",
      "420 [0 1]\n",
      "421 [0 1]\n",
      "422 [0 1]\n",
      "423 [0 1]\n",
      "424 [0 1]\n",
      "425 [0 1]\n",
      "426 [0 1]\n",
      "427 [0 1]\n",
      "428 [0 1]\n",
      "429 [0 1]\n",
      "430 [0 1]\n",
      "431 [0 1]\n",
      "432 [0 1]\n",
      "433 [0 1]\n",
      "434 [0 1]\n",
      "435 [0]\n",
      "436 [0 1]\n",
      "437 [0 1]\n",
      "438 [0 1]\n",
      "439 [0 1]\n",
      "440 [0 1]\n",
      "441 [0 1]\n",
      "442 [0 1]\n",
      "443 [0 1]\n",
      "444 [0]\n",
      "445 [0 1]\n",
      "446 [0 1]\n",
      "447 [0 1]\n",
      "448 [0 1]\n",
      "449 [0 1]\n",
      "450 [0 1]\n",
      "451 [0]\n",
      "452 [0 1]\n",
      "453 [0 1]\n",
      "454 [0 1]\n",
      "455 [0 1]\n",
      "456 [0 1]\n",
      "457 [0 1]\n",
      "458 [0 1]\n",
      "459 [0]\n",
      "460 [0 1]\n",
      "461 [0 1]\n",
      "462 [0 1]\n",
      "463 [0]\n",
      "464 [0]\n",
      "465 [0 1]\n",
      "466 [0]\n",
      "467 [0 1]\n",
      "468 [0 1]\n",
      "469 [0 1]\n",
      "470 [0 1]\n",
      "471 [0 1]\n",
      "472 [0 1]\n",
      "473 [0 1]\n",
      "474 [0 1]\n",
      "475 [0 1]\n",
      "476 [0 1]\n",
      "477 [0 1]\n",
      "478 [0 1]\n",
      "479 [0 1]\n",
      "480 [0 1]\n",
      "481 [0 1]\n",
      "482 [0 1]\n",
      "483 [0]\n",
      "484 [0]\n",
      "485 [0 1]\n",
      "486 [0 1]\n",
      "487 [0 1]\n",
      "488 [0 1]\n",
      "489 [0 1]\n",
      "490 [0 1]\n",
      "491 [0]\n",
      "492 [0 1]\n",
      "493 [0 1]\n",
      "494 [0 1]\n",
      "495 [0 1]\n",
      "496 [0 1]\n",
      "497 [0 1]\n",
      "498 [0 1]\n",
      "499 [0 1]\n",
      "500 [0 1]\n",
      "501 [0 1]\n",
      "502 [0 1]\n",
      "503 [0 1]\n",
      "504 [0 1]\n",
      "505 [0 1]\n",
      "506 [0 1]\n",
      "507 [0 1]\n",
      "508 [0 1]\n",
      "509 [0 1]\n",
      "510 [0 1]\n",
      "511 [0 1]\n",
      "512 [0 1]\n",
      "513 [0 1]\n",
      "514 [0 1]\n",
      "515 [0 1]\n",
      "516 [0 1]\n",
      "517 [0 1]\n",
      "518 [0 1]\n",
      "519 [0 1]\n",
      "520 [0 1]\n",
      "521 [0 1]\n",
      "522 [0 1]\n",
      "523 [0 1]\n",
      "524 [0 1]\n",
      "525 [0 1]\n",
      "526 [0 1]\n",
      "527 [0 1]\n",
      "528 [0 1]\n",
      "529 [0 1]\n",
      "530 [0 1]\n",
      "531 [0 1]\n",
      "532 [0 1]\n",
      "533 [0 1]\n",
      "534 [0 1]\n",
      "535 [0 1]\n",
      "536 [0 1]\n",
      "537 [0 1]\n",
      "538 [0 1]\n",
      "539 [0 1]\n",
      "540 [0]\n",
      "541 [0 1]\n",
      "542 [0 1]\n",
      "543 [0 1]\n",
      "544 [0 1]\n",
      "545 [0 1]\n",
      "546 [0 1]\n",
      "547 [0 1]\n",
      "548 [0 1]\n",
      "549 [0]\n",
      "550 [0 1]\n",
      "551 [0 1]\n",
      "552 [0 1]\n",
      "553 [0 1]\n",
      "554 [0 1]\n",
      "555 [0 1]\n",
      "556 [0 1]\n",
      "557 [0 1]\n",
      "558 [0 1]\n",
      "559 [0 1]\n",
      "560 [0 1]\n",
      "561 [0 1]\n",
      "562 [0 1]\n",
      "563 [0 1]\n",
      "564 [0 1]\n",
      "565 [0 1]\n",
      "566 [0]\n",
      "567 [0 1]\n",
      "568 [0 1]\n",
      "569 [0 1]\n",
      "570 [0 1]\n",
      "571 [0 1]\n",
      "572 [0 1]\n",
      "573 [0 1]\n",
      "574 [0]\n",
      "575 [0]\n",
      "576 [0 1]\n",
      "577 [0 1]\n",
      "578 [0]\n",
      "579 [0 1]\n",
      "580 [0 1]\n",
      "581 [0 1]\n",
      "582 [0 1]\n",
      "583 [0 1]\n",
      "584 [0 1]\n",
      "585 [0 1]\n",
      "586 [0 1]\n",
      "587 [0 1]\n",
      "588 [0 1]\n",
      "589 [0 1]\n",
      "590 [0 1]\n",
      "591 [0 1]\n",
      "592 [0]\n",
      "593 [0 1]\n",
      "594 [0 1]\n",
      "595 [0 1]\n",
      "596 [0 1]\n",
      "597 [0 1]\n",
      "598 [0 1]\n",
      "599 [0 1]\n",
      "600 [0 1]\n",
      "601 [0 1]\n",
      "602 [0 1]\n",
      "603 [0]\n",
      "604 [0 1]\n",
      "605 [0 1]\n",
      "606 [0 1]\n",
      "607 [0 1]\n",
      "608 [0 1]\n",
      "609 [0 1]\n",
      "610 [0 1]\n",
      "611 [0 1]\n",
      "612 [0 1]\n",
      "613 [0 1]\n",
      "614 [0 1]\n",
      "615 [0 1]\n",
      "616 [0 1]\n",
      "617 [0 1]\n",
      "618 [0 1]\n",
      "619 [0 1]\n",
      "620 [0 1]\n",
      "621 [0 1]\n",
      "622 [0 1]\n",
      "623 [0 1]\n",
      "624 [0 1]\n",
      "625 [0 1]\n",
      "626 [0]\n",
      "627 [0 1]\n",
      "628 [0 1]\n",
      "629 [0]\n",
      "630 [0 1]\n",
      "631 [0 1]\n",
      "632 [0 1]\n",
      "633 [0 1]\n",
      "634 [0 1]\n",
      "635 [0 1]\n",
      "636 [0 1]\n",
      "637 [0 1]\n",
      "638 [0 1]\n",
      "639 [0 1]\n",
      "640 [0 1]\n",
      "641 [0 1]\n",
      "642 [0 1]\n",
      "643 [0 1]\n",
      "644 [0 1]\n",
      "645 [0 1]\n",
      "646 [0 1]\n",
      "647 [0 1]\n",
      "648 [0 1]\n",
      "649 [0 1]\n",
      "650 [0 1]\n",
      "651 [0 1]\n",
      "652 [0 1]\n",
      "653 [0 1]\n",
      "654 [0 1]\n",
      "655 [0 1]\n",
      "656 [0 1]\n",
      "657 [0 1]\n",
      "658 [0 1]\n",
      "659 [0 1]\n",
      "660 [0 1]\n",
      "661 [0 1]\n",
      "662 [0 1]\n",
      "663 [0 1]\n",
      "664 [0]\n",
      "665 [0 1]\n",
      "666 [0 1]\n",
      "667 [0 1]\n",
      "668 [0 1]\n",
      "669 [0 1]\n",
      "670 [0 1]\n",
      "671 [0 1]\n",
      "672 [0 1]\n",
      "673 [0 1]\n",
      "674 [0 1]\n",
      "675 [0 1]\n",
      "676 [0 1]\n",
      "677 [0 1]\n",
      "678 [0 1]\n",
      "679 [0 1]\n",
      "680 [0 1]\n",
      "681 [0 1]\n",
      "682 [0 1]\n",
      "683 [0 1]\n",
      "684 [0 1]\n",
      "685 [0 1]\n",
      "686 [0 1]\n",
      "687 [0 1]\n",
      "688 [0 1]\n",
      "689 [0]\n",
      "690 [0 1]\n",
      "691 [0 1]\n",
      "692 [0 1]\n",
      "693 [0 1]\n",
      "694 [0 1]\n",
      "695 [0 1]\n",
      "696 [0 1]\n",
      "697 [0 1]\n",
      "698 [0 1]\n",
      "699 [0 1]\n",
      "700 [0 1]\n",
      "701 [0 1]\n",
      "702 [0 1]\n",
      "703 [0 1]\n",
      "704 [0 1]\n",
      "705 [0 1]\n",
      "706 [0 1]\n",
      "707 [0 1]\n",
      "708 [0 1]\n",
      "709 [0 1]\n",
      "710 [0 1]\n",
      "711 [0 1]\n",
      "712 [0 1]\n",
      "713 [0 1]\n",
      "714 [0 1]\n",
      "715 [0]\n",
      "716 [0 1]\n",
      "717 [0 1]\n",
      "718 [0 1]\n",
      "719 [0 1]\n",
      "720 [0 1]\n",
      "721 [0 1]\n",
      "722 [0 1]\n",
      "723 [0 1]\n",
      "724 [0 1]\n",
      "725 [0 1]\n",
      "726 [0 1]\n",
      "727 [0 1]\n",
      "728 [0 1]\n",
      "729 [0 1]\n",
      "730 [0 1]\n",
      "731 [0 1]\n",
      "732 [0 1]\n",
      "733 [0 1]\n",
      "734 [0]\n",
      "735 [0 1]\n",
      "736 [0 1]\n",
      "737 [0 1]\n",
      "738 [0 1]\n",
      "739 [0 1]\n",
      "740 [0 1]\n",
      "741 [0 1]\n",
      "742 [0]\n",
      "743 [0 1]\n",
      "744 [0 1]\n",
      "745 [0]\n",
      "746 [0 1]\n",
      "747 [0 1]\n",
      "748 [0 1]\n",
      "749 [0 1]\n",
      "750 [0 1]\n",
      "751 [0]\n",
      "752 [0 1]\n",
      "753 [0 1]\n",
      "754 [0 1]\n",
      "755 [0 1]\n",
      "756 [0 1]\n",
      "757 [0 1]\n",
      "758 [0 1]\n",
      "759 [0 1]\n",
      "760 [0 1]\n",
      "761 [0 1]\n",
      "762 [0 1]\n",
      "763 [0 1]\n",
      "764 [0 1]\n",
      "765 [0 1]\n",
      "766 [0 1]\n",
      "767 [0]\n",
      "768 [0 1]\n",
      "769 [0 1]\n",
      "770 [0 1]\n",
      "771 [0 1]\n",
      "772 [0 1]\n",
      "773 [0 1]\n",
      "774 [0 1]\n",
      "775 [0 1]\n",
      "776 [0 1]\n",
      "777 [0 1]\n",
      "778 [0 1]\n",
      "779 [0]\n",
      "780 [0 1]\n",
      "781 [0]\n",
      "782 [0]\n",
      "783 [0 1]\n",
      "784 [0 1]\n",
      "785 [0 1]\n",
      "786 [0 1]\n",
      "787 [0 1]\n",
      "788 [0 1]\n",
      "789 [0]\n",
      "790 [0 1]\n",
      "791 [0 1]\n",
      "792 [0 1]\n",
      "793 [0 1]\n",
      "794 [0 1]\n",
      "795 [0 1]\n",
      "796 [0 1]\n",
      "797 [0 1]\n",
      "798 [0 1]\n",
      "799 [0 1]\n",
      "800 [0 1]\n",
      "801 [0 1]\n",
      "802 [0 1]\n",
      "803 [0 1]\n",
      "804 [0 1]\n",
      "805 [0 1]\n",
      "806 [0 1]\n",
      "807 [0 1]\n",
      "808 [0 1]\n",
      "809 [0 1]\n",
      "810 [0 1]\n",
      "811 [0]\n",
      "812 [0 1]\n",
      "813 [0 1]\n",
      "814 [0 1]\n",
      "815 [0 1]\n",
      "816 [0 1]\n",
      "817 [0 1]\n",
      "818 [0 1]\n",
      "819 [0 1]\n",
      "820 [0 1]\n",
      "821 [0 1]\n",
      "822 [0 1]\n",
      "823 [0 1]\n",
      "824 [0 1]\n",
      "825 [0 1]\n",
      "826 [0 1]\n",
      "827 [0 1]\n",
      "828 [0 1]\n",
      "829 [0 1]\n",
      "830 [0 1]\n",
      "831 [0 1]\n",
      "832 [0 1]\n",
      "833 [0 1]\n",
      "834 [0 1]\n",
      "835 [0 1]\n",
      "836 [0 1]\n",
      "837 [0 1]\n",
      "838 [0 1]\n",
      "839 [0 1]\n",
      "840 [0 1]\n",
      "841 [0 1]\n",
      "842 [0 1]\n",
      "843 [0 1]\n",
      "844 [0]\n",
      "845 [0 1]\n",
      "846 [0 1]\n",
      "847 [0 1]\n",
      "848 [0 1]\n",
      "849 [0 1]\n",
      "850 [0 1]\n",
      "851 [0 1]\n",
      "852 [0 1]\n",
      "853 [0 1]\n",
      "854 [0 1]\n",
      "855 [0 1]\n",
      "856 [0 1]\n",
      "857 [0 1]\n",
      "858 [0 1]\n",
      "859 [0]\n",
      "860 [0 1]\n",
      "861 [0 1]\n",
      "862 [0 1]\n",
      "863 [0 1]\n",
      "864 [0 1]\n",
      "865 [0 1]\n",
      "866 [0 1]\n",
      "867 [0 1]\n",
      "868 [0 1]\n",
      "869 [0 1]\n",
      "870 [0 1]\n",
      "871 [0 1]\n",
      "872 [0 1]\n",
      "873 [0 1]\n",
      "874 [0 1]\n",
      "875 [0 1]\n",
      "876 [0 1]\n",
      "877 [0 1]\n",
      "878 [0 1]\n",
      "879 [0 1]\n",
      "880 [0 1]\n",
      "881 [0 1]\n",
      "882 [0 1]\n",
      "883 [0 1]\n",
      "884 [0 1]\n",
      "885 [0 1]\n",
      "886 [0 1]\n",
      "887 [0 1]\n",
      "888 [0 1]\n",
      "889 [0 1]\n",
      "890 [0]\n",
      "891 [0 1]\n",
      "892 [0 1]\n",
      "893 [0 1]\n",
      "894 [0 1]\n",
      "895 [0 1]\n",
      "896 [0 1]\n",
      "897 [0 1]\n",
      "898 [0 1]\n",
      "899 [0 1]\n",
      "900 [0 1]\n",
      "901 [0]\n",
      "902 [0 1]\n",
      "903 [0 1]\n",
      "904 [0 1]\n",
      "905 [0 1]\n",
      "906 [0 1]\n",
      "907 [0 1]\n",
      "908 [0 1]\n",
      "909 [0 1]\n",
      "910 [0 1]\n",
      "911 [0 1]\n",
      "912 [0 1]\n",
      "913 [0 1]\n",
      "914 [0 1]\n",
      "915 [0 1]\n",
      "916 [0 1]\n",
      "917 [0 1]\n",
      "918 [0 1]\n",
      "919 [0]\n",
      "920 [0 1]\n",
      "921 [0 1]\n",
      "922 [0 1]\n",
      "923 [0 1]\n",
      "924 [0 1]\n",
      "925 [0 1]\n",
      "926 [0 1]\n",
      "927 [0 1]\n",
      "928 [0 1]\n",
      "929 [0 1]\n",
      "930 [0]\n",
      "931 [0 1]\n",
      "932 [0 1]\n",
      "933 [0 1]\n",
      "934 [0 1]\n",
      "935 [0 1]\n",
      "936 [0 1]\n",
      "937 [0]\n",
      "938 [0 1]\n",
      "939 [0 1]\n",
      "940 [0 1]\n",
      "941 [0 1]\n",
      "942 [0 1]\n",
      "943 [0 1]\n",
      "944 [0 1]\n",
      "945 [0 1]\n",
      "946 [0 1]\n",
      "947 [0 1]\n",
      "948 [0 1]\n",
      "949 [0 1]\n",
      "950 [0 1]\n",
      "951 [0 1]\n",
      "952 [0 1]\n",
      "953 [0 1]\n",
      "954 [0]\n",
      "955 [0 1]\n",
      "956 [0 1]\n",
      "957 [0 1]\n",
      "958 [0 1]\n"
     ]
    },
    {
     "name": "stdout",
     "output_type": "stream",
     "text": [
      "959 [0 1]\n",
      "960 [0 1]\n",
      "961 [0 1]\n",
      "962 [0 1]\n",
      "963 [0]\n",
      "964 [0 1]\n",
      "965 [0 1]\n",
      "966 [0 1]\n",
      "967 [0 1]\n",
      "968 [0 1]\n",
      "969 [0 1]\n",
      "970 [0 1]\n",
      "971 [0 1]\n",
      "972 [0 1]\n",
      "973 [0 1]\n",
      "974 [0 1]\n",
      "975 [0 1]\n",
      "976 [0 1]\n",
      "977 [0]\n",
      "978 [0 1]\n",
      "979 [0 1]\n",
      "980 [0 1]\n",
      "981 [0 1]\n",
      "982 [0 1]\n",
      "983 [0 1]\n",
      "984 [1 0]\n",
      "985 [0]\n",
      "986 [0 1]\n",
      "987 [0 1]\n",
      "988 [0 1]\n",
      "989 [0 1]\n",
      "990 [0 1]\n",
      "991 [0 1]\n",
      "992 [0 1]\n",
      "993 [0 1]\n",
      "994 [0 1]\n",
      "995 [0 1]\n",
      "996 [0 1]\n",
      "997 [0 1]\n",
      "998 [0 1]\n",
      "999 [0 1]\n",
      "1000 [0 1]\n",
      "1001 [0 1]\n",
      "1002 [0 1]\n",
      "1003 [0 1]\n",
      "1004 [0 1]\n",
      "1005 [0 1]\n",
      "1006 [0 1]\n",
      "1007 [0 1]\n",
      "1008 [0 1]\n",
      "1009 [0]\n",
      "1010 [0 1]\n",
      "1011 [0 1]\n",
      "1012 [0 1]\n",
      "1013 [0 1]\n",
      "1014 [0 1]\n",
      "1015 [0 1]\n",
      "1016 [0 1]\n",
      "1017 [0 1]\n",
      "1018 [0 1]\n",
      "1019 [0 1]\n",
      "1020 [0 1]\n",
      "1021 [0 1]\n",
      "1022 [0 1]\n",
      "1023 [0 1]\n",
      "1024 [0 1]\n",
      "1025 [0 1]\n",
      "1026 [0 1]\n",
      "1027 [0 1]\n",
      "1028 [0 1]\n",
      "1029 [0 1]\n",
      "1030 [0]\n",
      "1031 [0]\n",
      "1032 [0 1]\n",
      "1033 [0 1]\n",
      "1034 [0]\n",
      "1035 [0 1]\n",
      "1036 [0 1]\n",
      "1037 [0 1]\n",
      "1038 [0 1]\n",
      "1039 [0 1]\n",
      "1040 [0 1]\n",
      "1041 [0 1]\n",
      "1042 [0 1]\n",
      "1043 [0 1]\n",
      "1044 [0 1]\n",
      "1045 [0 1]\n",
      "1046 [0 1]\n",
      "1047 [0 1]\n",
      "1048 [0 1]\n",
      "1049 [0 1]\n",
      "1050 [0 1]\n",
      "1051 [1 0]\n",
      "1052 [0 1]\n",
      "1053 [0 1]\n",
      "1054 [0 1]\n",
      "1055 [0 1]\n",
      "1056 [0 1]\n",
      "1057 [0 1]\n",
      "1058 [0]\n",
      "1059 [0 1]\n",
      "1060 [0 1]\n",
      "1061 [0 1]\n",
      "1062 [0 1]\n",
      "1063 [0 1]\n",
      "1064 [0 1]\n",
      "1065 [0]\n",
      "1066 [0]\n",
      "1067 [0]\n",
      "1068 [0 1]\n",
      "1069 [0 1]\n",
      "1070 [0 1]\n",
      "1071 [0 1]\n",
      "1072 [0 1]\n",
      "1073 [0 1]\n",
      "1074 [0 1]\n",
      "1075 [0 1]\n",
      "1076 [0 1]\n",
      "1077 [0 1]\n",
      "1078 [0 1]\n",
      "1079 [0 1]\n",
      "1080 [0 1]\n",
      "1081 [0 1]\n",
      "1082 [0 1]\n",
      "1083 [0 1]\n",
      "1084 [0 1]\n",
      "1085 [0 1]\n",
      "1086 [0 1]\n",
      "1087 [0 1]\n",
      "1088 [0 1]\n",
      "1089 [0 1]\n",
      "1090 [0 1]\n",
      "1091 [0 1]\n",
      "1092 [0]\n",
      "1093 [0 1]\n",
      "1094 [0 1]\n",
      "1095 [0 1]\n",
      "1096 [0 1]\n",
      "1097 [0 1]\n",
      "1098 [0 1]\n",
      "1099 [0 1]\n",
      "1100 [0 1]\n",
      "1101 [0 1]\n",
      "1102 [0 1]\n",
      "1103 [0 1]\n",
      "1104 [0]\n",
      "1105 [0 1]\n",
      "1106 [0 1]\n",
      "1107 [0 1]\n",
      "1108 [0 1]\n",
      "1109 [0 1]\n",
      "1110 [0 1]\n",
      "1111 [0]\n",
      "1112 [0 1]\n",
      "1113 [0 1]\n",
      "1114 [0 1]\n",
      "1115 [0 1]\n",
      "1116 [0 1]\n",
      "1117 [0 1]\n",
      "1118 [0 1]\n",
      "1119 [0 1]\n",
      "1120 [0 1]\n",
      "1121 [0 1]\n",
      "1122 [0 1]\n",
      "1123 [0 1]\n",
      "1124 [0]\n",
      "1125 [0 1]\n",
      "1126 [0 1]\n",
      "1127 [0 1]\n",
      "1128 [0 1]\n",
      "1129 [0 1]\n",
      "1130 [0 1]\n",
      "1131 [0 1]\n",
      "1132 [0 1]\n",
      "1133 [0 1]\n",
      "1134 [0 1]\n",
      "1135 [0 1]\n",
      "1136 [0 1]\n",
      "1137 [0 1]\n",
      "1138 [0 1]\n",
      "1139 [0]\n",
      "1140 [0 1]\n",
      "1141 [0 1]\n",
      "1142 [0 1]\n",
      "1143 [0 1]\n",
      "1144 [0 1]\n",
      "1145 [0 1]\n",
      "1146 [0 1]\n",
      "1147 [0 1]\n",
      "1148 [0]\n",
      "1149 [0 1]\n",
      "1150 [0 1]\n",
      "1151 [0 1]\n",
      "1152 [0 1]\n",
      "1153 [0 1]\n",
      "1154 [0 1]\n",
      "1155 [0 1]\n",
      "1156 [0 1]\n",
      "1157 [0 1]\n",
      "1158 [0 1]\n",
      "1159 [0 1]\n",
      "1160 [0 1]\n",
      "1161 [0 1]\n",
      "1162 [0 1]\n",
      "1163 [0 1]\n",
      "1164 [0 1]\n",
      "1165 [0 1]\n",
      "1166 [0 1]\n",
      "1167 [0 1]\n",
      "1168 [0 1]\n",
      "1169 [0 1]\n",
      "1170 [0 1]\n",
      "1171 [0 1]\n",
      "1172 [0 1]\n",
      "1173 [0 1]\n",
      "1174 [0 1]\n",
      "1175 [0 1]\n",
      "1176 [0 1]\n",
      "1177 [0 1]\n",
      "1178 [0]\n",
      "1179 [0 1]\n",
      "1180 [0 1]\n",
      "1181 [0 1]\n",
      "1182 [0 1]\n",
      "1183 [0 1]\n",
      "1184 [0 1]\n",
      "1185 [0 1]\n",
      "1186 [0 1]\n",
      "1187 [0 1]\n",
      "1188 [0 1]\n",
      "1189 [0]\n",
      "1190 [0]\n",
      "1191 [0 1]\n",
      "1192 [0 1]\n",
      "1193 [0]\n",
      "1194 [0 1]\n",
      "1195 [0 1]\n",
      "1196 [0 1]\n",
      "1197 [0 1]\n",
      "1198 [0 1]\n",
      "1199 [0]\n",
      "1200 [0 1]\n",
      "1201 [0 1]\n",
      "1202 [0 1]\n",
      "1203 [0 1]\n",
      "1204 [0 1]\n",
      "1205 [0 1]\n",
      "1206 [0 1]\n",
      "1207 [0]\n",
      "1208 [0 1]\n",
      "1209 [0]\n",
      "1210 [0 1]\n",
      "1211 [0 1]\n",
      "1212 [0 1]\n",
      "1213 [0 1]\n",
      "1214 [0 1]\n",
      "1215 [0 1]\n",
      "1216 [0 1]\n",
      "1217 [0 1]\n",
      "1218 [0 1]\n",
      "1219 [0]\n",
      "1220 [0 1]\n",
      "1221 [0 1]\n",
      "1222 [0 1]\n",
      "1223 [0 1]\n",
      "1224 [0 1]\n",
      "1225 [0 1]\n",
      "1226 [0 1]\n",
      "1227 [0 1]\n",
      "1228 [0 1]\n",
      "1229 [1 0]\n",
      "1230 [0 1]\n",
      "1231 [0 1]\n",
      "1232 [0 1]\n",
      "1233 [0 1]\n",
      "1234 [0 1]\n",
      "1235 [0 1]\n",
      "1236 [0 1]\n",
      "1237 [0 1]\n",
      "1238 [0 1]\n",
      "1239 [0]\n",
      "1240 [1 0]\n",
      "1241 [0]\n",
      "1242 [0 1]\n",
      "1243 [0]\n",
      "1244 [0 1]\n",
      "1245 [0 1]\n",
      "1246 [0]\n",
      "1247 [0 1]\n",
      "1248 [0 1]\n",
      "1249 [0 1]\n",
      "1250 [0 1]\n",
      "1251 [0 1]\n",
      "1252 [0 1]\n",
      "1253 [0 1]\n",
      "1254 [0 1]\n",
      "1255 [0 1]\n",
      "1256 [0 1]\n",
      "1257 [0 1]\n",
      "1258 [0 1]\n",
      "1259 [0 1]\n",
      "1260 [0 1]\n",
      "1261 [0 1]\n",
      "1262 [0 1]\n",
      "1263 [0 1]\n",
      "1264 [0 1]\n",
      "1265 [0]\n",
      "1266 [0 1]\n",
      "1267 [0 1]\n",
      "1268 [0 1]\n",
      "1269 [0 1]\n",
      "1270 [0 1]\n",
      "1271 [0]\n",
      "1272 [0 1]\n",
      "1273 [0 1]\n",
      "1274 [0 1]\n",
      "1275 [0 1]\n",
      "1276 [0 1]\n",
      "1277 [0 1]\n",
      "1278 [0 1]\n",
      "1279 [0 1]\n",
      "1280 [0 1]\n",
      "1281 [0 1]\n",
      "1282 [0 1]\n",
      "1283 [0]\n",
      "1284 [0 1]\n",
      "1285 [0 1]\n",
      "1286 [0 1]\n",
      "1287 [0 1]\n",
      "1288 [0 1]\n",
      "1289 [0 1]\n",
      "1290 [0 1]\n",
      "1291 [0 1]\n",
      "1292 [0 1]\n",
      "1293 [0 1]\n",
      "1294 [0 1]\n",
      "1295 [0 1]\n",
      "1296 [0 1]\n",
      "1297 [0 1]\n",
      "1298 [0]\n",
      "1299 [0 1]\n",
      "1300 [0 1]\n",
      "1301 [0 1]\n",
      "1302 [0 1]\n",
      "1303 [0 1]\n",
      "1304 [0 1]\n",
      "1305 [0 1]\n",
      "1306 [0 1]\n",
      "1307 [0 1]\n",
      "1308 [0 1]\n",
      "1309 [0 1]\n",
      "1310 [0 1]\n",
      "1311 [0 1]\n",
      "1312 [0 1]\n",
      "1313 [0 1]\n",
      "1314 [0 1]\n",
      "1315 [0 1]\n",
      "1316 [0 1]\n",
      "1317 [0 1]\n",
      "1318 [0 1]\n",
      "1319 [0 1]\n",
      "1320 [0 1]\n",
      "1321 [0 1]\n",
      "1322 [0 1]\n",
      "1323 [0 1]\n",
      "1324 [0 1]\n",
      "1325 [0 1]\n",
      "1326 [0 1]\n",
      "1327 [0 1]\n",
      "1328 [0 1]\n",
      "1329 [0]\n",
      "1330 [0 1]\n",
      "1331 [0 1]\n",
      "1332 [0 1]\n",
      "1333 [0 1]\n",
      "1334 [0 1]\n",
      "1335 [0 1]\n",
      "1336 [0 1]\n",
      "1337 [0]\n",
      "1338 [0 1]\n",
      "1339 [0 1]\n",
      "1340 [0 1]\n",
      "1341 [0 1]\n",
      "1342 [0 1]\n",
      "1343 [0 1]\n",
      "1344 [0]\n",
      "1345 [0 1]\n",
      "1346 [0 1]\n",
      "1347 [0 1]\n",
      "1348 [0 1]\n",
      "1349 [0 1]\n",
      "1350 [0 1]\n",
      "1351 [0 1]\n",
      "1352 [0 1]\n",
      "1353 [0 1]\n",
      "1354 [0 1]\n",
      "1355 [0 1]\n",
      "1356 [0 1]\n",
      "1357 [0 1]\n",
      "1358 [0 1]\n",
      "1359 [0 1]\n",
      "1360 [0 1]\n",
      "1361 [0 1]\n",
      "1362 [0 1]\n",
      "1363 [0 1]\n",
      "1364 [0 1]\n",
      "1365 [0 1]\n",
      "1366 [0 1]\n",
      "1367 [0 1]\n",
      "1368 [0 1]\n",
      "1369 [0 1]\n",
      "1370 [0 1]\n",
      "1371 [0 1]\n",
      "1372 [0 1]\n",
      "1373 [0 1]\n",
      "1374 [0 1]\n",
      "1375 [0]\n",
      "1376 [0 1]\n",
      "1377 [0 1]\n",
      "1378 [0 1]\n",
      "1379 [0 1]\n",
      "1380 [0 1]\n",
      "1381 [0 1]\n",
      "1382 [0 1]\n",
      "1383 [0 1]\n",
      "1384 [0 1]\n",
      "1385 [0 1]\n",
      "1386 [0 1]\n",
      "1387 [0 1]\n",
      "1388 [0 1]\n",
      "1389 [0 1]\n",
      "1390 [0 1]\n",
      "1391 [0 1]\n",
      "1392 [0 1]\n",
      "1393 [0 1]\n",
      "1394 [0 1]\n",
      "1395 [0 1]\n",
      "1396 [0 1]\n",
      "1397 [0 1]\n",
      "1398 [0 1]\n",
      "1399 [0 1]\n",
      "1400 [0 1]\n",
      "1401 [0 1]\n",
      "1402 [0 1]\n",
      "1403 [0]\n",
      "1404 [0]\n",
      "1405 [0 1]\n",
      "1406 [0]\n",
      "1407 [0 1]\n",
      "1408 [0 1]\n",
      "1409 [0 1]\n",
      "1410 [0 1]\n",
      "1411 [0 1]\n",
      "1412 [0 1]\n",
      "1413 [0 1]\n",
      "1414 [0 1]\n",
      "1415 [0 1]\n",
      "1416 [0]\n",
      "1417 [0 1]\n",
      "1418 [0 1]\n",
      "1419 [0 1]\n",
      "1420 [0 1]\n",
      "1421 [0 1]\n",
      "1422 [0 1]\n",
      "1423 [0]\n",
      "1424 [0 1]\n",
      "1425 [0 1]\n",
      "1426 [0 1]\n",
      "1427 [0 1]\n",
      "1428 [0 1]\n",
      "1429 [0 1]\n",
      "1430 [0 1]\n",
      "1431 [0 1]\n",
      "1432 [1 0]\n",
      "1433 [0 1]\n",
      "1434 [0 1]\n",
      "1435 [0 1]\n",
      "1436 [0 1]\n",
      "1437 [0 1]\n",
      "1438 [0 1]\n",
      "1439 [0 1]\n",
      "1440 [0 1]\n",
      "1441 [0 1]\n",
      "1442 [0 1]\n",
      "1443 [0 1]\n",
      "1444 [0 1]\n",
      "1445 [0 1]\n",
      "1446 [0 1]\n",
      "1447 [0 1]\n",
      "1448 [0 1]\n",
      "1449 [0 1]\n",
      "1450 [0 1]\n",
      "1451 [0 1]\n",
      "1452 [1 0]\n",
      "1453 [0 1]\n",
      "1454 [0 1]\n",
      "1455 [0 1]\n",
      "1456 [0 1]\n",
      "1457 [0 1]\n",
      "1458 [0 1]\n",
      "1459 [0 1]\n",
      "1460 [0 1]\n",
      "1461 [0 1]\n",
      "1462 [0 1]\n",
      "1463 [0 1]\n",
      "1464 [0 1]\n",
      "1465 [0 1]\n",
      "1466 [0 1]\n",
      "1467 [0 1]\n",
      "1468 [0 1]\n",
      "1469 [0 1]\n",
      "1470 [0 1]\n",
      "1471 [0 1]\n",
      "1472 [0 1]\n",
      "1473 [0 1]\n",
      "1474 [0 1]\n",
      "1475 [0 1]\n",
      "1476 [0 1]\n",
      "1477 [0 1]\n",
      "1478 [0 1]\n",
      "1479 [0 1]\n",
      "1480 [1 0]\n",
      "1481 [0 1]\n",
      "1482 [0 1]\n",
      "1483 [0 1]\n",
      "1484 [0 1]\n",
      "1485 [0 1]\n",
      "1486 [0 1]\n",
      "1487 [0 1]\n",
      "1488 [0 1]\n",
      "1489 [0 1]\n",
      "1490 [0 1]\n",
      "1491 [0 1]\n",
      "1492 [0 1]\n",
      "1493 [0 1]\n",
      "1494 [0 1]\n",
      "1495 [0 1]\n",
      "1496 [0 1]\n",
      "1497 [0 1]\n",
      "1498 [0 1]\n",
      "1499 [0 1]\n",
      "1500 [0 1]\n",
      "1501 [0 1]\n",
      "1502 [0 1]\n",
      "1503 [0 1]\n",
      "1504 [0 1]\n",
      "1505 [0 1]\n",
      "1506 [0 1]\n",
      "1507 [0 1]\n",
      "1508 [0 1]\n",
      "1509 [0 1]\n",
      "1510 [0 1]\n",
      "1511 [0 1]\n",
      "1512 [0 1]\n",
      "1513 [0 1]\n",
      "1514 [0 1]\n",
      "1515 [0 1]\n",
      "1516 [0 1]\n",
      "1517 [0 1]\n",
      "1518 [0 1]\n",
      "1519 [0 1]\n",
      "1520 [0 1]\n",
      "1521 [0 1]\n",
      "1522 [0 1]\n",
      "1523 [0 1]\n",
      "1524 [0 1]\n",
      "1525 [0 1]\n",
      "1526 [0 1]\n",
      "1527 [0 1]\n",
      "1528 [0 1]\n",
      "1529 [0 1]\n",
      "1530 [0 1]\n",
      "1531 [0 1]\n",
      "1532 [0 1]\n",
      "1533 [0 1]\n",
      "1534 [0 1]\n",
      "1535 [0 1]\n",
      "1536 [0 1]\n",
      "1537 [0 1]\n",
      "1538 [0 1]\n",
      "1539 [0 1]\n",
      "1540 [0]\n",
      "1541 [0 1]\n",
      "1542 [0 1]\n",
      "1543 [0 1]\n",
      "1544 [0 1]\n",
      "1545 [0 1]\n",
      "1546 [0 1]\n",
      "1547 [0 1]\n",
      "1548 [0 1]\n",
      "1549 [0 1]\n",
      "1550 [0 1]\n",
      "1551 [0 1]\n",
      "1552 [0 1]\n",
      "1553 [0 1]\n",
      "1554 [0 1]\n",
      "[0, 1, 2, 3, 4, 5, 6, 7, 8, 9, 10, 11, 12, 13, 14, 15, 16, 17, 18, 19, 20, 21, 22, 23, 24, 25, 26, 27, 28, 29, 30, 31, 32, 33, 34, 35, 36, 37, 38, 39, 40, 41, 42, 43, 44, 45, 46, 47, 48, 49, 50, 51, 52, 53, 54, 55, 56, 57, 58, 59, 60, 61, 62, 63, 64, 65, 66, 67, 68, 69, 70, 71, 72, 73, 74, 75, 76, 77, 78, 79, 80, 81, 82, 83, 84, 85, 86, 87, 88, 89, 90, 91, 92, 93, 94, 95, 96, 97, 98, 99, 100, 101, 102, 103, 104, 105, 106, 107, 108, 109, 110, 111, 112, 113, 114, 115, 116, 117, 118, 119, 120, 121, 122, 123, 124, 125, 126, 127, 128, 129, 130, 131, 132, 133, 134, 135, 136, 137, 138, 139, 140, 141, 142, 143, 144, 145, 146, 147, 148, 149, 150, 151, 152, 153, 154, 155, 156, 157, 158, 159, 160, 161, 162, 163, 164, 165, 166, 167, 168, 169, 170, 171, 172, 173, 174, 175, 176, 177, 178, 179, 180, 181, 182, 183, 184, 185, 186, 187, 188, 189, 190, 191, 192, 193, 194, 195, 196, 197, 198, 199, 200, 201, 202, 203, 204, 205, 206, 207, 208, 209, 210, 211, 212, 213, 214, 215, 216, 217, 218, 219, 220, 221, 222, 223, 224, 225, 226, 227, 228, 229, 230, 231, 232, 233, 234, 235, 236, 237, 238, 239, 240, 241, 242, 243, 244, 245, 246, 247, 248, 249, 250, 251, 252, 253, 254, 255, 256, 257, 258, 259, 260, 261, 262, 263, 264, 265, 266, 267, 268, 269, 270, 271, 272, 273, 274, 275, 276, 277, 278, 279, 280, 281, 282, 283, 284, 285, 286, 287, 288, 289, 290, 291, 292, 293, 294, 295, 296, 297, 298, 299, 300, 301, 302, 303, 304, 305, 306, 307, 308, 309, 310, 311, 312, 313, 314, 315, 316, 317, 318, 319, 320, 321, 322, 323, 324, 325, 326, 327, 328, 329, 330, 331, 332, 333, 334, 335, 336, 337, 338, 339, 340, 341, 342, 343, 344, 345, 346, 347, 348, 349, 350, 351, 352, 353, 354, 355, 356, 357, 358, 359, 360, 361, 362, 363, 364, 365, 366, 367, 368, 369, 370, 371, 372, 373, 374, 375, 376, 377, 378, 379, 380, 381, 382, 383, 384, 385, 386, 387, 388, 389, 390, 391, 392, 393, 394, 395, 396, 397, 398, 399, 400, 401, 402, 403, 404, 405, 406, 407, 408, 409, 410, 411, 412, 413, 414, 415, 416, 417, 418, 419, 420, 421, 422, 423, 424, 425, 426, 427, 428, 429, 430, 431, 432, 433, 434, 435, 436, 437, 438, 439, 440, 441, 442, 443, 444, 445, 446, 447, 448, 449, 450, 451, 452, 453, 454, 455, 456, 457, 458, 459, 460, 461, 462, 463, 464, 465, 466, 467, 468, 469, 470, 471, 472, 473, 474, 475, 476, 477, 478, 479, 480, 481, 482, 483, 484, 485, 486, 487, 488, 489, 490, 491, 492, 493, 494, 495, 496, 497, 498, 499, 500, 501, 502, 503, 504, 505, 506, 507, 508, 509, 510, 511, 512, 513, 514, 515, 516, 517, 518, 519, 520, 521, 522, 523, 524, 525, 526, 527, 528, 529, 530, 531, 532, 533, 534, 535, 536, 537, 538, 539, 540, 541, 542, 543, 544, 545, 546, 547, 548, 549, 550, 551, 552, 553, 554, 555, 556, 557, 558, 559, 560, 561, 562, 563, 564, 565, 566, 567, 568, 569, 570, 571, 572, 573, 574, 575, 576, 577, 578, 579, 580, 581, 582, 583, 584, 585, 586, 587, 588, 589, 590, 591, 592, 593, 594, 595, 596, 597, 598, 599, 600, 601, 602, 603, 604, 605, 606, 607, 608, 609, 610, 611, 612, 613, 614, 615, 616, 617, 618, 619, 620, 621, 622, 623, 624, 625, 626, 627, 628, 629, 630, 631, 632, 633, 634, 635, 636, 637, 638, 639, 640, 641, 642, 643, 644, 645, 646, 647, 648, 649, 650, 651, 652, 653, 654, 655, 656, 657, 658, 659, 660, 661, 662, 663, 664, 665, 666, 667, 668, 669, 670, 671, 672, 673, 674, 675, 676, 677, 678, 679, 680, 681, 682, 683, 684, 685, 686, 687, 688, 689, 690, 691, 692, 693, 694, 695, 696, 697, 698, 699, 700, 701, 702, 703, 704, 705, 706, 707, 708, 709, 710, 711, 712, 713, 714, 715, 716, 717, 718, 719, 720, 721, 722, 723, 724, 725, 726, 727, 728, 729, 730, 731, 732, 733, 734, 735, 736, 737, 738, 739, 740, 741, 742, 743, 744, 745, 746, 747, 748, 749, 750, 751, 752, 753, 754, 755, 756, 757, 758, 759, 760, 761, 762, 763, 764, 765, 766, 767, 768, 769, 770, 771, 772, 773, 774, 775, 776, 777, 778, 779, 780, 781, 782, 783, 784, 785, 786, 787, 788, 789, 790, 791, 792, 793, 794, 795, 796, 797, 798, 799, 800, 801, 802, 803, 804, 805, 806, 807, 808, 809, 810, 811, 812, 813, 814, 815, 816, 817, 818, 819, 820, 821, 822, 823, 824, 825, 826, 827, 828, 829, 830, 831, 832, 833, 834, 835, 836, 837, 838, 839, 840, 841, 842, 843, 844, 845, 846, 847, 848, 849, 850, 851, 852, 853, 854, 855, 856, 857, 858, 859, 860, 861, 862, 863, 864, 865, 866, 867, 868, 869, 870, 871, 872, 873, 874, 875, 876, 877, 878, 879, 880, 881, 882, 883, 884, 885, 886, 887, 888, 889, 890, 891, 892, 893, 894, 895, 896, 897, 898, 899, 900, 901, 902, 903, 904, 905, 906, 907, 908, 909, 910, 911, 912, 913, 914, 915, 916, 917, 918, 919, 920, 921, 922, 923, 924, 925, 926, 927, 928, 929, 930, 931, 932, 933, 934, 935, 936, 937, 938, 939, 940, 941, 942, 943, 944, 945, 946, 947, 948, 949, 950, 951, 952, 953, 954, 955, 956, 957, 958, 959, 960, 961, 962, 963, 964, 965, 966, 967, 968, 969, 970, 971, 972, 973, 974, 975, 976, 977, 978, 979, 980, 981, 982, 983, 984, 985, 986, 987, 988, 989, 990, 991, 992, 993, 994, 995, 996, 997, 998, 999, 1000, 1001, 1002, 1003, 1004, 1005, 1006, 1007, 1008, 1009, 1010, 1011, 1012, 1013, 1014, 1015, 1016, 1017, 1018, 1019, 1020, 1021, 1022, 1023, 1024, 1025, 1026, 1027, 1028, 1029, 1030, 1031, 1032, 1033, 1034, 1035, 1036, 1037, 1038, 1039, 1040, 1041, 1042, 1043, 1044, 1045, 1046, 1047, 1048, 1049, 1050, 1051, 1052, 1053, 1054, 1055, 1056, 1057, 1058, 1059, 1060, 1061, 1062, 1063, 1064, 1065, 1066, 1067, 1068, 1069, 1070, 1071, 1072, 1073, 1074, 1075, 1076, 1077, 1078, 1079, 1080, 1081, 1082, 1083, 1084, 1085, 1086, 1087, 1088, 1089, 1090, 1091, 1092, 1093, 1094, 1095, 1096, 1097, 1098, 1099, 1100, 1101, 1102, 1103, 1104, 1105, 1106, 1107, 1108, 1109, 1110, 1111, 1112, 1113, 1114, 1115, 1116, 1117, 1118, 1119, 1120, 1121, 1122, 1123, 1124, 1125, 1126, 1127, 1128, 1129, 1130, 1131, 1132, 1133, 1134, 1135, 1136, 1137, 1138, 1139, 1140, 1141, 1142, 1143, 1144, 1145, 1146, 1147, 1148, 1149, 1150, 1151, 1152, 1153, 1154, 1155, 1156, 1157, 1158, 1159, 1160, 1161, 1162, 1163, 1164, 1165, 1166, 1167, 1168, 1169, 1170, 1171, 1172, 1173, 1174, 1175, 1176, 1177, 1178, 1179, 1180, 1181, 1182, 1183, 1184, 1185, 1186, 1187, 1188, 1189, 1190, 1191, 1192, 1193, 1194, 1195, 1196, 1197, 1198, 1199, 1200, 1201, 1202, 1203, 1204, 1205, 1206, 1207, 1208, 1209, 1210, 1211, 1212, 1213, 1214, 1215, 1216, 1217, 1218, 1219, 1220, 1221, 1222, 1223, 1224, 1225, 1226, 1227, 1228, 1229, 1230, 1231, 1232, 1233, 1234, 1235, 1236, 1237, 1238, 1239, 1240, 1241, 1242, 1243, 1244, 1245, 1246, 1247, 1248, 1249, 1250, 1251, 1252, 1253, 1254, 1255, 1256, 1257, 1258, 1259, 1260, 1261, 1262, 1263, 1264, 1265, 1266, 1267, 1268, 1269, 1270, 1271, 1272, 1273, 1274, 1275, 1276, 1277, 1278, 1279, 1280, 1281, 1282, 1283, 1284, 1285, 1286, 1287, 1288, 1289, 1290, 1291, 1292, 1293, 1294, 1295, 1296, 1297, 1298, 1299, 1300, 1301, 1302, 1303, 1304, 1305, 1306, 1307, 1308, 1309, 1310, 1311, 1312, 1313, 1314, 1315, 1316, 1317, 1318, 1319, 1320, 1321, 1322, 1323, 1324, 1325, 1326, 1327, 1328, 1329, 1330, 1331, 1332, 1333, 1334, 1335, 1336, 1337, 1338, 1339, 1340, 1341, 1342, 1343, 1344, 1345, 1346, 1347, 1348, 1349, 1350, 1351, 1352, 1353, 1354, 1355, 1356, 1357, 1358, 1359, 1360, 1361, 1362, 1363, 1364, 1365, 1366, 1367, 1368, 1369, 1370, 1371, 1372, 1373, 1374, 1375, 1376, 1377, 1378, 1379, 1380, 1381, 1382, 1383, 1384, 1385, 1386, 1387, 1388, 1389, 1390, 1391, 1392, 1393, 1394, 1395, 1396, 1397, 1398, 1399, 1400, 1401, 1402, 1403, 1404, 1405, 1406, 1407, 1408, 1409, 1410, 1411, 1412, 1413, 1414, 1415, 1416, 1417, 1418, 1419, 1420, 1421, 1422, 1423, 1424, 1425, 1426, 1427, 1428, 1429, 1430, 1431, 1432, 1433, 1434, 1435, 1436, 1437, 1438, 1439, 1440, 1441, 1442, 1443, 1444, 1445, 1446, 1447, 1448, 1449, 1450, 1451, 1452, 1453, 1454, 1455, 1456, 1457, 1458, 1459, 1460, 1461, 1462, 1463, 1464, 1465, 1466, 1467, 1468, 1469, 1470, 1471, 1472, 1473, 1474, 1475, 1476, 1477, 1478, 1479, 1480, 1481, 1482, 1483, 1484, 1485, 1486, 1487, 1488, 1489, 1490, 1491, 1492, 1493, 1494, 1495, 1496, 1497, 1498, 1499, 1500, 1501, 1502, 1503, 1504, 1505, 1506, 1507, 1508, 1509, 1510, 1511, 1512, 1513, 1514, 1515, 1516, 1517, 1518, 1519, 1520, 1521, 1522, 1523, 1524, 1525, 1526, 1527, 1528, 1529, 1530, 1531, 1532, 1533, 1534, 1535, 1536, 1537, 1538, 1539, 1540, 1541, 1542, 1543, 1544, 1545, 1546, 1547, 1548, 1549, 1550, 1551, 1552, 1553, 1554]\n"
     ]
    }
   ],
   "source": [
    "dL = findBinaryColumns(dfiadvCAT)"
   ]
  },
  {
   "cell_type": "code",
   "execution_count": 278,
   "metadata": {},
   "outputs": [],
   "source": [
    "# Generate OH version of DS, not needed as all categorical features are binary\n",
    "dfiadvCAT_OH = dfiadvCAT"
   ]
  },
  {
   "cell_type": "code",
   "execution_count": 279,
   "metadata": {},
   "outputs": [],
   "source": [
    "# Rename and Reorder columns, not needed as all categorical features are binary\n",
    "dfiadvCAT_OH = dfiadvCAT_OH"
   ]
  },
  {
   "cell_type": "code",
   "execution_count": 280,
   "metadata": {},
   "outputs": [],
   "source": [
    "# Rename Numerical columns to not have repeated column names\n",
    "dfiadvNUM.columns = [c+dfiadvCAT.shape[1] for c in range(dfiadvNUM.shape[1])]\n",
    "dfiadvNUM_NORM.columns = [c+dfiadvCAT.shape[1] for c in range(dfiadvNUM_NORM.shape[1])]"
   ]
  },
  {
   "cell_type": "code",
   "execution_count": 281,
   "metadata": {},
   "outputs": [],
   "source": [
    "# Create non-treated dataset\n",
    "pd.concat([dfiadvCAT, dfiadvNUM, dfiadvOUT], axis=1).to_csv(\"./data/InternetAdv.csv\", index=False)"
   ]
  },
  {
   "cell_type": "code",
   "execution_count": 282,
   "metadata": {},
   "outputs": [],
   "source": [
    "# Create treated datasets\n",
    "pd.concat([dfiadvCAT_OH, dfiadvNUM, dfiadvOUT], axis=1).to_csv(\"./data/OH_InternetAdv.csv\", index=False)\n",
    "pd.concat([dfiadvCAT, dfiadvNUM_NORM, dfiadvOUT], axis=1).to_csv(\"./data/NORM_InternetAdv.csv\", index=False)\n",
    "pd.concat([dfiadvCAT_OH, dfiadvNUM_NORM, dfiadvOUT], axis=1).to_csv(\"./data/OH_NORM_InternetAdv.csv\", index=False)"
   ]
  },
  {
   "cell_type": "code",
   "execution_count": 283,
   "metadata": {},
   "outputs": [],
   "source": [
    "###########################################################################"
   ]
  },
  {
   "cell_type": "code",
   "execution_count": 284,
   "metadata": {},
   "outputs": [],
   "source": [
    "# Statlog GC\n",
    "# After Clean:\n",
    "# Numerical [1, 4, 7, 10, 12, 15, 17]\n",
    "# Categorical [0, 2, 3, 5, 6, 8, 9, 11, 13, 14,16, 18, 19]"
   ]
  },
  {
   "cell_type": "code",
   "execution_count": 285,
   "metadata": {},
   "outputs": [],
   "source": [
    "# Read raw data\n",
    "dfslgc = pd.read_csv(\"./rawData/german.data\", header=None, sep=\" \")\n",
    "dfslgc[20] = dfslgc[20].map({1:0, 2:1})"
   ]
  },
  {
   "cell_type": "code",
   "execution_count": 286,
   "metadata": {},
   "outputs": [],
   "source": [
    "# Create and rename columns of Numerical DF\n",
    "dfslgcNUM = dfslgc[[1, 4, 7, 10, 12, 15, 17]].copy()\n",
    "dfslgcNUM.columns = [*range(dfslgcNUM.shape[1])]"
   ]
  },
  {
   "cell_type": "code",
   "execution_count": 287,
   "metadata": {},
   "outputs": [],
   "source": [
    "# Create and remane columns of Categorical DF\n",
    "dfslgcCAT = dfslgc[[0, 2, 3, 5, 6, 8, 9, 11, 13, 14,16, 18, 19]].copy()\n",
    "dfslgcCAT.columns = [*range(dfslgcCAT.shape[1])]"
   ]
  },
  {
   "cell_type": "code",
   "execution_count": 288,
   "metadata": {},
   "outputs": [],
   "source": [
    "# Create output column\n",
    "dfslgc.rename(columns={20: \"output\"}, inplace=True)\n",
    "dfslgcOUT = dfslgc[\"output\"].copy()"
   ]
  },
  {
   "cell_type": "code",
   "execution_count": 289,
   "metadata": {},
   "outputs": [],
   "source": [
    "# Treat Numerical Variables"
   ]
  },
  {
   "cell_type": "code",
   "execution_count": 290,
   "metadata": {},
   "outputs": [],
   "source": [
    "# Verify columns with non-numeric entries\n",
    "verifyCell(dfslgcNUM)"
   ]
  },
  {
   "cell_type": "code",
   "execution_count": 291,
   "metadata": {},
   "outputs": [],
   "source": [
    "# Delete columns without all numbers, except output"
   ]
  },
  {
   "cell_type": "code",
   "execution_count": 292,
   "metadata": {},
   "outputs": [
    {
     "name": "stdout",
     "output_type": "stream",
     "text": [
      "Warning: No output was found\n"
     ]
    }
   ],
   "source": [
    "# Rename and Reorder columns, no output was found because it's separated in another variable\n",
    "dfslgcNUM = renameReorderNonOH(dfslgcNUM)"
   ]
  },
  {
   "cell_type": "code",
   "execution_count": 293,
   "metadata": {},
   "outputs": [
    {
     "name": "stdout",
     "output_type": "stream",
     "text": [
      "17 [1 2]\n",
      "18 ['A192' 'A191']\n",
      "19 ['A201' 'A202']\n",
      "output [0 1]\n",
      "[17, 18, 19, 'output']\n"
     ]
    }
   ],
   "source": [
    "# Find binary columns\n",
    "dL = findBinaryColumns(dfslgc)"
   ]
  },
  {
   "cell_type": "code",
   "execution_count": 294,
   "metadata": {},
   "outputs": [],
   "source": [
    "dfslgc[17] = dfslgc[17].map({1:0, 2:1})\n",
    "dfslgc[18] = dfslgc[18].map({'A192':0, 'A191':1})\n",
    "dfslgc[19] = dfslgc[19].map({'A201':0, 'A202':1})"
   ]
  },
  {
   "cell_type": "code",
   "execution_count": 295,
   "metadata": {},
   "outputs": [
    {
     "name": "stdout",
     "output_type": "stream",
     "text": [
      "17 [0 1]\n",
      "18 [0 1]\n",
      "19 [0 1]\n",
      "output [0 1]\n",
      "[17, 18, 19, 'output']\n"
     ]
    }
   ],
   "source": [
    "dL = findBinaryColumns(dfslgc)"
   ]
  },
  {
   "cell_type": "code",
   "execution_count": 296,
   "metadata": {},
   "outputs": [],
   "source": [
    "# Save non-OH dataset"
   ]
  },
  {
   "cell_type": "code",
   "execution_count": 297,
   "metadata": {},
   "outputs": [],
   "source": [
    "# Generate Normalized version of data\n",
    "dfslgcNUM_NORM = dfslgcNUM.copy()\n",
    "dfslgcNUM_NORM.loc[:,:7] = scaler.fit_transform(dfslgcNUM_NORM)\n",
    "pickle.dump(scaler, open(f'./scalers/StatlogGC.sc', 'wb'))"
   ]
  },
  {
   "cell_type": "code",
   "execution_count": 298,
   "metadata": {},
   "outputs": [],
   "source": [
    "# Treat Categorical Variables"
   ]
  },
  {
   "cell_type": "code",
   "execution_count": 299,
   "metadata": {},
   "outputs": [],
   "source": [
    "# Rename and Reorder columns"
   ]
  },
  {
   "cell_type": "code",
   "execution_count": 300,
   "metadata": {},
   "outputs": [
    {
     "name": "stdout",
     "output_type": "stream",
     "text": [
      "11 ['A192' 'A191']\n",
      "12 ['A201' 'A202']\n",
      "[11, 12]\n"
     ]
    }
   ],
   "source": [
    "dL = findBinaryColumns(dfslgcCAT)"
   ]
  },
  {
   "cell_type": "code",
   "execution_count": 301,
   "metadata": {},
   "outputs": [],
   "source": [
    "# Adjust binary results to only have 0 and/or 1\n",
    "dfslgcCAT[11] = dfslgcCAT[11].map({\"A192\":0, \"A191\":1})\n",
    "dfslgcCAT[12] = dfslgcCAT[12].map({\"A201\":0, \"A202\":1})"
   ]
  },
  {
   "cell_type": "code",
   "execution_count": 302,
   "metadata": {},
   "outputs": [
    {
     "name": "stdout",
     "output_type": "stream",
     "text": [
      "11 [0 1]\n",
      "12 [0 1]\n",
      "[11, 12]\n"
     ]
    }
   ],
   "source": [
    "dL = findBinaryColumns(dfslgcCAT)"
   ]
  },
  {
   "cell_type": "code",
   "execution_count": 303,
   "metadata": {},
   "outputs": [],
   "source": [
    "# Generate OH version of DS\n",
    "dfslgcCAT_OH = pd.get_dummies(dfslgcCAT, columns=getNoBinaryOut(dfslgcCAT, dL))"
   ]
  },
  {
   "cell_type": "code",
   "execution_count": 304,
   "metadata": {},
   "outputs": [
    {
     "name": "stdout",
     "output_type": "stream",
     "text": [
      "Warning: No output was found\n"
     ]
    }
   ],
   "source": [
    "# Rename and Reorder columns, no output was found because it's separated in another variable\n",
    "dfslgcCAT_OH = renameReorderOH(dfslgcCAT_OH)"
   ]
  },
  {
   "cell_type": "code",
   "execution_count": 305,
   "metadata": {},
   "outputs": [],
   "source": [
    "# Rename Numerical columns to not have repeated column names\n",
    "dfslgcNUM.columns = [c+dfslgcCAT.shape[1] for c in range(dfslgcNUM.shape[1])]\n",
    "dfslgcNUM_NORM.columns = [c+dfslgcCAT.shape[1] for c in range(dfslgcNUM_NORM.shape[1])]"
   ]
  },
  {
   "cell_type": "code",
   "execution_count": 306,
   "metadata": {},
   "outputs": [],
   "source": [
    "# Create non-treated dataset\n",
    "pd.concat([dfslgcCAT, dfslgcNUM, dfslgcOUT], axis=1).to_csv(\"./data/StatlogGC.csv\", index=False)"
   ]
  },
  {
   "cell_type": "code",
   "execution_count": 307,
   "metadata": {},
   "outputs": [],
   "source": [
    "# Create treated datasets\n",
    "pd.concat([dfslgcCAT_OH, dfslgcNUM, dfslgcOUT], axis=1).to_csv(\"./data/OH_StatlogGC.csv\", index=False)\n",
    "pd.concat([dfslgcCAT, dfslgcNUM_NORM, dfslgcOUT], axis=1).to_csv(\"./data/NORM_StatlogGC.csv\", index=False)\n",
    "pd.concat([dfslgcCAT_OH, dfslgcNUM_NORM, dfslgcOUT], axis=1).to_csv(\"./data/OH_NORM_StatlogGC.csv\", index=False)"
   ]
  },
  {
   "cell_type": "code",
   "execution_count": null,
   "metadata": {},
   "outputs": [],
   "source": []
  }
 ],
 "metadata": {
  "kernelspec": {
   "display_name": "Python 3",
   "language": "python",
   "name": "python3"
  },
  "language_info": {
   "codemirror_mode": {
    "name": "ipython",
    "version": 3
   },
   "file_extension": ".py",
   "mimetype": "text/x-python",
   "name": "python",
   "nbconvert_exporter": "python",
   "pygments_lexer": "ipython3",
   "version": "3.8.3"
  }
 },
 "nbformat": 4,
 "nbformat_minor": 4
}
