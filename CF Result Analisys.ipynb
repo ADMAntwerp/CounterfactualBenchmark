{
 "cells": [
  {
   "cell_type": "code",
   "execution_count": 1,
   "metadata": {},
   "outputs": [],
   "source": [
    "from os import listdir\n",
    "from os.path import isfile, join\n",
    "\n",
    "import pickle\n",
    "import numpy as np\n",
    "import scipy as sp\n",
    "import pandas as pd\n",
    "\n",
    "from tensorflow.keras.models import load_model\n",
    "from tensorflow.keras.layers import Dense, Input\n",
    "from tensorflow.keras.models import Model\n",
    "\n",
    "from sklearn.neighbors import DistanceMetric\n",
    "\n",
    "from benchmark.cfg import OHConverter\n",
    "\n",
    "from constants.var_types import VAR_TYPES"
   ]
  },
  {
   "cell_type": "code",
   "execution_count": 2,
   "metadata": {},
   "outputs": [
    {
     "name": "stdout",
     "output_type": "stream",
     "text": [
      "GPU found\n"
     ]
    }
   ],
   "source": [
    "import os\n",
    "import tensorflow as tf\n",
    "tf.config.set_visible_devices([], 'GPU')\n",
    "\n",
    "os.environ['CUDA_VISIBLE_DEVICES'] = '-1'\n",
    "\n",
    "if tf.test.gpu_device_name():\n",
    "    print('GPU found')\n",
    "else:\n",
    "    print(\"No GPU found\")"
   ]
  },
  {
   "cell_type": "code",
   "execution_count": 3,
   "metadata": {},
   "outputs": [],
   "source": [
    "# Custom Realistic Scores"
   ]
  },
  {
   "cell_type": "code",
   "execution_count": 4,
   "metadata": {},
   "outputs": [],
   "source": [
    "def internetadv_ratio_contraint(dsName, df_oh, df_cf, df_fc, cat_feats, num_feats, model, converter):\n",
    "    df_cf_found, df_fc_found = get_cleaned_processed(df_cf, df_fc, cat_feats, model, converter)\n",
    "    if df_cf_found.shape[0] > 0:\n",
    "        scaler = load_scaler(dsName)\n",
    "        df_num_scaled = pd.DataFrame(scaler.inverse_transform(df_cf_found[['1555', '1556', '1557']]))\n",
    "\n",
    "        output = ((df_num_scaled[1] / df_num_scaled[0]).map(lambda x: round(x, 2)) - df_num_scaled[2].map(\n",
    "            lambda x: round(x, 2)) < 0.01).map(int)\n",
    "        output.index = df_cf_found.index\n",
    "\n",
    "        return output\n",
    "\n",
    "    return np.nan"
   ]
  },
  {
   "cell_type": "code",
   "execution_count": 5,
   "metadata": {},
   "outputs": [],
   "source": [
    "def pbc_multivariate_constraints(dsName, df_oh, df_cf, df_fc, cat_feats, num_feats, model, converter):\n",
    "    df_cf_found, df_fc_found = get_cleaned_processed(df_cf, df_fc, cat_feats, model, converter)\n",
    "    if df_cf_found.shape[0] > 0:\n",
    "        scaler = load_scaler(dsName)\n",
    "        cf_scaled = pd.DataFrame(scaler.inverse_transform(df_cf_found))\n",
    "\n",
    "        x1 = (cf_scaled[2].map(lambda x: round(x, 4)) == (cf_scaled[0] * cf_scaled[1]).map(lambda x: round(x, 4))).map(\n",
    "            int)\n",
    "\n",
    "        x2 = (cf_scaled[3].map(lambda x: round(x, 3)) - (cf_scaled[1] / cf_scaled[0]).map(\n",
    "            lambda x: round(x, 3)) < 0.01).map(int)\n",
    "\n",
    "        x3 = (cf_scaled[4].map(lambda x: round(x, 3)) - (cf_scaled[7] / cf_scaled[2]).map(\n",
    "            lambda x: round(x, 3)) < 0.01).map(int)\n",
    "\n",
    "        x4 = (cf_scaled[5].map(lambda x: round(x, 3)) - (cf_scaled[8] / cf_scaled[2]).map(\n",
    "            lambda x: round(x, 3)) < 0.01).map(int)\n",
    "\n",
    "        x5 = (cf_scaled[6].map(lambda x: round(x, 3)) - (cf_scaled[7] / cf_scaled[9]).map(\n",
    "            lambda x: round(x, 3)) < 0.01).map(int)\n",
    "\n",
    "        output = (x1 + x2 + x3 + x4 + x5).map(lambda x: x == 5).map(int)\n",
    "        output.index = df_cf_found.index\n",
    "\n",
    "        return output\n",
    "\n",
    "    return np.nan"
   ]
  },
  {
   "cell_type": "code",
   "execution_count": 6,
   "metadata": {},
   "outputs": [],
   "source": [
    "def bcw_radius_area_constraint(dsName, df_oh, df_cf, df_fc, cat_feats, num_feats, model, converter):\n",
    "    df_cf_found, df_fc_found = get_cleaned_processed(df_cf, df_fc, cat_feats, model, converter)\n",
    "    if df_cf_found.shape[0] > 0:\n",
    "        scaler = load_scaler(dsName)\n",
    "        cf_scaled = pd.DataFrame(scaler.inverse_transform(df_cf_found))\n",
    "\n",
    "        output = (cf_scaled[1] ** 2 * np.pi - cf_scaled[4] < cf_scaled[4] * 0.10).map(int)\n",
    "        output.index = df_cf_found.index\n",
    "\n",
    "        return output\n",
    "\n",
    "    return np.nan"
   ]
  },
  {
   "cell_type": "code",
   "execution_count": 7,
   "metadata": {},
   "outputs": [],
   "source": [
    "dict_functions = {\n",
    "    'BCW': {'ruc': [], 'rmc': [bcw_radius_area_constraint]},\n",
    "    'PBC': {'ruc': [], 'rmc': [pbc_multivariate_constraints]},\n",
    "    'InternetAdv': {'ruc': [], 'rmc': [internetadv_ratio_contraint]}\n",
    "}"
   ]
  },
  {
   "cell_type": "code",
   "execution_count": 8,
   "metadata": {},
   "outputs": [],
   "source": [
    "# Verify if offset between the x and o classes is, at maximum 1\n",
    "def tictactoe_constraint(dsName, df_oh, df_cf, df_fc, cat_feats, num_feats, model, converter):\n",
    "    df_cf_found, df_fc_found = get_cleaned_processed(df_cf, df_fc, cat_feats, model, converter)\n",
    "    if df_cf_found.shape[0] > 0:\n",
    "        if cat_feats:\n",
    "\n",
    "            df_ohi = check_one_hot_integrity(df_oh, df_cf, df_fc, cat_feats, num_feats, model, converter)\n",
    "            df_cb = check_binary_categorical(df_oh, df_cf, df_fc, cat_feats, num_feats, model, converter)\n",
    "\n",
    "            dfc_converted_array = []\n",
    "            for idx in range(df_cf_found.shape[0]):\n",
    "                if df_ohi.iloc[idx] == 1 and df_cb.iloc[idx] == 1:\n",
    "                    dfc_converted_array.append(converter.convert(df_cf_found.iloc[int(idx):int(idx) + 1].to_numpy())[0])\n",
    "                else:\n",
    "                    dfc_converted_array.append(['x'] * df_cf_found.shape[1])\n",
    "            dfc_converted = pd.DataFrame(dfc_converted_array)\n",
    "\n",
    "            dict_ttt = {'x': 1, 'o': -1, 'b': 0}\n",
    "            for col in list(dfc_converted.columns):\n",
    "                dfc_converted[col] = dfc_converted[col].apply(lambda x: dict_ttt[x])\n",
    "\n",
    "            output = dfc_converted.sum(axis=1).map(lambda x: int(x in [0, 1, -1]))\n",
    "            output.index = df_cf_found.index\n",
    "\n",
    "            return output\n",
    "\n",
    "    return np.nan"
   ]
  },
  {
   "cell_type": "code",
   "execution_count": 9,
   "metadata": {},
   "outputs": [],
   "source": [
    "# Realistic Scores"
   ]
  },
  {
   "cell_type": "code",
   "execution_count": 10,
   "metadata": {},
   "outputs": [],
   "source": [
    "def check_outside_num_range(dsName, df_oh, df_cf, df_fc, cat_feats, num_feats, model, converter):\n",
    "    df_cf_found, df_fc_found = get_cleaned_processed(df_cf, df_fc, cat_feats, model, converter)\n",
    "    if df_cf_found.shape[0] > 0:\n",
    "        if len(num_feats) > 0:\n",
    "            scaler = load_scaler(dsName)\n",
    "            scaled_ds = pd.DataFrame(scaler.inverse_transform(df_oh[num_feats]))\n",
    "\n",
    "            num_feats_idx = []\n",
    "\n",
    "            for n_f in num_feats:\n",
    "                num_feats_idx.append(str(list(df_oh.columns).index(n_f)))\n",
    "            scaled_cf = pd.DataFrame(scaler.inverse_transform(df_cf_found[num_feats_idx]))\n",
    "\n",
    "            for i in range(scaled_ds.shape[1]):\n",
    "                scaled_cf[i] = scaled_cf[i].map(lambda x: scaled_ds[i].min() <= x and x <= scaled_ds[i].max())\n",
    "\n",
    "            output = scaled_cf.T.sum().map(lambda x: x == scaled_cf.shape[1]).map(int)\n",
    "            output.index = df_cf_found.index\n",
    "\n",
    "            return output\n",
    "    return np.nan"
   ]
  },
  {
   "cell_type": "code",
   "execution_count": 11,
   "metadata": {},
   "outputs": [],
   "source": [
    "def load_scaler(dsName):\n",
    "    return pickle.load(open(f'./scalers/{dsName}.sc', 'rb'))"
   ]
  },
  {
   "cell_type": "code",
   "execution_count": 12,
   "metadata": {},
   "outputs": [],
   "source": [
    "def verify_one_hot(df_oh, df_cf, df_fc, cat_feats, num_feats, model, converter):\n",
    "    oh_i = check_one_hot_integrity(df_oh, df_cf, df_fc, cat_feats, num_feats, model, converter)\n",
    "    oh_b = check_binary_categorical(df_oh, df_cf, df_fc, cat_feats, num_feats, model, converter)\n",
    "\n",
    "    return (oh_i * oh_b).sum() / oh_b.shape[0]"
   ]
  },
  {
   "cell_type": "code",
   "execution_count": 13,
   "metadata": {},
   "outputs": [],
   "source": [
    "def check_one_hot_integrity(df_oh, df_cf, df_fc, cat_feats, num_feats, model, converter):\n",
    "    df_cf_found, df_fc_found = get_cleaned_processed(df_cf, df_fc, cat_feats, model, converter)\n",
    "    bin_feats = converter.binary_cats\n",
    "\n",
    "    if df_cf_found.shape[0] > 0:\n",
    "        if len(cat_feats) > 0:\n",
    "            cat_oh_feats = list(set(cat_feats) - set(bin_feats))\n",
    "\n",
    "            if len(cat_oh_feats) > 0:\n",
    "                array_cat_int = []\n",
    "                for cat_oh_f in cat_oh_feats:\n",
    "                    array_cat_int.append(\n",
    "                        df_cf_found.iloc[:, list(converter.dict_feat_idx[cat_oh_f].values())].apply(lambda x: x > 0,\n",
    "                                                                                                    axis=1).sum(\n",
    "                            axis=1).map(lambda x: x == 1))\n",
    "\n",
    "                df_cat_int = pd.concat(array_cat_int, axis=1)\n",
    "\n",
    "                output = df_cat_int.sum(axis=1).map(lambda x: x == df_cat_int.shape[1]).map(int)\n",
    "                output.index = df_cf_found.index\n",
    "\n",
    "                return output\n",
    "\n",
    "    return np.nan"
   ]
  },
  {
   "cell_type": "code",
   "execution_count": 14,
   "metadata": {},
   "outputs": [],
   "source": [
    "def check_binary_categorical(df_oh, df_cf, df_fc, cat_feats, num_feats, model, converter):\n",
    "    df_cf_found, df_fc_found = get_cleaned_processed(df_cf, df_fc, cat_feats, model, converter)\n",
    "\n",
    "    if df_cf_found.shape[0] > 0:\n",
    "\n",
    "        if len(cat_feats) > 0:\n",
    "            num_feats_idx = [str(list(df_oh.columns).index(n_f)) for n_f in num_feats]\n",
    "\n",
    "            cat_feats_idx = list(set(df_cf_found.columns) - set(num_feats_idx))\n",
    "\n",
    "            factual_cat_cols = df_fc_found.loc[:, cat_feats_idx].apply(\n",
    "                lambda x: x.map(lambda y: y not in [1.0, 0.0, 1, 0]), axis=1).T.sum()\n",
    "\n",
    "            assert factual_cat_cols.sum() == 0\n",
    "\n",
    "            output = df_cf_found.loc[:, cat_feats_idx].apply(lambda x: x.map(lambda y: y in [1.0, 0.0, 1, 0]),\n",
    "                                                             axis=1).apply(sum, axis=1).map(\n",
    "                lambda x: int(x == len(cat_feats_idx)))\n",
    "            output.index = df_cf_found.index\n",
    "\n",
    "            return output\n",
    "\n",
    "    return np.nan"
   ]
  },
  {
   "cell_type": "code",
   "execution_count": 15,
   "metadata": {},
   "outputs": [],
   "source": [
    "def get_bin_feats_idx(df_oh, converter):\n",
    "    bin_cols = converter.binary_cats\n",
    "    bin_feats = []\n",
    "    for b_c in bin_cols:\n",
    "        try:\n",
    "            bin_feats.append(list(df_oh.columns).index(b_c))\n",
    "        except ValueError:\n",
    "            bin_feats.append(list(df_oh.columns).index('0'*(4-len(b_c))+b_c))\n",
    "    return bin_feats"
   ]
  },
  {
   "cell_type": "code",
   "execution_count": 16,
   "metadata": {},
   "outputs": [],
   "source": [
    "# General Scores"
   ]
  },
  {
   "cell_type": "code",
   "execution_count": 17,
   "metadata": {},
   "outputs": [],
   "source": [
    "def md(df_oh, df_cf, df_fc, cat_feats, num_feats, model, converter):\n",
    "    df_cf_found, df_fc_found = get_cleaned_processed(df_cf, df_fc, cat_feats, model, converter)\n",
    "\n",
    "    if df_cf_found.shape[0] > 0:\n",
    "        output_result = []\n",
    "        for idx in range(df_cf_found.shape[0]):\n",
    "            m_dis = sp.spatial.distance.mahalanobis(df_cf_found.iloc[idx].to_numpy(),\n",
    "                                                    df_fc_found.drop(columns=['output']).iloc[idx].to_numpy(),\n",
    "                                                    df_oh.drop(columns=['output']).cov().to_numpy())\n",
    "            output_result.append(m_dis)\n",
    "\n",
    "        out_array = output_result\n",
    "        output_results = [np.nan] * df_cf.shape[0]\n",
    "        for idx_result, idxFound in enumerate(list(df_fc_found.index)):\n",
    "            output_results[idxFound] = out_array[idx_result]\n",
    "\n",
    "        return output_results\n",
    "\n",
    "    return [np.nan]*df_cf.shape[0]"
   ]
  },
  {
   "cell_type": "code",
   "execution_count": 18,
   "metadata": {},
   "outputs": [],
   "source": [
    "# Mean can give misleading values because very high values on MAD\n",
    "def madd(df_oh, df_cf, df_fc, cat_feats, num_feats, model, converter):\n",
    "    df_cf_found, df_fc_found = get_cleaned_processed(df_cf, df_fc, cat_feats, model, converter)\n",
    "\n",
    "    if df_cf_found.shape[0] > 0:\n",
    "        df_mad = df_cf_found.iloc[:0]\n",
    "\n",
    "        df_oh_c = df_oh.copy()\n",
    "        df_oh_c.columns = df_fc_found.columns\n",
    "        num_feats_idx = [str(list(df_oh.columns).index(n_f)) for n_f in num_feats]\n",
    "\n",
    "        cat_feats_idx = list(set(df_cf_found.columns) - set(num_feats_idx))\n",
    "\n",
    "        mad_num = {}\n",
    "        for n_feat_idx in num_feats_idx:\n",
    "            # 1e-8 added to avoid 0 and, then, division by zero\n",
    "            mad_num[n_feat_idx] = sp.stats.median_abs_deviation(df_oh_c[n_feat_idx]) + 1e-8\n",
    "\n",
    "            df_mad[n_feat_idx] = abs(df_cf_found[n_feat_idx] - df_fc_found[n_feat_idx]) / mad_num[n_feat_idx]\n",
    "\n",
    "        for c_feat_idx in cat_feats_idx:\n",
    "            df_mad[c_feat_idx] = (df_cf_found[c_feat_idx] != df_fc_found[c_feat_idx]).map(int)\n",
    "\n",
    "        output_result = [0]*df_cf.shape[0]\n",
    "        if len(cat_feats_idx) > 0:\n",
    "            add_output_result = df_mad[cat_feats_idx].mean(axis=1)\n",
    "            for null_row in list(set([*range(len(output_result))])-set(df_mad.index)):\n",
    "                add_output_result.loc[null_row] = np.nan\n",
    "            add_output_result = add_output_result.sort_index()\n",
    "            output_result = np.add(output_result, add_output_result.tolist())\n",
    "        if len(num_feats_idx) > 0:\n",
    "            add_output_result = df_mad[num_feats_idx].mean(axis=1)\n",
    "            for null_row in list(set([*range(len(output_result))])-set(df_mad.index)):\n",
    "                add_output_result.loc[null_row] = np.nan\n",
    "            add_output_result = add_output_result.sort_index()\n",
    "            output_result = np.add(output_result, add_output_result.tolist())\n",
    "\n",
    "        out_array = output_result.tolist()\n",
    "        output_results = [np.nan] * df_cf.shape[0]\n",
    "        for idx_result, idxFound in enumerate(list(df_fc_found.index)):\n",
    "            output_results[idxFound] = out_array[idx_result]\n",
    "\n",
    "        return output_results\n",
    "\n",
    "    return [np.nan]*df_cf.shape[0]"
   ]
  },
  {
   "cell_type": "code",
   "execution_count": 19,
   "metadata": {},
   "outputs": [],
   "source": [
    "def get_cleaned_processed(df_cf, df_fc, cat_feats, model, converter):\n",
    "    df_fc_pro = get_df_fc_pro(df_cf, df_fc, cat_feats, converter)\n",
    "    df_cf_c, df_fc_pro_c = get_correct(df_cf, df_fc_pro, model)\n",
    "\n",
    "    return df_cf_c, df_fc_pro_c"
   ]
  },
  {
   "cell_type": "code",
   "execution_count": 20,
   "metadata": {},
   "outputs": [],
   "source": [
    "def get_correct(df_cf, df_fc, model):\n",
    "    df_cf_found, df_fc_found = remove_na(df_cf, df_fc)\n",
    "    if df_cf_found.shape[0] > 0:\n",
    "        labels_cf = model.predict(df_cf_found.to_numpy()).round()\n",
    "        return df_cf_found[labels_cf.reshape(-1, 1) != df_fc_found['output'].to_numpy().reshape(-1, 1)], df_fc_found[\n",
    "            labels_cf.reshape(-1, 1) != df_fc_found['output'].to_numpy().reshape(-1, 1)]\n",
    "\n",
    "    return df_cf_found.iloc[:0], df_fc.iloc[:0]"
   ]
  },
  {
   "cell_type": "code",
   "execution_count": 21,
   "metadata": {},
   "outputs": [],
   "source": [
    "def validity_total(df_cf, df_fc, model):\n",
    "    df_cf_found, df_fc_found = remove_na(df_cf, df_fc)\n",
    "    if df_cf_found.shape[0] > 0:\n",
    "\n",
    "        out_array = (model.predict(df_cf_found.to_numpy()).round().reshape(1,-1)!=df_fc_found['output'].to_numpy())[0].tolist()\n",
    "        output_results = [np.nan]*df_cf.shape[0]\n",
    "        for idx_result, idxFound in enumerate(list(df_fc_found.index)):\n",
    "            output_results[idxFound] = out_array[idx_result]\n",
    "\n",
    "        return output_results\n",
    "    return [False]*df_cf.shape[0]"
   ]
  },
  {
   "cell_type": "code",
   "execution_count": 22,
   "metadata": {},
   "outputs": [],
   "source": [
    "def validity_found(df_cf, df_fc, model):\n",
    "    df_cf_found, df_fc_found = remove_na(df_cf, df_fc)\n",
    "    if df_cf_found.shape[0] > 0:\n",
    "\n",
    "        out_array = (model.predict(df_cf_found.to_numpy()).round().reshape(1,-1)!=df_fc_found['output'].to_numpy())[0].tolist()\n",
    "        output_results = [np.nan] * df_cf.shape[0]\n",
    "        for idx_result, idxFound in enumerate(list(df_fc_found.index)):\n",
    "            output_results[idxFound] = out_array[idx_result]\n",
    "\n",
    "        return output_results\n",
    "    return [False]*df_cf.shape[0]"
   ]
  },
  {
   "cell_type": "code",
   "execution_count": 23,
   "metadata": {},
   "outputs": [],
   "source": [
    "def remove_na(df_cf, df_fc):\n",
    "    return df_cf.dropna(), df_fc[0==df_cf.isna().sum(axis=1)]"
   ]
  },
  {
   "cell_type": "code",
   "execution_count": 24,
   "metadata": {},
   "outputs": [],
   "source": [
    "def get_df_fc_pro(df_cf, df_fc, cat_feats, converter):\n",
    "    array_df_fc_pro = []\n",
    "    if len(cat_feats) > 0:\n",
    "        for idx, row in df_fc.iterrows():\n",
    "            row_fc_pro = converter.convert_to_oh(pd.DataFrame(row).T.drop(columns=['output']).to_numpy().tolist()[0])\n",
    "            array_df_fc_pro.append(row_fc_pro)\n",
    "        df_fc_pro = pd.DataFrame(array_df_fc_pro)\n",
    "        df_fc_pro['output'] = df_fc['output']\n",
    "    else:\n",
    "        df_fc_pro = df_fc.copy()\n",
    "\n",
    "    df_fc_pro.columns = list(df_cf.columns) + ['output']\n",
    "\n",
    "    return df_fc_pro"
   ]
  },
  {
   "cell_type": "code",
   "execution_count": 25,
   "metadata": {},
   "outputs": [],
   "source": [
    "def sparsity(df_cf, df_fc, cat_feats, model, converter):\n",
    "    df_cf_found, df_fc_found = get_cleaned_processed(df_cf, df_fc, cat_feats, model, converter)\n",
    "\n",
    "    if df_cf_found.shape[0] > 0:\n",
    "        df_fc_found = df_fc_found.copy().drop(columns=['output'])\n",
    "\n",
    "        scores = []\n",
    "        for i in range(df_cf_found.shape[0]):\n",
    "            scores.append((df_cf_found.iloc[i].round(4) == df_fc_found.iloc[i].round(4)).sum() / df_cf_found.shape[1])\n",
    "\n",
    "        out_array = scores\n",
    "        output_results = [np.nan] * df_cf.shape[0]\n",
    "        for idx_result, idxFound in enumerate(list(df_fc_found.index)):\n",
    "            output_results[idxFound] = out_array[idx_result]\n",
    "\n",
    "        return output_results\n",
    "\n",
    "    return [np.nan]*df_cf.shape[0]"
   ]
  },
  {
   "cell_type": "code",
   "execution_count": 26,
   "metadata": {},
   "outputs": [],
   "source": [
    "def l2(df_cf, df_fc, cat_feats, model, converter):\n",
    "    df_cf_found, df_fc_found = get_cleaned_processed(df_cf, df_fc, cat_feats, model, converter)\n",
    "\n",
    "    if df_cf_found.shape[0] > 0:\n",
    "        df_fc_found = df_fc_found.copy().drop(columns=['output'])\n",
    "        scores = []\n",
    "        for i in range(df_cf_found.shape[0]):\n",
    "            scores.append(np.linalg.norm(\n",
    "                df_cf_found.iloc[i].round(4).to_numpy().reshape(-1, 1) -\n",
    "                df_fc_found.iloc[i].round(4).to_numpy().reshape(-1, 1)))\n",
    "\n",
    "        out_array = scores\n",
    "        output_results = [np.nan] * df_cf.shape[0]\n",
    "        for idx_result, idxFound in enumerate(list(df_fc_found.index)):\n",
    "            output_results[idxFound] = out_array[idx_result]\n",
    "\n",
    "        return output_results\n",
    "\n",
    "    return [np.nan]*df_cf.shape[0]"
   ]
  },
  {
   "cell_type": "code",
   "execution_count": 27,
   "metadata": {},
   "outputs": [],
   "source": [
    "cat_ds = []\n",
    "num_ds = []\n",
    "mix_ds = []\n",
    "\n",
    "for dsName, dsData in VAR_TYPES.items():\n",
    "\n",
    "    if len(dsData['categorical']) > 0 and len(dsData['numerical']):\n",
    "        mix_ds.append(dsName)\n",
    "    elif len(dsData['categorical']) > 0:\n",
    "        cat_ds.append(dsName)\n",
    "    else:\n",
    "        num_ds.append(dsName)"
   ]
  },
  {
   "cell_type": "code",
   "execution_count": 28,
   "metadata": {},
   "outputs": [],
   "source": [
    "onlyfiles = [f for f in listdir('./cfoutput') if isfile(join('./cfoutput', f))]"
   ]
  },
  {
   "cell_type": "code",
   "execution_count": 29,
   "metadata": {},
   "outputs": [],
   "source": [
    "def _nn_ohe(input_shape, hidden_layers_ws, output_number):\n",
    "    x_in = Input(shape=(input_shape,))\n",
    "    x = Dense(hidden_layers_ws, activation='relu')(x_in)\n",
    "    x_out = Dense(2, activation='softmax')(x)\n",
    "    if output_number == 1:\n",
    "        x_bin = Dense(1, activation='linear')(x_out)\n",
    "        nn = Model(inputs=x_in, outputs=x_bin)\n",
    "    if output_number == 2:\n",
    "        nn = Model(inputs=x_in, outputs=x_out)\n",
    "\n",
    "    nn.compile(loss='categorical_crossentropy', optimizer='adam', metrics=['accuracy'])\n",
    "\n",
    "    return nn"
   ]
  },
  {
   "cell_type": "code",
   "execution_count": 30,
   "metadata": {},
   "outputs": [
    {
     "name": "stdout",
     "output_type": "stream",
     "text": [
      "1 StatlogGC SEDC\n"
     ]
    },
    {
     "name": "stderr",
     "output_type": "stream",
     "text": [
      "/home/rmazzine/anaconda3/envs/ALIBIC/lib/python3.7/site-packages/sklearn/base.py:334: UserWarning: Trying to unpickle estimator StandardScaler from version 0.23.1 when using version 0.23.2. This might lead to breaking code or invalid results. Use at your own risk.\n",
      "  UserWarning)\n"
     ]
    },
    {
     "name": "stdout",
     "output_type": "stream",
     "text": [
      "1 SoybeanSmall GROWINGSPHERES4\n",
      "1 PBC GROWINGSPHERES4\n"
     ]
    },
    {
     "name": "stderr",
     "output_type": "stream",
     "text": [
      "/home/rmazzine/anaconda3/envs/ALIBIC/lib/python3.7/site-packages/sklearn/base.py:334: UserWarning: Trying to unpickle estimator StandardScaler from version 0.23.1 when using version 0.23.2. This might lead to breaking code or invalid results. Use at your own risk.\n",
      "  UserWarning)\n",
      "/home/rmazzine/anaconda3/envs/ALIBIC/lib/python3.7/site-packages/sklearn/base.py:334: UserWarning: Trying to unpickle estimator StandardScaler from version 0.23.1 when using version 0.23.2. This might lead to breaking code or invalid results. Use at your own risk.\n",
      "  UserWarning)\n"
     ]
    },
    {
     "name": "stdout",
     "output_type": "stream",
     "text": [
      "1 SDD LORE\n"
     ]
    },
    {
     "name": "stderr",
     "output_type": "stream",
     "text": [
      "/home/rmazzine/anaconda3/envs/ALIBIC/lib/python3.7/site-packages/sklearn/base.py:334: UserWarning: Trying to unpickle estimator StandardScaler from version 0.23.1 when using version 0.23.2. This might lead to breaking code or invalid results. Use at your own risk.\n",
      "  UserWarning)\n"
     ]
    },
    {
     "name": "stdout",
     "output_type": "stream",
     "text": [
      "0 DefaultOfCCC MLEXPLAIN\n"
     ]
    },
    {
     "name": "stderr",
     "output_type": "stream",
     "text": [
      "/home/rmazzine/anaconda3/envs/ALIBIC/lib/python3.7/site-packages/sklearn/base.py:334: UserWarning: Trying to unpickle estimator StandardScaler from version 0.23.1 when using version 0.23.2. This might lead to breaking code or invalid results. Use at your own risk.\n",
      "  UserWarning)\n"
     ]
    },
    {
     "name": "stdout",
     "output_type": "stream",
     "text": [
      "1 SDD ALIBIC\n",
      "0 BCW LORE\n"
     ]
    },
    {
     "name": "stderr",
     "output_type": "stream",
     "text": [
      "/home/rmazzine/anaconda3/envs/ALIBIC/lib/python3.7/site-packages/sklearn/base.py:334: UserWarning: Trying to unpickle estimator StandardScaler from version 0.23.1 when using version 0.23.2. This might lead to breaking code or invalid results. Use at your own risk.\n",
      "  UserWarning)\n",
      "/home/rmazzine/anaconda3/envs/ALIBIC/lib/python3.7/site-packages/sklearn/base.py:334: UserWarning: Trying to unpickle estimator StandardScaler from version 0.23.1 when using version 0.23.2. This might lead to breaking code or invalid results. Use at your own risk.\n",
      "  UserWarning)\n"
     ]
    },
    {
     "name": "stdout",
     "output_type": "stream",
     "text": [
      "1 CMSC CADEX\n"
     ]
    },
    {
     "name": "stderr",
     "output_type": "stream",
     "text": [
      "/home/rmazzine/anaconda3/envs/ALIBIC/lib/python3.7/site-packages/sklearn/base.py:334: UserWarning: Trying to unpickle estimator StandardScaler from version 0.23.1 when using version 0.23.2. This might lead to breaking code or invalid results. Use at your own risk.\n",
      "  UserWarning)\n"
     ]
    },
    {
     "name": "stdout",
     "output_type": "stream",
     "text": [
      "1 SDD GROWINGSPHERES4\n"
     ]
    },
    {
     "name": "stderr",
     "output_type": "stream",
     "text": [
      "/home/rmazzine/anaconda3/envs/ALIBIC/lib/python3.7/site-packages/sklearn/base.py:334: UserWarning: Trying to unpickle estimator StandardScaler from version 0.23.1 when using version 0.23.2. This might lead to breaking code or invalid results. Use at your own risk.\n",
      "  UserWarning)\n"
     ]
    },
    {
     "name": "stdout",
     "output_type": "stream",
     "text": [
      "0 Ecoli ALIBIC\n"
     ]
    },
    {
     "name": "stderr",
     "output_type": "stream",
     "text": [
      "/home/rmazzine/anaconda3/envs/ALIBIC/lib/python3.7/site-packages/sklearn/base.py:334: UserWarning: Trying to unpickle estimator StandardScaler from version 0.23.1 when using version 0.23.2. This might lead to breaking code or invalid results. Use at your own risk.\n",
      "  UserWarning)\n"
     ]
    },
    {
     "name": "stdout",
     "output_type": "stream",
     "text": [
      "0 CarEvaluation ALIBICNOGRAD\n",
      "0 SoybeanSmall SEDC\n",
      "1 Lymphography SYNAS\n",
      "0 StudentPerf GROWINGSPHERES3\n"
     ]
    },
    {
     "name": "stderr",
     "output_type": "stream",
     "text": [
      "/home/rmazzine/anaconda3/envs/ALIBIC/lib/python3.7/site-packages/sklearn/base.py:334: UserWarning: Trying to unpickle estimator StandardScaler from version 0.23.1 when using version 0.23.2. This might lead to breaking code or invalid results. Use at your own risk.\n",
      "  UserWarning)\n"
     ]
    },
    {
     "name": "stdout",
     "output_type": "stream",
     "text": [
      "1 StatlogGC DICE\n"
     ]
    },
    {
     "name": "stderr",
     "output_type": "stream",
     "text": [
      "/home/rmazzine/anaconda3/envs/ALIBIC/lib/python3.7/site-packages/sklearn/base.py:334: UserWarning: Trying to unpickle estimator StandardScaler from version 0.23.1 when using version 0.23.2. This might lead to breaking code or invalid results. Use at your own risk.\n",
      "  UserWarning)\n"
     ]
    },
    {
     "name": "stdout",
     "output_type": "stream",
     "text": [
      "0 BalanceScale ALIBIC\n",
      "1 BCW CADEX\n"
     ]
    },
    {
     "name": "stderr",
     "output_type": "stream",
     "text": [
      "/home/rmazzine/anaconda3/envs/ALIBIC/lib/python3.7/site-packages/sklearn/base.py:334: UserWarning: Trying to unpickle estimator StandardScaler from version 0.23.1 when using version 0.23.2. This might lead to breaking code or invalid results. Use at your own risk.\n",
      "  UserWarning)\n",
      "/home/rmazzine/anaconda3/envs/ALIBIC/lib/python3.7/site-packages/sklearn/base.py:334: UserWarning: Trying to unpickle estimator StandardScaler from version 0.23.1 when using version 0.23.2. This might lead to breaking code or invalid results. Use at your own risk.\n",
      "  UserWarning)\n"
     ]
    },
    {
     "name": "stdout",
     "output_type": "stream",
     "text": [
      "1 PBC ALIBICNOGRAD\n"
     ]
    },
    {
     "name": "stderr",
     "output_type": "stream",
     "text": [
      "/home/rmazzine/anaconda3/envs/ALIBIC/lib/python3.7/site-packages/sklearn/base.py:334: UserWarning: Trying to unpickle estimator StandardScaler from version 0.23.1 when using version 0.23.2. This might lead to breaking code or invalid results. Use at your own risk.\n",
      "  UserWarning)\n",
      "/home/rmazzine/anaconda3/envs/ALIBIC/lib/python3.7/site-packages/sklearn/base.py:334: UserWarning: Trying to unpickle estimator StandardScaler from version 0.23.1 when using version 0.23.2. This might lead to breaking code or invalid results. Use at your own risk.\n",
      "  UserWarning)\n"
     ]
    },
    {
     "name": "stdout",
     "output_type": "stream",
     "text": [
      "0 HayesRoth SEDC\n",
      "0 Wine ALIBICNOGRAD\n"
     ]
    },
    {
     "name": "stderr",
     "output_type": "stream",
     "text": [
      "/home/rmazzine/anaconda3/envs/ALIBIC/lib/python3.7/site-packages/sklearn/base.py:334: UserWarning: Trying to unpickle estimator StandardScaler from version 0.23.1 when using version 0.23.2. This might lead to breaking code or invalid results. Use at your own risk.\n",
      "  UserWarning)\n"
     ]
    },
    {
     "name": "stdout",
     "output_type": "stream",
     "text": [
      "1 HayesRoth GROWINGSPHERES3\n",
      "0 MagicGT SYNAS\n"
     ]
    },
    {
     "name": "stderr",
     "output_type": "stream",
     "text": [
      "/home/rmazzine/anaconda3/envs/ALIBIC/lib/python3.7/site-packages/sklearn/base.py:334: UserWarning: Trying to unpickle estimator StandardScaler from version 0.23.1 when using version 0.23.2. This might lead to breaking code or invalid results. Use at your own risk.\n",
      "  UserWarning)\n"
     ]
    },
    {
     "name": "stdout",
     "output_type": "stream",
     "text": [
      "0 BalanceScale ALIBICNOGRAD\n",
      "0 Ecoli SEDC\n"
     ]
    },
    {
     "name": "stderr",
     "output_type": "stream",
     "text": [
      "/home/rmazzine/anaconda3/envs/ALIBIC/lib/python3.7/site-packages/sklearn/base.py:334: UserWarning: Trying to unpickle estimator StandardScaler from version 0.23.1 when using version 0.23.2. This might lead to breaking code or invalid results. Use at your own risk.\n",
      "  UserWarning)\n"
     ]
    },
    {
     "name": "stdout",
     "output_type": "stream",
     "text": [
      "0 PBC LORE\n"
     ]
    },
    {
     "name": "stderr",
     "output_type": "stream",
     "text": [
      "/home/rmazzine/anaconda3/envs/ALIBIC/lib/python3.7/site-packages/sklearn/base.py:334: UserWarning: Trying to unpickle estimator StandardScaler from version 0.23.1 when using version 0.23.2. This might lead to breaking code or invalid results. Use at your own risk.\n",
      "  UserWarning)\n",
      "/home/rmazzine/anaconda3/envs/ALIBIC/lib/python3.7/site-packages/sklearn/base.py:334: UserWarning: Trying to unpickle estimator StandardScaler from version 0.23.1 when using version 0.23.2. This might lead to breaking code or invalid results. Use at your own risk.\n",
      "  UserWarning)\n"
     ]
    },
    {
     "name": "stdout",
     "output_type": "stream",
     "text": [
      "1 Ecoli CADEX\n"
     ]
    },
    {
     "name": "stderr",
     "output_type": "stream",
     "text": [
      "/home/rmazzine/anaconda3/envs/ALIBIC/lib/python3.7/site-packages/sklearn/base.py:334: UserWarning: Trying to unpickle estimator StandardScaler from version 0.23.1 when using version 0.23.2. This might lead to breaking code or invalid results. Use at your own risk.\n",
      "  UserWarning)\n"
     ]
    },
    {
     "name": "stdout",
     "output_type": "stream",
     "text": [
      "1 HayesRoth SEDC\n",
      "0 Lenses GROWINGSPHERES3\n",
      "0 Ecoli SYNAS\n"
     ]
    },
    {
     "name": "stderr",
     "output_type": "stream",
     "text": [
      "/home/rmazzine/anaconda3/envs/ALIBIC/lib/python3.7/site-packages/sklearn/base.py:334: UserWarning: Trying to unpickle estimator StandardScaler from version 0.23.1 when using version 0.23.2. This might lead to breaking code or invalid results. Use at your own risk.\n",
      "  UserWarning)\n"
     ]
    },
    {
     "name": "stdout",
     "output_type": "stream",
     "text": [
      "0 SoybeanSmall MLEXPLAIN\n",
      "1 StatlogGC CADEX\n"
     ]
    },
    {
     "name": "stderr",
     "output_type": "stream",
     "text": [
      "/home/rmazzine/anaconda3/envs/ALIBIC/lib/python3.7/site-packages/sklearn/base.py:334: UserWarning: Trying to unpickle estimator StandardScaler from version 0.23.1 when using version 0.23.2. This might lead to breaking code or invalid results. Use at your own risk.\n",
      "  UserWarning)\n"
     ]
    },
    {
     "name": "stdout",
     "output_type": "stream",
     "text": [
      "1 SoybeanSmall DICE\n",
      "0 DefaultOfCCC DICE\n"
     ]
    },
    {
     "name": "stderr",
     "output_type": "stream",
     "text": [
      "/home/rmazzine/anaconda3/envs/ALIBIC/lib/python3.7/site-packages/sklearn/base.py:334: UserWarning: Trying to unpickle estimator StandardScaler from version 0.23.1 when using version 0.23.2. This might lead to breaking code or invalid results. Use at your own risk.\n",
      "  UserWarning)\n"
     ]
    },
    {
     "name": "stdout",
     "output_type": "stream",
     "text": [
      "1 HayesRoth GROWINGSPHERES4\n",
      "0 Lymphography ALIBICNOGRAD\n",
      "1 MagicGT CADEX\n"
     ]
    },
    {
     "name": "stderr",
     "output_type": "stream",
     "text": [
      "/home/rmazzine/anaconda3/envs/ALIBIC/lib/python3.7/site-packages/sklearn/base.py:334: UserWarning: Trying to unpickle estimator StandardScaler from version 0.23.1 when using version 0.23.2. This might lead to breaking code or invalid results. Use at your own risk.\n",
      "  UserWarning)\n"
     ]
    },
    {
     "name": "stdout",
     "output_type": "stream",
     "text": [
      "0 StatlogGC SEDC\n"
     ]
    },
    {
     "name": "stderr",
     "output_type": "stream",
     "text": [
      "/home/rmazzine/anaconda3/envs/ALIBIC/lib/python3.7/site-packages/sklearn/base.py:334: UserWarning: Trying to unpickle estimator StandardScaler from version 0.23.1 when using version 0.23.2. This might lead to breaking code or invalid results. Use at your own risk.\n",
      "  UserWarning)\n"
     ]
    },
    {
     "name": "stdout",
     "output_type": "stream",
     "text": [
      "1 CMSC SEDC\n"
     ]
    },
    {
     "name": "stderr",
     "output_type": "stream",
     "text": [
      "/home/rmazzine/anaconda3/envs/ALIBIC/lib/python3.7/site-packages/sklearn/base.py:334: UserWarning: Trying to unpickle estimator StandardScaler from version 0.23.1 when using version 0.23.2. This might lead to breaking code or invalid results. Use at your own risk.\n",
      "  UserWarning)\n"
     ]
    },
    {
     "name": "stdout",
     "output_type": "stream",
     "text": [
      "0 TicTacToe ALIBICNOGRAD\n",
      "0 Lymphography ALIBIC\n",
      "0 Lymphography SEDC\n",
      "0 SoybeanSmall ALIBICNOGRAD\n",
      "1 Chess MLEXPLAIN\n",
      "1 StatlogGC GROWINGSPHERES4\n"
     ]
    },
    {
     "name": "stderr",
     "output_type": "stream",
     "text": [
      "/home/rmazzine/anaconda3/envs/ALIBIC/lib/python3.7/site-packages/sklearn/base.py:334: UserWarning: Trying to unpickle estimator StandardScaler from version 0.23.1 when using version 0.23.2. This might lead to breaking code or invalid results. Use at your own risk.\n",
      "  UserWarning)\n"
     ]
    },
    {
     "name": "stdout",
     "output_type": "stream",
     "text": [
      "1 Nursery MLEXPLAIN\n",
      "0 BalanceScale GROWINGSPHERES4\n",
      "1 SoybeanSmall MACE\n",
      "0 Nursery GROWINGSPHERES4\n",
      "1 Nursery DICE\n",
      "1 Adult CADEX\n"
     ]
    },
    {
     "name": "stderr",
     "output_type": "stream",
     "text": [
      "/home/rmazzine/anaconda3/envs/ALIBIC/lib/python3.7/site-packages/sklearn/base.py:334: UserWarning: Trying to unpickle estimator StandardScaler from version 0.23.1 when using version 0.23.2. This might lead to breaking code or invalid results. Use at your own risk.\n",
      "  UserWarning)\n"
     ]
    },
    {
     "name": "stdout",
     "output_type": "stream",
     "text": [
      "0 StudentPerf SEDC\n"
     ]
    },
    {
     "name": "stderr",
     "output_type": "stream",
     "text": [
      "/home/rmazzine/anaconda3/envs/ALIBIC/lib/python3.7/site-packages/sklearn/base.py:334: UserWarning: Trying to unpickle estimator StandardScaler from version 0.23.1 when using version 0.23.2. This might lead to breaking code or invalid results. Use at your own risk.\n",
      "  UserWarning)\n"
     ]
    },
    {
     "name": "stdout",
     "output_type": "stream",
     "text": [
      "0 HayesRoth GROWINGSPHERES4\n",
      "0 TicTacToe MLEXPLAIN\n",
      "1 BalanceScale CADEX\n",
      "0 PBC ALIBICNOGRAD\n"
     ]
    },
    {
     "name": "stderr",
     "output_type": "stream",
     "text": [
      "/home/rmazzine/anaconda3/envs/ALIBIC/lib/python3.7/site-packages/sklearn/base.py:334: UserWarning: Trying to unpickle estimator StandardScaler from version 0.23.1 when using version 0.23.2. This might lead to breaking code or invalid results. Use at your own risk.\n",
      "  UserWarning)\n",
      "/home/rmazzine/anaconda3/envs/ALIBIC/lib/python3.7/site-packages/sklearn/base.py:334: UserWarning: Trying to unpickle estimator StandardScaler from version 0.23.1 when using version 0.23.2. This might lead to breaking code or invalid results. Use at your own risk.\n",
      "  UserWarning)\n"
     ]
    },
    {
     "name": "stdout",
     "output_type": "stream",
     "text": [
      "1 MagicGT ALIBICNOGRAD\n"
     ]
    },
    {
     "name": "stderr",
     "output_type": "stream",
     "text": [
      "/home/rmazzine/anaconda3/envs/ALIBIC/lib/python3.7/site-packages/sklearn/base.py:334: UserWarning: Trying to unpickle estimator StandardScaler from version 0.23.1 when using version 0.23.2. This might lead to breaking code or invalid results. Use at your own risk.\n",
      "  UserWarning)\n"
     ]
    },
    {
     "name": "stdout",
     "output_type": "stream",
     "text": [
      "1 Wine ALIBICNOGRAD\n"
     ]
    },
    {
     "name": "stderr",
     "output_type": "stream",
     "text": [
      "/home/rmazzine/anaconda3/envs/ALIBIC/lib/python3.7/site-packages/sklearn/base.py:334: UserWarning: Trying to unpickle estimator StandardScaler from version 0.23.1 when using version 0.23.2. This might lead to breaking code or invalid results. Use at your own risk.\n",
      "  UserWarning)\n"
     ]
    },
    {
     "name": "stdout",
     "output_type": "stream",
     "text": [
      "0 CarEvaluation LORE\n",
      "0 Chess DICE\n",
      "0 InternetAdv LORE\n"
     ]
    },
    {
     "name": "stderr",
     "output_type": "stream",
     "text": [
      "/home/rmazzine/anaconda3/envs/ALIBIC/lib/python3.7/site-packages/sklearn/base.py:334: UserWarning: Trying to unpickle estimator StandardScaler from version 0.23.1 when using version 0.23.2. This might lead to breaking code or invalid results. Use at your own risk.\n",
      "  UserWarning)\n",
      "/home/rmazzine/anaconda3/envs/ALIBIC/lib/python3.7/site-packages/sklearn/base.py:334: UserWarning: Trying to unpickle estimator StandardScaler from version 0.23.1 when using version 0.23.2. This might lead to breaking code or invalid results. Use at your own risk.\n",
      "  UserWarning)\n"
     ]
    },
    {
     "name": "stdout",
     "output_type": "stream",
     "text": [
      "1 TicTacToe SEDC\n",
      "1 PBC DICE\n"
     ]
    },
    {
     "name": "stderr",
     "output_type": "stream",
     "text": [
      "/home/rmazzine/anaconda3/envs/ALIBIC/lib/python3.7/site-packages/sklearn/base.py:334: UserWarning: Trying to unpickle estimator StandardScaler from version 0.23.1 when using version 0.23.2. This might lead to breaking code or invalid results. Use at your own risk.\n",
      "  UserWarning)\n",
      "/home/rmazzine/anaconda3/envs/ALIBIC/lib/python3.7/site-packages/sklearn/base.py:334: UserWarning: Trying to unpickle estimator StandardScaler from version 0.23.1 when using version 0.23.2. This might lead to breaking code or invalid results. Use at your own risk.\n",
      "  UserWarning)\n"
     ]
    },
    {
     "name": "stdout",
     "output_type": "stream",
     "text": [
      "1 Iris SYNAS\n"
     ]
    },
    {
     "name": "stderr",
     "output_type": "stream",
     "text": [
      "/home/rmazzine/anaconda3/envs/ALIBIC/lib/python3.7/site-packages/sklearn/base.py:334: UserWarning: Trying to unpickle estimator StandardScaler from version 0.23.1 when using version 0.23.2. This might lead to breaking code or invalid results. Use at your own risk.\n",
      "  UserWarning)\n"
     ]
    },
    {
     "name": "stdout",
     "output_type": "stream",
     "text": [
      "0 TicTacToe DICE\n",
      "0 BCW SEDC\n"
     ]
    },
    {
     "name": "stderr",
     "output_type": "stream",
     "text": [
      "/home/rmazzine/anaconda3/envs/ALIBIC/lib/python3.7/site-packages/sklearn/base.py:334: UserWarning: Trying to unpickle estimator StandardScaler from version 0.23.1 when using version 0.23.2. This might lead to breaking code or invalid results. Use at your own risk.\n",
      "  UserWarning)\n",
      "/home/rmazzine/anaconda3/envs/ALIBIC/lib/python3.7/site-packages/sklearn/base.py:334: UserWarning: Trying to unpickle estimator StandardScaler from version 0.23.1 when using version 0.23.2. This might lead to breaking code or invalid results. Use at your own risk.\n",
      "  UserWarning)\n"
     ]
    },
    {
     "name": "stdout",
     "output_type": "stream",
     "text": [
      "0 StatlogGC SYNAS\n"
     ]
    },
    {
     "name": "stderr",
     "output_type": "stream",
     "text": [
      "/home/rmazzine/anaconda3/envs/ALIBIC/lib/python3.7/site-packages/sklearn/base.py:334: UserWarning: Trying to unpickle estimator StandardScaler from version 0.23.1 when using version 0.23.2. This might lead to breaking code or invalid results. Use at your own risk.\n",
      "  UserWarning)\n"
     ]
    },
    {
     "name": "stdout",
     "output_type": "stream",
     "text": [
      "0 SDD DICE\n",
      "0 StudentPerf MACE\n",
      "1 DefaultOfCCC MLEXPLAIN\n"
     ]
    },
    {
     "name": "stderr",
     "output_type": "stream",
     "text": [
      "/home/rmazzine/anaconda3/envs/ALIBIC/lib/python3.7/site-packages/sklearn/base.py:334: UserWarning: Trying to unpickle estimator StandardScaler from version 0.23.1 when using version 0.23.2. This might lead to breaking code or invalid results. Use at your own risk.\n",
      "  UserWarning)\n"
     ]
    },
    {
     "name": "stdout",
     "output_type": "stream",
     "text": [
      "1 CMSC DICE\n"
     ]
    },
    {
     "name": "stderr",
     "output_type": "stream",
     "text": [
      "/home/rmazzine/anaconda3/envs/ALIBIC/lib/python3.7/site-packages/sklearn/base.py:334: UserWarning: Trying to unpickle estimator StandardScaler from version 0.23.1 when using version 0.23.2. This might lead to breaking code or invalid results. Use at your own risk.\n",
      "  UserWarning)\n"
     ]
    },
    {
     "name": "stdout",
     "output_type": "stream",
     "text": [
      "1 Ecoli ALIBIC\n"
     ]
    },
    {
     "name": "stderr",
     "output_type": "stream",
     "text": [
      "/home/rmazzine/anaconda3/envs/ALIBIC/lib/python3.7/site-packages/sklearn/base.py:334: UserWarning: Trying to unpickle estimator StandardScaler from version 0.23.1 when using version 0.23.2. This might lead to breaking code or invalid results. Use at your own risk.\n",
      "  UserWarning)\n"
     ]
    },
    {
     "name": "stdout",
     "output_type": "stream",
     "text": [
      "0 HayesRoth MACE\n",
      "0 Lymphography GROWINGSPHERES4\n",
      "1 BalanceScale ALIBIC\n",
      "0 BalanceScale SEDC\n",
      "0 Adult GROWINGSPHERES3\n"
     ]
    },
    {
     "name": "stderr",
     "output_type": "stream",
     "text": [
      "/home/rmazzine/anaconda3/envs/ALIBIC/lib/python3.7/site-packages/sklearn/base.py:334: UserWarning: Trying to unpickle estimator StandardScaler from version 0.23.1 when using version 0.23.2. This might lead to breaking code or invalid results. Use at your own risk.\n",
      "  UserWarning)\n"
     ]
    },
    {
     "name": "stdout",
     "output_type": "stream",
     "text": [
      "1 TicTacToe GROWINGSPHERES4\n",
      "0 Iris MLEXPLAIN\n"
     ]
    },
    {
     "name": "stderr",
     "output_type": "stream",
     "text": [
      "/home/rmazzine/anaconda3/envs/ALIBIC/lib/python3.7/site-packages/sklearn/base.py:334: UserWarning: Trying to unpickle estimator StandardScaler from version 0.23.1 when using version 0.23.2. This might lead to breaking code or invalid results. Use at your own risk.\n",
      "  UserWarning)\n"
     ]
    },
    {
     "name": "stdout",
     "output_type": "stream",
     "text": [
      "0 Adult ALIBIC\n"
     ]
    },
    {
     "name": "stderr",
     "output_type": "stream",
     "text": [
      "/home/rmazzine/anaconda3/envs/ALIBIC/lib/python3.7/site-packages/sklearn/base.py:334: UserWarning: Trying to unpickle estimator StandardScaler from version 0.23.1 when using version 0.23.2. This might lead to breaking code or invalid results. Use at your own risk.\n",
      "  UserWarning)\n"
     ]
    },
    {
     "name": "stdout",
     "output_type": "stream",
     "text": [
      "0 SoybeanSmall CADEX\n",
      "0 BCW MLEXPLAIN\n"
     ]
    },
    {
     "name": "stderr",
     "output_type": "stream",
     "text": [
      "/home/rmazzine/anaconda3/envs/ALIBIC/lib/python3.7/site-packages/sklearn/base.py:334: UserWarning: Trying to unpickle estimator StandardScaler from version 0.23.1 when using version 0.23.2. This might lead to breaking code or invalid results. Use at your own risk.\n",
      "  UserWarning)\n",
      "/home/rmazzine/anaconda3/envs/ALIBIC/lib/python3.7/site-packages/sklearn/base.py:334: UserWarning: Trying to unpickle estimator StandardScaler from version 0.23.1 when using version 0.23.2. This might lead to breaking code or invalid results. Use at your own risk.\n",
      "  UserWarning)\n"
     ]
    },
    {
     "name": "stdout",
     "output_type": "stream",
     "text": [
      "0 Adult GROWINGSPHERES4\n"
     ]
    },
    {
     "name": "stderr",
     "output_type": "stream",
     "text": [
      "/home/rmazzine/anaconda3/envs/ALIBIC/lib/python3.7/site-packages/sklearn/base.py:334: UserWarning: Trying to unpickle estimator StandardScaler from version 0.23.1 when using version 0.23.2. This might lead to breaking code or invalid results. Use at your own risk.\n",
      "  UserWarning)\n"
     ]
    },
    {
     "name": "stdout",
     "output_type": "stream",
     "text": [
      "1 SDD ALIBICNOGRAD\n",
      "0 Nursery ALIBICNOGRAD\n",
      "0 Chess SEDC\n",
      "0 Nursery SEDC\n",
      "1 MagicGT MLEXPLAIN\n"
     ]
    },
    {
     "name": "stderr",
     "output_type": "stream",
     "text": [
      "/home/rmazzine/anaconda3/envs/ALIBIC/lib/python3.7/site-packages/sklearn/base.py:334: UserWarning: Trying to unpickle estimator StandardScaler from version 0.23.1 when using version 0.23.2. This might lead to breaking code or invalid results. Use at your own risk.\n",
      "  UserWarning)\n"
     ]
    },
    {
     "name": "stdout",
     "output_type": "stream",
     "text": [
      "1 BalanceScale SYNAS\n",
      "0 StatlogGC CADEX\n"
     ]
    },
    {
     "name": "stderr",
     "output_type": "stream",
     "text": [
      "/home/rmazzine/anaconda3/envs/ALIBIC/lib/python3.7/site-packages/sklearn/base.py:334: UserWarning: Trying to unpickle estimator StandardScaler from version 0.23.1 when using version 0.23.2. This might lead to breaking code or invalid results. Use at your own risk.\n",
      "  UserWarning)\n"
     ]
    },
    {
     "name": "stdout",
     "output_type": "stream",
     "text": [
      "0 DefaultOfCCC ALIBICNOGRAD\n"
     ]
    },
    {
     "name": "stderr",
     "output_type": "stream",
     "text": [
      "/home/rmazzine/anaconda3/envs/ALIBIC/lib/python3.7/site-packages/sklearn/base.py:334: UserWarning: Trying to unpickle estimator StandardScaler from version 0.23.1 when using version 0.23.2. This might lead to breaking code or invalid results. Use at your own risk.\n",
      "  UserWarning)\n"
     ]
    },
    {
     "name": "stdout",
     "output_type": "stream",
     "text": [
      "0 Iris ALIBICNOGRAD\n"
     ]
    },
    {
     "name": "stderr",
     "output_type": "stream",
     "text": [
      "/home/rmazzine/anaconda3/envs/ALIBIC/lib/python3.7/site-packages/sklearn/base.py:334: UserWarning: Trying to unpickle estimator StandardScaler from version 0.23.1 when using version 0.23.2. This might lead to breaking code or invalid results. Use at your own risk.\n",
      "  UserWarning)\n"
     ]
    },
    {
     "name": "stdout",
     "output_type": "stream",
     "text": [
      "1 SoybeanSmall CADEX\n",
      "1 BalanceScale ALIBICNOGRAD\n",
      "0 MagicGT GROWINGSPHERES4\n"
     ]
    },
    {
     "name": "stderr",
     "output_type": "stream",
     "text": [
      "/home/rmazzine/anaconda3/envs/ALIBIC/lib/python3.7/site-packages/sklearn/base.py:334: UserWarning: Trying to unpickle estimator StandardScaler from version 0.23.1 when using version 0.23.2. This might lead to breaking code or invalid results. Use at your own risk.\n",
      "  UserWarning)\n"
     ]
    },
    {
     "name": "stdout",
     "output_type": "stream",
     "text": [
      "1 Chess ALIBIC\n",
      "0 CMSC SEDC\n"
     ]
    },
    {
     "name": "stderr",
     "output_type": "stream",
     "text": [
      "/home/rmazzine/anaconda3/envs/ALIBIC/lib/python3.7/site-packages/sklearn/base.py:334: UserWarning: Trying to unpickle estimator StandardScaler from version 0.23.1 when using version 0.23.2. This might lead to breaking code or invalid results. Use at your own risk.\n",
      "  UserWarning)\n"
     ]
    },
    {
     "name": "stdout",
     "output_type": "stream",
     "text": [
      "1 MagicGT ALIBIC\n"
     ]
    },
    {
     "name": "stderr",
     "output_type": "stream",
     "text": [
      "/home/rmazzine/anaconda3/envs/ALIBIC/lib/python3.7/site-packages/sklearn/base.py:334: UserWarning: Trying to unpickle estimator StandardScaler from version 0.23.1 when using version 0.23.2. This might lead to breaking code or invalid results. Use at your own risk.\n",
      "  UserWarning)\n"
     ]
    },
    {
     "name": "stdout",
     "output_type": "stream",
     "text": [
      "0 Lymphography GROWINGSPHERES3\n",
      "1 DefaultOfCCC CADEX\n"
     ]
    },
    {
     "name": "stderr",
     "output_type": "stream",
     "text": [
      "/home/rmazzine/anaconda3/envs/ALIBIC/lib/python3.7/site-packages/sklearn/base.py:334: UserWarning: Trying to unpickle estimator StandardScaler from version 0.23.1 when using version 0.23.2. This might lead to breaking code or invalid results. Use at your own risk.\n",
      "  UserWarning)\n"
     ]
    },
    {
     "name": "stdout",
     "output_type": "stream",
     "text": [
      "1 Adult ALIBICNOGRAD\n"
     ]
    },
    {
     "name": "stderr",
     "output_type": "stream",
     "text": [
      "/home/rmazzine/anaconda3/envs/ALIBIC/lib/python3.7/site-packages/sklearn/base.py:334: UserWarning: Trying to unpickle estimator StandardScaler from version 0.23.1 when using version 0.23.2. This might lead to breaking code or invalid results. Use at your own risk.\n",
      "  UserWarning)\n"
     ]
    },
    {
     "name": "stdout",
     "output_type": "stream",
     "text": [
      "0 ISOLET SEDC\n"
     ]
    },
    {
     "name": "stderr",
     "output_type": "stream",
     "text": [
      "/home/rmazzine/anaconda3/envs/ALIBIC/lib/python3.7/site-packages/sklearn/base.py:334: UserWarning: Trying to unpickle estimator StandardScaler from version 0.23.1 when using version 0.23.2. This might lead to breaking code or invalid results. Use at your own risk.\n",
      "  UserWarning)\n"
     ]
    },
    {
     "name": "stdout",
     "output_type": "stream",
     "text": [
      "1 Chess ALIBICNOGRAD\n",
      "1 InternetAdv SEDC\n"
     ]
    },
    {
     "name": "stderr",
     "output_type": "stream",
     "text": [
      "/home/rmazzine/anaconda3/envs/ALIBIC/lib/python3.7/site-packages/sklearn/base.py:334: UserWarning: Trying to unpickle estimator StandardScaler from version 0.23.1 when using version 0.23.2. This might lead to breaking code or invalid results. Use at your own risk.\n",
      "  UserWarning)\n",
      "/home/rmazzine/anaconda3/envs/ALIBIC/lib/python3.7/site-packages/sklearn/base.py:334: UserWarning: Trying to unpickle estimator StandardScaler from version 0.23.1 when using version 0.23.2. This might lead to breaking code or invalid results. Use at your own risk.\n",
      "  UserWarning)\n"
     ]
    },
    {
     "name": "stdout",
     "output_type": "stream",
     "text": [
      "0 Iris GROWINGSPHERES4\n"
     ]
    },
    {
     "name": "stderr",
     "output_type": "stream",
     "text": [
      "/home/rmazzine/anaconda3/envs/ALIBIC/lib/python3.7/site-packages/sklearn/base.py:334: UserWarning: Trying to unpickle estimator StandardScaler from version 0.23.1 when using version 0.23.2. This might lead to breaking code or invalid results. Use at your own risk.\n",
      "  UserWarning)\n"
     ]
    },
    {
     "name": "stdout",
     "output_type": "stream",
     "text": [
      "0 CarEvaluation DICE\n",
      "0 StudentPerf SYNAS\n"
     ]
    },
    {
     "name": "stderr",
     "output_type": "stream",
     "text": [
      "/home/rmazzine/anaconda3/envs/ALIBIC/lib/python3.7/site-packages/sklearn/base.py:334: UserWarning: Trying to unpickle estimator StandardScaler from version 0.23.1 when using version 0.23.2. This might lead to breaking code or invalid results. Use at your own risk.\n",
      "  UserWarning)\n"
     ]
    },
    {
     "name": "stdout",
     "output_type": "stream",
     "text": [
      "1 BalanceScale SEDC\n",
      "0 InternetAdv GROWINGSPHERES4\n"
     ]
    },
    {
     "name": "stderr",
     "output_type": "stream",
     "text": [
      "/home/rmazzine/anaconda3/envs/ALIBIC/lib/python3.7/site-packages/sklearn/base.py:334: UserWarning: Trying to unpickle estimator StandardScaler from version 0.23.1 when using version 0.23.2. This might lead to breaking code or invalid results. Use at your own risk.\n",
      "  UserWarning)\n",
      "/home/rmazzine/anaconda3/envs/ALIBIC/lib/python3.7/site-packages/sklearn/base.py:334: UserWarning: Trying to unpickle estimator StandardScaler from version 0.23.1 when using version 0.23.2. This might lead to breaking code or invalid results. Use at your own risk.\n",
      "  UserWarning)\n"
     ]
    },
    {
     "name": "stdout",
     "output_type": "stream",
     "text": [
      "0 SoybeanSmall SYNAS\n",
      "0 StatlogGC GROWINGSPHERES3\n"
     ]
    },
    {
     "name": "stderr",
     "output_type": "stream",
     "text": [
      "/home/rmazzine/anaconda3/envs/ALIBIC/lib/python3.7/site-packages/sklearn/base.py:334: UserWarning: Trying to unpickle estimator StandardScaler from version 0.23.1 when using version 0.23.2. This might lead to breaking code or invalid results. Use at your own risk.\n",
      "  UserWarning)\n"
     ]
    },
    {
     "name": "stdout",
     "output_type": "stream",
     "text": [
      "1 CMSC SYNAS\n"
     ]
    },
    {
     "name": "stderr",
     "output_type": "stream",
     "text": [
      "/home/rmazzine/anaconda3/envs/ALIBIC/lib/python3.7/site-packages/sklearn/base.py:334: UserWarning: Trying to unpickle estimator StandardScaler from version 0.23.1 when using version 0.23.2. This might lead to breaking code or invalid results. Use at your own risk.\n",
      "  UserWarning)\n"
     ]
    },
    {
     "name": "stdout",
     "output_type": "stream",
     "text": [
      "0 Adult DICE\n"
     ]
    },
    {
     "name": "stderr",
     "output_type": "stream",
     "text": [
      "/home/rmazzine/anaconda3/envs/ALIBIC/lib/python3.7/site-packages/sklearn/base.py:334: UserWarning: Trying to unpickle estimator StandardScaler from version 0.23.1 when using version 0.23.2. This might lead to breaking code or invalid results. Use at your own risk.\n",
      "  UserWarning)\n"
     ]
    },
    {
     "name": "stdout",
     "output_type": "stream",
     "text": [
      "1 Lenses SYNAS\n",
      "1 ISOLET GROWINGSPHERES3\n",
      "1 Ecoli SEDC\n"
     ]
    },
    {
     "name": "stderr",
     "output_type": "stream",
     "text": [
      "/home/rmazzine/anaconda3/envs/ALIBIC/lib/python3.7/site-packages/sklearn/base.py:334: UserWarning: Trying to unpickle estimator StandardScaler from version 0.23.1 when using version 0.23.2. This might lead to breaking code or invalid results. Use at your own risk.\n",
      "  UserWarning)\n"
     ]
    },
    {
     "name": "stdout",
     "output_type": "stream",
     "text": [
      "0 DefaultOfCCC GROWINGSPHERES4\n"
     ]
    },
    {
     "name": "stderr",
     "output_type": "stream",
     "text": [
      "/home/rmazzine/anaconda3/envs/ALIBIC/lib/python3.7/site-packages/sklearn/base.py:334: UserWarning: Trying to unpickle estimator StandardScaler from version 0.23.1 when using version 0.23.2. This might lead to breaking code or invalid results. Use at your own risk.\n",
      "  UserWarning)\n"
     ]
    },
    {
     "name": "stdout",
     "output_type": "stream",
     "text": [
      "0 SoybeanSmall GROWINGSPHERES4\n",
      "1 PBC SEDC\n"
     ]
    },
    {
     "name": "stderr",
     "output_type": "stream",
     "text": [
      "/home/rmazzine/anaconda3/envs/ALIBIC/lib/python3.7/site-packages/sklearn/base.py:334: UserWarning: Trying to unpickle estimator StandardScaler from version 0.23.1 when using version 0.23.2. This might lead to breaking code or invalid results. Use at your own risk.\n",
      "  UserWarning)\n",
      "/home/rmazzine/anaconda3/envs/ALIBIC/lib/python3.7/site-packages/sklearn/base.py:334: UserWarning: Trying to unpickle estimator StandardScaler from version 0.23.1 when using version 0.23.2. This might lead to breaking code or invalid results. Use at your own risk.\n",
      "  UserWarning)\n"
     ]
    },
    {
     "name": "stdout",
     "output_type": "stream",
     "text": [
      "0 HayesRoth GROWINGSPHERES3\n",
      "1 StudentPerf LORE\n",
      "0 DefaultOfCCC SEDC\n"
     ]
    },
    {
     "name": "stderr",
     "output_type": "stream",
     "text": [
      "/home/rmazzine/anaconda3/envs/ALIBIC/lib/python3.7/site-packages/sklearn/base.py:334: UserWarning: Trying to unpickle estimator StandardScaler from version 0.23.1 when using version 0.23.2. This might lead to breaking code or invalid results. Use at your own risk.\n",
      "  UserWarning)\n"
     ]
    },
    {
     "name": "stdout",
     "output_type": "stream",
     "text": [
      "1 Ecoli GROWINGSPHERES3\n"
     ]
    },
    {
     "name": "stderr",
     "output_type": "stream",
     "text": [
      "/home/rmazzine/anaconda3/envs/ALIBIC/lib/python3.7/site-packages/sklearn/base.py:334: UserWarning: Trying to unpickle estimator StandardScaler from version 0.23.1 when using version 0.23.2. This might lead to breaking code or invalid results. Use at your own risk.\n",
      "  UserWarning)\n"
     ]
    },
    {
     "name": "stdout",
     "output_type": "stream",
     "text": [
      "1 Chess SYNAS\n",
      "0 StudentPerf LORE\n",
      "0 StudentPerf ALIBIC\n"
     ]
    },
    {
     "name": "stderr",
     "output_type": "stream",
     "text": [
      "/home/rmazzine/anaconda3/envs/ALIBIC/lib/python3.7/site-packages/sklearn/base.py:334: UserWarning: Trying to unpickle estimator StandardScaler from version 0.23.1 when using version 0.23.2. This might lead to breaking code or invalid results. Use at your own risk.\n",
      "  UserWarning)\n"
     ]
    },
    {
     "name": "stdout",
     "output_type": "stream",
     "text": [
      "0 Nursery MLEXPLAIN\n",
      "0 Iris DICE\n"
     ]
    },
    {
     "name": "stderr",
     "output_type": "stream",
     "text": [
      "/home/rmazzine/anaconda3/envs/ALIBIC/lib/python3.7/site-packages/sklearn/base.py:334: UserWarning: Trying to unpickle estimator StandardScaler from version 0.23.1 when using version 0.23.2. This might lead to breaking code or invalid results. Use at your own risk.\n",
      "  UserWarning)\n"
     ]
    },
    {
     "name": "stdout",
     "output_type": "stream",
     "text": [
      "0 BCW GROWINGSPHERES4\n"
     ]
    },
    {
     "name": "stderr",
     "output_type": "stream",
     "text": [
      "/home/rmazzine/anaconda3/envs/ALIBIC/lib/python3.7/site-packages/sklearn/base.py:334: UserWarning: Trying to unpickle estimator StandardScaler from version 0.23.1 when using version 0.23.2. This might lead to breaking code or invalid results. Use at your own risk.\n",
      "  UserWarning)\n",
      "/home/rmazzine/anaconda3/envs/ALIBIC/lib/python3.7/site-packages/sklearn/base.py:334: UserWarning: Trying to unpickle estimator StandardScaler from version 0.23.1 when using version 0.23.2. This might lead to breaking code or invalid results. Use at your own risk.\n",
      "  UserWarning)\n"
     ]
    },
    {
     "name": "stdout",
     "output_type": "stream",
     "text": [
      "1 Nursery SYNAS\n",
      "0 PBC CADEX\n"
     ]
    },
    {
     "name": "stderr",
     "output_type": "stream",
     "text": [
      "/home/rmazzine/anaconda3/envs/ALIBIC/lib/python3.7/site-packages/sklearn/base.py:334: UserWarning: Trying to unpickle estimator StandardScaler from version 0.23.1 when using version 0.23.2. This might lead to breaking code or invalid results. Use at your own risk.\n",
      "  UserWarning)\n",
      "/home/rmazzine/anaconda3/envs/ALIBIC/lib/python3.7/site-packages/sklearn/base.py:334: UserWarning: Trying to unpickle estimator StandardScaler from version 0.23.1 when using version 0.23.2. This might lead to breaking code or invalid results. Use at your own risk.\n",
      "  UserWarning)\n"
     ]
    },
    {
     "name": "stdout",
     "output_type": "stream",
     "text": [
      "1 Adult GROWINGSPHERES3\n"
     ]
    },
    {
     "name": "stderr",
     "output_type": "stream",
     "text": [
      "/home/rmazzine/anaconda3/envs/ALIBIC/lib/python3.7/site-packages/sklearn/base.py:334: UserWarning: Trying to unpickle estimator StandardScaler from version 0.23.1 when using version 0.23.2. This might lead to breaking code or invalid results. Use at your own risk.\n",
      "  UserWarning)\n"
     ]
    },
    {
     "name": "stdout",
     "output_type": "stream",
     "text": [
      "1 InternetAdv GROWINGSPHERES4\n"
     ]
    },
    {
     "name": "stderr",
     "output_type": "stream",
     "text": [
      "/home/rmazzine/anaconda3/envs/ALIBIC/lib/python3.7/site-packages/sklearn/base.py:334: UserWarning: Trying to unpickle estimator StandardScaler from version 0.23.1 when using version 0.23.2. This might lead to breaking code or invalid results. Use at your own risk.\n",
      "  UserWarning)\n",
      "/home/rmazzine/anaconda3/envs/ALIBIC/lib/python3.7/site-packages/sklearn/base.py:334: UserWarning: Trying to unpickle estimator StandardScaler from version 0.23.1 when using version 0.23.2. This might lead to breaking code or invalid results. Use at your own risk.\n",
      "  UserWarning)\n"
     ]
    },
    {
     "name": "stdout",
     "output_type": "stream",
     "text": [
      "1 DefaultOfCCC LORE\n",
      "1 Iris CADEX\n"
     ]
    },
    {
     "name": "stderr",
     "output_type": "stream",
     "text": [
      "/home/rmazzine/anaconda3/envs/ALIBIC/lib/python3.7/site-packages/sklearn/base.py:334: UserWarning: Trying to unpickle estimator StandardScaler from version 0.23.1 when using version 0.23.2. This might lead to breaking code or invalid results. Use at your own risk.\n",
      "  UserWarning)\n"
     ]
    },
    {
     "name": "stdout",
     "output_type": "stream",
     "text": [
      "0 ISOLET MLEXPLAIN\n",
      "0 Chess GROWINGSPHERES4\n",
      "0 MagicGT ALIBICNOGRAD\n"
     ]
    },
    {
     "name": "stderr",
     "output_type": "stream",
     "text": [
      "/home/rmazzine/anaconda3/envs/ALIBIC/lib/python3.7/site-packages/sklearn/base.py:334: UserWarning: Trying to unpickle estimator StandardScaler from version 0.23.1 when using version 0.23.2. This might lead to breaking code or invalid results. Use at your own risk.\n",
      "  UserWarning)\n"
     ]
    },
    {
     "name": "stdout",
     "output_type": "stream",
     "text": [
      "1 InternetAdv DICE\n",
      "0 Lymphography LORE\n",
      "1 ISOLET ALIBICNOGRAD\n"
     ]
    },
    {
     "name": "stderr",
     "output_type": "stream",
     "text": [
      "/home/rmazzine/anaconda3/envs/ALIBIC/lib/python3.7/site-packages/sklearn/base.py:334: UserWarning: Trying to unpickle estimator StandardScaler from version 0.23.1 when using version 0.23.2. This might lead to breaking code or invalid results. Use at your own risk.\n",
      "  UserWarning)\n"
     ]
    },
    {
     "name": "stdout",
     "output_type": "stream",
     "text": [
      "1 Ecoli MACE\n",
      "0 SDD SYNAS\n",
      "0 BalanceScale DICE\n",
      "0 Chess LORE\n",
      "0 CMSC DICE\n"
     ]
    },
    {
     "name": "stderr",
     "output_type": "stream",
     "text": [
      "/home/rmazzine/anaconda3/envs/ALIBIC/lib/python3.7/site-packages/sklearn/base.py:334: UserWarning: Trying to unpickle estimator StandardScaler from version 0.23.1 when using version 0.23.2. This might lead to breaking code or invalid results. Use at your own risk.\n",
      "  UserWarning)\n"
     ]
    },
    {
     "name": "stdout",
     "output_type": "stream",
     "text": [
      "0 SoybeanSmall MACE\n",
      "1 Chess MACE\n",
      "1 Iris ALIBIC\n"
     ]
    },
    {
     "name": "stderr",
     "output_type": "stream",
     "text": [
      "/home/rmazzine/anaconda3/envs/ALIBIC/lib/python3.7/site-packages/sklearn/base.py:334: UserWarning: Trying to unpickle estimator StandardScaler from version 0.23.1 when using version 0.23.2. This might lead to breaking code or invalid results. Use at your own risk.\n",
      "  UserWarning)\n"
     ]
    },
    {
     "name": "stdout",
     "output_type": "stream",
     "text": [
      "0 MagicGT MACE\n"
     ]
    },
    {
     "name": "stderr",
     "output_type": "stream",
     "text": [
      "/home/rmazzine/anaconda3/envs/ALIBIC/lib/python3.7/site-packages/sklearn/base.py:334: UserWarning: Trying to unpickle estimator StandardScaler from version 0.23.1 when using version 0.23.2. This might lead to breaking code or invalid results. Use at your own risk.\n",
      "  UserWarning)\n"
     ]
    },
    {
     "name": "stdout",
     "output_type": "stream",
     "text": [
      "0 BCW SYNAS\n"
     ]
    },
    {
     "name": "stderr",
     "output_type": "stream",
     "text": [
      "/home/rmazzine/anaconda3/envs/ALIBIC/lib/python3.7/site-packages/sklearn/base.py:334: UserWarning: Trying to unpickle estimator StandardScaler from version 0.23.1 when using version 0.23.2. This might lead to breaking code or invalid results. Use at your own risk.\n",
      "  UserWarning)\n",
      "/home/rmazzine/anaconda3/envs/ALIBIC/lib/python3.7/site-packages/sklearn/base.py:334: UserWarning: Trying to unpickle estimator StandardScaler from version 0.23.1 when using version 0.23.2. This might lead to breaking code or invalid results. Use at your own risk.\n",
      "  UserWarning)\n"
     ]
    },
    {
     "name": "stdout",
     "output_type": "stream",
     "text": [
      "1 BalanceScale GROWINGSPHERES4\n",
      "1 SDD GROWINGSPHERES3\n"
     ]
    },
    {
     "name": "stderr",
     "output_type": "stream",
     "text": [
      "/home/rmazzine/anaconda3/envs/ALIBIC/lib/python3.7/site-packages/sklearn/base.py:334: UserWarning: Trying to unpickle estimator StandardScaler from version 0.23.1 when using version 0.23.2. This might lead to breaking code or invalid results. Use at your own risk.\n",
      "  UserWarning)\n"
     ]
    },
    {
     "name": "stdout",
     "output_type": "stream",
     "text": [
      "1 Lenses GROWINGSPHERES4\n",
      "1 Adult ALIBIC\n"
     ]
    },
    {
     "name": "stderr",
     "output_type": "stream",
     "text": [
      "/home/rmazzine/anaconda3/envs/ALIBIC/lib/python3.7/site-packages/sklearn/base.py:334: UserWarning: Trying to unpickle estimator StandardScaler from version 0.23.1 when using version 0.23.2. This might lead to breaking code or invalid results. Use at your own risk.\n",
      "  UserWarning)\n"
     ]
    },
    {
     "name": "stdout",
     "output_type": "stream",
     "text": [
      "0 SDD GROWINGSPHERES4\n"
     ]
    },
    {
     "name": "stderr",
     "output_type": "stream",
     "text": [
      "/home/rmazzine/anaconda3/envs/ALIBIC/lib/python3.7/site-packages/sklearn/base.py:334: UserWarning: Trying to unpickle estimator StandardScaler from version 0.23.1 when using version 0.23.2. This might lead to breaking code or invalid results. Use at your own risk.\n",
      "  UserWarning)\n"
     ]
    },
    {
     "name": "stdout",
     "output_type": "stream",
     "text": [
      "1 TicTacToe MLEXPLAIN\n",
      "1 Ecoli SYNAS\n"
     ]
    },
    {
     "name": "stderr",
     "output_type": "stream",
     "text": [
      "/home/rmazzine/anaconda3/envs/ALIBIC/lib/python3.7/site-packages/sklearn/base.py:334: UserWarning: Trying to unpickle estimator StandardScaler from version 0.23.1 when using version 0.23.2. This might lead to breaking code or invalid results. Use at your own risk.\n",
      "  UserWarning)\n"
     ]
    },
    {
     "name": "stdout",
     "output_type": "stream",
     "text": [
      "1 Ecoli GROWINGSPHERES4\n"
     ]
    },
    {
     "name": "stderr",
     "output_type": "stream",
     "text": [
      "/home/rmazzine/anaconda3/envs/ALIBIC/lib/python3.7/site-packages/sklearn/base.py:334: UserWarning: Trying to unpickle estimator StandardScaler from version 0.23.1 when using version 0.23.2. This might lead to breaking code or invalid results. Use at your own risk.\n",
      "  UserWarning)\n"
     ]
    },
    {
     "name": "stdout",
     "output_type": "stream",
     "text": [
      "0 Lymphography SYNAS\n",
      "1 Nursery LORE\n",
      "1 HayesRoth DICE\n",
      "0 SDD MLEXPLAIN\n",
      "1 CMSC MLEXPLAIN\n"
     ]
    },
    {
     "name": "stderr",
     "output_type": "stream",
     "text": [
      "/home/rmazzine/anaconda3/envs/ALIBIC/lib/python3.7/site-packages/sklearn/base.py:334: UserWarning: Trying to unpickle estimator StandardScaler from version 0.23.1 when using version 0.23.2. This might lead to breaking code or invalid results. Use at your own risk.\n",
      "  UserWarning)\n"
     ]
    },
    {
     "name": "stdout",
     "output_type": "stream",
     "text": [
      "0 PBC GROWINGSPHERES4\n"
     ]
    },
    {
     "name": "stderr",
     "output_type": "stream",
     "text": [
      "/home/rmazzine/anaconda3/envs/ALIBIC/lib/python3.7/site-packages/sklearn/base.py:334: UserWarning: Trying to unpickle estimator StandardScaler from version 0.23.1 when using version 0.23.2. This might lead to breaking code or invalid results. Use at your own risk.\n",
      "  UserWarning)\n",
      "/home/rmazzine/anaconda3/envs/ALIBIC/lib/python3.7/site-packages/sklearn/base.py:334: UserWarning: Trying to unpickle estimator StandardScaler from version 0.23.1 when using version 0.23.2. This might lead to breaking code or invalid results. Use at your own risk.\n",
      "  UserWarning)\n"
     ]
    },
    {
     "name": "stdout",
     "output_type": "stream",
     "text": [
      "0 ISOLET GROWINGSPHERES4\n"
     ]
    },
    {
     "name": "stderr",
     "output_type": "stream",
     "text": [
      "/home/rmazzine/anaconda3/envs/ALIBIC/lib/python3.7/site-packages/sklearn/base.py:334: UserWarning: Trying to unpickle estimator StandardScaler from version 0.23.1 when using version 0.23.2. This might lead to breaking code or invalid results. Use at your own risk.\n",
      "  UserWarning)\n"
     ]
    },
    {
     "name": "stdout",
     "output_type": "stream",
     "text": [
      "1 SoybeanSmall ALIBICNOGRAD\n",
      "0 Wine GROWINGSPHERES3\n"
     ]
    },
    {
     "name": "stderr",
     "output_type": "stream",
     "text": [
      "/home/rmazzine/anaconda3/envs/ALIBIC/lib/python3.7/site-packages/sklearn/base.py:334: UserWarning: Trying to unpickle estimator StandardScaler from version 0.23.1 when using version 0.23.2. This might lead to breaking code or invalid results. Use at your own risk.\n",
      "  UserWarning)\n"
     ]
    },
    {
     "name": "stdout",
     "output_type": "stream",
     "text": [
      "1 Wine ALIBIC\n"
     ]
    },
    {
     "name": "stderr",
     "output_type": "stream",
     "text": [
      "/home/rmazzine/anaconda3/envs/ALIBIC/lib/python3.7/site-packages/sklearn/base.py:334: UserWarning: Trying to unpickle estimator StandardScaler from version 0.23.1 when using version 0.23.2. This might lead to breaking code or invalid results. Use at your own risk.\n",
      "  UserWarning)\n"
     ]
    },
    {
     "name": "stdout",
     "output_type": "stream",
     "text": [
      "1 ISOLET SEDC\n"
     ]
    },
    {
     "name": "stderr",
     "output_type": "stream",
     "text": [
      "/home/rmazzine/anaconda3/envs/ALIBIC/lib/python3.7/site-packages/sklearn/base.py:334: UserWarning: Trying to unpickle estimator StandardScaler from version 0.23.1 when using version 0.23.2. This might lead to breaking code or invalid results. Use at your own risk.\n",
      "  UserWarning)\n"
     ]
    },
    {
     "name": "stdout",
     "output_type": "stream",
     "text": [
      "1 Wine CADEX\n"
     ]
    },
    {
     "name": "stderr",
     "output_type": "stream",
     "text": [
      "/home/rmazzine/anaconda3/envs/ALIBIC/lib/python3.7/site-packages/sklearn/base.py:334: UserWarning: Trying to unpickle estimator StandardScaler from version 0.23.1 when using version 0.23.2. This might lead to breaking code or invalid results. Use at your own risk.\n",
      "  UserWarning)\n"
     ]
    },
    {
     "name": "stdout",
     "output_type": "stream",
     "text": [
      "0 Adult MLEXPLAIN\n"
     ]
    },
    {
     "name": "stderr",
     "output_type": "stream",
     "text": [
      "/home/rmazzine/anaconda3/envs/ALIBIC/lib/python3.7/site-packages/sklearn/base.py:334: UserWarning: Trying to unpickle estimator StandardScaler from version 0.23.1 when using version 0.23.2. This might lead to breaking code or invalid results. Use at your own risk.\n",
      "  UserWarning)\n"
     ]
    },
    {
     "name": "stdout",
     "output_type": "stream",
     "text": [
      "0 Nursery SYNAS\n",
      "1 Adult MLEXPLAIN\n"
     ]
    },
    {
     "name": "stderr",
     "output_type": "stream",
     "text": [
      "/home/rmazzine/anaconda3/envs/ALIBIC/lib/python3.7/site-packages/sklearn/base.py:334: UserWarning: Trying to unpickle estimator StandardScaler from version 0.23.1 when using version 0.23.2. This might lead to breaking code or invalid results. Use at your own risk.\n",
      "  UserWarning)\n"
     ]
    },
    {
     "name": "stdout",
     "output_type": "stream",
     "text": [
      "0 SoybeanSmall LORE\n",
      "1 SoybeanSmall SEDC\n",
      "1 MagicGT LORE\n"
     ]
    },
    {
     "name": "stderr",
     "output_type": "stream",
     "text": [
      "/home/rmazzine/anaconda3/envs/ALIBIC/lib/python3.7/site-packages/sklearn/base.py:334: UserWarning: Trying to unpickle estimator StandardScaler from version 0.23.1 when using version 0.23.2. This might lead to breaking code or invalid results. Use at your own risk.\n",
      "  UserWarning)\n"
     ]
    },
    {
     "name": "stdout",
     "output_type": "stream",
     "text": [
      "0 Wine SEDC\n"
     ]
    },
    {
     "name": "stderr",
     "output_type": "stream",
     "text": [
      "/home/rmazzine/anaconda3/envs/ALIBIC/lib/python3.7/site-packages/sklearn/base.py:334: UserWarning: Trying to unpickle estimator StandardScaler from version 0.23.1 when using version 0.23.2. This might lead to breaking code or invalid results. Use at your own risk.\n",
      "  UserWarning)\n"
     ]
    },
    {
     "name": "stdout",
     "output_type": "stream",
     "text": [
      "1 Nursery CADEX\n",
      "0 HayesRoth MLEXPLAIN\n",
      "0 Lenses SYNAS\n",
      "1 TicTacToe LORE\n",
      "0 TicTacToe SEDC\n",
      "1 Adult DICE\n"
     ]
    },
    {
     "name": "stderr",
     "output_type": "stream",
     "text": [
      "/home/rmazzine/anaconda3/envs/ALIBIC/lib/python3.7/site-packages/sklearn/base.py:334: UserWarning: Trying to unpickle estimator StandardScaler from version 0.23.1 when using version 0.23.2. This might lead to breaking code or invalid results. Use at your own risk.\n",
      "  UserWarning)\n"
     ]
    },
    {
     "name": "stdout",
     "output_type": "stream",
     "text": [
      "1 Lymphography MACE\n",
      "0 InternetAdv MLEXPLAIN\n"
     ]
    },
    {
     "name": "stderr",
     "output_type": "stream",
     "text": [
      "/home/rmazzine/anaconda3/envs/ALIBIC/lib/python3.7/site-packages/sklearn/base.py:334: UserWarning: Trying to unpickle estimator StandardScaler from version 0.23.1 when using version 0.23.2. This might lead to breaking code or invalid results. Use at your own risk.\n",
      "  UserWarning)\n",
      "/home/rmazzine/anaconda3/envs/ALIBIC/lib/python3.7/site-packages/sklearn/base.py:334: UserWarning: Trying to unpickle estimator StandardScaler from version 0.23.1 when using version 0.23.2. This might lead to breaking code or invalid results. Use at your own risk.\n",
      "  UserWarning)\n"
     ]
    },
    {
     "name": "stdout",
     "output_type": "stream",
     "text": [
      "0 Wine MLEXPLAIN\n",
      "1 HayesRoth LORE\n",
      "0 Lymphography MACE\n",
      "0 BalanceScale MLEXPLAIN\n",
      "0 SoybeanSmall ALIBIC\n",
      "1 Lymphography GROWINGSPHERES4\n",
      "1 StatlogGC SYNAS\n"
     ]
    },
    {
     "name": "stderr",
     "output_type": "stream",
     "text": [
      "/home/rmazzine/anaconda3/envs/ALIBIC/lib/python3.7/site-packages/sklearn/base.py:334: UserWarning: Trying to unpickle estimator StandardScaler from version 0.23.1 when using version 0.23.2. This might lead to breaking code or invalid results. Use at your own risk.\n",
      "  UserWarning)\n"
     ]
    },
    {
     "name": "stdout",
     "output_type": "stream",
     "text": [
      "0 Ecoli DICE\n"
     ]
    },
    {
     "name": "stderr",
     "output_type": "stream",
     "text": [
      "/home/rmazzine/anaconda3/envs/ALIBIC/lib/python3.7/site-packages/sklearn/base.py:334: UserWarning: Trying to unpickle estimator StandardScaler from version 0.23.1 when using version 0.23.2. This might lead to breaking code or invalid results. Use at your own risk.\n",
      "  UserWarning)\n"
     ]
    },
    {
     "name": "stdout",
     "output_type": "stream",
     "text": [
      "0 CarEvaluation MACE\n",
      "0 Lenses MACE\n",
      "1 PBC GROWINGSPHERES3\n"
     ]
    },
    {
     "name": "stderr",
     "output_type": "stream",
     "text": [
      "/home/rmazzine/anaconda3/envs/ALIBIC/lib/python3.7/site-packages/sklearn/base.py:334: UserWarning: Trying to unpickle estimator StandardScaler from version 0.23.1 when using version 0.23.2. This might lead to breaking code or invalid results. Use at your own risk.\n",
      "  UserWarning)\n",
      "/home/rmazzine/anaconda3/envs/ALIBIC/lib/python3.7/site-packages/sklearn/base.py:334: UserWarning: Trying to unpickle estimator StandardScaler from version 0.23.1 when using version 0.23.2. This might lead to breaking code or invalid results. Use at your own risk.\n",
      "  UserWarning)\n"
     ]
    },
    {
     "name": "stdout",
     "output_type": "stream",
     "text": [
      "0 Ecoli ALIBICNOGRAD\n"
     ]
    },
    {
     "name": "stderr",
     "output_type": "stream",
     "text": [
      "/home/rmazzine/anaconda3/envs/ALIBIC/lib/python3.7/site-packages/sklearn/base.py:334: UserWarning: Trying to unpickle estimator StandardScaler from version 0.23.1 when using version 0.23.2. This might lead to breaking code or invalid results. Use at your own risk.\n",
      "  UserWarning)\n"
     ]
    },
    {
     "name": "stdout",
     "output_type": "stream",
     "text": [
      "1 Nursery ALIBICNOGRAD\n",
      "1 TicTacToe ALIBIC\n",
      "0 StatlogGC DICE\n"
     ]
    },
    {
     "name": "stderr",
     "output_type": "stream",
     "text": [
      "/home/rmazzine/anaconda3/envs/ALIBIC/lib/python3.7/site-packages/sklearn/base.py:334: UserWarning: Trying to unpickle estimator StandardScaler from version 0.23.1 when using version 0.23.2. This might lead to breaking code or invalid results. Use at your own risk.\n",
      "  UserWarning)\n"
     ]
    },
    {
     "name": "stdout",
     "output_type": "stream",
     "text": [
      "0 Lenses MLEXPLAIN\n",
      "1 Adult SYNAS\n"
     ]
    },
    {
     "name": "stderr",
     "output_type": "stream",
     "text": [
      "/home/rmazzine/anaconda3/envs/ALIBIC/lib/python3.7/site-packages/sklearn/base.py:334: UserWarning: Trying to unpickle estimator StandardScaler from version 0.23.1 when using version 0.23.2. This might lead to breaking code or invalid results. Use at your own risk.\n",
      "  UserWarning)\n"
     ]
    },
    {
     "name": "stdout",
     "output_type": "stream",
     "text": [
      "0 BalanceScale CADEX\n",
      "1 ISOLET ALIBIC\n"
     ]
    },
    {
     "name": "stderr",
     "output_type": "stream",
     "text": [
      "/home/rmazzine/anaconda3/envs/ALIBIC/lib/python3.7/site-packages/sklearn/base.py:334: UserWarning: Trying to unpickle estimator StandardScaler from version 0.23.1 when using version 0.23.2. This might lead to breaking code or invalid results. Use at your own risk.\n",
      "  UserWarning)\n"
     ]
    },
    {
     "name": "stdout",
     "output_type": "stream",
     "text": [
      "1 BCW DICE\n"
     ]
    },
    {
     "name": "stderr",
     "output_type": "stream",
     "text": [
      "/home/rmazzine/anaconda3/envs/ALIBIC/lib/python3.7/site-packages/sklearn/base.py:334: UserWarning: Trying to unpickle estimator StandardScaler from version 0.23.1 when using version 0.23.2. This might lead to breaking code or invalid results. Use at your own risk.\n",
      "  UserWarning)\n",
      "/home/rmazzine/anaconda3/envs/ALIBIC/lib/python3.7/site-packages/sklearn/base.py:334: UserWarning: Trying to unpickle estimator StandardScaler from version 0.23.1 when using version 0.23.2. This might lead to breaking code or invalid results. Use at your own risk.\n",
      "  UserWarning)\n"
     ]
    },
    {
     "name": "stdout",
     "output_type": "stream",
     "text": [
      "0 TicTacToe GROWINGSPHERES3\n",
      "0 InternetAdv GROWINGSPHERES3\n"
     ]
    },
    {
     "name": "stderr",
     "output_type": "stream",
     "text": [
      "/home/rmazzine/anaconda3/envs/ALIBIC/lib/python3.7/site-packages/sklearn/base.py:334: UserWarning: Trying to unpickle estimator StandardScaler from version 0.23.1 when using version 0.23.2. This might lead to breaking code or invalid results. Use at your own risk.\n",
      "  UserWarning)\n",
      "/home/rmazzine/anaconda3/envs/ALIBIC/lib/python3.7/site-packages/sklearn/base.py:334: UserWarning: Trying to unpickle estimator StandardScaler from version 0.23.1 when using version 0.23.2. This might lead to breaking code or invalid results. Use at your own risk.\n",
      "  UserWarning)\n"
     ]
    },
    {
     "name": "stdout",
     "output_type": "stream",
     "text": [
      "1 TicTacToe ALIBICNOGRAD\n",
      "0 Lenses LORE\n",
      "0 MagicGT LORE\n"
     ]
    },
    {
     "name": "stderr",
     "output_type": "stream",
     "text": [
      "/home/rmazzine/anaconda3/envs/ALIBIC/lib/python3.7/site-packages/sklearn/base.py:334: UserWarning: Trying to unpickle estimator StandardScaler from version 0.23.1 when using version 0.23.2. This might lead to breaking code or invalid results. Use at your own risk.\n",
      "  UserWarning)\n"
     ]
    },
    {
     "name": "stdout",
     "output_type": "stream",
     "text": [
      "1 Nursery SEDC\n",
      "1 TicTacToe CADEX\n",
      "1 DefaultOfCCC SEDC\n"
     ]
    },
    {
     "name": "stderr",
     "output_type": "stream",
     "text": [
      "/home/rmazzine/anaconda3/envs/ALIBIC/lib/python3.7/site-packages/sklearn/base.py:334: UserWarning: Trying to unpickle estimator StandardScaler from version 0.23.1 when using version 0.23.2. This might lead to breaking code or invalid results. Use at your own risk.\n",
      "  UserWarning)\n"
     ]
    },
    {
     "name": "stdout",
     "output_type": "stream",
     "text": [
      "1 StatlogGC LORE\n",
      "1 CMSC ALIBIC\n"
     ]
    },
    {
     "name": "stderr",
     "output_type": "stream",
     "text": [
      "/home/rmazzine/anaconda3/envs/ALIBIC/lib/python3.7/site-packages/sklearn/base.py:334: UserWarning: Trying to unpickle estimator StandardScaler from version 0.23.1 when using version 0.23.2. This might lead to breaking code or invalid results. Use at your own risk.\n",
      "  UserWarning)\n"
     ]
    },
    {
     "name": "stdout",
     "output_type": "stream",
     "text": [
      "0 BalanceScale SYNAS\n",
      "1 Ecoli ALIBICNOGRAD\n"
     ]
    },
    {
     "name": "stderr",
     "output_type": "stream",
     "text": [
      "/home/rmazzine/anaconda3/envs/ALIBIC/lib/python3.7/site-packages/sklearn/base.py:334: UserWarning: Trying to unpickle estimator StandardScaler from version 0.23.1 when using version 0.23.2. This might lead to breaking code or invalid results. Use at your own risk.\n",
      "  UserWarning)\n"
     ]
    },
    {
     "name": "stdout",
     "output_type": "stream",
     "text": [
      "0 PBC GROWINGSPHERES3\n"
     ]
    },
    {
     "name": "stderr",
     "output_type": "stream",
     "text": [
      "/home/rmazzine/anaconda3/envs/ALIBIC/lib/python3.7/site-packages/sklearn/base.py:334: UserWarning: Trying to unpickle estimator StandardScaler from version 0.23.1 when using version 0.23.2. This might lead to breaking code or invalid results. Use at your own risk.\n",
      "  UserWarning)\n",
      "/home/rmazzine/anaconda3/envs/ALIBIC/lib/python3.7/site-packages/sklearn/base.py:334: UserWarning: Trying to unpickle estimator StandardScaler from version 0.23.1 when using version 0.23.2. This might lead to breaking code or invalid results. Use at your own risk.\n",
      "  UserWarning)\n"
     ]
    },
    {
     "name": "stdout",
     "output_type": "stream",
     "text": [
      "1 StudentPerf GROWINGSPHERES3\n"
     ]
    },
    {
     "name": "stderr",
     "output_type": "stream",
     "text": [
      "/home/rmazzine/anaconda3/envs/ALIBIC/lib/python3.7/site-packages/sklearn/base.py:334: UserWarning: Trying to unpickle estimator StandardScaler from version 0.23.1 when using version 0.23.2. This might lead to breaking code or invalid results. Use at your own risk.\n",
      "  UserWarning)\n"
     ]
    },
    {
     "name": "stdout",
     "output_type": "stream",
     "text": [
      "1 DefaultOfCCC DICE\n"
     ]
    },
    {
     "name": "stderr",
     "output_type": "stream",
     "text": [
      "/home/rmazzine/anaconda3/envs/ALIBIC/lib/python3.7/site-packages/sklearn/base.py:334: UserWarning: Trying to unpickle estimator StandardScaler from version 0.23.1 when using version 0.23.2. This might lead to breaking code or invalid results. Use at your own risk.\n",
      "  UserWarning)\n"
     ]
    },
    {
     "name": "stdout",
     "output_type": "stream",
     "text": [
      "1 MagicGT GROWINGSPHERES4\n"
     ]
    },
    {
     "name": "stderr",
     "output_type": "stream",
     "text": [
      "/home/rmazzine/anaconda3/envs/ALIBIC/lib/python3.7/site-packages/sklearn/base.py:334: UserWarning: Trying to unpickle estimator StandardScaler from version 0.23.1 when using version 0.23.2. This might lead to breaking code or invalid results. Use at your own risk.\n",
      "  UserWarning)\n"
     ]
    },
    {
     "name": "stdout",
     "output_type": "stream",
     "text": [
      "0 BalanceScale LORE\n",
      "1 CMSC LORE\n"
     ]
    },
    {
     "name": "stderr",
     "output_type": "stream",
     "text": [
      "/home/rmazzine/anaconda3/envs/ALIBIC/lib/python3.7/site-packages/sklearn/base.py:334: UserWarning: Trying to unpickle estimator StandardScaler from version 0.23.1 when using version 0.23.2. This might lead to breaking code or invalid results. Use at your own risk.\n",
      "  UserWarning)\n"
     ]
    },
    {
     "name": "stdout",
     "output_type": "stream",
     "text": [
      "1 HayesRoth MACE\n",
      "1 MagicGT SEDC\n"
     ]
    },
    {
     "name": "stderr",
     "output_type": "stream",
     "text": [
      "/home/rmazzine/anaconda3/envs/ALIBIC/lib/python3.7/site-packages/sklearn/base.py:334: UserWarning: Trying to unpickle estimator StandardScaler from version 0.23.1 when using version 0.23.2. This might lead to breaking code or invalid results. Use at your own risk.\n",
      "  UserWarning)\n"
     ]
    },
    {
     "name": "stdout",
     "output_type": "stream",
     "text": [
      "0 CarEvaluation GROWINGSPHERES3\n",
      "1 BalanceScale DICE\n",
      "0 Iris LORE\n"
     ]
    },
    {
     "name": "stderr",
     "output_type": "stream",
     "text": [
      "/home/rmazzine/anaconda3/envs/ALIBIC/lib/python3.7/site-packages/sklearn/base.py:334: UserWarning: Trying to unpickle estimator StandardScaler from version 0.23.1 when using version 0.23.2. This might lead to breaking code or invalid results. Use at your own risk.\n",
      "  UserWarning)\n"
     ]
    },
    {
     "name": "stdout",
     "output_type": "stream",
     "text": [
      "1 SoybeanSmall MLEXPLAIN\n",
      "1 Lymphography CADEX\n",
      "1 Adult SEDC\n"
     ]
    },
    {
     "name": "stderr",
     "output_type": "stream",
     "text": [
      "/home/rmazzine/anaconda3/envs/ALIBIC/lib/python3.7/site-packages/sklearn/base.py:334: UserWarning: Trying to unpickle estimator StandardScaler from version 0.23.1 when using version 0.23.2. This might lead to breaking code or invalid results. Use at your own risk.\n",
      "  UserWarning)\n"
     ]
    },
    {
     "name": "stdout",
     "output_type": "stream",
     "text": [
      "1 InternetAdv CADEX\n",
      "1 CMSC GROWINGSPHERES4\n"
     ]
    },
    {
     "name": "stderr",
     "output_type": "stream",
     "text": [
      "/home/rmazzine/anaconda3/envs/ALIBIC/lib/python3.7/site-packages/sklearn/base.py:334: UserWarning: Trying to unpickle estimator StandardScaler from version 0.23.1 when using version 0.23.2. This might lead to breaking code or invalid results. Use at your own risk.\n",
      "  UserWarning)\n"
     ]
    },
    {
     "name": "stdout",
     "output_type": "stream",
     "text": [
      "0 HayesRoth CADEX\n",
      "1 Lenses CADEX\n",
      "0 SoybeanSmall GROWINGSPHERES3\n",
      "0 Iris SYNAS\n"
     ]
    },
    {
     "name": "stderr",
     "output_type": "stream",
     "text": [
      "/home/rmazzine/anaconda3/envs/ALIBIC/lib/python3.7/site-packages/sklearn/base.py:334: UserWarning: Trying to unpickle estimator StandardScaler from version 0.23.1 when using version 0.23.2. This might lead to breaking code or invalid results. Use at your own risk.\n",
      "  UserWarning)\n"
     ]
    },
    {
     "name": "stdout",
     "output_type": "stream",
     "text": [
      "1 PBC MACE\n",
      "1 CarEvaluation ALIBICNOGRAD\n",
      "0 CMSC MACE\n"
     ]
    },
    {
     "name": "stderr",
     "output_type": "stream",
     "text": [
      "/home/rmazzine/anaconda3/envs/ALIBIC/lib/python3.7/site-packages/sklearn/base.py:334: UserWarning: Trying to unpickle estimator StandardScaler from version 0.23.1 when using version 0.23.2. This might lead to breaking code or invalid results. Use at your own risk.\n",
      "  UserWarning)\n"
     ]
    },
    {
     "name": "stdout",
     "output_type": "stream",
     "text": [
      "0 Lenses CADEX\n",
      "0 MagicGT CADEX\n"
     ]
    },
    {
     "name": "stderr",
     "output_type": "stream",
     "text": [
      "/home/rmazzine/anaconda3/envs/ALIBIC/lib/python3.7/site-packages/sklearn/base.py:334: UserWarning: Trying to unpickle estimator StandardScaler from version 0.23.1 when using version 0.23.2. This might lead to breaking code or invalid results. Use at your own risk.\n",
      "  UserWarning)\n"
     ]
    },
    {
     "name": "stdout",
     "output_type": "stream",
     "text": [
      "0 Adult CADEX\n"
     ]
    },
    {
     "name": "stderr",
     "output_type": "stream",
     "text": [
      "/home/rmazzine/anaconda3/envs/ALIBIC/lib/python3.7/site-packages/sklearn/base.py:334: UserWarning: Trying to unpickle estimator StandardScaler from version 0.23.1 when using version 0.23.2. This might lead to breaking code or invalid results. Use at your own risk.\n",
      "  UserWarning)\n"
     ]
    },
    {
     "name": "stdout",
     "output_type": "stream",
     "text": [
      "1 SDD DICE\n"
     ]
    },
    {
     "name": "stderr",
     "output_type": "stream",
     "text": [
      "/home/rmazzine/anaconda3/envs/ALIBIC/lib/python3.7/site-packages/sklearn/base.py:334: UserWarning: Trying to unpickle estimator StandardScaler from version 0.23.1 when using version 0.23.2. This might lead to breaking code or invalid results. Use at your own risk.\n",
      "  UserWarning)\n"
     ]
    },
    {
     "name": "stdout",
     "output_type": "stream",
     "text": [
      "0 ISOLET ALIBIC\n"
     ]
    },
    {
     "name": "stderr",
     "output_type": "stream",
     "text": [
      "/home/rmazzine/anaconda3/envs/ALIBIC/lib/python3.7/site-packages/sklearn/base.py:334: UserWarning: Trying to unpickle estimator StandardScaler from version 0.23.1 when using version 0.23.2. This might lead to breaking code or invalid results. Use at your own risk.\n",
      "  UserWarning)\n"
     ]
    },
    {
     "name": "stdout",
     "output_type": "stream",
     "text": [
      "1 CarEvaluation SYNAS\n",
      "0 BCW CADEX\n"
     ]
    },
    {
     "name": "stderr",
     "output_type": "stream",
     "text": [
      "/home/rmazzine/anaconda3/envs/ALIBIC/lib/python3.7/site-packages/sklearn/base.py:334: UserWarning: Trying to unpickle estimator StandardScaler from version 0.23.1 when using version 0.23.2. This might lead to breaking code or invalid results. Use at your own risk.\n",
      "  UserWarning)\n",
      "/home/rmazzine/anaconda3/envs/ALIBIC/lib/python3.7/site-packages/sklearn/base.py:334: UserWarning: Trying to unpickle estimator StandardScaler from version 0.23.1 when using version 0.23.2. This might lead to breaking code or invalid results. Use at your own risk.\n",
      "  UserWarning)\n"
     ]
    },
    {
     "name": "stdout",
     "output_type": "stream",
     "text": [
      "0 CarEvaluation GROWINGSPHERES4\n",
      "0 Nursery DICE\n",
      "0 DefaultOfCCC ALIBIC\n"
     ]
    },
    {
     "name": "stderr",
     "output_type": "stream",
     "text": [
      "/home/rmazzine/anaconda3/envs/ALIBIC/lib/python3.7/site-packages/sklearn/base.py:334: UserWarning: Trying to unpickle estimator StandardScaler from version 0.23.1 when using version 0.23.2. This might lead to breaking code or invalid results. Use at your own risk.\n",
      "  UserWarning)\n"
     ]
    },
    {
     "name": "stdout",
     "output_type": "stream",
     "text": [
      "0 StudentPerf DICE\n"
     ]
    },
    {
     "name": "stderr",
     "output_type": "stream",
     "text": [
      "/home/rmazzine/anaconda3/envs/ALIBIC/lib/python3.7/site-packages/sklearn/base.py:334: UserWarning: Trying to unpickle estimator StandardScaler from version 0.23.1 when using version 0.23.2. This might lead to breaking code or invalid results. Use at your own risk.\n",
      "  UserWarning)\n"
     ]
    },
    {
     "name": "stdout",
     "output_type": "stream",
     "text": [
      "1 BalanceScale LORE\n",
      "1 StudentPerf MLEXPLAIN\n"
     ]
    },
    {
     "name": "stderr",
     "output_type": "stream",
     "text": [
      "/home/rmazzine/anaconda3/envs/ALIBIC/lib/python3.7/site-packages/sklearn/base.py:334: UserWarning: Trying to unpickle estimator StandardScaler from version 0.23.1 when using version 0.23.2. This might lead to breaking code or invalid results. Use at your own risk.\n",
      "  UserWarning)\n"
     ]
    },
    {
     "name": "stdout",
     "output_type": "stream",
     "text": [
      "1 SoybeanSmall ALIBIC\n",
      "0 SDD SEDC\n",
      "1 Lenses SEDC\n",
      "0 TicTacToe CADEX\n",
      "0 Lymphography CADEX\n",
      "0 ISOLET GROWINGSPHERES3\n",
      "1 StudentPerf CADEX\n"
     ]
    },
    {
     "name": "stderr",
     "output_type": "stream",
     "text": [
      "/home/rmazzine/anaconda3/envs/ALIBIC/lib/python3.7/site-packages/sklearn/base.py:334: UserWarning: Trying to unpickle estimator StandardScaler from version 0.23.1 when using version 0.23.2. This might lead to breaking code or invalid results. Use at your own risk.\n",
      "  UserWarning)\n"
     ]
    },
    {
     "name": "stdout",
     "output_type": "stream",
     "text": [
      "0 PBC DICE\n"
     ]
    },
    {
     "name": "stderr",
     "output_type": "stream",
     "text": [
      "/home/rmazzine/anaconda3/envs/ALIBIC/lib/python3.7/site-packages/sklearn/base.py:334: UserWarning: Trying to unpickle estimator StandardScaler from version 0.23.1 when using version 0.23.2. This might lead to breaking code or invalid results. Use at your own risk.\n",
      "  UserWarning)\n",
      "/home/rmazzine/anaconda3/envs/ALIBIC/lib/python3.7/site-packages/sklearn/base.py:334: UserWarning: Trying to unpickle estimator StandardScaler from version 0.23.1 when using version 0.23.2. This might lead to breaking code or invalid results. Use at your own risk.\n",
      "  UserWarning)\n"
     ]
    },
    {
     "name": "stdout",
     "output_type": "stream",
     "text": [
      "1 ISOLET DICE\n",
      "0 StatlogGC LORE\n",
      "0 Ecoli CADEX\n"
     ]
    },
    {
     "name": "stderr",
     "output_type": "stream",
     "text": [
      "/home/rmazzine/anaconda3/envs/ALIBIC/lib/python3.7/site-packages/sklearn/base.py:334: UserWarning: Trying to unpickle estimator StandardScaler from version 0.23.1 when using version 0.23.2. This might lead to breaking code or invalid results. Use at your own risk.\n",
      "  UserWarning)\n"
     ]
    },
    {
     "name": "stdout",
     "output_type": "stream",
     "text": [
      "1 InternetAdv MLEXPLAIN\n"
     ]
    },
    {
     "name": "stderr",
     "output_type": "stream",
     "text": [
      "/home/rmazzine/anaconda3/envs/ALIBIC/lib/python3.7/site-packages/sklearn/base.py:334: UserWarning: Trying to unpickle estimator StandardScaler from version 0.23.1 when using version 0.23.2. This might lead to breaking code or invalid results. Use at your own risk.\n",
      "  UserWarning)\n",
      "/home/rmazzine/anaconda3/envs/ALIBIC/lib/python3.7/site-packages/sklearn/base.py:334: UserWarning: Trying to unpickle estimator StandardScaler from version 0.23.1 when using version 0.23.2. This might lead to breaking code or invalid results. Use at your own risk.\n",
      "  UserWarning)\n"
     ]
    },
    {
     "name": "stdout",
     "output_type": "stream",
     "text": [
      "1 CarEvaluation LORE\n",
      "1 CarEvaluation DICE\n",
      "0 InternetAdv DICE\n"
     ]
    },
    {
     "name": "stderr",
     "output_type": "stream",
     "text": [
      "/home/rmazzine/anaconda3/envs/ALIBIC/lib/python3.7/site-packages/sklearn/base.py:334: UserWarning: Trying to unpickle estimator StandardScaler from version 0.23.1 when using version 0.23.2. This might lead to breaking code or invalid results. Use at your own risk.\n",
      "  UserWarning)\n",
      "/home/rmazzine/anaconda3/envs/ALIBIC/lib/python3.7/site-packages/sklearn/base.py:334: UserWarning: Trying to unpickle estimator StandardScaler from version 0.23.1 when using version 0.23.2. This might lead to breaking code or invalid results. Use at your own risk.\n",
      "  UserWarning)\n"
     ]
    },
    {
     "name": "stdout",
     "output_type": "stream",
     "text": [
      "0 InternetAdv ALIBIC\n"
     ]
    },
    {
     "name": "stderr",
     "output_type": "stream",
     "text": [
      "/home/rmazzine/anaconda3/envs/ALIBIC/lib/python3.7/site-packages/sklearn/base.py:334: UserWarning: Trying to unpickle estimator StandardScaler from version 0.23.1 when using version 0.23.2. This might lead to breaking code or invalid results. Use at your own risk.\n",
      "  UserWarning)\n",
      "/home/rmazzine/anaconda3/envs/ALIBIC/lib/python3.7/site-packages/sklearn/base.py:334: UserWarning: Trying to unpickle estimator StandardScaler from version 0.23.1 when using version 0.23.2. This might lead to breaking code or invalid results. Use at your own risk.\n",
      "  UserWarning)\n"
     ]
    },
    {
     "name": "stdout",
     "output_type": "stream",
     "text": [
      "0 Lenses SEDC\n",
      "0 Wine MACE\n",
      "1 CarEvaluation GROWINGSPHERES3\n",
      "1 HayesRoth ALIBICNOGRAD\n",
      "1 Ecoli DICE\n"
     ]
    },
    {
     "name": "stderr",
     "output_type": "stream",
     "text": [
      "/home/rmazzine/anaconda3/envs/ALIBIC/lib/python3.7/site-packages/sklearn/base.py:334: UserWarning: Trying to unpickle estimator StandardScaler from version 0.23.1 when using version 0.23.2. This might lead to breaking code or invalid results. Use at your own risk.\n",
      "  UserWarning)\n"
     ]
    },
    {
     "name": "stdout",
     "output_type": "stream",
     "text": [
      "1 CarEvaluation ALIBIC\n",
      "0 BCW ALIBICNOGRAD\n"
     ]
    },
    {
     "name": "stderr",
     "output_type": "stream",
     "text": [
      "/home/rmazzine/anaconda3/envs/ALIBIC/lib/python3.7/site-packages/sklearn/base.py:334: UserWarning: Trying to unpickle estimator StandardScaler from version 0.23.1 when using version 0.23.2. This might lead to breaking code or invalid results. Use at your own risk.\n",
      "  UserWarning)\n",
      "/home/rmazzine/anaconda3/envs/ALIBIC/lib/python3.7/site-packages/sklearn/base.py:334: UserWarning: Trying to unpickle estimator StandardScaler from version 0.23.1 when using version 0.23.2. This might lead to breaking code or invalid results. Use at your own risk.\n",
      "  UserWarning)\n"
     ]
    },
    {
     "name": "stdout",
     "output_type": "stream",
     "text": [
      "0 Lenses DICE\n",
      "0 Chess CADEX\n",
      "1 CMSC ALIBICNOGRAD\n"
     ]
    },
    {
     "name": "stderr",
     "output_type": "stream",
     "text": [
      "/home/rmazzine/anaconda3/envs/ALIBIC/lib/python3.7/site-packages/sklearn/base.py:334: UserWarning: Trying to unpickle estimator StandardScaler from version 0.23.1 when using version 0.23.2. This might lead to breaking code or invalid results. Use at your own risk.\n",
      "  UserWarning)\n"
     ]
    },
    {
     "name": "stdout",
     "output_type": "stream",
     "text": [
      "0 TicTacToe SYNAS\n",
      "1 BCW LORE\n"
     ]
    },
    {
     "name": "stderr",
     "output_type": "stream",
     "text": [
      "/home/rmazzine/anaconda3/envs/ALIBIC/lib/python3.7/site-packages/sklearn/base.py:334: UserWarning: Trying to unpickle estimator StandardScaler from version 0.23.1 when using version 0.23.2. This might lead to breaking code or invalid results. Use at your own risk.\n",
      "  UserWarning)\n",
      "/home/rmazzine/anaconda3/envs/ALIBIC/lib/python3.7/site-packages/sklearn/base.py:334: UserWarning: Trying to unpickle estimator StandardScaler from version 0.23.1 when using version 0.23.2. This might lead to breaking code or invalid results. Use at your own risk.\n",
      "  UserWarning)\n"
     ]
    },
    {
     "name": "stdout",
     "output_type": "stream",
     "text": [
      "1 StudentPerf ALIBICNOGRAD\n"
     ]
    },
    {
     "name": "stderr",
     "output_type": "stream",
     "text": [
      "/home/rmazzine/anaconda3/envs/ALIBIC/lib/python3.7/site-packages/sklearn/base.py:334: UserWarning: Trying to unpickle estimator StandardScaler from version 0.23.1 when using version 0.23.2. This might lead to breaking code or invalid results. Use at your own risk.\n",
      "  UserWarning)\n"
     ]
    },
    {
     "name": "stdout",
     "output_type": "stream",
     "text": [
      "0 TicTacToe GROWINGSPHERES4\n",
      "0 PBC SYNAS\n"
     ]
    },
    {
     "name": "stderr",
     "output_type": "stream",
     "text": [
      "/home/rmazzine/anaconda3/envs/ALIBIC/lib/python3.7/site-packages/sklearn/base.py:334: UserWarning: Trying to unpickle estimator StandardScaler from version 0.23.1 when using version 0.23.2. This might lead to breaking code or invalid results. Use at your own risk.\n",
      "  UserWarning)\n",
      "/home/rmazzine/anaconda3/envs/ALIBIC/lib/python3.7/site-packages/sklearn/base.py:334: UserWarning: Trying to unpickle estimator StandardScaler from version 0.23.1 when using version 0.23.2. This might lead to breaking code or invalid results. Use at your own risk.\n",
      "  UserWarning)\n"
     ]
    },
    {
     "name": "stdout",
     "output_type": "stream",
     "text": [
      "0 PBC SEDC\n"
     ]
    },
    {
     "name": "stderr",
     "output_type": "stream",
     "text": [
      "/home/rmazzine/anaconda3/envs/ALIBIC/lib/python3.7/site-packages/sklearn/base.py:334: UserWarning: Trying to unpickle estimator StandardScaler from version 0.23.1 when using version 0.23.2. This might lead to breaking code or invalid results. Use at your own risk.\n",
      "  UserWarning)\n",
      "/home/rmazzine/anaconda3/envs/ALIBIC/lib/python3.7/site-packages/sklearn/base.py:334: UserWarning: Trying to unpickle estimator StandardScaler from version 0.23.1 when using version 0.23.2. This might lead to breaking code or invalid results. Use at your own risk.\n",
      "  UserWarning)\n"
     ]
    },
    {
     "name": "stdout",
     "output_type": "stream",
     "text": [
      "0 DefaultOfCCC CADEX\n"
     ]
    },
    {
     "name": "stderr",
     "output_type": "stream",
     "text": [
      "/home/rmazzine/anaconda3/envs/ALIBIC/lib/python3.7/site-packages/sklearn/base.py:334: UserWarning: Trying to unpickle estimator StandardScaler from version 0.23.1 when using version 0.23.2. This might lead to breaking code or invalid results. Use at your own risk.\n",
      "  UserWarning)\n"
     ]
    },
    {
     "name": "stdout",
     "output_type": "stream",
     "text": [
      "1 SDD MLEXPLAIN\n",
      "0 Iris GROWINGSPHERES3\n"
     ]
    },
    {
     "name": "stderr",
     "output_type": "stream",
     "text": [
      "/home/rmazzine/anaconda3/envs/ALIBIC/lib/python3.7/site-packages/sklearn/base.py:334: UserWarning: Trying to unpickle estimator StandardScaler from version 0.23.1 when using version 0.23.2. This might lead to breaking code or invalid results. Use at your own risk.\n",
      "  UserWarning)\n"
     ]
    },
    {
     "name": "stdout",
     "output_type": "stream",
     "text": [
      "1 MagicGT MACE\n"
     ]
    },
    {
     "name": "stderr",
     "output_type": "stream",
     "text": [
      "/home/rmazzine/anaconda3/envs/ALIBIC/lib/python3.7/site-packages/sklearn/base.py:334: UserWarning: Trying to unpickle estimator StandardScaler from version 0.23.1 when using version 0.23.2. This might lead to breaking code or invalid results. Use at your own risk.\n",
      "  UserWarning)\n"
     ]
    },
    {
     "name": "stdout",
     "output_type": "stream",
     "text": [
      "0 Wine GROWINGSPHERES4\n"
     ]
    },
    {
     "name": "stderr",
     "output_type": "stream",
     "text": [
      "/home/rmazzine/anaconda3/envs/ALIBIC/lib/python3.7/site-packages/sklearn/base.py:334: UserWarning: Trying to unpickle estimator StandardScaler from version 0.23.1 when using version 0.23.2. This might lead to breaking code or invalid results. Use at your own risk.\n",
      "  UserWarning)\n"
     ]
    },
    {
     "name": "stdout",
     "output_type": "stream",
     "text": [
      "0 HayesRoth LORE\n",
      "0 Ecoli MACE\n"
     ]
    },
    {
     "name": "stderr",
     "output_type": "stream",
     "text": [
      "/home/rmazzine/anaconda3/envs/ALIBIC/lib/python3.7/site-packages/sklearn/base.py:334: UserWarning: Trying to unpickle estimator StandardScaler from version 0.23.1 when using version 0.23.2. This might lead to breaking code or invalid results. Use at your own risk.\n",
      "  UserWarning)\n"
     ]
    },
    {
     "name": "stdout",
     "output_type": "stream",
     "text": [
      "1 StatlogGC GROWINGSPHERES3\n"
     ]
    },
    {
     "name": "stderr",
     "output_type": "stream",
     "text": [
      "/home/rmazzine/anaconda3/envs/ALIBIC/lib/python3.7/site-packages/sklearn/base.py:334: UserWarning: Trying to unpickle estimator StandardScaler from version 0.23.1 when using version 0.23.2. This might lead to breaking code or invalid results. Use at your own risk.\n",
      "  UserWarning)\n"
     ]
    },
    {
     "name": "stdout",
     "output_type": "stream",
     "text": [
      "0 DefaultOfCCC SYNAS\n"
     ]
    },
    {
     "name": "stderr",
     "output_type": "stream",
     "text": [
      "/home/rmazzine/anaconda3/envs/ALIBIC/lib/python3.7/site-packages/sklearn/base.py:334: UserWarning: Trying to unpickle estimator StandardScaler from version 0.23.1 when using version 0.23.2. This might lead to breaking code or invalid results. Use at your own risk.\n",
      "  UserWarning)\n"
     ]
    },
    {
     "name": "stdout",
     "output_type": "stream",
     "text": [
      "0 BCW GROWINGSPHERES3\n"
     ]
    },
    {
     "name": "stderr",
     "output_type": "stream",
     "text": [
      "/home/rmazzine/anaconda3/envs/ALIBIC/lib/python3.7/site-packages/sklearn/base.py:334: UserWarning: Trying to unpickle estimator StandardScaler from version 0.23.1 when using version 0.23.2. This might lead to breaking code or invalid results. Use at your own risk.\n",
      "  UserWarning)\n",
      "/home/rmazzine/anaconda3/envs/ALIBIC/lib/python3.7/site-packages/sklearn/base.py:334: UserWarning: Trying to unpickle estimator StandardScaler from version 0.23.1 when using version 0.23.2. This might lead to breaking code or invalid results. Use at your own risk.\n",
      "  UserWarning)\n"
     ]
    },
    {
     "name": "stdout",
     "output_type": "stream",
     "text": [
      "1 Lymphography ALIBIC\n",
      "1 SoybeanSmall GROWINGSPHERES3\n",
      "1 Lymphography LORE\n",
      "1 Ecoli MLEXPLAIN\n"
     ]
    },
    {
     "name": "stderr",
     "output_type": "stream",
     "text": [
      "/home/rmazzine/anaconda3/envs/ALIBIC/lib/python3.7/site-packages/sklearn/base.py:334: UserWarning: Trying to unpickle estimator StandardScaler from version 0.23.1 when using version 0.23.2. This might lead to breaking code or invalid results. Use at your own risk.\n",
      "  UserWarning)\n"
     ]
    },
    {
     "name": "stdout",
     "output_type": "stream",
     "text": [
      "0 StatlogGC ALIBICNOGRAD\n"
     ]
    },
    {
     "name": "stderr",
     "output_type": "stream",
     "text": [
      "/home/rmazzine/anaconda3/envs/ALIBIC/lib/python3.7/site-packages/sklearn/base.py:334: UserWarning: Trying to unpickle estimator StandardScaler from version 0.23.1 when using version 0.23.2. This might lead to breaking code or invalid results. Use at your own risk.\n",
      "  UserWarning)\n"
     ]
    },
    {
     "name": "stdout",
     "output_type": "stream",
     "text": [
      "1 StatlogGC ALIBICNOGRAD\n"
     ]
    },
    {
     "name": "stderr",
     "output_type": "stream",
     "text": [
      "/home/rmazzine/anaconda3/envs/ALIBIC/lib/python3.7/site-packages/sklearn/base.py:334: UserWarning: Trying to unpickle estimator StandardScaler from version 0.23.1 when using version 0.23.2. This might lead to breaking code or invalid results. Use at your own risk.\n",
      "  UserWarning)\n"
     ]
    },
    {
     "name": "stdout",
     "output_type": "stream",
     "text": [
      "1 Lymphography SEDC\n",
      "0 CMSC GROWINGSPHERES3\n"
     ]
    },
    {
     "name": "stderr",
     "output_type": "stream",
     "text": [
      "/home/rmazzine/anaconda3/envs/ALIBIC/lib/python3.7/site-packages/sklearn/base.py:334: UserWarning: Trying to unpickle estimator StandardScaler from version 0.23.1 when using version 0.23.2. This might lead to breaking code or invalid results. Use at your own risk.\n",
      "  UserWarning)\n"
     ]
    },
    {
     "name": "stdout",
     "output_type": "stream",
     "text": [
      "0 TicTacToe MACE\n",
      "0 CMSC SYNAS\n"
     ]
    },
    {
     "name": "stderr",
     "output_type": "stream",
     "text": [
      "/home/rmazzine/anaconda3/envs/ALIBIC/lib/python3.7/site-packages/sklearn/base.py:334: UserWarning: Trying to unpickle estimator StandardScaler from version 0.23.1 when using version 0.23.2. This might lead to breaking code or invalid results. Use at your own risk.\n",
      "  UserWarning)\n"
     ]
    },
    {
     "name": "stdout",
     "output_type": "stream",
     "text": [
      "0 InternetAdv SEDC\n"
     ]
    },
    {
     "name": "stderr",
     "output_type": "stream",
     "text": [
      "/home/rmazzine/anaconda3/envs/ALIBIC/lib/python3.7/site-packages/sklearn/base.py:334: UserWarning: Trying to unpickle estimator StandardScaler from version 0.23.1 when using version 0.23.2. This might lead to breaking code or invalid results. Use at your own risk.\n",
      "  UserWarning)\n",
      "/home/rmazzine/anaconda3/envs/ALIBIC/lib/python3.7/site-packages/sklearn/base.py:334: UserWarning: Trying to unpickle estimator StandardScaler from version 0.23.1 when using version 0.23.2. This might lead to breaking code or invalid results. Use at your own risk.\n",
      "  UserWarning)\n"
     ]
    },
    {
     "name": "stdout",
     "output_type": "stream",
     "text": [
      "0 Nursery ALIBIC\n",
      "0 Ecoli GROWINGSPHERES3\n"
     ]
    },
    {
     "name": "stderr",
     "output_type": "stream",
     "text": [
      "/home/rmazzine/anaconda3/envs/ALIBIC/lib/python3.7/site-packages/sklearn/base.py:334: UserWarning: Trying to unpickle estimator StandardScaler from version 0.23.1 when using version 0.23.2. This might lead to breaking code or invalid results. Use at your own risk.\n",
      "  UserWarning)\n"
     ]
    },
    {
     "name": "stdout",
     "output_type": "stream",
     "text": [
      "0 SDD CADEX\n"
     ]
    },
    {
     "name": "stderr",
     "output_type": "stream",
     "text": [
      "/home/rmazzine/anaconda3/envs/ALIBIC/lib/python3.7/site-packages/sklearn/base.py:334: UserWarning: Trying to unpickle estimator StandardScaler from version 0.23.1 when using version 0.23.2. This might lead to breaking code or invalid results. Use at your own risk.\n",
      "  UserWarning)\n"
     ]
    },
    {
     "name": "stdout",
     "output_type": "stream",
     "text": [
      "0 PBC ALIBIC\n"
     ]
    },
    {
     "name": "stderr",
     "output_type": "stream",
     "text": [
      "/home/rmazzine/anaconda3/envs/ALIBIC/lib/python3.7/site-packages/sklearn/base.py:334: UserWarning: Trying to unpickle estimator StandardScaler from version 0.23.1 when using version 0.23.2. This might lead to breaking code or invalid results. Use at your own risk.\n",
      "  UserWarning)\n",
      "/home/rmazzine/anaconda3/envs/ALIBIC/lib/python3.7/site-packages/sklearn/base.py:334: UserWarning: Trying to unpickle estimator StandardScaler from version 0.23.1 when using version 0.23.2. This might lead to breaking code or invalid results. Use at your own risk.\n",
      "  UserWarning)\n"
     ]
    },
    {
     "name": "stdout",
     "output_type": "stream",
     "text": [
      "1 Nursery GROWINGSPHERES4\n",
      "0 Wine CADEX\n"
     ]
    },
    {
     "name": "stderr",
     "output_type": "stream",
     "text": [
      "/home/rmazzine/anaconda3/envs/ALIBIC/lib/python3.7/site-packages/sklearn/base.py:334: UserWarning: Trying to unpickle estimator StandardScaler from version 0.23.1 when using version 0.23.2. This might lead to breaking code or invalid results. Use at your own risk.\n",
      "  UserWarning)\n"
     ]
    },
    {
     "name": "stdout",
     "output_type": "stream",
     "text": [
      "1 HayesRoth ALIBIC\n",
      "1 Iris LORE\n"
     ]
    },
    {
     "name": "stderr",
     "output_type": "stream",
     "text": [
      "/home/rmazzine/anaconda3/envs/ALIBIC/lib/python3.7/site-packages/sklearn/base.py:334: UserWarning: Trying to unpickle estimator StandardScaler from version 0.23.1 when using version 0.23.2. This might lead to breaking code or invalid results. Use at your own risk.\n",
      "  UserWarning)\n"
     ]
    },
    {
     "name": "stdout",
     "output_type": "stream",
     "text": [
      "0 MagicGT GROWINGSPHERES3\n"
     ]
    },
    {
     "name": "stderr",
     "output_type": "stream",
     "text": [
      "/home/rmazzine/anaconda3/envs/ALIBIC/lib/python3.7/site-packages/sklearn/base.py:334: UserWarning: Trying to unpickle estimator StandardScaler from version 0.23.1 when using version 0.23.2. This might lead to breaking code or invalid results. Use at your own risk.\n",
      "  UserWarning)\n"
     ]
    },
    {
     "name": "stdout",
     "output_type": "stream",
     "text": [
      "1 BCW MLEXPLAIN\n"
     ]
    },
    {
     "name": "stderr",
     "output_type": "stream",
     "text": [
      "/home/rmazzine/anaconda3/envs/ALIBIC/lib/python3.7/site-packages/sklearn/base.py:334: UserWarning: Trying to unpickle estimator StandardScaler from version 0.23.1 when using version 0.23.2. This might lead to breaking code or invalid results. Use at your own risk.\n",
      "  UserWarning)\n",
      "/home/rmazzine/anaconda3/envs/ALIBIC/lib/python3.7/site-packages/sklearn/base.py:334: UserWarning: Trying to unpickle estimator StandardScaler from version 0.23.1 when using version 0.23.2. This might lead to breaking code or invalid results. Use at your own risk.\n",
      "  UserWarning)\n"
     ]
    },
    {
     "name": "stdout",
     "output_type": "stream",
     "text": [
      "1 Chess CADEX\n",
      "1 BCW SYNAS\n"
     ]
    },
    {
     "name": "stderr",
     "output_type": "stream",
     "text": [
      "/home/rmazzine/anaconda3/envs/ALIBIC/lib/python3.7/site-packages/sklearn/base.py:334: UserWarning: Trying to unpickle estimator StandardScaler from version 0.23.1 when using version 0.23.2. This might lead to breaking code or invalid results. Use at your own risk.\n",
      "  UserWarning)\n",
      "/home/rmazzine/anaconda3/envs/ALIBIC/lib/python3.7/site-packages/sklearn/base.py:334: UserWarning: Trying to unpickle estimator StandardScaler from version 0.23.1 when using version 0.23.2. This might lead to breaking code or invalid results. Use at your own risk.\n",
      "  UserWarning)\n"
     ]
    },
    {
     "name": "stdout",
     "output_type": "stream",
     "text": [
      "0 Wine DICE\n"
     ]
    },
    {
     "name": "stderr",
     "output_type": "stream",
     "text": [
      "/home/rmazzine/anaconda3/envs/ALIBIC/lib/python3.7/site-packages/sklearn/base.py:334: UserWarning: Trying to unpickle estimator StandardScaler from version 0.23.1 when using version 0.23.2. This might lead to breaking code or invalid results. Use at your own risk.\n",
      "  UserWarning)\n"
     ]
    },
    {
     "name": "stdout",
     "output_type": "stream",
     "text": [
      "0 Ecoli LORE\n",
      "1 BCW SEDC\n"
     ]
    },
    {
     "name": "stderr",
     "output_type": "stream",
     "text": [
      "/home/rmazzine/anaconda3/envs/ALIBIC/lib/python3.7/site-packages/sklearn/base.py:334: UserWarning: Trying to unpickle estimator StandardScaler from version 0.23.1 when using version 0.23.2. This might lead to breaking code or invalid results. Use at your own risk.\n",
      "  UserWarning)\n",
      "/home/rmazzine/anaconda3/envs/ALIBIC/lib/python3.7/site-packages/sklearn/base.py:334: UserWarning: Trying to unpickle estimator StandardScaler from version 0.23.1 when using version 0.23.2. This might lead to breaking code or invalid results. Use at your own risk.\n",
      "  UserWarning)\n"
     ]
    },
    {
     "name": "stdout",
     "output_type": "stream",
     "text": [
      "1 BCW GROWINGSPHERES4\n"
     ]
    },
    {
     "name": "stderr",
     "output_type": "stream",
     "text": [
      "/home/rmazzine/anaconda3/envs/ALIBIC/lib/python3.7/site-packages/sklearn/base.py:334: UserWarning: Trying to unpickle estimator StandardScaler from version 0.23.1 when using version 0.23.2. This might lead to breaking code or invalid results. Use at your own risk.\n",
      "  UserWarning)\n",
      "/home/rmazzine/anaconda3/envs/ALIBIC/lib/python3.7/site-packages/sklearn/base.py:334: UserWarning: Trying to unpickle estimator StandardScaler from version 0.23.1 when using version 0.23.2. This might lead to breaking code or invalid results. Use at your own risk.\n",
      "  UserWarning)\n"
     ]
    },
    {
     "name": "stdout",
     "output_type": "stream",
     "text": [
      "1 Nursery GROWINGSPHERES3\n",
      "1 PBC LORE\n"
     ]
    },
    {
     "name": "stderr",
     "output_type": "stream",
     "text": [
      "/home/rmazzine/anaconda3/envs/ALIBIC/lib/python3.7/site-packages/sklearn/base.py:334: UserWarning: Trying to unpickle estimator StandardScaler from version 0.23.1 when using version 0.23.2. This might lead to breaking code or invalid results. Use at your own risk.\n",
      "  UserWarning)\n",
      "/home/rmazzine/anaconda3/envs/ALIBIC/lib/python3.7/site-packages/sklearn/base.py:334: UserWarning: Trying to unpickle estimator StandardScaler from version 0.23.1 when using version 0.23.2. This might lead to breaking code or invalid results. Use at your own risk.\n",
      "  UserWarning)\n"
     ]
    },
    {
     "name": "stdout",
     "output_type": "stream",
     "text": [
      "1 Iris GROWINGSPHERES4\n"
     ]
    },
    {
     "name": "stderr",
     "output_type": "stream",
     "text": [
      "/home/rmazzine/anaconda3/envs/ALIBIC/lib/python3.7/site-packages/sklearn/base.py:334: UserWarning: Trying to unpickle estimator StandardScaler from version 0.23.1 when using version 0.23.2. This might lead to breaking code or invalid results. Use at your own risk.\n",
      "  UserWarning)\n"
     ]
    },
    {
     "name": "stdout",
     "output_type": "stream",
     "text": [
      "1 MagicGT GROWINGSPHERES3\n"
     ]
    },
    {
     "name": "stderr",
     "output_type": "stream",
     "text": [
      "/home/rmazzine/anaconda3/envs/ALIBIC/lib/python3.7/site-packages/sklearn/base.py:334: UserWarning: Trying to unpickle estimator StandardScaler from version 0.23.1 when using version 0.23.2. This might lead to breaking code or invalid results. Use at your own risk.\n",
      "  UserWarning)\n"
     ]
    },
    {
     "name": "stdout",
     "output_type": "stream",
     "text": [
      "1 Wine SYNAS\n"
     ]
    },
    {
     "name": "stderr",
     "output_type": "stream",
     "text": [
      "/home/rmazzine/anaconda3/envs/ALIBIC/lib/python3.7/site-packages/sklearn/base.py:334: UserWarning: Trying to unpickle estimator StandardScaler from version 0.23.1 when using version 0.23.2. This might lead to breaking code or invalid results. Use at your own risk.\n",
      "  UserWarning)\n"
     ]
    },
    {
     "name": "stdout",
     "output_type": "stream",
     "text": [
      "0 Iris MACE\n",
      "1 Chess LORE\n",
      "1 Wine MACE\n"
     ]
    },
    {
     "name": "stderr",
     "output_type": "stream",
     "text": [
      "/home/rmazzine/anaconda3/envs/ALIBIC/lib/python3.7/site-packages/sklearn/base.py:334: UserWarning: Trying to unpickle estimator StandardScaler from version 0.23.1 when using version 0.23.2. This might lead to breaking code or invalid results. Use at your own risk.\n",
      "  UserWarning)\n"
     ]
    },
    {
     "name": "stdout",
     "output_type": "stream",
     "text": [
      "0 Iris ALIBIC\n"
     ]
    },
    {
     "name": "stderr",
     "output_type": "stream",
     "text": [
      "/home/rmazzine/anaconda3/envs/ALIBIC/lib/python3.7/site-packages/sklearn/base.py:334: UserWarning: Trying to unpickle estimator StandardScaler from version 0.23.1 when using version 0.23.2. This might lead to breaking code or invalid results. Use at your own risk.\n",
      "  UserWarning)\n"
     ]
    },
    {
     "name": "stdout",
     "output_type": "stream",
     "text": [
      "1 PBC ALIBIC\n"
     ]
    },
    {
     "name": "stderr",
     "output_type": "stream",
     "text": [
      "/home/rmazzine/anaconda3/envs/ALIBIC/lib/python3.7/site-packages/sklearn/base.py:334: UserWarning: Trying to unpickle estimator StandardScaler from version 0.23.1 when using version 0.23.2. This might lead to breaking code or invalid results. Use at your own risk.\n",
      "  UserWarning)\n",
      "/home/rmazzine/anaconda3/envs/ALIBIC/lib/python3.7/site-packages/sklearn/base.py:334: UserWarning: Trying to unpickle estimator StandardScaler from version 0.23.1 when using version 0.23.2. This might lead to breaking code or invalid results. Use at your own risk.\n",
      "  UserWarning)\n"
     ]
    },
    {
     "name": "stdout",
     "output_type": "stream",
     "text": [
      "0 StatlogGC MLEXPLAIN\n",
      "1 SDD SYNAS\n",
      "0 CMSC LORE\n"
     ]
    },
    {
     "name": "stderr",
     "output_type": "stream",
     "text": [
      "/home/rmazzine/anaconda3/envs/ALIBIC/lib/python3.7/site-packages/sklearn/base.py:334: UserWarning: Trying to unpickle estimator StandardScaler from version 0.23.1 when using version 0.23.2. This might lead to breaking code or invalid results. Use at your own risk.\n",
      "  UserWarning)\n"
     ]
    },
    {
     "name": "stdout",
     "output_type": "stream",
     "text": [
      "0 Chess SYNAS\n",
      "1 Iris DICE\n",
      "0 SDD ALIBIC\n",
      "0 CarEvaluation CADEX\n",
      "0 Iris SEDC\n",
      "1 StudentPerf GROWINGSPHERES4\n"
     ]
    },
    {
     "name": "stderr",
     "output_type": "stream",
     "text": [
      "/home/rmazzine/anaconda3/envs/ALIBIC/lib/python3.7/site-packages/sklearn/base.py:334: UserWarning: Trying to unpickle estimator StandardScaler from version 0.23.1 when using version 0.23.2. This might lead to breaking code or invalid results. Use at your own risk.\n",
      "  UserWarning)\n"
     ]
    },
    {
     "name": "stdout",
     "output_type": "stream",
     "text": [
      "1 Lenses DICE\n",
      "0 PBC MACE\n"
     ]
    },
    {
     "name": "stderr",
     "output_type": "stream",
     "text": [
      "/home/rmazzine/anaconda3/envs/ALIBIC/lib/python3.7/site-packages/sklearn/base.py:334: UserWarning: Trying to unpickle estimator StandardScaler from version 0.23.1 when using version 0.23.2. This might lead to breaking code or invalid results. Use at your own risk.\n",
      "  UserWarning)\n",
      "/home/rmazzine/anaconda3/envs/ALIBIC/lib/python3.7/site-packages/sklearn/base.py:334: UserWarning: Trying to unpickle estimator StandardScaler from version 0.23.1 when using version 0.23.2. This might lead to breaking code or invalid results. Use at your own risk.\n",
      "  UserWarning)\n"
     ]
    },
    {
     "name": "stdout",
     "output_type": "stream",
     "text": [
      "0 HayesRoth DICE\n",
      "1 PBC MLEXPLAIN\n"
     ]
    },
    {
     "name": "stderr",
     "output_type": "stream",
     "text": [
      "/home/rmazzine/anaconda3/envs/ALIBIC/lib/python3.7/site-packages/sklearn/base.py:334: UserWarning: Trying to unpickle estimator StandardScaler from version 0.23.1 when using version 0.23.2. This might lead to breaking code or invalid results. Use at your own risk.\n",
      "  UserWarning)\n",
      "/home/rmazzine/anaconda3/envs/ALIBIC/lib/python3.7/site-packages/sklearn/base.py:334: UserWarning: Trying to unpickle estimator StandardScaler from version 0.23.1 when using version 0.23.2. This might lead to breaking code or invalid results. Use at your own risk.\n",
      "  UserWarning)\n"
     ]
    },
    {
     "name": "stdout",
     "output_type": "stream",
     "text": [
      "1 Wine GROWINGSPHERES4\n"
     ]
    },
    {
     "name": "stderr",
     "output_type": "stream",
     "text": [
      "/home/rmazzine/anaconda3/envs/ALIBIC/lib/python3.7/site-packages/sklearn/base.py:334: UserWarning: Trying to unpickle estimator StandardScaler from version 0.23.1 when using version 0.23.2. This might lead to breaking code or invalid results. Use at your own risk.\n",
      "  UserWarning)\n"
     ]
    },
    {
     "name": "stdout",
     "output_type": "stream",
     "text": [
      "0 Wine ALIBIC\n"
     ]
    },
    {
     "name": "stderr",
     "output_type": "stream",
     "text": [
      "/home/rmazzine/anaconda3/envs/ALIBIC/lib/python3.7/site-packages/sklearn/base.py:334: UserWarning: Trying to unpickle estimator StandardScaler from version 0.23.1 when using version 0.23.2. This might lead to breaking code or invalid results. Use at your own risk.\n",
      "  UserWarning)\n"
     ]
    },
    {
     "name": "stdout",
     "output_type": "stream",
     "text": [
      "1 SoybeanSmall SYNAS\n",
      "1 Iris ALIBICNOGRAD\n"
     ]
    },
    {
     "name": "stderr",
     "output_type": "stream",
     "text": [
      "/home/rmazzine/anaconda3/envs/ALIBIC/lib/python3.7/site-packages/sklearn/base.py:334: UserWarning: Trying to unpickle estimator StandardScaler from version 0.23.1 when using version 0.23.2. This might lead to breaking code or invalid results. Use at your own risk.\n",
      "  UserWarning)\n"
     ]
    },
    {
     "name": "stdout",
     "output_type": "stream",
     "text": [
      "0 Nursery LORE\n",
      "0 StudentPerf GROWINGSPHERES4\n"
     ]
    },
    {
     "name": "stderr",
     "output_type": "stream",
     "text": [
      "/home/rmazzine/anaconda3/envs/ALIBIC/lib/python3.7/site-packages/sklearn/base.py:334: UserWarning: Trying to unpickle estimator StandardScaler from version 0.23.1 when using version 0.23.2. This might lead to breaking code or invalid results. Use at your own risk.\n",
      "  UserWarning)\n"
     ]
    },
    {
     "name": "stdout",
     "output_type": "stream",
     "text": [
      "1 TicTacToe SYNAS\n",
      "1 Chess GROWINGSPHERES3\n",
      "1 SoybeanSmall LORE\n",
      "1 CarEvaluation CADEX\n",
      "1 DefaultOfCCC GROWINGSPHERES3\n"
     ]
    },
    {
     "name": "stderr",
     "output_type": "stream",
     "text": [
      "/home/rmazzine/anaconda3/envs/ALIBIC/lib/python3.7/site-packages/sklearn/base.py:334: UserWarning: Trying to unpickle estimator StandardScaler from version 0.23.1 when using version 0.23.2. This might lead to breaking code or invalid results. Use at your own risk.\n",
      "  UserWarning)\n"
     ]
    },
    {
     "name": "stdout",
     "output_type": "stream",
     "text": [
      "0 Lenses GROWINGSPHERES4\n",
      "1 Wine MLEXPLAIN\n",
      "1 Lenses GROWINGSPHERES3\n",
      "0 MagicGT DICE\n"
     ]
    },
    {
     "name": "stderr",
     "output_type": "stream",
     "text": [
      "/home/rmazzine/anaconda3/envs/ALIBIC/lib/python3.7/site-packages/sklearn/base.py:334: UserWarning: Trying to unpickle estimator StandardScaler from version 0.23.1 when using version 0.23.2. This might lead to breaking code or invalid results. Use at your own risk.\n",
      "  UserWarning)\n"
     ]
    },
    {
     "name": "stdout",
     "output_type": "stream",
     "text": [
      "1 Chess DICE\n",
      "1 StudentPerf ALIBIC\n"
     ]
    },
    {
     "name": "stderr",
     "output_type": "stream",
     "text": [
      "/home/rmazzine/anaconda3/envs/ALIBIC/lib/python3.7/site-packages/sklearn/base.py:334: UserWarning: Trying to unpickle estimator StandardScaler from version 0.23.1 when using version 0.23.2. This might lead to breaking code or invalid results. Use at your own risk.\n",
      "  UserWarning)\n"
     ]
    },
    {
     "name": "stdout",
     "output_type": "stream",
     "text": [
      "0 MagicGT SEDC\n"
     ]
    },
    {
     "name": "stderr",
     "output_type": "stream",
     "text": [
      "/home/rmazzine/anaconda3/envs/ALIBIC/lib/python3.7/site-packages/sklearn/base.py:334: UserWarning: Trying to unpickle estimator StandardScaler from version 0.23.1 when using version 0.23.2. This might lead to breaking code or invalid results. Use at your own risk.\n",
      "  UserWarning)\n"
     ]
    },
    {
     "name": "stdout",
     "output_type": "stream",
     "text": [
      "0 Lymphography DICE\n",
      "1 Lymphography DICE\n",
      "0 Chess MACE\n",
      "1 TicTacToe MACE\n",
      "1 InternetAdv LORE\n"
     ]
    },
    {
     "name": "stderr",
     "output_type": "stream",
     "text": [
      "/home/rmazzine/anaconda3/envs/ALIBIC/lib/python3.7/site-packages/sklearn/base.py:334: UserWarning: Trying to unpickle estimator StandardScaler from version 0.23.1 when using version 0.23.2. This might lead to breaking code or invalid results. Use at your own risk.\n",
      "  UserWarning)\n",
      "/home/rmazzine/anaconda3/envs/ALIBIC/lib/python3.7/site-packages/sklearn/base.py:334: UserWarning: Trying to unpickle estimator StandardScaler from version 0.23.1 when using version 0.23.2. This might lead to breaking code or invalid results. Use at your own risk.\n",
      "  UserWarning)\n"
     ]
    },
    {
     "name": "stdout",
     "output_type": "stream",
     "text": [
      "1 BCW GROWINGSPHERES3\n"
     ]
    },
    {
     "name": "stderr",
     "output_type": "stream",
     "text": [
      "/home/rmazzine/anaconda3/envs/ALIBIC/lib/python3.7/site-packages/sklearn/base.py:334: UserWarning: Trying to unpickle estimator StandardScaler from version 0.23.1 when using version 0.23.2. This might lead to breaking code or invalid results. Use at your own risk.\n",
      "  UserWarning)\n",
      "/home/rmazzine/anaconda3/envs/ALIBIC/lib/python3.7/site-packages/sklearn/base.py:334: UserWarning: Trying to unpickle estimator StandardScaler from version 0.23.1 when using version 0.23.2. This might lead to breaking code or invalid results. Use at your own risk.\n",
      "  UserWarning)\n"
     ]
    },
    {
     "name": "stdout",
     "output_type": "stream",
     "text": [
      "1 PBC CADEX\n"
     ]
    },
    {
     "name": "stderr",
     "output_type": "stream",
     "text": [
      "/home/rmazzine/anaconda3/envs/ALIBIC/lib/python3.7/site-packages/sklearn/base.py:334: UserWarning: Trying to unpickle estimator StandardScaler from version 0.23.1 when using version 0.23.2. This might lead to breaking code or invalid results. Use at your own risk.\n",
      "  UserWarning)\n",
      "/home/rmazzine/anaconda3/envs/ALIBIC/lib/python3.7/site-packages/sklearn/base.py:334: UserWarning: Trying to unpickle estimator StandardScaler from version 0.23.1 when using version 0.23.2. This might lead to breaking code or invalid results. Use at your own risk.\n",
      "  UserWarning)\n"
     ]
    },
    {
     "name": "stdout",
     "output_type": "stream",
     "text": [
      "1 HayesRoth MLEXPLAIN\n",
      "0 SDD ALIBICNOGRAD\n",
      "1 TicTacToe DICE\n",
      "0 Ecoli MLEXPLAIN\n",
      "0 CarEvaluation MLEXPLAIN\n",
      "1 StudentPerf MACE\n"
     ]
    },
    {
     "name": "stderr",
     "output_type": "stream",
     "text": [
      "/home/rmazzine/anaconda3/envs/ALIBIC/lib/python3.7/site-packages/sklearn/base.py:334: UserWarning: Trying to unpickle estimator StandardScaler from version 0.23.1 when using version 0.23.2. This might lead to breaking code or invalid results. Use at your own risk.\n",
      "  UserWarning)\n"
     ]
    },
    {
     "name": "stdout",
     "output_type": "stream",
     "text": [
      "0 Adult ALIBICNOGRAD\n"
     ]
    },
    {
     "name": "stderr",
     "output_type": "stream",
     "text": [
      "/home/rmazzine/anaconda3/envs/ALIBIC/lib/python3.7/site-packages/sklearn/base.py:334: UserWarning: Trying to unpickle estimator StandardScaler from version 0.23.1 when using version 0.23.2. This might lead to breaking code or invalid results. Use at your own risk.\n",
      "  UserWarning)\n"
     ]
    },
    {
     "name": "stdout",
     "output_type": "stream",
     "text": [
      "1 StudentPerf SYNAS\n"
     ]
    },
    {
     "name": "stderr",
     "output_type": "stream",
     "text": [
      "/home/rmazzine/anaconda3/envs/ALIBIC/lib/python3.7/site-packages/sklearn/base.py:334: UserWarning: Trying to unpickle estimator StandardScaler from version 0.23.1 when using version 0.23.2. This might lead to breaking code or invalid results. Use at your own risk.\n",
      "  UserWarning)\n"
     ]
    },
    {
     "name": "stdout",
     "output_type": "stream",
     "text": [
      "1 DefaultOfCCC SYNAS\n"
     ]
    },
    {
     "name": "stderr",
     "output_type": "stream",
     "text": [
      "/home/rmazzine/anaconda3/envs/ALIBIC/lib/python3.7/site-packages/sklearn/base.py:334: UserWarning: Trying to unpickle estimator StandardScaler from version 0.23.1 when using version 0.23.2. This might lead to breaking code or invalid results. Use at your own risk.\n",
      "  UserWarning)\n"
     ]
    },
    {
     "name": "stdout",
     "output_type": "stream",
     "text": [
      "0 CMSC GROWINGSPHERES4\n"
     ]
    },
    {
     "name": "stderr",
     "output_type": "stream",
     "text": [
      "/home/rmazzine/anaconda3/envs/ALIBIC/lib/python3.7/site-packages/sklearn/base.py:334: UserWarning: Trying to unpickle estimator StandardScaler from version 0.23.1 when using version 0.23.2. This might lead to breaking code or invalid results. Use at your own risk.\n",
      "  UserWarning)\n"
     ]
    },
    {
     "name": "stdout",
     "output_type": "stream",
     "text": [
      "0 CarEvaluation SYNAS\n",
      "1 CMSC GROWINGSPHERES3\n"
     ]
    },
    {
     "name": "stderr",
     "output_type": "stream",
     "text": [
      "/home/rmazzine/anaconda3/envs/ALIBIC/lib/python3.7/site-packages/sklearn/base.py:334: UserWarning: Trying to unpickle estimator StandardScaler from version 0.23.1 when using version 0.23.2. This might lead to breaking code or invalid results. Use at your own risk.\n",
      "  UserWarning)\n"
     ]
    },
    {
     "name": "stdout",
     "output_type": "stream",
     "text": [
      "1 Lymphography MLEXPLAIN\n",
      "0 SDD GROWINGSPHERES3\n"
     ]
    },
    {
     "name": "stderr",
     "output_type": "stream",
     "text": [
      "/home/rmazzine/anaconda3/envs/ALIBIC/lib/python3.7/site-packages/sklearn/base.py:334: UserWarning: Trying to unpickle estimator StandardScaler from version 0.23.1 when using version 0.23.2. This might lead to breaking code or invalid results. Use at your own risk.\n",
      "  UserWarning)\n"
     ]
    },
    {
     "name": "stdout",
     "output_type": "stream",
     "text": [
      "1 CarEvaluation SEDC\n",
      "0 SoybeanSmall DICE\n",
      "0 Adult SEDC\n"
     ]
    },
    {
     "name": "stderr",
     "output_type": "stream",
     "text": [
      "/home/rmazzine/anaconda3/envs/ALIBIC/lib/python3.7/site-packages/sklearn/base.py:334: UserWarning: Trying to unpickle estimator StandardScaler from version 0.23.1 when using version 0.23.2. This might lead to breaking code or invalid results. Use at your own risk.\n",
      "  UserWarning)\n"
     ]
    },
    {
     "name": "stdout",
     "output_type": "stream",
     "text": [
      "0 Iris CADEX\n"
     ]
    },
    {
     "name": "stderr",
     "output_type": "stream",
     "text": [
      "/home/rmazzine/anaconda3/envs/ALIBIC/lib/python3.7/site-packages/sklearn/base.py:334: UserWarning: Trying to unpickle estimator StandardScaler from version 0.23.1 when using version 0.23.2. This might lead to breaking code or invalid results. Use at your own risk.\n",
      "  UserWarning)\n"
     ]
    },
    {
     "name": "stdout",
     "output_type": "stream",
     "text": [
      "0 StatlogGC GROWINGSPHERES4\n"
     ]
    },
    {
     "name": "stderr",
     "output_type": "stream",
     "text": [
      "/home/rmazzine/anaconda3/envs/ALIBIC/lib/python3.7/site-packages/sklearn/base.py:334: UserWarning: Trying to unpickle estimator StandardScaler from version 0.23.1 when using version 0.23.2. This might lead to breaking code or invalid results. Use at your own risk.\n",
      "  UserWarning)\n"
     ]
    },
    {
     "name": "stdout",
     "output_type": "stream",
     "text": [
      "1 SDD SEDC\n"
     ]
    },
    {
     "name": "stderr",
     "output_type": "stream",
     "text": [
      "/home/rmazzine/anaconda3/envs/ALIBIC/lib/python3.7/site-packages/sklearn/base.py:334: UserWarning: Trying to unpickle estimator StandardScaler from version 0.23.1 when using version 0.23.2. This might lead to breaking code or invalid results. Use at your own risk.\n",
      "  UserWarning)\n"
     ]
    },
    {
     "name": "stdout",
     "output_type": "stream",
     "text": [
      "1 Nursery ALIBIC\n",
      "1 Lenses MACE\n",
      "0 CMSC ALIBIC\n"
     ]
    },
    {
     "name": "stderr",
     "output_type": "stream",
     "text": [
      "/home/rmazzine/anaconda3/envs/ALIBIC/lib/python3.7/site-packages/sklearn/base.py:334: UserWarning: Trying to unpickle estimator StandardScaler from version 0.23.1 when using version 0.23.2. This might lead to breaking code or invalid results. Use at your own risk.\n",
      "  UserWarning)\n"
     ]
    },
    {
     "name": "stdout",
     "output_type": "stream",
     "text": [
      "1 PBC SYNAS\n"
     ]
    },
    {
     "name": "stderr",
     "output_type": "stream",
     "text": [
      "/home/rmazzine/anaconda3/envs/ALIBIC/lib/python3.7/site-packages/sklearn/base.py:334: UserWarning: Trying to unpickle estimator StandardScaler from version 0.23.1 when using version 0.23.2. This might lead to breaking code or invalid results. Use at your own risk.\n",
      "  UserWarning)\n",
      "/home/rmazzine/anaconda3/envs/ALIBIC/lib/python3.7/site-packages/sklearn/base.py:334: UserWarning: Trying to unpickle estimator StandardScaler from version 0.23.1 when using version 0.23.2. This might lead to breaking code or invalid results. Use at your own risk.\n",
      "  UserWarning)\n"
     ]
    },
    {
     "name": "stdout",
     "output_type": "stream",
     "text": [
      "0 Nursery CADEX\n",
      "1 ISOLET MLEXPLAIN\n",
      "0 HayesRoth ALIBIC\n",
      "0 TicTacToe ALIBIC\n",
      "1 InternetAdv ALIBIC\n"
     ]
    },
    {
     "name": "stderr",
     "output_type": "stream",
     "text": [
      "/home/rmazzine/anaconda3/envs/ALIBIC/lib/python3.7/site-packages/sklearn/base.py:334: UserWarning: Trying to unpickle estimator StandardScaler from version 0.23.1 when using version 0.23.2. This might lead to breaking code or invalid results. Use at your own risk.\n",
      "  UserWarning)\n",
      "/home/rmazzine/anaconda3/envs/ALIBIC/lib/python3.7/site-packages/sklearn/base.py:334: UserWarning: Trying to unpickle estimator StandardScaler from version 0.23.1 when using version 0.23.2. This might lead to breaking code or invalid results. Use at your own risk.\n",
      "  UserWarning)\n"
     ]
    },
    {
     "name": "stdout",
     "output_type": "stream",
     "text": [
      "1 Lenses ALIBIC\n",
      "1 BalanceScale MLEXPLAIN\n",
      "1 StudentPerf DICE\n"
     ]
    },
    {
     "name": "stderr",
     "output_type": "stream",
     "text": [
      "/home/rmazzine/anaconda3/envs/ALIBIC/lib/python3.7/site-packages/sklearn/base.py:334: UserWarning: Trying to unpickle estimator StandardScaler from version 0.23.1 when using version 0.23.2. This might lead to breaking code or invalid results. Use at your own risk.\n",
      "  UserWarning)\n"
     ]
    },
    {
     "name": "stdout",
     "output_type": "stream",
     "text": [
      "1 Adult LORE\n"
     ]
    },
    {
     "name": "stderr",
     "output_type": "stream",
     "text": [
      "/home/rmazzine/anaconda3/envs/ALIBIC/lib/python3.7/site-packages/sklearn/base.py:334: UserWarning: Trying to unpickle estimator StandardScaler from version 0.23.1 when using version 0.23.2. This might lead to breaking code or invalid results. Use at your own risk.\n",
      "  UserWarning)\n"
     ]
    },
    {
     "name": "stdout",
     "output_type": "stream",
     "text": [
      "0 ISOLET ALIBICNOGRAD\n"
     ]
    },
    {
     "name": "stderr",
     "output_type": "stream",
     "text": [
      "/home/rmazzine/anaconda3/envs/ALIBIC/lib/python3.7/site-packages/sklearn/base.py:334: UserWarning: Trying to unpickle estimator StandardScaler from version 0.23.1 when using version 0.23.2. This might lead to breaking code or invalid results. Use at your own risk.\n",
      "  UserWarning)\n"
     ]
    },
    {
     "name": "stdout",
     "output_type": "stream",
     "text": [
      "1 BCW ALIBICNOGRAD\n"
     ]
    },
    {
     "name": "stderr",
     "output_type": "stream",
     "text": [
      "/home/rmazzine/anaconda3/envs/ALIBIC/lib/python3.7/site-packages/sklearn/base.py:334: UserWarning: Trying to unpickle estimator StandardScaler from version 0.23.1 when using version 0.23.2. This might lead to breaking code or invalid results. Use at your own risk.\n",
      "  UserWarning)\n",
      "/home/rmazzine/anaconda3/envs/ALIBIC/lib/python3.7/site-packages/sklearn/base.py:334: UserWarning: Trying to unpickle estimator StandardScaler from version 0.23.1 when using version 0.23.2. This might lead to breaking code or invalid results. Use at your own risk.\n",
      "  UserWarning)\n"
     ]
    },
    {
     "name": "stdout",
     "output_type": "stream",
     "text": [
      "0 BCW DICE\n"
     ]
    },
    {
     "name": "stderr",
     "output_type": "stream",
     "text": [
      "/home/rmazzine/anaconda3/envs/ALIBIC/lib/python3.7/site-packages/sklearn/base.py:334: UserWarning: Trying to unpickle estimator StandardScaler from version 0.23.1 when using version 0.23.2. This might lead to breaking code or invalid results. Use at your own risk.\n",
      "  UserWarning)\n",
      "/home/rmazzine/anaconda3/envs/ALIBIC/lib/python3.7/site-packages/sklearn/base.py:334: UserWarning: Trying to unpickle estimator StandardScaler from version 0.23.1 when using version 0.23.2. This might lead to breaking code or invalid results. Use at your own risk.\n",
      "  UserWarning)\n"
     ]
    },
    {
     "name": "stdout",
     "output_type": "stream",
     "text": [
      "0 Wine SYNAS\n"
     ]
    },
    {
     "name": "stderr",
     "output_type": "stream",
     "text": [
      "/home/rmazzine/anaconda3/envs/ALIBIC/lib/python3.7/site-packages/sklearn/base.py:334: UserWarning: Trying to unpickle estimator StandardScaler from version 0.23.1 when using version 0.23.2. This might lead to breaking code or invalid results. Use at your own risk.\n",
      "  UserWarning)\n"
     ]
    },
    {
     "name": "stdout",
     "output_type": "stream",
     "text": [
      "0 HayesRoth ALIBICNOGRAD\n",
      "0 MagicGT ALIBIC\n"
     ]
    },
    {
     "name": "stderr",
     "output_type": "stream",
     "text": [
      "/home/rmazzine/anaconda3/envs/ALIBIC/lib/python3.7/site-packages/sklearn/base.py:334: UserWarning: Trying to unpickle estimator StandardScaler from version 0.23.1 when using version 0.23.2. This might lead to breaking code or invalid results. Use at your own risk.\n",
      "  UserWarning)\n"
     ]
    },
    {
     "name": "stdout",
     "output_type": "stream",
     "text": [
      "0 Chess ALIBICNOGRAD\n",
      "1 Lymphography GROWINGSPHERES3\n",
      "1 StatlogGC ALIBIC\n"
     ]
    },
    {
     "name": "stderr",
     "output_type": "stream",
     "text": [
      "/home/rmazzine/anaconda3/envs/ALIBIC/lib/python3.7/site-packages/sklearn/base.py:334: UserWarning: Trying to unpickle estimator StandardScaler from version 0.23.1 when using version 0.23.2. This might lead to breaking code or invalid results. Use at your own risk.\n",
      "  UserWarning)\n"
     ]
    },
    {
     "name": "stdout",
     "output_type": "stream",
     "text": [
      "0 Chess ALIBIC\n",
      "1 Lenses MLEXPLAIN\n",
      "0 CarEvaluation SEDC\n",
      "1 MagicGT SYNAS\n"
     ]
    },
    {
     "name": "stderr",
     "output_type": "stream",
     "text": [
      "/home/rmazzine/anaconda3/envs/ALIBIC/lib/python3.7/site-packages/sklearn/base.py:334: UserWarning: Trying to unpickle estimator StandardScaler from version 0.23.1 when using version 0.23.2. This might lead to breaking code or invalid results. Use at your own risk.\n",
      "  UserWarning)\n"
     ]
    },
    {
     "name": "stdout",
     "output_type": "stream",
     "text": [
      "1 DefaultOfCCC GROWINGSPHERES4\n"
     ]
    },
    {
     "name": "stderr",
     "output_type": "stream",
     "text": [
      "/home/rmazzine/anaconda3/envs/ALIBIC/lib/python3.7/site-packages/sklearn/base.py:334: UserWarning: Trying to unpickle estimator StandardScaler from version 0.23.1 when using version 0.23.2. This might lead to breaking code or invalid results. Use at your own risk.\n",
      "  UserWarning)\n"
     ]
    },
    {
     "name": "stdout",
     "output_type": "stream",
     "text": [
      "1 CarEvaluation MLEXPLAIN\n",
      "0 DefaultOfCCC GROWINGSPHERES3\n"
     ]
    },
    {
     "name": "stderr",
     "output_type": "stream",
     "text": [
      "/home/rmazzine/anaconda3/envs/ALIBIC/lib/python3.7/site-packages/sklearn/base.py:334: UserWarning: Trying to unpickle estimator StandardScaler from version 0.23.1 when using version 0.23.2. This might lead to breaking code or invalid results. Use at your own risk.\n",
      "  UserWarning)\n"
     ]
    },
    {
     "name": "stdout",
     "output_type": "stream",
     "text": [
      "0 Wine LORE\n",
      "1 BalanceScale GROWINGSPHERES3\n",
      "0 Nursery GROWINGSPHERES3\n",
      "0 Adult SYNAS\n"
     ]
    },
    {
     "name": "stderr",
     "output_type": "stream",
     "text": [
      "/home/rmazzine/anaconda3/envs/ALIBIC/lib/python3.7/site-packages/sklearn/base.py:334: UserWarning: Trying to unpickle estimator StandardScaler from version 0.23.1 when using version 0.23.2. This might lead to breaking code or invalid results. Use at your own risk.\n",
      "  UserWarning)\n"
     ]
    },
    {
     "name": "stdout",
     "output_type": "stream",
     "text": [
      "0 MagicGT MLEXPLAIN\n"
     ]
    },
    {
     "name": "stderr",
     "output_type": "stream",
     "text": [
      "/home/rmazzine/anaconda3/envs/ALIBIC/lib/python3.7/site-packages/sklearn/base.py:334: UserWarning: Trying to unpickle estimator StandardScaler from version 0.23.1 when using version 0.23.2. This might lead to breaking code or invalid results. Use at your own risk.\n",
      "  UserWarning)\n"
     ]
    },
    {
     "name": "stdout",
     "output_type": "stream",
     "text": [
      "0 CMSC ALIBICNOGRAD\n"
     ]
    },
    {
     "name": "stderr",
     "output_type": "stream",
     "text": [
      "/home/rmazzine/anaconda3/envs/ALIBIC/lib/python3.7/site-packages/sklearn/base.py:334: UserWarning: Trying to unpickle estimator StandardScaler from version 0.23.1 when using version 0.23.2. This might lead to breaking code or invalid results. Use at your own risk.\n",
      "  UserWarning)\n"
     ]
    },
    {
     "name": "stdout",
     "output_type": "stream",
     "text": [
      "1 Lenses LORE\n",
      "0 Lymphography MLEXPLAIN\n",
      "1 TicTacToe GROWINGSPHERES3\n",
      "0 ISOLET DICE\n"
     ]
    },
    {
     "name": "stderr",
     "output_type": "stream",
     "text": [
      "/home/rmazzine/anaconda3/envs/ALIBIC/lib/python3.7/site-packages/sklearn/base.py:334: UserWarning: Trying to unpickle estimator StandardScaler from version 0.23.1 when using version 0.23.2. This might lead to breaking code or invalid results. Use at your own risk.\n",
      "  UserWarning)\n"
     ]
    },
    {
     "name": "stdout",
     "output_type": "stream",
     "text": [
      "1 Wine DICE\n"
     ]
    },
    {
     "name": "stderr",
     "output_type": "stream",
     "text": [
      "/home/rmazzine/anaconda3/envs/ALIBIC/lib/python3.7/site-packages/sklearn/base.py:334: UserWarning: Trying to unpickle estimator StandardScaler from version 0.23.1 when using version 0.23.2. This might lead to breaking code or invalid results. Use at your own risk.\n",
      "  UserWarning)\n"
     ]
    },
    {
     "name": "stdout",
     "output_type": "stream",
     "text": [
      "0 BCW ALIBIC\n"
     ]
    },
    {
     "name": "stderr",
     "output_type": "stream",
     "text": [
      "/home/rmazzine/anaconda3/envs/ALIBIC/lib/python3.7/site-packages/sklearn/base.py:334: UserWarning: Trying to unpickle estimator StandardScaler from version 0.23.1 when using version 0.23.2. This might lead to breaking code or invalid results. Use at your own risk.\n",
      "  UserWarning)\n",
      "/home/rmazzine/anaconda3/envs/ALIBIC/lib/python3.7/site-packages/sklearn/base.py:334: UserWarning: Trying to unpickle estimator StandardScaler from version 0.23.1 when using version 0.23.2. This might lead to breaking code or invalid results. Use at your own risk.\n",
      "  UserWarning)\n"
     ]
    },
    {
     "name": "stdout",
     "output_type": "stream",
     "text": [
      "1 BCW ALIBIC\n"
     ]
    },
    {
     "name": "stderr",
     "output_type": "stream",
     "text": [
      "/home/rmazzine/anaconda3/envs/ALIBIC/lib/python3.7/site-packages/sklearn/base.py:334: UserWarning: Trying to unpickle estimator StandardScaler from version 0.23.1 when using version 0.23.2. This might lead to breaking code or invalid results. Use at your own risk.\n",
      "  UserWarning)\n",
      "/home/rmazzine/anaconda3/envs/ALIBIC/lib/python3.7/site-packages/sklearn/base.py:334: UserWarning: Trying to unpickle estimator StandardScaler from version 0.23.1 when using version 0.23.2. This might lead to breaking code or invalid results. Use at your own risk.\n",
      "  UserWarning)\n"
     ]
    },
    {
     "name": "stdout",
     "output_type": "stream",
     "text": [
      "0 Adult LORE\n",
      "1 Iris MACE\n"
     ]
    },
    {
     "name": "stderr",
     "output_type": "stream",
     "text": [
      "/home/rmazzine/anaconda3/envs/ALIBIC/lib/python3.7/site-packages/sklearn/base.py:334: UserWarning: Trying to unpickle estimator StandardScaler from version 0.23.1 when using version 0.23.2. This might lead to breaking code or invalid results. Use at your own risk.\n",
      "  UserWarning)\n"
     ]
    },
    {
     "name": "stdout",
     "output_type": "stream",
     "text": [
      "0 CarEvaluation ALIBIC\n",
      "1 StudentPerf SEDC\n"
     ]
    },
    {
     "name": "stderr",
     "output_type": "stream",
     "text": [
      "/home/rmazzine/anaconda3/envs/ALIBIC/lib/python3.7/site-packages/sklearn/base.py:334: UserWarning: Trying to unpickle estimator StandardScaler from version 0.23.1 when using version 0.23.2. This might lead to breaking code or invalid results. Use at your own risk.\n",
      "  UserWarning)\n"
     ]
    },
    {
     "name": "stdout",
     "output_type": "stream",
     "text": [
      "1 HayesRoth CADEX\n",
      "1 HayesRoth SYNAS\n",
      "1 Wine SEDC\n"
     ]
    },
    {
     "name": "stderr",
     "output_type": "stream",
     "text": [
      "/home/rmazzine/anaconda3/envs/ALIBIC/lib/python3.7/site-packages/sklearn/base.py:334: UserWarning: Trying to unpickle estimator StandardScaler from version 0.23.1 when using version 0.23.2. This might lead to breaking code or invalid results. Use at your own risk.\n",
      "  UserWarning)\n"
     ]
    },
    {
     "name": "stdout",
     "output_type": "stream",
     "text": [
      "0 BalanceScale MACE\n",
      "0 Lenses ALIBIC\n",
      "0 Nursery MACE\n",
      "0 ISOLET CADEX\n"
     ]
    },
    {
     "name": "stderr",
     "output_type": "stream",
     "text": [
      "/home/rmazzine/anaconda3/envs/ALIBIC/lib/python3.7/site-packages/sklearn/base.py:334: UserWarning: Trying to unpickle estimator StandardScaler from version 0.23.1 when using version 0.23.2. This might lead to breaking code or invalid results. Use at your own risk.\n",
      "  UserWarning)\n"
     ]
    },
    {
     "name": "stdout",
     "output_type": "stream",
     "text": [
      "1 Wine GROWINGSPHERES3\n"
     ]
    },
    {
     "name": "stderr",
     "output_type": "stream",
     "text": [
      "/home/rmazzine/anaconda3/envs/ALIBIC/lib/python3.7/site-packages/sklearn/base.py:334: UserWarning: Trying to unpickle estimator StandardScaler from version 0.23.1 when using version 0.23.2. This might lead to breaking code or invalid results. Use at your own risk.\n",
      "  UserWarning)\n"
     ]
    },
    {
     "name": "stdout",
     "output_type": "stream",
     "text": [
      "0 Ecoli GROWINGSPHERES4\n"
     ]
    },
    {
     "name": "stderr",
     "output_type": "stream",
     "text": [
      "/home/rmazzine/anaconda3/envs/ALIBIC/lib/python3.7/site-packages/sklearn/base.py:334: UserWarning: Trying to unpickle estimator StandardScaler from version 0.23.1 when using version 0.23.2. This might lead to breaking code or invalid results. Use at your own risk.\n",
      "  UserWarning)\n"
     ]
    },
    {
     "name": "stdout",
     "output_type": "stream",
     "text": [
      "1 ISOLET GROWINGSPHERES4\n"
     ]
    },
    {
     "name": "stderr",
     "output_type": "stream",
     "text": [
      "/home/rmazzine/anaconda3/envs/ALIBIC/lib/python3.7/site-packages/sklearn/base.py:334: UserWarning: Trying to unpickle estimator StandardScaler from version 0.23.1 when using version 0.23.2. This might lead to breaking code or invalid results. Use at your own risk.\n",
      "  UserWarning)\n"
     ]
    },
    {
     "name": "stdout",
     "output_type": "stream",
     "text": [
      "1 Iris GROWINGSPHERES3\n"
     ]
    },
    {
     "name": "stderr",
     "output_type": "stream",
     "text": [
      "/home/rmazzine/anaconda3/envs/ALIBIC/lib/python3.7/site-packages/sklearn/base.py:334: UserWarning: Trying to unpickle estimator StandardScaler from version 0.23.1 when using version 0.23.2. This might lead to breaking code or invalid results. Use at your own risk.\n",
      "  UserWarning)\n"
     ]
    },
    {
     "name": "stdout",
     "output_type": "stream",
     "text": [
      "1 Iris MLEXPLAIN\n"
     ]
    },
    {
     "name": "stderr",
     "output_type": "stream",
     "text": [
      "/home/rmazzine/anaconda3/envs/ALIBIC/lib/python3.7/site-packages/sklearn/base.py:334: UserWarning: Trying to unpickle estimator StandardScaler from version 0.23.1 when using version 0.23.2. This might lead to breaking code or invalid results. Use at your own risk.\n",
      "  UserWarning)\n"
     ]
    },
    {
     "name": "stdout",
     "output_type": "stream",
     "text": [
      "1 DefaultOfCCC ALIBICNOGRAD\n"
     ]
    },
    {
     "name": "stderr",
     "output_type": "stream",
     "text": [
      "/home/rmazzine/anaconda3/envs/ALIBIC/lib/python3.7/site-packages/sklearn/base.py:334: UserWarning: Trying to unpickle estimator StandardScaler from version 0.23.1 when using version 0.23.2. This might lead to breaking code or invalid results. Use at your own risk.\n",
      "  UserWarning)\n"
     ]
    },
    {
     "name": "stdout",
     "output_type": "stream",
     "text": [
      "0 PBC MLEXPLAIN\n"
     ]
    },
    {
     "name": "stderr",
     "output_type": "stream",
     "text": [
      "/home/rmazzine/anaconda3/envs/ALIBIC/lib/python3.7/site-packages/sklearn/base.py:334: UserWarning: Trying to unpickle estimator StandardScaler from version 0.23.1 when using version 0.23.2. This might lead to breaking code or invalid results. Use at your own risk.\n",
      "  UserWarning)\n",
      "/home/rmazzine/anaconda3/envs/ALIBIC/lib/python3.7/site-packages/sklearn/base.py:334: UserWarning: Trying to unpickle estimator StandardScaler from version 0.23.1 when using version 0.23.2. This might lead to breaking code or invalid results. Use at your own risk.\n",
      "  UserWarning)\n"
     ]
    },
    {
     "name": "stdout",
     "output_type": "stream",
     "text": [
      "1 StatlogGC MLEXPLAIN\n",
      "1 Adult GROWINGSPHERES4\n"
     ]
    },
    {
     "name": "stderr",
     "output_type": "stream",
     "text": [
      "/home/rmazzine/anaconda3/envs/ALIBIC/lib/python3.7/site-packages/sklearn/base.py:334: UserWarning: Trying to unpickle estimator StandardScaler from version 0.23.1 when using version 0.23.2. This might lead to breaking code or invalid results. Use at your own risk.\n",
      "  UserWarning)\n"
     ]
    },
    {
     "name": "stdout",
     "output_type": "stream",
     "text": [
      "1 Chess GROWINGSPHERES4\n",
      "0 InternetAdv CADEX\n"
     ]
    },
    {
     "name": "stderr",
     "output_type": "stream",
     "text": [
      "/home/rmazzine/anaconda3/envs/ALIBIC/lib/python3.7/site-packages/sklearn/base.py:334: UserWarning: Trying to unpickle estimator StandardScaler from version 0.23.1 when using version 0.23.2. This might lead to breaking code or invalid results. Use at your own risk.\n",
      "  UserWarning)\n",
      "/home/rmazzine/anaconda3/envs/ALIBIC/lib/python3.7/site-packages/sklearn/base.py:334: UserWarning: Trying to unpickle estimator StandardScaler from version 0.23.1 when using version 0.23.2. This might lead to breaking code or invalid results. Use at your own risk.\n",
      "  UserWarning)\n"
     ]
    },
    {
     "name": "stdout",
     "output_type": "stream",
     "text": [
      "1 Chess SEDC\n",
      "0 Chess GROWINGSPHERES3\n",
      "0 BalanceScale GROWINGSPHERES3\n",
      "1 Iris SEDC\n"
     ]
    },
    {
     "name": "stderr",
     "output_type": "stream",
     "text": [
      "/home/rmazzine/anaconda3/envs/ALIBIC/lib/python3.7/site-packages/sklearn/base.py:334: UserWarning: Trying to unpickle estimator StandardScaler from version 0.23.1 when using version 0.23.2. This might lead to breaking code or invalid results. Use at your own risk.\n",
      "  UserWarning)\n"
     ]
    },
    {
     "name": "stdout",
     "output_type": "stream",
     "text": [
      "1 BalanceScale MACE\n",
      "0 SDD LORE\n"
     ]
    },
    {
     "name": "stderr",
     "output_type": "stream",
     "text": [
      "/home/rmazzine/anaconda3/envs/ALIBIC/lib/python3.7/site-packages/sklearn/base.py:334: UserWarning: Trying to unpickle estimator StandardScaler from version 0.23.1 when using version 0.23.2. This might lead to breaking code or invalid results. Use at your own risk.\n",
      "  UserWarning)\n"
     ]
    },
    {
     "name": "stdout",
     "output_type": "stream",
     "text": [
      "1 Lymphography ALIBICNOGRAD\n",
      "0 CMSC MLEXPLAIN\n"
     ]
    },
    {
     "name": "stderr",
     "output_type": "stream",
     "text": [
      "/home/rmazzine/anaconda3/envs/ALIBIC/lib/python3.7/site-packages/sklearn/base.py:334: UserWarning: Trying to unpickle estimator StandardScaler from version 0.23.1 when using version 0.23.2. This might lead to breaking code or invalid results. Use at your own risk.\n",
      "  UserWarning)\n"
     ]
    },
    {
     "name": "stdout",
     "output_type": "stream",
     "text": [
      "1 CarEvaluation MACE\n",
      "1 CarEvaluation GROWINGSPHERES4\n",
      "1 ISOLET CADEX\n"
     ]
    },
    {
     "name": "stderr",
     "output_type": "stream",
     "text": [
      "/home/rmazzine/anaconda3/envs/ALIBIC/lib/python3.7/site-packages/sklearn/base.py:334: UserWarning: Trying to unpickle estimator StandardScaler from version 0.23.1 when using version 0.23.2. This might lead to breaking code or invalid results. Use at your own risk.\n",
      "  UserWarning)\n"
     ]
    },
    {
     "name": "stdout",
     "output_type": "stream",
     "text": [
      "0 DefaultOfCCC LORE\n",
      "0 StatlogGC ALIBIC\n"
     ]
    },
    {
     "name": "stderr",
     "output_type": "stream",
     "text": [
      "/home/rmazzine/anaconda3/envs/ALIBIC/lib/python3.7/site-packages/sklearn/base.py:334: UserWarning: Trying to unpickle estimator StandardScaler from version 0.23.1 when using version 0.23.2. This might lead to breaking code or invalid results. Use at your own risk.\n",
      "  UserWarning)\n"
     ]
    },
    {
     "name": "stdout",
     "output_type": "stream",
     "text": [
      "1 MagicGT DICE\n"
     ]
    },
    {
     "name": "stderr",
     "output_type": "stream",
     "text": [
      "/home/rmazzine/anaconda3/envs/ALIBIC/lib/python3.7/site-packages/sklearn/base.py:334: UserWarning: Trying to unpickle estimator StandardScaler from version 0.23.1 when using version 0.23.2. This might lead to breaking code or invalid results. Use at your own risk.\n",
      "  UserWarning)\n"
     ]
    },
    {
     "name": "stdout",
     "output_type": "stream",
     "text": [
      "0 CMSC CADEX\n"
     ]
    },
    {
     "name": "stderr",
     "output_type": "stream",
     "text": [
      "/home/rmazzine/anaconda3/envs/ALIBIC/lib/python3.7/site-packages/sklearn/base.py:334: UserWarning: Trying to unpickle estimator StandardScaler from version 0.23.1 when using version 0.23.2. This might lead to breaking code or invalid results. Use at your own risk.\n",
      "  UserWarning)\n"
     ]
    },
    {
     "name": "stdout",
     "output_type": "stream",
     "text": [
      "1 Lenses ALIBICNOGRAD\n",
      "0 StudentPerf ALIBICNOGRAD\n"
     ]
    },
    {
     "name": "stderr",
     "output_type": "stream",
     "text": [
      "/home/rmazzine/anaconda3/envs/ALIBIC/lib/python3.7/site-packages/sklearn/base.py:334: UserWarning: Trying to unpickle estimator StandardScaler from version 0.23.1 when using version 0.23.2. This might lead to breaking code or invalid results. Use at your own risk.\n",
      "  UserWarning)\n"
     ]
    },
    {
     "name": "stdout",
     "output_type": "stream",
     "text": [
      "0 Chess MLEXPLAIN\n",
      "1 Nursery MACE\n",
      "0 StudentPerf CADEX\n",
      "0 StudentPerf MLEXPLAIN\n",
      "0 TicTacToe LORE\n",
      "1 DefaultOfCCC ALIBIC\n"
     ]
    },
    {
     "name": "stderr",
     "output_type": "stream",
     "text": [
      "/home/rmazzine/anaconda3/envs/ALIBIC/lib/python3.7/site-packages/sklearn/base.py:334: UserWarning: Trying to unpickle estimator StandardScaler from version 0.23.1 when using version 0.23.2. This might lead to breaking code or invalid results. Use at your own risk.\n",
      "  UserWarning)\n"
     ]
    },
    {
     "name": "stdout",
     "output_type": "stream",
     "text": [
      "0 Lenses ALIBICNOGRAD\n",
      "0 HayesRoth SYNAS\n",
      "1 SDD CADEX\n"
     ]
    },
    {
     "name": "stderr",
     "output_type": "stream",
     "text": [
      "/home/rmazzine/anaconda3/envs/ALIBIC/lib/python3.7/site-packages/sklearn/base.py:334: UserWarning: Trying to unpickle estimator StandardScaler from version 0.23.1 when using version 0.23.2. This might lead to breaking code or invalid results. Use at your own risk.\n",
      "  UserWarning)\n"
     ]
    }
   ],
   "source": [
    "dict_results = {}\n",
    "for file in onlyfiles:\n",
    "    if file.split('_')[0] != 'TIME':\n",
    "        n = file.split('_')[0]\n",
    "        if n == 'STABILITY':\n",
    "            continue\n",
    "        dsName = file.split('_')[1]\n",
    "        framework = file.split('_')[2].split('.')[0]\n",
    "\n",
    "        cat_feats = VAR_TYPES[dsName]['categorical']\n",
    "        num_feats = VAR_TYPES[dsName]['numerical']\n",
    "\n",
    "        model_keras = load_model(f'./models/{dsName}.h5')\n",
    "\n",
    "        # Get architecture info and pass to our NN architecture\n",
    "        input_shape = model_keras.get_weights()[0].shape[0]\n",
    "        hidden_layers_ws = model_keras.get_weights()[0].shape[1]\n",
    "\n",
    "        adapted_nn = _nn_ohe(input_shape, hidden_layers_ws, 1)\n",
    "        adapted_nn.build(input_shape=input_shape)\n",
    "\n",
    "        adapted_nn.layers[1].set_weights(model_keras.layers[0].get_weights())\n",
    "        adapted_nn.layers[2].set_weights(model_keras.layers[1].get_weights())\n",
    "\n",
    "        if n == 1:\n",
    "            # If the tested class is the minority, revert output order\n",
    "            second_layer_w = []\n",
    "            for w_row in model_keras.layers[1].get_weights()[0]:\n",
    "                second_layer_w.append(np.flip(w_row).tolist())\n",
    "\n",
    "            second_layer_b = np.flip(model_keras.layers[1].get_weights()[1])\n",
    "\n",
    "            second_layer = [np.array(second_layer_w, dtype=np.float32),\n",
    "                            np.array(second_layer_b, dtype=np.float32)]\n",
    "            adapted_nn.layers[2].set_weights(second_layer)\n",
    "\n",
    "        adapted_nn.layers[3].set_weights(\n",
    "            [np.array([[0.0], [1.0]], dtype=np.float32), np.array([0.0], dtype=np.float32)])\n",
    "\n",
    "        if len(num_feats) > 0:\n",
    "            df = pd.read_csv(f'./data/NORM_{dsName}.csv')\n",
    "        else:\n",
    "            df = pd.read_csv(f'./data/{dsName}.csv')\n",
    "\n",
    "        if len(cat_feats) > 0 and len(num_feats) > 0:\n",
    "            df_oh = pd.read_csv(f'./data/OH_NORM_{dsName}.csv')\n",
    "        elif len(cat_feats) > 0:\n",
    "            df_oh = pd.read_csv(f'./data/OH_{dsName}.csv')\n",
    "        else:\n",
    "            df_oh = pd.read_csv(f'./data/NORM_{dsName}.csv')\n",
    "\n",
    "        df_cf = pd.read_csv(f'./cfoutput/{n}_{dsName}_{framework}.csv')\n",
    "        df_train = pd.read_csv(f'./experiments_data/{dsName}_TRAINDATASET.csv')\n",
    "        df_fc = pd.read_csv(f'./experiments_data/{dsName}_CFDATASET_{n}.csv').drop(columns=['Unnamed: 0'])\n",
    "\n",
    "        converter = OHConverter.Converter(df, cat_feats, list(df_oh.columns))\n",
    "\n",
    "        print(n, dsName, framework)\n",
    "\n",
    "        scoreValidityTotal = validity_total(df_cf, df_fc, adapted_nn)\n",
    "        scoreValidityFound = validity_found(df_cf, df_fc, adapted_nn)\n",
    "        scoreSparsity = sparsity(df_cf, df_fc, cat_feats, adapted_nn, converter)\n",
    "        scoreL2 = l2(df_cf, df_fc, cat_feats, adapted_nn, converter)\n",
    "        scoreMadd = madd(df_oh, df_cf, df_fc, cat_feats, num_feats, adapted_nn, converter)\n",
    "        scoreMd = md(df_oh, df_cf, df_fc, cat_feats, num_feats, adapted_nn, converter)\n",
    "\n",
    "        df_cf_found, df_fc_found = get_cleaned_processed(df_cf, df_fc, cat_feats, adapted_nn, converter)\n",
    "\n",
    "        ruc = []\n",
    "        rmc = []\n",
    "\n",
    "        scoreCheckBinCat = check_binary_categorical(df_oh, df_cf, df_fc, cat_feats, num_feats, adapted_nn, converter)\n",
    "        if scoreCheckBinCat is not np.nan:\n",
    "            ruc.append(scoreCheckBinCat)\n",
    "\n",
    "        scoreCheckOutsideNumRange = check_outside_num_range(dsName, df_oh, df_cf, df_fc, cat_feats, num_feats, adapted_nn,\n",
    "                                                            converter)\n",
    "        if scoreCheckOutsideNumRange is not np.nan:\n",
    "            ruc.append(scoreCheckOutsideNumRange)\n",
    "\n",
    "        scoreCheckOneHotIntegrity = check_one_hot_integrity(df_oh, df_cf, df_fc, cat_feats, num_feats, adapted_nn, converter)\n",
    "        if scoreCheckOneHotIntegrity is not np.nan:\n",
    "            rmc.append(scoreCheckOneHotIntegrity)\n",
    "\n",
    "        if dsName in list(dict_functions.keys()):\n",
    "            custom_ruc_functions = dict_functions[dsName]['ruc']\n",
    "            custom_rmc_functions = dict_functions[dsName]['rmc']\n",
    "\n",
    "            for c_ruc_function in custom_ruc_functions:\n",
    "                output_ruc = c_ruc_function(dsName, df_oh, df_cf, df_fc, cat_feats, num_feats, adapted_nn, converter)\n",
    "                if output_ruc is not np.nan:\n",
    "                    ruc.append(output_ruc)\n",
    "                else:\n",
    "                    assert len(ruc) == 0\n",
    "\n",
    "            for c_rmc_function in custom_rmc_functions:\n",
    "                output_rmc = c_rmc_function(dsName, df_oh, df_cf, df_fc, cat_feats, num_feats, adapted_nn, converter)\n",
    "                if output_rmc is not np.nan:\n",
    "                    rmc.append(output_rmc)\n",
    "                else:\n",
    "                    assert len(rmc) == 0\n",
    "\n",
    "        if len(ruc) > 0:\n",
    "            scoreRUC = (sum(ruc) / len(ruc) == 1).map(int).tolist()\n",
    "\n",
    "            out_array = scoreRUC\n",
    "            output_results = [np.nan] * df_cf.shape[0]\n",
    "            for idx_result, idxFound in enumerate(list(df_fc_found.index)):\n",
    "                output_results[idxFound] = out_array[idx_result]\n",
    "\n",
    "            scoreRUC = output_results\n",
    "\n",
    "        else:\n",
    "            scoreRUC = [np.nan]*df_cf.shape[0]\n",
    "\n",
    "        if len(rmc) > 0:\n",
    "            scoreRMC = (sum(rmc) / len(rmc) == 1).map(int).tolist()\n",
    "\n",
    "            out_array = scoreRMC\n",
    "            output_results = [np.nan] * df_cf.shape[0]\n",
    "            for idx_result, idxFound in enumerate(list(df_fc_found.index)):\n",
    "                output_results[idxFound] = out_array[idx_result]\n",
    "\n",
    "            scoreRMC = output_results\n",
    "\n",
    "        else:\n",
    "            scoreRMC = [np.nan]*df_cf.shape[0]\n",
    "\n",
    "        if dsName not in dict_results.keys():\n",
    "            dict_results[dsName] = {}\n",
    "\n",
    "        if n not in dict_results[dsName].keys():\n",
    "            dict_results[dsName][n] = []\n",
    "\n",
    "        result_entry = {\n",
    "            'framework': framework,\n",
    "            'n': n,\n",
    "            'validity': scoreValidityTotal,\n",
    "            'validityFound': scoreValidityFound,\n",
    "            'sparsity': scoreSparsity,\n",
    "            'L2': scoreL2,\n",
    "            'RUC': scoreRUC,\n",
    "            'RMC': scoreRMC,\n",
    "            'MAD': scoreMadd,\n",
    "            'MD': scoreMd\n",
    "        }\n",
    "\n",
    "        dict_results[dsName][n].append(result_entry)"
   ]
  },
  {
   "cell_type": "code",
   "execution_count": 32,
   "metadata": {},
   "outputs": [],
   "source": [
    "cvnt001 = { 2: 2.576, 3: 2.913, 4: 3.113, 5: 3.255, 6: 3.364, 7: 3.452, 8: 3.526, 9: 3.590, 10: 3.646, 11: 3.696,\n",
    "            12: 3.741, 13: 3.781, 14: 3.818, 15: 3.853, 16: 3.884, 17: 3.914, 18: 3.941, 19: 3.967, 20: 3.992,\n",
    "            21: 4.015, 22: 4.037, 23: 4.057, 24: 4.077, 25: 4.096, 26: 4.114, 27: 4.132, 28: 4.148, 29: 4.164,\n",
    "            30: 4.179, 31: 4.194, 32: 4.208, 33: 4.222, 34: 4.236, 35: 4.249, 36: 4.261, 37: 4.273, 38: 4.285,\n",
    "            39: 4.296, 40: 4.307, 41: 4.318, 42: 4.329, 43: 4.339, 44: 4.349, 45: 4.359, 46: 4.368, 47: 4.378,\n",
    "            48: 4.387, 49: 4.395, 50: 4.404, }\n",
    "\n",
    "cvnt005 = { 2: 1.960, 3: 2.344, 4: 2.569, 5: 2.728, 6: 2.850, 7: 2.948, 8: 3.031, 9: 3.102, 10: 3.164, 11: 3.219,\n",
    "            12: 3.268, 13: 3.313, 14: 3.354, 15: 3.391, 16: 3.426, 17: 3.458, 18: 3.489, 19: 3.517, 20: 3.544,\n",
    "            21: 3.569, 22: 3.593, 23: 3.616, 24: 3.637, 25: 3.658, 26: 3.678, 27: 3.696, 28: 3.714, 29: 3.732,\n",
    "            30: 3.749, 31: 3.765, 32: 3.780, 33: 3.795, 34: 3.810, 35: 3.824, 36: 3.837, 37: 3.850, 38: 3.863,\n",
    "            39: 3.876, 40: 3.888, 41: 3.899, 42: 3.911, 43: 3.922, 44: 3.933, 45: 3.943, 46: 3.954, 47: 3.964,\n",
    "            48: 3.973, 49: 3.983, 50: 3.992, }\n",
    "\n",
    "cvnt010 = { 2: 1.645, 3: 2.052, 4: 2.291, 5: 2.460, 6: 2.589, 7: 2.693, 8: 2.780, 9: 2.855, 10: 2.920, 11: 2.978,\n",
    "            12: 3.030, 13: 3.077, 14: 3.120, 15: 3.159, 16: 3.196, 17: 3.230, 18: 3.261, 19: 3.291, 20: 3.319,\n",
    "            21: 3.346, 22: 3.371, 23: 3.394, 24: 3.417, 25: 3.439, 26: 3.459, 27: 3.479, 28: 3.498, 29: 3.516,\n",
    "            30: 3.533, 31: 3.550, 32: 3.567, 33: 3.582, 34: 3.597, 35: 3.612, 36: 3.626, 37: 3.640, 38: 3.653,\n",
    "            39: 3.666, 40: 3.679, 41: 3.691, 42: 3.703, 43: 3.714, 44: 3.726, 45: 3.737, 46: 3.747, 47: 3.758,\n",
    "            48: 3.768, 49: 3.778, 50: 3.788, }"
   ]
  },
  {
   "cell_type": "code",
   "execution_count": 59,
   "metadata": {},
   "outputs": [],
   "source": [
    "framework_names = ['ALIBIC', 'ALIBICNOGRAD', 'CADEX', 'DICE', 'GROWINGSPHERES3', \n",
    "                   'GROWINGSPHERES4', 'LORE', 'MACE', 'MLEXPLAIN', 'SEDC', 'SYNAS']"
   ]
  },
  {
   "cell_type": "code",
   "execution_count": 60,
   "metadata": {},
   "outputs": [],
   "source": [
    "dsNames = np.sort(list(VAR_TYPES.keys())).tolist()"
   ]
  },
  {
   "cell_type": "code",
   "execution_count": 162,
   "metadata": {},
   "outputs": [],
   "source": [
    "scores_parameters = {\n",
    "    'validity': 'max',\n",
    "    'sparsity': 'max',\n",
    "    'L2': 'min',\n",
    "    'RUC': 'max',\n",
    "    'RMC': 'max',\n",
    "    'MAD': 'min',\n",
    "    'MD': 'min'\n",
    "}"
   ]
  },
  {
   "cell_type": "code",
   "execution_count": 163,
   "metadata": {},
   "outputs": [],
   "source": [
    "def calculate_rankings(row, d):\n",
    "    best_values = row.dropna().unique()\n",
    "\n",
    "    if d == 'max':\n",
    "        best_values[::-1].sort()\n",
    "    if d == 'min':\n",
    "        best_values.sort()\n",
    "\n",
    "    ranking_row = {}\n",
    "\n",
    "    counter_score = 1\n",
    "    for bv in best_values:\n",
    "        sfw = list(row[row == bv].index)\n",
    "        score = sum([*range(counter_score, counter_score + len(sfw))])/len(sfw)\n",
    "        counter_score += len(sfw)\n",
    "        for fw in sfw:\n",
    "            ranking_row[fw] = score\n",
    "\n",
    "    nan_fws = list(set(framework_names) - set(ranking_row.keys()))\n",
    "    if len(nan_fws) > 0:\n",
    "        nan_score = sum([*range(counter_score, counter_score + len(nan_fws))]) / len(nan_fws)\n",
    "\n",
    "        for fw in nan_fws:\n",
    "            ranking_row[fw] = nan_score\n",
    "\n",
    "    return ranking_row"
   ]
  },
  {
   "cell_type": "code",
   "execution_count": 164,
   "metadata": {},
   "outputs": [],
   "source": [
    "def get_mean_ranking(dsName, n, parameter, d):\n",
    "    data_results = dict_results[dsName][n]\n",
    "    total_parameter = []\n",
    "    names_frameworks = []\n",
    "    number_of_rows = -1\n",
    "    for data in data_results:\n",
    "        names_frameworks.append(data['framework'])\n",
    "        total_parameter.append(data[parameter])\n",
    "        if number_of_rows == -1:\n",
    "            number_of_rows = len(data[parameter])\n",
    "        else:\n",
    "            assert len(data[parameter]) == number_of_rows\n",
    "\n",
    "    df_param = pd.DataFrame(total_parameter).T\n",
    "    df_param.columns = names_frameworks\n",
    "\n",
    "    ranking_all_rows = []\n",
    "    for idx, row in df_param.iterrows():\n",
    "\n",
    "        ranking_row = calculate_rankings(row, d)\n",
    "\n",
    "        ranking_all_rows.append(ranking_row)\n",
    "\n",
    "    return ranking_all_rows"
   ]
  },
  {
   "cell_type": "code",
   "execution_count": 165,
   "metadata": {},
   "outputs": [],
   "source": [
    "result_rows_best = []\n",
    "for dsName in dict_results.keys():\n",
    "    for n in dict_results[dsName].keys():\n",
    "        # Just to get the frameworks sorted\n",
    "        frameworks_sorted = np.sort(framework_names).tolist()\n",
    "\n",
    "        for score_name, score_order in scores_parameters.items():\n",
    "            result_best = get_mean_ranking(dsName, n, score_name, score_order)\n",
    "            Ndataset = len(result_best)\n",
    "            df_best = pd.DataFrame(result_best)[frameworks_sorted]\n",
    "            df_best = df_best.mean().to_frame(0).T\n",
    "            df_best['N'] = Ndataset\n",
    "            \n",
    "            df_best['dataset'] = dsName\n",
    "            df_best['n'] = n\n",
    "            df_best['score'] = score_name\n",
    "\n",
    "            df_best.index = [f'{dsName}_{n}_{score_name}_{score_order}']\n",
    "\n",
    "            result_rows_best.append(df_best)\n",
    "\n",
    "df_mean_ranking = pd.concat(result_rows_best)"
   ]
  },
  {
   "cell_type": "code",
   "execution_count": 166,
   "metadata": {},
   "outputs": [
    {
     "data": {
      "text/html": [
       "<div>\n",
       "<style scoped>\n",
       "    .dataframe tbody tr th:only-of-type {\n",
       "        vertical-align: middle;\n",
       "    }\n",
       "\n",
       "    .dataframe tbody tr th {\n",
       "        vertical-align: top;\n",
       "    }\n",
       "\n",
       "    .dataframe thead th {\n",
       "        text-align: right;\n",
       "    }\n",
       "</style>\n",
       "<table border=\"1\" class=\"dataframe\">\n",
       "  <thead>\n",
       "    <tr style=\"text-align: right;\">\n",
       "      <th></th>\n",
       "      <th>ALIBIC</th>\n",
       "      <th>ALIBICNOGRAD</th>\n",
       "      <th>CADEX</th>\n",
       "      <th>DICE</th>\n",
       "      <th>GROWINGSPHERES3</th>\n",
       "      <th>GROWINGSPHERES4</th>\n",
       "      <th>LORE</th>\n",
       "      <th>MACE</th>\n",
       "      <th>MLEXPLAIN</th>\n",
       "      <th>SEDC</th>\n",
       "      <th>SYNAS</th>\n",
       "      <th>N</th>\n",
       "      <th>dataset</th>\n",
       "      <th>n</th>\n",
       "      <th>score</th>\n",
       "    </tr>\n",
       "  </thead>\n",
       "  <tbody>\n",
       "    <tr>\n",
       "      <th>StatlogGC_1_validity_max</th>\n",
       "      <td>8.580</td>\n",
       "      <td>4.01</td>\n",
       "      <td>4.010</td>\n",
       "      <td>4.010</td>\n",
       "      <td>4.080</td>\n",
       "      <td>4.010</td>\n",
       "      <td>8.98</td>\n",
       "      <td>10.97</td>\n",
       "      <td>8.98</td>\n",
       "      <td>4.150</td>\n",
       "      <td>4.220</td>\n",
       "      <td>100</td>\n",
       "      <td>StatlogGC</td>\n",
       "      <td>1</td>\n",
       "      <td>validity</td>\n",
       "    </tr>\n",
       "    <tr>\n",
       "      <th>StatlogGC_1_sparsity_max</th>\n",
       "      <td>9.085</td>\n",
       "      <td>2.77</td>\n",
       "      <td>6.975</td>\n",
       "      <td>5.775</td>\n",
       "      <td>5.295</td>\n",
       "      <td>3.500</td>\n",
       "      <td>9.51</td>\n",
       "      <td>9.51</td>\n",
       "      <td>9.51</td>\n",
       "      <td>2.765</td>\n",
       "      <td>1.305</td>\n",
       "      <td>100</td>\n",
       "      <td>StatlogGC</td>\n",
       "      <td>1</td>\n",
       "      <td>sparsity</td>\n",
       "    </tr>\n",
       "    <tr>\n",
       "      <th>StatlogGC_1_L2_min</th>\n",
       "      <td>9.130</td>\n",
       "      <td>4.09</td>\n",
       "      <td>6.620</td>\n",
       "      <td>5.270</td>\n",
       "      <td>1.070</td>\n",
       "      <td>2.410</td>\n",
       "      <td>9.51</td>\n",
       "      <td>9.51</td>\n",
       "      <td>9.51</td>\n",
       "      <td>3.075</td>\n",
       "      <td>5.805</td>\n",
       "      <td>100</td>\n",
       "      <td>StatlogGC</td>\n",
       "      <td>1</td>\n",
       "      <td>L2</td>\n",
       "    </tr>\n",
       "    <tr>\n",
       "      <th>StatlogGC_1_RUC_max</th>\n",
       "      <td>8.980</td>\n",
       "      <td>3.54</td>\n",
       "      <td>4.175</td>\n",
       "      <td>4.175</td>\n",
       "      <td>4.230</td>\n",
       "      <td>4.140</td>\n",
       "      <td>9.51</td>\n",
       "      <td>9.51</td>\n",
       "      <td>9.51</td>\n",
       "      <td>4.140</td>\n",
       "      <td>4.090</td>\n",
       "      <td>100</td>\n",
       "      <td>StatlogGC</td>\n",
       "      <td>1</td>\n",
       "      <td>RUC</td>\n",
       "    </tr>\n",
       "    <tr>\n",
       "      <th>StatlogGC_1_RMC_max</th>\n",
       "      <td>8.960</td>\n",
       "      <td>2.32</td>\n",
       "      <td>2.320</td>\n",
       "      <td>5.365</td>\n",
       "      <td>5.875</td>\n",
       "      <td>5.685</td>\n",
       "      <td>9.51</td>\n",
       "      <td>9.51</td>\n",
       "      <td>9.51</td>\n",
       "      <td>4.415</td>\n",
       "      <td>2.530</td>\n",
       "      <td>100</td>\n",
       "      <td>StatlogGC</td>\n",
       "      <td>1</td>\n",
       "      <td>RMC</td>\n",
       "    </tr>\n",
       "    <tr>\n",
       "      <th>...</th>\n",
       "      <td>...</td>\n",
       "      <td>...</td>\n",
       "      <td>...</td>\n",
       "      <td>...</td>\n",
       "      <td>...</td>\n",
       "      <td>...</td>\n",
       "      <td>...</td>\n",
       "      <td>...</td>\n",
       "      <td>...</td>\n",
       "      <td>...</td>\n",
       "      <td>...</td>\n",
       "      <td>...</td>\n",
       "      <td>...</td>\n",
       "      <td>...</td>\n",
       "      <td>...</td>\n",
       "    </tr>\n",
       "    <tr>\n",
       "      <th>ISOLET_1_L2_min</th>\n",
       "      <td>6.410</td>\n",
       "      <td>6.27</td>\n",
       "      <td>1.020</td>\n",
       "      <td>7.190</td>\n",
       "      <td>7.190</td>\n",
       "      <td>2.180</td>\n",
       "      <td>7.19</td>\n",
       "      <td>7.19</td>\n",
       "      <td>7.19</td>\n",
       "      <td>6.980</td>\n",
       "      <td>7.190</td>\n",
       "      <td>100</td>\n",
       "      <td>ISOLET</td>\n",
       "      <td>1</td>\n",
       "      <td>L2</td>\n",
       "    </tr>\n",
       "    <tr>\n",
       "      <th>ISOLET_1_RUC_max</th>\n",
       "      <td>6.400</td>\n",
       "      <td>6.40</td>\n",
       "      <td>2.145</td>\n",
       "      <td>7.190</td>\n",
       "      <td>7.190</td>\n",
       "      <td>1.145</td>\n",
       "      <td>7.19</td>\n",
       "      <td>7.19</td>\n",
       "      <td>7.19</td>\n",
       "      <td>6.770</td>\n",
       "      <td>7.190</td>\n",
       "      <td>100</td>\n",
       "      <td>ISOLET</td>\n",
       "      <td>1</td>\n",
       "      <td>RUC</td>\n",
       "    </tr>\n",
       "    <tr>\n",
       "      <th>ISOLET_1_RMC_max</th>\n",
       "      <td>6.000</td>\n",
       "      <td>6.00</td>\n",
       "      <td>6.000</td>\n",
       "      <td>6.000</td>\n",
       "      <td>6.000</td>\n",
       "      <td>6.000</td>\n",
       "      <td>6.00</td>\n",
       "      <td>6.00</td>\n",
       "      <td>6.00</td>\n",
       "      <td>6.000</td>\n",
       "      <td>6.000</td>\n",
       "      <td>100</td>\n",
       "      <td>ISOLET</td>\n",
       "      <td>1</td>\n",
       "      <td>RMC</td>\n",
       "    </tr>\n",
       "    <tr>\n",
       "      <th>ISOLET_1_MAD_min</th>\n",
       "      <td>6.870</td>\n",
       "      <td>6.85</td>\n",
       "      <td>2.040</td>\n",
       "      <td>7.030</td>\n",
       "      <td>7.030</td>\n",
       "      <td>1.030</td>\n",
       "      <td>7.03</td>\n",
       "      <td>7.03</td>\n",
       "      <td>7.03</td>\n",
       "      <td>7.030</td>\n",
       "      <td>7.030</td>\n",
       "      <td>100</td>\n",
       "      <td>ISOLET</td>\n",
       "      <td>1</td>\n",
       "      <td>MAD</td>\n",
       "    </tr>\n",
       "    <tr>\n",
       "      <th>ISOLET_1_MD_min</th>\n",
       "      <td>6.360</td>\n",
       "      <td>6.23</td>\n",
       "      <td>1.070</td>\n",
       "      <td>7.190</td>\n",
       "      <td>7.190</td>\n",
       "      <td>2.230</td>\n",
       "      <td>7.19</td>\n",
       "      <td>7.19</td>\n",
       "      <td>7.19</td>\n",
       "      <td>6.970</td>\n",
       "      <td>7.190</td>\n",
       "      <td>100</td>\n",
       "      <td>ISOLET</td>\n",
       "      <td>1</td>\n",
       "      <td>MD</td>\n",
       "    </tr>\n",
       "  </tbody>\n",
       "</table>\n",
       "<p>322 rows × 15 columns</p>\n",
       "</div>"
      ],
      "text/plain": [
       "                          ALIBIC  ALIBICNOGRAD  CADEX   DICE  GROWINGSPHERES3  \\\n",
       "StatlogGC_1_validity_max   8.580          4.01  4.010  4.010            4.080   \n",
       "StatlogGC_1_sparsity_max   9.085          2.77  6.975  5.775            5.295   \n",
       "StatlogGC_1_L2_min         9.130          4.09  6.620  5.270            1.070   \n",
       "StatlogGC_1_RUC_max        8.980          3.54  4.175  4.175            4.230   \n",
       "StatlogGC_1_RMC_max        8.960          2.32  2.320  5.365            5.875   \n",
       "...                          ...           ...    ...    ...              ...   \n",
       "ISOLET_1_L2_min            6.410          6.27  1.020  7.190            7.190   \n",
       "ISOLET_1_RUC_max           6.400          6.40  2.145  7.190            7.190   \n",
       "ISOLET_1_RMC_max           6.000          6.00  6.000  6.000            6.000   \n",
       "ISOLET_1_MAD_min           6.870          6.85  2.040  7.030            7.030   \n",
       "ISOLET_1_MD_min            6.360          6.23  1.070  7.190            7.190   \n",
       "\n",
       "                          GROWINGSPHERES4  LORE   MACE  MLEXPLAIN   SEDC  \\\n",
       "StatlogGC_1_validity_max            4.010  8.98  10.97       8.98  4.150   \n",
       "StatlogGC_1_sparsity_max            3.500  9.51   9.51       9.51  2.765   \n",
       "StatlogGC_1_L2_min                  2.410  9.51   9.51       9.51  3.075   \n",
       "StatlogGC_1_RUC_max                 4.140  9.51   9.51       9.51  4.140   \n",
       "StatlogGC_1_RMC_max                 5.685  9.51   9.51       9.51  4.415   \n",
       "...                                   ...   ...    ...        ...    ...   \n",
       "ISOLET_1_L2_min                     2.180  7.19   7.19       7.19  6.980   \n",
       "ISOLET_1_RUC_max                    1.145  7.19   7.19       7.19  6.770   \n",
       "ISOLET_1_RMC_max                    6.000  6.00   6.00       6.00  6.000   \n",
       "ISOLET_1_MAD_min                    1.030  7.03   7.03       7.03  7.030   \n",
       "ISOLET_1_MD_min                     2.230  7.19   7.19       7.19  6.970   \n",
       "\n",
       "                          SYNAS    N    dataset  n     score  \n",
       "StatlogGC_1_validity_max  4.220  100  StatlogGC  1  validity  \n",
       "StatlogGC_1_sparsity_max  1.305  100  StatlogGC  1  sparsity  \n",
       "StatlogGC_1_L2_min        5.805  100  StatlogGC  1        L2  \n",
       "StatlogGC_1_RUC_max       4.090  100  StatlogGC  1       RUC  \n",
       "StatlogGC_1_RMC_max       2.530  100  StatlogGC  1       RMC  \n",
       "...                         ...  ...        ... ..       ...  \n",
       "ISOLET_1_L2_min           7.190  100     ISOLET  1        L2  \n",
       "ISOLET_1_RUC_max          7.190  100     ISOLET  1       RUC  \n",
       "ISOLET_1_RMC_max          6.000  100     ISOLET  1       RMC  \n",
       "ISOLET_1_MAD_min          7.030  100     ISOLET  1       MAD  \n",
       "ISOLET_1_MD_min           7.190  100     ISOLET  1        MD  \n",
       "\n",
       "[322 rows x 15 columns]"
      ]
     },
     "execution_count": 166,
     "metadata": {},
     "output_type": "execute_result"
    }
   ],
   "source": [
    "df_mean_ranking.loc[list(df_mean_ranking.index)]"
   ]
  },
  {
   "cell_type": "code",
   "execution_count": 167,
   "metadata": {},
   "outputs": [
    {
     "data": {
      "text/html": [
       "<div>\n",
       "<style scoped>\n",
       "    .dataframe tbody tr th:only-of-type {\n",
       "        vertical-align: middle;\n",
       "    }\n",
       "\n",
       "    .dataframe tbody tr th {\n",
       "        vertical-align: top;\n",
       "    }\n",
       "\n",
       "    .dataframe thead th {\n",
       "        text-align: right;\n",
       "    }\n",
       "</style>\n",
       "<table border=\"1\" class=\"dataframe\">\n",
       "  <thead>\n",
       "    <tr style=\"text-align: right;\">\n",
       "      <th></th>\n",
       "      <th>ALIBIC</th>\n",
       "      <th>ALIBICNOGRAD</th>\n",
       "      <th>CADEX</th>\n",
       "      <th>DICE</th>\n",
       "      <th>GROWINGSPHERES3</th>\n",
       "      <th>GROWINGSPHERES4</th>\n",
       "      <th>LORE</th>\n",
       "      <th>MACE</th>\n",
       "      <th>MLEXPLAIN</th>\n",
       "      <th>SEDC</th>\n",
       "      <th>SYNAS</th>\n",
       "    </tr>\n",
       "  </thead>\n",
       "  <tbody>\n",
       "    <tr>\n",
       "      <th>SDD_0_validity_max</th>\n",
       "      <td>5.645</td>\n",
       "      <td>5.645</td>\n",
       "      <td>4.705</td>\n",
       "      <td>5.645</td>\n",
       "      <td>8.815</td>\n",
       "      <td>1.395</td>\n",
       "      <td>6.965</td>\n",
       "      <td>10.250</td>\n",
       "      <td>5.645</td>\n",
       "      <td>5.645</td>\n",
       "      <td>5.645</td>\n",
       "    </tr>\n",
       "    <tr>\n",
       "      <th>SDD_0_sparsity_max</th>\n",
       "      <td>6.895</td>\n",
       "      <td>6.895</td>\n",
       "      <td>3.880</td>\n",
       "      <td>6.895</td>\n",
       "      <td>5.880</td>\n",
       "      <td>1.150</td>\n",
       "      <td>6.825</td>\n",
       "      <td>6.895</td>\n",
       "      <td>6.895</td>\n",
       "      <td>6.895</td>\n",
       "      <td>6.895</td>\n",
       "    </tr>\n",
       "    <tr>\n",
       "      <th>SDD_0_L2_min</th>\n",
       "      <td>6.895</td>\n",
       "      <td>6.895</td>\n",
       "      <td>3.530</td>\n",
       "      <td>6.895</td>\n",
       "      <td>5.970</td>\n",
       "      <td>1.380</td>\n",
       "      <td>6.855</td>\n",
       "      <td>6.895</td>\n",
       "      <td>6.895</td>\n",
       "      <td>6.895</td>\n",
       "      <td>6.895</td>\n",
       "    </tr>\n",
       "    <tr>\n",
       "      <th>SDD_0_RUC_max</th>\n",
       "      <td>6.895</td>\n",
       "      <td>6.895</td>\n",
       "      <td>3.615</td>\n",
       "      <td>6.895</td>\n",
       "      <td>6.005</td>\n",
       "      <td>1.275</td>\n",
       "      <td>6.840</td>\n",
       "      <td>6.895</td>\n",
       "      <td>6.895</td>\n",
       "      <td>6.895</td>\n",
       "      <td>6.895</td>\n",
       "    </tr>\n",
       "    <tr>\n",
       "      <th>SDD_0_RMC_max</th>\n",
       "      <td>6.000</td>\n",
       "      <td>6.000</td>\n",
       "      <td>6.000</td>\n",
       "      <td>6.000</td>\n",
       "      <td>6.000</td>\n",
       "      <td>6.000</td>\n",
       "      <td>6.000</td>\n",
       "      <td>6.000</td>\n",
       "      <td>6.000</td>\n",
       "      <td>6.000</td>\n",
       "      <td>6.000</td>\n",
       "    </tr>\n",
       "    <tr>\n",
       "      <th>SDD_0_MAD_min</th>\n",
       "      <td>6.730</td>\n",
       "      <td>6.730</td>\n",
       "      <td>4.630</td>\n",
       "      <td>6.730</td>\n",
       "      <td>6.530</td>\n",
       "      <td>1.000</td>\n",
       "      <td>6.730</td>\n",
       "      <td>6.730</td>\n",
       "      <td>6.730</td>\n",
       "      <td>6.730</td>\n",
       "      <td>6.730</td>\n",
       "    </tr>\n",
       "    <tr>\n",
       "      <th>SDD_0_MD_min</th>\n",
       "      <td>6.895</td>\n",
       "      <td>6.895</td>\n",
       "      <td>3.240</td>\n",
       "      <td>6.895</td>\n",
       "      <td>5.870</td>\n",
       "      <td>1.770</td>\n",
       "      <td>6.855</td>\n",
       "      <td>6.895</td>\n",
       "      <td>6.895</td>\n",
       "      <td>6.895</td>\n",
       "      <td>6.895</td>\n",
       "    </tr>\n",
       "  </tbody>\n",
       "</table>\n",
       "</div>"
      ],
      "text/plain": [
       "                    ALIBIC  ALIBICNOGRAD  CADEX   DICE  GROWINGSPHERES3  \\\n",
       "SDD_0_validity_max   5.645         5.645  4.705  5.645            8.815   \n",
       "SDD_0_sparsity_max   6.895         6.895  3.880  6.895            5.880   \n",
       "SDD_0_L2_min         6.895         6.895  3.530  6.895            5.970   \n",
       "SDD_0_RUC_max        6.895         6.895  3.615  6.895            6.005   \n",
       "SDD_0_RMC_max        6.000         6.000  6.000  6.000            6.000   \n",
       "SDD_0_MAD_min        6.730         6.730  4.630  6.730            6.530   \n",
       "SDD_0_MD_min         6.895         6.895  3.240  6.895            5.870   \n",
       "\n",
       "                    GROWINGSPHERES4   LORE    MACE  MLEXPLAIN   SEDC  SYNAS  \n",
       "SDD_0_validity_max            1.395  6.965  10.250      5.645  5.645  5.645  \n",
       "SDD_0_sparsity_max            1.150  6.825   6.895      6.895  6.895  6.895  \n",
       "SDD_0_L2_min                  1.380  6.855   6.895      6.895  6.895  6.895  \n",
       "SDD_0_RUC_max                 1.275  6.840   6.895      6.895  6.895  6.895  \n",
       "SDD_0_RMC_max                 6.000  6.000   6.000      6.000  6.000  6.000  \n",
       "SDD_0_MAD_min                 1.000  6.730   6.730      6.730  6.730  6.730  \n",
       "SDD_0_MD_min                  1.770  6.855   6.895      6.895  6.895  6.895  "
      ]
     },
     "execution_count": 167,
     "metadata": {},
     "output_type": "execute_result"
    }
   ],
   "source": [
    "df_mean_ranking[\n",
    "    (df_mean_ranking['dataset']=='SDD')&\n",
    "    (df_mean_ranking['n']=='0')\n",
    "].drop(columns=['N', 'dataset', 'n', 'score'])"
   ]
  },
  {
   "cell_type": "code",
   "execution_count": null,
   "metadata": {},
   "outputs": [],
   "source": []
  },
  {
   "cell_type": "code",
   "execution_count": 168,
   "metadata": {},
   "outputs": [],
   "source": [
    "best_fws = []\n",
    "for name, df in df_mean_ranking.drop(columns=['dataset', 'n', 'score']).iterrows():\n",
    "\n",
    "    # No of treatments = No of frameworks / No of tests = No of rows\n",
    "\n",
    "    N = df['N']\n",
    "    k = (df.shape[0]-1)\n",
    "\n",
    "    spx2f = sum([(R-(k+1)/2)**2 for R in df.drop('N').values])\n",
    "\n",
    "    x2f = 12*N/(k*(k+1))*spx2f\n",
    "\n",
    "    ff = (N-1)*x2f/(N*(k-1)-x2f)\n",
    "\n",
    "    # 95% of confidence\n",
    "    critical_f_value = sp.stats.f.ppf(q=1-.05, dfn=k-1, dfd=N-1)\n",
    "    \n",
    "    reject_h0 = True if ff >= critical_f_value else False\n",
    "\n",
    "    cd = cvnt005[k]*(k*(k+1)/(6*N))**0.5\n",
    "\n",
    "\n",
    "\n",
    "    unique_ranks = df.drop('N').unique().tolist()\n",
    "\n",
    "    best_result = min(unique_ranks)\n",
    "\n",
    "    groups = []\n",
    "    for rc in unique_ranks:\n",
    "        rc_group = [rc]\n",
    "        for rt in list(set(unique_ranks)-set([rc])):\n",
    "            if abs(rt-rc) < cd:\n",
    "                rc_group.append(rt)\n",
    "        dupe = False\n",
    "        for gp in groups:\n",
    "            if set(gp) == set(rc_group):\n",
    "                dupe = True\n",
    "        if not dupe:\n",
    "\n",
    "            groups.append(rc_group)\n",
    "\n",
    "    best_group = []\n",
    "    for gp in groups:\n",
    "        if best_result in gp:\n",
    "            best_group += gp\n",
    "\n",
    "    best_fw = {}\n",
    "    for fw, rank in df.drop('N').items():\n",
    "        if rank in best_group:\n",
    "            best_fw[fw] = 1\n",
    "        else:\n",
    "            best_fw[fw] = 0\n",
    "\n",
    "    res_out = pd.DataFrame([best_fw])[framework_names]\n",
    "    res_out.index = [name]\n",
    "    \n",
    "    res_out['H0_Reject'] = reject_h0\n",
    "    \n",
    "    res_out['dataset'] = name.split('_')[0]\n",
    "    res_out['n'] = name.split('_')[1]\n",
    "    res_out['score'] = name.split('_')[2]\n",
    "\n",
    "    best_fws.append(res_out)\n",
    "\n",
    "df_best_fws = pd.concat(best_fws)"
   ]
  },
  {
   "cell_type": "code",
   "execution_count": 169,
   "metadata": {},
   "outputs": [],
   "source": [
    "def highlight_best(s):\n",
    "    '''\n",
    "    highlight the statistically significant with gray.\n",
    "    '''\n",
    "    \n",
    "    has_best = df_best_fws.loc[s.name]['H0_Reject']\n",
    "    \n",
    "    if has_best:\n",
    "        \n",
    "        bests = df_best_fws.loc[s.name].drop(['H0_Reject', 'dataset', 'n', 'score'])\n",
    "        bests = bests[bests==1]\n",
    "        bests_fws = list(bests[bests==1].index)\n",
    "        \n",
    "        return ['background-color: gray' if v in bests_fws else '' for v in list(s.index)]\n",
    "    is_max = s == s.max()\n",
    "    \n",
    "    return ['']*len(s)"
   ]
  },
  {
   "cell_type": "code",
   "execution_count": 173,
   "metadata": {},
   "outputs": [],
   "source": [
    "df_mean_ranking[\n",
    "    (df_mean_ranking['n']=='0')\n",
    "].drop(columns=['N', 'dataset', 'n', 'score']).style.apply(highlight_max, axis=1).to_excel('analysis.xlsx')"
   ]
  },
  {
   "cell_type": "code",
   "execution_count": null,
   "metadata": {},
   "outputs": [],
   "source": []
  }
 ],
 "metadata": {
  "kernelspec": {
   "display_name": "Python 3",
   "language": "python",
   "name": "python3"
  },
  "language_info": {
   "codemirror_mode": {
    "name": "ipython",
    "version": 3
   },
   "file_extension": ".py",
   "mimetype": "text/x-python",
   "name": "python",
   "nbconvert_exporter": "python",
   "pygments_lexer": "ipython3",
   "version": "3.7.9"
  }
 },
 "nbformat": 4,
 "nbformat_minor": 4
}
