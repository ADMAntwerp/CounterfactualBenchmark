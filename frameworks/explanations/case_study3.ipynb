{
 "cells": [
  {
   "cell_type": "code",
   "execution_count": 1,
   "metadata": {},
   "outputs": [],
   "source": [
    "import pandas as pd\n",
    "import numpy as np\n",
    "import scipy as sp\n",
    "import xgboost as xgb\n",
    "import explainer\n",
    "import shap\n",
    "from sklearn.metrics import recall_score, precision_score, roc_auc_score"
   ]
  },
  {
   "cell_type": "code",
   "execution_count": 2,
   "metadata": {},
   "outputs": [
    {
     "name": "stderr",
     "output_type": "stream",
     "text": [
      "C:\\Users\\ferlo\\Anaconda3\\lib\\site-packages\\IPython\\core\\interactiveshell.py:3049: DtypeWarning: Columns (8) have mixed types. Specify dtype option on import or set low_memory=False.\n",
      "  interactivity=interactivity, compiler=compiler, result=result)\n"
     ]
    }
   ],
   "source": [
    "# read the data\n",
    "# The \"validation\" set plays the role of the test in the competition\n",
    "# We keep their name validation here\n",
    "'''\n",
    "Replace the path here with your data path!\n",
    "'''\n",
    "path = 'Data/KDD-CUP/'\n",
    "train = pd.read_csv(path+'cup98LRN.txt')\n",
    "val = pd.read_csv(path+'cup98val.txt')\n",
    "val_label = pd.read_csv(path+'valtargt.txt')"
   ]
  },
  {
   "cell_type": "code",
   "execution_count": 3,
   "metadata": {},
   "outputs": [
    {
     "data": {
      "text/html": [
       "<div>\n",
       "<style scoped>\n",
       "    .dataframe tbody tr th:only-of-type {\n",
       "        vertical-align: middle;\n",
       "    }\n",
       "\n",
       "    .dataframe tbody tr th {\n",
       "        vertical-align: top;\n",
       "    }\n",
       "\n",
       "    .dataframe thead th {\n",
       "        text-align: right;\n",
       "    }\n",
       "</style>\n",
       "<table border=\"1\" class=\"dataframe\">\n",
       "  <thead>\n",
       "    <tr style=\"text-align: right;\">\n",
       "      <th></th>\n",
       "      <th>ODATEDW</th>\n",
       "      <th>OSOURCE</th>\n",
       "      <th>TCODE</th>\n",
       "      <th>STATE</th>\n",
       "      <th>ZIP</th>\n",
       "      <th>MAILCODE</th>\n",
       "      <th>PVASTATE</th>\n",
       "      <th>DOB</th>\n",
       "      <th>NOEXCH</th>\n",
       "      <th>RECINHSE</th>\n",
       "      <th>...</th>\n",
       "      <th>TARGET_D</th>\n",
       "      <th>HPHONE_D</th>\n",
       "      <th>RFA_2R</th>\n",
       "      <th>RFA_2F</th>\n",
       "      <th>RFA_2A</th>\n",
       "      <th>MDMAUD_R</th>\n",
       "      <th>MDMAUD_F</th>\n",
       "      <th>MDMAUD_A</th>\n",
       "      <th>CLUSTER2</th>\n",
       "      <th>GEOCODE2</th>\n",
       "    </tr>\n",
       "  </thead>\n",
       "  <tbody>\n",
       "    <tr>\n",
       "      <th>0</th>\n",
       "      <td>8901</td>\n",
       "      <td>GRI</td>\n",
       "      <td>0</td>\n",
       "      <td>IL</td>\n",
       "      <td>61081</td>\n",
       "      <td></td>\n",
       "      <td></td>\n",
       "      <td>3712</td>\n",
       "      <td>0</td>\n",
       "      <td></td>\n",
       "      <td>...</td>\n",
       "      <td>0.0</td>\n",
       "      <td>0</td>\n",
       "      <td>L</td>\n",
       "      <td>4</td>\n",
       "      <td>E</td>\n",
       "      <td>X</td>\n",
       "      <td>X</td>\n",
       "      <td>X</td>\n",
       "      <td>39.0</td>\n",
       "      <td>C</td>\n",
       "    </tr>\n",
       "    <tr>\n",
       "      <th>1</th>\n",
       "      <td>9401</td>\n",
       "      <td>BOA</td>\n",
       "      <td>1</td>\n",
       "      <td>CA</td>\n",
       "      <td>91326</td>\n",
       "      <td></td>\n",
       "      <td></td>\n",
       "      <td>5202</td>\n",
       "      <td>0</td>\n",
       "      <td></td>\n",
       "      <td>...</td>\n",
       "      <td>0.0</td>\n",
       "      <td>0</td>\n",
       "      <td>L</td>\n",
       "      <td>2</td>\n",
       "      <td>G</td>\n",
       "      <td>X</td>\n",
       "      <td>X</td>\n",
       "      <td>X</td>\n",
       "      <td>1.0</td>\n",
       "      <td>A</td>\n",
       "    </tr>\n",
       "    <tr>\n",
       "      <th>2</th>\n",
       "      <td>9001</td>\n",
       "      <td>AMH</td>\n",
       "      <td>1</td>\n",
       "      <td>NC</td>\n",
       "      <td>27017</td>\n",
       "      <td></td>\n",
       "      <td></td>\n",
       "      <td>0</td>\n",
       "      <td>0</td>\n",
       "      <td></td>\n",
       "      <td>...</td>\n",
       "      <td>0.0</td>\n",
       "      <td>1</td>\n",
       "      <td>L</td>\n",
       "      <td>4</td>\n",
       "      <td>E</td>\n",
       "      <td>X</td>\n",
       "      <td>X</td>\n",
       "      <td>X</td>\n",
       "      <td>60.0</td>\n",
       "      <td>C</td>\n",
       "    </tr>\n",
       "    <tr>\n",
       "      <th>3</th>\n",
       "      <td>8701</td>\n",
       "      <td>BRY</td>\n",
       "      <td>0</td>\n",
       "      <td>CA</td>\n",
       "      <td>95953</td>\n",
       "      <td></td>\n",
       "      <td></td>\n",
       "      <td>2801</td>\n",
       "      <td>0</td>\n",
       "      <td></td>\n",
       "      <td>...</td>\n",
       "      <td>0.0</td>\n",
       "      <td>1</td>\n",
       "      <td>L</td>\n",
       "      <td>4</td>\n",
       "      <td>E</td>\n",
       "      <td>X</td>\n",
       "      <td>X</td>\n",
       "      <td>X</td>\n",
       "      <td>41.0</td>\n",
       "      <td>C</td>\n",
       "    </tr>\n",
       "    <tr>\n",
       "      <th>4</th>\n",
       "      <td>8601</td>\n",
       "      <td></td>\n",
       "      <td>0</td>\n",
       "      <td>FL</td>\n",
       "      <td>33176</td>\n",
       "      <td></td>\n",
       "      <td></td>\n",
       "      <td>2001</td>\n",
       "      <td>0</td>\n",
       "      <td>X</td>\n",
       "      <td>...</td>\n",
       "      <td>0.0</td>\n",
       "      <td>1</td>\n",
       "      <td>L</td>\n",
       "      <td>2</td>\n",
       "      <td>F</td>\n",
       "      <td>X</td>\n",
       "      <td>X</td>\n",
       "      <td>X</td>\n",
       "      <td>26.0</td>\n",
       "      <td>A</td>\n",
       "    </tr>\n",
       "  </tbody>\n",
       "</table>\n",
       "<p>5 rows × 481 columns</p>\n",
       "</div>"
      ],
      "text/plain": [
       "   ODATEDW OSOURCE  TCODE STATE    ZIP MAILCODE PVASTATE   DOB NOEXCH  \\\n",
       "0     8901     GRI      0    IL  61081                    3712      0   \n",
       "1     9401     BOA      1    CA  91326                    5202      0   \n",
       "2     9001     AMH      1    NC  27017                       0      0   \n",
       "3     8701     BRY      0    CA  95953                    2801      0   \n",
       "4     8601              0    FL  33176                    2001      0   \n",
       "\n",
       "  RECINHSE  ... TARGET_D HPHONE_D RFA_2R RFA_2F RFA_2A MDMAUD_R  MDMAUD_F  \\\n",
       "0           ...      0.0        0      L      4      E        X         X   \n",
       "1           ...      0.0        0      L      2      G        X         X   \n",
       "2           ...      0.0        1      L      4      E        X         X   \n",
       "3           ...      0.0        1      L      4      E        X         X   \n",
       "4        X  ...      0.0        1      L      2      F        X         X   \n",
       "\n",
       "  MDMAUD_A CLUSTER2 GEOCODE2  \n",
       "0        X     39.0        C  \n",
       "1        X      1.0        A  \n",
       "2        X     60.0        C  \n",
       "3        X     41.0        C  \n",
       "4        X     26.0        A  \n",
       "\n",
       "[5 rows x 481 columns]"
      ]
     },
     "execution_count": 3,
     "metadata": {},
     "output_type": "execute_result"
    }
   ],
   "source": [
    "train.head()"
   ]
  },
  {
   "cell_type": "code",
   "execution_count": 4,
   "metadata": {},
   "outputs": [],
   "source": [
    "# merge the label for the validation\n",
    "val = val.merge(val_label, on='CONTROLN')"
   ]
  },
  {
   "cell_type": "code",
   "execution_count": 5,
   "metadata": {},
   "outputs": [],
   "source": [
    "#Unfinished\n",
    "clf_train = train[[\"AGE\", \"WEALTH2\",  \"HIT\", \"MALEMILI\",\n",
    "         \"MALEVET\", \"VIETVETS\", \"WWIIVETS\", \"LOCALGOV\", \"STATEGOV\", \"FEDGOV\", \n",
    "         \"ETH7\", \"ETH10\", \"ETH11\", \"AFC1\", \"AFC2\", \"AFC3\", \"AFC4\", \"AFC5\", \"AFC6\",\n",
    "         \"VC1\", \"VC2\", \"VC3\", \"VC4\", \"NUMPRM12\", \"CARDGIFT\", \"TIMELAG\", \"AVGGIFT\", \"LASTGIFT\"]]\n",
    "reg_train = clf_train[train['TARGET_B']==1]\n",
    "val = val[[\"AGE\",  \"WEALTH2\",  \"HIT\", \"MALEMILI\",\n",
    "         \"MALEVET\", \"VIETVETS\", \"WWIIVETS\", \"LOCALGOV\", \"STATEGOV\", \"FEDGOV\",  \n",
    "         \"ETH7\", \"ETH10\", \"ETH11\", \"AFC1\", \"AFC2\", \"AFC3\", \"AFC4\", \"AFC5\", \"AFC6\",\n",
    "         \"VC1\", \"VC2\", \"VC3\", \"VC4\", \"NUMPRM12\", \"CARDGIFT\", \"TIMELAG\", \"AVGGIFT\", \"LASTGIFT\"]]\n",
    "train_b = train['TARGET_B']\n",
    "train_d = train['TARGET_D'][train['TARGET_B']==1]\n",
    "# val_b = val['TARGET_B']\n",
    "# val_d = val['TARGET_D']"
   ]
  },
  {
   "cell_type": "code",
   "execution_count": 6,
   "metadata": {},
   "outputs": [
    {
     "name": "stdout",
     "output_type": "stream",
     "text": [
      "4843\n",
      "95412\n",
      "95412\n",
      "4843\n"
     ]
    }
   ],
   "source": [
    "print(len(reg_train))\n",
    "print(len(clf_train))\n",
    "print(len(train_b))\n",
    "print(len(train_d))"
   ]
  },
  {
   "cell_type": "markdown",
   "metadata": {},
   "source": [
    "# Training"
   ]
  },
  {
   "cell_type": "code",
   "execution_count": 7,
   "metadata": {},
   "outputs": [
    {
     "data": {
      "text/plain": [
       "XGBClassifier(base_score=0.5, booster='gbtree', colsample_bylevel=1,\n",
       "              colsample_bynode=1, colsample_bytree=1, gamma=0,\n",
       "              learning_rate=0.1, max_delta_step=0, max_depth=3,\n",
       "              min_child_weight=1, missing=None, n_estimators=100, n_jobs=1,\n",
       "              nthread=None, objective='binary:logistic', random_state=0,\n",
       "              reg_alpha=0, reg_lambda=1, scale_pos_weight=1, seed=None,\n",
       "              silent=None, subsample=1, verbosity=1)"
      ]
     },
     "execution_count": 7,
     "metadata": {},
     "output_type": "execute_result"
    }
   ],
   "source": [
    "# For classification and regression, we use xgboost \n",
    "gclf = xgb.XGBClassifier()\n",
    "gclf.fit(clf_train.values, train_b.values)"
   ]
  },
  {
   "cell_type": "code",
   "execution_count": 8,
   "metadata": {},
   "outputs": [
    {
     "data": {
      "text/plain": [
       "0.09054996147751808"
      ]
     },
     "execution_count": 8,
     "metadata": {},
     "output_type": "execute_result"
    }
   ],
   "source": [
    "np.percentile(gclf.predict_proba(val.values)[:,1], 95)"
   ]
  },
  {
   "cell_type": "code",
   "execution_count": 9,
   "metadata": {},
   "outputs": [
    {
     "name": "stdout",
     "output_type": "stream",
     "text": [
      "[23:25:45] WARNING: C:/Jenkins/workspace/xgboost-win64_release_0.90/src/objective/regression_obj.cu:152: reg:linear is now deprecated in favor of reg:squarederror.\n"
     ]
    },
    {
     "data": {
      "text/plain": [
       "XGBRegressor(base_score=0.5, booster='gbtree', colsample_bylevel=1,\n",
       "             colsample_bynode=1, colsample_bytree=1, gamma=0,\n",
       "             importance_type='gain', learning_rate=0.1, max_delta_step=0,\n",
       "             max_depth=3, min_child_weight=1, missing=None, n_estimators=100,\n",
       "             n_jobs=1, nthread=None, objective='reg:linear', random_state=0,\n",
       "             reg_alpha=0, reg_lambda=1, scale_pos_weight=1, seed=None,\n",
       "             silent=None, subsample=1, verbosity=1)"
      ]
     },
     "execution_count": 9,
     "metadata": {},
     "output_type": "execute_result"
    }
   ],
   "source": [
    "# Regressor\n",
    "greg = xgb.XGBRegressor()\n",
    "greg.fit(reg_train.values, train_d.values)"
   ]
  },
  {
   "cell_type": "code",
   "execution_count": 10,
   "metadata": {},
   "outputs": [
    {
     "data": {
      "text/plain": [
       "33.39040260314941"
      ]
     },
     "execution_count": 10,
     "metadata": {},
     "output_type": "execute_result"
    }
   ],
   "source": [
    "np.percentile(greg.predict(val.values),95)"
   ]
  },
  {
   "cell_type": "markdown",
   "metadata": {},
   "source": [
    "# SHAP Important features "
   ]
  },
  {
   "cell_type": "code",
   "execution_count": 11,
   "metadata": {},
   "outputs": [],
   "source": [
    "import seaborn as sns\n",
    "import matplotlib.pyplot as plt"
   ]
  },
  {
   "cell_type": "code",
   "execution_count": 12,
   "metadata": {},
   "outputs": [
    {
     "name": "stdout",
     "output_type": "stream",
     "text": [
      "Index(['VC3', 'NUMPRM12', 'WWIIVETS', 'CARDGIFT', 'VC1', 'AGE', 'TIMELAG',\n",
      "       'VC4', 'VC2', 'AFC6', 'AFC5', 'AFC4', 'AFC3', 'AFC2', 'AFC1', 'ETH11',\n",
      "       'ETH10', 'ETH7', 'FEDGOV', 'STATEGOV', 'LOCALGOV', 'VIETVETS',\n",
      "       'MALEVET', 'MALEMILI', 'HIT', 'WEALTH2', 'AVGGIFT', 'LASTGIFT'],\n",
      "      dtype='object')\n",
      "[0.01999439 0.01663725 0.01381298 0.00516241 0.00406829 0.\n",
      " 0.         0.         0.         0.         0.         0.\n",
      " 0.         0.         0.         0.         0.         0.\n",
      " 0.         0.         0.         0.         0.         0.\n",
      " 0.         0.         0.         0.        ]\n"
     ]
    },
    {
     "data": {
      "image/png": "[encoded data removed]",
      "text/plain": [
       "<Figure size 432x576 with 1 Axes>"
      ]
     },
     "metadata": {
      "needs_background": "light"
     },
     "output_type": "display_data"
    },
    {
     "name": "stdout",
     "output_type": "stream",
     "text": [
      "Index(['LASTGIFT', 'VC3', 'MALEVET', 'AFC5', 'AGE', 'NUMPRM12', 'VIETVETS',\n",
      "       'CARDGIFT', 'STATEGOV', 'TIMELAG', 'VC4', 'WEALTH2', 'VC1', 'AFC6',\n",
      "       'HIT', 'MALEMILI', 'AFC1', 'AFC2', 'ETH11', 'ETH10', 'ETH7', 'FEDGOV',\n",
      "       'LOCALGOV', 'AFC3', 'AFC4', 'AVGGIFT', 'WWIIVETS', 'VC2'],\n",
      "      dtype='object')\n",
      "[79.57323644  6.34693307  5.1846875   5.02162738  3.08188805  1.71279946\n",
      "  1.0334091   0.35535613  0.30046793  0.          0.          0.\n",
      "  0.          0.          0.          0.          0.          0.\n",
      "  0.          0.          0.          0.          0.          0.\n",
      " -2.19593407 -2.57756685 -5.36629316 -8.08087004]\n"
     ]
    },
    {
     "data": {
      "image/png": "[encoded data removed]",
      "text/plain": [
       "<Figure size 432x576 with 1 Axes>"
      ]
     },
     "metadata": {},
     "output_type": "display_data"
    }
   ],
   "source": [
    "# Get an interesting observation\n",
    "ix = 2511\n",
    "\n",
    "def prob_score_func(sample):\n",
    "    return gclf.predict_proba(sample)[:, 1]\n",
    "\n",
    "import seaborn as sns\n",
    "import matplotlib.pyplot as plt\n",
    "\n",
    "def show_importance_chart(cols, shap_values, model_type):\n",
    "    f, ax = plt.subplots(figsize=(6,8))\n",
    "    sns.set(font_scale=1.5)\n",
    "    shap_order = (-shap_values).argsort()\n",
    "    shap_values = shap_values[shap_order]\n",
    "    print(cols[shap_order])\n",
    "    print(shap_values)\n",
    "    y = cols[shap_order][:5]\n",
    "    x = shap_values[:5] / shap_values.sum()\n",
    "    sns.barplot(x, y, color=sns.color_palette()[0], ax=ax)\n",
    "    ax.set_xlabel(\"Feature Importance\")\n",
    "    plt.xlabel(\"Feature Importance\")\n",
    "    #plt.xlabel(\"Most important features\".format(model_type))\n",
    "    plt.xlim(0, 1)\n",
    "    plt.savefig(\"images/{0}.png\".format(model_type), dpi=300, bbox_inches='tight')\n",
    "    plt.show()\n",
    "\n",
    "example = val.iloc[ix, :]\n",
    "default = val.median()\n",
    "explain = shap.KernelExplainer(prob_score_func, default.values.reshape(1, -1))\n",
    "shap_values = explain.shap_values(example, nsamples=100000, l1_reg='aic')\n",
    "show_importance_chart(val.columns, shap_values, \"probability\")\n",
    "\n",
    "explain = shap.KernelExplainer(greg.predict, default.values.reshape(1, -1))\n",
    "shap_values = explain.shap_values(example, nsamples=100000, l1_reg='aic')\n",
    "show_importance_chart(val.columns, shap_values, \"regression\")"
   ]
  },
  {
   "cell_type": "code",
   "execution_count": 13,
   "metadata": {},
   "outputs": [
    {
     "data": {
      "text/html": [
       "[[[6, 26, 27], [21, 23, 26, 27], [19, 23, 26, 27], [23, 24, 26, 27], [20, 23, 26, 27], [0, 23, 26, 27]]]"
      ],
      "text/plain": [
       "[[[6, 26, 27],\n",
       "  [21, 23, 26, 27],\n",
       "  [19, 23, 26, 27],\n",
       "  [23, 24, 26, 27],\n",
       "  [20, 23, 26, 27],\n",
       "  [0, 23, 26, 27]]]"
      ]
     },
     "execution_count": 13,
     "metadata": {},
     "output_type": "execute_result"
    }
   ],
   "source": [
    "def scoring_function(data):\n",
    "    return greg.predict(data)*gclf.predict_proba(data)[:, 1]\n",
    "threshold = np.percentile(scoring_function(val.values),95)\n",
    "explain = explainer.Explainer(scoring_function, default, prune=False)\n",
    "explanations = explain.explain(example.values.reshape(1, -1), thresholds=[threshold], max_ite=1000)\n",
    "explanations"
   ]
  },
  {
   "cell_type": "code",
   "execution_count": 14,
   "metadata": {},
   "outputs": [
    {
     "name": "stdout",
     "output_type": "stream",
     "text": [
      "\\begin{tabular}{SSSSSSS}\n",
      "\\toprule\n",
      "{Explanations $\\rightarrow$}&{1}&{2}&{3}&{4}&{5}&{6}\\\\\n",
      "\\midrule\n",
      "{AGE}&&&&&&{$\\downarrow$}\\\\\n",
      "{WWIIVETS}&{$\\uparrow$}&&&&&\\\\\n",
      "{VC1}&&&{$\\downarrow$}&&&\\\\\n",
      "{VC2}&&&&&{$\\uparrow$}&\\\\\n",
      "{VC3}&&{$\\uparrow$}&&&&\\\\\n",
      "{NUMPRM12}&&{$\\uparrow$}&{$\\uparrow$}&{$\\uparrow$}&{$\\uparrow$}&{$\\uparrow$}\\\\\n",
      "{CARDGIFT}&&&&{$\\uparrow$}&&\\\\\n",
      "{AVGGIFT}&{$\\uparrow$}&{$\\uparrow$}&{$\\uparrow$}&{$\\uparrow$}&{$\\uparrow$}&{$\\uparrow$}\\\\\n",
      "{LASTGIFT}&{$\\uparrow$}&{$\\uparrow$}&{$\\uparrow$}&{$\\uparrow$}&{$\\uparrow$}&{$\\uparrow$}\\\\\n",
      "\\midrule\n",
      "\\multicolumn{6}{l}{$\\uparrow$ means feature is too large to grant credit.} \\\\\n",
      "\\multicolumn{6}{l}{$\\downarrow$ means feature is too small to grant credit.} \\\\\n",
      "\\bottomrule\n",
      "\\end{tabular}\n"
     ]
    }
   ],
   "source": [
    "# Get LaTex table 1\n",
    "continuous_features = val.columns\n",
    "ix = 0\n",
    "ix_explanations = explanations[0]\n",
    "print(\"\\\\begin{{tabular}}{{{0}}}\".format(\"S\"*(1+len(ix_explanations))))\n",
    "print(\"\\\\toprule\")\n",
    "print('&'.join([\"{Explanations $\\\\rightarrow$}\"]+ [\"{{{0}}}\".format(i+ 1) for i in range(len(ix_explanations))]) + \"\\\\\\\\\")\n",
    "print(\"\\\\midrule\")\n",
    "features = np.unique(np.array([item for sublist in ix_explanations for item in sublist]))\n",
    "for f in features:\n",
    "    line = [\"{{{0}}}\".format(continuous_features[f].replace('_', '\\_'))]\n",
    "    for e in ix_explanations:\n",
    "        if f in e:\n",
    "            is_high = default[f] < example[f]\n",
    "            change_needed = \"{$\\\\uparrow$}\" if is_high else \"{$\\\\downarrow$}\"\n",
    "            line += [change_needed]\n",
    "        else:\n",
    "            line += [\"\"]\n",
    "    print(\"&\".join(line) + \"\\\\\\\\\")\n",
    "print(\"\\\\midrule\") \n",
    "print(\"\\\\multicolumn{6}{l}{$\\\\uparrow$ means feature is too large to grant credit.} \\\\\\\\\")    \n",
    "print(\"\\\\multicolumn{6}{l}{$\\\\downarrow$ means feature is too small to grant credit.} \\\\\\\\\")\n",
    "print(\"\\\\bottomrule\")    \n",
    "print(\"\\\\end{tabular}\")"
   ]
  },
  {
   "cell_type": "code",
   "execution_count": 15,
   "metadata": {},
   "outputs": [
    {
     "data": {
      "text/html": [
       "[['WWIIVETS', 'AVGGIFT', 'LASTGIFT'], ['VC3', 'NUMPRM12', 'AVGGIFT', 'LASTGIFT'], ['VC1', 'NUMPRM12', 'AVGGIFT', 'LASTGIFT'], ['NUMPRM12', 'CARDGIFT', 'AVGGIFT', 'LASTGIFT'], ['VC2', 'NUMPRM12', 'AVGGIFT', 'LASTGIFT'], ['AGE', 'NUMPRM12', 'AVGGIFT', 'LASTGIFT']]"
      ],
      "text/plain": [
       "[['WWIIVETS', 'AVGGIFT', 'LASTGIFT'],\n",
       " ['VC3', 'NUMPRM12', 'AVGGIFT', 'LASTGIFT'],\n",
       " ['VC1', 'NUMPRM12', 'AVGGIFT', 'LASTGIFT'],\n",
       " ['NUMPRM12', 'CARDGIFT', 'AVGGIFT', 'LASTGIFT'],\n",
       " ['VC2', 'NUMPRM12', 'AVGGIFT', 'LASTGIFT'],\n",
       " ['AGE', 'NUMPRM12', 'AVGGIFT', 'LASTGIFT']]"
      ]
     },
     "execution_count": 15,
     "metadata": {},
     "output_type": "execute_result"
    }
   ],
   "source": [
    "[[continuous_features[i] for i in e] for e in ix_explanations]"
   ]
  },
  {
   "cell_type": "code",
   "execution_count": 16,
   "metadata": {},
   "outputs": [
    {
     "name": "stdout",
     "output_type": "stream",
     "text": [
      "[10.31724]\n",
      "[8.760098]\n",
      "[2.7828085]\n",
      "[1.2361804]\n"
     ]
    }
   ],
   "source": [
    "# Check what happens to scoring function as I set values to default. First explanation shows AVGGIFT decreases score\n",
    "example2 = example.copy()\n",
    "print(scoring_function(example2))\n",
    "example2.WWIIVETS = default.WWIIVETS\n",
    "print(scoring_function(example2))\n",
    "example2.LASTGIFT = default.LASTGIFT\n",
    "print(scoring_function(example2))\n",
    "example2.AVGGIFT = default.AVGGIFT\n",
    "print(scoring_function(example2))"
   ]
  },
  {
   "cell_type": "code",
   "execution_count": 17,
   "metadata": {},
   "outputs": [
    {
     "data": {
      "text/plain": [
       "-0.2578176940412702"
      ]
     },
     "execution_count": 17,
     "metadata": {},
     "output_type": "execute_result"
    }
   ],
   "source": [
    "# Take a look at SHAP value of AVGGIFT: NEGATIVE VALUE (despite being part of explanation)!!\n",
    "explain = shap.KernelExplainer(scoring_function, default.values.reshape(1, -1))\n",
    "shap_values = explain.shap_values(example, nsamples=100000, l1_reg='aic')\n",
    "shap_values[np.where(default.index.values == 'AVGGIFT')[0][0]]"
   ]
  },
  {
   "cell_type": "code",
   "execution_count": 18,
   "metadata": {},
   "outputs": [
    {
     "data": {
      "text/plain": [
       "AGE         62.000000\n",
       "WEALTH2      5.000000\n",
       "HIT          0.000000\n",
       "MALEMILI     0.000000\n",
       "MALEVET     31.000000\n",
       "VIETVETS    29.000000\n",
       "WWIIVETS    32.000000\n",
       "LOCALGOV     6.000000\n",
       "STATEGOV     3.000000\n",
       "FEDGOV       2.000000\n",
       "ETH7         0.000000\n",
       "ETH10        0.000000\n",
       "ETH11        0.000000\n",
       "AFC1         0.000000\n",
       "AFC2         0.000000\n",
       "AFC3         0.000000\n",
       "AFC4        15.000000\n",
       "AFC5        31.000000\n",
       "AFC6         1.000000\n",
       "VC1         30.000000\n",
       "VC2         18.000000\n",
       "VC3         32.000000\n",
       "VC4          9.000000\n",
       "NUMPRM12    12.000000\n",
       "CARDGIFT     4.000000\n",
       "TIMELAG      6.000000\n",
       "AVGGIFT     11.666667\n",
       "LASTGIFT    15.000000\n",
       "dtype: float64"
      ]
     },
     "execution_count": 18,
     "metadata": {},
     "output_type": "execute_result"
    }
   ],
   "source": [
    "# Default values\n",
    "default"
   ]
  }
 ],
 "metadata": {
  "anaconda-cloud": {},
  "kernelspec": {
   "display_name": "Python 3",
   "language": "python",
   "name": "python3"
  },
  "language_info": {
   "codemirror_mode": {
    "name": "ipython",
    "version": 3
   },
   "file_extension": ".py",
   "mimetype": "text/x-python",
   "name": "python",
   "nbconvert_exporter": "python",
   "pygments_lexer": "ipython3",
   "version": "3.6.7"
  }
 },
 "nbformat": 4,
 "nbformat_minor": 2
}
