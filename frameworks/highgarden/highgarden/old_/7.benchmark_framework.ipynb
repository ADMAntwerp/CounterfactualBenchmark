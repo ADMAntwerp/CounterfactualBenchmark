{
 "cells": [
  {
   "cell_type": "code",
   "execution_count": 1,
   "metadata": {
    "collapsed": true,
    "deletable": true,
    "editable": true
   },
   "outputs": [],
   "source": [
    "from matplotlib import pyplot as plt\n",
    "import math\n",
    "import numpy as np\n",
    "import pandas as pd\n",
    "import random\n",
    "import seaborn as sns\n",
    "from sklearn.metrics.pairwise import manhattan_distances, pairwise_distances\n",
    "import time\n"
   ]
  },
  {
   "cell_type": "markdown",
   "metadata": {
    "deletable": true,
    "editable": true
   },
   "source": [
    "# Introduction"
   ]
  },
  {
   "cell_type": "code",
   "execution_count": 325,
   "metadata": {
    "collapsed": false,
    "deletable": true,
    "editable": true
   },
   "outputs": [
    {
     "name": "stdout",
     "output_type": "stream",
     "text": [
      "Index([' n_tokens_title', ' n_tokens_content', ' n_unique_tokens',\n",
      "       ' n_non_stop_words', ' n_non_stop_unique_tokens', ' num_hrefs',\n",
      "       ' num_self_hrefs', ' num_imgs', ' num_videos', ' average_token_length',\n",
      "       ' num_keywords', ' data_channel_is_lifestyle',\n",
      "       ' data_channel_is_entertainment', ' data_channel_is_bus',\n",
      "       ' data_channel_is_socmed', ' data_channel_is_tech',\n",
      "       ' data_channel_is_world', ' kw_min_min', ' kw_max_min', ' kw_avg_min',\n",
      "       ' kw_min_max', ' kw_max_max', ' kw_avg_max', ' kw_min_avg',\n",
      "       ' kw_max_avg', ' kw_avg_avg', ' self_reference_min_shares',\n",
      "       ' self_reference_max_shares', ' self_reference_avg_sharess',\n",
      "       ' weekday_is_monday', ' weekday_is_tuesday', ' weekday_is_wednesday',\n",
      "       ' weekday_is_thursday', ' weekday_is_friday', ' weekday_is_saturday',\n",
      "       ' weekday_is_sunday', ' is_weekend', ' LDA_00', ' LDA_01', ' LDA_02',\n",
      "       ' LDA_03', ' LDA_04', ' global_subjectivity',\n",
      "       ' global_sentiment_polarity', ' global_rate_positive_words',\n",
      "       ' global_rate_negative_words', ' rate_positive_words',\n",
      "       ' rate_negative_words', ' avg_positive_polarity',\n",
      "       ' min_positive_polarity', ' max_positive_polarity',\n",
      "       ' avg_negative_polarity', ' min_negative_polarity',\n",
      "       ' max_negative_polarity', ' title_subjectivity',\n",
      "       ' title_sentiment_polarity', ' abs_title_subjectivity',\n",
      "       ' abs_title_sentiment_polarity'],\n",
      "      dtype='object')\n",
      "0.5708\n",
      "Shape:  (10000, 58)\n"
     ]
    }
   ],
   "source": [
    "import load_dataset\n",
    "X, y = load_dataset.main('news', 10000, \n",
    "                         n_features=30,\n",
    "                         n_informative=12,\n",
    "                         n_redundant=3,\n",
    "                         n_repeated=1,\n",
    "                         n_clusters_per_class=3)\n",
    "\n",
    "print('Shape: ', X.shape)"
   ]
  },
  {
   "cell_type": "code",
   "execution_count": 328,
   "metadata": {
    "collapsed": false,
    "deletable": true,
    "editable": true
   },
   "outputs": [
    {
     "name": "stdout",
     "output_type": "stream",
     "text": [
      "accuracy  0.6304\n",
      "auc  0.613743466154\n"
     ]
    }
   ],
   "source": [
    "from __future__ import print_function\n",
    "from sklearn.ensemble import RandomForestClassifier\n",
    "from sklearn.svm import SVC\n",
    "from sklearn.linear_model import SGDClassifier, LogisticRegression\n",
    "from sklearn.neural_network import MLPClassifier, BernoulliRBM\n",
    "from sklearn.pipeline import Pipeline\n",
    "from sklearn.model_selection import train_test_split\n",
    "from sklearn.metrics import roc_auc_score\n",
    "\n",
    "\n",
    "\n",
    "X_train, X_test, y_train, y_test = train_test_split(X, y)\n",
    "\n",
    "#clf = RandomForestClassifier(100)\n",
    "#clf = SVC(probability=True)\n",
    "#clf = SGDClassifier('modified_huber')\n",
    "clf = MLPClassifier(activation='identity')\n",
    "#clf = BernoulliRBM()\n",
    "'''logistic = LogisticRegression()\n",
    "rbm = BernoulliRBM(random_state=0, verbose=True)\n",
    "clf = Pipeline(steps=[('rbm', rbm), ('logistic', logistic)])\n",
    "'''\n",
    "clf = clf.fit(X_train, y_train)\n",
    "y_pred = clf.predict(X_test)\n",
    "y_pred_p = clf.predict_proba(X_test)\n",
    "\n",
    "print('accuracy ', sum(y_pred == y_test)/len(y_test))\n",
    "print('auc ', roc_auc_score(y_test, y_pred))\n",
    "\n",
    "#clf.feature_importances_"
   ]
  },
  {
   "cell_type": "code",
   "execution_count": 329,
   "metadata": {
    "collapsed": true,
    "deletable": true,
    "editable": true
   },
   "outputs": [],
   "source": [
    "def pred(obs):\n",
    "    if len(obs.shape) > 1 and obs.shape[1] > 1:\n",
    "        return np.array([x[1] for x in clf.predict_proba(obs)])\n",
    "    else:\n",
    "        return clf.predict_proba(obs.reshape(1, -1))[0][1]"
   ]
  },
  {
   "cell_type": "code",
   "execution_count": 330,
   "metadata": {
    "collapsed": false,
    "deletable": true,
    "editable": true
   },
   "outputs": [],
   "source": [
    "def distance_first_ennemy(observation, n=1):\n",
    "    D = pairwise_distances(X, observation.reshape(1, -1), metric='euclidean')\n",
    "    idxes = sorted(enumerate(D), key=lambda x:x[1])\n",
    "    out = []\n",
    "    dists = []\n",
    "    k = 0\n",
    "    while len(out) < n:\n",
    "        i = idxes[k]\n",
    "        if clf.predict(X[i[0]].reshape(1, -1)) != clf.predict(observation.reshape(1, -1)):\n",
    "            out.append(X[i[0]])\n",
    "            dists.append(pairwise_distances(X[i[0]].reshape(1, -1), observation.reshape(1, -1))[0][0])\n",
    "        k += 1\n",
    "    return out, dists"
   ]
  },
  {
   "cell_type": "markdown",
   "metadata": {
    "deletable": true,
    "editable": true
   },
   "source": [
    "# Work"
   ]
  },
  {
   "cell_type": "code",
   "execution_count": 331,
   "metadata": {
    "collapsed": false,
    "deletable": true,
    "editable": true
   },
   "outputs": [],
   "source": [
    "from scipy.stats import pearsonr, spearmanr\n",
    "\n",
    "def interpretability_scores(obs_to_interprete, ennemy):\n",
    "    eucl = pairwise_distances(obs_to_interprete.reshape(1,- 1), ennemy.reshape(1, -1))[0][0]\n",
    "    var_non0 = sum((obs_to_interprete - ennemy) != 0)\n",
    "    pearson = pearsonr(obs_to_interprete, ennemy)[0]\n",
    "    #profil =\n",
    "    return {'distance': eucl, 'nb_directions_move': var_non0, 'pearson':pearson}"
   ]
  },
  {
   "cell_type": "markdown",
   "metadata": {
    "deletable": true,
    "editable": true
   },
   "source": [
    "# Benchmark"
   ]
  },
  {
   "cell_type": "code",
   "execution_count": 131,
   "metadata": {
    "collapsed": false,
    "deletable": true,
    "editable": true
   },
   "outputs": [
    {
     "data": {
      "text/plain": [
       "<module 'exploration.uniform_growing_spheres' from '/home/laugel/Documents/thesis/code/highgarden/highgarden/exploration/uniform_growing_spheres.py'>"
      ]
     },
     "execution_count": 131,
     "metadata": {},
     "output_type": "execute_result"
    }
   ],
   "source": [
    "import exploration.uniform_growing_spheres\n",
    "import imp\n",
    "imp.reload(exploration.uniform_growing_spheres)"
   ]
  },
  {
   "cell_type": "code",
   "execution_count": 332,
   "metadata": {
    "collapsed": false,
    "deletable": true,
    "editable": true,
    "scrolled": true
   },
   "outputs": [],
   "source": [
    "\n",
    "def interpretability_metrics(X, prediction_function, interpretability_method, obs_to_interprete):\n",
    "    t1 = time.time()\n",
    "    nearest_ennemy = interpretability_method(X, prediction_function, obs_to_interprete)\n",
    "    scores = interpretability_scores(obs_to_interprete, nearest_ennemy)\n",
    "    scores['time'] = time.time() - t1\n",
    "    return scores, nearest_ennemy\n",
    "\n",
    "\n",
    "def benchmark_oneobs(X, prediction_function, modules, obs_to_interprete):\n",
    "    df_benchmark = []\n",
    "    ennemies = []\n",
    "    index = []\n",
    "    for mod_name, mod in modules.items():\n",
    "        row, ennemy = interpretability_metrics(X, prediction_function, mod.main, obs_to_interprete)\n",
    "        ennemies.append(ennemy)\n",
    "        cols = list(row.keys())\n",
    "        row = list(row.values())\n",
    "        index.append(mod_name)\n",
    "        df_benchmark.append(row)\n",
    "    index_distance = cols.index('distance') \n",
    "    df_s = sorted(zip(df_benchmark, ennemies, index), key=lambda pair:pair[0][index_distance])\n",
    "    df_benchmark, ennemies, index = [x[0] for x in df_s], [x[1] for x in df_s], [x[2] for x in df_s]\n",
    "    ennemies = np.array(ennemies)\n",
    "    df_benchmark = pd.DataFrame(df_benchmark, columns=cols, index=index)\n",
    "    \n",
    "    return df_benchmark, ennemies\n",
    "\n",
    "def benchmark_several(X, prediction_function, modules_to_aggregate, number_observations):\n",
    "    i = 0\n",
    "    for i in range(number_observations):\n",
    "        print('observation ', i)\n",
    "        idx_test = np.random.randint(X_test.shape[0])\n",
    "        obs_to_interprete = X_test[idx_test]\n",
    "        benchmark, _ = benchmark_oneobs(X, prediction_function, modules_to_aggregate, obs_to_interprete)\n",
    "        if i == 0:\n",
    "            out = benchmark/float(number_observations)\n",
    "        else:\n",
    "            out += benchmark/float(number_observations)\n",
    "    return out\n",
    "    \n"
   ]
  },
  {
   "cell_type": "code",
   "execution_count": 333,
   "metadata": {
    "collapsed": false,
    "scrolled": true
   },
   "outputs": [
    {
     "name": "stdout",
     "output_type": "stream",
     "text": [
      "zoom\n",
      "zoom\n",
      "zoom\n",
      "zoom\n",
      "zoom\n",
      "zoom\n",
      "zoom\n",
      "zoom\n",
      "zoom\n",
      "zoom\n",
      "zoom\n",
      "zoom\n",
      "zoom\n",
      "zoom\n",
      "zoom\n",
      "zoom\n",
      "zoom\n",
      "zoom\n",
      "zoom\n",
      "zoom\n",
      "zoom\n",
      "zoom\n",
      "zoom\n",
      "zoom\n",
      "zoom\n",
      "zoom\n",
      "zoom\n",
      "zoom\n",
      "zoom\n",
      "Final nb of iterations  2 Final radius (array([  3.34596038e-66]), array([  4.46128050e-66]))\n",
      "zoom\n",
      "zoom\n",
      "zoom\n",
      "zoom\n",
      "zoom\n",
      "zoom\n",
      "zoom\n",
      "zoom\n",
      "zoom\n",
      "zoom\n",
      "zoom\n",
      "zoom\n",
      "zoom\n",
      "zoom\n",
      "zoom\n",
      "zoom\n",
      "zoom\n",
      "zoom\n",
      "zoom\n",
      "zoom\n",
      "zoom\n",
      "zoom\n",
      "zoom\n",
      "zoom\n",
      "zoom\n",
      "zoom\n",
      "zoom\n",
      "Final nb of iterations  1 Final radius (array([  1.11532013e-62]), array([  2.23064025e-62]))\n",
      "0.450570463129\n"
     ]
    },
    {
     "data": {
      "text/html": [
       "<div>\n",
       "<table border=\"1\" class=\"dataframe\">\n",
       "  <thead>\n",
       "    <tr style=\"text-align: right;\">\n",
       "      <th></th>\n",
       "      <th>pearson</th>\n",
       "      <th>distance</th>\n",
       "      <th>nb_directions_move</th>\n",
       "      <th>time</th>\n",
       "    </tr>\n",
       "  </thead>\n",
       "  <tbody>\n",
       "    <tr>\n",
       "      <th>gs_feat_sel</th>\n",
       "      <td>0.999723</td>\n",
       "      <td>0.057492</td>\n",
       "      <td>19</td>\n",
       "      <td>8.968751</td>\n",
       "    </tr>\n",
       "    <tr>\n",
       "      <th>gs</th>\n",
       "      <td>0.999411</td>\n",
       "      <td>0.084179</td>\n",
       "      <td>58</td>\n",
       "      <td>8.089228</td>\n",
       "    </tr>\n",
       "    <tr>\n",
       "      <th>pte_feat_sel</th>\n",
       "      <td>0.993912</td>\n",
       "      <td>0.293602</td>\n",
       "      <td>6</td>\n",
       "      <td>4.110901</td>\n",
       "    </tr>\n",
       "    <tr>\n",
       "      <th>pte</th>\n",
       "      <td>0.987499</td>\n",
       "      <td>0.426503</td>\n",
       "      <td>32</td>\n",
       "      <td>0.642371</td>\n",
       "    </tr>\n",
       "  </tbody>\n",
       "</table>\n",
       "</div>"
      ],
      "text/plain": [
       "               pearson  distance  nb_directions_move      time\n",
       "gs_feat_sel   0.999723  0.057492                  19  8.968751\n",
       "gs            0.999411  0.084179                  58  8.089228\n",
       "pte_feat_sel  0.993912  0.293602                   6  4.110901\n",
       "pte           0.987499  0.426503                  32  0.642371"
      ]
     },
     "execution_count": 333,
     "metadata": {},
     "output_type": "execute_result"
    }
   ],
   "source": [
    "import exploration.uniform_growing_spheres\n",
    "import exploration.path_to_ennemies\n",
    "import exploration.uniform_growing_spheres_featsel\n",
    "import exploration.path_to_ennemies_featsel\n",
    "\n",
    "\n",
    "modules_ = {'gs': exploration.uniform_growing_spheres,\n",
    "            'gs_feat_sel': exploration.uniform_growing_spheres_featsel,\n",
    "          'pte': exploration.path_to_ennemies,\n",
    "          'pte_feat_sel': exploration.path_to_ennemies_featsel}  \n",
    "          \n",
    "\n",
    "modules2 = {'gs': exploration.uniform_growing_spheres,\n",
    "            'gs_feat_sel': exploration.uniform_growing_spheres_featsel,\n",
    "           'pte':exploration.path_to_ennemies,\n",
    "           'pte_feat_sel': exploration.path_to_ennemies_featsel}\n",
    "\n",
    "idx_test = np.random.randint(X_test.shape[0])\n",
    "idx = int(np.where(np.all(X_test[idx_test] == X, axis=1))[0])\n",
    "obs_to_interprete = X[idx]\n",
    "fe, dfe = distance_first_ennemy(obs_to_interprete)\n",
    "fe = fe[0]\n",
    "dfe = dfe[0]\n",
    "\n",
    "bench, ennemies = benchmark_oneobs(X, pred, modules_, obs_to_interprete)\n",
    "\n",
    "#benchmark_dataset = benchmark_several(X, pred, modules2, 50)\n",
    "\n",
    "print(pred(obs_to_interprete))\n",
    "bench\n"
   ]
  },
  {
   "cell_type": "markdown",
   "metadata": {
    "deletable": true,
    "editable": true
   },
   "source": [
    "# Results"
   ]
  },
  {
   "cell_type": "code",
   "execution_count": 334,
   "metadata": {
    "collapsed": false,
    "deletable": true,
    "editable": true
   },
   "outputs": [
    {
     "data": {
      "image/png": "[encoded data removed]",
      "text/plain": [
       "<matplotlib.figure.Figure at 0x7f938ae1d080>"
      ]
     },
     "metadata": {},
     "output_type": "display_data"
    },
    {
     "data": {
      "image/png": "[encoded data removed]",
      "text/plain": [
       "<matplotlib.figure.Figure at 0x7f938aca5320>"
      ]
     },
     "metadata": {},
     "output_type": "display_data"
    },
    {
     "data": {
      "image/png": "[encoded data removed]",
      "text/plain": [
       "<matplotlib.figure.Figure at 0x7f938ade6198>"
      ]
     },
     "metadata": {},
     "output_type": "display_data"
    }
   ],
   "source": [
    "df_benchmark = bench\n",
    "for e in range(df_benchmark.shape[0]):\n",
    "    plt.plot(ennemies[e, :])\n",
    "    plt.plot(fe, color='red')\n",
    "#plt.plot(ennemies[6,:], color='black')\n",
    "plt.show()\n",
    "\n",
    "\n",
    "for e in range(df_benchmark.shape[0]):\n",
    "    plt.plot(fe - obs_to_interprete, color='red')\n",
    "    plt.plot(ennemies[e, :] - obs_to_interprete)\n",
    "#plt.plot(ennemies[6, :] - obs_to_interprete, color='black')\n",
    "plt.show()\n",
    "\n",
    "             \n",
    "plt.plot(df_benchmark['distance'].tolist())\n",
    "plt.scatter(0, dfe, color='red')\n",
    "plt.show()"
   ]
  },
  {
   "cell_type": "code",
   "execution_count": 335,
   "metadata": {
    "collapsed": false,
    "deletable": true,
    "editable": true
   },
   "outputs": [
    {
     "data": {
      "image/png": "[encoded data removed]",
      "text/plain": [
       "<matplotlib.figure.Figure at 0x7f938aceffd0>"
      ]
     },
     "metadata": {},
     "output_type": "display_data"
    }
   ],
   "source": [
    "plt.plot(ennemies[0] - obs_to_interprete, color='red')\n",
    "plt.plot(ennemies[1]- obs_to_interprete, color='blue')\n",
    "plt.plot(ennemies[2]- obs_to_interprete, color='orange')\n",
    "plt.plot(ennemies[3]- obs_to_interprete, color='cyan')\n",
    "plt.plot(obs_to_interprete- obs_to_interprete, color='green')\n",
    "plt.show()"
   ]
  },
  {
   "cell_type": "code",
   "execution_count": 336,
   "metadata": {
    "collapsed": false
   },
   "outputs": [
    {
     "name": "stdout",
     "output_type": "stream",
     "text": [
      "0.450570463129 0.500345964163\n"
     ]
    },
    {
     "data": {
      "text/plain": [
       "[(' n_tokens_title', 0.0),\n",
       " (' n_tokens_content', 0.017882455827599696),\n",
       " (' n_unique_tokens', 0.0),\n",
       " (' n_non_stop_words', 0.0),\n",
       " (' n_non_stop_unique_tokens', 0.0),\n",
       " (' num_hrefs', 0.017415768566147044),\n",
       " (' num_self_hrefs', -0.0076891923189509256),\n",
       " (' num_imgs', -0.01249578992365509),\n",
       " (' num_videos', -0.0091096537669431155),\n",
       " (' average_token_length', -0.0076092924256533218),\n",
       " (' num_keywords', 0.0),\n",
       " (' data_channel_is_lifestyle', 0.0),\n",
       " (' data_channel_is_entertainment', 0.0),\n",
       " (' data_channel_is_bus', -0.010096784454366514),\n",
       " (' data_channel_is_socmed', 0.011437927190767472),\n",
       " (' data_channel_is_tech', 0.0),\n",
       " (' data_channel_is_world', -0.012296582978898685),\n",
       " (' kw_min_min', 0.0),\n",
       " (' kw_max_min', 0.0),\n",
       " (' kw_avg_min', 0.01976282362838204),\n",
       " (' kw_min_max', 0.0),\n",
       " (' kw_max_max', 0.0),\n",
       " (' kw_avg_max', 0.0),\n",
       " (' kw_min_avg', 0.0),\n",
       " (' kw_max_avg', 0.0),\n",
       " (' kw_avg_avg', 0.011992720205566078),\n",
       " (' self_reference_min_shares', 0.018075684448060788),\n",
       " (' self_reference_max_shares', 0.0),\n",
       " (' self_reference_avg_sharess', 0.010748497606665675),\n",
       " (' weekday_is_monday', 0.0),\n",
       " (' weekday_is_tuesday', 0.0),\n",
       " (' weekday_is_wednesday', -0.010061572787884415),\n",
       " (' weekday_is_thursday', 0.0),\n",
       " (' weekday_is_friday', 0.0),\n",
       " (' weekday_is_saturday', 0.0),\n",
       " (' weekday_is_sunday', 0.0),\n",
       " (' is_weekend', 0.0),\n",
       " (' LDA_00', 0.0),\n",
       " (' LDA_01', 0.0),\n",
       " (' LDA_02', 0.0),\n",
       " (' LDA_03', 0.0),\n",
       " (' LDA_04', 0.0),\n",
       " (' global_subjectivity', 0.0),\n",
       " (' global_sentiment_polarity', 0.0),\n",
       " (' global_rate_positive_words', 0.0),\n",
       " (' global_rate_negative_words', 0.016209398732515944),\n",
       " (' rate_positive_words', 0.0078856166248648732),\n",
       " (' rate_negative_words', 0.0),\n",
       " (' avg_positive_polarity', -0.017799645631054174),\n",
       " (' min_positive_polarity', -0.010118149871246387),\n",
       " (' max_positive_polarity', 0.0),\n",
       " (' avg_negative_polarity', 0.0),\n",
       " (' min_negative_polarity', 0.0),\n",
       " (' max_negative_polarity', -0.010956711613135869),\n",
       " (' title_subjectivity', 0.0),\n",
       " (' title_sentiment_polarity', 0.0),\n",
       " (' abs_title_subjectivity', 0.0),\n",
       " (' abs_title_sentiment_polarity', 0.0)]"
      ]
     },
     "execution_count": 336,
     "metadata": {},
     "output_type": "execute_result"
    }
   ],
   "source": [
    "variable_names = [' n_tokens_title', ' n_tokens_content',\n",
    "       ' n_unique_tokens', ' n_non_stop_words', ' n_non_stop_unique_tokens',\n",
    "       ' num_hrefs', ' num_self_hrefs', ' num_imgs', ' num_videos',\n",
    "       ' average_token_length', ' num_keywords', ' data_channel_is_lifestyle',\n",
    "       ' data_channel_is_entertainment', ' data_channel_is_bus',\n",
    "       ' data_channel_is_socmed', ' data_channel_is_tech',\n",
    "       ' data_channel_is_world', ' kw_min_min', ' kw_max_min', ' kw_avg_min',\n",
    "       ' kw_min_max', ' kw_max_max', ' kw_avg_max', ' kw_min_avg',\n",
    "       ' kw_max_avg', ' kw_avg_avg', ' self_reference_min_shares',\n",
    "       ' self_reference_max_shares', ' self_reference_avg_sharess',\n",
    "       ' weekday_is_monday', ' weekday_is_tuesday', ' weekday_is_wednesday',\n",
    "       ' weekday_is_thursday', ' weekday_is_friday', ' weekday_is_saturday',\n",
    "       ' weekday_is_sunday', ' is_weekend', ' LDA_00', ' LDA_01', ' LDA_02',\n",
    "       ' LDA_03', ' LDA_04', ' global_subjectivity',\n",
    "       ' global_sentiment_polarity', ' global_rate_positive_words',\n",
    "       ' global_rate_negative_words', ' rate_positive_words',\n",
    "       ' rate_negative_words', ' avg_positive_polarity',\n",
    "       ' min_positive_polarity', ' max_positive_polarity',\n",
    "       ' avg_negative_polarity', ' min_negative_polarity',\n",
    "       ' max_negative_polarity', ' title_subjectivity',\n",
    "       ' title_sentiment_polarity', ' abs_title_subjectivity',\n",
    "       ' abs_title_sentiment_polarity']\n",
    "\n",
    "\n",
    "'''['Round', 'FSP.1', 'FSW.1', 'SSP.1', 'SSW.1', 'ACE.1', 'DBF.1', 'UFE.1',\n",
    "       'BPC.1', 'BPW.1', 'NPA.1', 'NPW.1', 'TPW.1', 'FSP.2', 'FSW.2', 'SSP.2',\n",
    "       'SSW.2', 'ACE.2', 'DBF.2', 'UFE.2', 'BPC.2', 'BPW.2', 'NPA.2', 'NPW.2',\n",
    "       'TPW.2']\n",
    "'''\n",
    "\n",
    "print(pred(obs_to_interprete), pred(ennemies[0]))\n",
    "list(zip(variable_names, ennemies[0] - obs_to_interprete))\n"
   ]
  },
  {
   "cell_type": "code",
   "execution_count": 337,
   "metadata": {
    "collapsed": false,
    "scrolled": true
   },
   "outputs": [
    {
     "data": {
      "text/plain": [
       "1.0"
      ]
     },
     "execution_count": 337,
     "metadata": {},
     "output_type": "execute_result"
    }
   ],
   "source": [
    "def distance(obs1, obs2):\n",
    "    return pairwise_distances(obs1.reshape(1,- 1), obs2.reshape(1, -1))[0][0]\n",
    "def generate_between(obs1, obs2, n=10000):\n",
    "    news = []\n",
    "    for i in range(n):\n",
    "        a = random.random() * 1\n",
    "        new = a * obs2 + (1 - a)*obs1\n",
    "        news.append(new)\n",
    "    return news\n",
    "def pred_segment(obs1, obs2):\n",
    "    preds = [int(pred(x)>= 0.5) for x in generate_between(obs1, obs2)]\n",
    "    return sum(preds)/float(len(preds))\n",
    "\n",
    "\n",
    "pred_segment(ennemies[0], ennemies[2])"
   ]
  },
  {
   "cell_type": "markdown",
   "metadata": {},
   "source": [
    "# New Algorithm"
   ]
  },
  {
   "cell_type": "code",
   "execution_count": 340,
   "metadata": {
    "collapsed": false,
    "scrolled": true
   },
   "outputs": [
    {
     "name": "stdout",
     "output_type": "stream",
     "text": [
      "go\n",
      "zoom\n",
      "1\n",
      "0.00557660063019\n",
      "2\n",
      "0.0111532012604\n",
      "3\n",
      "0.0167298018906\n",
      "4\n",
      "0.0223064025207\n",
      "5\n",
      "0.0278830031509\n",
      "6\n",
      "0.0334596037811\n",
      "7\n",
      "0.0390362044113\n",
      "8\n",
      "0.0446128050415\n",
      "9\n",
      "0.0501894056717\n",
      "10\n",
      "0.0557660063019\n",
      "11\n",
      "0.061342606932\n",
      "12\n",
      "0.0669192075622\n",
      "13\n",
      "0.0724958081924\n",
      "14\n",
      "0.0780724088226\n",
      "15\n",
      "0.0836490094528\n",
      "16\n",
      "0.089225610083\n",
      "17\n",
      "0.0948022107131\n",
      "18\n",
      "0.100378811343\n",
      "19\n",
      "0.105955411974\n",
      "20\n",
      "0.111532012604\n",
      "21\n",
      "0.117108613234\n",
      "22\n",
      "0.122685213864\n",
      "23\n",
      "0.128261814494\n",
      "24\n",
      "0.133838415124\n",
      "25\n",
      "0.139415015755\n",
      "26\n",
      "0.144991616385\n",
      "27\n",
      "0.150568217015\n",
      "28\n",
      "0.156144817645\n",
      "29\n",
      "0.161721418275\n",
      "30\n",
      "0.167298018906\n",
      "31\n",
      "0.172874619536\n",
      "32\n",
      "0.178451220166\n",
      "33\n",
      "0.184027820796\n",
      "34\n",
      "0.189604421426\n",
      "35\n",
      "0.195181022056\n",
      "36\n",
      "0.200757622687\n",
      "37\n",
      "0.206334223317\n",
      "38\n",
      "0.211910823947\n",
      "39\n",
      "0.217487424577\n",
      "40\n",
      "0.223064025207\n",
      "41\n",
      "0.228640625838\n",
      "42\n",
      "0.234217226468\n",
      "43\n",
      "0.239793827098\n",
      "44\n",
      "0.245370427728\n",
      "45\n",
      "0.250947028358\n",
      "46\n",
      "0.256523628989\n",
      "47\n",
      "0.262100229619\n",
      "48\n",
      "0.267676830249\n",
      "49\n",
      "0.273253430879\n",
      "50\n",
      "0.278830031509\n",
      "51\n",
      "0.284406632139\n",
      "52\n",
      "0.28998323277\n",
      "53\n",
      "0.2955598334\n",
      "54\n",
      "0.30113643403\n",
      "55\n",
      "0.30671303466\n",
      "56\n",
      "0.31228963529\n",
      "57\n",
      "0.317866235921\n",
      "58\n",
      "0.323442836551\n",
      "59\n",
      "0.329019437181\n",
      "60\n",
      "0.334596037811\n",
      "61\n",
      "0.340172638441\n",
      "62\n",
      "0.345749239071\n",
      "63\n",
      "0.351325839702\n",
      "64\n",
      "0.356902440332\n",
      "65\n",
      "0.362479040962\n",
      "66\n",
      "0.368055641592\n",
      "67\n",
      "0.373632242222\n",
      "68\n",
      "0.379208842853\n",
      "69\n",
      "0.384785443483\n",
      "70\n",
      "0.390362044113\n",
      "71\n",
      "0.395938644743\n",
      "72\n",
      "0.401515245373\n",
      "73\n",
      "0.407091846004\n",
      "74\n",
      "0.412668446634\n",
      "75\n",
      "0.418245047264\n",
      "76\n",
      "0.423821647894\n",
      "77\n",
      "0.429398248524\n",
      "78\n",
      "0.434974849154\n",
      "79\n",
      "0.440551449785\n",
      "80\n",
      "0.446128050415\n",
      "81\n",
      "0.451704651045\n",
      "82\n",
      "0.457281251675\n",
      "83\n",
      "0.462857852305\n",
      "84\n",
      "0.468434452936\n",
      "85\n",
      "0.474011053566\n",
      "86\n",
      "0.479587654196\n",
      "87\n",
      "0.485164254826\n",
      "88\n",
      "0.490740855456\n",
      "89\n",
      "0.496317456086\n",
      "90\n",
      "0.501894056717\n",
      "91\n",
      "0.507470657347\n",
      "92\n",
      "0.513047257977\n",
      "93\n",
      "0.518623858607\n",
      "94\n",
      "0.524200459237\n",
      "95\n",
      "0.529777059868\n",
      "96\n",
      "0.535353660498\n",
      "97\n",
      "0.540930261128\n",
      "98\n",
      "0.546506861758\n",
      "99\n",
      "0.552083462388\n",
      "100\n",
      "0.557660063019\n",
      "101\n",
      "0.563236663649\n",
      "102\n",
      "0.568813264279\n",
      "103\n",
      "0.574389864909\n",
      "104\n",
      "0.579966465539\n"
     ]
    },
    {
     "ename": "KeyboardInterrupt",
     "evalue": "",
     "output_type": "error",
     "traceback": [
      "\u001b[0;31m---------------------------------------------------------------------------\u001b[0m",
      "\u001b[0;31mKeyboardInterrupt\u001b[0m                         Traceback (most recent call last)",
      "\u001b[0;32m<ipython-input-340-1128cd0dac3d>\u001b[0m in \u001b[0;36m<module>\u001b[0;34m()\u001b[0m\n\u001b[1;32m     89\u001b[0m     \u001b[0;32mreturn\u001b[0m \u001b[0mnearest_ennemy\u001b[0m\u001b[0;34m\u001b[0m\u001b[0m\n\u001b[1;32m     90\u001b[0m \u001b[0mprint\u001b[0m\u001b[0;34m(\u001b[0m\u001b[0;34m'go'\u001b[0m\u001b[0;34m)\u001b[0m\u001b[0;34m\u001b[0m\u001b[0m\n\u001b[0;32m---> 91\u001b[0;31m \u001b[0me1\u001b[0m\u001b[0;34m=\u001b[0m \u001b[0minterpretability_metrics\u001b[0m\u001b[0;34m(\u001b[0m\u001b[0mX\u001b[0m\u001b[0;34m,\u001b[0m \u001b[0mpred\u001b[0m\u001b[0;34m,\u001b[0m \u001b[0mgrowing_sphere_explanation2\u001b[0m\u001b[0;34m,\u001b[0m \u001b[0mobs_to_interprete\u001b[0m\u001b[0;34m)\u001b[0m\u001b[0;34m\u001b[0m\u001b[0m\n\u001b[0m\u001b[1;32m     92\u001b[0m \u001b[0me2\u001b[0m \u001b[0;34m=\u001b[0m\u001b[0minterpretability_metrics\u001b[0m\u001b[0;34m(\u001b[0m\u001b[0mX\u001b[0m\u001b[0;34m,\u001b[0m \u001b[0mpred\u001b[0m\u001b[0;34m,\u001b[0m \u001b[0mexploration\u001b[0m\u001b[0;34m.\u001b[0m\u001b[0muniform_growing_spheres\u001b[0m\u001b[0;34m.\u001b[0m\u001b[0mmain\u001b[0m\u001b[0;34m,\u001b[0m \u001b[0mobs_to_interprete\u001b[0m\u001b[0;34m)\u001b[0m\u001b[0;34m\u001b[0m\u001b[0m\n\u001b[1;32m     93\u001b[0m \u001b[0me3\u001b[0m \u001b[0;34m=\u001b[0m\u001b[0minterpretability_metrics\u001b[0m\u001b[0;34m(\u001b[0m\u001b[0mX\u001b[0m\u001b[0;34m,\u001b[0m \u001b[0mpred\u001b[0m\u001b[0;34m,\u001b[0m \u001b[0mexploration\u001b[0m\u001b[0;34m.\u001b[0m\u001b[0mpath_to_ennemies\u001b[0m\u001b[0;34m.\u001b[0m\u001b[0mmain\u001b[0m\u001b[0;34m,\u001b[0m \u001b[0mobs_to_interprete\u001b[0m\u001b[0;34m)\u001b[0m\u001b[0;34m\u001b[0m\u001b[0m\n",
      "\u001b[0;32m<ipython-input-332-59f0239834a4>\u001b[0m in \u001b[0;36minterpretability_metrics\u001b[0;34m(X, prediction_function, interpretability_method, obs_to_interprete)\u001b[0m\n\u001b[1;32m      2\u001b[0m \u001b[0;32mdef\u001b[0m \u001b[0minterpretability_metrics\u001b[0m\u001b[0;34m(\u001b[0m\u001b[0mX\u001b[0m\u001b[0;34m,\u001b[0m \u001b[0mprediction_function\u001b[0m\u001b[0;34m,\u001b[0m \u001b[0minterpretability_method\u001b[0m\u001b[0;34m,\u001b[0m \u001b[0mobs_to_interprete\u001b[0m\u001b[0;34m)\u001b[0m\u001b[0;34m:\u001b[0m\u001b[0;34m\u001b[0m\u001b[0m\n\u001b[1;32m      3\u001b[0m     \u001b[0mt1\u001b[0m \u001b[0;34m=\u001b[0m \u001b[0mtime\u001b[0m\u001b[0;34m.\u001b[0m\u001b[0mtime\u001b[0m\u001b[0;34m(\u001b[0m\u001b[0;34m)\u001b[0m\u001b[0;34m\u001b[0m\u001b[0m\n\u001b[0;32m----> 4\u001b[0;31m     \u001b[0mnearest_ennemy\u001b[0m \u001b[0;34m=\u001b[0m \u001b[0minterpretability_method\u001b[0m\u001b[0;34m(\u001b[0m\u001b[0mX\u001b[0m\u001b[0;34m,\u001b[0m \u001b[0mprediction_function\u001b[0m\u001b[0;34m,\u001b[0m \u001b[0mobs_to_interprete\u001b[0m\u001b[0;34m)\u001b[0m\u001b[0;34m\u001b[0m\u001b[0m\n\u001b[0m\u001b[1;32m      5\u001b[0m     \u001b[0mscores\u001b[0m \u001b[0;34m=\u001b[0m \u001b[0minterpretability_scores\u001b[0m\u001b[0;34m(\u001b[0m\u001b[0mobs_to_interprete\u001b[0m\u001b[0;34m,\u001b[0m \u001b[0mnearest_ennemy\u001b[0m\u001b[0;34m)\u001b[0m\u001b[0;34m\u001b[0m\u001b[0m\n\u001b[1;32m      6\u001b[0m     \u001b[0mscores\u001b[0m\u001b[0;34m[\u001b[0m\u001b[0;34m'time'\u001b[0m\u001b[0;34m]\u001b[0m \u001b[0;34m=\u001b[0m \u001b[0mtime\u001b[0m\u001b[0;34m.\u001b[0m\u001b[0mtime\u001b[0m\u001b[0;34m(\u001b[0m\u001b[0;34m)\u001b[0m \u001b[0;34m-\u001b[0m \u001b[0mt1\u001b[0m\u001b[0;34m\u001b[0m\u001b[0m\n",
      "\u001b[0;32m<ipython-input-340-1128cd0dac3d>\u001b[0m in \u001b[0;36mgrowing_sphere_explanation2\u001b[0;34m(X, prediction_function, obs_to_interprete, n_layer, step, enough_ennemies, moving_cost)\u001b[0m\n\u001b[1;32m     85\u001b[0m \u001b[0;34m\u001b[0m\u001b[0m\n\u001b[1;32m     86\u001b[0m \u001b[0;32mdef\u001b[0m \u001b[0mgrowing_sphere_explanation2\u001b[0m\u001b[0;34m(\u001b[0m\u001b[0mX\u001b[0m\u001b[0;34m,\u001b[0m \u001b[0mprediction_function\u001b[0m\u001b[0;34m,\u001b[0m \u001b[0mobs_to_interprete\u001b[0m\u001b[0;34m,\u001b[0m \u001b[0mn_layer\u001b[0m\u001b[0;34m=\u001b[0m\u001b[0;36m10000\u001b[0m\u001b[0;34m,\u001b[0m \u001b[0mstep\u001b[0m\u001b[0;34m=\u001b[0m\u001b[0;36m1\u001b[0m\u001b[0;34m/\u001b[0m\u001b[0;36m2.0\u001b[0m\u001b[0;34m,\u001b[0m \u001b[0menough_ennemies\u001b[0m\u001b[0;34m=\u001b[0m\u001b[0;36m1\u001b[0m\u001b[0;34m,\u001b[0m \u001b[0mmoving_cost\u001b[0m\u001b[0;34m=\u001b[0m\u001b[0ml2\u001b[0m\u001b[0;34m)\u001b[0m\u001b[0;34m:\u001b[0m\u001b[0;34m\u001b[0m\u001b[0m\n\u001b[0;32m---> 87\u001b[0;31m     \u001b[0mennemies\u001b[0m \u001b[0;34m=\u001b[0m \u001b[0mseek_ennemies2\u001b[0m\u001b[0;34m(\u001b[0m\u001b[0mX\u001b[0m\u001b[0;34m,\u001b[0m \u001b[0mprediction_function\u001b[0m\u001b[0;34m,\u001b[0m \u001b[0mobs_to_interprete\u001b[0m\u001b[0;34m,\u001b[0m \u001b[0mn_layer\u001b[0m\u001b[0;34m,\u001b[0m \u001b[0mstep\u001b[0m\u001b[0;34m,\u001b[0m \u001b[0menough_ennemies\u001b[0m\u001b[0;34m)\u001b[0m\u001b[0;34m\u001b[0m\u001b[0m\n\u001b[0m\u001b[1;32m     88\u001b[0m     \u001b[0mnearest_ennemy\u001b[0m \u001b[0;34m=\u001b[0m \u001b[0msorted\u001b[0m\u001b[0;34m(\u001b[0m\u001b[0mennemies\u001b[0m\u001b[0;34m,\u001b[0m \u001b[0mkey\u001b[0m\u001b[0;34m=\u001b[0m\u001b[0;32mlambda\u001b[0m \u001b[0mx\u001b[0m\u001b[0;34m:\u001b[0m \u001b[0mmoving_cost\u001b[0m\u001b[0;34m(\u001b[0m\u001b[0mobs_to_interprete\u001b[0m\u001b[0;34m,\u001b[0m \u001b[0mx\u001b[0m\u001b[0;34m[\u001b[0m\u001b[0;34m:\u001b[0m\u001b[0;34m-\u001b[0m\u001b[0;36m1\u001b[0m\u001b[0;34m]\u001b[0m\u001b[0;34m)\u001b[0m\u001b[0;34m)\u001b[0m\u001b[0;34m[\u001b[0m\u001b[0;36m0\u001b[0m\u001b[0;34m]\u001b[0m\u001b[0;34m[\u001b[0m\u001b[0;34m:\u001b[0m\u001b[0;34m-\u001b[0m\u001b[0;36m1\u001b[0m\u001b[0;34m]\u001b[0m\u001b[0;34m\u001b[0m\u001b[0m\n\u001b[1;32m     89\u001b[0m     \u001b[0;32mreturn\u001b[0m \u001b[0mnearest_ennemy\u001b[0m\u001b[0;34m\u001b[0m\u001b[0m\n",
      "\u001b[0;32m<ipython-input-340-1128cd0dac3d>\u001b[0m in \u001b[0;36mseek_ennemies2\u001b[0;34m(X, prediction_function, obs_to_interprete, n_layer, step, enough_ennemies)\u001b[0m\n\u001b[1;32m     69\u001b[0m     \u001b[0;32melse\u001b[0m\u001b[0;34m:\u001b[0m\u001b[0;34m\u001b[0m\u001b[0m\n\u001b[1;32m     70\u001b[0m         \u001b[0;32mwhile\u001b[0m \u001b[0mlen\u001b[0m\u001b[0;34m(\u001b[0m\u001b[0mennemies\u001b[0m\u001b[0;34m)\u001b[0m \u001b[0;34m<\u001b[0m \u001b[0;36m1\u001b[0m\u001b[0;34m:\u001b[0m\u001b[0;34m\u001b[0m\u001b[0m\n\u001b[0;32m---> 71\u001b[0;31m             \u001b[0mlayer_\u001b[0m \u001b[0;34m=\u001b[0m \u001b[0mgenerate_layer_with_pred2\u001b[0m\u001b[0;34m(\u001b[0m\u001b[0mprediction_function\u001b[0m\u001b[0;34m,\u001b[0m \u001b[0mobs_to_interprete\u001b[0m\u001b[0;34m,\u001b[0m \u001b[0mX\u001b[0m\u001b[0;34m.\u001b[0m\u001b[0mshape\u001b[0m\u001b[0;34m[\u001b[0m\u001b[0;36m1\u001b[0m\u001b[0;34m]\u001b[0m\u001b[0;34m,\u001b[0m \u001b[0mn\u001b[0m\u001b[0;34m=\u001b[0m\u001b[0mn_layer\u001b[0m\u001b[0;34m,\u001b[0m \u001b[0msegment\u001b[0m\u001b[0;34m=\u001b[0m\u001b[0;34m(\u001b[0m\u001b[0ma0\u001b[0m\u001b[0;34m,\u001b[0m \u001b[0ma1\u001b[0m\u001b[0;34m)\u001b[0m\u001b[0;34m)\u001b[0m\u001b[0;34m\u001b[0m\u001b[0m\n\u001b[0m\u001b[1;32m     72\u001b[0m             \u001b[0mlayer_enn\u001b[0m \u001b[0;34m=\u001b[0m \u001b[0;34m[\u001b[0m\u001b[0mx\u001b[0m \u001b[0;32mfor\u001b[0m \u001b[0mx\u001b[0m \u001b[0;32min\u001b[0m \u001b[0mlayer_\u001b[0m \u001b[0;32mif\u001b[0m \u001b[0mx\u001b[0m\u001b[0;34m[\u001b[0m\u001b[0;34m-\u001b[0m\u001b[0;36m1\u001b[0m\u001b[0;34m]\u001b[0m \u001b[0;34m==\u001b[0m \u001b[0;36m1\u001b[0m\u001b[0;34m-\u001b[0m\u001b[0mPRED_CLASS\u001b[0m\u001b[0;34m]\u001b[0m\u001b[0;34m\u001b[0m\u001b[0m\n\u001b[1;32m     73\u001b[0m             \u001b[0;31m#import pdb;pdb.set_trace()\u001b[0m\u001b[0;34m\u001b[0m\u001b[0;34m\u001b[0m\u001b[0m\n",
      "\u001b[0;32m<ipython-input-340-1128cd0dac3d>\u001b[0m in \u001b[0;36mgenerate_layer_with_pred2\u001b[0;34m(prediction_function, center, d, n, segment)\u001b[0m\n\u001b[1;32m     46\u001b[0m     \u001b[0mout\u001b[0m \u001b[0;34m=\u001b[0m \u001b[0;34m[\u001b[0m\u001b[0;34m]\u001b[0m\u001b[0;34m\u001b[0m\u001b[0m\n\u001b[1;32m     47\u001b[0m     \u001b[0ma_\u001b[0m \u001b[0;34m=\u001b[0m \u001b[0mgenerate_inside_space\u001b[0m\u001b[0;34m(\u001b[0m\u001b[0mcenter\u001b[0m\u001b[0;34m,\u001b[0m \u001b[0md\u001b[0m\u001b[0;34m,\u001b[0m \u001b[0msegment\u001b[0m\u001b[0;34m,\u001b[0m \u001b[0mn\u001b[0m\u001b[0;34m)\u001b[0m \u001b[0;31m#n observations\u001b[0m\u001b[0;34m\u001b[0m\u001b[0m\n\u001b[0;32m---> 48\u001b[0;31m     \u001b[0mpred_\u001b[0m \u001b[0;34m=\u001b[0m \u001b[0mnp\u001b[0m\u001b[0;34m.\u001b[0m\u001b[0marray\u001b[0m\u001b[0;34m(\u001b[0m\u001b[0;34m[\u001b[0m\u001b[0mint\u001b[0m\u001b[0;34m(\u001b[0m\u001b[0mx\u001b[0m\u001b[0;34m>=\u001b[0m \u001b[0;36m0.5\u001b[0m\u001b[0;34m)\u001b[0m \u001b[0;32mfor\u001b[0m \u001b[0mx\u001b[0m \u001b[0;32min\u001b[0m \u001b[0mprediction_function\u001b[0m\u001b[0;34m(\u001b[0m\u001b[0ma_\u001b[0m\u001b[0;34m)\u001b[0m\u001b[0;34m]\u001b[0m\u001b[0;34m)\u001b[0m \u001b[0;31m#predictions of n observations\u001b[0m\u001b[0;34m\u001b[0m\u001b[0m\n\u001b[0m\u001b[1;32m     49\u001b[0m     \u001b[0ma_\u001b[0m \u001b[0;34m=\u001b[0m \u001b[0mnp\u001b[0m\u001b[0;34m.\u001b[0m\u001b[0mconcatenate\u001b[0m\u001b[0;34m(\u001b[0m\u001b[0;34m(\u001b[0m\u001b[0ma_\u001b[0m\u001b[0;34m,\u001b[0m \u001b[0mpred_\u001b[0m\u001b[0;34m.\u001b[0m\u001b[0mreshape\u001b[0m\u001b[0;34m(\u001b[0m\u001b[0mn\u001b[0m\u001b[0;34m,\u001b[0m \u001b[0;36m1\u001b[0m\u001b[0;34m)\u001b[0m\u001b[0;34m)\u001b[0m\u001b[0;34m,\u001b[0m \u001b[0maxis\u001b[0m\u001b[0;34m=\u001b[0m\u001b[0;36m1\u001b[0m\u001b[0;34m)\u001b[0m\u001b[0;34m\u001b[0m\u001b[0m\n\u001b[1;32m     50\u001b[0m     \u001b[0;32mreturn\u001b[0m \u001b[0ma_\u001b[0m\u001b[0;34m\u001b[0m\u001b[0m\n",
      "\u001b[0;32m<ipython-input-329-9f4f4e97e361>\u001b[0m in \u001b[0;36mpred\u001b[0;34m(obs)\u001b[0m\n\u001b[1;32m      1\u001b[0m \u001b[0;32mdef\u001b[0m \u001b[0mpred\u001b[0m\u001b[0;34m(\u001b[0m\u001b[0mobs\u001b[0m\u001b[0;34m)\u001b[0m\u001b[0;34m:\u001b[0m\u001b[0;34m\u001b[0m\u001b[0m\n\u001b[1;32m      2\u001b[0m     \u001b[0;32mif\u001b[0m \u001b[0mlen\u001b[0m\u001b[0;34m(\u001b[0m\u001b[0mobs\u001b[0m\u001b[0;34m.\u001b[0m\u001b[0mshape\u001b[0m\u001b[0;34m)\u001b[0m \u001b[0;34m>\u001b[0m \u001b[0;36m1\u001b[0m \u001b[0;32mand\u001b[0m \u001b[0mobs\u001b[0m\u001b[0;34m.\u001b[0m\u001b[0mshape\u001b[0m\u001b[0;34m[\u001b[0m\u001b[0;36m1\u001b[0m\u001b[0;34m]\u001b[0m \u001b[0;34m>\u001b[0m \u001b[0;36m1\u001b[0m\u001b[0;34m:\u001b[0m\u001b[0;34m\u001b[0m\u001b[0m\n\u001b[0;32m----> 3\u001b[0;31m         \u001b[0;32mreturn\u001b[0m \u001b[0mnp\u001b[0m\u001b[0;34m.\u001b[0m\u001b[0marray\u001b[0m\u001b[0;34m(\u001b[0m\u001b[0;34m[\u001b[0m\u001b[0mx\u001b[0m\u001b[0;34m[\u001b[0m\u001b[0;36m1\u001b[0m\u001b[0;34m]\u001b[0m \u001b[0;32mfor\u001b[0m \u001b[0mx\u001b[0m \u001b[0;32min\u001b[0m \u001b[0mclf\u001b[0m\u001b[0;34m.\u001b[0m\u001b[0mpredict_proba\u001b[0m\u001b[0;34m(\u001b[0m\u001b[0mobs\u001b[0m\u001b[0;34m)\u001b[0m\u001b[0;34m]\u001b[0m\u001b[0;34m)\u001b[0m\u001b[0;34m\u001b[0m\u001b[0m\n\u001b[0m\u001b[1;32m      4\u001b[0m     \u001b[0;32melse\u001b[0m\u001b[0;34m:\u001b[0m\u001b[0;34m\u001b[0m\u001b[0m\n\u001b[1;32m      5\u001b[0m         \u001b[0;32mreturn\u001b[0m \u001b[0mclf\u001b[0m\u001b[0;34m.\u001b[0m\u001b[0mpredict_proba\u001b[0m\u001b[0;34m(\u001b[0m\u001b[0mobs\u001b[0m\u001b[0;34m.\u001b[0m\u001b[0mreshape\u001b[0m\u001b[0;34m(\u001b[0m\u001b[0;36m1\u001b[0m\u001b[0;34m,\u001b[0m \u001b[0;34m-\u001b[0m\u001b[0;36m1\u001b[0m\u001b[0;34m)\u001b[0m\u001b[0;34m)\u001b[0m\u001b[0;34m[\u001b[0m\u001b[0;36m0\u001b[0m\u001b[0;34m]\u001b[0m\u001b[0;34m[\u001b[0m\u001b[0;36m1\u001b[0m\u001b[0;34m]\u001b[0m\u001b[0;34m\u001b[0m\u001b[0m\n",
      "\u001b[0;32m/home/laugel/Documents/thesis/code/python_env/lib/python3.5/site-packages/sklearn/neural_network/multilayer_perceptron.py\u001b[0m in \u001b[0;36mpredict_proba\u001b[0;34m(self, X)\u001b[0m\n\u001b[1;32m   1014\u001b[0m         \"\"\"\n\u001b[1;32m   1015\u001b[0m         \u001b[0mcheck_is_fitted\u001b[0m\u001b[0;34m(\u001b[0m\u001b[0mself\u001b[0m\u001b[0;34m,\u001b[0m \u001b[0;34m\"coefs_\"\u001b[0m\u001b[0;34m)\u001b[0m\u001b[0;34m\u001b[0m\u001b[0m\n\u001b[0;32m-> 1016\u001b[0;31m         \u001b[0my_pred\u001b[0m \u001b[0;34m=\u001b[0m \u001b[0mself\u001b[0m\u001b[0;34m.\u001b[0m\u001b[0m_predict\u001b[0m\u001b[0;34m(\u001b[0m\u001b[0mX\u001b[0m\u001b[0;34m)\u001b[0m\u001b[0;34m\u001b[0m\u001b[0m\n\u001b[0m\u001b[1;32m   1017\u001b[0m \u001b[0;34m\u001b[0m\u001b[0m\n\u001b[1;32m   1018\u001b[0m         \u001b[0;32mif\u001b[0m \u001b[0mself\u001b[0m\u001b[0;34m.\u001b[0m\u001b[0mn_outputs_\u001b[0m \u001b[0;34m==\u001b[0m \u001b[0;36m1\u001b[0m\u001b[0;34m:\u001b[0m\u001b[0;34m\u001b[0m\u001b[0m\n",
      "\u001b[0;32m/home/laugel/Documents/thesis/code/python_env/lib/python3.5/site-packages/sklearn/neural_network/multilayer_perceptron.py\u001b[0m in \u001b[0;36m_predict\u001b[0;34m(self, X)\u001b[0m\n\u001b[1;32m    674\u001b[0m                                          layer_units[i + 1])))\n\u001b[1;32m    675\u001b[0m         \u001b[0;31m# forward propagate\u001b[0m\u001b[0;34m\u001b[0m\u001b[0;34m\u001b[0m\u001b[0m\n\u001b[0;32m--> 676\u001b[0;31m         \u001b[0mself\u001b[0m\u001b[0;34m.\u001b[0m\u001b[0m_forward_pass\u001b[0m\u001b[0;34m(\u001b[0m\u001b[0mactivations\u001b[0m\u001b[0;34m)\u001b[0m\u001b[0;34m\u001b[0m\u001b[0m\n\u001b[0m\u001b[1;32m    677\u001b[0m         \u001b[0my_pred\u001b[0m \u001b[0;34m=\u001b[0m \u001b[0mactivations\u001b[0m\u001b[0;34m[\u001b[0m\u001b[0;34m-\u001b[0m\u001b[0;36m1\u001b[0m\u001b[0;34m]\u001b[0m\u001b[0;34m\u001b[0m\u001b[0m\n\u001b[1;32m    678\u001b[0m \u001b[0;34m\u001b[0m\u001b[0m\n",
      "\u001b[0;32m/home/laugel/Documents/thesis/code/python_env/lib/python3.5/site-packages/sklearn/neural_network/multilayer_perceptron.py\u001b[0m in \u001b[0;36m_forward_pass\u001b[0;34m(self, activations)\u001b[0m\n\u001b[1;32m    102\u001b[0m         \u001b[0;32mfor\u001b[0m \u001b[0mi\u001b[0m \u001b[0;32min\u001b[0m \u001b[0mrange\u001b[0m\u001b[0;34m(\u001b[0m\u001b[0mself\u001b[0m\u001b[0;34m.\u001b[0m\u001b[0mn_layers_\u001b[0m \u001b[0;34m-\u001b[0m \u001b[0;36m1\u001b[0m\u001b[0;34m)\u001b[0m\u001b[0;34m:\u001b[0m\u001b[0;34m\u001b[0m\u001b[0m\n\u001b[1;32m    103\u001b[0m             activations[i + 1] = safe_sparse_dot(activations[i],\n\u001b[0;32m--> 104\u001b[0;31m                                                  self.coefs_[i])\n\u001b[0m\u001b[1;32m    105\u001b[0m             \u001b[0mactivations\u001b[0m\u001b[0;34m[\u001b[0m\u001b[0mi\u001b[0m \u001b[0;34m+\u001b[0m \u001b[0;36m1\u001b[0m\u001b[0;34m]\u001b[0m \u001b[0;34m+=\u001b[0m \u001b[0mself\u001b[0m\u001b[0;34m.\u001b[0m\u001b[0mintercepts_\u001b[0m\u001b[0;34m[\u001b[0m\u001b[0mi\u001b[0m\u001b[0;34m]\u001b[0m\u001b[0;34m\u001b[0m\u001b[0m\n\u001b[1;32m    106\u001b[0m \u001b[0;34m\u001b[0m\u001b[0m\n",
      "\u001b[0;32m/home/laugel/Documents/thesis/code/python_env/lib/python3.5/site-packages/sklearn/utils/extmath.py\u001b[0m in \u001b[0;36msafe_sparse_dot\u001b[0;34m(a, b, dense_output)\u001b[0m\n\u001b[1;32m    187\u001b[0m         \u001b[0;32mreturn\u001b[0m \u001b[0mret\u001b[0m\u001b[0;34m\u001b[0m\u001b[0m\n\u001b[1;32m    188\u001b[0m     \u001b[0;32melse\u001b[0m\u001b[0;34m:\u001b[0m\u001b[0;34m\u001b[0m\u001b[0m\n\u001b[0;32m--> 189\u001b[0;31m         \u001b[0;32mreturn\u001b[0m \u001b[0mfast_dot\u001b[0m\u001b[0;34m(\u001b[0m\u001b[0ma\u001b[0m\u001b[0;34m,\u001b[0m \u001b[0mb\u001b[0m\u001b[0;34m)\u001b[0m\u001b[0;34m\u001b[0m\u001b[0m\n\u001b[0m\u001b[1;32m    190\u001b[0m \u001b[0;34m\u001b[0m\u001b[0m\n\u001b[1;32m    191\u001b[0m \u001b[0;34m\u001b[0m\u001b[0m\n",
      "\u001b[0;31mKeyboardInterrupt\u001b[0m: "
     ]
    }
   ],
   "source": [
    "def first_ennemies(X, observation, prediction_function, n_ennemies=1):\n",
    "    D = pairwise_distances(X, observation.reshape(1, -1), metric='euclidean', n_jobs=-1)\n",
    "    idxes = sorted(enumerate(D), key=lambda x:x[1])\n",
    "    enn = []\n",
    "    k = 0\n",
    "    while len(enn) < n_ennemies:\n",
    "        i = idxes[k]\n",
    "        if (prediction_function(X[i[0]]) >= 0.5) != (prediction_function(observation) >=0.5):\n",
    "            enn.append(X[i[0]])\n",
    "        k += 1\n",
    "    return enn\n",
    "\n",
    "fenn = first_ennemies(X, obs_to_interprete, pred, 5)\n",
    "\n",
    "\n",
    "def quel_sens(obs_to_interprete, ennemieslist, v):\n",
    "    sgn = [0, 0, 0]\n",
    "    for e in ennemieslist:\n",
    "        a = e[v] - obs_to_interprete[v]\n",
    "        if a < 0:\n",
    "            sgn[0] += 1\n",
    "        elif a == 0:\n",
    "            sgn[1] += 1\n",
    "        else:\n",
    "            sgn[2] += 1\n",
    "    return sorted(enumerate(sgn), key=lambda x: -x[1])[0][0]\n",
    "\n",
    "sens = []\n",
    "for v in range(X.shape[1]):\n",
    "    sens.append(quel_sens(obs_to_interprete, fenn, v) -1) #rescale en -1 0 1\n",
    "#sens est une liste des signes ou il faut generer\n",
    "\n",
    "\n",
    "def generate_inside_space(center, d, segment, n):\n",
    "    out = np.zeros((n, 1))\n",
    "    for v in range(d):\n",
    "        if sens[v] != 0:\n",
    "            coord = (center[v] + np.random.uniform(*segment, n) * sens[v]).reshape(n, 1)\n",
    "        else:\n",
    "            coord = np.array([center[v]] * n).reshape(n, 1)\n",
    "        out = np.concatenate((out, coord), axis=1)\n",
    "    return out[:, 1:]\n",
    "\n",
    "\n",
    "def generate_layer_with_pred2(prediction_function, center, d, n, segment):\n",
    "    out = []\n",
    "    a_ = generate_inside_space(center, d, segment, n) #n observations\n",
    "    pred_ = np.array([int(x>= 0.5) for x in prediction_function(a_)]) #predictions of n observations\n",
    "    a_ = np.concatenate((a_, pred_.reshape(n, 1)), axis=1)\n",
    "    return a_ \n",
    "\n",
    "def seek_ennemies2(X, prediction_function, obs_to_interprete, n_layer, step, enough_ennemies):\n",
    "    PRED_CLASS = int(prediction_function(obs_to_interprete)>=0.5)\n",
    "    ennemies = []\n",
    "    fe, dfe = distance_first_ennemy(obs_to_interprete)\n",
    "    fe = fe[0]\n",
    "    dfe = dfe[0]\n",
    "    step = dfe * step\n",
    "    a0, a1 = 0, step\n",
    "    i = 0\n",
    "    layer_ = generate_layer_with_pred2(prediction_function, obs_to_interprete, X.shape[1], n=n_layer, segment=(a0, a1))\n",
    "    layer_enn = [x for x in layer_ if x[-1] == 1-PRED_CLASS]\n",
    "    while len(layer_enn) > 0:\n",
    "        step = step / 100.0\n",
    "        a1 = step\n",
    "        layer_ = generate_layer_with_pred2(prediction_function, obs_to_interprete, X.shape[1], n=n_layer, segment=(a0, a1))\n",
    "        layer_enn = [x for x in layer_ if x[-1] == 1-PRED_CLASS]\n",
    "        print('zoom')  \n",
    "    else:\n",
    "        while len(ennemies) < 1:\n",
    "            layer_ = generate_layer_with_pred2(prediction_function, obs_to_interprete, X.shape[1], n=n_layer, segment=(a0, a1))\n",
    "            layer_enn = [x for x in layer_ if x[-1] == 1-PRED_CLASS]\n",
    "            #import pdb;pdb.set_trace()\n",
    "            ennemies.extend(layer_enn)\n",
    "            i += 1\n",
    "            print(i)\n",
    "            a0 += step\n",
    "            print(a0)\n",
    "            a1 += step\n",
    "    print('Final nb of iterations ', i, 'Final radius', (a0,a1))\n",
    "    return ennemies\n",
    "\n",
    "def l2(obs1, obs2):\n",
    "    return pairwise_distances(obs1.reshape(1, -1), obs2.reshape(1, -1))[0][0]\n",
    "\n",
    "def growing_sphere_explanation2(X, prediction_function, obs_to_interprete, n_layer=10000, step=1/2.0, enough_ennemies=1, moving_cost=l2):\n",
    "    ennemies = seek_ennemies2(X, prediction_function, obs_to_interprete, n_layer, step, enough_ennemies)\n",
    "    nearest_ennemy = sorted(ennemies, key=lambda x: moving_cost(obs_to_interprete, x[:-1]))[0][:-1]\n",
    "    return nearest_ennemy\n",
    "print('go')\n",
    "e1= interpretability_metrics(X, pred, growing_sphere_explanation2, obs_to_interprete)\n",
    "e2 =interpretability_metrics(X, pred, exploration.uniform_growing_spheres.main, obs_to_interprete)\n",
    "e3 =interpretability_metrics(X, pred, exploration.path_to_ennemies.main, obs_to_interprete)"
   ]
  },
  {
   "cell_type": "code",
   "execution_count": 324,
   "metadata": {
    "collapsed": false
   },
   "outputs": [
    {
     "name": "stdout",
     "output_type": "stream",
     "text": [
      "25 18\n",
      "25\n",
      "26\n",
      "23\n",
      "27\n",
      "24\n"
     ]
    }
   ],
   "source": [
    "'''\n",
    "sens = directions nouvel algo - obs_to_interprete\n",
    "sens2 = directions gs\n",
    "sens3 = direction pte\n",
    "autres = directions vrais ennemis\n",
    "'''\n",
    "\n",
    "e2\n",
    "sens2 = []\n",
    "for v in range(X.shape[1]):\n",
    "    sens2.append(quel_sens(obs_to_interprete, [e2[1]], v) -1)\n",
    "sens3 = []\n",
    "for v in range(X.shape[1]):\n",
    "    sens3.append(quel_sens(obs_to_interprete, [e3[1]], v) -1)\n",
    "\n",
    "enn = distance_first_ennemy(obs_to_interprete, 5)[0]\n",
    "    \n",
    "print(sum(np.array(sens3) - np.array(sens)==0), sum(np.array(sens) - np.array(sens2) == 0))\n",
    "for e in enn:\n",
    "    sense = []\n",
    "    for v in range(X.shape[1]):\n",
    "        sense.append(quel_sens(obs_to_interprete, [e], v) -1)\n",
    "    print(sum(np.array(sense) - np.array(sens)==0))"
   ]
  },
  {
   "cell_type": "markdown",
   "metadata": {},
   "source": [
    "# Other: Tuning"
   ]
  },
  {
   "cell_type": "code",
   "execution_count": null,
   "metadata": {
    "collapsed": true
   },
   "outputs": [],
   "source": [
    "\n",
    "'''\n",
    "TUNING\n",
    "\n",
    "ATTENTION SEPARER DES PLOTS D EN DESSOUS\n",
    "'''\n",
    "NN = 20\n",
    "dists, times, pars = [], [], []\n",
    "params_nlayer = [100, 500, 1000, 2000, 5000, 10000, 50000, 100000]\n",
    "params_nennemies=[1, 3, 5, 10, 20, 50] \n",
    "for nlayer in params_nlayer:\n",
    "    for nennemies in params_nennemies:\n",
    "        dist, t = 0.0, 0.0\n",
    "        params = (nlayer, nennemies)\n",
    "        print(params)\n",
    "        for i in range(NN):\n",
    "            ts = time.time()\n",
    "            ne = interpretability_scores(obs_to_interprete, exploration.path_to_ennemies.main(X, pred, obs_to_interprete, n_layer=nlayer, n_ennemies=nennemies))\n",
    "            dist += ne['distance']\n",
    "            t += ts - time.time()\n",
    "        times.append(t/float(NN))\n",
    "        dists.append(dist/float(NN))\n",
    "        pars.append(params)\n",
    "\n",
    "\n",
    "\n",
    "\n",
    "'''\n",
    "TUNING PLOTS: A SEPARER\n",
    "'''\n",
    "\n",
    "#np.transpose(np.array((pars, dists, times)))\n",
    "\n",
    "arr = np.concatenate((np.array(pars), np.array(dists).reshape(len(dists), 1), np.array(times).reshape(len(dists), 1)), axis=1)\n",
    "#nb_layer, step, mean_dist, mean_time\n",
    "\n",
    "\n",
    "NLA = 2000\n",
    "STP = 1\n",
    "\n",
    "plt.plot([x[0] for x in arr if x[1]==STP], [x[2] for x in arr if x[1]==STP], color='blue')\n",
    "plt.ylabel('Average distance obs-ennemy')\n",
    "plt.xlabel('Number of observations per layer')\n",
    "plt.xticks([x[0] for x in arr if x[1]==STP], [str(x[0]) for x in arr if x[1]==STP])\n",
    "plt.show()\n",
    "\n",
    "plt.plot([x[0] for x in arr if x[1]==STP], [abs(x[3]) for x in arr if x[1]==STP], color='red')\n",
    "plt.ylabel('Average computation time(s)')\n",
    "plt.xlabel('Number of observations per layer')\n",
    "plt.xticks([x[0] for x in arr if x[1]==STP], [str(x[0]) for x in arr if x[1]==STP])\n",
    "plt.show()\n"
   ]
  },
  {
   "cell_type": "markdown",
   "metadata": {},
   "source": [
    "# Other: Convexity tests"
   ]
  },
  {
   "cell_type": "code",
   "execution_count": null,
   "metadata": {
    "collapsed": true
   },
   "outputs": [],
   "source": [
    "score = 0\n",
    "for i in range(100):\n",
    "    print('observation ', i)\n",
    "    idx_test = np.random.randint(X_test.shape[0])\n",
    "    obs_to_interprete = X_test[idx_test]\n",
    "    pte = exploration.path_to_ennemies.main(X, pred, obs_to_interprete)\n",
    "    gs = exploration.uniform_growing_spheres.main(X, pred, obs_to_interprete)\n",
    "    score += ((pred_segment(pte, gs) - 0.5)**2)*4\n",
    "score/100\n"
   ]
  }
 ],
 "metadata": {
  "kernelspec": {
   "display_name": "mon environnement de code",
   "language": "python",
   "name": "python_env"
  },
  "language_info": {
   "codemirror_mode": {
    "name": "ipython",
    "version": 3
   },
   "file_extension": ".py",
   "mimetype": "text/x-python",
   "name": "python",
   "nbconvert_exporter": "python",
   "pygments_lexer": "ipython3",
   "version": "3.5.3"
  }
 },
 "nbformat": 4,
 "nbformat_minor": 2
}
