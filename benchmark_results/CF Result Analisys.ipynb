{
 "cells": [
  {
   "cell_type": "code",
   "execution_count": 1,
   "metadata": {},
   "outputs": [],
   "source": [
    "from constants.var_types import VAR_TYPES\n",
    "\n",
    "from os import listdir\n",
    "from os.path import isfile, join\n",
    "\n",
    "import pickle\n",
    "import numpy as np\n",
    "import scipy as sp\n",
    "import pandas as pd\n",
    "\n",
    "from tensorflow.keras.models import load_model\n",
    "from tensorflow.keras.layers import Dense, Input\n",
    "from tensorflow.keras.models import Model\n",
    "\n",
    "from sklearn.neighbors import DistanceMetric\n",
    "\n",
    "from benchmark.cfg import OHConverter\n",
    "\n",
    "import matplotlib.pyplot as plt\n",
    "import seaborn as sns"
   ]
  },
  {
   "cell_type": "code",
   "execution_count": 2,
   "metadata": {},
   "outputs": [
    {
     "name": "stdout",
     "output_type": "stream",
     "text": [
      "GPU found\n"
     ]
    }
   ],
   "source": [
    "import os\n",
    "import tensorflow as tf\n",
    "tf.config.set_visible_devices([], 'GPU')\n",
    "\n",
    "os.environ['CUDA_VISIBLE_DEVICES'] = '-1'\n",
    "\n",
    "if tf.test.gpu_device_name():\n",
    "    print('GPU found')\n",
    "else:\n",
    "    print(\"No GPU found\")"
   ]
  },
  {
   "cell_type": "code",
   "execution_count": 3,
   "metadata": {},
   "outputs": [],
   "source": [
    "# Custom Realistic Scores"
   ]
  },
  {
   "cell_type": "code",
   "execution_count": 4,
   "metadata": {},
   "outputs": [],
   "source": [
    "def internetadv_ratio_contraint(dsName, df_oh, df_cf, df_fc, cat_feats, num_feats, model, converter):\n",
    "    df_cf_found, df_fc_found = get_cleaned_processed(df_cf, df_fc, cat_feats, model, converter)\n",
    "    if df_cf_found.shape[0] > 0:\n",
    "        scaler = load_scaler(dsName)\n",
    "        df_num_scaled = pd.DataFrame(scaler.inverse_transform(df_cf_found[['1555', '1556', '1557']]))\n",
    "\n",
    "        output = ((df_num_scaled[1] / df_num_scaled[0]).map(lambda x: round(x, 2)) - df_num_scaled[2].map(\n",
    "            lambda x: round(x, 2)) < 0.01).map(int)\n",
    "        output.index = df_cf_found.index\n",
    "\n",
    "        return output\n",
    "\n",
    "    return np.nan"
   ]
  },
  {
   "cell_type": "code",
   "execution_count": 5,
   "metadata": {},
   "outputs": [],
   "source": [
    "def pbc_multivariate_constraints(dsName, df_oh, df_cf, df_fc, cat_feats, num_feats, model, converter):\n",
    "    df_cf_found, df_fc_found = get_cleaned_processed(df_cf, df_fc, cat_feats, model, converter)\n",
    "    if df_cf_found.shape[0] > 0:\n",
    "        scaler = load_scaler(dsName)\n",
    "        cf_scaled = pd.DataFrame(scaler.inverse_transform(df_cf_found))\n",
    "\n",
    "        x1 = (cf_scaled[2].map(lambda x: round(x, 4)) == (cf_scaled[0] * cf_scaled[1]).map(lambda x: round(x, 4))).map(\n",
    "            int)\n",
    "\n",
    "        x2 = (cf_scaled[3].map(lambda x: round(x, 3)) - (cf_scaled[1] / cf_scaled[0]).map(\n",
    "            lambda x: round(x, 3)) < 0.01).map(int)\n",
    "\n",
    "        x3 = (cf_scaled[4].map(lambda x: round(x, 3)) - (cf_scaled[7] / cf_scaled[2]).map(\n",
    "            lambda x: round(x, 3)) < 0.01).map(int)\n",
    "\n",
    "        x4 = (cf_scaled[5].map(lambda x: round(x, 3)) - (cf_scaled[8] / cf_scaled[2]).map(\n",
    "            lambda x: round(x, 3)) < 0.01).map(int)\n",
    "\n",
    "        x5 = (cf_scaled[6].map(lambda x: round(x, 3)) - (cf_scaled[7] / cf_scaled[9]).map(\n",
    "            lambda x: round(x, 3)) < 0.01).map(int)\n",
    "\n",
    "        output = (x1 + x2 + x3 + x4 + x5).map(lambda x: x == 5).map(int)\n",
    "        output.index = df_cf_found.index\n",
    "\n",
    "        return output\n",
    "\n",
    "    return np.nan"
   ]
  },
  {
   "cell_type": "code",
   "execution_count": 6,
   "metadata": {},
   "outputs": [],
   "source": [
    "def bcw_radius_area_constraint(dsName, df_oh, df_cf, df_fc, cat_feats, num_feats, model, converter):\n",
    "    df_cf_found, df_fc_found = get_cleaned_processed(df_cf, df_fc, cat_feats, model, converter)\n",
    "    if df_cf_found.shape[0] > 0:\n",
    "        scaler = load_scaler(dsName)\n",
    "        cf_scaled = pd.DataFrame(scaler.inverse_transform(df_cf_found))\n",
    "\n",
    "        output = (cf_scaled[1] ** 2 * np.pi - cf_scaled[4] < cf_scaled[4] * 0.10).map(int)\n",
    "        output.index = df_cf_found.index\n",
    "\n",
    "        return output\n",
    "\n",
    "    return np.nan"
   ]
  },
  {
   "cell_type": "code",
   "execution_count": 7,
   "metadata": {},
   "outputs": [],
   "source": [
    "dict_functions = {\n",
    "    'BCW': {'ruc': [], 'rmc': [bcw_radius_area_constraint]},\n",
    "    'PBC': {'ruc': [], 'rmc': [pbc_multivariate_constraints]},\n",
    "    'InternetAdv': {'ruc': [], 'rmc': [internetadv_ratio_contraint]}\n",
    "}"
   ]
  },
  {
   "cell_type": "code",
   "execution_count": 8,
   "metadata": {},
   "outputs": [],
   "source": [
    "# Verify if offset between the x and o classes is, at maximum 1\n",
    "def tictactoe_constraint(dsName, df_oh, df_cf, df_fc, cat_feats, num_feats, model, converter):\n",
    "    df_cf_found, df_fc_found = get_cleaned_processed(df_cf, df_fc, cat_feats, model, converter)\n",
    "    if df_cf_found.shape[0] > 0:\n",
    "        if cat_feats:\n",
    "\n",
    "            df_ohi = check_one_hot_integrity(df_oh, df_cf, df_fc, cat_feats, num_feats, model, converter)\n",
    "            df_cb = check_binary_categorical(df_oh, df_cf, df_fc, cat_feats, num_feats, model, converter)\n",
    "\n",
    "            dfc_converted_array = []\n",
    "            for idx in range(df_cf_found.shape[0]):\n",
    "                if df_ohi.iloc[idx] == 1 and df_cb.iloc[idx] == 1:\n",
    "                    dfc_converted_array.append(converter.convert(df_cf_found.iloc[int(idx):int(idx) + 1].to_numpy())[0])\n",
    "                else:\n",
    "                    dfc_converted_array.append(['x'] * df_cf_found.shape[1])\n",
    "            dfc_converted = pd.DataFrame(dfc_converted_array)\n",
    "\n",
    "            dict_ttt = {'x': 1, 'o': -1, 'b': 0}\n",
    "            for col in list(dfc_converted.columns):\n",
    "                dfc_converted[col] = dfc_converted[col].apply(lambda x: dict_ttt[x])\n",
    "\n",
    "            output = dfc_converted.sum(axis=1).map(lambda x: int(x in [0, 1, -1]))\n",
    "            output.index = df_cf_found.index\n",
    "\n",
    "            return output\n",
    "\n",
    "    return np.nan"
   ]
  },
  {
   "cell_type": "code",
   "execution_count": 9,
   "metadata": {},
   "outputs": [],
   "source": [
    "# Realistic Scores"
   ]
  },
  {
   "cell_type": "code",
   "execution_count": 10,
   "metadata": {},
   "outputs": [],
   "source": [
    "def check_outside_num_range(dsName, df_oh, df_cf, df_fc, cat_feats, num_feats, model, converter):\n",
    "    df_cf_found, df_fc_found = get_cleaned_processed(df_cf, df_fc, cat_feats, model, converter)\n",
    "    if df_cf_found.shape[0] > 0:\n",
    "        if len(num_feats) > 0:\n",
    "            scaler = load_scaler(dsName)\n",
    "            scaled_ds = pd.DataFrame(scaler.inverse_transform(df_oh[num_feats]))\n",
    "\n",
    "            num_feats_idx = []\n",
    "\n",
    "            for n_f in num_feats:\n",
    "                num_feats_idx.append(str(list(df_oh.columns).index(n_f)))\n",
    "            scaled_cf = pd.DataFrame(scaler.inverse_transform(df_cf_found[num_feats_idx]))\n",
    "\n",
    "            for i in range(scaled_ds.shape[1]):\n",
    "                scaled_cf[i] = scaled_cf[i].map(lambda x: scaled_ds[i].min() <= x and x <= scaled_ds[i].max())\n",
    "\n",
    "            output = scaled_cf.T.sum().map(lambda x: x == scaled_cf.shape[1]).map(int)\n",
    "            output.index = df_cf_found.index\n",
    "\n",
    "            return output\n",
    "    return np.nan"
   ]
  },
  {
   "cell_type": "code",
   "execution_count": 11,
   "metadata": {},
   "outputs": [],
   "source": [
    "def load_scaler(dsName):\n",
    "    return pickle.load(open(f'./scalers/{dsName}.sc', 'rb'))"
   ]
  },
  {
   "cell_type": "code",
   "execution_count": 12,
   "metadata": {},
   "outputs": [],
   "source": [
    "def verify_one_hot(df_oh, df_cf, df_fc, cat_feats, num_feats, model, converter):\n",
    "    oh_i = check_one_hot_integrity(df_oh, df_cf, df_fc, cat_feats, num_feats, model, converter)\n",
    "    oh_b = check_binary_categorical(df_oh, df_cf, df_fc, cat_feats, num_feats, model, converter)\n",
    "\n",
    "    return (oh_i * oh_b).sum() / oh_b.shape[0]"
   ]
  },
  {
   "cell_type": "code",
   "execution_count": 13,
   "metadata": {},
   "outputs": [],
   "source": [
    "def check_one_hot_integrity(df_oh, df_cf, df_fc, cat_feats, num_feats, model, converter):\n",
    "    df_cf_found, df_fc_found = get_cleaned_processed(df_cf, df_fc, cat_feats, model, converter)\n",
    "    bin_feats = converter.binary_cats\n",
    "\n",
    "    if df_cf_found.shape[0] > 0:\n",
    "        if len(cat_feats) > 0:\n",
    "            cat_oh_feats = list(set(cat_feats) - set(bin_feats))\n",
    "\n",
    "            if len(cat_oh_feats) > 0:\n",
    "                array_cat_int = []\n",
    "                for cat_oh_f in cat_oh_feats:\n",
    "                    array_cat_int.append(\n",
    "                        df_cf_found.iloc[:, list(converter.dict_feat_idx[cat_oh_f].values())].apply(lambda x: x > 0,\n",
    "                                                                                                    axis=1).sum(\n",
    "                            axis=1).map(lambda x: x == 1))\n",
    "\n",
    "                df_cat_int = pd.concat(array_cat_int, axis=1)\n",
    "\n",
    "                output = df_cat_int.sum(axis=1).map(lambda x: x == df_cat_int.shape[1]).map(int)\n",
    "                output.index = df_cf_found.index\n",
    "\n",
    "                return output\n",
    "\n",
    "    return np.nan"
   ]
  },
  {
   "cell_type": "code",
   "execution_count": 14,
   "metadata": {},
   "outputs": [],
   "source": [
    "def check_binary_categorical(df_oh, df_cf, df_fc, cat_feats, num_feats, model, converter):\n",
    "    df_cf_found, df_fc_found = get_cleaned_processed(df_cf, df_fc, cat_feats, model, converter)\n",
    "\n",
    "    if df_cf_found.shape[0] > 0:\n",
    "\n",
    "        if len(cat_feats) > 0:\n",
    "            num_feats_idx = [str(list(df_oh.columns).index(n_f)) for n_f in num_feats]\n",
    "\n",
    "            cat_feats_idx = list(set(df_cf_found.columns) - set(num_feats_idx))\n",
    "\n",
    "            factual_cat_cols = df_fc_found.loc[:, cat_feats_idx].apply(\n",
    "                lambda x: x.map(lambda y: y not in [1.0, 0.0, 1, 0]), axis=1).T.sum()\n",
    "\n",
    "            assert factual_cat_cols.sum() == 0\n",
    "\n",
    "            output = df_cf_found.loc[:, cat_feats_idx].apply(lambda x: x.map(lambda y: y in [1.0, 0.0, 1, 0]),\n",
    "                                                             axis=1).apply(sum, axis=1).map(\n",
    "                lambda x: int(x == len(cat_feats_idx)))\n",
    "            output.index = df_cf_found.index\n",
    "\n",
    "            return output\n",
    "\n",
    "    return np.nan"
   ]
  },
  {
   "cell_type": "code",
   "execution_count": 15,
   "metadata": {},
   "outputs": [],
   "source": [
    "def get_bin_feats_idx(df_oh, converter):\n",
    "    bin_cols = converter.binary_cats\n",
    "    bin_feats = []\n",
    "    for b_c in bin_cols:\n",
    "        try:\n",
    "            bin_feats.append(list(df_oh.columns).index(b_c))\n",
    "        except ValueError:\n",
    "            bin_feats.append(list(df_oh.columns).index('0'*(4-len(b_c))+b_c))\n",
    "    return bin_feats"
   ]
  },
  {
   "cell_type": "code",
   "execution_count": 16,
   "metadata": {},
   "outputs": [],
   "source": [
    "# General Scores"
   ]
  },
  {
   "cell_type": "code",
   "execution_count": 17,
   "metadata": {},
   "outputs": [],
   "source": [
    "def md(df_oh, df_cf, df_fc, cat_feats, num_feats, model, converter):\n",
    "    df_cf_found, df_fc_found = get_cleaned_processed(df_cf, df_fc, cat_feats, model, converter)\n",
    "\n",
    "    if df_cf_found.shape[0] > 0:\n",
    "        output_result = []\n",
    "        for idx in range(df_cf_found.shape[0]):\n",
    "            m_dis = sp.spatial.distance.mahalanobis(df_cf_found.iloc[idx].to_numpy(),\n",
    "                                                    df_fc_found.drop(columns=['output']).iloc[idx].to_numpy(),\n",
    "                                                    df_oh.drop(columns=['output']).cov().to_numpy())\n",
    "            output_result.append(m_dis)\n",
    "\n",
    "        out_array = output_result\n",
    "        output_results = [np.nan] * df_cf.shape[0]\n",
    "        for idx_result, idxFound in enumerate(list(df_fc_found.index)):\n",
    "            output_results[idxFound] = out_array[idx_result]\n",
    "\n",
    "        return output_results\n",
    "\n",
    "    return [np.nan]*df_cf.shape[0]"
   ]
  },
  {
   "cell_type": "code",
   "execution_count": 18,
   "metadata": {},
   "outputs": [],
   "source": [
    "# Mean can give misleading values because very high values on MAD\n",
    "def madd(df_oh, df_cf, df_fc, cat_feats, num_feats, model, converter):\n",
    "    df_cf_found, df_fc_found = get_cleaned_processed(df_cf, df_fc, cat_feats, model, converter)\n",
    "\n",
    "    if df_cf_found.shape[0] > 0:\n",
    "        df_mad = df_cf_found.iloc[:0]\n",
    "\n",
    "        df_oh_c = df_oh.copy()\n",
    "        df_oh_c.columns = df_fc_found.columns\n",
    "        num_feats_idx = [str(list(df_oh.columns).index(n_f)) for n_f in num_feats]\n",
    "\n",
    "        cat_feats_idx = list(set(df_cf_found.columns) - set(num_feats_idx))\n",
    "\n",
    "        mad_num = {}\n",
    "        for n_feat_idx in num_feats_idx:\n",
    "            # 1e-8 added to avoid 0 and, then, division by zero\n",
    "            mad_num[n_feat_idx] = sp.stats.median_abs_deviation(df_oh_c[n_feat_idx]) + 1e-8\n",
    "\n",
    "            df_mad[n_feat_idx] = abs(df_cf_found[n_feat_idx] - df_fc_found[n_feat_idx]) / mad_num[n_feat_idx]\n",
    "\n",
    "        for c_feat_idx in cat_feats_idx:\n",
    "            df_mad[c_feat_idx] = (df_cf_found[c_feat_idx] != df_fc_found[c_feat_idx]).map(int)\n",
    "\n",
    "        output_result = [0]*df_cf.shape[0]\n",
    "        if len(cat_feats_idx) > 0:\n",
    "            add_output_result = df_mad[cat_feats_idx].mean(axis=1)\n",
    "            for null_row in list(set([*range(len(output_result))])-set(df_mad.index)):\n",
    "                add_output_result.loc[null_row] = np.nan\n",
    "            add_output_result = add_output_result.sort_index()\n",
    "            output_result = np.add(output_result, add_output_result.tolist())\n",
    "        if len(num_feats_idx) > 0:\n",
    "            add_output_result = df_mad[num_feats_idx].mean(axis=1)\n",
    "            for null_row in list(set([*range(len(output_result))])-set(df_mad.index)):\n",
    "                add_output_result.loc[null_row] = np.nan\n",
    "            add_output_result = add_output_result.sort_index()\n",
    "            output_result = np.add(output_result, add_output_result.tolist())\n",
    "\n",
    "        out_array = output_result.tolist()\n",
    "        output_results = [np.nan] * df_cf.shape[0]\n",
    "        for idx_result, idxFound in enumerate(list(df_fc_found.index)):\n",
    "            output_results[idxFound] = out_array[idx_result]\n",
    "\n",
    "        return output_results\n",
    "\n",
    "    return [np.nan]*df_cf.shape[0]"
   ]
  },
  {
   "cell_type": "code",
   "execution_count": 19,
   "metadata": {},
   "outputs": [],
   "source": [
    "def get_cleaned_processed(df_cf, df_fc, cat_feats, model, converter):\n",
    "    df_fc_pro = get_df_fc_pro(df_cf, df_fc, cat_feats, converter)\n",
    "    df_cf_c, df_fc_pro_c = get_correct(df_cf, df_fc_pro, model)\n",
    "\n",
    "    return df_cf_c, df_fc_pro_c"
   ]
  },
  {
   "cell_type": "code",
   "execution_count": 20,
   "metadata": {},
   "outputs": [],
   "source": [
    "def get_correct(df_cf, df_fc, model):\n",
    "    df_cf_found, df_fc_found = remove_na(df_cf, df_fc)\n",
    "    if df_cf_found.shape[0] > 0:\n",
    "        labels_cf = model.predict(df_cf_found.to_numpy()).round()\n",
    "        return df_cf_found[labels_cf.reshape(-1, 1) != df_fc_found['output'].to_numpy().reshape(-1, 1)], df_fc_found[\n",
    "            labels_cf.reshape(-1, 1) != df_fc_found['output'].to_numpy().reshape(-1, 1)]\n",
    "\n",
    "    return df_cf_found.iloc[:0], df_fc.iloc[:0]"
   ]
  },
  {
   "cell_type": "code",
   "execution_count": 21,
   "metadata": {},
   "outputs": [],
   "source": [
    "def validity_total(df_cf, df_fc, model):\n",
    "    df_cf_found, df_fc_found = remove_na(df_cf, df_fc)\n",
    "    if df_cf_found.shape[0] > 0:\n",
    "        \n",
    "        out_array = (model.predict(df_cf_found.to_numpy()).round().reshape(1,-1)!=df_fc_found['output'].to_numpy())[0].tolist()\n",
    "        output_results = [np.nan]*df_cf.shape[0]\n",
    "        for idx_result, idxFound in enumerate(list(df_fc_found.index)):\n",
    "            output_results[idxFound] = out_array[idx_result]\n",
    "\n",
    "        return output_results\n",
    "    return [False]*df_cf.shape[0]"
   ]
  },
  {
   "cell_type": "code",
   "execution_count": 22,
   "metadata": {},
   "outputs": [],
   "source": [
    "def validity_found(df_cf, df_fc, model):\n",
    "    df_cf_found, df_fc_found = remove_na(df_cf, df_fc)\n",
    "    if df_cf_found.shape[0] > 0:\n",
    "\n",
    "        out_array = (model.predict(df_cf_found.to_numpy()).round().reshape(1,-1)!=df_fc_found['output'].to_numpy())[0].tolist()\n",
    "        output_results = [np.nan] * df_cf.shape[0]\n",
    "        for idx_result, idxFound in enumerate(list(df_fc_found.index)):\n",
    "            output_results[idxFound] = out_array[idx_result]\n",
    "\n",
    "        return output_results\n",
    "    return [False]*df_cf.shape[0]"
   ]
  },
  {
   "cell_type": "code",
   "execution_count": 23,
   "metadata": {},
   "outputs": [],
   "source": [
    "def remove_na(df_cf, df_fc):\n",
    "    return df_cf.dropna(), df_fc[0==df_cf.isna().sum(axis=1)]"
   ]
  },
  {
   "cell_type": "code",
   "execution_count": 24,
   "metadata": {},
   "outputs": [],
   "source": [
    "def get_df_fc_pro(df_cf, df_fc, cat_feats, converter):\n",
    "    array_df_fc_pro = []\n",
    "    if len(cat_feats) > 0:\n",
    "        for idx, row in df_fc.iterrows():\n",
    "            row_fc_pro = converter.convert_to_oh(pd.DataFrame(row).T.drop(columns=['output']).to_numpy().tolist()[0])\n",
    "            array_df_fc_pro.append(row_fc_pro)\n",
    "        df_fc_pro = pd.DataFrame(array_df_fc_pro)\n",
    "        df_fc_pro['output'] = df_fc['output']\n",
    "    else:\n",
    "        df_fc_pro = df_fc.copy()\n",
    "\n",
    "    df_fc_pro.columns = list(df_cf.columns) + ['output']\n",
    "\n",
    "    return df_fc_pro"
   ]
  },
  {
   "cell_type": "code",
   "execution_count": 25,
   "metadata": {},
   "outputs": [],
   "source": [
    "def sparsity(df_cf, df_fc, cat_feats, model, converter):\n",
    "    df_cf_found, df_fc_found = get_cleaned_processed(df_cf, df_fc, cat_feats, model, converter)\n",
    "\n",
    "    if df_cf_found.shape[0] > 0:\n",
    "        df_fc_found = df_fc_found.copy().drop(columns=['output'])\n",
    "\n",
    "        scores = []\n",
    "        for i in range(df_cf_found.shape[0]):\n",
    "            scores.append((df_cf_found.iloc[i].round(4) == df_fc_found.iloc[i].round(4)).sum() / df_cf_found.shape[1])\n",
    "\n",
    "        out_array = scores\n",
    "        output_results = [np.nan] * df_cf.shape[0]\n",
    "        for idx_result, idxFound in enumerate(list(df_fc_found.index)):\n",
    "            output_results[idxFound] = out_array[idx_result]\n",
    "\n",
    "        return output_results\n",
    "\n",
    "    return [np.nan]*df_cf.shape[0]"
   ]
  },
  {
   "cell_type": "code",
   "execution_count": 26,
   "metadata": {},
   "outputs": [],
   "source": [
    "def l2(df_cf, df_fc, cat_feats, model, converter):\n",
    "    df_cf_found, df_fc_found = get_cleaned_processed(df_cf, df_fc, cat_feats, model, converter)\n",
    "\n",
    "    if df_cf_found.shape[0] > 0:\n",
    "        df_fc_found = df_fc_found.copy().drop(columns=['output'])\n",
    "        scores = []\n",
    "        for i in range(df_cf_found.shape[0]):\n",
    "            scores.append(np.linalg.norm(\n",
    "                df_cf_found.iloc[i].round(4).to_numpy().reshape(-1, 1) -\n",
    "                df_fc_found.iloc[i].round(4).to_numpy().reshape(-1, 1)))\n",
    "\n",
    "        out_array = scores\n",
    "        output_results = [np.nan] * df_cf.shape[0]\n",
    "        for idx_result, idxFound in enumerate(list(df_fc_found.index)):\n",
    "            output_results[idxFound] = out_array[idx_result]\n",
    "\n",
    "        return output_results\n",
    "\n",
    "    return [np.nan]*df_cf.shape[0]"
   ]
  },
  {
   "cell_type": "code",
   "execution_count": 27,
   "metadata": {},
   "outputs": [],
   "source": [
    "cat_ds = []\n",
    "num_ds = []\n",
    "mix_ds = []\n",
    "\n",
    "for dsName, dsData in VAR_TYPES.items():\n",
    "\n",
    "    if len(dsData['categorical']) > 0 and len(dsData['numerical']):\n",
    "        mix_ds.append(dsName)\n",
    "    elif len(dsData['categorical']) > 0:\n",
    "        cat_ds.append(dsName)\n",
    "    else:\n",
    "        num_ds.append(dsName)"
   ]
  },
  {
   "cell_type": "code",
   "execution_count": 28,
   "metadata": {},
   "outputs": [],
   "source": [
    "onlyfiles = [f for f in listdir('./cfoutput') if isfile(join('./cfoutput', f))]"
   ]
  },
  {
   "cell_type": "code",
   "execution_count": 29,
   "metadata": {},
   "outputs": [],
   "source": [
    "def _nn_ohe(input_shape, hidden_layers_ws, output_number):\n",
    "    x_in = Input(shape=(input_shape,))\n",
    "    x = Dense(hidden_layers_ws, activation='relu')(x_in)\n",
    "    x_out = Dense(2, activation='softmax')(x)\n",
    "    if output_number == 1:\n",
    "        x_bin = Dense(1, activation='linear')(x_out)\n",
    "        nn = Model(inputs=x_in, outputs=x_bin)\n",
    "    if output_number == 2:\n",
    "        nn = Model(inputs=x_in, outputs=x_out)\n",
    "\n",
    "    nn.compile(loss='categorical_crossentropy', optimizer='adam', metrics=['accuracy'])\n",
    "\n",
    "    return nn"
   ]
  },
  {
   "cell_type": "code",
   "execution_count": 30,
   "metadata": {},
   "outputs": [],
   "source": [
    "raw_results = [f for f in listdir('./results') if isfile(join('./results', f))]\n",
    "raw_results = list(set(raw_results)-{'.init'})"
   ]
  },
  {
   "cell_type": "code",
   "execution_count": 31,
   "metadata": {},
   "outputs": [],
   "source": [
    "framework_names = ['ALIBIC', 'ALIBICNOGRAD', 'CADEX', 'DICE', 'GROWINGSPHERES3', 'LORE', 'MACE', 'MLEXPLAIN', 'SEDC', 'SYNAS']"
   ]
  },
  {
   "cell_type": "code",
   "execution_count": 32,
   "metadata": {},
   "outputs": [],
   "source": [
    "dsNames = np.sort(list(VAR_TYPES.keys())).tolist()"
   ]
  },
  {
   "cell_type": "code",
   "execution_count": 33,
   "metadata": {},
   "outputs": [],
   "source": [
    "for fw in framework_names:\n",
    "    for dsn in dsNames:\n",
    "        ds_rows_0 = []\n",
    "        ds_rows_1 = []\n",
    "        ds_rows_time = []\n",
    "        \n",
    "        for rr in raw_results:\n",
    "            if fw == rr.split('_')[-1].split('.')[0] and dsn == rr.split('_')[3]:\n",
    "                if rr[0:4] == 'TIME':\n",
    "                    ds_rows_time.append(pd.read_csv(f'./results/{rr}', header=None))\n",
    "            if fw == rr.split('_')[-1].split('.')[0] and dsn == rr.split('_')[2]:\n",
    "                if rr[0:4] != 'TIME':\n",
    "                    ds_row = pd.read_csv(f'./results/{rr}')\n",
    "                    ds_row.index = [int(rr.split('_')[1])]\n",
    "                    if rr[0] == '0':\n",
    "                        ds_rows_0.append(ds_row)\n",
    "                    if rr[0] == '1':\n",
    "                        ds_rows_1.append(ds_row)\n",
    "        \n",
    "        n_factual_rows_0 = pd.read_csv(f'./experiments_data/{dsn}_CFDATASET_0.csv').shape[0]\n",
    "        n_factual_rows_1 = pd.read_csv(f'./experiments_data/{dsn}_CFDATASET_1.csv').shape[0]\n",
    "        \n",
    "        if len(ds_rows_0) > 0:\n",
    "            df_test0 = pd.concat(ds_rows_0).sort_index()\n",
    "            missing_rows_0 = list(set([*range(0,n_factual_rows_0)])-set(df_test0.index))\n",
    "            for mr in missing_rows_0:\n",
    "                df_test0.loc[mr] = [np.nan]*df_test0.shape[1]\n",
    "            df_test0.to_csv(f'./results/processed/0_{dsn}_{fw}.csv', index=False)\n",
    "        \n",
    "        if len(ds_rows_1) > 0:\n",
    "            df_test1 = pd.concat(ds_rows_1).sort_index()\n",
    "            missing_rows_1 = list(set([*range(0,n_factual_rows_1)])-set(df_test1.index))\n",
    "            for mr in missing_rows_1:\n",
    "                df_test1.loc[mr] = [np.nan]*df_test1.shape[1]\n",
    "            df_test1.to_csv(f'./results/processed/1_{dsn}_{fw}.csv', index=False)\n",
    "        \n",
    "        if len(ds_rows_time) > 0:\n",
    "            pd.concat(ds_rows_time).set_index(keys=[0], drop=True).reset_index().to_csv(f'./results/processed/TIME_{dsn}_{fw}.csv')"
   ]
  },
  {
   "cell_type": "code",
   "execution_count": 34,
   "metadata": {},
   "outputs": [],
   "source": [
    "processed_results = [f for f in listdir('./results/processed') if isfile(join('./results/processed', f))]"
   ]
  },
  {
   "cell_type": "code",
   "execution_count": 35,
   "metadata": {},
   "outputs": [],
   "source": [
    "raw_results_replication = [f for f in listdir('./replication') if isfile(join('./replication', f))]\n",
    "raw_results_replication = list(set(raw_results_replication)-{'.init'})\n",
    "# Make a function as the same procedure must be done to results and replication\n",
    "for fw in framework_names:\n",
    "    for dsn in dsNames:\n",
    "        ds_rows_0 = []\n",
    "        ds_rows_1 = []\n",
    "        ds_rows_time = []\n",
    "        \n",
    "        for rr in raw_results_replication:\n",
    "            if fw == rr.split('_')[-1].split('.')[0] and dsn == rr.split('_')[3]:\n",
    "                if rr[0:4] == 'TIME':\n",
    "                    ds_rows_time.append(pd.read_csv(f'./replication/{rr}', header=None))\n",
    "            if fw == rr.split('_')[-1].split('.')[0] and dsn == rr.split('_')[2]:\n",
    "                if rr[0:4] != 'TIME':\n",
    "                    ds_row = pd.read_csv(f'./replication/{rr}')\n",
    "                    ds_row.index = [int(rr.split('_')[1])]\n",
    "                    if rr[0] == '0':\n",
    "                        ds_rows_0.append(ds_row)\n",
    "                    if rr[0] == '1':\n",
    "                        ds_rows_1.append(ds_row)\n",
    "        \n",
    "        n_factual_rows_0 = pd.read_csv(f'./experiments_data/{dsn}_CFDATASET_0.csv').shape[0]\n",
    "        n_factual_rows_1 = pd.read_csv(f'./experiments_data/{dsn}_CFDATASET_1.csv').shape[0]\n",
    "        \n",
    "        if len(ds_rows_0) > 0:\n",
    "            df_test0 = pd.concat(ds_rows_0).sort_index()\n",
    "            missing_rows_0 = list(set([*range(0,n_factual_rows_0)])-set(df_test0.index))\n",
    "            for mr in missing_rows_0:\n",
    "                df_test0.loc[mr] = [np.nan]*df_test0.shape[1]\n",
    "            df_test0.to_csv(f'./replication/processed/0_{dsn}_{fw}.csv', index=False)\n",
    "        \n",
    "        if len(ds_rows_1) > 0:\n",
    "            df_test1 = pd.concat(ds_rows_1).sort_index()\n",
    "            missing_rows_1 = list(set([*range(0,n_factual_rows_1)])-set(df_test1.index))\n",
    "            for mr in missing_rows_1:\n",
    "                df_test1.loc[mr] = [np.nan]*df_test1.shape[1]\n",
    "            df_test1.to_csv(f'./replication/processed/1_{dsn}_{fw}.csv', index=False)\n",
    "        \n",
    "        if len(ds_rows_time) > 0:\n",
    "            pd.concat(ds_rows_time).set_index(keys=[0], drop=True).reset_index().to_csv(f'./replication/processed/TIME_{dsn}_{fw}.csv')"
   ]
  },
  {
   "cell_type": "code",
   "execution_count": 36,
   "metadata": {},
   "outputs": [],
   "source": [
    "processed_replication = [f for f in listdir('./replication/processed') if isfile(join('./replication/processed', f))]"
   ]
  },
  {
   "cell_type": "code",
   "execution_count": 37,
   "metadata": {},
   "outputs": [
    {
     "name": "stdout",
     "output_type": "stream",
     "text": [
      "1 StatlogGC SEDC\n"
     ]
    },
    {
     "name": "stderr",
     "output_type": "stream",
     "text": [
      "/home/rmazzine/anaconda3/envs/CF_Analysis/lib/python3.7/site-packages/sklearn/base.py:315: UserWarning: Trying to unpickle estimator StandardScaler from version 0.23.1 when using version 0.24.1. This might lead to breaking code or invalid results. Use at your own risk.\n",
      "  UserWarning)\n"
     ]
    },
    {
     "name": "stdout",
     "output_type": "stream",
     "text": [
      "1 SDD LORE\n"
     ]
    },
    {
     "name": "stderr",
     "output_type": "stream",
     "text": [
      "/home/rmazzine/anaconda3/envs/CF_Analysis/lib/python3.7/site-packages/sklearn/base.py:315: UserWarning: Trying to unpickle estimator StandardScaler from version 0.23.1 when using version 0.24.1. This might lead to breaking code or invalid results. Use at your own risk.\n",
      "  UserWarning)\n"
     ]
    },
    {
     "name": "stdout",
     "output_type": "stream",
     "text": [
      "0 DefaultOfCCC MLEXPLAIN\n"
     ]
    },
    {
     "name": "stderr",
     "output_type": "stream",
     "text": [
      "/home/rmazzine/anaconda3/envs/CF_Analysis/lib/python3.7/site-packages/sklearn/base.py:315: UserWarning: Trying to unpickle estimator StandardScaler from version 0.23.1 when using version 0.24.1. This might lead to breaking code or invalid results. Use at your own risk.\n",
      "  UserWarning)\n"
     ]
    },
    {
     "name": "stdout",
     "output_type": "stream",
     "text": [
      "1 SDD ALIBIC\n",
      "0 BCW LORE\n",
      "1 CMSC CADEX\n"
     ]
    },
    {
     "name": "stderr",
     "output_type": "stream",
     "text": [
      "/home/rmazzine/anaconda3/envs/CF_Analysis/lib/python3.7/site-packages/sklearn/base.py:315: UserWarning: Trying to unpickle estimator StandardScaler from version 0.23.1 when using version 0.24.1. This might lead to breaking code or invalid results. Use at your own risk.\n",
      "  UserWarning)\n"
     ]
    },
    {
     "name": "stdout",
     "output_type": "stream",
     "text": [
      "0 Ecoli ALIBIC\n"
     ]
    },
    {
     "name": "stderr",
     "output_type": "stream",
     "text": [
      "/home/rmazzine/anaconda3/envs/CF_Analysis/lib/python3.7/site-packages/sklearn/base.py:315: UserWarning: Trying to unpickle estimator StandardScaler from version 0.23.1 when using version 0.24.1. This might lead to breaking code or invalid results. Use at your own risk.\n",
      "  UserWarning)\n"
     ]
    },
    {
     "name": "stdout",
     "output_type": "stream",
     "text": [
      "0 CarEvaluation ALIBICNOGRAD\n",
      "0 SoybeanSmall SEDC\n",
      "1 Lymphography SYNAS\n",
      "0 StudentPerf GROWINGSPHERES3\n"
     ]
    },
    {
     "name": "stderr",
     "output_type": "stream",
     "text": [
      "/home/rmazzine/anaconda3/envs/CF_Analysis/lib/python3.7/site-packages/sklearn/base.py:315: UserWarning: Trying to unpickle estimator StandardScaler from version 0.23.1 when using version 0.24.1. This might lead to breaking code or invalid results. Use at your own risk.\n",
      "  UserWarning)\n"
     ]
    },
    {
     "name": "stdout",
     "output_type": "stream",
     "text": [
      "1 StatlogGC DICE\n"
     ]
    },
    {
     "name": "stderr",
     "output_type": "stream",
     "text": [
      "/home/rmazzine/anaconda3/envs/CF_Analysis/lib/python3.7/site-packages/sklearn/base.py:315: UserWarning: Trying to unpickle estimator StandardScaler from version 0.23.1 when using version 0.24.1. This might lead to breaking code or invalid results. Use at your own risk.\n",
      "  UserWarning)\n"
     ]
    },
    {
     "name": "stdout",
     "output_type": "stream",
     "text": [
      "0 BalanceScale ALIBIC\n",
      "1 BCW CADEX\n"
     ]
    },
    {
     "name": "stderr",
     "output_type": "stream",
     "text": [
      "/home/rmazzine/anaconda3/envs/CF_Analysis/lib/python3.7/site-packages/sklearn/base.py:315: UserWarning: Trying to unpickle estimator StandardScaler from version 0.23.1 when using version 0.24.1. This might lead to breaking code or invalid results. Use at your own risk.\n",
      "  UserWarning)\n",
      "/home/rmazzine/anaconda3/envs/CF_Analysis/lib/python3.7/site-packages/sklearn/base.py:315: UserWarning: Trying to unpickle estimator StandardScaler from version 0.23.1 when using version 0.24.1. This might lead to breaking code or invalid results. Use at your own risk.\n",
      "  UserWarning)\n"
     ]
    },
    {
     "name": "stdout",
     "output_type": "stream",
     "text": [
      "1 PBC ALIBICNOGRAD\n"
     ]
    },
    {
     "name": "stderr",
     "output_type": "stream",
     "text": [
      "/home/rmazzine/anaconda3/envs/CF_Analysis/lib/python3.7/site-packages/sklearn/base.py:315: UserWarning: Trying to unpickle estimator StandardScaler from version 0.23.1 when using version 0.24.1. This might lead to breaking code or invalid results. Use at your own risk.\n",
      "  UserWarning)\n",
      "/home/rmazzine/anaconda3/envs/CF_Analysis/lib/python3.7/site-packages/sklearn/base.py:315: UserWarning: Trying to unpickle estimator StandardScaler from version 0.23.1 when using version 0.24.1. This might lead to breaking code or invalid results. Use at your own risk.\n",
      "  UserWarning)\n"
     ]
    },
    {
     "name": "stdout",
     "output_type": "stream",
     "text": [
      "0 HayesRoth SEDC\n",
      "0 Wine ALIBICNOGRAD\n"
     ]
    },
    {
     "name": "stderr",
     "output_type": "stream",
     "text": [
      "/home/rmazzine/anaconda3/envs/CF_Analysis/lib/python3.7/site-packages/sklearn/base.py:315: UserWarning: Trying to unpickle estimator StandardScaler from version 0.23.1 when using version 0.24.1. This might lead to breaking code or invalid results. Use at your own risk.\n",
      "  UserWarning)\n"
     ]
    },
    {
     "name": "stdout",
     "output_type": "stream",
     "text": [
      "1 HayesRoth GROWINGSPHERES3\n",
      "0 MagicGT SYNAS\n"
     ]
    },
    {
     "name": "stderr",
     "output_type": "stream",
     "text": [
      "/home/rmazzine/anaconda3/envs/CF_Analysis/lib/python3.7/site-packages/sklearn/base.py:315: UserWarning: Trying to unpickle estimator StandardScaler from version 0.23.1 when using version 0.24.1. This might lead to breaking code or invalid results. Use at your own risk.\n",
      "  UserWarning)\n"
     ]
    },
    {
     "name": "stdout",
     "output_type": "stream",
     "text": [
      "0 BalanceScale ALIBICNOGRAD\n",
      "0 Ecoli SEDC\n"
     ]
    },
    {
     "name": "stderr",
     "output_type": "stream",
     "text": [
      "/home/rmazzine/anaconda3/envs/CF_Analysis/lib/python3.7/site-packages/sklearn/base.py:315: UserWarning: Trying to unpickle estimator StandardScaler from version 0.23.1 when using version 0.24.1. This might lead to breaking code or invalid results. Use at your own risk.\n",
      "  UserWarning)\n"
     ]
    },
    {
     "name": "stdout",
     "output_type": "stream",
     "text": [
      "0 PBC LORE\n"
     ]
    },
    {
     "name": "stderr",
     "output_type": "stream",
     "text": [
      "/home/rmazzine/anaconda3/envs/CF_Analysis/lib/python3.7/site-packages/sklearn/base.py:315: UserWarning: Trying to unpickle estimator StandardScaler from version 0.23.1 when using version 0.24.1. This might lead to breaking code or invalid results. Use at your own risk.\n",
      "  UserWarning)\n",
      "/home/rmazzine/anaconda3/envs/CF_Analysis/lib/python3.7/site-packages/sklearn/base.py:315: UserWarning: Trying to unpickle estimator StandardScaler from version 0.23.1 when using version 0.24.1. This might lead to breaking code or invalid results. Use at your own risk.\n",
      "  UserWarning)\n"
     ]
    },
    {
     "name": "stdout",
     "output_type": "stream",
     "text": [
      "1 Ecoli CADEX\n"
     ]
    },
    {
     "name": "stderr",
     "output_type": "stream",
     "text": [
      "/home/rmazzine/anaconda3/envs/CF_Analysis/lib/python3.7/site-packages/sklearn/base.py:315: UserWarning: Trying to unpickle estimator StandardScaler from version 0.23.1 when using version 0.24.1. This might lead to breaking code or invalid results. Use at your own risk.\n",
      "  UserWarning)\n"
     ]
    },
    {
     "name": "stdout",
     "output_type": "stream",
     "text": [
      "1 HayesRoth SEDC\n",
      "0 Ecoli SYNAS\n"
     ]
    },
    {
     "name": "stderr",
     "output_type": "stream",
     "text": [
      "/home/rmazzine/anaconda3/envs/CF_Analysis/lib/python3.7/site-packages/sklearn/base.py:315: UserWarning: Trying to unpickle estimator StandardScaler from version 0.23.1 when using version 0.24.1. This might lead to breaking code or invalid results. Use at your own risk.\n",
      "  UserWarning)\n"
     ]
    },
    {
     "name": "stdout",
     "output_type": "stream",
     "text": [
      "0 SoybeanSmall MLEXPLAIN\n",
      "1 StatlogGC CADEX\n"
     ]
    },
    {
     "name": "stderr",
     "output_type": "stream",
     "text": [
      "/home/rmazzine/anaconda3/envs/CF_Analysis/lib/python3.7/site-packages/sklearn/base.py:315: UserWarning: Trying to unpickle estimator StandardScaler from version 0.23.1 when using version 0.24.1. This might lead to breaking code or invalid results. Use at your own risk.\n",
      "  UserWarning)\n"
     ]
    },
    {
     "name": "stdout",
     "output_type": "stream",
     "text": [
      "1 SoybeanSmall DICE\n",
      "0 DefaultOfCCC DICE\n"
     ]
    },
    {
     "name": "stderr",
     "output_type": "stream",
     "text": [
      "/home/rmazzine/anaconda3/envs/CF_Analysis/lib/python3.7/site-packages/sklearn/base.py:315: UserWarning: Trying to unpickle estimator StandardScaler from version 0.23.1 when using version 0.24.1. This might lead to breaking code or invalid results. Use at your own risk.\n",
      "  UserWarning)\n"
     ]
    },
    {
     "name": "stdout",
     "output_type": "stream",
     "text": [
      "0 Lymphography ALIBICNOGRAD\n",
      "1 MagicGT CADEX\n"
     ]
    },
    {
     "name": "stderr",
     "output_type": "stream",
     "text": [
      "/home/rmazzine/anaconda3/envs/CF_Analysis/lib/python3.7/site-packages/sklearn/base.py:315: UserWarning: Trying to unpickle estimator StandardScaler from version 0.23.1 when using version 0.24.1. This might lead to breaking code or invalid results. Use at your own risk.\n",
      "  UserWarning)\n"
     ]
    },
    {
     "name": "stdout",
     "output_type": "stream",
     "text": [
      "0 StatlogGC SEDC\n"
     ]
    },
    {
     "name": "stderr",
     "output_type": "stream",
     "text": [
      "/home/rmazzine/anaconda3/envs/CF_Analysis/lib/python3.7/site-packages/sklearn/base.py:315: UserWarning: Trying to unpickle estimator StandardScaler from version 0.23.1 when using version 0.24.1. This might lead to breaking code or invalid results. Use at your own risk.\n",
      "  UserWarning)\n"
     ]
    },
    {
     "name": "stdout",
     "output_type": "stream",
     "text": [
      "1 CMSC SEDC\n"
     ]
    },
    {
     "name": "stderr",
     "output_type": "stream",
     "text": [
      "/home/rmazzine/anaconda3/envs/CF_Analysis/lib/python3.7/site-packages/sklearn/base.py:315: UserWarning: Trying to unpickle estimator StandardScaler from version 0.23.1 when using version 0.24.1. This might lead to breaking code or invalid results. Use at your own risk.\n",
      "  UserWarning)\n"
     ]
    },
    {
     "name": "stdout",
     "output_type": "stream",
     "text": [
      "0 TicTacToe ALIBICNOGRAD\n",
      "0 Lymphography ALIBIC\n",
      "0 Lymphography SEDC\n",
      "0 SoybeanSmall ALIBICNOGRAD\n",
      "1 Chess MLEXPLAIN\n",
      "1 Nursery MLEXPLAIN\n",
      "1 Nursery DICE\n",
      "1 Adult CADEX\n"
     ]
    },
    {
     "name": "stderr",
     "output_type": "stream",
     "text": [
      "/home/rmazzine/anaconda3/envs/CF_Analysis/lib/python3.7/site-packages/sklearn/base.py:315: UserWarning: Trying to unpickle estimator StandardScaler from version 0.23.1 when using version 0.24.1. This might lead to breaking code or invalid results. Use at your own risk.\n",
      "  UserWarning)\n"
     ]
    },
    {
     "name": "stdout",
     "output_type": "stream",
     "text": [
      "0 StudentPerf SEDC\n"
     ]
    },
    {
     "name": "stderr",
     "output_type": "stream",
     "text": [
      "/home/rmazzine/anaconda3/envs/CF_Analysis/lib/python3.7/site-packages/sklearn/base.py:315: UserWarning: Trying to unpickle estimator StandardScaler from version 0.23.1 when using version 0.24.1. This might lead to breaking code or invalid results. Use at your own risk.\n",
      "  UserWarning)\n"
     ]
    },
    {
     "name": "stdout",
     "output_type": "stream",
     "text": [
      "0 TicTacToe MLEXPLAIN\n",
      "1 BalanceScale CADEX\n",
      "0 PBC ALIBICNOGRAD\n"
     ]
    },
    {
     "name": "stderr",
     "output_type": "stream",
     "text": [
      "/home/rmazzine/anaconda3/envs/CF_Analysis/lib/python3.7/site-packages/sklearn/base.py:315: UserWarning: Trying to unpickle estimator StandardScaler from version 0.23.1 when using version 0.24.1. This might lead to breaking code or invalid results. Use at your own risk.\n",
      "  UserWarning)\n",
      "/home/rmazzine/anaconda3/envs/CF_Analysis/lib/python3.7/site-packages/sklearn/base.py:315: UserWarning: Trying to unpickle estimator StandardScaler from version 0.23.1 when using version 0.24.1. This might lead to breaking code or invalid results. Use at your own risk.\n",
      "  UserWarning)\n"
     ]
    },
    {
     "name": "stdout",
     "output_type": "stream",
     "text": [
      "1 MagicGT ALIBICNOGRAD\n"
     ]
    },
    {
     "name": "stderr",
     "output_type": "stream",
     "text": [
      "/home/rmazzine/anaconda3/envs/CF_Analysis/lib/python3.7/site-packages/sklearn/base.py:315: UserWarning: Trying to unpickle estimator StandardScaler from version 0.23.1 when using version 0.24.1. This might lead to breaking code or invalid results. Use at your own risk.\n",
      "  UserWarning)\n"
     ]
    },
    {
     "name": "stdout",
     "output_type": "stream",
     "text": [
      "1 Wine ALIBICNOGRAD\n"
     ]
    },
    {
     "name": "stderr",
     "output_type": "stream",
     "text": [
      "/home/rmazzine/anaconda3/envs/CF_Analysis/lib/python3.7/site-packages/sklearn/base.py:315: UserWarning: Trying to unpickle estimator StandardScaler from version 0.23.1 when using version 0.24.1. This might lead to breaking code or invalid results. Use at your own risk.\n",
      "  UserWarning)\n"
     ]
    },
    {
     "name": "stdout",
     "output_type": "stream",
     "text": [
      "0 CarEvaluation LORE\n",
      "0 Chess DICE\n",
      "0 InternetAdv LORE\n"
     ]
    },
    {
     "name": "stderr",
     "output_type": "stream",
     "text": [
      "/home/rmazzine/anaconda3/envs/CF_Analysis/lib/python3.7/site-packages/sklearn/base.py:315: UserWarning: Trying to unpickle estimator StandardScaler from version 0.23.1 when using version 0.24.1. This might lead to breaking code or invalid results. Use at your own risk.\n",
      "  UserWarning)\n",
      "/home/rmazzine/anaconda3/envs/CF_Analysis/lib/python3.7/site-packages/sklearn/base.py:315: UserWarning: Trying to unpickle estimator StandardScaler from version 0.23.1 when using version 0.24.1. This might lead to breaking code or invalid results. Use at your own risk.\n",
      "  UserWarning)\n"
     ]
    },
    {
     "name": "stdout",
     "output_type": "stream",
     "text": [
      "1 TicTacToe SEDC\n",
      "1 PBC DICE\n"
     ]
    },
    {
     "name": "stderr",
     "output_type": "stream",
     "text": [
      "/home/rmazzine/anaconda3/envs/CF_Analysis/lib/python3.7/site-packages/sklearn/base.py:315: UserWarning: Trying to unpickle estimator StandardScaler from version 0.23.1 when using version 0.24.1. This might lead to breaking code or invalid results. Use at your own risk.\n",
      "  UserWarning)\n",
      "/home/rmazzine/anaconda3/envs/CF_Analysis/lib/python3.7/site-packages/sklearn/base.py:315: UserWarning: Trying to unpickle estimator StandardScaler from version 0.23.1 when using version 0.24.1. This might lead to breaking code or invalid results. Use at your own risk.\n",
      "  UserWarning)\n"
     ]
    },
    {
     "name": "stdout",
     "output_type": "stream",
     "text": [
      "1 Iris SYNAS\n"
     ]
    },
    {
     "name": "stderr",
     "output_type": "stream",
     "text": [
      "/home/rmazzine/anaconda3/envs/CF_Analysis/lib/python3.7/site-packages/sklearn/base.py:315: UserWarning: Trying to unpickle estimator StandardScaler from version 0.23.1 when using version 0.24.1. This might lead to breaking code or invalid results. Use at your own risk.\n",
      "  UserWarning)\n"
     ]
    },
    {
     "name": "stdout",
     "output_type": "stream",
     "text": [
      "0 TicTacToe DICE\n",
      "0 BCW SEDC\n"
     ]
    },
    {
     "name": "stderr",
     "output_type": "stream",
     "text": [
      "/home/rmazzine/anaconda3/envs/CF_Analysis/lib/python3.7/site-packages/sklearn/base.py:315: UserWarning: Trying to unpickle estimator StandardScaler from version 0.23.1 when using version 0.24.1. This might lead to breaking code or invalid results. Use at your own risk.\n",
      "  UserWarning)\n",
      "/home/rmazzine/anaconda3/envs/CF_Analysis/lib/python3.7/site-packages/sklearn/base.py:315: UserWarning: Trying to unpickle estimator StandardScaler from version 0.23.1 when using version 0.24.1. This might lead to breaking code or invalid results. Use at your own risk.\n",
      "  UserWarning)\n"
     ]
    },
    {
     "name": "stdout",
     "output_type": "stream",
     "text": [
      "0 StatlogGC SYNAS\n"
     ]
    },
    {
     "name": "stderr",
     "output_type": "stream",
     "text": [
      "/home/rmazzine/anaconda3/envs/CF_Analysis/lib/python3.7/site-packages/sklearn/base.py:315: UserWarning: Trying to unpickle estimator StandardScaler from version 0.23.1 when using version 0.24.1. This might lead to breaking code or invalid results. Use at your own risk.\n",
      "  UserWarning)\n"
     ]
    },
    {
     "name": "stdout",
     "output_type": "stream",
     "text": [
      "0 SDD DICE\n",
      "0 StudentPerf MACE\n",
      "1 DefaultOfCCC MLEXPLAIN\n"
     ]
    },
    {
     "name": "stderr",
     "output_type": "stream",
     "text": [
      "/home/rmazzine/anaconda3/envs/CF_Analysis/lib/python3.7/site-packages/sklearn/base.py:315: UserWarning: Trying to unpickle estimator StandardScaler from version 0.23.1 when using version 0.24.1. This might lead to breaking code or invalid results. Use at your own risk.\n",
      "  UserWarning)\n"
     ]
    },
    {
     "name": "stdout",
     "output_type": "stream",
     "text": [
      "1 CMSC DICE\n"
     ]
    },
    {
     "name": "stderr",
     "output_type": "stream",
     "text": [
      "/home/rmazzine/anaconda3/envs/CF_Analysis/lib/python3.7/site-packages/sklearn/base.py:315: UserWarning: Trying to unpickle estimator StandardScaler from version 0.23.1 when using version 0.24.1. This might lead to breaking code or invalid results. Use at your own risk.\n",
      "  UserWarning)\n"
     ]
    },
    {
     "name": "stdout",
     "output_type": "stream",
     "text": [
      "1 Ecoli ALIBIC\n"
     ]
    },
    {
     "name": "stderr",
     "output_type": "stream",
     "text": [
      "/home/rmazzine/anaconda3/envs/CF_Analysis/lib/python3.7/site-packages/sklearn/base.py:315: UserWarning: Trying to unpickle estimator StandardScaler from version 0.23.1 when using version 0.24.1. This might lead to breaking code or invalid results. Use at your own risk.\n",
      "  UserWarning)\n"
     ]
    },
    {
     "name": "stdout",
     "output_type": "stream",
     "text": [
      "0 HayesRoth MACE\n",
      "1 CMSC MACE\n",
      "1 BalanceScale ALIBIC\n",
      "0 BalanceScale SEDC\n",
      "0 Adult GROWINGSPHERES3\n"
     ]
    },
    {
     "name": "stderr",
     "output_type": "stream",
     "text": [
      "/home/rmazzine/anaconda3/envs/CF_Analysis/lib/python3.7/site-packages/sklearn/base.py:315: UserWarning: Trying to unpickle estimator StandardScaler from version 0.23.1 when using version 0.24.1. This might lead to breaking code or invalid results. Use at your own risk.\n",
      "  UserWarning)\n"
     ]
    },
    {
     "name": "stdout",
     "output_type": "stream",
     "text": [
      "0 Iris MLEXPLAIN\n"
     ]
    },
    {
     "name": "stderr",
     "output_type": "stream",
     "text": [
      "/home/rmazzine/anaconda3/envs/CF_Analysis/lib/python3.7/site-packages/sklearn/base.py:315: UserWarning: Trying to unpickle estimator StandardScaler from version 0.23.1 when using version 0.24.1. This might lead to breaking code or invalid results. Use at your own risk.\n",
      "  UserWarning)\n"
     ]
    },
    {
     "name": "stdout",
     "output_type": "stream",
     "text": [
      "0 Adult ALIBIC\n"
     ]
    },
    {
     "name": "stderr",
     "output_type": "stream",
     "text": [
      "/home/rmazzine/anaconda3/envs/CF_Analysis/lib/python3.7/site-packages/sklearn/base.py:315: UserWarning: Trying to unpickle estimator StandardScaler from version 0.23.1 when using version 0.24.1. This might lead to breaking code or invalid results. Use at your own risk.\n",
      "  UserWarning)\n"
     ]
    },
    {
     "name": "stdout",
     "output_type": "stream",
     "text": [
      "0 SoybeanSmall CADEX\n",
      "0 BCW MLEXPLAIN\n",
      "1 SDD ALIBICNOGRAD\n",
      "0 Nursery ALIBICNOGRAD\n",
      "1 InternetAdv GROWINGSPHERES3\n"
     ]
    },
    {
     "name": "stderr",
     "output_type": "stream",
     "text": [
      "/home/rmazzine/anaconda3/envs/CF_Analysis/lib/python3.7/site-packages/sklearn/base.py:315: UserWarning: Trying to unpickle estimator StandardScaler from version 0.23.1 when using version 0.24.1. This might lead to breaking code or invalid results. Use at your own risk.\n",
      "  UserWarning)\n",
      "/home/rmazzine/anaconda3/envs/CF_Analysis/lib/python3.7/site-packages/sklearn/base.py:315: UserWarning: Trying to unpickle estimator StandardScaler from version 0.23.1 when using version 0.24.1. This might lead to breaking code or invalid results. Use at your own risk.\n",
      "  UserWarning)\n"
     ]
    },
    {
     "name": "stdout",
     "output_type": "stream",
     "text": [
      "0 Chess SEDC\n",
      "0 Nursery SEDC\n",
      "1 MagicGT MLEXPLAIN\n"
     ]
    },
    {
     "name": "stderr",
     "output_type": "stream",
     "text": [
      "/home/rmazzine/anaconda3/envs/CF_Analysis/lib/python3.7/site-packages/sklearn/base.py:315: UserWarning: Trying to unpickle estimator StandardScaler from version 0.23.1 when using version 0.24.1. This might lead to breaking code or invalid results. Use at your own risk.\n",
      "  UserWarning)\n"
     ]
    },
    {
     "name": "stdout",
     "output_type": "stream",
     "text": [
      "1 BalanceScale SYNAS\n",
      "0 StatlogGC CADEX\n"
     ]
    },
    {
     "name": "stderr",
     "output_type": "stream",
     "text": [
      "/home/rmazzine/anaconda3/envs/CF_Analysis/lib/python3.7/site-packages/sklearn/base.py:315: UserWarning: Trying to unpickle estimator StandardScaler from version 0.23.1 when using version 0.24.1. This might lead to breaking code or invalid results. Use at your own risk.\n",
      "  UserWarning)\n"
     ]
    },
    {
     "name": "stdout",
     "output_type": "stream",
     "text": [
      "0 DefaultOfCCC ALIBICNOGRAD\n"
     ]
    },
    {
     "name": "stderr",
     "output_type": "stream",
     "text": [
      "/home/rmazzine/anaconda3/envs/CF_Analysis/lib/python3.7/site-packages/sklearn/base.py:315: UserWarning: Trying to unpickle estimator StandardScaler from version 0.23.1 when using version 0.24.1. This might lead to breaking code or invalid results. Use at your own risk.\n",
      "  UserWarning)\n"
     ]
    },
    {
     "name": "stdout",
     "output_type": "stream",
     "text": [
      "0 Iris ALIBICNOGRAD\n"
     ]
    },
    {
     "name": "stderr",
     "output_type": "stream",
     "text": [
      "/home/rmazzine/anaconda3/envs/CF_Analysis/lib/python3.7/site-packages/sklearn/base.py:315: UserWarning: Trying to unpickle estimator StandardScaler from version 0.23.1 when using version 0.24.1. This might lead to breaking code or invalid results. Use at your own risk.\n",
      "  UserWarning)\n"
     ]
    },
    {
     "name": "stdout",
     "output_type": "stream",
     "text": [
      "1 SoybeanSmall CADEX\n",
      "1 BalanceScale ALIBICNOGRAD\n",
      "1 Chess ALIBIC\n",
      "0 CMSC SEDC\n"
     ]
    },
    {
     "name": "stderr",
     "output_type": "stream",
     "text": [
      "/home/rmazzine/anaconda3/envs/CF_Analysis/lib/python3.7/site-packages/sklearn/base.py:315: UserWarning: Trying to unpickle estimator StandardScaler from version 0.23.1 when using version 0.24.1. This might lead to breaking code or invalid results. Use at your own risk.\n",
      "  UserWarning)\n"
     ]
    },
    {
     "name": "stdout",
     "output_type": "stream",
     "text": [
      "1 MagicGT ALIBIC\n"
     ]
    },
    {
     "name": "stderr",
     "output_type": "stream",
     "text": [
      "/home/rmazzine/anaconda3/envs/CF_Analysis/lib/python3.7/site-packages/sklearn/base.py:315: UserWarning: Trying to unpickle estimator StandardScaler from version 0.23.1 when using version 0.24.1. This might lead to breaking code or invalid results. Use at your own risk.\n",
      "  UserWarning)\n"
     ]
    },
    {
     "name": "stdout",
     "output_type": "stream",
     "text": [
      "0 Lymphography GROWINGSPHERES3\n",
      "1 DefaultOfCCC CADEX\n"
     ]
    },
    {
     "name": "stderr",
     "output_type": "stream",
     "text": [
      "/home/rmazzine/anaconda3/envs/CF_Analysis/lib/python3.7/site-packages/sklearn/base.py:315: UserWarning: Trying to unpickle estimator StandardScaler from version 0.23.1 when using version 0.24.1. This might lead to breaking code or invalid results. Use at your own risk.\n",
      "  UserWarning)\n"
     ]
    },
    {
     "name": "stdout",
     "output_type": "stream",
     "text": [
      "1 Adult ALIBICNOGRAD\n"
     ]
    },
    {
     "name": "stderr",
     "output_type": "stream",
     "text": [
      "/home/rmazzine/anaconda3/envs/CF_Analysis/lib/python3.7/site-packages/sklearn/base.py:315: UserWarning: Trying to unpickle estimator StandardScaler from version 0.23.1 when using version 0.24.1. This might lead to breaking code or invalid results. Use at your own risk.\n",
      "  UserWarning)\n"
     ]
    },
    {
     "name": "stdout",
     "output_type": "stream",
     "text": [
      "0 ISOLET SEDC\n",
      "1 Chess ALIBICNOGRAD\n",
      "1 InternetAdv SEDC\n"
     ]
    },
    {
     "name": "stderr",
     "output_type": "stream",
     "text": [
      "/home/rmazzine/anaconda3/envs/CF_Analysis/lib/python3.7/site-packages/sklearn/base.py:315: UserWarning: Trying to unpickle estimator StandardScaler from version 0.23.1 when using version 0.24.1. This might lead to breaking code or invalid results. Use at your own risk.\n",
      "  UserWarning)\n",
      "/home/rmazzine/anaconda3/envs/CF_Analysis/lib/python3.7/site-packages/sklearn/base.py:315: UserWarning: Trying to unpickle estimator StandardScaler from version 0.23.1 when using version 0.24.1. This might lead to breaking code or invalid results. Use at your own risk.\n",
      "  UserWarning)\n"
     ]
    },
    {
     "name": "stdout",
     "output_type": "stream",
     "text": [
      "0 CarEvaluation DICE\n",
      "0 StudentPerf SYNAS\n"
     ]
    },
    {
     "name": "stderr",
     "output_type": "stream",
     "text": [
      "/home/rmazzine/anaconda3/envs/CF_Analysis/lib/python3.7/site-packages/sklearn/base.py:315: UserWarning: Trying to unpickle estimator StandardScaler from version 0.23.1 when using version 0.24.1. This might lead to breaking code or invalid results. Use at your own risk.\n",
      "  UserWarning)\n"
     ]
    },
    {
     "name": "stdout",
     "output_type": "stream",
     "text": [
      "1 BalanceScale SEDC\n",
      "0 SoybeanSmall SYNAS\n",
      "0 StatlogGC GROWINGSPHERES3\n"
     ]
    },
    {
     "name": "stderr",
     "output_type": "stream",
     "text": [
      "/home/rmazzine/anaconda3/envs/CF_Analysis/lib/python3.7/site-packages/sklearn/base.py:315: UserWarning: Trying to unpickle estimator StandardScaler from version 0.23.1 when using version 0.24.1. This might lead to breaking code or invalid results. Use at your own risk.\n",
      "  UserWarning)\n"
     ]
    },
    {
     "name": "stdout",
     "output_type": "stream",
     "text": [
      "1 CMSC SYNAS\n"
     ]
    },
    {
     "name": "stderr",
     "output_type": "stream",
     "text": [
      "/home/rmazzine/anaconda3/envs/CF_Analysis/lib/python3.7/site-packages/sklearn/base.py:315: UserWarning: Trying to unpickle estimator StandardScaler from version 0.23.1 when using version 0.24.1. This might lead to breaking code or invalid results. Use at your own risk.\n",
      "  UserWarning)\n"
     ]
    },
    {
     "name": "stdout",
     "output_type": "stream",
     "text": [
      "0 Adult DICE\n"
     ]
    },
    {
     "name": "stderr",
     "output_type": "stream",
     "text": [
      "/home/rmazzine/anaconda3/envs/CF_Analysis/lib/python3.7/site-packages/sklearn/base.py:315: UserWarning: Trying to unpickle estimator StandardScaler from version 0.23.1 when using version 0.24.1. This might lead to breaking code or invalid results. Use at your own risk.\n",
      "  UserWarning)\n"
     ]
    },
    {
     "name": "stdout",
     "output_type": "stream",
     "text": [
      "1 ISOLET GROWINGSPHERES3\n"
     ]
    },
    {
     "name": "stderr",
     "output_type": "stream",
     "text": [
      "/home/rmazzine/anaconda3/envs/CF_Analysis/lib/python3.7/site-packages/sklearn/base.py:315: UserWarning: Trying to unpickle estimator StandardScaler from version 0.23.1 when using version 0.24.1. This might lead to breaking code or invalid results. Use at your own risk.\n",
      "  UserWarning)\n"
     ]
    },
    {
     "name": "stdout",
     "output_type": "stream",
     "text": [
      "1 Ecoli SEDC\n"
     ]
    },
    {
     "name": "stderr",
     "output_type": "stream",
     "text": [
      "/home/rmazzine/anaconda3/envs/CF_Analysis/lib/python3.7/site-packages/sklearn/base.py:315: UserWarning: Trying to unpickle estimator StandardScaler from version 0.23.1 when using version 0.24.1. This might lead to breaking code or invalid results. Use at your own risk.\n",
      "  UserWarning)\n"
     ]
    },
    {
     "name": "stdout",
     "output_type": "stream",
     "text": [
      "1 PBC SEDC\n"
     ]
    },
    {
     "name": "stderr",
     "output_type": "stream",
     "text": [
      "/home/rmazzine/anaconda3/envs/CF_Analysis/lib/python3.7/site-packages/sklearn/base.py:315: UserWarning: Trying to unpickle estimator StandardScaler from version 0.23.1 when using version 0.24.1. This might lead to breaking code or invalid results. Use at your own risk.\n",
      "  UserWarning)\n",
      "/home/rmazzine/anaconda3/envs/CF_Analysis/lib/python3.7/site-packages/sklearn/base.py:315: UserWarning: Trying to unpickle estimator StandardScaler from version 0.23.1 when using version 0.24.1. This might lead to breaking code or invalid results. Use at your own risk.\n",
      "  UserWarning)\n"
     ]
    },
    {
     "name": "stdout",
     "output_type": "stream",
     "text": [
      "0 HayesRoth GROWINGSPHERES3\n",
      "1 StudentPerf LORE\n",
      "0 DefaultOfCCC SEDC\n"
     ]
    },
    {
     "name": "stderr",
     "output_type": "stream",
     "text": [
      "/home/rmazzine/anaconda3/envs/CF_Analysis/lib/python3.7/site-packages/sklearn/base.py:315: UserWarning: Trying to unpickle estimator StandardScaler from version 0.23.1 when using version 0.24.1. This might lead to breaking code or invalid results. Use at your own risk.\n",
      "  UserWarning)\n"
     ]
    },
    {
     "name": "stdout",
     "output_type": "stream",
     "text": [
      "1 Ecoli GROWINGSPHERES3\n"
     ]
    },
    {
     "name": "stderr",
     "output_type": "stream",
     "text": [
      "/home/rmazzine/anaconda3/envs/CF_Analysis/lib/python3.7/site-packages/sklearn/base.py:315: UserWarning: Trying to unpickle estimator StandardScaler from version 0.23.1 when using version 0.24.1. This might lead to breaking code or invalid results. Use at your own risk.\n",
      "  UserWarning)\n"
     ]
    },
    {
     "name": "stdout",
     "output_type": "stream",
     "text": [
      "1 Chess SYNAS\n",
      "0 StudentPerf LORE\n",
      "0 StudentPerf ALIBIC\n"
     ]
    },
    {
     "name": "stderr",
     "output_type": "stream",
     "text": [
      "/home/rmazzine/anaconda3/envs/CF_Analysis/lib/python3.7/site-packages/sklearn/base.py:315: UserWarning: Trying to unpickle estimator StandardScaler from version 0.23.1 when using version 0.24.1. This might lead to breaking code or invalid results. Use at your own risk.\n",
      "  UserWarning)\n"
     ]
    },
    {
     "name": "stdout",
     "output_type": "stream",
     "text": [
      "0 Nursery MLEXPLAIN\n",
      "0 Iris DICE\n"
     ]
    },
    {
     "name": "stderr",
     "output_type": "stream",
     "text": [
      "/home/rmazzine/anaconda3/envs/CF_Analysis/lib/python3.7/site-packages/sklearn/base.py:315: UserWarning: Trying to unpickle estimator StandardScaler from version 0.23.1 when using version 0.24.1. This might lead to breaking code or invalid results. Use at your own risk.\n",
      "  UserWarning)\n"
     ]
    },
    {
     "name": "stdout",
     "output_type": "stream",
     "text": [
      "1 Nursery SYNAS\n",
      "0 PBC CADEX\n"
     ]
    },
    {
     "name": "stderr",
     "output_type": "stream",
     "text": [
      "/home/rmazzine/anaconda3/envs/CF_Analysis/lib/python3.7/site-packages/sklearn/base.py:315: UserWarning: Trying to unpickle estimator StandardScaler from version 0.23.1 when using version 0.24.1. This might lead to breaking code or invalid results. Use at your own risk.\n",
      "  UserWarning)\n",
      "/home/rmazzine/anaconda3/envs/CF_Analysis/lib/python3.7/site-packages/sklearn/base.py:315: UserWarning: Trying to unpickle estimator StandardScaler from version 0.23.1 when using version 0.24.1. This might lead to breaking code or invalid results. Use at your own risk.\n",
      "  UserWarning)\n"
     ]
    },
    {
     "name": "stdout",
     "output_type": "stream",
     "text": [
      "1 Adult GROWINGSPHERES3\n"
     ]
    },
    {
     "name": "stderr",
     "output_type": "stream",
     "text": [
      "/home/rmazzine/anaconda3/envs/CF_Analysis/lib/python3.7/site-packages/sklearn/base.py:315: UserWarning: Trying to unpickle estimator StandardScaler from version 0.23.1 when using version 0.24.1. This might lead to breaking code or invalid results. Use at your own risk.\n",
      "  UserWarning)\n"
     ]
    },
    {
     "name": "stdout",
     "output_type": "stream",
     "text": [
      "0 BCW MACE\n"
     ]
    },
    {
     "name": "stderr",
     "output_type": "stream",
     "text": [
      "/home/rmazzine/anaconda3/envs/CF_Analysis/lib/python3.7/site-packages/sklearn/base.py:315: UserWarning: Trying to unpickle estimator StandardScaler from version 0.23.1 when using version 0.24.1. This might lead to breaking code or invalid results. Use at your own risk.\n",
      "  UserWarning)\n",
      "/home/rmazzine/anaconda3/envs/CF_Analysis/lib/python3.7/site-packages/sklearn/base.py:315: UserWarning: Trying to unpickle estimator StandardScaler from version 0.23.1 when using version 0.24.1. This might lead to breaking code or invalid results. Use at your own risk.\n",
      "  UserWarning)\n"
     ]
    },
    {
     "name": "stdout",
     "output_type": "stream",
     "text": [
      "1 DefaultOfCCC LORE\n",
      "1 Iris CADEX\n"
     ]
    },
    {
     "name": "stderr",
     "output_type": "stream",
     "text": [
      "/home/rmazzine/anaconda3/envs/CF_Analysis/lib/python3.7/site-packages/sklearn/base.py:315: UserWarning: Trying to unpickle estimator StandardScaler from version 0.23.1 when using version 0.24.1. This might lead to breaking code or invalid results. Use at your own risk.\n",
      "  UserWarning)\n"
     ]
    },
    {
     "name": "stdout",
     "output_type": "stream",
     "text": [
      "0 ISOLET MLEXPLAIN\n",
      "0 MagicGT ALIBICNOGRAD\n"
     ]
    },
    {
     "name": "stderr",
     "output_type": "stream",
     "text": [
      "/home/rmazzine/anaconda3/envs/CF_Analysis/lib/python3.7/site-packages/sklearn/base.py:315: UserWarning: Trying to unpickle estimator StandardScaler from version 0.23.1 when using version 0.24.1. This might lead to breaking code or invalid results. Use at your own risk.\n",
      "  UserWarning)\n"
     ]
    },
    {
     "name": "stdout",
     "output_type": "stream",
     "text": [
      "1 InternetAdv DICE\n",
      "0 Lymphography LORE\n",
      "1 ISOLET ALIBICNOGRAD\n"
     ]
    },
    {
     "name": "stderr",
     "output_type": "stream",
     "text": [
      "/home/rmazzine/anaconda3/envs/CF_Analysis/lib/python3.7/site-packages/sklearn/base.py:315: UserWarning: Trying to unpickle estimator StandardScaler from version 0.23.1 when using version 0.24.1. This might lead to breaking code or invalid results. Use at your own risk.\n",
      "  UserWarning)\n"
     ]
    },
    {
     "name": "stdout",
     "output_type": "stream",
     "text": [
      "1 Ecoli MACE\n"
     ]
    },
    {
     "name": "stderr",
     "output_type": "stream",
     "text": [
      "/home/rmazzine/anaconda3/envs/CF_Analysis/lib/python3.7/site-packages/sklearn/base.py:315: UserWarning: Trying to unpickle estimator StandardScaler from version 0.23.1 when using version 0.24.1. This might lead to breaking code or invalid results. Use at your own risk.\n",
      "  UserWarning)\n"
     ]
    },
    {
     "name": "stdout",
     "output_type": "stream",
     "text": [
      "0 SDD SYNAS\n",
      "0 BalanceScale DICE\n",
      "0 Chess LORE\n",
      "0 CMSC DICE\n",
      "1 Iris ALIBIC\n"
     ]
    },
    {
     "name": "stderr",
     "output_type": "stream",
     "text": [
      "/home/rmazzine/anaconda3/envs/CF_Analysis/lib/python3.7/site-packages/sklearn/base.py:315: UserWarning: Trying to unpickle estimator StandardScaler from version 0.23.1 when using version 0.24.1. This might lead to breaking code or invalid results. Use at your own risk.\n",
      "  UserWarning)\n"
     ]
    },
    {
     "name": "stdout",
     "output_type": "stream",
     "text": [
      "0 MagicGT MACE\n"
     ]
    },
    {
     "name": "stderr",
     "output_type": "stream",
     "text": [
      "/home/rmazzine/anaconda3/envs/CF_Analysis/lib/python3.7/site-packages/sklearn/base.py:315: UserWarning: Trying to unpickle estimator StandardScaler from version 0.23.1 when using version 0.24.1. This might lead to breaking code or invalid results. Use at your own risk.\n",
      "  UserWarning)\n"
     ]
    },
    {
     "name": "stdout",
     "output_type": "stream",
     "text": [
      "0 BCW SYNAS\n"
     ]
    },
    {
     "name": "stderr",
     "output_type": "stream",
     "text": [
      "/home/rmazzine/anaconda3/envs/CF_Analysis/lib/python3.7/site-packages/sklearn/base.py:315: UserWarning: Trying to unpickle estimator StandardScaler from version 0.23.1 when using version 0.24.1. This might lead to breaking code or invalid results. Use at your own risk.\n",
      "  UserWarning)\n",
      "/home/rmazzine/anaconda3/envs/CF_Analysis/lib/python3.7/site-packages/sklearn/base.py:315: UserWarning: Trying to unpickle estimator StandardScaler from version 0.23.1 when using version 0.24.1. This might lead to breaking code or invalid results. Use at your own risk.\n",
      "  UserWarning)\n"
     ]
    },
    {
     "name": "stdout",
     "output_type": "stream",
     "text": [
      "1 SDD GROWINGSPHERES3\n"
     ]
    },
    {
     "name": "stderr",
     "output_type": "stream",
     "text": [
      "/home/rmazzine/anaconda3/envs/CF_Analysis/lib/python3.7/site-packages/sklearn/base.py:315: UserWarning: Trying to unpickle estimator StandardScaler from version 0.23.1 when using version 0.24.1. This might lead to breaking code or invalid results. Use at your own risk.\n",
      "  UserWarning)\n"
     ]
    },
    {
     "name": "stdout",
     "output_type": "stream",
     "text": [
      "1 Adult ALIBIC\n"
     ]
    },
    {
     "name": "stderr",
     "output_type": "stream",
     "text": [
      "/home/rmazzine/anaconda3/envs/CF_Analysis/lib/python3.7/site-packages/sklearn/base.py:315: UserWarning: Trying to unpickle estimator StandardScaler from version 0.23.1 when using version 0.24.1. This might lead to breaking code or invalid results. Use at your own risk.\n",
      "  UserWarning)\n"
     ]
    },
    {
     "name": "stdout",
     "output_type": "stream",
     "text": [
      "1 TicTacToe MLEXPLAIN\n",
      "1 Ecoli SYNAS\n"
     ]
    },
    {
     "name": "stderr",
     "output_type": "stream",
     "text": [
      "/home/rmazzine/anaconda3/envs/CF_Analysis/lib/python3.7/site-packages/sklearn/base.py:315: UserWarning: Trying to unpickle estimator StandardScaler from version 0.23.1 when using version 0.24.1. This might lead to breaking code or invalid results. Use at your own risk.\n",
      "  UserWarning)\n"
     ]
    },
    {
     "name": "stdout",
     "output_type": "stream",
     "text": [
      "0 Lymphography SYNAS\n",
      "1 Nursery LORE\n",
      "1 HayesRoth DICE\n",
      "0 SDD MLEXPLAIN\n",
      "1 CMSC MLEXPLAIN\n"
     ]
    },
    {
     "name": "stderr",
     "output_type": "stream",
     "text": [
      "/home/rmazzine/anaconda3/envs/CF_Analysis/lib/python3.7/site-packages/sklearn/base.py:315: UserWarning: Trying to unpickle estimator StandardScaler from version 0.23.1 when using version 0.24.1. This might lead to breaking code or invalid results. Use at your own risk.\n",
      "  UserWarning)\n"
     ]
    },
    {
     "name": "stdout",
     "output_type": "stream",
     "text": [
      "1 SoybeanSmall ALIBICNOGRAD\n",
      "0 Wine GROWINGSPHERES3\n"
     ]
    },
    {
     "name": "stderr",
     "output_type": "stream",
     "text": [
      "/home/rmazzine/anaconda3/envs/CF_Analysis/lib/python3.7/site-packages/sklearn/base.py:315: UserWarning: Trying to unpickle estimator StandardScaler from version 0.23.1 when using version 0.24.1. This might lead to breaking code or invalid results. Use at your own risk.\n",
      "  UserWarning)\n"
     ]
    },
    {
     "name": "stdout",
     "output_type": "stream",
     "text": [
      "1 Wine ALIBIC\n"
     ]
    },
    {
     "name": "stderr",
     "output_type": "stream",
     "text": [
      "/home/rmazzine/anaconda3/envs/CF_Analysis/lib/python3.7/site-packages/sklearn/base.py:315: UserWarning: Trying to unpickle estimator StandardScaler from version 0.23.1 when using version 0.24.1. This might lead to breaking code or invalid results. Use at your own risk.\n",
      "  UserWarning)\n"
     ]
    },
    {
     "name": "stdout",
     "output_type": "stream",
     "text": [
      "1 ISOLET SEDC\n"
     ]
    },
    {
     "name": "stderr",
     "output_type": "stream",
     "text": [
      "/home/rmazzine/anaconda3/envs/CF_Analysis/lib/python3.7/site-packages/sklearn/base.py:315: UserWarning: Trying to unpickle estimator StandardScaler from version 0.23.1 when using version 0.24.1. This might lead to breaking code or invalid results. Use at your own risk.\n",
      "  UserWarning)\n"
     ]
    },
    {
     "name": "stdout",
     "output_type": "stream",
     "text": [
      "1 Wine CADEX\n"
     ]
    },
    {
     "name": "stderr",
     "output_type": "stream",
     "text": [
      "/home/rmazzine/anaconda3/envs/CF_Analysis/lib/python3.7/site-packages/sklearn/base.py:315: UserWarning: Trying to unpickle estimator StandardScaler from version 0.23.1 when using version 0.24.1. This might lead to breaking code or invalid results. Use at your own risk.\n",
      "  UserWarning)\n"
     ]
    },
    {
     "name": "stdout",
     "output_type": "stream",
     "text": [
      "0 Adult MLEXPLAIN\n"
     ]
    },
    {
     "name": "stderr",
     "output_type": "stream",
     "text": [
      "/home/rmazzine/anaconda3/envs/CF_Analysis/lib/python3.7/site-packages/sklearn/base.py:315: UserWarning: Trying to unpickle estimator StandardScaler from version 0.23.1 when using version 0.24.1. This might lead to breaking code or invalid results. Use at your own risk.\n",
      "  UserWarning)\n"
     ]
    },
    {
     "name": "stdout",
     "output_type": "stream",
     "text": [
      "0 Nursery SYNAS\n",
      "1 Adult MLEXPLAIN\n"
     ]
    },
    {
     "name": "stderr",
     "output_type": "stream",
     "text": [
      "/home/rmazzine/anaconda3/envs/CF_Analysis/lib/python3.7/site-packages/sklearn/base.py:315: UserWarning: Trying to unpickle estimator StandardScaler from version 0.23.1 when using version 0.24.1. This might lead to breaking code or invalid results. Use at your own risk.\n",
      "  UserWarning)\n"
     ]
    },
    {
     "name": "stdout",
     "output_type": "stream",
     "text": [
      "0 SoybeanSmall LORE\n",
      "1 SoybeanSmall SEDC\n",
      "1 MagicGT LORE\n"
     ]
    },
    {
     "name": "stderr",
     "output_type": "stream",
     "text": [
      "/home/rmazzine/anaconda3/envs/CF_Analysis/lib/python3.7/site-packages/sklearn/base.py:315: UserWarning: Trying to unpickle estimator StandardScaler from version 0.23.1 when using version 0.24.1. This might lead to breaking code or invalid results. Use at your own risk.\n",
      "  UserWarning)\n"
     ]
    },
    {
     "name": "stdout",
     "output_type": "stream",
     "text": [
      "0 Wine SEDC\n"
     ]
    },
    {
     "name": "stderr",
     "output_type": "stream",
     "text": [
      "/home/rmazzine/anaconda3/envs/CF_Analysis/lib/python3.7/site-packages/sklearn/base.py:315: UserWarning: Trying to unpickle estimator StandardScaler from version 0.23.1 when using version 0.24.1. This might lead to breaking code or invalid results. Use at your own risk.\n",
      "  UserWarning)\n"
     ]
    },
    {
     "name": "stdout",
     "output_type": "stream",
     "text": [
      "1 Nursery CADEX\n",
      "0 HayesRoth MLEXPLAIN\n",
      "1 TicTacToe LORE\n",
      "0 TicTacToe SEDC\n",
      "1 Adult DICE\n"
     ]
    },
    {
     "name": "stderr",
     "output_type": "stream",
     "text": [
      "/home/rmazzine/anaconda3/envs/CF_Analysis/lib/python3.7/site-packages/sklearn/base.py:315: UserWarning: Trying to unpickle estimator StandardScaler from version 0.23.1 when using version 0.24.1. This might lead to breaking code or invalid results. Use at your own risk.\n",
      "  UserWarning)\n"
     ]
    },
    {
     "name": "stdout",
     "output_type": "stream",
     "text": [
      "0 InternetAdv MLEXPLAIN\n"
     ]
    },
    {
     "name": "stderr",
     "output_type": "stream",
     "text": [
      "/home/rmazzine/anaconda3/envs/CF_Analysis/lib/python3.7/site-packages/sklearn/base.py:315: UserWarning: Trying to unpickle estimator StandardScaler from version 0.23.1 when using version 0.24.1. This might lead to breaking code or invalid results. Use at your own risk.\n",
      "  UserWarning)\n",
      "/home/rmazzine/anaconda3/envs/CF_Analysis/lib/python3.7/site-packages/sklearn/base.py:315: UserWarning: Trying to unpickle estimator StandardScaler from version 0.23.1 when using version 0.24.1. This might lead to breaking code or invalid results. Use at your own risk.\n",
      "  UserWarning)\n"
     ]
    },
    {
     "name": "stdout",
     "output_type": "stream",
     "text": [
      "0 Wine MLEXPLAIN\n"
     ]
    },
    {
     "name": "stderr",
     "output_type": "stream",
     "text": [
      "/home/rmazzine/anaconda3/envs/CF_Analysis/lib/python3.7/site-packages/sklearn/base.py:315: UserWarning: Trying to unpickle estimator StandardScaler from version 0.23.1 when using version 0.24.1. This might lead to breaking code or invalid results. Use at your own risk.\n",
      "  UserWarning)\n"
     ]
    },
    {
     "name": "stdout",
     "output_type": "stream",
     "text": [
      "1 HayesRoth LORE\n",
      "0 Lymphography MACE\n",
      "0 BalanceScale MLEXPLAIN\n",
      "0 SoybeanSmall ALIBIC\n",
      "1 StatlogGC SYNAS\n"
     ]
    },
    {
     "name": "stderr",
     "output_type": "stream",
     "text": [
      "/home/rmazzine/anaconda3/envs/CF_Analysis/lib/python3.7/site-packages/sklearn/base.py:315: UserWarning: Trying to unpickle estimator StandardScaler from version 0.23.1 when using version 0.24.1. This might lead to breaking code or invalid results. Use at your own risk.\n",
      "  UserWarning)\n"
     ]
    },
    {
     "name": "stdout",
     "output_type": "stream",
     "text": [
      "0 Ecoli DICE\n"
     ]
    },
    {
     "name": "stderr",
     "output_type": "stream",
     "text": [
      "/home/rmazzine/anaconda3/envs/CF_Analysis/lib/python3.7/site-packages/sklearn/base.py:315: UserWarning: Trying to unpickle estimator StandardScaler from version 0.23.1 when using version 0.24.1. This might lead to breaking code or invalid results. Use at your own risk.\n",
      "  UserWarning)\n"
     ]
    },
    {
     "name": "stdout",
     "output_type": "stream",
     "text": [
      "0 CarEvaluation MACE\n",
      "1 PBC GROWINGSPHERES3\n"
     ]
    },
    {
     "name": "stderr",
     "output_type": "stream",
     "text": [
      "/home/rmazzine/anaconda3/envs/CF_Analysis/lib/python3.7/site-packages/sklearn/base.py:315: UserWarning: Trying to unpickle estimator StandardScaler from version 0.23.1 when using version 0.24.1. This might lead to breaking code or invalid results. Use at your own risk.\n",
      "  UserWarning)\n",
      "/home/rmazzine/anaconda3/envs/CF_Analysis/lib/python3.7/site-packages/sklearn/base.py:315: UserWarning: Trying to unpickle estimator StandardScaler from version 0.23.1 when using version 0.24.1. This might lead to breaking code or invalid results. Use at your own risk.\n",
      "  UserWarning)\n"
     ]
    },
    {
     "name": "stdout",
     "output_type": "stream",
     "text": [
      "0 Ecoli ALIBICNOGRAD\n"
     ]
    },
    {
     "name": "stderr",
     "output_type": "stream",
     "text": [
      "/home/rmazzine/anaconda3/envs/CF_Analysis/lib/python3.7/site-packages/sklearn/base.py:315: UserWarning: Trying to unpickle estimator StandardScaler from version 0.23.1 when using version 0.24.1. This might lead to breaking code or invalid results. Use at your own risk.\n",
      "  UserWarning)\n"
     ]
    },
    {
     "name": "stdout",
     "output_type": "stream",
     "text": [
      "1 Nursery ALIBICNOGRAD\n",
      "1 TicTacToe ALIBIC\n",
      "0 StatlogGC DICE\n"
     ]
    },
    {
     "name": "stderr",
     "output_type": "stream",
     "text": [
      "/home/rmazzine/anaconda3/envs/CF_Analysis/lib/python3.7/site-packages/sklearn/base.py:315: UserWarning: Trying to unpickle estimator StandardScaler from version 0.23.1 when using version 0.24.1. This might lead to breaking code or invalid results. Use at your own risk.\n",
      "  UserWarning)\n"
     ]
    },
    {
     "name": "stdout",
     "output_type": "stream",
     "text": [
      "1 Adult SYNAS\n"
     ]
    },
    {
     "name": "stderr",
     "output_type": "stream",
     "text": [
      "/home/rmazzine/anaconda3/envs/CF_Analysis/lib/python3.7/site-packages/sklearn/base.py:315: UserWarning: Trying to unpickle estimator StandardScaler from version 0.23.1 when using version 0.24.1. This might lead to breaking code or invalid results. Use at your own risk.\n",
      "  UserWarning)\n"
     ]
    },
    {
     "name": "stdout",
     "output_type": "stream",
     "text": [
      "0 BalanceScale CADEX\n",
      "1 ISOLET ALIBIC\n"
     ]
    },
    {
     "name": "stderr",
     "output_type": "stream",
     "text": [
      "/home/rmazzine/anaconda3/envs/CF_Analysis/lib/python3.7/site-packages/sklearn/base.py:315: UserWarning: Trying to unpickle estimator StandardScaler from version 0.23.1 when using version 0.24.1. This might lead to breaking code or invalid results. Use at your own risk.\n",
      "  UserWarning)\n"
     ]
    },
    {
     "name": "stdout",
     "output_type": "stream",
     "text": [
      "1 BCW DICE\n"
     ]
    },
    {
     "name": "stderr",
     "output_type": "stream",
     "text": [
      "/home/rmazzine/anaconda3/envs/CF_Analysis/lib/python3.7/site-packages/sklearn/base.py:315: UserWarning: Trying to unpickle estimator StandardScaler from version 0.23.1 when using version 0.24.1. This might lead to breaking code or invalid results. Use at your own risk.\n",
      "  UserWarning)\n",
      "/home/rmazzine/anaconda3/envs/CF_Analysis/lib/python3.7/site-packages/sklearn/base.py:315: UserWarning: Trying to unpickle estimator StandardScaler from version 0.23.1 when using version 0.24.1. This might lead to breaking code or invalid results. Use at your own risk.\n",
      "  UserWarning)\n"
     ]
    },
    {
     "name": "stdout",
     "output_type": "stream",
     "text": [
      "0 TicTacToe GROWINGSPHERES3\n",
      "0 InternetAdv GROWINGSPHERES3\n"
     ]
    },
    {
     "name": "stderr",
     "output_type": "stream",
     "text": [
      "/home/rmazzine/anaconda3/envs/CF_Analysis/lib/python3.7/site-packages/sklearn/base.py:315: UserWarning: Trying to unpickle estimator StandardScaler from version 0.23.1 when using version 0.24.1. This might lead to breaking code or invalid results. Use at your own risk.\n",
      "  UserWarning)\n",
      "/home/rmazzine/anaconda3/envs/CF_Analysis/lib/python3.7/site-packages/sklearn/base.py:315: UserWarning: Trying to unpickle estimator StandardScaler from version 0.23.1 when using version 0.24.1. This might lead to breaking code or invalid results. Use at your own risk.\n",
      "  UserWarning)\n"
     ]
    },
    {
     "name": "stdout",
     "output_type": "stream",
     "text": [
      "1 Ecoli LORE\n",
      "1 TicTacToe ALIBICNOGRAD\n",
      "0 MagicGT LORE\n"
     ]
    },
    {
     "name": "stderr",
     "output_type": "stream",
     "text": [
      "/home/rmazzine/anaconda3/envs/CF_Analysis/lib/python3.7/site-packages/sklearn/base.py:315: UserWarning: Trying to unpickle estimator StandardScaler from version 0.23.1 when using version 0.24.1. This might lead to breaking code or invalid results. Use at your own risk.\n",
      "  UserWarning)\n"
     ]
    },
    {
     "name": "stdout",
     "output_type": "stream",
     "text": [
      "1 Nursery SEDC\n",
      "1 TicTacToe CADEX\n",
      "1 DefaultOfCCC SEDC\n"
     ]
    },
    {
     "name": "stderr",
     "output_type": "stream",
     "text": [
      "/home/rmazzine/anaconda3/envs/CF_Analysis/lib/python3.7/site-packages/sklearn/base.py:315: UserWarning: Trying to unpickle estimator StandardScaler from version 0.23.1 when using version 0.24.1. This might lead to breaking code or invalid results. Use at your own risk.\n",
      "  UserWarning)\n"
     ]
    },
    {
     "name": "stdout",
     "output_type": "stream",
     "text": [
      "1 StatlogGC LORE\n",
      "1 CMSC ALIBIC\n"
     ]
    },
    {
     "name": "stderr",
     "output_type": "stream",
     "text": [
      "/home/rmazzine/anaconda3/envs/CF_Analysis/lib/python3.7/site-packages/sklearn/base.py:315: UserWarning: Trying to unpickle estimator StandardScaler from version 0.23.1 when using version 0.24.1. This might lead to breaking code or invalid results. Use at your own risk.\n",
      "  UserWarning)\n"
     ]
    },
    {
     "name": "stdout",
     "output_type": "stream",
     "text": [
      "0 BalanceScale SYNAS\n",
      "1 Ecoli ALIBICNOGRAD\n"
     ]
    },
    {
     "name": "stderr",
     "output_type": "stream",
     "text": [
      "/home/rmazzine/anaconda3/envs/CF_Analysis/lib/python3.7/site-packages/sklearn/base.py:315: UserWarning: Trying to unpickle estimator StandardScaler from version 0.23.1 when using version 0.24.1. This might lead to breaking code or invalid results. Use at your own risk.\n",
      "  UserWarning)\n"
     ]
    },
    {
     "name": "stdout",
     "output_type": "stream",
     "text": [
      "0 PBC GROWINGSPHERES3\n"
     ]
    },
    {
     "name": "stderr",
     "output_type": "stream",
     "text": [
      "/home/rmazzine/anaconda3/envs/CF_Analysis/lib/python3.7/site-packages/sklearn/base.py:315: UserWarning: Trying to unpickle estimator StandardScaler from version 0.23.1 when using version 0.24.1. This might lead to breaking code or invalid results. Use at your own risk.\n",
      "  UserWarning)\n",
      "/home/rmazzine/anaconda3/envs/CF_Analysis/lib/python3.7/site-packages/sklearn/base.py:315: UserWarning: Trying to unpickle estimator StandardScaler from version 0.23.1 when using version 0.24.1. This might lead to breaking code or invalid results. Use at your own risk.\n",
      "  UserWarning)\n"
     ]
    },
    {
     "name": "stdout",
     "output_type": "stream",
     "text": [
      "1 StudentPerf GROWINGSPHERES3\n"
     ]
    },
    {
     "name": "stderr",
     "output_type": "stream",
     "text": [
      "/home/rmazzine/anaconda3/envs/CF_Analysis/lib/python3.7/site-packages/sklearn/base.py:315: UserWarning: Trying to unpickle estimator StandardScaler from version 0.23.1 when using version 0.24.1. This might lead to breaking code or invalid results. Use at your own risk.\n",
      "  UserWarning)\n"
     ]
    },
    {
     "name": "stdout",
     "output_type": "stream",
     "text": [
      "1 DefaultOfCCC DICE\n"
     ]
    },
    {
     "name": "stderr",
     "output_type": "stream",
     "text": [
      "/home/rmazzine/anaconda3/envs/CF_Analysis/lib/python3.7/site-packages/sklearn/base.py:315: UserWarning: Trying to unpickle estimator StandardScaler from version 0.23.1 when using version 0.24.1. This might lead to breaking code or invalid results. Use at your own risk.\n",
      "  UserWarning)\n"
     ]
    },
    {
     "name": "stdout",
     "output_type": "stream",
     "text": [
      "0 BalanceScale LORE\n",
      "1 CMSC LORE\n",
      "1 HayesRoth MACE\n",
      "1 MagicGT SEDC\n"
     ]
    },
    {
     "name": "stderr",
     "output_type": "stream",
     "text": [
      "/home/rmazzine/anaconda3/envs/CF_Analysis/lib/python3.7/site-packages/sklearn/base.py:315: UserWarning: Trying to unpickle estimator StandardScaler from version 0.23.1 when using version 0.24.1. This might lead to breaking code or invalid results. Use at your own risk.\n",
      "  UserWarning)\n"
     ]
    },
    {
     "name": "stdout",
     "output_type": "stream",
     "text": [
      "0 CarEvaluation GROWINGSPHERES3\n",
      "1 BalanceScale DICE\n",
      "0 Iris LORE\n",
      "1 SoybeanSmall MLEXPLAIN\n",
      "1 Lymphography CADEX\n",
      "1 Adult SEDC\n"
     ]
    },
    {
     "name": "stderr",
     "output_type": "stream",
     "text": [
      "/home/rmazzine/anaconda3/envs/CF_Analysis/lib/python3.7/site-packages/sklearn/base.py:315: UserWarning: Trying to unpickle estimator StandardScaler from version 0.23.1 when using version 0.24.1. This might lead to breaking code or invalid results. Use at your own risk.\n",
      "  UserWarning)\n"
     ]
    },
    {
     "name": "stdout",
     "output_type": "stream",
     "text": [
      "1 InternetAdv CADEX\n",
      "0 HayesRoth CADEX\n",
      "0 SoybeanSmall GROWINGSPHERES3\n",
      "0 Iris SYNAS\n"
     ]
    },
    {
     "name": "stderr",
     "output_type": "stream",
     "text": [
      "/home/rmazzine/anaconda3/envs/CF_Analysis/lib/python3.7/site-packages/sklearn/base.py:315: UserWarning: Trying to unpickle estimator StandardScaler from version 0.23.1 when using version 0.24.1. This might lead to breaking code or invalid results. Use at your own risk.\n",
      "  UserWarning)\n"
     ]
    },
    {
     "name": "stdout",
     "output_type": "stream",
     "text": [
      "1 PBC MACE\n"
     ]
    },
    {
     "name": "stderr",
     "output_type": "stream",
     "text": [
      "/home/rmazzine/anaconda3/envs/CF_Analysis/lib/python3.7/site-packages/sklearn/base.py:315: UserWarning: Trying to unpickle estimator StandardScaler from version 0.23.1 when using version 0.24.1. This might lead to breaking code or invalid results. Use at your own risk.\n",
      "  UserWarning)\n",
      "/home/rmazzine/anaconda3/envs/CF_Analysis/lib/python3.7/site-packages/sklearn/base.py:315: UserWarning: Trying to unpickle estimator StandardScaler from version 0.23.1 when using version 0.24.1. This might lead to breaking code or invalid results. Use at your own risk.\n",
      "  UserWarning)\n"
     ]
    },
    {
     "name": "stdout",
     "output_type": "stream",
     "text": [
      "1 CarEvaluation ALIBICNOGRAD\n",
      "0 MagicGT CADEX\n"
     ]
    },
    {
     "name": "stderr",
     "output_type": "stream",
     "text": [
      "/home/rmazzine/anaconda3/envs/CF_Analysis/lib/python3.7/site-packages/sklearn/base.py:315: UserWarning: Trying to unpickle estimator StandardScaler from version 0.23.1 when using version 0.24.1. This might lead to breaking code or invalid results. Use at your own risk.\n",
      "  UserWarning)\n"
     ]
    },
    {
     "name": "stdout",
     "output_type": "stream",
     "text": [
      "0 Adult CADEX\n"
     ]
    },
    {
     "name": "stderr",
     "output_type": "stream",
     "text": [
      "/home/rmazzine/anaconda3/envs/CF_Analysis/lib/python3.7/site-packages/sklearn/base.py:315: UserWarning: Trying to unpickle estimator StandardScaler from version 0.23.1 when using version 0.24.1. This might lead to breaking code or invalid results. Use at your own risk.\n",
      "  UserWarning)\n"
     ]
    },
    {
     "name": "stdout",
     "output_type": "stream",
     "text": [
      "1 SDD DICE\n"
     ]
    },
    {
     "name": "stderr",
     "output_type": "stream",
     "text": [
      "/home/rmazzine/anaconda3/envs/CF_Analysis/lib/python3.7/site-packages/sklearn/base.py:315: UserWarning: Trying to unpickle estimator StandardScaler from version 0.23.1 when using version 0.24.1. This might lead to breaking code or invalid results. Use at your own risk.\n",
      "  UserWarning)\n"
     ]
    },
    {
     "name": "stdout",
     "output_type": "stream",
     "text": [
      "0 ISOLET ALIBIC\n"
     ]
    },
    {
     "name": "stderr",
     "output_type": "stream",
     "text": [
      "/home/rmazzine/anaconda3/envs/CF_Analysis/lib/python3.7/site-packages/sklearn/base.py:315: UserWarning: Trying to unpickle estimator StandardScaler from version 0.23.1 when using version 0.24.1. This might lead to breaking code or invalid results. Use at your own risk.\n",
      "  UserWarning)\n"
     ]
    },
    {
     "name": "stdout",
     "output_type": "stream",
     "text": [
      "1 CarEvaluation SYNAS\n",
      "0 BCW CADEX\n"
     ]
    },
    {
     "name": "stderr",
     "output_type": "stream",
     "text": [
      "/home/rmazzine/anaconda3/envs/CF_Analysis/lib/python3.7/site-packages/sklearn/base.py:315: UserWarning: Trying to unpickle estimator StandardScaler from version 0.23.1 when using version 0.24.1. This might lead to breaking code or invalid results. Use at your own risk.\n",
      "  UserWarning)\n",
      "/home/rmazzine/anaconda3/envs/CF_Analysis/lib/python3.7/site-packages/sklearn/base.py:315: UserWarning: Trying to unpickle estimator StandardScaler from version 0.23.1 when using version 0.24.1. This might lead to breaking code or invalid results. Use at your own risk.\n",
      "  UserWarning)\n"
     ]
    },
    {
     "name": "stdout",
     "output_type": "stream",
     "text": [
      "0 Nursery DICE\n",
      "0 DefaultOfCCC ALIBIC\n"
     ]
    },
    {
     "name": "stderr",
     "output_type": "stream",
     "text": [
      "/home/rmazzine/anaconda3/envs/CF_Analysis/lib/python3.7/site-packages/sklearn/base.py:315: UserWarning: Trying to unpickle estimator StandardScaler from version 0.23.1 when using version 0.24.1. This might lead to breaking code or invalid results. Use at your own risk.\n",
      "  UserWarning)\n"
     ]
    },
    {
     "name": "stdout",
     "output_type": "stream",
     "text": [
      "0 StudentPerf DICE\n"
     ]
    },
    {
     "name": "stderr",
     "output_type": "stream",
     "text": [
      "/home/rmazzine/anaconda3/envs/CF_Analysis/lib/python3.7/site-packages/sklearn/base.py:315: UserWarning: Trying to unpickle estimator StandardScaler from version 0.23.1 when using version 0.24.1. This might lead to breaking code or invalid results. Use at your own risk.\n",
      "  UserWarning)\n"
     ]
    },
    {
     "name": "stdout",
     "output_type": "stream",
     "text": [
      "1 BalanceScale LORE\n",
      "1 StudentPerf MLEXPLAIN\n"
     ]
    },
    {
     "name": "stderr",
     "output_type": "stream",
     "text": [
      "/home/rmazzine/anaconda3/envs/CF_Analysis/lib/python3.7/site-packages/sklearn/base.py:315: UserWarning: Trying to unpickle estimator StandardScaler from version 0.23.1 when using version 0.24.1. This might lead to breaking code or invalid results. Use at your own risk.\n",
      "  UserWarning)\n"
     ]
    },
    {
     "name": "stdout",
     "output_type": "stream",
     "text": [
      "1 SoybeanSmall ALIBIC\n",
      "0 SDD SEDC\n",
      "0 TicTacToe CADEX\n",
      "0 Lymphography CADEX\n",
      "0 ISOLET GROWINGSPHERES3\n",
      "1 StudentPerf CADEX\n"
     ]
    },
    {
     "name": "stderr",
     "output_type": "stream",
     "text": [
      "/home/rmazzine/anaconda3/envs/CF_Analysis/lib/python3.7/site-packages/sklearn/base.py:315: UserWarning: Trying to unpickle estimator StandardScaler from version 0.23.1 when using version 0.24.1. This might lead to breaking code or invalid results. Use at your own risk.\n",
      "  UserWarning)\n"
     ]
    },
    {
     "name": "stdout",
     "output_type": "stream",
     "text": [
      "0 PBC DICE\n"
     ]
    },
    {
     "name": "stderr",
     "output_type": "stream",
     "text": [
      "/home/rmazzine/anaconda3/envs/CF_Analysis/lib/python3.7/site-packages/sklearn/base.py:315: UserWarning: Trying to unpickle estimator StandardScaler from version 0.23.1 when using version 0.24.1. This might lead to breaking code or invalid results. Use at your own risk.\n",
      "  UserWarning)\n",
      "/home/rmazzine/anaconda3/envs/CF_Analysis/lib/python3.7/site-packages/sklearn/base.py:315: UserWarning: Trying to unpickle estimator StandardScaler from version 0.23.1 when using version 0.24.1. This might lead to breaking code or invalid results. Use at your own risk.\n",
      "  UserWarning)\n"
     ]
    },
    {
     "name": "stdout",
     "output_type": "stream",
     "text": [
      "1 ISOLET DICE\n",
      "0 StatlogGC LORE\n",
      "0 Ecoli CADEX\n"
     ]
    },
    {
     "name": "stderr",
     "output_type": "stream",
     "text": [
      "/home/rmazzine/anaconda3/envs/CF_Analysis/lib/python3.7/site-packages/sklearn/base.py:315: UserWarning: Trying to unpickle estimator StandardScaler from version 0.23.1 when using version 0.24.1. This might lead to breaking code or invalid results. Use at your own risk.\n",
      "  UserWarning)\n"
     ]
    },
    {
     "name": "stdout",
     "output_type": "stream",
     "text": [
      "1 InternetAdv MLEXPLAIN\n"
     ]
    },
    {
     "name": "stderr",
     "output_type": "stream",
     "text": [
      "/home/rmazzine/anaconda3/envs/CF_Analysis/lib/python3.7/site-packages/sklearn/base.py:315: UserWarning: Trying to unpickle estimator StandardScaler from version 0.23.1 when using version 0.24.1. This might lead to breaking code or invalid results. Use at your own risk.\n",
      "  UserWarning)\n",
      "/home/rmazzine/anaconda3/envs/CF_Analysis/lib/python3.7/site-packages/sklearn/base.py:315: UserWarning: Trying to unpickle estimator StandardScaler from version 0.23.1 when using version 0.24.1. This might lead to breaking code or invalid results. Use at your own risk.\n",
      "  UserWarning)\n"
     ]
    },
    {
     "name": "stdout",
     "output_type": "stream",
     "text": [
      "1 CarEvaluation LORE\n",
      "1 CarEvaluation DICE\n",
      "0 InternetAdv DICE\n"
     ]
    },
    {
     "name": "stderr",
     "output_type": "stream",
     "text": [
      "/home/rmazzine/anaconda3/envs/CF_Analysis/lib/python3.7/site-packages/sklearn/base.py:315: UserWarning: Trying to unpickle estimator StandardScaler from version 0.23.1 when using version 0.24.1. This might lead to breaking code or invalid results. Use at your own risk.\n",
      "  UserWarning)\n",
      "/home/rmazzine/anaconda3/envs/CF_Analysis/lib/python3.7/site-packages/sklearn/base.py:315: UserWarning: Trying to unpickle estimator StandardScaler from version 0.23.1 when using version 0.24.1. This might lead to breaking code or invalid results. Use at your own risk.\n",
      "  UserWarning)\n"
     ]
    },
    {
     "name": "stdout",
     "output_type": "stream",
     "text": [
      "0 InternetAdv ALIBIC\n"
     ]
    },
    {
     "name": "stderr",
     "output_type": "stream",
     "text": [
      "/home/rmazzine/anaconda3/envs/CF_Analysis/lib/python3.7/site-packages/sklearn/base.py:315: UserWarning: Trying to unpickle estimator StandardScaler from version 0.23.1 when using version 0.24.1. This might lead to breaking code or invalid results. Use at your own risk.\n",
      "  UserWarning)\n",
      "/home/rmazzine/anaconda3/envs/CF_Analysis/lib/python3.7/site-packages/sklearn/base.py:315: UserWarning: Trying to unpickle estimator StandardScaler from version 0.23.1 when using version 0.24.1. This might lead to breaking code or invalid results. Use at your own risk.\n",
      "  UserWarning)\n"
     ]
    },
    {
     "name": "stdout",
     "output_type": "stream",
     "text": [
      "0 Wine MACE\n",
      "1 CarEvaluation GROWINGSPHERES3\n",
      "1 HayesRoth ALIBICNOGRAD\n",
      "1 Ecoli DICE\n"
     ]
    },
    {
     "name": "stderr",
     "output_type": "stream",
     "text": [
      "/home/rmazzine/anaconda3/envs/CF_Analysis/lib/python3.7/site-packages/sklearn/base.py:315: UserWarning: Trying to unpickle estimator StandardScaler from version 0.23.1 when using version 0.24.1. This might lead to breaking code or invalid results. Use at your own risk.\n",
      "  UserWarning)\n"
     ]
    },
    {
     "name": "stdout",
     "output_type": "stream",
     "text": [
      "1 CarEvaluation ALIBIC\n",
      "0 BCW ALIBICNOGRAD\n"
     ]
    },
    {
     "name": "stderr",
     "output_type": "stream",
     "text": [
      "/home/rmazzine/anaconda3/envs/CF_Analysis/lib/python3.7/site-packages/sklearn/base.py:315: UserWarning: Trying to unpickle estimator StandardScaler from version 0.23.1 when using version 0.24.1. This might lead to breaking code or invalid results. Use at your own risk.\n",
      "  UserWarning)\n",
      "/home/rmazzine/anaconda3/envs/CF_Analysis/lib/python3.7/site-packages/sklearn/base.py:315: UserWarning: Trying to unpickle estimator StandardScaler from version 0.23.1 when using version 0.24.1. This might lead to breaking code or invalid results. Use at your own risk.\n",
      "  UserWarning)\n"
     ]
    },
    {
     "name": "stdout",
     "output_type": "stream",
     "text": [
      "0 Chess CADEX\n",
      "1 CMSC ALIBICNOGRAD\n"
     ]
    },
    {
     "name": "stderr",
     "output_type": "stream",
     "text": [
      "/home/rmazzine/anaconda3/envs/CF_Analysis/lib/python3.7/site-packages/sklearn/base.py:315: UserWarning: Trying to unpickle estimator StandardScaler from version 0.23.1 when using version 0.24.1. This might lead to breaking code or invalid results. Use at your own risk.\n",
      "  UserWarning)\n"
     ]
    },
    {
     "name": "stdout",
     "output_type": "stream",
     "text": [
      "0 TicTacToe SYNAS\n",
      "1 BCW LORE\n",
      "1 StudentPerf ALIBICNOGRAD\n"
     ]
    },
    {
     "name": "stderr",
     "output_type": "stream",
     "text": [
      "/home/rmazzine/anaconda3/envs/CF_Analysis/lib/python3.7/site-packages/sklearn/base.py:315: UserWarning: Trying to unpickle estimator StandardScaler from version 0.23.1 when using version 0.24.1. This might lead to breaking code or invalid results. Use at your own risk.\n",
      "  UserWarning)\n"
     ]
    },
    {
     "name": "stdout",
     "output_type": "stream",
     "text": [
      "0 PBC SYNAS\n"
     ]
    },
    {
     "name": "stderr",
     "output_type": "stream",
     "text": [
      "/home/rmazzine/anaconda3/envs/CF_Analysis/lib/python3.7/site-packages/sklearn/base.py:315: UserWarning: Trying to unpickle estimator StandardScaler from version 0.23.1 when using version 0.24.1. This might lead to breaking code or invalid results. Use at your own risk.\n",
      "  UserWarning)\n",
      "/home/rmazzine/anaconda3/envs/CF_Analysis/lib/python3.7/site-packages/sklearn/base.py:315: UserWarning: Trying to unpickle estimator StandardScaler from version 0.23.1 when using version 0.24.1. This might lead to breaking code or invalid results. Use at your own risk.\n",
      "  UserWarning)\n"
     ]
    },
    {
     "name": "stdout",
     "output_type": "stream",
     "text": [
      "0 PBC SEDC\n"
     ]
    },
    {
     "name": "stderr",
     "output_type": "stream",
     "text": [
      "/home/rmazzine/anaconda3/envs/CF_Analysis/lib/python3.7/site-packages/sklearn/base.py:315: UserWarning: Trying to unpickle estimator StandardScaler from version 0.23.1 when using version 0.24.1. This might lead to breaking code or invalid results. Use at your own risk.\n",
      "  UserWarning)\n",
      "/home/rmazzine/anaconda3/envs/CF_Analysis/lib/python3.7/site-packages/sklearn/base.py:315: UserWarning: Trying to unpickle estimator StandardScaler from version 0.23.1 when using version 0.24.1. This might lead to breaking code or invalid results. Use at your own risk.\n",
      "  UserWarning)\n"
     ]
    },
    {
     "name": "stdout",
     "output_type": "stream",
     "text": [
      "0 DefaultOfCCC CADEX\n"
     ]
    },
    {
     "name": "stderr",
     "output_type": "stream",
     "text": [
      "/home/rmazzine/anaconda3/envs/CF_Analysis/lib/python3.7/site-packages/sklearn/base.py:315: UserWarning: Trying to unpickle estimator StandardScaler from version 0.23.1 when using version 0.24.1. This might lead to breaking code or invalid results. Use at your own risk.\n",
      "  UserWarning)\n"
     ]
    },
    {
     "name": "stdout",
     "output_type": "stream",
     "text": [
      "1 SDD MLEXPLAIN\n",
      "0 Iris GROWINGSPHERES3\n"
     ]
    },
    {
     "name": "stderr",
     "output_type": "stream",
     "text": [
      "/home/rmazzine/anaconda3/envs/CF_Analysis/lib/python3.7/site-packages/sklearn/base.py:315: UserWarning: Trying to unpickle estimator StandardScaler from version 0.23.1 when using version 0.24.1. This might lead to breaking code or invalid results. Use at your own risk.\n",
      "  UserWarning)\n"
     ]
    },
    {
     "name": "stdout",
     "output_type": "stream",
     "text": [
      "1 MagicGT MACE\n",
      "0 HayesRoth LORE\n",
      "0 Ecoli MACE\n"
     ]
    },
    {
     "name": "stderr",
     "output_type": "stream",
     "text": [
      "/home/rmazzine/anaconda3/envs/CF_Analysis/lib/python3.7/site-packages/sklearn/base.py:315: UserWarning: Trying to unpickle estimator StandardScaler from version 0.23.1 when using version 0.24.1. This might lead to breaking code or invalid results. Use at your own risk.\n",
      "  UserWarning)\n"
     ]
    },
    {
     "name": "stdout",
     "output_type": "stream",
     "text": [
      "1 StatlogGC GROWINGSPHERES3\n"
     ]
    },
    {
     "name": "stderr",
     "output_type": "stream",
     "text": [
      "/home/rmazzine/anaconda3/envs/CF_Analysis/lib/python3.7/site-packages/sklearn/base.py:315: UserWarning: Trying to unpickle estimator StandardScaler from version 0.23.1 when using version 0.24.1. This might lead to breaking code or invalid results. Use at your own risk.\n",
      "  UserWarning)\n"
     ]
    },
    {
     "name": "stdout",
     "output_type": "stream",
     "text": [
      "0 DefaultOfCCC SYNAS\n"
     ]
    },
    {
     "name": "stderr",
     "output_type": "stream",
     "text": [
      "/home/rmazzine/anaconda3/envs/CF_Analysis/lib/python3.7/site-packages/sklearn/base.py:315: UserWarning: Trying to unpickle estimator StandardScaler from version 0.23.1 when using version 0.24.1. This might lead to breaking code or invalid results. Use at your own risk.\n",
      "  UserWarning)\n"
     ]
    },
    {
     "name": "stdout",
     "output_type": "stream",
     "text": [
      "0 BCW GROWINGSPHERES3\n"
     ]
    },
    {
     "name": "stderr",
     "output_type": "stream",
     "text": [
      "/home/rmazzine/anaconda3/envs/CF_Analysis/lib/python3.7/site-packages/sklearn/base.py:315: UserWarning: Trying to unpickle estimator StandardScaler from version 0.23.1 when using version 0.24.1. This might lead to breaking code or invalid results. Use at your own risk.\n",
      "  UserWarning)\n",
      "/home/rmazzine/anaconda3/envs/CF_Analysis/lib/python3.7/site-packages/sklearn/base.py:315: UserWarning: Trying to unpickle estimator StandardScaler from version 0.23.1 when using version 0.24.1. This might lead to breaking code or invalid results. Use at your own risk.\n",
      "  UserWarning)\n"
     ]
    },
    {
     "name": "stdout",
     "output_type": "stream",
     "text": [
      "1 Lymphography ALIBIC\n",
      "1 SoybeanSmall GROWINGSPHERES3\n",
      "1 SDD MACE\n"
     ]
    },
    {
     "name": "stderr",
     "output_type": "stream",
     "text": [
      "/home/rmazzine/anaconda3/envs/CF_Analysis/lib/python3.7/site-packages/sklearn/base.py:315: UserWarning: Trying to unpickle estimator StandardScaler from version 0.23.1 when using version 0.24.1. This might lead to breaking code or invalid results. Use at your own risk.\n",
      "  UserWarning)\n"
     ]
    },
    {
     "name": "stdout",
     "output_type": "stream",
     "text": [
      "1 Lymphography LORE\n",
      "1 Ecoli MLEXPLAIN\n",
      "0 StatlogGC ALIBICNOGRAD\n"
     ]
    },
    {
     "name": "stderr",
     "output_type": "stream",
     "text": [
      "/home/rmazzine/anaconda3/envs/CF_Analysis/lib/python3.7/site-packages/sklearn/base.py:315: UserWarning: Trying to unpickle estimator StandardScaler from version 0.23.1 when using version 0.24.1. This might lead to breaking code or invalid results. Use at your own risk.\n",
      "  UserWarning)\n"
     ]
    },
    {
     "name": "stdout",
     "output_type": "stream",
     "text": [
      "1 StatlogGC ALIBICNOGRAD\n"
     ]
    },
    {
     "name": "stderr",
     "output_type": "stream",
     "text": [
      "/home/rmazzine/anaconda3/envs/CF_Analysis/lib/python3.7/site-packages/sklearn/base.py:315: UserWarning: Trying to unpickle estimator StandardScaler from version 0.23.1 when using version 0.24.1. This might lead to breaking code or invalid results. Use at your own risk.\n",
      "  UserWarning)\n"
     ]
    },
    {
     "name": "stdout",
     "output_type": "stream",
     "text": [
      "1 Lymphography SEDC\n",
      "0 CMSC GROWINGSPHERES3\n"
     ]
    },
    {
     "name": "stderr",
     "output_type": "stream",
     "text": [
      "/home/rmazzine/anaconda3/envs/CF_Analysis/lib/python3.7/site-packages/sklearn/base.py:315: UserWarning: Trying to unpickle estimator StandardScaler from version 0.23.1 when using version 0.24.1. This might lead to breaking code or invalid results. Use at your own risk.\n",
      "  UserWarning)\n"
     ]
    },
    {
     "name": "stdout",
     "output_type": "stream",
     "text": [
      "0 TicTacToe MACE\n",
      "0 CMSC SYNAS\n"
     ]
    },
    {
     "name": "stderr",
     "output_type": "stream",
     "text": [
      "/home/rmazzine/anaconda3/envs/CF_Analysis/lib/python3.7/site-packages/sklearn/base.py:315: UserWarning: Trying to unpickle estimator StandardScaler from version 0.23.1 when using version 0.24.1. This might lead to breaking code or invalid results. Use at your own risk.\n",
      "  UserWarning)\n"
     ]
    },
    {
     "name": "stdout",
     "output_type": "stream",
     "text": [
      "0 InternetAdv SEDC\n"
     ]
    },
    {
     "name": "stderr",
     "output_type": "stream",
     "text": [
      "/home/rmazzine/anaconda3/envs/CF_Analysis/lib/python3.7/site-packages/sklearn/base.py:315: UserWarning: Trying to unpickle estimator StandardScaler from version 0.23.1 when using version 0.24.1. This might lead to breaking code or invalid results. Use at your own risk.\n",
      "  UserWarning)\n",
      "/home/rmazzine/anaconda3/envs/CF_Analysis/lib/python3.7/site-packages/sklearn/base.py:315: UserWarning: Trying to unpickle estimator StandardScaler from version 0.23.1 when using version 0.24.1. This might lead to breaking code or invalid results. Use at your own risk.\n",
      "  UserWarning)\n"
     ]
    },
    {
     "name": "stdout",
     "output_type": "stream",
     "text": [
      "0 Nursery ALIBIC\n",
      "0 Ecoli GROWINGSPHERES3\n"
     ]
    },
    {
     "name": "stderr",
     "output_type": "stream",
     "text": [
      "/home/rmazzine/anaconda3/envs/CF_Analysis/lib/python3.7/site-packages/sklearn/base.py:315: UserWarning: Trying to unpickle estimator StandardScaler from version 0.23.1 when using version 0.24.1. This might lead to breaking code or invalid results. Use at your own risk.\n",
      "  UserWarning)\n"
     ]
    },
    {
     "name": "stdout",
     "output_type": "stream",
     "text": [
      "0 SDD CADEX\n"
     ]
    },
    {
     "name": "stderr",
     "output_type": "stream",
     "text": [
      "/home/rmazzine/anaconda3/envs/CF_Analysis/lib/python3.7/site-packages/sklearn/base.py:315: UserWarning: Trying to unpickle estimator StandardScaler from version 0.23.1 when using version 0.24.1. This might lead to breaking code or invalid results. Use at your own risk.\n",
      "  UserWarning)\n"
     ]
    },
    {
     "name": "stdout",
     "output_type": "stream",
     "text": [
      "0 PBC ALIBIC\n"
     ]
    },
    {
     "name": "stderr",
     "output_type": "stream",
     "text": [
      "/home/rmazzine/anaconda3/envs/CF_Analysis/lib/python3.7/site-packages/sklearn/base.py:315: UserWarning: Trying to unpickle estimator StandardScaler from version 0.23.1 when using version 0.24.1. This might lead to breaking code or invalid results. Use at your own risk.\n",
      "  UserWarning)\n",
      "/home/rmazzine/anaconda3/envs/CF_Analysis/lib/python3.7/site-packages/sklearn/base.py:315: UserWarning: Trying to unpickle estimator StandardScaler from version 0.23.1 when using version 0.24.1. This might lead to breaking code or invalid results. Use at your own risk.\n",
      "  UserWarning)\n"
     ]
    },
    {
     "name": "stdout",
     "output_type": "stream",
     "text": [
      "0 Wine CADEX\n"
     ]
    },
    {
     "name": "stderr",
     "output_type": "stream",
     "text": [
      "/home/rmazzine/anaconda3/envs/CF_Analysis/lib/python3.7/site-packages/sklearn/base.py:315: UserWarning: Trying to unpickle estimator StandardScaler from version 0.23.1 when using version 0.24.1. This might lead to breaking code or invalid results. Use at your own risk.\n",
      "  UserWarning)\n"
     ]
    },
    {
     "name": "stdout",
     "output_type": "stream",
     "text": [
      "1 HayesRoth ALIBIC\n",
      "1 Iris LORE\n"
     ]
    },
    {
     "name": "stderr",
     "output_type": "stream",
     "text": [
      "/home/rmazzine/anaconda3/envs/CF_Analysis/lib/python3.7/site-packages/sklearn/base.py:315: UserWarning: Trying to unpickle estimator StandardScaler from version 0.23.1 when using version 0.24.1. This might lead to breaking code or invalid results. Use at your own risk.\n",
      "  UserWarning)\n"
     ]
    },
    {
     "name": "stdout",
     "output_type": "stream",
     "text": [
      "0 MagicGT GROWINGSPHERES3\n"
     ]
    },
    {
     "name": "stderr",
     "output_type": "stream",
     "text": [
      "/home/rmazzine/anaconda3/envs/CF_Analysis/lib/python3.7/site-packages/sklearn/base.py:315: UserWarning: Trying to unpickle estimator StandardScaler from version 0.23.1 when using version 0.24.1. This might lead to breaking code or invalid results. Use at your own risk.\n",
      "  UserWarning)\n"
     ]
    },
    {
     "name": "stdout",
     "output_type": "stream",
     "text": [
      "1 BCW MLEXPLAIN\n",
      "1 Chess CADEX\n",
      "1 BCW SYNAS\n"
     ]
    },
    {
     "name": "stderr",
     "output_type": "stream",
     "text": [
      "/home/rmazzine/anaconda3/envs/CF_Analysis/lib/python3.7/site-packages/sklearn/base.py:315: UserWarning: Trying to unpickle estimator StandardScaler from version 0.23.1 when using version 0.24.1. This might lead to breaking code or invalid results. Use at your own risk.\n",
      "  UserWarning)\n",
      "/home/rmazzine/anaconda3/envs/CF_Analysis/lib/python3.7/site-packages/sklearn/base.py:315: UserWarning: Trying to unpickle estimator StandardScaler from version 0.23.1 when using version 0.24.1. This might lead to breaking code or invalid results. Use at your own risk.\n",
      "  UserWarning)\n"
     ]
    },
    {
     "name": "stdout",
     "output_type": "stream",
     "text": [
      "0 Wine DICE\n"
     ]
    },
    {
     "name": "stderr",
     "output_type": "stream",
     "text": [
      "/home/rmazzine/anaconda3/envs/CF_Analysis/lib/python3.7/site-packages/sklearn/base.py:315: UserWarning: Trying to unpickle estimator StandardScaler from version 0.23.1 when using version 0.24.1. This might lead to breaking code or invalid results. Use at your own risk.\n",
      "  UserWarning)\n"
     ]
    },
    {
     "name": "stdout",
     "output_type": "stream",
     "text": [
      "0 Ecoli LORE\n",
      "1 BCW SEDC\n"
     ]
    },
    {
     "name": "stderr",
     "output_type": "stream",
     "text": [
      "/home/rmazzine/anaconda3/envs/CF_Analysis/lib/python3.7/site-packages/sklearn/base.py:315: UserWarning: Trying to unpickle estimator StandardScaler from version 0.23.1 when using version 0.24.1. This might lead to breaking code or invalid results. Use at your own risk.\n",
      "  UserWarning)\n",
      "/home/rmazzine/anaconda3/envs/CF_Analysis/lib/python3.7/site-packages/sklearn/base.py:315: UserWarning: Trying to unpickle estimator StandardScaler from version 0.23.1 when using version 0.24.1. This might lead to breaking code or invalid results. Use at your own risk.\n",
      "  UserWarning)\n"
     ]
    },
    {
     "name": "stdout",
     "output_type": "stream",
     "text": [
      "1 Nursery GROWINGSPHERES3\n",
      "1 PBC LORE\n"
     ]
    },
    {
     "name": "stderr",
     "output_type": "stream",
     "text": [
      "/home/rmazzine/anaconda3/envs/CF_Analysis/lib/python3.7/site-packages/sklearn/base.py:315: UserWarning: Trying to unpickle estimator StandardScaler from version 0.23.1 when using version 0.24.1. This might lead to breaking code or invalid results. Use at your own risk.\n",
      "  UserWarning)\n",
      "/home/rmazzine/anaconda3/envs/CF_Analysis/lib/python3.7/site-packages/sklearn/base.py:315: UserWarning: Trying to unpickle estimator StandardScaler from version 0.23.1 when using version 0.24.1. This might lead to breaking code or invalid results. Use at your own risk.\n",
      "  UserWarning)\n"
     ]
    },
    {
     "name": "stdout",
     "output_type": "stream",
     "text": [
      "1 MagicGT GROWINGSPHERES3\n"
     ]
    },
    {
     "name": "stderr",
     "output_type": "stream",
     "text": [
      "/home/rmazzine/anaconda3/envs/CF_Analysis/lib/python3.7/site-packages/sklearn/base.py:315: UserWarning: Trying to unpickle estimator StandardScaler from version 0.23.1 when using version 0.24.1. This might lead to breaking code or invalid results. Use at your own risk.\n",
      "  UserWarning)\n"
     ]
    },
    {
     "name": "stdout",
     "output_type": "stream",
     "text": [
      "1 Wine SYNAS\n"
     ]
    },
    {
     "name": "stderr",
     "output_type": "stream",
     "text": [
      "/home/rmazzine/anaconda3/envs/CF_Analysis/lib/python3.7/site-packages/sklearn/base.py:315: UserWarning: Trying to unpickle estimator StandardScaler from version 0.23.1 when using version 0.24.1. This might lead to breaking code or invalid results. Use at your own risk.\n",
      "  UserWarning)\n"
     ]
    },
    {
     "name": "stdout",
     "output_type": "stream",
     "text": [
      "0 Iris MACE\n",
      "1 Chess LORE\n",
      "1 Wine MACE\n",
      "0 Iris ALIBIC\n"
     ]
    },
    {
     "name": "stderr",
     "output_type": "stream",
     "text": [
      "/home/rmazzine/anaconda3/envs/CF_Analysis/lib/python3.7/site-packages/sklearn/base.py:315: UserWarning: Trying to unpickle estimator StandardScaler from version 0.23.1 when using version 0.24.1. This might lead to breaking code or invalid results. Use at your own risk.\n",
      "  UserWarning)\n"
     ]
    },
    {
     "name": "stdout",
     "output_type": "stream",
     "text": [
      "1 PBC ALIBIC\n"
     ]
    },
    {
     "name": "stderr",
     "output_type": "stream",
     "text": [
      "/home/rmazzine/anaconda3/envs/CF_Analysis/lib/python3.7/site-packages/sklearn/base.py:315: UserWarning: Trying to unpickle estimator StandardScaler from version 0.23.1 when using version 0.24.1. This might lead to breaking code or invalid results. Use at your own risk.\n",
      "  UserWarning)\n",
      "/home/rmazzine/anaconda3/envs/CF_Analysis/lib/python3.7/site-packages/sklearn/base.py:315: UserWarning: Trying to unpickle estimator StandardScaler from version 0.23.1 when using version 0.24.1. This might lead to breaking code or invalid results. Use at your own risk.\n",
      "  UserWarning)\n"
     ]
    },
    {
     "name": "stdout",
     "output_type": "stream",
     "text": [
      "0 StatlogGC MLEXPLAIN\n",
      "1 SDD SYNAS\n",
      "0 CMSC LORE\n"
     ]
    },
    {
     "name": "stderr",
     "output_type": "stream",
     "text": [
      "/home/rmazzine/anaconda3/envs/CF_Analysis/lib/python3.7/site-packages/sklearn/base.py:315: UserWarning: Trying to unpickle estimator StandardScaler from version 0.23.1 when using version 0.24.1. This might lead to breaking code or invalid results. Use at your own risk.\n",
      "  UserWarning)\n"
     ]
    },
    {
     "name": "stdout",
     "output_type": "stream",
     "text": [
      "0 Chess SYNAS\n",
      "1 Iris DICE\n",
      "0 SDD ALIBIC\n",
      "0 CarEvaluation CADEX\n",
      "0 Iris SEDC\n"
     ]
    },
    {
     "name": "stderr",
     "output_type": "stream",
     "text": [
      "/home/rmazzine/anaconda3/envs/CF_Analysis/lib/python3.7/site-packages/sklearn/base.py:315: UserWarning: Trying to unpickle estimator StandardScaler from version 0.23.1 when using version 0.24.1. This might lead to breaking code or invalid results. Use at your own risk.\n",
      "  UserWarning)\n"
     ]
    },
    {
     "name": "stdout",
     "output_type": "stream",
     "text": [
      "0 PBC MACE\n"
     ]
    },
    {
     "name": "stderr",
     "output_type": "stream",
     "text": [
      "/home/rmazzine/anaconda3/envs/CF_Analysis/lib/python3.7/site-packages/sklearn/base.py:315: UserWarning: Trying to unpickle estimator StandardScaler from version 0.23.1 when using version 0.24.1. This might lead to breaking code or invalid results. Use at your own risk.\n",
      "  UserWarning)\n",
      "/home/rmazzine/anaconda3/envs/CF_Analysis/lib/python3.7/site-packages/sklearn/base.py:315: UserWarning: Trying to unpickle estimator StandardScaler from version 0.23.1 when using version 0.24.1. This might lead to breaking code or invalid results. Use at your own risk.\n",
      "  UserWarning)\n"
     ]
    },
    {
     "name": "stdout",
     "output_type": "stream",
     "text": [
      "0 HayesRoth DICE\n",
      "1 PBC MLEXPLAIN\n"
     ]
    },
    {
     "name": "stderr",
     "output_type": "stream",
     "text": [
      "/home/rmazzine/anaconda3/envs/CF_Analysis/lib/python3.7/site-packages/sklearn/base.py:315: UserWarning: Trying to unpickle estimator StandardScaler from version 0.23.1 when using version 0.24.1. This might lead to breaking code or invalid results. Use at your own risk.\n",
      "  UserWarning)\n",
      "/home/rmazzine/anaconda3/envs/CF_Analysis/lib/python3.7/site-packages/sklearn/base.py:315: UserWarning: Trying to unpickle estimator StandardScaler from version 0.23.1 when using version 0.24.1. This might lead to breaking code or invalid results. Use at your own risk.\n",
      "  UserWarning)\n"
     ]
    },
    {
     "name": "stdout",
     "output_type": "stream",
     "text": [
      "0 Wine ALIBIC\n"
     ]
    },
    {
     "name": "stderr",
     "output_type": "stream",
     "text": [
      "/home/rmazzine/anaconda3/envs/CF_Analysis/lib/python3.7/site-packages/sklearn/base.py:315: UserWarning: Trying to unpickle estimator StandardScaler from version 0.23.1 when using version 0.24.1. This might lead to breaking code or invalid results. Use at your own risk.\n",
      "  UserWarning)\n"
     ]
    },
    {
     "name": "stdout",
     "output_type": "stream",
     "text": [
      "1 SoybeanSmall SYNAS\n",
      "1 Iris ALIBICNOGRAD\n"
     ]
    },
    {
     "name": "stderr",
     "output_type": "stream",
     "text": [
      "/home/rmazzine/anaconda3/envs/CF_Analysis/lib/python3.7/site-packages/sklearn/base.py:315: UserWarning: Trying to unpickle estimator StandardScaler from version 0.23.1 when using version 0.24.1. This might lead to breaking code or invalid results. Use at your own risk.\n",
      "  UserWarning)\n"
     ]
    },
    {
     "name": "stdout",
     "output_type": "stream",
     "text": [
      "0 Nursery LORE\n",
      "1 TicTacToe SYNAS\n",
      "1 Chess GROWINGSPHERES3\n",
      "1 SoybeanSmall LORE\n",
      "1 CarEvaluation CADEX\n",
      "1 DefaultOfCCC GROWINGSPHERES3\n"
     ]
    },
    {
     "name": "stderr",
     "output_type": "stream",
     "text": [
      "/home/rmazzine/anaconda3/envs/CF_Analysis/lib/python3.7/site-packages/sklearn/base.py:315: UserWarning: Trying to unpickle estimator StandardScaler from version 0.23.1 when using version 0.24.1. This might lead to breaking code or invalid results. Use at your own risk.\n",
      "  UserWarning)\n"
     ]
    },
    {
     "name": "stdout",
     "output_type": "stream",
     "text": [
      "1 Wine MLEXPLAIN\n"
     ]
    },
    {
     "name": "stderr",
     "output_type": "stream",
     "text": [
      "/home/rmazzine/anaconda3/envs/CF_Analysis/lib/python3.7/site-packages/sklearn/base.py:315: UserWarning: Trying to unpickle estimator StandardScaler from version 0.23.1 when using version 0.24.1. This might lead to breaking code or invalid results. Use at your own risk.\n",
      "  UserWarning)\n"
     ]
    },
    {
     "name": "stdout",
     "output_type": "stream",
     "text": [
      "0 MagicGT DICE\n"
     ]
    },
    {
     "name": "stderr",
     "output_type": "stream",
     "text": [
      "/home/rmazzine/anaconda3/envs/CF_Analysis/lib/python3.7/site-packages/sklearn/base.py:315: UserWarning: Trying to unpickle estimator StandardScaler from version 0.23.1 when using version 0.24.1. This might lead to breaking code or invalid results. Use at your own risk.\n",
      "  UserWarning)\n"
     ]
    },
    {
     "name": "stdout",
     "output_type": "stream",
     "text": [
      "1 Chess DICE\n",
      "1 StudentPerf ALIBIC\n"
     ]
    },
    {
     "name": "stderr",
     "output_type": "stream",
     "text": [
      "/home/rmazzine/anaconda3/envs/CF_Analysis/lib/python3.7/site-packages/sklearn/base.py:315: UserWarning: Trying to unpickle estimator StandardScaler from version 0.23.1 when using version 0.24.1. This might lead to breaking code or invalid results. Use at your own risk.\n",
      "  UserWarning)\n"
     ]
    },
    {
     "name": "stdout",
     "output_type": "stream",
     "text": [
      "0 MagicGT SEDC\n"
     ]
    },
    {
     "name": "stderr",
     "output_type": "stream",
     "text": [
      "/home/rmazzine/anaconda3/envs/CF_Analysis/lib/python3.7/site-packages/sklearn/base.py:315: UserWarning: Trying to unpickle estimator StandardScaler from version 0.23.1 when using version 0.24.1. This might lead to breaking code or invalid results. Use at your own risk.\n",
      "  UserWarning)\n"
     ]
    },
    {
     "name": "stdout",
     "output_type": "stream",
     "text": [
      "0 Lymphography DICE\n",
      "1 Lymphography DICE\n",
      "0 Chess MACE\n",
      "1 TicTacToe MACE\n",
      "1 InternetAdv LORE\n"
     ]
    },
    {
     "name": "stderr",
     "output_type": "stream",
     "text": [
      "/home/rmazzine/anaconda3/envs/CF_Analysis/lib/python3.7/site-packages/sklearn/base.py:315: UserWarning: Trying to unpickle estimator StandardScaler from version 0.23.1 when using version 0.24.1. This might lead to breaking code or invalid results. Use at your own risk.\n",
      "  UserWarning)\n",
      "/home/rmazzine/anaconda3/envs/CF_Analysis/lib/python3.7/site-packages/sklearn/base.py:315: UserWarning: Trying to unpickle estimator StandardScaler from version 0.23.1 when using version 0.24.1. This might lead to breaking code or invalid results. Use at your own risk.\n",
      "  UserWarning)\n"
     ]
    },
    {
     "name": "stdout",
     "output_type": "stream",
     "text": [
      "1 BCW GROWINGSPHERES3\n"
     ]
    },
    {
     "name": "stderr",
     "output_type": "stream",
     "text": [
      "/home/rmazzine/anaconda3/envs/CF_Analysis/lib/python3.7/site-packages/sklearn/base.py:315: UserWarning: Trying to unpickle estimator StandardScaler from version 0.23.1 when using version 0.24.1. This might lead to breaking code or invalid results. Use at your own risk.\n",
      "  UserWarning)\n",
      "/home/rmazzine/anaconda3/envs/CF_Analysis/lib/python3.7/site-packages/sklearn/base.py:315: UserWarning: Trying to unpickle estimator StandardScaler from version 0.23.1 when using version 0.24.1. This might lead to breaking code or invalid results. Use at your own risk.\n",
      "  UserWarning)\n"
     ]
    },
    {
     "name": "stdout",
     "output_type": "stream",
     "text": [
      "1 PBC CADEX\n"
     ]
    },
    {
     "name": "stderr",
     "output_type": "stream",
     "text": [
      "/home/rmazzine/anaconda3/envs/CF_Analysis/lib/python3.7/site-packages/sklearn/base.py:315: UserWarning: Trying to unpickle estimator StandardScaler from version 0.23.1 when using version 0.24.1. This might lead to breaking code or invalid results. Use at your own risk.\n",
      "  UserWarning)\n",
      "/home/rmazzine/anaconda3/envs/CF_Analysis/lib/python3.7/site-packages/sklearn/base.py:315: UserWarning: Trying to unpickle estimator StandardScaler from version 0.23.1 when using version 0.24.1. This might lead to breaking code or invalid results. Use at your own risk.\n",
      "  UserWarning)\n"
     ]
    },
    {
     "name": "stdout",
     "output_type": "stream",
     "text": [
      "1 HayesRoth MLEXPLAIN\n",
      "0 SDD ALIBICNOGRAD\n",
      "1 TicTacToe DICE\n",
      "0 Ecoli MLEXPLAIN\n",
      "0 CarEvaluation MLEXPLAIN\n",
      "0 Adult ALIBICNOGRAD\n"
     ]
    },
    {
     "name": "stderr",
     "output_type": "stream",
     "text": [
      "/home/rmazzine/anaconda3/envs/CF_Analysis/lib/python3.7/site-packages/sklearn/base.py:315: UserWarning: Trying to unpickle estimator StandardScaler from version 0.23.1 when using version 0.24.1. This might lead to breaking code or invalid results. Use at your own risk.\n",
      "  UserWarning)\n"
     ]
    },
    {
     "name": "stdout",
     "output_type": "stream",
     "text": [
      "1 StudentPerf SYNAS\n"
     ]
    },
    {
     "name": "stderr",
     "output_type": "stream",
     "text": [
      "/home/rmazzine/anaconda3/envs/CF_Analysis/lib/python3.7/site-packages/sklearn/base.py:315: UserWarning: Trying to unpickle estimator StandardScaler from version 0.23.1 when using version 0.24.1. This might lead to breaking code or invalid results. Use at your own risk.\n",
      "  UserWarning)\n"
     ]
    },
    {
     "name": "stdout",
     "output_type": "stream",
     "text": [
      "1 DefaultOfCCC SYNAS\n"
     ]
    },
    {
     "name": "stderr",
     "output_type": "stream",
     "text": [
      "/home/rmazzine/anaconda3/envs/CF_Analysis/lib/python3.7/site-packages/sklearn/base.py:315: UserWarning: Trying to unpickle estimator StandardScaler from version 0.23.1 when using version 0.24.1. This might lead to breaking code or invalid results. Use at your own risk.\n",
      "  UserWarning)\n"
     ]
    },
    {
     "name": "stdout",
     "output_type": "stream",
     "text": [
      "0 CarEvaluation SYNAS\n",
      "1 CMSC GROWINGSPHERES3\n"
     ]
    },
    {
     "name": "stderr",
     "output_type": "stream",
     "text": [
      "/home/rmazzine/anaconda3/envs/CF_Analysis/lib/python3.7/site-packages/sklearn/base.py:315: UserWarning: Trying to unpickle estimator StandardScaler from version 0.23.1 when using version 0.24.1. This might lead to breaking code or invalid results. Use at your own risk.\n",
      "  UserWarning)\n"
     ]
    },
    {
     "name": "stdout",
     "output_type": "stream",
     "text": [
      "1 Lymphography MLEXPLAIN\n",
      "0 SDD GROWINGSPHERES3\n"
     ]
    },
    {
     "name": "stderr",
     "output_type": "stream",
     "text": [
      "/home/rmazzine/anaconda3/envs/CF_Analysis/lib/python3.7/site-packages/sklearn/base.py:315: UserWarning: Trying to unpickle estimator StandardScaler from version 0.23.1 when using version 0.24.1. This might lead to breaking code or invalid results. Use at your own risk.\n",
      "  UserWarning)\n"
     ]
    },
    {
     "name": "stdout",
     "output_type": "stream",
     "text": [
      "1 CarEvaluation SEDC\n",
      "0 SoybeanSmall DICE\n",
      "0 Adult SEDC\n"
     ]
    },
    {
     "name": "stderr",
     "output_type": "stream",
     "text": [
      "/home/rmazzine/anaconda3/envs/CF_Analysis/lib/python3.7/site-packages/sklearn/base.py:315: UserWarning: Trying to unpickle estimator StandardScaler from version 0.23.1 when using version 0.24.1. This might lead to breaking code or invalid results. Use at your own risk.\n",
      "  UserWarning)\n"
     ]
    },
    {
     "name": "stdout",
     "output_type": "stream",
     "text": [
      "0 Iris CADEX\n"
     ]
    },
    {
     "name": "stderr",
     "output_type": "stream",
     "text": [
      "/home/rmazzine/anaconda3/envs/CF_Analysis/lib/python3.7/site-packages/sklearn/base.py:315: UserWarning: Trying to unpickle estimator StandardScaler from version 0.23.1 when using version 0.24.1. This might lead to breaking code or invalid results. Use at your own risk.\n",
      "  UserWarning)\n"
     ]
    },
    {
     "name": "stdout",
     "output_type": "stream",
     "text": [
      "1 SDD SEDC\n"
     ]
    },
    {
     "name": "stderr",
     "output_type": "stream",
     "text": [
      "/home/rmazzine/anaconda3/envs/CF_Analysis/lib/python3.7/site-packages/sklearn/base.py:315: UserWarning: Trying to unpickle estimator StandardScaler from version 0.23.1 when using version 0.24.1. This might lead to breaking code or invalid results. Use at your own risk.\n",
      "  UserWarning)\n"
     ]
    },
    {
     "name": "stdout",
     "output_type": "stream",
     "text": [
      "1 Nursery ALIBIC\n",
      "0 CMSC ALIBIC\n"
     ]
    },
    {
     "name": "stderr",
     "output_type": "stream",
     "text": [
      "/home/rmazzine/anaconda3/envs/CF_Analysis/lib/python3.7/site-packages/sklearn/base.py:315: UserWarning: Trying to unpickle estimator StandardScaler from version 0.23.1 when using version 0.24.1. This might lead to breaking code or invalid results. Use at your own risk.\n",
      "  UserWarning)\n"
     ]
    },
    {
     "name": "stdout",
     "output_type": "stream",
     "text": [
      "1 PBC SYNAS\n"
     ]
    },
    {
     "name": "stderr",
     "output_type": "stream",
     "text": [
      "/home/rmazzine/anaconda3/envs/CF_Analysis/lib/python3.7/site-packages/sklearn/base.py:315: UserWarning: Trying to unpickle estimator StandardScaler from version 0.23.1 when using version 0.24.1. This might lead to breaking code or invalid results. Use at your own risk.\n",
      "  UserWarning)\n",
      "/home/rmazzine/anaconda3/envs/CF_Analysis/lib/python3.7/site-packages/sklearn/base.py:315: UserWarning: Trying to unpickle estimator StandardScaler from version 0.23.1 when using version 0.24.1. This might lead to breaking code or invalid results. Use at your own risk.\n",
      "  UserWarning)\n"
     ]
    },
    {
     "name": "stdout",
     "output_type": "stream",
     "text": [
      "0 Nursery CADEX\n",
      "1 ISOLET MLEXPLAIN\n"
     ]
    },
    {
     "name": "stderr",
     "output_type": "stream",
     "text": [
      "/home/rmazzine/anaconda3/envs/CF_Analysis/lib/python3.7/site-packages/sklearn/base.py:315: UserWarning: Trying to unpickle estimator StandardScaler from version 0.23.1 when using version 0.24.1. This might lead to breaking code or invalid results. Use at your own risk.\n",
      "  UserWarning)\n"
     ]
    },
    {
     "name": "stdout",
     "output_type": "stream",
     "text": [
      "0 HayesRoth ALIBIC\n",
      "0 TicTacToe ALIBIC\n",
      "1 InternetAdv ALIBIC\n"
     ]
    },
    {
     "name": "stderr",
     "output_type": "stream",
     "text": [
      "/home/rmazzine/anaconda3/envs/CF_Analysis/lib/python3.7/site-packages/sklearn/base.py:315: UserWarning: Trying to unpickle estimator StandardScaler from version 0.23.1 when using version 0.24.1. This might lead to breaking code or invalid results. Use at your own risk.\n",
      "  UserWarning)\n",
      "/home/rmazzine/anaconda3/envs/CF_Analysis/lib/python3.7/site-packages/sklearn/base.py:315: UserWarning: Trying to unpickle estimator StandardScaler from version 0.23.1 when using version 0.24.1. This might lead to breaking code or invalid results. Use at your own risk.\n",
      "  UserWarning)\n"
     ]
    },
    {
     "name": "stdout",
     "output_type": "stream",
     "text": [
      "1 BalanceScale MLEXPLAIN\n",
      "1 StudentPerf DICE\n"
     ]
    },
    {
     "name": "stderr",
     "output_type": "stream",
     "text": [
      "/home/rmazzine/anaconda3/envs/CF_Analysis/lib/python3.7/site-packages/sklearn/base.py:315: UserWarning: Trying to unpickle estimator StandardScaler from version 0.23.1 when using version 0.24.1. This might lead to breaking code or invalid results. Use at your own risk.\n",
      "  UserWarning)\n"
     ]
    },
    {
     "name": "stdout",
     "output_type": "stream",
     "text": [
      "1 Adult LORE\n"
     ]
    },
    {
     "name": "stderr",
     "output_type": "stream",
     "text": [
      "/home/rmazzine/anaconda3/envs/CF_Analysis/lib/python3.7/site-packages/sklearn/base.py:315: UserWarning: Trying to unpickle estimator StandardScaler from version 0.23.1 when using version 0.24.1. This might lead to breaking code or invalid results. Use at your own risk.\n",
      "  UserWarning)\n"
     ]
    },
    {
     "name": "stdout",
     "output_type": "stream",
     "text": [
      "1 BCW ALIBICNOGRAD\n"
     ]
    },
    {
     "name": "stderr",
     "output_type": "stream",
     "text": [
      "/home/rmazzine/anaconda3/envs/CF_Analysis/lib/python3.7/site-packages/sklearn/base.py:315: UserWarning: Trying to unpickle estimator StandardScaler from version 0.23.1 when using version 0.24.1. This might lead to breaking code or invalid results. Use at your own risk.\n",
      "  UserWarning)\n",
      "/home/rmazzine/anaconda3/envs/CF_Analysis/lib/python3.7/site-packages/sklearn/base.py:315: UserWarning: Trying to unpickle estimator StandardScaler from version 0.23.1 when using version 0.24.1. This might lead to breaking code or invalid results. Use at your own risk.\n",
      "  UserWarning)\n"
     ]
    },
    {
     "name": "stdout",
     "output_type": "stream",
     "text": [
      "0 BCW DICE\n"
     ]
    },
    {
     "name": "stderr",
     "output_type": "stream",
     "text": [
      "/home/rmazzine/anaconda3/envs/CF_Analysis/lib/python3.7/site-packages/sklearn/base.py:315: UserWarning: Trying to unpickle estimator StandardScaler from version 0.23.1 when using version 0.24.1. This might lead to breaking code or invalid results. Use at your own risk.\n",
      "  UserWarning)\n",
      "/home/rmazzine/anaconda3/envs/CF_Analysis/lib/python3.7/site-packages/sklearn/base.py:315: UserWarning: Trying to unpickle estimator StandardScaler from version 0.23.1 when using version 0.24.1. This might lead to breaking code or invalid results. Use at your own risk.\n",
      "  UserWarning)\n"
     ]
    },
    {
     "name": "stdout",
     "output_type": "stream",
     "text": [
      "0 Wine SYNAS\n"
     ]
    },
    {
     "name": "stderr",
     "output_type": "stream",
     "text": [
      "/home/rmazzine/anaconda3/envs/CF_Analysis/lib/python3.7/site-packages/sklearn/base.py:315: UserWarning: Trying to unpickle estimator StandardScaler from version 0.23.1 when using version 0.24.1. This might lead to breaking code or invalid results. Use at your own risk.\n",
      "  UserWarning)\n"
     ]
    },
    {
     "name": "stdout",
     "output_type": "stream",
     "text": [
      "0 HayesRoth ALIBICNOGRAD\n",
      "0 MagicGT ALIBIC\n"
     ]
    },
    {
     "name": "stderr",
     "output_type": "stream",
     "text": [
      "/home/rmazzine/anaconda3/envs/CF_Analysis/lib/python3.7/site-packages/sklearn/base.py:315: UserWarning: Trying to unpickle estimator StandardScaler from version 0.23.1 when using version 0.24.1. This might lead to breaking code or invalid results. Use at your own risk.\n",
      "  UserWarning)\n"
     ]
    },
    {
     "name": "stdout",
     "output_type": "stream",
     "text": [
      "0 Chess ALIBICNOGRAD\n",
      "1 Lymphography GROWINGSPHERES3\n",
      "1 StatlogGC ALIBIC\n"
     ]
    },
    {
     "name": "stderr",
     "output_type": "stream",
     "text": [
      "/home/rmazzine/anaconda3/envs/CF_Analysis/lib/python3.7/site-packages/sklearn/base.py:315: UserWarning: Trying to unpickle estimator StandardScaler from version 0.23.1 when using version 0.24.1. This might lead to breaking code or invalid results. Use at your own risk.\n",
      "  UserWarning)\n"
     ]
    },
    {
     "name": "stdout",
     "output_type": "stream",
     "text": [
      "0 Chess ALIBIC\n",
      "0 CarEvaluation SEDC\n",
      "1 MagicGT SYNAS\n"
     ]
    },
    {
     "name": "stderr",
     "output_type": "stream",
     "text": [
      "/home/rmazzine/anaconda3/envs/CF_Analysis/lib/python3.7/site-packages/sklearn/base.py:315: UserWarning: Trying to unpickle estimator StandardScaler from version 0.23.1 when using version 0.24.1. This might lead to breaking code or invalid results. Use at your own risk.\n",
      "  UserWarning)\n"
     ]
    },
    {
     "name": "stdout",
     "output_type": "stream",
     "text": [
      "1 CarEvaluation MLEXPLAIN\n",
      "0 DefaultOfCCC GROWINGSPHERES3\n"
     ]
    },
    {
     "name": "stderr",
     "output_type": "stream",
     "text": [
      "/home/rmazzine/anaconda3/envs/CF_Analysis/lib/python3.7/site-packages/sklearn/base.py:315: UserWarning: Trying to unpickle estimator StandardScaler from version 0.23.1 when using version 0.24.1. This might lead to breaking code or invalid results. Use at your own risk.\n",
      "  UserWarning)\n"
     ]
    },
    {
     "name": "stdout",
     "output_type": "stream",
     "text": [
      "0 Wine LORE\n"
     ]
    },
    {
     "name": "stderr",
     "output_type": "stream",
     "text": [
      "/home/rmazzine/anaconda3/envs/CF_Analysis/lib/python3.7/site-packages/sklearn/base.py:315: UserWarning: Trying to unpickle estimator StandardScaler from version 0.23.1 when using version 0.24.1. This might lead to breaking code or invalid results. Use at your own risk.\n",
      "  UserWarning)\n"
     ]
    },
    {
     "name": "stdout",
     "output_type": "stream",
     "text": [
      "1 BalanceScale GROWINGSPHERES3\n",
      "0 Nursery GROWINGSPHERES3\n",
      "0 Adult SYNAS\n"
     ]
    },
    {
     "name": "stderr",
     "output_type": "stream",
     "text": [
      "/home/rmazzine/anaconda3/envs/CF_Analysis/lib/python3.7/site-packages/sklearn/base.py:315: UserWarning: Trying to unpickle estimator StandardScaler from version 0.23.1 when using version 0.24.1. This might lead to breaking code or invalid results. Use at your own risk.\n",
      "  UserWarning)\n"
     ]
    },
    {
     "name": "stdout",
     "output_type": "stream",
     "text": [
      "0 MagicGT MLEXPLAIN\n"
     ]
    },
    {
     "name": "stderr",
     "output_type": "stream",
     "text": [
      "/home/rmazzine/anaconda3/envs/CF_Analysis/lib/python3.7/site-packages/sklearn/base.py:315: UserWarning: Trying to unpickle estimator StandardScaler from version 0.23.1 when using version 0.24.1. This might lead to breaking code or invalid results. Use at your own risk.\n",
      "  UserWarning)\n"
     ]
    },
    {
     "name": "stdout",
     "output_type": "stream",
     "text": [
      "0 CMSC ALIBICNOGRAD\n"
     ]
    },
    {
     "name": "stderr",
     "output_type": "stream",
     "text": [
      "/home/rmazzine/anaconda3/envs/CF_Analysis/lib/python3.7/site-packages/sklearn/base.py:315: UserWarning: Trying to unpickle estimator StandardScaler from version 0.23.1 when using version 0.24.1. This might lead to breaking code or invalid results. Use at your own risk.\n",
      "  UserWarning)\n"
     ]
    },
    {
     "name": "stdout",
     "output_type": "stream",
     "text": [
      "0 Lymphography MLEXPLAIN\n",
      "1 TicTacToe GROWINGSPHERES3\n",
      "0 ISOLET DICE\n"
     ]
    },
    {
     "name": "stderr",
     "output_type": "stream",
     "text": [
      "/home/rmazzine/anaconda3/envs/CF_Analysis/lib/python3.7/site-packages/sklearn/base.py:315: UserWarning: Trying to unpickle estimator StandardScaler from version 0.23.1 when using version 0.24.1. This might lead to breaking code or invalid results. Use at your own risk.\n",
      "  UserWarning)\n"
     ]
    },
    {
     "name": "stdout",
     "output_type": "stream",
     "text": [
      "1 Wine DICE\n"
     ]
    },
    {
     "name": "stderr",
     "output_type": "stream",
     "text": [
      "/home/rmazzine/anaconda3/envs/CF_Analysis/lib/python3.7/site-packages/sklearn/base.py:315: UserWarning: Trying to unpickle estimator StandardScaler from version 0.23.1 when using version 0.24.1. This might lead to breaking code or invalid results. Use at your own risk.\n",
      "  UserWarning)\n"
     ]
    },
    {
     "name": "stdout",
     "output_type": "stream",
     "text": [
      "0 BCW ALIBIC\n"
     ]
    },
    {
     "name": "stderr",
     "output_type": "stream",
     "text": [
      "/home/rmazzine/anaconda3/envs/CF_Analysis/lib/python3.7/site-packages/sklearn/base.py:315: UserWarning: Trying to unpickle estimator StandardScaler from version 0.23.1 when using version 0.24.1. This might lead to breaking code or invalid results. Use at your own risk.\n",
      "  UserWarning)\n",
      "/home/rmazzine/anaconda3/envs/CF_Analysis/lib/python3.7/site-packages/sklearn/base.py:315: UserWarning: Trying to unpickle estimator StandardScaler from version 0.23.1 when using version 0.24.1. This might lead to breaking code or invalid results. Use at your own risk.\n",
      "  UserWarning)\n"
     ]
    },
    {
     "name": "stdout",
     "output_type": "stream",
     "text": [
      "1 BCW ALIBIC\n"
     ]
    },
    {
     "name": "stderr",
     "output_type": "stream",
     "text": [
      "/home/rmazzine/anaconda3/envs/CF_Analysis/lib/python3.7/site-packages/sklearn/base.py:315: UserWarning: Trying to unpickle estimator StandardScaler from version 0.23.1 when using version 0.24.1. This might lead to breaking code or invalid results. Use at your own risk.\n",
      "  UserWarning)\n",
      "/home/rmazzine/anaconda3/envs/CF_Analysis/lib/python3.7/site-packages/sklearn/base.py:315: UserWarning: Trying to unpickle estimator StandardScaler from version 0.23.1 when using version 0.24.1. This might lead to breaking code or invalid results. Use at your own risk.\n",
      "  UserWarning)\n"
     ]
    },
    {
     "name": "stdout",
     "output_type": "stream",
     "text": [
      "0 Adult LORE\n",
      "1 Iris MACE\n"
     ]
    },
    {
     "name": "stderr",
     "output_type": "stream",
     "text": [
      "/home/rmazzine/anaconda3/envs/CF_Analysis/lib/python3.7/site-packages/sklearn/base.py:315: UserWarning: Trying to unpickle estimator StandardScaler from version 0.23.1 when using version 0.24.1. This might lead to breaking code or invalid results. Use at your own risk.\n",
      "  UserWarning)\n"
     ]
    },
    {
     "name": "stdout",
     "output_type": "stream",
     "text": [
      "0 CarEvaluation ALIBIC\n",
      "1 StudentPerf SEDC\n"
     ]
    },
    {
     "name": "stderr",
     "output_type": "stream",
     "text": [
      "/home/rmazzine/anaconda3/envs/CF_Analysis/lib/python3.7/site-packages/sklearn/base.py:315: UserWarning: Trying to unpickle estimator StandardScaler from version 0.23.1 when using version 0.24.1. This might lead to breaking code or invalid results. Use at your own risk.\n",
      "  UserWarning)\n"
     ]
    },
    {
     "name": "stdout",
     "output_type": "stream",
     "text": [
      "1 HayesRoth CADEX\n",
      "1 HayesRoth SYNAS\n",
      "1 Wine SEDC\n"
     ]
    },
    {
     "name": "stderr",
     "output_type": "stream",
     "text": [
      "/home/rmazzine/anaconda3/envs/CF_Analysis/lib/python3.7/site-packages/sklearn/base.py:315: UserWarning: Trying to unpickle estimator StandardScaler from version 0.23.1 when using version 0.24.1. This might lead to breaking code or invalid results. Use at your own risk.\n",
      "  UserWarning)\n"
     ]
    },
    {
     "name": "stdout",
     "output_type": "stream",
     "text": [
      "0 BalanceScale MACE\n",
      "0 Nursery MACE\n",
      "0 ISOLET CADEX\n"
     ]
    },
    {
     "name": "stderr",
     "output_type": "stream",
     "text": [
      "/home/rmazzine/anaconda3/envs/CF_Analysis/lib/python3.7/site-packages/sklearn/base.py:315: UserWarning: Trying to unpickle estimator StandardScaler from version 0.23.1 when using version 0.24.1. This might lead to breaking code or invalid results. Use at your own risk.\n",
      "  UserWarning)\n"
     ]
    },
    {
     "name": "stdout",
     "output_type": "stream",
     "text": [
      "1 Wine GROWINGSPHERES3\n"
     ]
    },
    {
     "name": "stderr",
     "output_type": "stream",
     "text": [
      "/home/rmazzine/anaconda3/envs/CF_Analysis/lib/python3.7/site-packages/sklearn/base.py:315: UserWarning: Trying to unpickle estimator StandardScaler from version 0.23.1 when using version 0.24.1. This might lead to breaking code or invalid results. Use at your own risk.\n",
      "  UserWarning)\n"
     ]
    },
    {
     "name": "stdout",
     "output_type": "stream",
     "text": [
      "1 Iris GROWINGSPHERES3\n"
     ]
    },
    {
     "name": "stderr",
     "output_type": "stream",
     "text": [
      "/home/rmazzine/anaconda3/envs/CF_Analysis/lib/python3.7/site-packages/sklearn/base.py:315: UserWarning: Trying to unpickle estimator StandardScaler from version 0.23.1 when using version 0.24.1. This might lead to breaking code or invalid results. Use at your own risk.\n",
      "  UserWarning)\n"
     ]
    },
    {
     "name": "stdout",
     "output_type": "stream",
     "text": [
      "1 Iris MLEXPLAIN\n"
     ]
    },
    {
     "name": "stderr",
     "output_type": "stream",
     "text": [
      "/home/rmazzine/anaconda3/envs/CF_Analysis/lib/python3.7/site-packages/sklearn/base.py:315: UserWarning: Trying to unpickle estimator StandardScaler from version 0.23.1 when using version 0.24.1. This might lead to breaking code or invalid results. Use at your own risk.\n",
      "  UserWarning)\n"
     ]
    },
    {
     "name": "stdout",
     "output_type": "stream",
     "text": [
      "1 DefaultOfCCC ALIBICNOGRAD\n"
     ]
    },
    {
     "name": "stderr",
     "output_type": "stream",
     "text": [
      "/home/rmazzine/anaconda3/envs/CF_Analysis/lib/python3.7/site-packages/sklearn/base.py:315: UserWarning: Trying to unpickle estimator StandardScaler from version 0.23.1 when using version 0.24.1. This might lead to breaking code or invalid results. Use at your own risk.\n",
      "  UserWarning)\n"
     ]
    },
    {
     "name": "stdout",
     "output_type": "stream",
     "text": [
      "0 PBC MLEXPLAIN\n"
     ]
    },
    {
     "name": "stderr",
     "output_type": "stream",
     "text": [
      "/home/rmazzine/anaconda3/envs/CF_Analysis/lib/python3.7/site-packages/sklearn/base.py:315: UserWarning: Trying to unpickle estimator StandardScaler from version 0.23.1 when using version 0.24.1. This might lead to breaking code or invalid results. Use at your own risk.\n",
      "  UserWarning)\n",
      "/home/rmazzine/anaconda3/envs/CF_Analysis/lib/python3.7/site-packages/sklearn/base.py:315: UserWarning: Trying to unpickle estimator StandardScaler from version 0.23.1 when using version 0.24.1. This might lead to breaking code or invalid results. Use at your own risk.\n",
      "  UserWarning)\n"
     ]
    },
    {
     "name": "stdout",
     "output_type": "stream",
     "text": [
      "1 StatlogGC MLEXPLAIN\n",
      "0 InternetAdv CADEX\n"
     ]
    },
    {
     "name": "stderr",
     "output_type": "stream",
     "text": [
      "/home/rmazzine/anaconda3/envs/CF_Analysis/lib/python3.7/site-packages/sklearn/base.py:315: UserWarning: Trying to unpickle estimator StandardScaler from version 0.23.1 when using version 0.24.1. This might lead to breaking code or invalid results. Use at your own risk.\n",
      "  UserWarning)\n",
      "/home/rmazzine/anaconda3/envs/CF_Analysis/lib/python3.7/site-packages/sklearn/base.py:315: UserWarning: Trying to unpickle estimator StandardScaler from version 0.23.1 when using version 0.24.1. This might lead to breaking code or invalid results. Use at your own risk.\n",
      "  UserWarning)\n"
     ]
    },
    {
     "name": "stdout",
     "output_type": "stream",
     "text": [
      "1 Chess SEDC\n",
      "1 ISOLET LORE\n",
      "0 Chess GROWINGSPHERES3\n",
      "0 BalanceScale GROWINGSPHERES3\n",
      "1 Iris SEDC\n"
     ]
    },
    {
     "name": "stderr",
     "output_type": "stream",
     "text": [
      "/home/rmazzine/anaconda3/envs/CF_Analysis/lib/python3.7/site-packages/sklearn/base.py:315: UserWarning: Trying to unpickle estimator StandardScaler from version 0.23.1 when using version 0.24.1. This might lead to breaking code or invalid results. Use at your own risk.\n",
      "  UserWarning)\n"
     ]
    },
    {
     "name": "stdout",
     "output_type": "stream",
     "text": [
      "1 BalanceScale MACE\n",
      "0 SDD LORE\n",
      "1 Lymphography ALIBICNOGRAD\n",
      "0 CMSC MLEXPLAIN\n"
     ]
    },
    {
     "name": "stderr",
     "output_type": "stream",
     "text": [
      "/home/rmazzine/anaconda3/envs/CF_Analysis/lib/python3.7/site-packages/sklearn/base.py:315: UserWarning: Trying to unpickle estimator StandardScaler from version 0.23.1 when using version 0.24.1. This might lead to breaking code or invalid results. Use at your own risk.\n",
      "  UserWarning)\n"
     ]
    },
    {
     "name": "stdout",
     "output_type": "stream",
     "text": [
      "1 Wine LORE\n"
     ]
    },
    {
     "name": "stderr",
     "output_type": "stream",
     "text": [
      "/home/rmazzine/anaconda3/envs/CF_Analysis/lib/python3.7/site-packages/sklearn/base.py:315: UserWarning: Trying to unpickle estimator StandardScaler from version 0.23.1 when using version 0.24.1. This might lead to breaking code or invalid results. Use at your own risk.\n",
      "  UserWarning)\n"
     ]
    },
    {
     "name": "stdout",
     "output_type": "stream",
     "text": [
      "1 CarEvaluation MACE\n",
      "1 ISOLET CADEX\n"
     ]
    },
    {
     "name": "stderr",
     "output_type": "stream",
     "text": [
      "/home/rmazzine/anaconda3/envs/CF_Analysis/lib/python3.7/site-packages/sklearn/base.py:315: UserWarning: Trying to unpickle estimator StandardScaler from version 0.23.1 when using version 0.24.1. This might lead to breaking code or invalid results. Use at your own risk.\n",
      "  UserWarning)\n"
     ]
    },
    {
     "name": "stdout",
     "output_type": "stream",
     "text": [
      "0 DefaultOfCCC LORE\n",
      "0 StatlogGC ALIBIC\n"
     ]
    },
    {
     "name": "stderr",
     "output_type": "stream",
     "text": [
      "/home/rmazzine/anaconda3/envs/CF_Analysis/lib/python3.7/site-packages/sklearn/base.py:315: UserWarning: Trying to unpickle estimator StandardScaler from version 0.23.1 when using version 0.24.1. This might lead to breaking code or invalid results. Use at your own risk.\n",
      "  UserWarning)\n"
     ]
    },
    {
     "name": "stdout",
     "output_type": "stream",
     "text": [
      "1 MagicGT DICE\n"
     ]
    },
    {
     "name": "stderr",
     "output_type": "stream",
     "text": [
      "/home/rmazzine/anaconda3/envs/CF_Analysis/lib/python3.7/site-packages/sklearn/base.py:315: UserWarning: Trying to unpickle estimator StandardScaler from version 0.23.1 when using version 0.24.1. This might lead to breaking code or invalid results. Use at your own risk.\n",
      "  UserWarning)\n"
     ]
    },
    {
     "name": "stdout",
     "output_type": "stream",
     "text": [
      "0 CMSC CADEX\n"
     ]
    },
    {
     "name": "stderr",
     "output_type": "stream",
     "text": [
      "/home/rmazzine/anaconda3/envs/CF_Analysis/lib/python3.7/site-packages/sklearn/base.py:315: UserWarning: Trying to unpickle estimator StandardScaler from version 0.23.1 when using version 0.24.1. This might lead to breaking code or invalid results. Use at your own risk.\n",
      "  UserWarning)\n"
     ]
    },
    {
     "name": "stdout",
     "output_type": "stream",
     "text": [
      "0 StudentPerf ALIBICNOGRAD\n"
     ]
    },
    {
     "name": "stderr",
     "output_type": "stream",
     "text": [
      "/home/rmazzine/anaconda3/envs/CF_Analysis/lib/python3.7/site-packages/sklearn/base.py:315: UserWarning: Trying to unpickle estimator StandardScaler from version 0.23.1 when using version 0.24.1. This might lead to breaking code or invalid results. Use at your own risk.\n",
      "  UserWarning)\n"
     ]
    },
    {
     "name": "stdout",
     "output_type": "stream",
     "text": [
      "0 Chess MLEXPLAIN\n",
      "1 Nursery MACE\n",
      "0 StudentPerf CADEX\n",
      "0 StudentPerf MLEXPLAIN\n"
     ]
    },
    {
     "name": "stderr",
     "output_type": "stream",
     "text": [
      "/home/rmazzine/anaconda3/envs/CF_Analysis/lib/python3.7/site-packages/sklearn/base.py:315: UserWarning: Trying to unpickle estimator StandardScaler from version 0.23.1 when using version 0.24.1. This might lead to breaking code or invalid results. Use at your own risk.\n",
      "  UserWarning)\n"
     ]
    },
    {
     "name": "stdout",
     "output_type": "stream",
     "text": [
      "0 TicTacToe LORE\n",
      "1 DefaultOfCCC ALIBIC\n"
     ]
    },
    {
     "name": "stderr",
     "output_type": "stream",
     "text": [
      "/home/rmazzine/anaconda3/envs/CF_Analysis/lib/python3.7/site-packages/sklearn/base.py:315: UserWarning: Trying to unpickle estimator StandardScaler from version 0.23.1 when using version 0.24.1. This might lead to breaking code or invalid results. Use at your own risk.\n",
      "  UserWarning)\n"
     ]
    },
    {
     "name": "stdout",
     "output_type": "stream",
     "text": [
      "0 HayesRoth SYNAS\n",
      "1 SDD CADEX\n"
     ]
    },
    {
     "name": "stderr",
     "output_type": "stream",
     "text": [
      "/home/rmazzine/anaconda3/envs/CF_Analysis/lib/python3.7/site-packages/sklearn/base.py:315: UserWarning: Trying to unpickle estimator StandardScaler from version 0.23.1 when using version 0.24.1. This might lead to breaking code or invalid results. Use at your own risk.\n",
      "  UserWarning)\n"
     ]
    }
   ],
   "source": [
    "dict_results = {}\n",
    "for file in processed_results:\n",
    "    if file.split('_')[0] != 'TIME':\n",
    "        n = file.split('_')[0]\n",
    "        if n == 'STABILITY':\n",
    "            continue\n",
    "        dsName = file.split('_')[1]\n",
    "        framework = file.split('_')[2].split('.')[0]\n",
    "\n",
    "        cat_feats = VAR_TYPES[dsName]['categorical']\n",
    "        num_feats = VAR_TYPES[dsName]['numerical']\n",
    "\n",
    "        model_keras = load_model(f'./models/{dsName}.h5')\n",
    "\n",
    "        # Get architecture info and pass to our NN architecture\n",
    "        input_shape = model_keras.get_weights()[0].shape[0]\n",
    "        hidden_layers_ws = model_keras.get_weights()[0].shape[1]\n",
    "\n",
    "        adapted_nn = _nn_ohe(input_shape, hidden_layers_ws, 1)\n",
    "        adapted_nn.build(input_shape=input_shape)\n",
    "\n",
    "        adapted_nn.layers[1].set_weights(model_keras.layers[0].get_weights())\n",
    "        adapted_nn.layers[2].set_weights(model_keras.layers[1].get_weights())\n",
    "\n",
    "        if n == 1:\n",
    "            # If the tested class is the minority, revert output order\n",
    "            second_layer_w = []\n",
    "            for w_row in model_keras.layers[1].get_weights()[0]:\n",
    "                second_layer_w.append(np.flip(w_row).tolist())\n",
    "\n",
    "            second_layer_b = np.flip(model_keras.layers[1].get_weights()[1])\n",
    "\n",
    "            second_layer = [np.array(second_layer_w, dtype=np.float32),\n",
    "                            np.array(second_layer_b, dtype=np.float32)]\n",
    "            adapted_nn.layers[2].set_weights(second_layer)\n",
    "\n",
    "        adapted_nn.layers[3].set_weights(\n",
    "            [np.array([[0.0], [1.0]], dtype=np.float32), np.array([0.0], dtype=np.float32)])\n",
    "        \n",
    "        if len(num_feats) > 0:\n",
    "            df = pd.read_csv(f'./data/NORM_{dsName}.csv')\n",
    "        else:\n",
    "            df = pd.read_csv(f'./data/{dsName}.csv')\n",
    "\n",
    "        if len(cat_feats) > 0 and len(num_feats) > 0:\n",
    "            df_oh = pd.read_csv(f'./data/OH_NORM_{dsName}.csv')\n",
    "        elif len(cat_feats) > 0:\n",
    "            df_oh = pd.read_csv(f'./data/OH_{dsName}.csv')\n",
    "        else:\n",
    "            df_oh = pd.read_csv(f'./data/NORM_{dsName}.csv')\n",
    "        \n",
    "        df_cf = pd.read_csv(f'./results/processed/{n}_{dsName}_{framework}.csv')\n",
    "        df_train = pd.read_csv(f'./experiments_data/{dsName}_TRAINDATASET.csv')\n",
    "        df_fc = pd.read_csv(f'./experiments_data/{dsName}_CFDATASET_{n}.csv').drop(columns=['Unnamed: 0']) \n",
    "        converter = OHConverter.Converter(df, cat_feats, list(df_oh.columns))\n",
    "\n",
    "        print(n, dsName, framework)\n",
    "\n",
    "        scoreValidityTotal = validity_total(df_cf, df_fc, adapted_nn)\n",
    "        scoreValidityFound = validity_found(df_cf, df_fc, adapted_nn)\n",
    "        scoreSparsity = sparsity(df_cf, df_fc, cat_feats, adapted_nn, converter)\n",
    "        scoreL2 = l2(df_cf, df_fc, cat_feats, adapted_nn, converter)\n",
    "        scoreMadd = madd(df_oh, df_cf, df_fc, cat_feats, num_feats, adapted_nn, converter)\n",
    "        scoreMd = md(df_oh, df_cf, df_fc, cat_feats, num_feats, adapted_nn, converter)\n",
    "\n",
    "        df_cf_found, df_fc_found = get_cleaned_processed(df_cf, df_fc, cat_feats, adapted_nn, converter)\n",
    "\n",
    "        ruc = []\n",
    "        rmc = []\n",
    "\n",
    "        scoreCheckBinCat = check_binary_categorical(df_oh, df_cf, df_fc, cat_feats, num_feats, adapted_nn, converter)\n",
    "        if scoreCheckBinCat is not np.nan:\n",
    "            ruc.append(scoreCheckBinCat)\n",
    "\n",
    "        scoreCheckOutsideNumRange = check_outside_num_range(dsName, df_oh, df_cf, df_fc, cat_feats, num_feats, adapted_nn,\n",
    "                                                            converter)\n",
    "        if scoreCheckOutsideNumRange is not np.nan:\n",
    "            ruc.append(scoreCheckOutsideNumRange)\n",
    "\n",
    "        scoreCheckOneHotIntegrity = check_one_hot_integrity(df_oh, df_cf, df_fc, cat_feats, num_feats, adapted_nn, converter)\n",
    "        if scoreCheckOneHotIntegrity is not np.nan:\n",
    "            rmc.append(scoreCheckOneHotIntegrity)\n",
    "\n",
    "        if dsName in list(dict_functions.keys()):\n",
    "            custom_ruc_functions = dict_functions[dsName]['ruc']\n",
    "            custom_rmc_functions = dict_functions[dsName]['rmc']\n",
    "\n",
    "            for c_ruc_function in custom_ruc_functions:\n",
    "                output_ruc = c_ruc_function(dsName, df_oh, df_cf, df_fc, cat_feats, num_feats, adapted_nn, converter)\n",
    "                if output_ruc is not np.nan:\n",
    "                    ruc.append(output_ruc)\n",
    "                else:\n",
    "                    assert len(ruc) == 0\n",
    "\n",
    "            for c_rmc_function in custom_rmc_functions:\n",
    "                output_rmc = c_rmc_function(dsName, df_oh, df_cf, df_fc, cat_feats, num_feats, adapted_nn, converter)\n",
    "                if output_rmc is not np.nan:\n",
    "                    rmc.append(output_rmc)\n",
    "                else:\n",
    "                    assert len(rmc) == 0\n",
    "\n",
    "        if len(ruc) > 0:\n",
    "            scoreRUC = (sum(ruc) / len(ruc) == 1).map(int).tolist()\n",
    "\n",
    "            out_array = scoreRUC\n",
    "            output_results = [np.nan] * df_cf.shape[0]\n",
    "            for idx_result, idxFound in enumerate(list(df_fc_found.index)):\n",
    "                output_results[idxFound] = out_array[idx_result]\n",
    "\n",
    "            scoreRUC = output_results\n",
    "\n",
    "        else:\n",
    "            scoreRUC = [np.nan]*df_cf.shape[0]\n",
    "\n",
    "        if len(rmc) > 0:\n",
    "            scoreRMC = (sum(rmc) / len(rmc) == 1).map(int).tolist()\n",
    "\n",
    "            out_array = scoreRMC\n",
    "            output_results = [np.nan] * df_cf.shape[0]\n",
    "            for idx_result, idxFound in enumerate(list(df_fc_found.index)):\n",
    "                output_results[idxFound] = out_array[idx_result]\n",
    "\n",
    "            scoreRMC = output_results\n",
    "\n",
    "        else:\n",
    "            scoreRMC = [np.nan]*df_cf.shape[0]\n",
    "\n",
    "        if dsName not in dict_results.keys():\n",
    "            dict_results[dsName] = {}\n",
    "\n",
    "        if n not in dict_results[dsName].keys():\n",
    "            dict_results[dsName][n] = []\n",
    "            \n",
    "        # Validity, RUC and RMC can not have NaN as value, as they are binary states ! NaN must be converted to 0\n",
    "        scoreValidityTotal = [ x if x is not np.NaN else False for x in scoreValidityTotal ]\n",
    "        scoreRUC = [ x if x is not np.NaN else 0 for x in scoreRUC ]\n",
    "        scoreRMC = [ x if x is not np.NaN else 0 for x in scoreRMC ]\n",
    "        \n",
    "        result_entry = {\n",
    "            'framework': framework,\n",
    "            'n': n,\n",
    "            'validity': scoreValidityTotal,\n",
    "            'validityFound': scoreValidityFound,\n",
    "            'sparsity': scoreSparsity,\n",
    "            'L2': scoreL2,\n",
    "            'RUC': scoreRUC,\n",
    "            'RMC': scoreRMC,\n",
    "            'MAD': scoreMadd,\n",
    "            'MD': scoreMd\n",
    "        }\n",
    "\n",
    "        dict_results[dsName][n].append(result_entry)"
   ]
  },
  {
   "cell_type": "code",
   "execution_count": 38,
   "metadata": {},
   "outputs": [],
   "source": [
    "all_results = []\n",
    "for ds in dsNames:\n",
    "    for n in ['0', '1']:\n",
    "        ds_results = []\n",
    "        n_rows = 0\n",
    "        for dsr in dict_results[ds][n]:\n",
    "            sdf = pd.DataFrame(dsr)\n",
    "            sdf['dataset'] = ds\n",
    "            ds_results.append(sdf)\n",
    "            \n",
    "            if n_rows == 0:\n",
    "                n_rows = sdf.shape[0]\n",
    "            else:\n",
    "                assert n_rows == sdf.shape[0]\n",
    "        \n",
    "        ds_f = pd.concat(ds_results)\n",
    "        \n",
    "        afw = list(ds_f['framework'].unique())\n",
    "        \n",
    "        for fw in list(set(framework_names) - set(afw)):\n",
    "            adf = pd.DataFrame({'framework':[fw]*n_rows, 'n': [n]*n_rows, 'validity': [False]*n_rows, \n",
    "             'validityFound': [False]*n_rows, 'sparsity': [np.nan]*n_rows, 'L2': [np.nan]*n_rows, \n",
    "             'RUC': [np.nan]*n_rows, 'RMC': [np.nan]*n_rows, 'MAD': [np.nan]*n_rows, 'MD': [np.nan]*n_rows,\n",
    "             'dataset': [ds]*n_rows})\n",
    "            \n",
    "            ds_results.append(adf)\n",
    "            \n",
    "        ds_f = pd.concat(ds_results)\n",
    "        \n",
    "        all_results.append(ds_f)\n",
    "        \n",
    "df_all_results = pd.concat(all_results)\n",
    "df_all_results = df_all_results.reset_index()"
   ]
  },
  {
   "cell_type": "code",
   "execution_count": 39,
   "metadata": {},
   "outputs": [
    {
     "data": {
      "text/html": [
       "<div>\n",
       "<style scoped>\n",
       "    .dataframe tbody tr th:only-of-type {\n",
       "        vertical-align: middle;\n",
       "    }\n",
       "\n",
       "    .dataframe tbody tr th {\n",
       "        vertical-align: top;\n",
       "    }\n",
       "\n",
       "    .dataframe thead th {\n",
       "        text-align: right;\n",
       "    }\n",
       "</style>\n",
       "<table border=\"1\" class=\"dataframe\">\n",
       "  <thead>\n",
       "    <tr style=\"text-align: right;\">\n",
       "      <th></th>\n",
       "      <th>validity</th>\n",
       "    </tr>\n",
       "    <tr>\n",
       "      <th>framework</th>\n",
       "      <th></th>\n",
       "    </tr>\n",
       "  </thead>\n",
       "  <tbody>\n",
       "    <tr>\n",
       "      <th>ALIBIC</th>\n",
       "      <td>1902</td>\n",
       "    </tr>\n",
       "    <tr>\n",
       "      <th>ALIBICNOGRAD</th>\n",
       "      <td>2474</td>\n",
       "    </tr>\n",
       "    <tr>\n",
       "      <th>CADEX</th>\n",
       "      <td>3549</td>\n",
       "    </tr>\n",
       "    <tr>\n",
       "      <th>DICE</th>\n",
       "      <td>2251</td>\n",
       "    </tr>\n",
       "    <tr>\n",
       "      <th>GROWINGSPHERES3</th>\n",
       "      <td>3370</td>\n",
       "    </tr>\n",
       "    <tr>\n",
       "      <th>LORE</th>\n",
       "      <td>1297</td>\n",
       "    </tr>\n",
       "    <tr>\n",
       "      <th>MACE</th>\n",
       "      <td>1302</td>\n",
       "    </tr>\n",
       "    <tr>\n",
       "      <th>MLEXPLAIN</th>\n",
       "      <td>933</td>\n",
       "    </tr>\n",
       "    <tr>\n",
       "      <th>SEDC</th>\n",
       "      <td>2461</td>\n",
       "    </tr>\n",
       "    <tr>\n",
       "      <th>SYNAS</th>\n",
       "      <td>2366</td>\n",
       "    </tr>\n",
       "  </tbody>\n",
       "</table>\n",
       "</div>"
      ],
      "text/plain": [
       "                 validity\n",
       "framework                \n",
       "ALIBIC               1902\n",
       "ALIBICNOGRAD         2474\n",
       "CADEX                3549\n",
       "DICE                 2251\n",
       "GROWINGSPHERES3      3370\n",
       "LORE                 1297\n",
       "MACE                 1302\n",
       "MLEXPLAIN             933\n",
       "SEDC                 2461\n",
       "SYNAS                2366"
      ]
     },
     "execution_count": 39,
     "metadata": {},
     "output_type": "execute_result"
    }
   ],
   "source": [
    "df_all_results[['framework', 'validity']].groupby('framework').sum()"
   ]
  },
  {
   "cell_type": "code",
   "execution_count": 40,
   "metadata": {},
   "outputs": [],
   "source": [
    "## Statistical Constants\n",
    "cvnt001 = { 2: 2.576, 3: 2.913, 4: 3.113, 5: 3.255, 6: 3.364, 7: 3.452, 8: 3.526, 9: 3.590, 10: 3.646, 11: 3.696,\n",
    "            12: 3.741, 13: 3.781, 14: 3.818, 15: 3.853, 16: 3.884, 17: 3.914, 18: 3.941, 19: 3.967, 20: 3.992,\n",
    "            21: 4.015, 22: 4.037, 23: 4.057, 24: 4.077, 25: 4.096, 26: 4.114, 27: 4.132, 28: 4.148, 29: 4.164,\n",
    "            30: 4.179, 31: 4.194, 32: 4.208, 33: 4.222, 34: 4.236, 35: 4.249, 36: 4.261, 37: 4.273, 38: 4.285,\n",
    "            39: 4.296, 40: 4.307, 41: 4.318, 42: 4.329, 43: 4.339, 44: 4.349, 45: 4.359, 46: 4.368, 47: 4.378,\n",
    "            48: 4.387, 49: 4.395, 50: 4.404, }\n",
    "\n",
    "cvnt005 = { 2: 1.960, 3: 2.344, 4: 2.569, 5: 2.728, 6: 2.850, 7: 2.948, 8: 3.031, 9: 3.102, 10: 3.164, 11: 3.219,\n",
    "            12: 3.268, 13: 3.313, 14: 3.354, 15: 3.391, 16: 3.426, 17: 3.458, 18: 3.489, 19: 3.517, 20: 3.544,\n",
    "            21: 3.569, 22: 3.593, 23: 3.616, 24: 3.637, 25: 3.658, 26: 3.678, 27: 3.696, 28: 3.714, 29: 3.732,\n",
    "            30: 3.749, 31: 3.765, 32: 3.780, 33: 3.795, 34: 3.810, 35: 3.824, 36: 3.837, 37: 3.850, 38: 3.863,\n",
    "            39: 3.876, 40: 3.888, 41: 3.899, 42: 3.911, 43: 3.922, 44: 3.933, 45: 3.943, 46: 3.954, 47: 3.964,\n",
    "            48: 3.973, 49: 3.983, 50: 3.992, }\n",
    "\n",
    "cvnt010 = { 2: 1.645, 3: 2.052, 4: 2.291, 5: 2.460, 6: 2.589, 7: 2.693, 8: 2.780, 9: 2.855, 10: 2.920, 11: 2.978,\n",
    "            12: 3.030, 13: 3.077, 14: 3.120, 15: 3.159, 16: 3.196, 17: 3.230, 18: 3.261, 19: 3.291, 20: 3.319,\n",
    "            21: 3.346, 22: 3.371, 23: 3.394, 24: 3.417, 25: 3.439, 26: 3.459, 27: 3.479, 28: 3.498, 29: 3.516,\n",
    "            30: 3.533, 31: 3.550, 32: 3.567, 33: 3.582, 34: 3.597, 35: 3.612, 36: 3.626, 37: 3.640, 38: 3.653,\n",
    "            39: 3.666, 40: 3.679, 41: 3.691, 42: 3.703, 43: 3.714, 44: 3.726, 45: 3.737, 46: 3.747, 47: 3.758,\n",
    "            48: 3.768, 49: 3.778, 50: 3.788, }"
   ]
  },
  {
   "cell_type": "code",
   "execution_count": 41,
   "metadata": {},
   "outputs": [],
   "source": [
    "## Overall Characteristics of Datasets\n",
    "ds_characteristics = pd.read_excel('model_performance_analysis.xlsx').drop(columns=['Unnamed: 0'])"
   ]
  },
  {
   "cell_type": "code",
   "execution_count": 42,
   "metadata": {},
   "outputs": [],
   "source": [
    "## Calculate ratio informatiom"
   ]
  },
  {
   "cell_type": "code",
   "execution_count": 43,
   "metadata": {},
   "outputs": [],
   "source": [
    "# Generate data to inform majority and minority\n",
    "\n",
    "def balance(seq):\n",
    "    from collections import Counter\n",
    "    from numpy import log\n",
    "    \n",
    "    n = len(seq)\n",
    "    classes = [(clas,float(count)) for clas,count in Counter(seq).items()]\n",
    "    k = len(classes)\n",
    "    \n",
    "    H = -sum([ (count/n) * log((count/n)) for clas,count in classes]) #shannon entropy\n",
    "    return H/log(k)\n",
    "\n",
    "ratio_data = []\n",
    "for dsn in dsNames:\n",
    "    df_train = pd.read_csv(f'./experiments_data/{dsn}_TRAINDATASET.csv')\n",
    "    r_0 = (df_train['output']==0).sum()/df_train['output'].shape[0]\n",
    "    r_1 = (df_train['output']==1).sum()/df_train['output'].shape[0]\n",
    "    \n",
    "    bs = balance(df_train['output'].tolist())\n",
    "    \n",
    "    ratio_data.append([dsn, r_0, r_1,  r_0 if r_0 > r_1 else r_1, bs])\n",
    "ratio_df = pd.DataFrame(ratio_data, columns=['dataset', 'r0', 'r1', 'major_ratio', 'balance_score'])"
   ]
  },
  {
   "cell_type": "code",
   "execution_count": 44,
   "metadata": {},
   "outputs": [],
   "source": [
    "ratio_df['ratio_class'] = ratio_df['major_ratio'].apply(lambda x : 'b' if x < 0.65 else 'u' if x < 0.85 else 'hu')"
   ]
  },
  {
   "cell_type": "code",
   "execution_count": 45,
   "metadata": {},
   "outputs": [],
   "source": [
    "## Calculate ratio informatiom"
   ]
  },
  {
   "cell_type": "code",
   "execution_count": 46,
   "metadata": {},
   "outputs": [
    {
     "data": {
      "text/html": [
       "<div>\n",
       "<style scoped>\n",
       "    .dataframe tbody tr th:only-of-type {\n",
       "        vertical-align: middle;\n",
       "    }\n",
       "\n",
       "    .dataframe tbody tr th {\n",
       "        vertical-align: top;\n",
       "    }\n",
       "\n",
       "    .dataframe thead th {\n",
       "        text-align: right;\n",
       "    }\n",
       "</style>\n",
       "<table border=\"1\" class=\"dataframe\">\n",
       "  <thead>\n",
       "    <tr style=\"text-align: right;\">\n",
       "      <th></th>\n",
       "      <th>index</th>\n",
       "      <th>framework</th>\n",
       "      <th>n</th>\n",
       "      <th>validity</th>\n",
       "      <th>validityFound</th>\n",
       "      <th>sparsity</th>\n",
       "      <th>L2</th>\n",
       "      <th>RUC</th>\n",
       "      <th>RMC</th>\n",
       "      <th>MAD</th>\n",
       "      <th>MD</th>\n",
       "      <th>dataset</th>\n",
       "    </tr>\n",
       "  </thead>\n",
       "  <tbody>\n",
       "  </tbody>\n",
       "</table>\n",
       "</div>"
      ],
      "text/plain": [
       "Empty DataFrame\n",
       "Columns: [index, framework, n, validity, validityFound, sparsity, L2, RUC, RMC, MAD, MD, dataset]\n",
       "Index: []"
      ]
     },
     "execution_count": 46,
     "metadata": {},
     "output_type": "execute_result"
    }
   ],
   "source": [
    "df_all_results[df_all_results['framework']=='GROWINGSPHERES4']"
   ]
  },
  {
   "cell_type": "code",
   "execution_count": 47,
   "metadata": {},
   "outputs": [
    {
     "data": {
      "text/plain": [
       "['BalanceScale',\n",
       " 'CarEvaluation',\n",
       " 'HayesRoth',\n",
       " 'Chess',\n",
       " 'Lymphography',\n",
       " 'Nursery',\n",
       " 'SoybeanSmall',\n",
       " 'TicTacToe']"
      ]
     },
     "execution_count": 47,
     "metadata": {},
     "output_type": "execute_result"
    }
   ],
   "source": [
    "cat_ds"
   ]
  },
  {
   "cell_type": "code",
   "execution_count": null,
   "metadata": {},
   "outputs": [],
   "source": []
  },
  {
   "cell_type": "code",
   "execution_count": null,
   "metadata": {},
   "outputs": [],
   "source": []
  },
  {
   "cell_type": "code",
   "execution_count": null,
   "metadata": {},
   "outputs": [],
   "source": []
  },
  {
   "cell_type": "code",
   "execution_count": 48,
   "metadata": {},
   "outputs": [],
   "source": [
    "dft2 = ds_f.reset_index()"
   ]
  },
  {
   "cell_type": "code",
   "execution_count": 49,
   "metadata": {},
   "outputs": [
    {
     "data": {
      "text/html": [
       "<div>\n",
       "<style scoped>\n",
       "    .dataframe tbody tr th:only-of-type {\n",
       "        vertical-align: middle;\n",
       "    }\n",
       "\n",
       "    .dataframe tbody tr th {\n",
       "        vertical-align: top;\n",
       "    }\n",
       "\n",
       "    .dataframe thead th {\n",
       "        text-align: right;\n",
       "    }\n",
       "</style>\n",
       "<table border=\"1\" class=\"dataframe\">\n",
       "  <thead>\n",
       "    <tr style=\"text-align: right;\">\n",
       "      <th></th>\n",
       "      <th>index</th>\n",
       "      <th>framework</th>\n",
       "      <th>n</th>\n",
       "      <th>validity</th>\n",
       "      <th>validityFound</th>\n",
       "      <th>sparsity</th>\n",
       "      <th>L2</th>\n",
       "      <th>RUC</th>\n",
       "      <th>RMC</th>\n",
       "      <th>MAD</th>\n",
       "      <th>MD</th>\n",
       "      <th>dataset</th>\n",
       "    </tr>\n",
       "  </thead>\n",
       "  <tbody>\n",
       "    <tr>\n",
       "      <th>0</th>\n",
       "      <td>0</td>\n",
       "      <td>ALIBICNOGRAD</td>\n",
       "      <td>1</td>\n",
       "      <td>True</td>\n",
       "      <td>True</td>\n",
       "      <td>0.384615</td>\n",
       "      <td>0.886054</td>\n",
       "      <td>1</td>\n",
       "      <td>0</td>\n",
       "      <td>0.235911</td>\n",
       "      <td>1.238547</td>\n",
       "      <td>Wine</td>\n",
       "    </tr>\n",
       "    <tr>\n",
       "      <th>70</th>\n",
       "      <td>0</td>\n",
       "      <td>ALIBIC</td>\n",
       "      <td>1</td>\n",
       "      <td>True</td>\n",
       "      <td>True</td>\n",
       "      <td>0.000000</td>\n",
       "      <td>1.026813</td>\n",
       "      <td>1</td>\n",
       "      <td>0</td>\n",
       "      <td>0.288941</td>\n",
       "      <td>1.472224</td>\n",
       "      <td>Wine</td>\n",
       "    </tr>\n",
       "    <tr>\n",
       "      <th>140</th>\n",
       "      <td>0</td>\n",
       "      <td>CADEX</td>\n",
       "      <td>1</td>\n",
       "      <td>True</td>\n",
       "      <td>True</td>\n",
       "      <td>0.000000</td>\n",
       "      <td>0.937665</td>\n",
       "      <td>1</td>\n",
       "      <td>0</td>\n",
       "      <td>0.386215</td>\n",
       "      <td>1.314903</td>\n",
       "      <td>Wine</td>\n",
       "    </tr>\n",
       "    <tr>\n",
       "      <th>210</th>\n",
       "      <td>0</td>\n",
       "      <td>SYNAS</td>\n",
       "      <td>1</td>\n",
       "      <td>False</td>\n",
       "      <td>NaN</td>\n",
       "      <td>NaN</td>\n",
       "      <td>NaN</td>\n",
       "      <td>0</td>\n",
       "      <td>0</td>\n",
       "      <td>NaN</td>\n",
       "      <td>NaN</td>\n",
       "      <td>Wine</td>\n",
       "    </tr>\n",
       "    <tr>\n",
       "      <th>280</th>\n",
       "      <td>0</td>\n",
       "      <td>MACE</td>\n",
       "      <td>1</td>\n",
       "      <td>False</td>\n",
       "      <td>False</td>\n",
       "      <td>NaN</td>\n",
       "      <td>NaN</td>\n",
       "      <td>0</td>\n",
       "      <td>0</td>\n",
       "      <td>NaN</td>\n",
       "      <td>NaN</td>\n",
       "      <td>Wine</td>\n",
       "    </tr>\n",
       "    <tr>\n",
       "      <th>350</th>\n",
       "      <td>0</td>\n",
       "      <td>MLEXPLAIN</td>\n",
       "      <td>1</td>\n",
       "      <td>False</td>\n",
       "      <td>False</td>\n",
       "      <td>NaN</td>\n",
       "      <td>NaN</td>\n",
       "      <td>0</td>\n",
       "      <td>0</td>\n",
       "      <td>NaN</td>\n",
       "      <td>NaN</td>\n",
       "      <td>Wine</td>\n",
       "    </tr>\n",
       "    <tr>\n",
       "      <th>420</th>\n",
       "      <td>0</td>\n",
       "      <td>DICE</td>\n",
       "      <td>1</td>\n",
       "      <td>True</td>\n",
       "      <td>True</td>\n",
       "      <td>0.000000</td>\n",
       "      <td>2.852092</td>\n",
       "      <td>1</td>\n",
       "      <td>0</td>\n",
       "      <td>0.997441</td>\n",
       "      <td>4.190930</td>\n",
       "      <td>Wine</td>\n",
       "    </tr>\n",
       "    <tr>\n",
       "      <th>490</th>\n",
       "      <td>0</td>\n",
       "      <td>SEDC</td>\n",
       "      <td>1</td>\n",
       "      <td>True</td>\n",
       "      <td>True</td>\n",
       "      <td>0.846154</td>\n",
       "      <td>1.629794</td>\n",
       "      <td>1</td>\n",
       "      <td>0</td>\n",
       "      <td>0.223895</td>\n",
       "      <td>2.027971</td>\n",
       "      <td>Wine</td>\n",
       "    </tr>\n",
       "    <tr>\n",
       "      <th>560</th>\n",
       "      <td>0</td>\n",
       "      <td>GROWINGSPHERES3</td>\n",
       "      <td>1</td>\n",
       "      <td>True</td>\n",
       "      <td>True</td>\n",
       "      <td>0.307692</td>\n",
       "      <td>0.971045</td>\n",
       "      <td>1</td>\n",
       "      <td>0</td>\n",
       "      <td>0.283913</td>\n",
       "      <td>1.140080</td>\n",
       "      <td>Wine</td>\n",
       "    </tr>\n",
       "    <tr>\n",
       "      <th>630</th>\n",
       "      <td>0</td>\n",
       "      <td>LORE</td>\n",
       "      <td>1</td>\n",
       "      <td>True</td>\n",
       "      <td>True</td>\n",
       "      <td>0.846154</td>\n",
       "      <td>3.061069</td>\n",
       "      <td>1</td>\n",
       "      <td>0</td>\n",
       "      <td>0.540470</td>\n",
       "      <td>3.380876</td>\n",
       "      <td>Wine</td>\n",
       "    </tr>\n",
       "  </tbody>\n",
       "</table>\n",
       "</div>"
      ],
      "text/plain": [
       "     index        framework  n  validity validityFound  sparsity        L2  \\\n",
       "0        0     ALIBICNOGRAD  1      True          True  0.384615  0.886054   \n",
       "70       0           ALIBIC  1      True          True  0.000000  1.026813   \n",
       "140      0            CADEX  1      True          True  0.000000  0.937665   \n",
       "210      0            SYNAS  1     False           NaN       NaN       NaN   \n",
       "280      0             MACE  1     False         False       NaN       NaN   \n",
       "350      0        MLEXPLAIN  1     False         False       NaN       NaN   \n",
       "420      0             DICE  1      True          True  0.000000  2.852092   \n",
       "490      0             SEDC  1      True          True  0.846154  1.629794   \n",
       "560      0  GROWINGSPHERES3  1      True          True  0.307692  0.971045   \n",
       "630      0             LORE  1      True          True  0.846154  3.061069   \n",
       "\n",
       "     RUC  RMC       MAD        MD dataset  \n",
       "0      1    0  0.235911  1.238547    Wine  \n",
       "70     1    0  0.288941  1.472224    Wine  \n",
       "140    1    0  0.386215  1.314903    Wine  \n",
       "210    0    0       NaN       NaN    Wine  \n",
       "280    0    0       NaN       NaN    Wine  \n",
       "350    0    0       NaN       NaN    Wine  \n",
       "420    1    0  0.997441  4.190930    Wine  \n",
       "490    1    0  0.223895  2.027971    Wine  \n",
       "560    1    0  0.283913  1.140080    Wine  \n",
       "630    1    0  0.540470  3.380876    Wine  "
      ]
     },
     "execution_count": 49,
     "metadata": {},
     "output_type": "execute_result"
    }
   ],
   "source": [
    "dft2[dft2['index']==0]"
   ]
  },
  {
   "cell_type": "code",
   "execution_count": 50,
   "metadata": {},
   "outputs": [],
   "source": [
    "dft = df_all_results[(df_all_results['dataset']=='Adult')&(df_all_results['n']=='1')]"
   ]
  },
  {
   "cell_type": "code",
   "execution_count": 51,
   "metadata": {},
   "outputs": [
    {
     "data": {
      "text/html": [
       "<div>\n",
       "<style scoped>\n",
       "    .dataframe tbody tr th:only-of-type {\n",
       "        vertical-align: middle;\n",
       "    }\n",
       "\n",
       "    .dataframe tbody tr th {\n",
       "        vertical-align: top;\n",
       "    }\n",
       "\n",
       "    .dataframe thead th {\n",
       "        text-align: right;\n",
       "    }\n",
       "</style>\n",
       "<table border=\"1\" class=\"dataframe\">\n",
       "  <thead>\n",
       "    <tr style=\"text-align: right;\">\n",
       "      <th>framework</th>\n",
       "      <th>CADEX</th>\n",
       "      <th>ALIBICNOGRAD</th>\n",
       "      <th>GROWINGSPHERES3</th>\n",
       "      <th>ALIBIC</th>\n",
       "      <th>MLEXPLAIN</th>\n",
       "      <th>DICE</th>\n",
       "      <th>SYNAS</th>\n",
       "      <th>SEDC</th>\n",
       "      <th>LORE</th>\n",
       "      <th>MACE</th>\n",
       "    </tr>\n",
       "  </thead>\n",
       "  <tbody>\n",
       "    <tr>\n",
       "      <th>validity</th>\n",
       "      <td>3.0</td>\n",
       "      <td>3.5</td>\n",
       "      <td>6.0</td>\n",
       "      <td>2.0</td>\n",
       "      <td>2.0</td>\n",
       "      <td>4.0</td>\n",
       "      <td>3.5</td>\n",
       "      <td>5.5</td>\n",
       "      <td>2.0</td>\n",
       "      <td>1.0</td>\n",
       "    </tr>\n",
       "    <tr>\n",
       "      <th>sparsity</th>\n",
       "      <td>1.0</td>\n",
       "      <td>2.0</td>\n",
       "      <td>5.0</td>\n",
       "      <td>5.5</td>\n",
       "      <td>5.5</td>\n",
       "      <td>3.0</td>\n",
       "      <td>2.0</td>\n",
       "      <td>4.0</td>\n",
       "      <td>5.5</td>\n",
       "      <td>4.5</td>\n",
       "    </tr>\n",
       "    <tr>\n",
       "      <th>L2</th>\n",
       "      <td>6.0</td>\n",
       "      <td>5.0</td>\n",
       "      <td>4.0</td>\n",
       "      <td>5.5</td>\n",
       "      <td>5.5</td>\n",
       "      <td>6.0</td>\n",
       "      <td>5.0</td>\n",
       "      <td>7.0</td>\n",
       "      <td>5.5</td>\n",
       "      <td>4.5</td>\n",
       "    </tr>\n",
       "    <tr>\n",
       "      <th>RUC</th>\n",
       "      <td>3.0</td>\n",
       "      <td>1.0</td>\n",
       "      <td>1.5</td>\n",
       "      <td>2.0</td>\n",
       "      <td>2.0</td>\n",
       "      <td>1.5</td>\n",
       "      <td>1.0</td>\n",
       "      <td>1.0</td>\n",
       "      <td>2.0</td>\n",
       "      <td>4.5</td>\n",
       "    </tr>\n",
       "    <tr>\n",
       "      <th>RMC</th>\n",
       "      <td>3.0</td>\n",
       "      <td>3.5</td>\n",
       "      <td>1.5</td>\n",
       "      <td>2.0</td>\n",
       "      <td>2.0</td>\n",
       "      <td>1.5</td>\n",
       "      <td>3.5</td>\n",
       "      <td>5.5</td>\n",
       "      <td>2.0</td>\n",
       "      <td>4.5</td>\n",
       "    </tr>\n",
       "    <tr>\n",
       "      <th>MAD</th>\n",
       "      <td>7.0</td>\n",
       "      <td>7.0</td>\n",
       "      <td>7.0</td>\n",
       "      <td>5.5</td>\n",
       "      <td>5.5</td>\n",
       "      <td>7.0</td>\n",
       "      <td>7.0</td>\n",
       "      <td>2.0</td>\n",
       "      <td>5.5</td>\n",
       "      <td>4.5</td>\n",
       "    </tr>\n",
       "    <tr>\n",
       "      <th>MD</th>\n",
       "      <td>5.0</td>\n",
       "      <td>6.0</td>\n",
       "      <td>3.0</td>\n",
       "      <td>5.5</td>\n",
       "      <td>5.5</td>\n",
       "      <td>5.0</td>\n",
       "      <td>6.0</td>\n",
       "      <td>3.0</td>\n",
       "      <td>5.5</td>\n",
       "      <td>4.5</td>\n",
       "    </tr>\n",
       "  </tbody>\n",
       "</table>\n",
       "</div>"
      ],
      "text/plain": [
       "framework  CADEX  ALIBICNOGRAD  GROWINGSPHERES3  ALIBIC  MLEXPLAIN  DICE  \\\n",
       "validity     3.0           3.5              6.0     2.0        2.0   4.0   \n",
       "sparsity     1.0           2.0              5.0     5.5        5.5   3.0   \n",
       "L2           6.0           5.0              4.0     5.5        5.5   6.0   \n",
       "RUC          3.0           1.0              1.5     2.0        2.0   1.5   \n",
       "RMC          3.0           3.5              1.5     2.0        2.0   1.5   \n",
       "MAD          7.0           7.0              7.0     5.5        5.5   7.0   \n",
       "MD           5.0           6.0              3.0     5.5        5.5   5.0   \n",
       "\n",
       "framework  SYNAS  SEDC  LORE  MACE  \n",
       "validity     3.5   5.5   2.0   1.0  \n",
       "sparsity     2.0   4.0   5.5   4.5  \n",
       "L2           5.0   7.0   5.5   4.5  \n",
       "RUC          1.0   1.0   2.0   4.5  \n",
       "RMC          3.5   5.5   2.0   4.5  \n",
       "MAD          7.0   2.0   5.5   4.5  \n",
       "MD           6.0   3.0   5.5   4.5  "
      ]
     },
     "execution_count": 51,
     "metadata": {},
     "output_type": "execute_result"
    }
   ],
   "source": [
    "dft[dft['index']==0].set_index('framework').drop(columns=['index', 'n', 'validityFound', 'dataset']).T.rank(na_option='bottom')"
   ]
  },
  {
   "cell_type": "code",
   "execution_count": 52,
   "metadata": {},
   "outputs": [],
   "source": [
    "## Numerical Analysis"
   ]
  },
  {
   "cell_type": "code",
   "execution_count": 53,
   "metadata": {},
   "outputs": [],
   "source": [
    "short_frameworks = {\n",
    "    'ALIBIC': 'AL',\n",
    "    'ALIBICNOGRAD': 'ALN',\n",
    "    'CADEX': 'CA',\n",
    "    'DICE': 'DI',\n",
    "    'GROWINGSPHERES3': 'GS',\n",
    "    'LORE': 'LO',\n",
    "    'MACE': 'MA',\n",
    "    'MLEXPLAIN': 'ML',\n",
    "    'SEDC': 'SE',\n",
    "    'SYNAS': 'SY'\n",
    "}"
   ]
  },
  {
   "cell_type": "code",
   "execution_count": 54,
   "metadata": {},
   "outputs": [],
   "source": [
    "def show_values_on_bars(axs, values, h_v=\"v\", space=0.4):\n",
    "    def _show_on_single_plot(ax):\n",
    "        if h_v == \"v\":\n",
    "            for p, value_row in zip(ax.patches, values):\n",
    "                _x = p.get_x() + p.get_width() + 0.02\n",
    "                _y = p.get_y() + p.get_height()*0.7\n",
    "                value = round(value_row, 2)\n",
    "                ax.text(_x, _y, value, ha=\"center\") \n",
    "        elif h_v == \"h\":\n",
    "            for p in ax.patches:\n",
    "                _x = p.get_x() + p.get_width() + float(space)\n",
    "                _y = p.get_y() + p.get_height()\n",
    "                value = int(p.get_width())\n",
    "                ax.text(_x, _y, value, ha=\"left\")\n",
    "\n",
    "    if isinstance(axs, np.ndarray):\n",
    "        for idx, ax in np.ndenumerate(axs):\n",
    "            _show_on_single_plot(ax)\n",
    "    else:\n",
    "        _show_on_single_plot(axs)"
   ]
  },
  {
   "cell_type": "code",
   "execution_count": 55,
   "metadata": {},
   "outputs": [
    {
     "ename": "NameError",
     "evalue": "name 'validity_analysis_total' is not defined",
     "output_type": "error",
     "traceback": [
      "\u001b[0;31m---------------------------------------------------------------------------\u001b[0m",
      "\u001b[0;31mNameError\u001b[0m                                 Traceback (most recent call last)",
      "\u001b[0;32m<ipython-input-55-8777197c24ee>\u001b[0m in \u001b[0;36m<module>\u001b[0;34m\u001b[0m\n\u001b[0;32m----> 1\u001b[0;31m \u001b[0mvalidity_analysis_total\u001b[0m\u001b[0;34m.\u001b[0m\u001b[0mgroupby\u001b[0m\u001b[0;34m(\u001b[0m\u001b[0;34m'framework'\u001b[0m\u001b[0;34m)\u001b[0m\u001b[0;34m.\u001b[0m\u001b[0mmean\u001b[0m\u001b[0;34m(\u001b[0m\u001b[0;34m)\u001b[0m\u001b[0;34m\u001b[0m\u001b[0;34m\u001b[0m\u001b[0m\n\u001b[0m",
      "\u001b[0;31mNameError\u001b[0m: name 'validity_analysis_total' is not defined"
     ]
    }
   ],
   "source": [
    "validity_analysis_total.groupby('framework').mean()"
   ]
  },
  {
   "cell_type": "code",
   "execution_count": 103,
   "metadata": {},
   "outputs": [],
   "source": [
    "# Total\n",
    "validity_analysis_total = df_all_results[['framework', 'validity']].copy()\n",
    "validity_analysis_total.columns = ['framework', 'coverage']\n",
    "validity_analysis_total['coverage'] = validity_analysis_total['coverage'].fillna(False)"
   ]
  },
  {
   "cell_type": "code",
   "execution_count": 104,
   "metadata": {},
   "outputs": [],
   "source": [
    "# Calculate mean\n",
    "validity_analysis_total_mean = validity_analysis_total.groupby('framework').mean()\n",
    "validity_analysis_total_mean = validity_analysis_total_mean.reset_index()\n",
    "validity_analysis_total_mean['framework'] = validity_analysis_total_mean['framework'].map(short_frameworks)"
   ]
  },
  {
   "cell_type": "code",
   "execution_count": 105,
   "metadata": {},
   "outputs": [
    {
     "data": {
      "image/png": "[encoded data removed]",
      "text/plain": [
       "<Figure size 720x432 with 1 Axes>"
      ]
     },
     "metadata": {
      "needs_background": "light"
     },
     "output_type": "display_data"
    }
   ],
   "source": [
    "ax = sns.barplot(x = \"coverage\", y = \"framework\", data = validity_analysis_total_mean, palette=sns.color_palette(\"gist_rainbow\", 11))\n",
    "show_values_on_bars(ax, validity_analysis_total_mean['coverage'].tolist())\n",
    "ax.set_title('ALL DATASETS', fontsize=20)\n",
    "ax.set_xlim(0,1)\n",
    "ax.figure.set_size_inches(10,6)"
   ]
  },
  {
   "cell_type": "code",
   "execution_count": 59,
   "metadata": {},
   "outputs": [],
   "source": [
    "# Numerical\n",
    "validity_analysis_num = df_all_results[df_all_results['dataset'].isin(num_ds)][['framework', 'validity']].copy()\n",
    "validity_analysis_num['validity'] = validity_analysis_num['validity'].fillna(False)"
   ]
  },
  {
   "cell_type": "code",
   "execution_count": 60,
   "metadata": {},
   "outputs": [],
   "source": [
    "# Calculate mean\n",
    "validity_analysis_num_mean = validity_analysis_num.groupby('framework').mean()\n",
    "validity_analysis_num_mean = validity_analysis_num_mean.reset_index()\n",
    "validity_analysis_num_mean['framework'] = validity_analysis_num_mean['framework'].map(short_frameworks)"
   ]
  },
  {
   "cell_type": "code",
   "execution_count": 61,
   "metadata": {},
   "outputs": [
    {
     "data": {
      "image/png": "[encoded data removed]",
      "text/plain": [
       "<Figure size 720x432 with 1 Axes>"
      ]
     },
     "metadata": {
      "needs_background": "light"
     },
     "output_type": "display_data"
    }
   ],
   "source": [
    "ax = sns.barplot(x = \"validity\", y = \"framework\", data = validity_analysis_num_mean, palette=sns.color_palette(\"gist_rainbow\", 11))\n",
    "show_values_on_bars(ax, validity_analysis_num_mean['validity'].tolist())\n",
    "ax.set_title('NUMERICAL DATASETS', fontsize=20)\n",
    "ax.figure.set_size_inches(10,6)"
   ]
  },
  {
   "cell_type": "code",
   "execution_count": 62,
   "metadata": {},
   "outputs": [],
   "source": [
    "# Categorical\n",
    "validity_analysis_cat = df_all_results[df_all_results['dataset'].isin(cat_ds)][['framework', 'validity']].copy()\n",
    "validity_analysis_cat['validity'] = validity_analysis_cat['validity'].fillna(False)"
   ]
  },
  {
   "cell_type": "code",
   "execution_count": 63,
   "metadata": {},
   "outputs": [],
   "source": [
    "# Calculate mean\n",
    "validity_analysis_cat_mean = validity_analysis_cat.groupby('framework').mean()\n",
    "validity_analysis_cat_mean = validity_analysis_cat_mean.reset_index()\n",
    "validity_analysis_cat_mean['framework'] = validity_analysis_cat_mean['framework'].map(short_frameworks)"
   ]
  },
  {
   "cell_type": "code",
   "execution_count": 64,
   "metadata": {},
   "outputs": [
    {
     "data": {
      "image/png": "[encoded data removed]",
      "text/plain": [
       "<Figure size 720x432 with 1 Axes>"
      ]
     },
     "metadata": {
      "needs_background": "light"
     },
     "output_type": "display_data"
    }
   ],
   "source": [
    "ax = sns.barplot(x = \"validity\", y = \"framework\", data = validity_analysis_cat_mean, palette=sns.color_palette(\"gist_rainbow\", 11))\n",
    "show_values_on_bars(ax, validity_analysis_cat_mean['validity'].tolist())\n",
    "ax.set_title('CATEGORICAL DATASETS', fontsize=20)\n",
    "ax.figure.set_size_inches(10,6)"
   ]
  },
  {
   "cell_type": "code",
   "execution_count": 65,
   "metadata": {},
   "outputs": [],
   "source": [
    "# Mixed\n",
    "validity_analysis_mix = df_all_results[df_all_results['dataset'].isin(mix_ds)][['framework', 'validity']].copy()\n",
    "validity_analysis_mix['validity'] = validity_analysis_mix['validity'].fillna(False)"
   ]
  },
  {
   "cell_type": "code",
   "execution_count": 66,
   "metadata": {},
   "outputs": [],
   "source": [
    "# Calculate mean\n",
    "validity_analysis_mix_mean = validity_analysis_mix.groupby('framework').mean()\n",
    "validity_analysis_mix_mean = validity_analysis_mix_mean.reset_index()\n",
    "validity_analysis_mix_mean['framework'] = validity_analysis_mix_mean['framework'].map(short_frameworks)"
   ]
  },
  {
   "cell_type": "code",
   "execution_count": 67,
   "metadata": {},
   "outputs": [
    {
     "data": {
      "image/png": "[encoded data removed]",
      "text/plain": [
       "<Figure size 720x432 with 1 Axes>"
      ]
     },
     "metadata": {
      "needs_background": "light"
     },
     "output_type": "display_data"
    }
   ],
   "source": [
    "ax = sns.barplot(x = \"validity\", y = \"framework\", data = validity_analysis_mix_mean, palette=sns.color_palette(\"gist_rainbow\", 11))\n",
    "show_values_on_bars(ax, validity_analysis_mix_mean['validity'].tolist())\n",
    "ax.set_title('MIXED DATASETS', fontsize=20)\n",
    "ax.figure.set_size_inches(10,6)"
   ]
  },
  {
   "cell_type": "code",
   "execution_count": 68,
   "metadata": {},
   "outputs": [],
   "source": [
    "# For each dataset and analysis"
   ]
  },
  {
   "cell_type": "code",
   "execution_count": 69,
   "metadata": {},
   "outputs": [],
   "source": [
    "validity_ds_num_analysis = {}\n",
    "for ds in dsNames:\n",
    "    if ds not in validity_ds_num_analysis.keys():\n",
    "        validity_ds_num_analysis[ds] = {}\n",
    "    for n in ['0', '1']:\n",
    "        validity_analysis_ds = df_all_results[(df_all_results['dataset']==ds)&(df_all_results['n']==n)][['framework', 'validity']].copy()\n",
    "        validity_analysis_ds['validity'] = validity_analysis_ds['validity'].fillna(False)\n",
    "        \n",
    "        # Calculate mean\n",
    "        validity_analysis_ds_mean = validity_analysis_ds.groupby('framework').mean()\n",
    "        validity_analysis_ds_mean = validity_analysis_ds_mean.reset_index()\n",
    "        validity_analysis_ds_mean['framework'] = validity_analysis_ds_mean['framework'].map(short_frameworks)\n",
    "        \n",
    "        validity_ds_num_analysis[ds][n] = validity_analysis_ds_mean"
   ]
  },
  {
   "cell_type": "code",
   "execution_count": 70,
   "metadata": {},
   "outputs": [],
   "source": [
    "# Calculate raw metrics for realistic scores"
   ]
  },
  {
   "cell_type": "code",
   "execution_count": 106,
   "metadata": {},
   "outputs": [],
   "source": [
    "def generate_raw_realisitc_chart(ds_type):\n",
    "    \n",
    "    if ds_type == 'all':\n",
    "        selected_ds = cat_ds+num_ds+mix_ds\n",
    "        chart_title = 'ALL DATASETS'\n",
    "    if ds_type == 'num':\n",
    "        selected_ds = num_ds\n",
    "        chart_title = 'NUMERICAL DATASETS'\n",
    "    if ds_type == 'cat':\n",
    "        selected_ds = cat_ds\n",
    "        chart_title = 'CATEGORICAL DATASETS'\n",
    "    if ds_type == 'mix':\n",
    "        selected_ds = mix_ds\n",
    "        chart_title = 'MIXED DATASETS'\n",
    "    \n",
    "    # Total\n",
    "    realistic_analysis = df_all_results[df_all_results['dataset'].isin(selected_ds)][['framework', 'RUC', 'RMC', 'validity']].copy()\n",
    "    mask_valid = realistic_analysis['validity']==True\n",
    "    realistic_analysis.loc[mask_valid, 'RMC'] = 1\n",
    "    realistic_analysis['RUC'] = realistic_analysis['RUC'].fillna(0)\n",
    "    realistic_analysis['RMC'] = realistic_analysis['RMC'].fillna(0)\n",
    "    realistic_analysis['realistic'] = (realistic_analysis['RUC'] == 1)&(realistic_analysis['RMC'] == 1)\n",
    "    realistic_analysis = realistic_analysis.drop(columns=['RUC', 'RMC', 'validity'])\n",
    "    \n",
    "    # Calculate mean\n",
    "    realistic_analysis_mean = realistic_analysis.groupby('framework').mean()\n",
    "    realistic_analysis_mean = realistic_analysis_mean.reset_index()\n",
    "    realistic_analysis_mean['framework'] = realistic_analysis_mean['framework'].map(short_frameworks)\n",
    "    \n",
    "    realistic_analysis_mean.columns = ['framework', 'coverage']\n",
    "    \n",
    "    ax = sns.barplot(x = \"coverage\", y = \"framework\", data = realistic_analysis_mean, palette=sns.color_palette(\"gist_rainbow\", 11))\n",
    "    ax.set_xlim(0,1)\n",
    "    show_values_on_bars(ax, realistic_analysis_mean['coverage'].tolist())\n",
    "    ax.set_title(chart_title, fontsize=20)\n",
    "    ax.figure.set_size_inches(10,6)"
   ]
  },
  {
   "cell_type": "code",
   "execution_count": 107,
   "metadata": {},
   "outputs": [
    {
     "data": {
      "image/png": "[encoded data removed]",
      "text/plain": [
       "<Figure size 720x432 with 1 Axes>"
      ]
     },
     "metadata": {
      "needs_background": "light"
     },
     "output_type": "display_data"
    }
   ],
   "source": [
    "generate_raw_realisitc_chart('all')"
   ]
  },
  {
   "cell_type": "code",
   "execution_count": 86,
   "metadata": {},
   "outputs": [
    {
     "data": {
      "image/png": "[encoded data removed]",
      "text/plain": [
       "<Figure size 720x432 with 1 Axes>"
      ]
     },
     "metadata": {
      "needs_background": "light"
     },
     "output_type": "display_data"
    }
   ],
   "source": [
    "generate_raw_realisitc_chart('num')"
   ]
  },
  {
   "cell_type": "code",
   "execution_count": 87,
   "metadata": {},
   "outputs": [
    {
     "data": {
      "image/png": "[encoded data removed]",
      "text/plain": [
       "<Figure size 720x432 with 1 Axes>"
      ]
     },
     "metadata": {
      "needs_background": "light"
     },
     "output_type": "display_data"
    }
   ],
   "source": [
    "generate_raw_realisitc_chart('cat')"
   ]
  },
  {
   "cell_type": "code",
   "execution_count": 88,
   "metadata": {},
   "outputs": [
    {
     "data": {
      "image/png": "[encoded data removed]",
      "text/plain": [
       "<Figure size 720x432 with 1 Axes>"
      ]
     },
     "metadata": {
      "needs_background": "light"
     },
     "output_type": "display_data"
    }
   ],
   "source": [
    "generate_raw_realisitc_chart('mix')"
   ]
  },
  {
   "cell_type": "code",
   "execution_count": 89,
   "metadata": {},
   "outputs": [],
   "source": [
    "# Calculate, for each framework and dataset, calculate validity found for majority and minority"
   ]
  },
  {
   "cell_type": "code",
   "execution_count": 90,
   "metadata": {},
   "outputs": [],
   "source": [
    "ds_ratio_analysis = []\n",
    "for ds in dsNames:\n",
    "        \n",
    "    r0_ratio = ratio_df[ratio_df['dataset']==ds]['r0'].tolist()[0]\n",
    "    \n",
    "    inbalance_level = ratio_df[ratio_df['dataset']==ds]['ratio_class'].tolist()[0]\n",
    "    \n",
    "    majority = '0' if r0_ratio > 0.5 else '1'\n",
    "    \n",
    "    minority = '1' if r0_ratio > 0.5 else '0'\n",
    "    \n",
    "    ds_row_analysis = validity_ds_num_analysis[ds][majority].copy()\n",
    "    \n",
    "    ds_row_analysis = ds_row_analysis.rename(columns={'validity': 'majority'})\n",
    "    \n",
    "    ds_row_analysis['dataset'] = ds\n",
    "        \n",
    "    ds_row_analysis['minority'] = validity_ds_num_analysis[ds][minority]['validity']\n",
    "    \n",
    "    ds_row_analysis['ratio_class'] = inbalance_level\n",
    "    \n",
    "    ds_ratio_analysis.append(ds_row_analysis)\n",
    "\n",
    "ratio_analysis = pd.concat(ds_ratio_analysis)\n",
    "ratio_analysis['difference'] = ratio_analysis['minority']-ratio_analysis['majority']\n",
    "ratio_analysis = ratio_analysis[['dataset', 'framework', 'majority', 'minority', 'difference', 'ratio_class']]"
   ]
  },
  {
   "cell_type": "code",
   "execution_count": 91,
   "metadata": {},
   "outputs": [
    {
     "data": {
      "image/png": "[encoded data removed]",
      "text/plain": [
       "<Figure size 432x432 with 1 Axes>"
      ]
     },
     "metadata": {
      "needs_background": "light"
     },
     "output_type": "display_data"
    }
   ],
   "source": [
    "# Total mean validity\n",
    "fig, ax1 = plt.subplots(figsize=(6, 6))\n",
    "tidy = ratio_analysis[['framework', 'majority', 'minority']].melt(id_vars='framework').rename(columns=str.title)\n",
    "fig_parameters = sns.barplot(x='Framework', y='Value', hue='Variable', data=tidy, ax=ax1, palette=sns.color_palette(\"GnBu\", 2))\n",
    "fig_parameters.set_title('Total Datasets', fontsize=20)\n",
    "sns.despine(fig)"
   ]
  },
  {
   "cell_type": "code",
   "execution_count": 92,
   "metadata": {},
   "outputs": [
    {
     "data": {
      "image/png": "[encoded data removed]",
      "text/plain": [
       "<Figure size 432x432 with 1 Axes>"
      ]
     },
     "metadata": {
      "needs_background": "light"
     },
     "output_type": "display_data"
    }
   ],
   "source": [
    "# Mean validity\n",
    "r_a_b = ratio_analysis[(ratio_analysis['ratio_class'].isin(['b', 'u']))]\n",
    "mean_r_a_b = r_a_b.groupby('framework').mean()[['majority','minority']]\n",
    "mean_r_a_b = mean_r_a_b.rename(columns = {'majority': 'Majority ➞ Minority', 'minority': 'Minority ➞ Majority'})\n",
    "mean_r_a_b = mean_r_a_b.reset_index()\n",
    "# mean_r_a_b.plot.bar()\n",
    "fig, ax1 = plt.subplots(figsize=(6, 6))\n",
    "tidy = mean_r_a_b.melt(id_vars='framework').rename(columns=str.title)\n",
    "fig_parameters = sns.barplot(x='Framework', y='Value', hue='Variable', data=tidy, ax=ax1, palette=sns.color_palette(\"GnBu\", 2))\n",
    "fig_parameters.set_title('Balanced Datasets', fontsize=20)\n",
    "sns.despine(fig)"
   ]
  },
  {
   "cell_type": "code",
   "execution_count": 80,
   "metadata": {},
   "outputs": [
    {
     "data": {
      "image/png": "[encoded data removed]",
      "text/plain": [
       "<Figure size 432x432 with 1 Axes>"
      ]
     },
     "metadata": {
      "needs_background": "light"
     },
     "output_type": "display_data"
    }
   ],
   "source": [
    "# Mean validity\n",
    "r_a_b = ratio_analysis[(ratio_analysis['ratio_class'].isin(['hu']))]\n",
    "mean_r_a_b = r_a_b.groupby('framework').mean()[['majority','minority']]\n",
    "mean_r_a_b = mean_r_a_b.rename(columns = {'majority': 'Majority ➞ Minority', 'minority': 'Minority ➞ Majority'})\n",
    "mean_r_a_b = mean_r_a_b.reset_index()\n",
    "# mean_r_a_b.plot.bar()\n",
    "fig, ax1 = plt.subplots(figsize=(6, 6))\n",
    "tidy = mean_r_a_b.melt(id_vars='framework').rename(columns=str.title)\n",
    "fig_parameters = sns.barplot(x='Framework', y='Value', hue='Variable', data=tidy, ax=ax1, palette=sns.color_palette(\"GnBu\", 2))\n",
    "fig_parameters.set_title('Unbalanced Datasets', fontsize=20)\n",
    "sns.despine(fig)"
   ]
  },
  {
   "cell_type": "code",
   "execution_count": null,
   "metadata": {},
   "outputs": [],
   "source": []
  },
  {
   "cell_type": "code",
   "execution_count": 81,
   "metadata": {},
   "outputs": [],
   "source": [
    "## Decision Tree To Find Best Approach"
   ]
  },
  {
   "cell_type": "code",
   "execution_count": null,
   "metadata": {},
   "outputs": [],
   "source": [
    "# Get dataset and model characteristics and labels are the best performing methods"
   ]
  },
  {
   "cell_type": "code",
   "execution_count": null,
   "metadata": {},
   "outputs": [],
   "source": []
  },
  {
   "cell_type": "code",
   "execution_count": null,
   "metadata": {},
   "outputs": [],
   "source": [
    "df_all_results"
   ]
  },
  {
   "cell_type": "code",
   "execution_count": null,
   "metadata": {},
   "outputs": [],
   "source": [
    "validity_raw_analysis = df_all_results[['framework', 'n', 'validity', 'dataset']].copy()"
   ]
  },
  {
   "cell_type": "code",
   "execution_count": null,
   "metadata": {},
   "outputs": [],
   "source": [
    "validity_raw_analysis['validity'] = validity_raw_analysis['validity'].fillna(False).map(int)"
   ]
  },
  {
   "cell_type": "code",
   "execution_count": null,
   "metadata": {},
   "outputs": [],
   "source": [
    "validity_raw_analysis_0 = validity_raw_analysis[validity_raw_analysis['n']=='0'].groupby(['dataset', 'framework']).mean()['validity'].to_frame().reset_index()"
   ]
  },
  {
   "cell_type": "code",
   "execution_count": null,
   "metadata": {},
   "outputs": [],
   "source": [
    "validity_raw_analysis_1 =  validity_raw_analysis[validity_raw_analysis['n']=='1'].groupby(['dataset', 'framework']).mean()['validity'].to_frame().reset_index()"
   ]
  },
  {
   "cell_type": "code",
   "execution_count": null,
   "metadata": {},
   "outputs": [],
   "source": [
    "ratio_df[ratio_df['ratio_class']=='hu']['dataset'].unique()"
   ]
  },
  {
   "cell_type": "code",
   "execution_count": null,
   "metadata": {},
   "outputs": [],
   "source": [
    "def better_majority_or_minority(row):\n",
    "    ds_r0 = ratio_df[ratio_df['dataset']==row['dataset']]['r0'].tolist()[0]\n",
    "    \n",
    "    if ds_r0 > 0.5:\n",
    "        # 0 is majority\n",
    "        if row['v1'] > row['v0']:\n",
    "            # Going to majority is better\n",
    "            return 'MAJORITY'\n",
    "        if row['v1'] < row['v0']:\n",
    "            # Going to minority is better\n",
    "            return 'minority'\n",
    "        else:\n",
    "            # Same, no changes\n",
    "            return 'draw'\n",
    "    else:\n",
    "        # 1 is majority\n",
    "        if row['v1'] > row['v0']:\n",
    "            # Going to minority is better\n",
    "            return 'minority'\n",
    "        if row['v1'] < row['v0']:\n",
    "            # Going to majority is better\n",
    "            return 'MAJORITY'\n",
    "        else:\n",
    "            # Same, no changes\n",
    "            return 'draw'"
   ]
  },
  {
   "cell_type": "code",
   "execution_count": null,
   "metadata": {},
   "outputs": [],
   "source": [
    "selected_fw = 'SEDC'"
   ]
  },
  {
   "cell_type": "code",
   "execution_count": null,
   "metadata": {},
   "outputs": [],
   "source": [
    "sfvr0 = validity_raw_analysis_0[(validity_raw_analysis_0['framework']==selected_fw)&(validity_raw_analysis_0['dataset'].isin(mix_ds))]\n",
    "sfvr1 = validity_raw_analysis_1[(validity_raw_analysis_1['framework']==selected_fw)&(validity_raw_analysis_1['dataset'].isin(mix_ds))]"
   ]
  },
  {
   "cell_type": "code",
   "execution_count": null,
   "metadata": {},
   "outputs": [],
   "source": [
    "sfvr0 = sfvr0.rename(columns={'validity': 'v0'})\n",
    "sfvr0['v1'] = sfvr1['validity']\n",
    "sfvr0['preference'] = sfvr0.apply(lambda x:better_majority_or_minority(x), axis=1)"
   ]
  },
  {
   "cell_type": "code",
   "execution_count": null,
   "metadata": {},
   "outputs": [],
   "source": [
    "sfvr0"
   ]
  },
  {
   "cell_type": "code",
   "execution_count": null,
   "metadata": {},
   "outputs": [],
   "source": []
  },
  {
   "cell_type": "code",
   "execution_count": null,
   "metadata": {},
   "outputs": [],
   "source": [
    "ratio_df[ratio_df['dataset'].isin(cat_ds)]"
   ]
  },
  {
   "cell_type": "code",
   "execution_count": null,
   "metadata": {},
   "outputs": [],
   "source": [
    "## Numerical Analysis"
   ]
  },
  {
   "cell_type": "code",
   "execution_count": null,
   "metadata": {},
   "outputs": [],
   "source": [
    "## Grouped ranking"
   ]
  },
  {
   "cell_type": "code",
   "execution_count": null,
   "metadata": {},
   "outputs": [],
   "source": [
    "df_all_results_test = df_all_results.copy()"
   ]
  },
  {
   "cell_type": "code",
   "execution_count": null,
   "metadata": {},
   "outputs": [],
   "source": [
    "df_all_results_test"
   ]
  },
  {
   "cell_type": "code",
   "execution_count": null,
   "metadata": {},
   "outputs": [],
   "source": [
    "df_all_results_realistic = df_all_results.copy()\n",
    "\n",
    "mask_unrealistic = df_all_results_realistic[['RUC', 'RMC']].apply(lambda x: 0 in [x['RUC'], x['RMC']], axis=1)\n",
    "    \n",
    "df_all_results_realistic.loc[mask_unrealistic, 'validity'] = False\n",
    "df_all_results_realistic.loc[mask_unrealistic, 'validityFound'] = False\n",
    "df_all_results_realistic.loc[mask_unrealistic, 'sparsity']= np.nan\n",
    "df_all_results_realistic.loc[mask_unrealistic, 'L2'] = np.nan\n",
    "df_all_results_realistic.loc[mask_unrealistic, 'RUC'] = np.nan\n",
    "df_all_results_realistic.loc[mask_unrealistic, 'RMC'] = np.nan\n",
    "df_all_results_realistic.loc[mask_unrealistic, 'MAD'] = np.nan\n",
    "df_all_results_realistic.loc[mask_unrealistic, 'MD'] = np.nan"
   ]
  },
  {
   "cell_type": "code",
   "execution_count": null,
   "metadata": {},
   "outputs": [],
   "source": [
    "test = df_all_results_realistic[df_all_results_realistic['dataset'].isin(num_ds)]"
   ]
  },
  {
   "cell_type": "code",
   "execution_count": null,
   "metadata": {},
   "outputs": [],
   "source": [
    "test[test['validity']==True]['framework'].value_counts()"
   ]
  },
  {
   "cell_type": "code",
   "execution_count": null,
   "metadata": {},
   "outputs": [],
   "source": [
    "# df_all_results_test.apply(lambda x: )"
   ]
  },
  {
   "cell_type": "code",
   "execution_count": null,
   "metadata": {},
   "outputs": [],
   "source": [
    "def generate_rank_analysis(ds_selection, n_list=['0', '1']):\n",
    "    \n",
    "    # Validity, RUC and RMC can not have NaN as value, as they are binary states ! NaN must be converted to 0\n",
    "    \n",
    "    rank_rows = []\n",
    "    for ds in ds_selection:\n",
    "        for n in n_list:\n",
    "            df_s = df_all_results[(df_all_results['dataset']==ds)&(df_all_results['n']==n)]\n",
    "            for ds_idx in list(df_s['index'].unique()):\n",
    "                df_s_idx = df_s[df_s['index']==ds_idx]\n",
    "\n",
    "                rank_max_row = df_s_idx.set_index('framework').drop(columns=['index', 'n', 'validityFound', 'dataset', 'L2', 'MAD', 'MD']).T.rank(na_option='bottom', axis=1, ascending=False)\n",
    "                rank_min_row = df_s_idx.set_index('framework').drop(columns=['index', 'n', 'validityFound', 'dataset', 'validity', 'sparsity', 'RUC', 'RMC']).T.rank(na_option='bottom', axis=1)\n",
    "\n",
    "                rank_row = pd.concat([rank_max_row, rank_min_row])\n",
    "                rank_rows.append(rank_row)\n",
    "    best_dfs = (sum(rank_rows)/len(rank_rows))\n",
    "    best_dfs['N'] = len(rank_rows)\n",
    "    \n",
    "    return best_dfs"
   ]
  },
  {
   "cell_type": "code",
   "execution_count": null,
   "metadata": {},
   "outputs": [],
   "source": [
    "def generate_rank_analysis_realistic(ds_selection, n_list=['0', '1']):\n",
    "    \n",
    "    # Validity, RUC and RMC can not have NaN as value, as they are binary states ! NaN must be converted to 0\n",
    "    \n",
    "    rank_rows = []\n",
    "    \n",
    "    df_all_results_realistic = df_all_results.copy()\n",
    "    mask_unrealistic = df_all_results_realistic[['RUC', 'RMC']].apply(lambda x: 0 in [x['RUC'], x['RMC']], axis=1)\n",
    "    \n",
    "    df_all_results_realistic.loc[mask_unrealistic, 'validity'] = False\n",
    "    df_all_results_realistic.loc[mask_unrealistic, 'validityFound'] = False\n",
    "    df_all_results_realistic.loc[mask_unrealistic, 'sparsity']= np.nan\n",
    "    df_all_results_realistic.loc[mask_unrealistic, 'L2'] = np.nan\n",
    "    df_all_results_realistic.loc[mask_unrealistic, 'RUC'] = np.nan\n",
    "    df_all_results_realistic.loc[mask_unrealistic, 'RMC'] = np.nan\n",
    "    df_all_results_realistic.loc[mask_unrealistic, 'MAD'] = np.nan\n",
    "    df_all_results_realistic.loc[mask_unrealistic, 'MD'] = np.nan\n",
    "    \n",
    "    for ds in ds_selection:\n",
    "        for n in n_list:\n",
    "            df_s = df_all_results_realistic[(df_all_results_realistic['dataset']==ds)&(df_all_results_realistic['n']==n)]\n",
    "            for ds_idx in list(df_s['index'].unique()):\n",
    "                df_s_idx = df_s[df_s['index']==ds_idx]\n",
    "\n",
    "                rank_max_row = df_s_idx.set_index('framework').drop(columns=['index', 'n', 'validityFound', 'dataset', 'L2', 'MAD', 'MD']).T.rank(na_option='bottom', axis=1, ascending=False)\n",
    "                rank_min_row = df_s_idx.set_index('framework').drop(columns=['index', 'n', 'validityFound', 'dataset', 'validity', 'sparsity', 'RUC', 'RMC']).T.rank(na_option='bottom', axis=1)\n",
    "\n",
    "                rank_row = pd.concat([rank_max_row, rank_min_row])\n",
    "                rank_rows.append(rank_row)\n",
    "    best_dfs = (sum(rank_rows)/len(rank_rows))\n",
    "    best_dfs['N'] = len(rank_rows)\n",
    "    \n",
    "    return best_dfs"
   ]
  },
  {
   "cell_type": "code",
   "execution_count": null,
   "metadata": {},
   "outputs": [],
   "source": [
    "def highlight_group_best(s):\n",
    "    '''\n",
    "    highlight the statistically significant with gray.\n",
    "    '''\n",
    "    \n",
    "    k = len(s.index)-1\n",
    "    N = s['N']\n",
    "    s_clean = s.drop('N')\n",
    "    \n",
    "    spx2f = sum([(R-(k+1)/2)**2 for R in s_clean.values])\n",
    "\n",
    "    x2f = 12*N/(k*(k+1))*spx2f\n",
    "\n",
    "    ff = (N-1)*x2f/(N*(k-1)-x2f)\n",
    "\n",
    "    # 95% of confidence\n",
    "    critical_f_value = sp.stats.f.ppf(q=1-.05, dfn=k-1, dfd=N-1)\n",
    "    \n",
    "    reject_h0 = True if ff >= critical_f_value else False\n",
    "    \n",
    "    if reject_h0:\n",
    "    \n",
    "        cd = cvnt005[k]*(k*(k+1)/(6*N))**0.5\n",
    "\n",
    "        # Get best frameworks\n",
    "        bests_fws = list(s_clean[s_clean<=(s_clean.min()+cd)].index)\n",
    "\n",
    "        return ['background-color: gray' if v in bests_fws else '' for v in list(s.index)]\n",
    "    else:\n",
    "        return ['' for v in list(s.index)]\n"
   ]
  },
  {
   "cell_type": "code",
   "execution_count": null,
   "metadata": {},
   "outputs": [],
   "source": [
    "def calc_critical_dif(scores, N):\n",
    "    k = len(scores)\n",
    "    \n",
    "    spx2f = sum([(R-(k+1)/2)**2 for R in scores])\n",
    "    x2f = 12*N/(k*(k+1))*spx2f\n",
    "    ff = (N-1)*x2f/(N*(k-1)-x2f)\n",
    "    \n",
    "    # 95% of confidence\n",
    "    critical_f_value = sp.stats.f.ppf(q=1-.05, dfn=k-1, dfd=N-1)\n",
    "    \n",
    "    reject_h0 = True if ff >= critical_f_value else False\n",
    "    \n",
    "    if reject_h0:\n",
    "    \n",
    "        cd = cvnt005[k]*(k*(k+1)/(6*N))**0.5\n",
    "\n",
    "        return cd\n",
    "    \n",
    "    return -1\n",
    "    "
   ]
  },
  {
   "cell_type": "code",
   "execution_count": null,
   "metadata": {},
   "outputs": [],
   "source": [
    "# # Calculate Raw Time\n",
    "# time_data = []\n",
    "# for pr in processed_results:\n",
    "#     if 'TIME' in pr:\n",
    "#         t_df = pd.read_csv(f'./results/processed/{pr}')\n",
    "#         t_df['3'] = t_df['3'].fillna(1800)\n",
    "        \n",
    "#         dsn = t_df['2'].unique()[0]\n",
    "#         fw = pr.split('_')[-1].split('.')[0]\n",
    "        \n",
    "#         meant = t_df['3'].mean()\n",
    "#         mean0 = t_df[t_df['1']==0]['3'].mean()\n",
    "#         mean1 = t_df[t_df['1']==1]['3'].mean()\n",
    "        \n",
    "#         stdt = t_df['3'].std()\n",
    "#         std0 = t_df[t_df['1']==0]['3'].std()\n",
    "#         std1 = t_df[t_df['1']==1]['3'].std()\n",
    "        \n",
    "#         time_data.append([dsn, fw, meant, stdt, mean0, std0, mean1, std1 ])\n",
    "# df_time = pd.DataFrame(time_data, columns=['dataset', 'framework', 'total', 'std', 'n0', 'std0', 'n1', 'std1'])"
   ]
  },
  {
   "cell_type": "code",
   "execution_count": null,
   "metadata": {},
   "outputs": [],
   "source": [
    "all_df_time = []\n",
    "for fn in os.listdir('./benchmark/log_bench/results/'):\n",
    "    \n",
    "    dsn = list(VAR_TYPES.keys())[int(fn.split('_')[4])]\n",
    "    n = int(fn.split('_')[5][0])\n",
    "    fw = fn.split('_')[3].split('.')[0]\n",
    "    \n",
    "    df_all = pd.read_csv('./benchmark/log_bench/results/'+fn, ' ', header=None, error_bad_lines=False)\n",
    "    df_all = df_all[[2,4]]\n",
    "    df_all.columns = ['time', 'error']\n",
    "    df_all['error'].map({'SUCCESS': 0, 'ERROR': 1})\n",
    "    df_all['dataset'] = dsn\n",
    "    df_all['framework'] = fw\n",
    "    df_all['n'] = n\n",
    "    \n",
    "    all_df_time.append(df_all)\n",
    "\n",
    "df_time_full = pd.concat(all_df_time)\n",
    "df_time_full = df_time_full[['dataset', 'framework', 'n', 'error', 'time']]"
   ]
  },
  {
   "cell_type": "code",
   "execution_count": null,
   "metadata": {},
   "outputs": [],
   "source": [
    "df_total = df_time_full.groupby(['framework', 'dataset'])['time']\n",
    "df_total_time = df_total.sum()\n",
    "df_mean_time = df_total.mean()\n",
    "df_std_time = df_total.std()\n",
    "\n",
    "df_total_0 = df_time_full[df_time_full['n']==0].groupby(['framework', 'dataset'])['time']\n",
    "df_total_time_0 = df_total_0.sum()\n",
    "df_mean_time_0 = df_total_0.mean()\n",
    "df_std_time_0 = df_total_0.std()\n",
    "\n",
    "df_total_1 = df_time_full[df_time_full['n']==1].groupby(['framework', 'dataset'])['time']\n",
    "df_total_time_1 = df_total_1.sum()\n",
    "df_mean_time_1 = df_total_1.mean()\n",
    "df_std_time_1 = df_total_1.std()"
   ]
  },
  {
   "cell_type": "code",
   "execution_count": null,
   "metadata": {},
   "outputs": [],
   "source": [
    "df_time = pd.concat([df_total_time, df_mean_time, df_std_time, \n",
    "                     df_total_time_0, df_mean_time_0, df_std_time_0,\n",
    "                     df_total_time_1, df_mean_time_1, df_std_time_1], axis=1)\n",
    "\n",
    "df_time = df_time.reset_index()\n",
    "df_time.columns = ['framework', 'dataset', \n",
    "                   'total', 'mean', 'std',\n",
    "                   'total_0', 'mean_0', 'std_0',\n",
    "                   'total_1', 'mean_1', 'std_1']"
   ]
  },
  {
   "cell_type": "code",
   "execution_count": null,
   "metadata": {},
   "outputs": [],
   "source": [
    "# Replication Analysis\n",
    "data_robustness = []\n",
    "for fw in framework_names:\n",
    "    for dsname in dsNames:\n",
    "        for n in [0, 1]:\n",
    "            \n",
    "            try:\n",
    "                # Result dataset, give some room to mathematical approximations\n",
    "                res_ds = pd.read_csv(f'./results/processed/{n}_{dsname}_{fw}.csv').apply(lambda x: round(x, 5))\n",
    "            except:\n",
    "                res_ds = ''\n",
    "            \n",
    "            if res_ds is not '':\n",
    "                # Replication dataset, give some room to mathematical approximations\n",
    "                rep_ds = pd.read_csv(f'./replication/processed/{n}_{dsname}_{fw}.csv').apply(lambda x: round(x, 5))\n",
    "                \n",
    "                total_dif = ((res_ds.fillna('n')!=rep_ds.fillna('n')).sum(axis=1)>0).sum()\n",
    "\n",
    "                # Total number of rows that generated results\n",
    "                total_n_rows = len(set(list(res_ds.dropna().index)+list(rep_ds.dropna().index)))\n",
    "                \n",
    "                \n",
    "                if total_n_rows > 0:\n",
    "                    robustness = 1 - float(total_dif)/float(total_n_rows)\n",
    "                else:\n",
    "                    robustness = np.nan\n",
    "                \n",
    "                data_robustness.append([dsname, fw, n, robustness])\n",
    "            else:\n",
    "                data_robustness.append([dsname, fw, n, np.nan])"
   ]
  },
  {
   "cell_type": "code",
   "execution_count": null,
   "metadata": {},
   "outputs": [],
   "source": [
    "df_rob = pd.DataFrame(data_robustness)\n",
    "df_rob.columns = ['dataset', 'framework', 'n', 'robustness']"
   ]
  },
  {
   "cell_type": "code",
   "execution_count": null,
   "metadata": {},
   "outputs": [],
   "source": [
    "df_rob"
   ]
  },
  {
   "cell_type": "code",
   "execution_count": null,
   "metadata": {},
   "outputs": [],
   "source": [
    "#############################################\n",
    "# Robustness Analysis"
   ]
  },
  {
   "cell_type": "code",
   "execution_count": null,
   "metadata": {},
   "outputs": [],
   "source": [
    "# Categorical\n",
    "df_rob_cat = pd.DataFrame(df_rob[df_rob['dataset'].isin(cat_ds)].copy().groupby('framework')['robustness'].mean())\n",
    "df_rob_cat['ds_type'] = 'categorical'"
   ]
  },
  {
   "cell_type": "code",
   "execution_count": null,
   "metadata": {},
   "outputs": [],
   "source": [
    "# Numerical\n",
    "df_rob_num = pd.DataFrame(df_rob[df_rob['dataset'].isin(num_ds)].copy().groupby('framework')['robustness'].mean())\n",
    "df_rob_num['ds_type'] = 'numerical'"
   ]
  },
  {
   "cell_type": "code",
   "execution_count": null,
   "metadata": {},
   "outputs": [],
   "source": [
    "# Mixed\n",
    "df_rob_mix = pd.DataFrame(df_rob[df_rob['dataset'].isin(mix_ds)].copy().groupby('framework')['robustness'].mean())\n",
    "df_rob_mix['ds_type'] = 'mixed'"
   ]
  },
  {
   "cell_type": "code",
   "execution_count": null,
   "metadata": {},
   "outputs": [],
   "source": [
    "data_robustness = pd.concat([df_rob_cat, df_rob_num, df_rob_mix]).reset_index()\n",
    "data_robustness['framework'] = data_robustness['framework'].map(short_frameworks)\n",
    "data_robustness = data_robustness.pivot('ds_type', 'framework', 'robustness')"
   ]
  },
  {
   "cell_type": "code",
   "execution_count": null,
   "metadata": {},
   "outputs": [],
   "source": [
    "data_robustness"
   ]
  },
  {
   "cell_type": "code",
   "execution_count": null,
   "metadata": {},
   "outputs": [],
   "source": [
    "f, ax = plt.subplots(figsize=(15, 3))\n",
    "ax.set(xlabel='Framework', ylabel='Stability')\n",
    "sns.barplot(data=data_robustness, palette=sns.color_palette(\"gist_rainbow\", 11))"
   ]
  },
  {
   "cell_type": "code",
   "execution_count": null,
   "metadata": {},
   "outputs": [],
   "source": [
    "#############################################"
   ]
  },
  {
   "cell_type": "code",
   "execution_count": null,
   "metadata": {},
   "outputs": [],
   "source": []
  },
  {
   "cell_type": "code",
   "execution_count": null,
   "metadata": {},
   "outputs": [],
   "source": [
    "#############################################\n",
    "# Time chart"
   ]
  },
  {
   "cell_type": "code",
   "execution_count": null,
   "metadata": {},
   "outputs": [],
   "source": [
    "# All Datasets"
   ]
  },
  {
   "cell_type": "code",
   "execution_count": null,
   "metadata": {},
   "outputs": [],
   "source": [
    "ds_total_columns = ds_characteristics[['Dataset', 'Columns Total']].copy()\n",
    "ds_total_columns.columns = ['dataset', 'total_cols']"
   ]
  },
  {
   "cell_type": "code",
   "execution_count": null,
   "metadata": {},
   "outputs": [],
   "source": [
    "df_time_graph = df_time.copy().merge(ds_total_columns, how='right', on='dataset')\n",
    "df_time_graph_data = df_time_graph[['total_cols', 'framework', 'total']] "
   ]
  },
  {
   "cell_type": "code",
   "execution_count": null,
   "metadata": {},
   "outputs": [],
   "source": [
    "df_time_graph_data = df_time_graph_data.groupby(['framework', 'total_cols']).mean().reset_index().pivot('total_cols', 'framework', 'total')"
   ]
  },
  {
   "cell_type": "code",
   "execution_count": null,
   "metadata": {},
   "outputs": [],
   "source": [
    "df_time_graph_data = df_time_graph_data"
   ]
  },
  {
   "cell_type": "code",
   "execution_count": null,
   "metadata": {},
   "outputs": [],
   "source": [
    "sns.lineplot(data=df_time_graph_data)"
   ]
  },
  {
   "cell_type": "code",
   "execution_count": null,
   "metadata": {},
   "outputs": [],
   "source": [
    "# Categorical Datasets - Numer of columns"
   ]
  },
  {
   "cell_type": "code",
   "execution_count": null,
   "metadata": {},
   "outputs": [],
   "source": [
    "ds_cat_columns = ds_characteristics[ds_characteristics['Dataset'].isin(cat_ds)][['Dataset', 'Columns Total']].copy()\n",
    "ds_cat_columns.columns = ['dataset', 'total_cols']"
   ]
  },
  {
   "cell_type": "code",
   "execution_count": null,
   "metadata": {},
   "outputs": [],
   "source": [
    "df_time_graph_cat = df_time.copy().merge(ds_cat_columns, how='right', on='dataset')\n",
    "df_time_graph_cat['framework'] = df_time_graph_cat['framework'].map(short_frameworks)\n",
    "df_time_graph_cat_data = df_time_graph_cat[['total_cols', 'framework', 'mean']]"
   ]
  },
  {
   "cell_type": "code",
   "execution_count": null,
   "metadata": {},
   "outputs": [],
   "source": [
    "df_time_graph_cat_data = df_time_graph_cat_data.groupby(['framework', 'total_cols']).mean().reset_index().pivot('total_cols', 'framework', 'mean')"
   ]
  },
  {
   "cell_type": "code",
   "execution_count": null,
   "metadata": {},
   "outputs": [],
   "source": [
    "df_time_graph_cat_data.index.name = \"Number of columns\"\n",
    "sns.heatmap(df_time_graph_cat_data, cmap=\"YlGnBu\")"
   ]
  },
  {
   "cell_type": "code",
   "execution_count": null,
   "metadata": {},
   "outputs": [],
   "source": [
    "f, ax = plt.subplots(figsize=(7, 7))\n",
    "ax.set(xlabel='Number of columns', ylabel='Time (s)')\n",
    "sns.lineplot(data=df_time_graph_cat_data, linewidth = 3)\n",
    "plt.legend(bbox_to_anchor=(1.05, 1), loc=2, borderaxespad=0.)"
   ]
  },
  {
   "cell_type": "code",
   "execution_count": null,
   "metadata": {},
   "outputs": [],
   "source": [
    "# Categorical Datasets - Numer of Rows"
   ]
  },
  {
   "cell_type": "code",
   "execution_count": null,
   "metadata": {},
   "outputs": [],
   "source": [
    "ds_cat_columns = ds_characteristics[ds_characteristics['Dataset'].isin(cat_ds)][['Dataset', 'Rows (train)']].copy()\n",
    "ds_cat_columns.columns = ['dataset', 'Rows (train)']"
   ]
  },
  {
   "cell_type": "code",
   "execution_count": null,
   "metadata": {},
   "outputs": [],
   "source": [
    "df_time_graph_cat = df_time.copy().merge(ds_cat_columns, how='right', on='dataset')\n",
    "df_time_graph_cat['framework'] = df_time_graph_cat['framework'].map(short_frameworks)\n",
    "df_time_graph_cat_data = df_time_graph_cat[['Rows (train)', 'framework', 'mean']]"
   ]
  },
  {
   "cell_type": "code",
   "execution_count": null,
   "metadata": {},
   "outputs": [],
   "source": [
    "df_time_graph_cat_data = df_time_graph_cat_data.groupby(['framework', 'Rows (train)']).mean().reset_index().pivot('Rows (train)', 'framework', 'mean')"
   ]
  },
  {
   "cell_type": "code",
   "execution_count": null,
   "metadata": {},
   "outputs": [],
   "source": [
    "df_time_graph_cat_data.index.name = \"Number of columns\"\n",
    "sns.heatmap(df_time_graph_cat_data, cmap=\"YlGnBu\")"
   ]
  },
  {
   "cell_type": "code",
   "execution_count": null,
   "metadata": {},
   "outputs": [],
   "source": [
    "f, ax = plt.subplots(figsize=(7, 7))\n",
    "ax.set(xlabel='Number of rows', ylabel='Time (s)')\n",
    "sns.lineplot(data=df_time_graph_cat_data, linewidth = 3)\n",
    "plt.legend(bbox_to_anchor=(1.05, 1), loc=2, borderaxespad=0.)"
   ]
  },
  {
   "cell_type": "code",
   "execution_count": null,
   "metadata": {},
   "outputs": [],
   "source": [
    "# Numerical Datasets - Columns"
   ]
  },
  {
   "cell_type": "code",
   "execution_count": null,
   "metadata": {},
   "outputs": [],
   "source": [
    "ds_num_columns = ds_characteristics[ds_characteristics['Dataset'].isin(num_ds)][['Dataset', 'Columns Total']].copy()\n",
    "ds_num_columns.columns = ['dataset', 'total_cols']"
   ]
  },
  {
   "cell_type": "code",
   "execution_count": null,
   "metadata": {},
   "outputs": [],
   "source": [
    "df_time_graph_num = df_time.copy().merge(ds_num_columns, how='right', on='dataset')\n",
    "df_time_graph_num['framework'] = df_time_graph_num['framework'].map(short_frameworks)\n",
    "df_time_graph_num_data = df_time_graph_num[['total_cols', 'framework', 'mean']]"
   ]
  },
  {
   "cell_type": "code",
   "execution_count": null,
   "metadata": {},
   "outputs": [],
   "source": [
    "df_time_graph_num_data = df_time_graph_num_data.groupby(['framework', 'total_cols']).mean().reset_index().pivot('total_cols', 'framework', 'mean')"
   ]
  },
  {
   "cell_type": "code",
   "execution_count": null,
   "metadata": {},
   "outputs": [],
   "source": [
    "df_time_graph_num_data.index.name = \"Number of columns\"\n",
    "sns.heatmap(df_time_graph_num_data, cmap=\"YlGnBu\")"
   ]
  },
  {
   "cell_type": "code",
   "execution_count": null,
   "metadata": {},
   "outputs": [],
   "source": [
    "f, ax = plt.subplots(figsize=(7, 7))\n",
    "ax.set(xlabel='Number of columns', ylabel='Time (s)')\n",
    "sns.lineplot(data=df_time_graph_num_data, linewidth = 3)\n",
    "plt.legend(bbox_to_anchor=(1.05, 1), loc=2, borderaxespad=0.)"
   ]
  },
  {
   "cell_type": "code",
   "execution_count": null,
   "metadata": {},
   "outputs": [],
   "source": [
    "# Numerical Datasets - Rows"
   ]
  },
  {
   "cell_type": "code",
   "execution_count": null,
   "metadata": {},
   "outputs": [],
   "source": [
    "ds_num_columns = ds_characteristics[ds_characteristics['Dataset'].isin(num_ds)][['Dataset', 'Rows (train)']].copy()\n",
    "ds_num_columns.columns = ['dataset', 'Rows (train)']"
   ]
  },
  {
   "cell_type": "code",
   "execution_count": null,
   "metadata": {},
   "outputs": [],
   "source": [
    "df_time_graph_num = df_time.copy().merge(ds_num_columns, how='right', on='dataset')\n",
    "df_time_graph_num['framework'] = df_time_graph_num['framework'].map(short_frameworks)\n",
    "df_time_graph_num_data = df_time_graph_num[['Rows (train)', 'framework', 'mean']]"
   ]
  },
  {
   "cell_type": "code",
   "execution_count": null,
   "metadata": {},
   "outputs": [],
   "source": [
    "df_time_graph_num_data = df_time_graph_num_data.groupby(['framework', 'Rows (train)']).mean().reset_index().pivot('Rows (train)', 'framework', 'mean')"
   ]
  },
  {
   "cell_type": "code",
   "execution_count": null,
   "metadata": {},
   "outputs": [],
   "source": [
    "df_time_graph_num_data.index.name = \"Number of columns\"\n",
    "sns.heatmap(df_time_graph_num_data, cmap=\"YlGnBu\")"
   ]
  },
  {
   "cell_type": "code",
   "execution_count": null,
   "metadata": {},
   "outputs": [],
   "source": [
    "f, ax = plt.subplots(figsize=(7, 7))\n",
    "ax.set(xlabel='Number of rows', ylabel='Time (s)')\n",
    "sns.lineplot(data=df_time_graph_num_data, linewidth = 3)\n",
    "plt.legend(bbox_to_anchor=(1.05, 1), loc=2, borderaxespad=0.)"
   ]
  },
  {
   "cell_type": "code",
   "execution_count": null,
   "metadata": {},
   "outputs": [],
   "source": [
    "# Mixed Datasets - Columns"
   ]
  },
  {
   "cell_type": "code",
   "execution_count": null,
   "metadata": {},
   "outputs": [],
   "source": [
    "ds_mix_columns = ds_characteristics[ds_characteristics['Dataset'].isin(mix_ds)][['Dataset', 'Columns Total']].copy()\n",
    "ds_mix_columns.columns = ['dataset', 'total_cols']"
   ]
  },
  {
   "cell_type": "code",
   "execution_count": null,
   "metadata": {},
   "outputs": [],
   "source": [
    "df_time_graph_mix = df_time.copy().merge(ds_mix_columns, how='right', on='dataset')\n",
    "df_time_graph_mix['framework'] = df_time_graph_mix['framework'].map(short_frameworks)\n",
    "df_time_graph_mix_data = df_time_graph_mix[['total_cols', 'framework', 'mean']]"
   ]
  },
  {
   "cell_type": "code",
   "execution_count": null,
   "metadata": {},
   "outputs": [],
   "source": [
    "df_time_graph_mix_data = df_time_graph_mix_data.groupby(['framework', 'total_cols']).mean().reset_index().pivot('total_cols', 'framework', 'mean')"
   ]
  },
  {
   "cell_type": "code",
   "execution_count": null,
   "metadata": {},
   "outputs": [],
   "source": [
    "df_time_graph_mix_data.index.name = 'Number of columns'\n",
    "sns.heatmap(df_time_graph_mix_data.rename(columns={'total_cols': \"Number of columns\"}), cmap=\"YlGnBu\")"
   ]
  },
  {
   "cell_type": "code",
   "execution_count": null,
   "metadata": {},
   "outputs": [],
   "source": []
  },
  {
   "cell_type": "code",
   "execution_count": null,
   "metadata": {},
   "outputs": [],
   "source": []
  },
  {
   "cell_type": "code",
   "execution_count": null,
   "metadata": {},
   "outputs": [],
   "source": [
    "#############################################"
   ]
  },
  {
   "cell_type": "code",
   "execution_count": null,
   "metadata": {},
   "outputs": [],
   "source": [
    "#############################################\n",
    "# Make list of winners"
   ]
  },
  {
   "cell_type": "code",
   "execution_count": null,
   "metadata": {},
   "outputs": [],
   "source": [
    "\n",
    "def generate_analysis(df, score):\n",
    "    analyzed = df.loc[score]\n",
    "    analyzed_scores = analyzed.drop('N')\n",
    "    N = analyzed['N']\n",
    "    \n",
    "    cd = calc_critical_dif(analyzed_scores, N)\n",
    "    threshold_first = cd + analyzed_scores.min()\n",
    "    \n",
    "    output = pd.DataFrame(analyzed_scores)\n",
    "    output['is_best_'+score] = output[score] <= threshold_first\n",
    "    \n",
    "    output = output.sort_values(score)\n",
    "    \n",
    "    return output"
   ]
  },
  {
   "cell_type": "code",
   "execution_count": null,
   "metadata": {},
   "outputs": [],
   "source": [
    "# Total\n",
    "total_ds_analysis = generate_rank_analysis(dsNames)"
   ]
  },
  {
   "cell_type": "code",
   "execution_count": null,
   "metadata": {},
   "outputs": [],
   "source": [
    "# Total time\n",
    "time_total = df_time[['framework', 'total']].groupby('framework').mean()\n",
    "\n",
    "# Total robustness\n",
    "rob_total = df_rob[['framework', 'robustness']].groupby('framework').mean()"
   ]
  },
  {
   "cell_type": "code",
   "execution_count": null,
   "metadata": {},
   "outputs": [],
   "source": [
    "total_validity = generate_analysis(total_ds_analysis, 'validity')\n",
    "total_sparsity = generate_analysis(total_ds_analysis, 'sparsity')\n",
    "total_ruc = generate_analysis(total_ds_analysis, 'RUC')\n",
    "total_rmc = generate_analysis(total_ds_analysis, 'RMC')\n",
    "total_l2 = generate_analysis(total_ds_analysis, 'L2')\n",
    "total_mad = generate_analysis(total_ds_analysis, 'MAD')\n",
    "total_md = generate_analysis(total_ds_analysis, 'MD')"
   ]
  },
  {
   "cell_type": "code",
   "execution_count": null,
   "metadata": {},
   "outputs": [],
   "source": [
    "pd.concat([total_validity, total_sparsity, total_ruc, total_rmc, total_l2, total_mad, total_md, time_total, rob_total], axis=1).to_csv('./rankings/total.csv')"
   ]
  },
  {
   "cell_type": "code",
   "execution_count": null,
   "metadata": {},
   "outputs": [],
   "source": [
    "# Categorical\n",
    "categorical_ds_analysis = generate_rank_analysis(cat_ds)"
   ]
  },
  {
   "cell_type": "code",
   "execution_count": null,
   "metadata": {},
   "outputs": [],
   "source": [
    "# Cat time\n",
    "time_cat = df_time[df_time['dataset'].isin(cat_ds)][['framework', 'total']].groupby('framework').mean()\n",
    "\n",
    "# Cat robustness\n",
    "rob_cat = df_rob[df_rob['dataset'].isin(cat_ds)][['framework', 'robustness']].groupby('framework').mean()"
   ]
  },
  {
   "cell_type": "code",
   "execution_count": null,
   "metadata": {},
   "outputs": [],
   "source": [
    "cat_validity = generate_analysis(categorical_ds_analysis, 'validity')\n",
    "cat_sparsity = generate_analysis(categorical_ds_analysis, 'sparsity')\n",
    "cat_ruc = generate_analysis(categorical_ds_analysis, 'RUC')\n",
    "cat_rmc = generate_analysis(categorical_ds_analysis, 'RMC')\n",
    "cat_l2 = generate_analysis(categorical_ds_analysis, 'L2')\n",
    "cat_mad = generate_analysis(categorical_ds_analysis, 'MAD')\n",
    "cat_md = generate_analysis(categorical_ds_analysis, 'MD')"
   ]
  },
  {
   "cell_type": "code",
   "execution_count": null,
   "metadata": {},
   "outputs": [],
   "source": [
    "pd.concat([cat_validity, cat_sparsity, cat_ruc, cat_rmc, cat_l2, cat_mad, cat_md, time_cat, rob_cat], axis=1).to_csv('./rankings/categorical.csv')"
   ]
  },
  {
   "cell_type": "code",
   "execution_count": null,
   "metadata": {},
   "outputs": [],
   "source": [
    "# Numerical\n",
    "numerical_ds_analysis = generate_rank_analysis(num_ds)"
   ]
  },
  {
   "cell_type": "code",
   "execution_count": null,
   "metadata": {},
   "outputs": [],
   "source": [
    "# Num time\n",
    "time_num = df_time[df_time['dataset'].isin(num_ds)][['framework', 'total']].groupby('framework').mean()\n",
    "\n",
    "# Num robustness\n",
    "rob_num = df_rob[df_rob['dataset'].isin(num_ds)][['framework', 'robustness']].groupby('framework').mean()"
   ]
  },
  {
   "cell_type": "code",
   "execution_count": null,
   "metadata": {},
   "outputs": [],
   "source": [
    "num_validity = generate_analysis(numerical_ds_analysis, 'validity')\n",
    "num_sparsity = generate_analysis(numerical_ds_analysis, 'sparsity')\n",
    "num_ruc = generate_analysis(numerical_ds_analysis, 'RUC')\n",
    "num_rmc = generate_analysis(numerical_ds_analysis, 'RMC')\n",
    "num_l2 = generate_analysis(numerical_ds_analysis, 'L2')\n",
    "num_mad = generate_analysis(numerical_ds_analysis, 'MAD')\n",
    "num_md = generate_analysis(numerical_ds_analysis, 'MD')"
   ]
  },
  {
   "cell_type": "code",
   "execution_count": null,
   "metadata": {},
   "outputs": [],
   "source": [
    "pd.concat([num_validity, num_sparsity, num_ruc, num_rmc, num_l2, num_mad, num_md, time_num, rob_num], axis=1).to_csv('./rankings/numerical.csv')"
   ]
  },
  {
   "cell_type": "code",
   "execution_count": null,
   "metadata": {},
   "outputs": [],
   "source": [
    "# Mixed\n",
    "mixed_ds_analysis = generate_rank_analysis(mix_ds)"
   ]
  },
  {
   "cell_type": "code",
   "execution_count": null,
   "metadata": {},
   "outputs": [],
   "source": [
    "# Num time\n",
    "time_mix = df_time[df_time['dataset'].isin(mix_ds)][['framework', 'total']].groupby('framework').mean()\n",
    "\n",
    "# Num robustness\n",
    "rob_mix = df_rob[df_rob['dataset'].isin(mix_ds)][['framework', 'robustness']].groupby('framework').mean()"
   ]
  },
  {
   "cell_type": "code",
   "execution_count": null,
   "metadata": {},
   "outputs": [],
   "source": [
    "mix_validity = generate_analysis(mixed_ds_analysis, 'validity')\n",
    "mix_sparsity = generate_analysis(mixed_ds_analysis, 'sparsity')\n",
    "mix_ruc = generate_analysis(mixed_ds_analysis, 'RUC')\n",
    "mix_rmc = generate_analysis(mixed_ds_analysis, 'RMC')\n",
    "mix_l2 = generate_analysis(mixed_ds_analysis, 'L2')\n",
    "mix_mad = generate_analysis(mixed_ds_analysis, 'MAD')\n",
    "mix_md = generate_analysis(mixed_ds_analysis, 'MD')"
   ]
  },
  {
   "cell_type": "code",
   "execution_count": null,
   "metadata": {},
   "outputs": [],
   "source": [
    "mix_validity"
   ]
  },
  {
   "cell_type": "code",
   "execution_count": null,
   "metadata": {},
   "outputs": [],
   "source": [
    "pd.concat([mix_validity, mix_sparsity, mix_ruc, mix_rmc, mix_l2, mix_mad, mix_md, time_mix, rob_mix], axis=1).to_csv('./rankings/mixed.csv')"
   ]
  },
  {
   "cell_type": "code",
   "execution_count": null,
   "metadata": {},
   "outputs": [],
   "source": [
    "#############################################"
   ]
  },
  {
   "cell_type": "code",
   "execution_count": null,
   "metadata": {},
   "outputs": [],
   "source": [
    "# Total\n",
    "total_ds_analysis = generate_rank_analysis(dsNames)"
   ]
  },
  {
   "cell_type": "code",
   "execution_count": null,
   "metadata": {},
   "outputs": [],
   "source": [
    "import plotly.graph_objects as go\n",
    "\n",
    "scores = ['validity', 'sparsity', 'L2', 'MAD', 'MD']\n",
    "\n",
    "data = total_ds_analysis.loc[scores, framework_names]\n",
    "\n",
    "fig = go.Figure()\n",
    "\n",
    "for fw in framework_names:\n",
    "    \n",
    "    fig.add_trace(go.Scatterpolar(\n",
    "        r=data[fw].tolist(),\n",
    "        theta = scores,\n",
    "#         fill='toself',\n",
    "        name=short_frameworks[fw]\n",
    "    ))\n",
    "    \n",
    "fig.update_layout(\n",
    "  polar=dict(\n",
    "    radialaxis=dict(\n",
    "      visible=True,\n",
    "      range=[data.max().max(), data.min().min()]\n",
    "    )),\n",
    "#   showlegend=False\n",
    ")\n",
    "\n",
    "fig.show()"
   ]
  },
  {
   "cell_type": "code",
   "execution_count": null,
   "metadata": {},
   "outputs": [],
   "source": [
    "total_ds_analysis.rename(columns={'GROWINGSPHERES3': 'GROWINGSPHERES'}).style.apply(highlight_group_best, axis=1)"
   ]
  },
  {
   "cell_type": "code",
   "execution_count": null,
   "metadata": {},
   "outputs": [],
   "source": [
    "total_ds_analysis.rename(columns={'GROWINGSPHERES3': 'GROWINGSPHERES'}).style.apply(highlight_group_best, axis=1).to_excel('total_ds_analysis.xlsx')"
   ]
  },
  {
   "cell_type": "code",
   "execution_count": null,
   "metadata": {},
   "outputs": [],
   "source": [
    "# Categorical\n",
    "cat_ds_analysis = generate_rank_analysis(cat_ds)\n",
    "cat_ds_analysis.rename(columns={'GROWINGSPHERES3': 'GROWINGSPHERES'}).style.apply(highlight_group_best, axis=1)"
   ]
  },
  {
   "cell_type": "code",
   "execution_count": null,
   "metadata": {},
   "outputs": [],
   "source": [
    "cat_ds_analysis.style.apply(highlight_group_best, axis=1).to_excel('cat_ds_analysis.xlsx')"
   ]
  },
  {
   "cell_type": "code",
   "execution_count": null,
   "metadata": {},
   "outputs": [],
   "source": [
    "# Numerical\n",
    "num_ds_analysis = generate_rank_analysis(num_ds)\n",
    "num_ds_analysis.rename(columns={'GROWINGSPHERES3': 'GROWINGSPHERES'}).style.apply(highlight_group_best, axis=1)"
   ]
  },
  {
   "cell_type": "code",
   "execution_count": null,
   "metadata": {},
   "outputs": [],
   "source": [
    "num_ds_analysis.style.apply(highlight_group_best, axis=1).to_excel('num_ds_analysis.xlsx')"
   ]
  },
  {
   "cell_type": "code",
   "execution_count": null,
   "metadata": {},
   "outputs": [],
   "source": [
    "# Mixed\n",
    "mix_ds_analysis = generate_rank_analysis(mix_ds)\n",
    "mix_ds_analysis.rename(columns={'GROWINGSPHERES3': 'GROWINGSPHERES'}).style.apply(highlight_group_best, axis=1)"
   ]
  },
  {
   "cell_type": "code",
   "execution_count": null,
   "metadata": {},
   "outputs": [],
   "source": [
    "mix_ds_analysis.style.apply(highlight_group_best, axis=1).to_excel('mix_ds_analysis.xlsx')"
   ]
  },
  {
   "cell_type": "code",
   "execution_count": null,
   "metadata": {},
   "outputs": [],
   "source": [
    "# Make same analysis before, but considering only valid"
   ]
  },
  {
   "cell_type": "code",
   "execution_count": null,
   "metadata": {},
   "outputs": [],
   "source": [
    "# Total\n",
    "total_ds_analysis_realistic = generate_rank_analysis_realistic(dsNames)\n",
    "total_ds_analysis_realistic.rename(columns={'GROWINGSPHERES3': 'GROWINGSPHERES'}).style.apply(highlight_group_best, axis=1)"
   ]
  },
  {
   "cell_type": "code",
   "execution_count": null,
   "metadata": {},
   "outputs": [],
   "source": [
    "scores = ['validity', 'sparsity', 'L2', 'MAD', 'MD']\n",
    "\n",
    "data = total_ds_analysis_realistic.loc[scores, framework_names]\n",
    "\n",
    "fig = go.Figure()\n",
    "\n",
    "for fw in framework_names:\n",
    "    \n",
    "    fig.add_trace(go.Scatterpolar(\n",
    "        r=data[fw].tolist(),\n",
    "        theta = scores,\n",
    "#         fill='toself',\n",
    "        name=short_frameworks[fw]\n",
    "    ))\n",
    "    \n",
    "fig.update_layout(\n",
    "  polar=dict(\n",
    "    radialaxis=dict(\n",
    "      visible=True,\n",
    "      range=[data.max().max(), data.min().min()]\n",
    "    )),\n",
    "#   showlegend=False\n",
    ")\n",
    "\n",
    "fig.show()"
   ]
  },
  {
   "cell_type": "code",
   "execution_count": null,
   "metadata": {},
   "outputs": [],
   "source": [
    "total_ds_analysis_realistic.rename(columns={'GROWINGSPHERES3': 'GROWINGSPHERES'}).style.apply(highlight_group_best, axis=1).to_excel('total_ds_analysis_realistic.xlsx')"
   ]
  },
  {
   "cell_type": "code",
   "execution_count": null,
   "metadata": {},
   "outputs": [],
   "source": [
    "# Categorical\n",
    "cat_ds_analysis_realistic = generate_rank_analysis_realistic(cat_ds)\n",
    "cat_ds_analysis_realistic.rename(columns={'GROWINGSPHERES3': 'GROWINGSPHERES'}).style.apply(highlight_group_best, axis=1)"
   ]
  },
  {
   "cell_type": "code",
   "execution_count": null,
   "metadata": {},
   "outputs": [],
   "source": [
    "cat_ds_analysis_realistic.rename(columns={'GROWINGSPHERES3': 'GROWINGSPHERES'}).style.apply(highlight_group_best, axis=1).to_excel('cat_ds_analysis_realistic.xlsx')"
   ]
  },
  {
   "cell_type": "code",
   "execution_count": null,
   "metadata": {},
   "outputs": [],
   "source": [
    "rank_rows = []\n",
    "    \n",
    "df_all_results_realistic = df_all_results.copy()\n",
    "mask_unrealistic = df_all_results_realistic[['RUC', 'RMC']].apply(lambda x: 0 in [x['RUC'], x['RMC']], axis=1)\n",
    "\n",
    "df_all_results_realistic.loc[mask_unrealistic, 'validity'] = False\n",
    "df_all_results_realistic.loc[mask_unrealistic, 'validityFound'] = False\n",
    "df_all_results_realistic.loc[mask_unrealistic, 'sparsity']= np.nan\n",
    "df_all_results_realistic.loc[mask_unrealistic, 'L2'] = np.nan\n",
    "df_all_results_realistic.loc[mask_unrealistic, 'RUC'] = np.nan\n",
    "df_all_results_realistic.loc[mask_unrealistic, 'RMC'] = np.nan\n",
    "df_all_results_realistic.loc[mask_unrealistic, 'MAD'] = np.nan\n",
    "df_all_results_realistic.loc[mask_unrealistic, 'MD'] = np.nan\n",
    "\n",
    "for ds in num_ds:\n",
    "    for n in ['0', '1']:\n",
    "        df_s = df_all_results_realistic[(df_all_results_realistic['dataset']==ds)&(df_all_results_realistic['n']==n)]\n",
    "        for ds_idx in list(df_s['index'].unique()):\n",
    "            df_s_idx = df_s[df_s['index']==ds_idx]\n",
    "\n",
    "            rank_max_row = df_s_idx.set_index('framework').drop(columns=['index', 'n', 'validityFound', 'dataset', 'L2', 'MAD', 'MD']).T.rank(na_option='bottom', axis=1, ascending=False)\n",
    "            rank_min_row = df_s_idx.set_index('framework').drop(columns=['index', 'n', 'validityFound', 'dataset', 'validity', 'sparsity', 'RUC', 'RMC']).T.rank(na_option='bottom', axis=1)\n",
    "\n",
    "            rank_row = pd.concat([rank_max_row, rank_min_row])\n",
    "            rank_rows.append(rank_row)\n",
    "best_dfs = (sum(rank_rows)/len(rank_rows))\n",
    "best_dfs['N'] = len(rank_rows)"
   ]
  },
  {
   "cell_type": "code",
   "execution_count": null,
   "metadata": {},
   "outputs": [],
   "source": [
    "# Numerical\n",
    "num_ds_analysis_realistic = generate_rank_analysis_realistic(num_ds)\n",
    "num_ds_analysis_realistic.rename(columns={'GROWINGSPHERES3': 'GROWINGSPHERES'}).style.apply(highlight_group_best, axis=1)"
   ]
  },
  {
   "cell_type": "code",
   "execution_count": null,
   "metadata": {},
   "outputs": [],
   "source": [
    "num_ds_analysis_realistic.rename(columns={'GROWINGSPHERES3': 'GROWINGSPHERES'}).style.apply(highlight_group_best, axis=1).to_excel('num_ds_analysis_realistic.xlsx')"
   ]
  },
  {
   "cell_type": "code",
   "execution_count": null,
   "metadata": {},
   "outputs": [],
   "source": [
    "# Mixed\n",
    "mix_ds_analysis_realistic = generate_rank_analysis_realistic(mix_ds)\n",
    "mix_ds_analysis_realistic.rename(columns={'GROWINGSPHERES3': 'GROWINGSPHERES'}).style.apply(highlight_group_best, axis=1)"
   ]
  },
  {
   "cell_type": "code",
   "execution_count": null,
   "metadata": {},
   "outputs": [],
   "source": [
    "mix_ds_analysis_realistic.rename(columns={'GROWINGSPHERES3': 'GROWINGSPHERES'}).style.apply(highlight_group_best, axis=1).to_excel('mix_ds_analysis_realistic.xlsx')"
   ]
  },
  {
   "cell_type": "code",
   "execution_count": null,
   "metadata": {},
   "outputs": [],
   "source": []
  },
  {
   "cell_type": "code",
   "execution_count": null,
   "metadata": {},
   "outputs": [],
   "source": []
  },
  {
   "cell_type": "code",
   "execution_count": null,
   "metadata": {},
   "outputs": [],
   "source": []
  },
  {
   "cell_type": "code",
   "execution_count": null,
   "metadata": {},
   "outputs": [],
   "source": []
  },
  {
   "cell_type": "code",
   "execution_count": null,
   "metadata": {},
   "outputs": [],
   "source": []
  },
  {
   "cell_type": "code",
   "execution_count": null,
   "metadata": {},
   "outputs": [],
   "source": []
  },
  {
   "cell_type": "code",
   "execution_count": null,
   "metadata": {},
   "outputs": [],
   "source": [
    "# Make Analysis for each dataset and class"
   ]
  },
  {
   "cell_type": "code",
   "execution_count": null,
   "metadata": {},
   "outputs": [],
   "source": []
  },
  {
   "cell_type": "code",
   "execution_count": null,
   "metadata": {},
   "outputs": [],
   "source": [
    "## Grouped ranking"
   ]
  },
  {
   "cell_type": "code",
   "execution_count": null,
   "metadata": {},
   "outputs": [],
   "source": []
  },
  {
   "cell_type": "code",
   "execution_count": null,
   "metadata": {},
   "outputs": [],
   "source": [
    "pd.DataFrame({'framework':[fw]*n_rows, 'n': [n]*n_rows, 'validity': [False]*n_rows, \n",
    "             'validityFound': [False]*n_rows, 'sparsity': [np.nan]*n_rows, 'L2': [np.nan]*n_rows, \n",
    "             'RUC': [np.nan]*n_rows, 'RMC': [np.nan]*n_rows, 'MAD': [np.nan]*n_rows, 'MD': [np.nan]*n_rows})"
   ]
  },
  {
   "cell_type": "code",
   "execution_count": null,
   "metadata": {},
   "outputs": [],
   "source": [
    "pd.DataFrame(dict_results['SDD']['0'][0])"
   ]
  },
  {
   "cell_type": "code",
   "execution_count": null,
   "metadata": {},
   "outputs": [],
   "source": []
  },
  {
   "cell_type": "code",
   "execution_count": null,
   "metadata": {},
   "outputs": [],
   "source": [
    "scores_parameters = {\n",
    "    'validity': 'max',\n",
    "    'sparsity': 'max',\n",
    "    'L2': 'min',\n",
    "    'RUC': 'max',\n",
    "    'RMC': 'max',\n",
    "    'MAD': 'min',\n",
    "    'MD': 'min'\n",
    "}"
   ]
  },
  {
   "cell_type": "code",
   "execution_count": null,
   "metadata": {},
   "outputs": [],
   "source": [
    "def calculate_rankings(row, d):\n",
    "    best_values = row.dropna().unique()\n",
    "\n",
    "    if d == 'max':\n",
    "        best_values[::-1].sort()\n",
    "    if d == 'min':\n",
    "        best_values.sort()\n",
    "\n",
    "    ranking_row = {}\n",
    "\n",
    "    counter_score = 1\n",
    "    for bv in best_values:\n",
    "        sfw = list(row[row == bv].index)\n",
    "        score = sum([*range(counter_score, counter_score + len(sfw))])/len(sfw)\n",
    "        counter_score += len(sfw)\n",
    "        for fw in sfw:\n",
    "            ranking_row[fw] = score\n",
    "\n",
    "    nan_fws = list(set(framework_names) - set(ranking_row.keys()))\n",
    "    if len(nan_fws) > 0:\n",
    "        nan_score = sum([*range(counter_score, counter_score + len(nan_fws))]) / len(nan_fws)\n",
    "\n",
    "        for fw in nan_fws:\n",
    "            ranking_row[fw] = nan_score\n",
    "\n",
    "    return ranking_row"
   ]
  },
  {
   "cell_type": "code",
   "execution_count": null,
   "metadata": {},
   "outputs": [],
   "source": [
    "def get_mean_ranking(dsName, n, parameter, d):\n",
    "    data_results = dict_results[dsName][n]\n",
    "    total_parameter = []\n",
    "    names_frameworks = []\n",
    "    number_of_rows = -1\n",
    "    for data in data_results:\n",
    "        names_frameworks.append(data['framework'])\n",
    "        total_parameter.append(data[parameter])\n",
    "        if number_of_rows == -1:\n",
    "            number_of_rows = len(data[parameter])\n",
    "        else:\n",
    "            assert len(data[parameter]) == number_of_rows\n",
    "\n",
    "    df_param = pd.DataFrame(total_parameter).T\n",
    "    df_param.columns = names_frameworks\n",
    "\n",
    "    ranking_all_rows = []\n",
    "    for idx, row in df_param.iterrows():\n",
    "\n",
    "        ranking_row = calculate_rankings(row, d)\n",
    "\n",
    "        ranking_all_rows.append(ranking_row)\n",
    "\n",
    "    return ranking_all_rows"
   ]
  },
  {
   "cell_type": "code",
   "execution_count": null,
   "metadata": {},
   "outputs": [],
   "source": [
    "result_rows_best = []\n",
    "result_all_rows = []\n",
    "for dsName in dict_results.keys():\n",
    "    for n in dict_results[dsName].keys():\n",
    "        # Just to get the frameworks sorted\n",
    "        frameworks_sorted = np.sort(framework_names).tolist()\n",
    "        \n",
    "        ####################################################\n",
    "        # Row Specific results\n",
    "        ####################################################\n",
    "        cat_feats = VAR_TYPES[dsName]['categorical']\n",
    "        num_feats = VAR_TYPES[dsName]['numerical']\n",
    "\n",
    "        df = pd.read_csv(f'./data/{dsName}.csv')\n",
    "        # Define the majority class as 0 and the other classes as 1, binarization\n",
    "        most_common_class = df['output'].value_counts().index[0]\n",
    "        df['output'] = df['output'].apply(lambda x: 0 if x==most_common_class else 1)\n",
    "\n",
    "        df_fc_idxs = pd.read_csv(f'./experiments_data/{dsName}_CFDATASET_{n}.csv')['Unnamed: 0']\n",
    "\n",
    "        if len(cat_feats) > 0 and len(num_feats) > 0:\n",
    "            df_oh = pd.read_csv(f'./data/OH_NORM_{dsName}.csv')\n",
    "        elif len(cat_feats) > 0:\n",
    "            df_oh = pd.read_csv(f'./data/OH_{dsName}.csv')\n",
    "        else:\n",
    "            df_oh = pd.read_csv(f'./data/NORM_{dsName}.csv')\n",
    "\n",
    "        df_fc = df_oh.loc[df_fc_idxs]\n",
    "        \n",
    "        df_original_labels = df.loc[df_fc_idxs]['output']\n",
    "\n",
    "        model_keras = load_model(f'./models/{dsName}.h5')\n",
    "\n",
    "        original_class_probability = pd.DataFrame(model_keras.predict(df_fc.drop(columns=['output'])))\n",
    "        ####################################################\n",
    "\n",
    "        for score_name, score_order in scores_parameters.items():\n",
    "            result_best = get_mean_ranking(dsName, n, score_name, score_order)\n",
    "            \n",
    "            ########################################################\n",
    "            df_best_rows = pd.DataFrame(result_best)\n",
    "            df_best_rows['dataset'] = dsName\n",
    "            df_best_rows['n'] = n\n",
    "            df_best_rows['score'] = score_name\n",
    "            df_best_rows['class_probability'] = original_class_probability[0] if int(n) == 0 else original_class_probability[1]\n",
    "            df_best_rows['missclassified'] = df['output']!=int(n)\n",
    "            \n",
    "            result_all_rows.append(df_best_rows)\n",
    "            ######################################\n",
    "            \n",
    "            Ndataset = len(result_best)\n",
    "            df_best = pd.DataFrame(result_best)[frameworks_sorted]\n",
    "            df_best = df_best.mean().to_frame(0).T\n",
    "            df_best['N'] = Ndataset\n",
    "            \n",
    "            df_best['dataset'] = dsName\n",
    "            df_best['n'] = n\n",
    "            df_best['score'] = score_name\n",
    "\n",
    "            df_best.index = [f'{dsName}_{n}_{score_name}_{score_order}']\n",
    "\n",
    "            result_rows_best.append(df_best)\n",
    "\n",
    "df_mean_ranking = pd.concat(result_rows_best)"
   ]
  },
  {
   "cell_type": "code",
   "execution_count": null,
   "metadata": {},
   "outputs": [],
   "source": [
    "df_result_rows_best = pd.concat(result_all_rows)\n",
    "df_result_rows_best"
   ]
  },
  {
   "cell_type": "code",
   "execution_count": null,
   "metadata": {},
   "outputs": [],
   "source": [
    "df_mean_ranking.loc[list(df_mean_ranking.index)]"
   ]
  },
  {
   "cell_type": "code",
   "execution_count": null,
   "metadata": {},
   "outputs": [],
   "source": [
    "df_mean_ranking[\n",
    "    (df_mean_ranking['dataset']=='Adult')&\n",
    "    (df_mean_ranking['n']=='0')\n",
    "].drop(columns=['N', 'dataset', 'n', 'score'])"
   ]
  },
  {
   "cell_type": "code",
   "execution_count": null,
   "metadata": {},
   "outputs": [],
   "source": [
    "df_mean_ranking"
   ]
  },
  {
   "cell_type": "code",
   "execution_count": null,
   "metadata": {},
   "outputs": [],
   "source": [
    "best_fws = []\n",
    "for name, df in df_mean_ranking.drop(columns=['dataset', 'n', 'score']).iterrows():\n",
    "\n",
    "    # No of treatments = No of frameworks / No of tests = No of rows\n",
    "\n",
    "    N = df['N']\n",
    "    k = (df.shape[0]-1)\n",
    "\n",
    "    spx2f = sum([(R-(k+1)/2)**2 for R in df.drop('N').values])\n",
    "\n",
    "    x2f = 12*N/(k*(k+1))*spx2f\n",
    "\n",
    "    ff = (N-1)*x2f/(N*(k-1)-x2f)\n",
    "\n",
    "    # 95% of confidence\n",
    "    critical_f_value = sp.stats.f.ppf(q=1-.05, dfn=k-1, dfd=N-1)\n",
    "    \n",
    "    reject_h0 = True if ff >= critical_f_value else False\n",
    "\n",
    "    cd = cvnt005[k]*(k*(k+1)/(6*N))**0.5\n",
    "\n",
    "\n",
    "\n",
    "    unique_ranks = df.drop('N').unique().tolist()\n",
    "\n",
    "    best_result = min(unique_ranks)\n",
    "\n",
    "    groups = []\n",
    "    for rc in unique_ranks:\n",
    "        rc_group = [rc]\n",
    "        for rt in list(set(unique_ranks)-set([rc])):\n",
    "            if abs(rt-rc) < cd:\n",
    "                rc_group.append(rt)\n",
    "        dupe = False\n",
    "        for gp in groups:\n",
    "            if set(gp) == set(rc_group):\n",
    "                dupe = True\n",
    "        if not dupe:\n",
    "\n",
    "            groups.append(rc_group)\n",
    "\n",
    "    best_group = []\n",
    "    for gp in groups:\n",
    "        if best_result in gp:\n",
    "            best_group += gp\n",
    "\n",
    "    best_fw = {}\n",
    "    for fw, rank in df.drop('N').items():\n",
    "        if rank in best_group:\n",
    "            best_fw[fw] = 1\n",
    "        else:\n",
    "            best_fw[fw] = 0\n",
    "\n",
    "    res_out = pd.DataFrame([best_fw])[framework_names]\n",
    "    res_out.index = [name]\n",
    "    \n",
    "    res_out['H0_Reject'] = reject_h0\n",
    "    \n",
    "    res_out['dataset'] = name.split('_')[0]\n",
    "    res_out['n'] = name.split('_')[1]\n",
    "    res_out['score'] = name.split('_')[2]\n",
    "\n",
    "    best_fws.append(res_out)\n",
    "\n",
    "df_best_fws = pd.concat(best_fws)"
   ]
  },
  {
   "cell_type": "code",
   "execution_count": null,
   "metadata": {},
   "outputs": [],
   "source": []
  },
  {
   "cell_type": "code",
   "execution_count": null,
   "metadata": {},
   "outputs": [],
   "source": [
    "def highlight_best(s):\n",
    "    '''\n",
    "    highlight the statistically significant with gray.\n",
    "    '''\n",
    "    \n",
    "    has_best = df_best_fws.loc[s.name]['H0_Reject']\n",
    "    \n",
    "    if has_best:\n",
    "        \n",
    "        bests = df_best_fws.loc[s.name].drop(['H0_Reject', 'dataset', 'n', 'score'])\n",
    "        bests = bests[bests==1]\n",
    "        bests_fws = list(bests[bests==1].index)\n",
    "        \n",
    "        return ['background-color: gray' if v in bests_fws else '' for v in list(s.index)]\n",
    "    is_max = s == s.max()\n",
    "    \n",
    "    return ['']*len(s)"
   ]
  },
  {
   "cell_type": "code",
   "execution_count": null,
   "metadata": {},
   "outputs": [],
   "source": [
    "df_mean_ranking[\n",
    "    (df_mean_ranking['n']=='0')\n",
    "].drop(columns=['N', 'dataset', 'n', 'score']).style.apply(highlight_best, axis=1).to_excel('analysis.xlsx')"
   ]
  },
  {
   "cell_type": "code",
   "execution_count": null,
   "metadata": {},
   "outputs": [],
   "source": [
    "cat_ds = []\n",
    "num_ds = []\n",
    "mixed_ds = []\n",
    "for key, value in VAR_TYPES.items():\n",
    "    if len(value['categorical']) > 0 and len(value['numerical']) > 0:\n",
    "        mixed_ds.append(key)\n",
    "    elif len(value['categorical']) > 0:\n",
    "        cat_ds.append(key)\n",
    "    else:\n",
    "        num_ds.append(key)"
   ]
  },
  {
   "cell_type": "code",
   "execution_count": null,
   "metadata": {},
   "outputs": [],
   "source": [
    "b_dsNames = []\n",
    "u_dsNames = []\n",
    "hu_dsNames = []\n",
    "for _, row in ratio_df.iterrows():\n",
    "    ds = row['dataset']\n",
    "    r_c = row['ratio_class']\n",
    "    mj = 0 if row['r0'] > row['r1'] else 1\n",
    "    mn = 1 if row['r0'] > row['r1'] else 0\n",
    "    \n",
    "    if r_c == 'b':\n",
    "        b_dsNames.append([ds, mj, mn])\n",
    "    if r_c == 'u':\n",
    "        u_dsNames.append([ds, mj, mn])\n",
    "    if r_c == 'hu':\n",
    "        hu_dsNames.append([ds, mj, mn])\n",
    "    \n",
    "df_bds = pd.DataFrame(b_dsNames, columns=['dataset', 'majority_class', 'minority_class'])\n",
    "df_uds = pd.DataFrame(u_dsNames, columns=['dataset', 'majority_class', 'minority_class'])\n",
    "df_huds = pd.DataFrame(hu_dsNames, columns=['dataset', 'majority_class', 'minority_class'])"
   ]
  },
  {
   "cell_type": "code",
   "execution_count": null,
   "metadata": {},
   "outputs": [],
   "source": [
    "ratio_df[ratio_df['dataset'].isin(cat_ds)]['ratio_class'].value_counts()"
   ]
  },
  {
   "cell_type": "code",
   "execution_count": null,
   "metadata": {},
   "outputs": [],
   "source": [
    "ratio_df[ratio_df['dataset'].isin(num_ds)]['ratio_class'].value_counts()"
   ]
  },
  {
   "cell_type": "code",
   "execution_count": null,
   "metadata": {},
   "outputs": [],
   "source": [
    "ratio_df[ratio_df['dataset'].isin(mixed_ds)]['ratio_class'].value_counts()"
   ]
  },
  {
   "cell_type": "code",
   "execution_count": null,
   "metadata": {},
   "outputs": [],
   "source": [
    "# Analysis Majority x Minority "
   ]
  },
  {
   "cell_type": "code",
   "execution_count": null,
   "metadata": {},
   "outputs": [],
   "source": [
    "# .drop(columns=['N', 'dataset', 'n', 'score']).style.apply(highlight_best, axis=1)"
   ]
  },
  {
   "cell_type": "code",
   "execution_count": null,
   "metadata": {},
   "outputs": [],
   "source": [
    "df_selected = df_bds"
   ]
  },
  {
   "cell_type": "code",
   "execution_count": null,
   "metadata": {},
   "outputs": [],
   "source": [
    "query = '|'.join(df_selected.apply(lambda x: f'((dataset==\"{x.dataset}\")&(n==\"{x.majority_class}\"))', axis=1).tolist())"
   ]
  },
  {
   "cell_type": "code",
   "execution_count": null,
   "metadata": {},
   "outputs": [],
   "source": [
    "# df_mean_ranking.query(query).drop(columns=['N', 'dataset', 'n', 'score']).style.apply(highlight_best, axis=1)"
   ]
  },
  {
   "cell_type": "code",
   "execution_count": null,
   "metadata": {},
   "outputs": [],
   "source": [
    "df_mean_ranking[df_mean_ranking['score']=='validity'].query(query).drop(columns=['N', 'dataset', 'n', 'score']).style.apply(highlight_best, axis=1)"
   ]
  },
  {
   "cell_type": "code",
   "execution_count": null,
   "metadata": {},
   "outputs": [],
   "source": [
    "query = '|'.join(df_selected.apply(lambda x: f'((dataset==\"{x.dataset}\")&(n==\"{x.minority_class}\"))', axis=1).tolist())"
   ]
  },
  {
   "cell_type": "code",
   "execution_count": null,
   "metadata": {},
   "outputs": [],
   "source": [
    "df_mean_ranking[df_mean_ranking['score']=='validity'].query(query).drop(columns=['N', 'dataset', 'n', 'score']).style.apply(highlight_best, axis=1)"
   ]
  },
  {
   "cell_type": "code",
   "execution_count": null,
   "metadata": {},
   "outputs": [],
   "source": [
    "df_mean_ranking"
   ]
  },
  {
   "cell_type": "code",
   "execution_count": null,
   "metadata": {},
   "outputs": [],
   "source": [
    "# Chart Wins x % CF Class - Validity\n",
    "chart_data = []\n",
    "for idx, row in ratio_df.iterrows():\n",
    "    ds = row['dataset']\n",
    "    \n",
    "    if ds in num_ds:\n",
    "        for n in [0, 1]:\n",
    "            proportion = ratio_df[(ratio_df['dataset']==ds)][f'r{n}'].tolist()[0]\n",
    "            selection = df_mean_ranking[(df_mean_ranking['score']=='RUC')&(df_mean_ranking['n']==str(n))&(df_mean_ranking['dataset']==ds)].copy()\n",
    "            selection['cf_c_p'] = proportion\n",
    "\n",
    "            chart_data.append(selection)"
   ]
  },
  {
   "cell_type": "code",
   "execution_count": null,
   "metadata": {},
   "outputs": [],
   "source": []
  },
  {
   "cell_type": "code",
   "execution_count": null,
   "metadata": {},
   "outputs": [],
   "source": [
    "df_result = pd.concat(chart_data)\n",
    "df_result = df_result.drop(columns=['N', 'dataset', 'n', 'score', 'cf_c_p'])"
   ]
  },
  {
   "cell_type": "code",
   "execution_count": null,
   "metadata": {},
   "outputs": [],
   "source": []
  },
  {
   "cell_type": "code",
   "execution_count": null,
   "metadata": {},
   "outputs": [],
   "source": [
    "# Analysis Majority x Minority "
   ]
  },
  {
   "cell_type": "code",
   "execution_count": null,
   "metadata": {},
   "outputs": [],
   "source": [
    "# mix 0 and 1 cats?"
   ]
  },
  {
   "cell_type": "code",
   "execution_count": null,
   "metadata": {},
   "outputs": [],
   "source": []
  },
  {
   "cell_type": "code",
   "execution_count": null,
   "metadata": {},
   "outputs": [],
   "source": [
    "## Decision Tree To Find Best Approach"
   ]
  },
  {
   "cell_type": "code",
   "execution_count": null,
   "metadata": {},
   "outputs": [],
   "source": [
    "# Get dataset and model characteristics and labels are the best performing methods"
   ]
  },
  {
   "cell_type": "code",
   "execution_count": null,
   "metadata": {},
   "outputs": [],
   "source": []
  },
  {
   "cell_type": "code",
   "execution_count": null,
   "metadata": {},
   "outputs": [],
   "source": [
    "ds_characteristics"
   ]
  },
  {
   "cell_type": "code",
   "execution_count": null,
   "metadata": {},
   "outputs": [],
   "source": [
    "df_best_fws"
   ]
  },
  {
   "cell_type": "code",
   "execution_count": null,
   "metadata": {},
   "outputs": [],
   "source": [
    "df_mean_ranking.iloc[0].drop(['N', 'dataset', 'n', 'score']).min()"
   ]
  },
  {
   "cell_type": "code",
   "execution_count": null,
   "metadata": {},
   "outputs": [],
   "source": [
    "## Build Decision Trees for each metric, dataset instance and row instance"
   ]
  },
  {
   "cell_type": "code",
   "execution_count": null,
   "metadata": {},
   "outputs": [],
   "source": [
    "# Including the statistically best\n",
    "def get_statistically_best_fws(score, ds_type):\n",
    "    \n",
    "    if ds_type=='all':\n",
    "        ds_selected = cat_ds+num_ds+mix_ds\n",
    "    if ds_type=='cat':\n",
    "        ds_selected = cat_ds\n",
    "    if ds_type=='num':\n",
    "        ds_selected = num_ds\n",
    "    if ds_type=='mix':\n",
    "        ds_selected = mix_ds\n",
    "    \n",
    "    dataset_tree = []\n",
    "    for _, row in df_best_fws[(df_best_fws['score']==score)&(df_best_fws['dataset'].isin(ds_selected))].iterrows():\n",
    "        ds = row['dataset']\n",
    "        n = row['n']\n",
    "\n",
    "        row_ds = row.drop(['H0_Reject', 'dataset', 'n', 'score'])\n",
    "        wfw = list(row_ds[row_ds==1].keys())\n",
    "\n",
    "        row_ds_tree = ds_characteristics[ds_characteristics['Dataset']==ds].copy()\n",
    "\n",
    "        row_ds_tree = row_ds_tree.drop(columns=['Dataset'])\n",
    "\n",
    "        row_ds_tree = row_ds_tree.drop(columns=['Rows (total)', 'Rows (train)', 'Rows (valid)', 'Rows (test)', 'Rows (fac0)', 'Rows (fac1)', 'Columns Total', 'Neurons', 'Epochs', 'LR', 'AUC (total)', 'AUC (train)', 'AUC (test)', 'AUC (valid)', 'Acuracy (total)', 'Acuracy (train)', 'Acuracy (fac0)', 'Acuracy (fac1)', 'Acuracy (valid)', 'Acuracy (test)'])\n",
    "\n",
    "        if int(n) == 0:\n",
    "            proportion_factual = row_ds_tree['Percentage 0 Class']\n",
    "        else:\n",
    "            proportion_factual = row_ds_tree['Percentage 1 Class']\n",
    "\n",
    "        row_ds_tree = row_ds_tree.drop(columns=['Percentage 0 Class', 'Percentage 1 Class'])\n",
    "\n",
    "        row_ds_tree['Factual Percentage'] = proportion_factual\n",
    "\n",
    "        for fw in wfw:\n",
    "            row_ds_tree_out = row_ds_tree.copy()\n",
    "            row_ds_tree_out['best_fw'] = fw\n",
    "\n",
    "            dataset_tree.append(row_ds_tree_out)\n",
    "            \n",
    "    \n",
    "    return pd.concat(dataset_tree)"
   ]
  },
  {
   "cell_type": "code",
   "execution_count": null,
   "metadata": {},
   "outputs": [],
   "source": [
    "# Just the numerically best\n",
    "def get_numerically_best_fws(score, ds_type):\n",
    "    \n",
    "    if ds_type=='all':\n",
    "        ds_selected = cat_ds+num_ds+mix_ds\n",
    "    if ds_type=='cat':\n",
    "        ds_selected = cat_ds\n",
    "    if ds_type=='num':\n",
    "        ds_selected = num_ds\n",
    "    if ds_type=='mix':\n",
    "        ds_selected = mix_ds\n",
    "        \n",
    "    dataset_tree = []\n",
    "    \n",
    "    for _, row in df_mean_ranking[(df_mean_ranking['score']==score)&(df_mean_ranking['dataset'].isin(ds_selected))].iterrows():\n",
    "        ds = row['dataset']\n",
    "        n = row['n']\n",
    "\n",
    "        row_ds = row.drop(['N', 'dataset', 'n', 'score'])\n",
    "        row_ds_min = row_ds.min()\n",
    "        wfw = list(row_ds[row_ds==row_ds_min].keys())\n",
    "\n",
    "        row_ds_tree = ds_characteristics[ds_characteristics['Dataset']==ds].copy()\n",
    "\n",
    "        row_ds_tree = row_ds_tree.drop(columns=['Dataset'])\n",
    "\n",
    "        row_ds_tree = row_ds_tree.drop(columns=['Rows (total)', 'Rows (train)', 'Rows (valid)', 'Rows (test)', 'Rows (fac0)', 'Rows (fac1)', 'Columns Total', 'Neurons', 'Epochs', 'LR', 'AUC (total)', 'AUC (train)', 'AUC (test)', 'AUC (valid)', 'Acuracy (total)', 'Acuracy (train)', 'Acuracy (fac0)', 'Acuracy (fac1)', 'Acuracy (valid)', 'Acuracy (test)'])\n",
    "\n",
    "        if int(n) == 0:\n",
    "            proportion_factual = row_ds_tree['Percentage 0 Class']\n",
    "        else:\n",
    "            proportion_factual = row_ds_tree['Percentage 1 Class']\n",
    "\n",
    "        row_ds_tree = row_ds_tree.drop(columns=['Percentage 0 Class', 'Percentage 1 Class'])\n",
    "\n",
    "        row_ds_tree['Factual Percentage'] = proportion_factual\n",
    "\n",
    "        for fw in wfw:\n",
    "            row_ds_tree_out = row_ds_tree.copy()\n",
    "            row_ds_tree_out['best_fw'] = fw\n",
    "\n",
    "            dataset_tree.append(row_ds_tree_out)\n",
    "            \n",
    "    return pd.concat(dataset_tree)"
   ]
  },
  {
   "cell_type": "code",
   "execution_count": null,
   "metadata": {},
   "outputs": [],
   "source": [
    "ds_characteristics.drop(columns=['Rows (total)', 'Rows (train)', 'Rows (valid)', 'Rows (test)', 'Rows (fac0)', 'Rows (fac1)', 'Columns Total', 'Neurons', 'Epochs', 'LR', 'AUC (total)', 'AUC (train)', 'AUC (test)', 'AUC (valid)', 'Acuracy (total)', 'Acuracy (train)', 'Acuracy (fac0)', 'Acuracy (fac1)', 'Acuracy (valid)', 'Acuracy (test)']).mean()"
   ]
  },
  {
   "cell_type": "code",
   "execution_count": null,
   "metadata": {},
   "outputs": [],
   "source": [
    "# Build DT\n",
    "from sklearn.tree import DecisionTreeClassifier\n",
    "from sklearn import tree\n",
    "from sklearn.tree import export_graphviz\n",
    "from joblib import dump, load"
   ]
  },
  {
   "cell_type": "code",
   "execution_count": null,
   "metadata": {},
   "outputs": [],
   "source": []
  },
  {
   "cell_type": "code",
   "execution_count": null,
   "metadata": {},
   "outputs": [],
   "source": [
    "# For Statistically Best\n",
    "dict_dt_ds_stats = {}\n",
    "for ds_set in ['all', 'cat', 'num', 'mix']:\n",
    "    for score in ['validity', 'sparsity', 'RUC', 'RMC', 'L2', 'MAD', 'MD']:\n",
    "        df_tree = get_statistically_best_fws(score, ds_set)\n",
    "        \n",
    "        X_df_tree = df_tree.drop(columns='best_fw')\n",
    "        y_df_tree = df_tree['best_fw']\n",
    "        \n",
    "        clf = DecisionTreeClassifier(random_state=42, max_depth=3)\n",
    "        \n",
    "        clf.fit(X_df_tree, y_df_tree)\n",
    "        \n",
    "        dump(clf, f'./rankings/decision_trees/stats_best_{ds_set}_{score}.pkl')\n",
    "        \n",
    "        dict_dt_ds_stats[f'{ds_set}_{score}'] = clf"
   ]
  },
  {
   "cell_type": "code",
   "execution_count": null,
   "metadata": {},
   "outputs": [],
   "source": []
  },
  {
   "cell_type": "code",
   "execution_count": null,
   "metadata": {},
   "outputs": [],
   "source": [
    "# For Numerically Best\n",
    "dict_dt_ds_num = {}\n",
    "for ds_set in ['all', 'cat', 'num', 'mix']:\n",
    "    for score in ['validity', 'sparsity', 'RUC', 'RMC', 'L2', 'MAD', 'MD']:\n",
    "        df_tree = get_numerically_best_fws(score, ds_set)\n",
    "        \n",
    "        X_df_tree = df_tree.drop(columns='best_fw')\n",
    "        y_df_tree = df_tree['best_fw']\n",
    "        \n",
    "        clf = DecisionTreeClassifier(random_state=42, max_depth=3)\n",
    "        \n",
    "        clf.fit(X_df_tree, y_df_tree)\n",
    "        \n",
    "        dump(clf, f'./rankings/decision_trees/num_best_{ds_set}_{score}.pkl')\n",
    "        \n",
    "        dict_dt_ds_num[f'{ds_set}_{score}'] = clf"
   ]
  },
  {
   "cell_type": "code",
   "execution_count": null,
   "metadata": {},
   "outputs": [],
   "source": [
    "dict_dt_ds_num['all_validity'].predict([[9000, 120, 30, 90, 0.8, 0.56]])"
   ]
  },
  {
   "cell_type": "code",
   "execution_count": null,
   "metadata": {},
   "outputs": [],
   "source": [
    "dict_dt_ds_num['all_validity'].predict_proba([[9000, 120, 30, 90, 0.8, 0.56]])"
   ]
  },
  {
   "cell_type": "code",
   "execution_count": null,
   "metadata": {},
   "outputs": [],
   "source": [
    "dict_dt_ds_num['all_validity'].classes_"
   ]
  },
  {
   "cell_type": "code",
   "execution_count": null,
   "metadata": {},
   "outputs": [],
   "source": []
  },
  {
   "cell_type": "code",
   "execution_count": null,
   "metadata": {},
   "outputs": [],
   "source": [
    "df_tree = get_statistically_best_fws('L2', 'num')"
   ]
  },
  {
   "cell_type": "code",
   "execution_count": null,
   "metadata": {},
   "outputs": [],
   "source": [
    "X_df_tree = df_tree.drop(columns='best_fw')\n",
    "y_df_tree = df_tree['best_fw']"
   ]
  },
  {
   "cell_type": "code",
   "execution_count": null,
   "metadata": {},
   "outputs": [],
   "source": [
    "clf = DecisionTreeClassifier(random_state=0, max_depth=3)"
   ]
  },
  {
   "cell_type": "code",
   "execution_count": null,
   "metadata": {},
   "outputs": [],
   "source": [
    "clf.fit(X_df_tree, y_df_tree)"
   ]
  },
  {
   "cell_type": "code",
   "execution_count": null,
   "metadata": {},
   "outputs": [],
   "source": [
    "from sklearn.tree import export_graphviz\n",
    "\n",
    "# Creates dot file named tree.dot\n",
    "export_graphviz(\n",
    "            clf,\n",
    "            out_file =  \"myTreeName.dot\",\n",
    "            feature_names = list(X_df_tree.columns),\n",
    "            class_names = clf.classes_,\n",
    "            filled = True,\n",
    "            rounded = True)"
   ]
  },
  {
   "cell_type": "code",
   "execution_count": null,
   "metadata": {},
   "outputs": [],
   "source": [
    "!dot -Tps myTreeName.dot -o outfile.ps"
   ]
  },
  {
   "cell_type": "code",
   "execution_count": null,
   "metadata": {},
   "outputs": [],
   "source": [
    "# Based on rows"
   ]
  },
  {
   "cell_type": "code",
   "execution_count": null,
   "metadata": {},
   "outputs": [],
   "source": []
  },
  {
   "cell_type": "code",
   "execution_count": null,
   "metadata": {},
   "outputs": [],
   "source": [
    "tree_rows_ds = []\n",
    "for _, row in df_result_rows_best.iterrows():\n",
    "    dsName = row['dataset']\n",
    "    n = row['n']\n",
    "    score = row['score']\n",
    "    class_probability = row['class_probability']\n",
    "    missclassified = row['missclassified']\n",
    "    \n",
    "    row_ds_rankings = row.drop(['dataset', 'n', 'score', 'class_probability', 'missclassified'])\n",
    "    \n",
    "    wfw = row_ds_rankings[row_ds_rankings==row_ds_rankings.min()].keys().tolist()\n",
    "    \n",
    "    row_ds_tree = ds_characteristics[ds_characteristics['Dataset']==dsName].copy()\n",
    "    \n",
    "#     row_ds_tree = row_ds_tree.drop(columns=['Dataset'])\n",
    "    \n",
    "    row_ds_tree = row_ds_tree.drop(columns=['Rows (total)', 'Rows (valid)', 'Rows (test)', 'Rows (fac0)', 'Rows (fac1)', 'Columns Total', 'Epochs', 'LR', 'AUC (total)', 'AUC (train)', 'AUC (valid)', 'Acuracy (total)', 'Acuracy (train)', 'Acuracy (fac0)', 'Acuracy (fac1)', 'Acuracy (valid)', 'Acuracy (test)'])\n",
    "    \n",
    "    for fw in wfw:\n",
    "        row_ds_tree_fwa = row_ds_tree.copy()\n",
    "        row_ds_tree_fwa['score'] = score\n",
    "        row_ds_tree_fwa['class_probability'] = class_probability\n",
    "        row_ds_tree_fwa['missclassified'] = missclassified\n",
    "        row_ds_tree_fwa['percentage_factual'] = row_ds_tree['Percentage 0 Class'] if int(n) == 0 else row_ds_tree['Percentage 1 Class']\n",
    "        row_ds_tree_fwa['best_fw'] = fw\n",
    "        \n",
    "        \n",
    "        tree_rows_ds.append(row_ds_tree_fwa)"
   ]
  },
  {
   "cell_type": "code",
   "execution_count": null,
   "metadata": {},
   "outputs": [],
   "source": [
    "df_tree_all_rows = pd.concat(tree_rows_ds)"
   ]
  },
  {
   "cell_type": "code",
   "execution_count": null,
   "metadata": {},
   "outputs": [],
   "source": [
    "df_tree_all_rows_analyzed = df_tree_all_rows.drop(columns=['Percentage 0 Class', 'Percentage 1 Class'])"
   ]
  },
  {
   "cell_type": "code",
   "execution_count": null,
   "metadata": {},
   "outputs": [],
   "source": [
    "df_tree_all_rows_analyzed"
   ]
  },
  {
   "cell_type": "code",
   "execution_count": null,
   "metadata": {},
   "outputs": [],
   "source": [
    "# selected_df_tar = df_tree_all_rows_analyzed[(df_tree_all_rows_analyzed['score'] == 'MD')&(df_tree_all_rows_analyzed['Dataset'].isin(mix_ds))].drop(columns=['score', 'Dataset'])"
   ]
  },
  {
   "cell_type": "code",
   "execution_count": null,
   "metadata": {},
   "outputs": [],
   "source": [
    "for sc in ['validity', 'sparsity', 'RUC', 'RMC', 'L2', 'MAD', 'MD']:\n",
    "    selected_df_tar = df_tree_all_rows_analyzed[(df_tree_all_rows_analyzed['score'] == sc)&(df_tree_all_rows_analyzed['Dataset'].isin(mix_ds))].drop(columns=['score', 'Dataset'])\n",
    "    \n",
    "    X_df_tree = selected_df_tar.drop(columns='best_fw')\n",
    "    y_df_tree = selected_df_tar['best_fw']\n",
    "    \n",
    "    clf = DecisionTreeClassifier(random_state=0, max_depth=3)\n",
    "    \n",
    "    clf.fit(X_df_tree, y_df_tree)\n",
    "    \n",
    "    # Creates dot file named tree.dot\n",
    "    export_graphviz(\n",
    "                clf,\n",
    "                out_file =  \"myTreeName.dot\",\n",
    "                feature_names = list(X_df_tree.columns),\n",
    "                class_names = clf.classes_,\n",
    "                filled = True,\n",
    "                rounded = True)\n",
    "    \n",
    "    os.system(f'dot -Tpng myTreeName.dot -o mix_{sc}.png')"
   ]
  },
  {
   "cell_type": "code",
   "execution_count": null,
   "metadata": {},
   "outputs": [],
   "source": [
    "selected_df_tar = df_tree_all_rows_analyzed[(df_tree_all_rows_analyzed['score'] == 'MD')].drop(columns=['score', 'Dataset'])"
   ]
  },
  {
   "cell_type": "code",
   "execution_count": null,
   "metadata": {},
   "outputs": [],
   "source": [
    "X_df_tree = selected_df_tar.drop(columns='best_fw')\n",
    "y_df_tree = selected_df_tar['best_fw']"
   ]
  },
  {
   "cell_type": "code",
   "execution_count": null,
   "metadata": {},
   "outputs": [],
   "source": [
    "clf = DecisionTreeClassifier(random_state=0, max_depth=3)"
   ]
  },
  {
   "cell_type": "code",
   "execution_count": null,
   "metadata": {},
   "outputs": [],
   "source": [
    "clf.fit(X_df_tree, y_df_tree)"
   ]
  },
  {
   "cell_type": "code",
   "execution_count": null,
   "metadata": {},
   "outputs": [],
   "source": [
    "clf.classes_"
   ]
  },
  {
   "cell_type": "code",
   "execution_count": null,
   "metadata": {},
   "outputs": [],
   "source": [
    "from sklearn.tree import export_graphviz\n",
    "\n",
    "# Creates dot file named tree.dot\n",
    "export_graphviz(\n",
    "            clf,\n",
    "            out_file =  \"myTreeName.dot\",\n",
    "            feature_names = list(X_df_tree.columns),\n",
    "            class_names = clf.classes_,\n",
    "            filled = True,\n",
    "            rounded = True)"
   ]
  },
  {
   "cell_type": "code",
   "execution_count": null,
   "metadata": {},
   "outputs": [],
   "source": [
    "!dot -Tpng myTreeName.dot -o mix_md.png"
   ]
  },
  {
   "cell_type": "code",
   "execution_count": null,
   "metadata": {},
   "outputs": [],
   "source": [
    "## Decision Tree To Find Best Approach"
   ]
  },
  {
   "cell_type": "code",
   "execution_count": null,
   "metadata": {},
   "outputs": [],
   "source": [
    "selected_df_tar['best_fw'].value_counts()"
   ]
  },
  {
   "cell_type": "code",
   "execution_count": null,
   "metadata": {},
   "outputs": [],
   "source": [
    "clf.classes_"
   ]
  },
  {
   "cell_type": "code",
   "execution_count": null,
   "metadata": {},
   "outputs": [],
   "source": []
  },
  {
   "cell_type": "code",
   "execution_count": null,
   "metadata": {},
   "outputs": [],
   "source": []
  },
  {
   "cell_type": "code",
   "execution_count": null,
   "metadata": {},
   "outputs": [],
   "source": []
  },
  {
   "cell_type": "code",
   "execution_count": null,
   "metadata": {},
   "outputs": [],
   "source": []
  },
  {
   "cell_type": "code",
   "execution_count": null,
   "metadata": {},
   "outputs": [],
   "source": []
  },
  {
   "cell_type": "code",
   "execution_count": null,
   "metadata": {},
   "outputs": [],
   "source": [
    "# Total Statistics\n",
    "# This is different from the score ranking comparison, in this case, the wins are statistically significant\n",
    "# This mean that each win is not just a simple win, but it's a win that is statistically significant from\n",
    "# all other methodologies\n",
    "df_best_fws.groupby(['score']).sum().to_excel('total.xlsx')"
   ]
  },
  {
   "cell_type": "code",
   "execution_count": null,
   "metadata": {},
   "outputs": [],
   "source": [
    "# Numerical Datasets\n",
    "df_best_fws[df_best_fws['dataset'].isin(num_ds)].groupby(['score']).sum()"
   ]
  },
  {
   "cell_type": "code",
   "execution_count": null,
   "metadata": {},
   "outputs": [],
   "source": [
    "# Save Numerical\n",
    "df_best_fws[df_best_fws['dataset'].isin(num_ds)].groupby(['score']).sum().to_excel('data_num.xlsx')"
   ]
  },
  {
   "cell_type": "code",
   "execution_count": null,
   "metadata": {},
   "outputs": [],
   "source": [
    "# Categorical Datasets\n",
    "df_best_fws[df_best_fws['dataset'].isin(cat_ds)].groupby(['score']).sum()"
   ]
  },
  {
   "cell_type": "code",
   "execution_count": null,
   "metadata": {},
   "outputs": [],
   "source": [
    "df_best_fws[df_best_fws['dataset'].isin(cat_ds)].groupby(['score']).sum().to_excel('data_cat.xlsx')"
   ]
  },
  {
   "cell_type": "code",
   "execution_count": null,
   "metadata": {},
   "outputs": [],
   "source": [
    "# Mixed Datasets\n",
    "df_best_fws[df_best_fws['dataset'].isin(mixed_ds)].groupby(['score']).sum()"
   ]
  },
  {
   "cell_type": "code",
   "execution_count": null,
   "metadata": {},
   "outputs": [],
   "source": [
    "df_best_fws[df_best_fws['dataset'].isin(mixed_ds)].groupby(['score']).sum().to_excel('data_mix.xlsx')"
   ]
  },
  {
   "cell_type": "code",
   "execution_count": null,
   "metadata": {},
   "outputs": [],
   "source": [
    "# Ranking chart\n",
    "import Orange \n"
   ]
  },
  {
   "cell_type": "code",
   "execution_count": null,
   "metadata": {},
   "outputs": [],
   "source": [
    "data_row = data_test.iloc[0]\n",
    "names = framework_names\n",
    "avranks = data_row[framework_names].tolist()\n",
    "\n",
    "# names = ['C4.5', 'C4.5+m', 'C4.5+cf', 'C4.5+m+cf']\n",
    "# avranks = [3.143,2.000,2.893,1.964, 5, 8, 9, 10, 12 ,18]\n",
    "\n",
    "k = len(avranks)\n",
    "N = data_row['N']\n",
    "\n",
    "cd = cvnt005[k]*(k*(k+1)/(6*N))**0.5\n",
    "\n",
    "print('cd=',cd)\n",
    "Orange.evaluation.graph_ranks(avranks, names, cd=cd, width=5, textspace=1.5, cdmethod=1)\n",
    "plt.show();"
   ]
  },
  {
   "cell_type": "code",
   "execution_count": null,
   "metadata": {},
   "outputs": [],
   "source": []
  },
  {
   "cell_type": "code",
   "execution_count": null,
   "metadata": {},
   "outputs": [],
   "source": []
  },
  {
   "cell_type": "code",
   "execution_count": null,
   "metadata": {},
   "outputs": [],
   "source": [
    "df_rob"
   ]
  },
  {
   "cell_type": "code",
   "execution_count": null,
   "metadata": {},
   "outputs": [],
   "source": [
    "df_rob[df_rob[1]=='ALIBICNOGRAD']"
   ]
  },
  {
   "cell_type": "code",
   "execution_count": null,
   "metadata": {},
   "outputs": [],
   "source": [
    "df_rob[df_rob[3].isna()]"
   ]
  },
  {
   "cell_type": "code",
   "execution_count": null,
   "metadata": {},
   "outputs": [],
   "source": [
    "mean_rob = df_rob.groupby([0, 1]).mean().reset_index()"
   ]
  },
  {
   "cell_type": "code",
   "execution_count": null,
   "metadata": {},
   "outputs": [],
   "source": [
    "# Total\n",
    "mean_rob[mean_rob[1]=='ALIBICNOGRAD']#.groupby(1).mean()"
   ]
  },
  {
   "cell_type": "code",
   "execution_count": null,
   "metadata": {},
   "outputs": [],
   "source": [
    "# Categorical\n",
    "mean_rob[mean_rob[0].isin(cat_ds)].groupby(1).mean()"
   ]
  },
  {
   "cell_type": "code",
   "execution_count": null,
   "metadata": {},
   "outputs": [],
   "source": [
    "# Numerical\n",
    "mean_rob[(mean_rob[0].isin(num_ds))&(mean_rob[1]=='ALIBICNOGRAD')]#.groupby(1).mean()"
   ]
  },
  {
   "cell_type": "code",
   "execution_count": null,
   "metadata": {},
   "outputs": [],
   "source": [
    "# Mixed\n",
    "mean_rob[mean_rob[0].isin(mix_ds)].groupby(1).mean()"
   ]
  },
  {
   "cell_type": "code",
   "execution_count": null,
   "metadata": {},
   "outputs": [],
   "source": []
  },
  {
   "cell_type": "code",
   "execution_count": null,
   "metadata": {},
   "outputs": [],
   "source": [
    "# Calculate Ranking Time\n",
    "\n",
    "time_dfs0 = {}\n",
    "time_dfs1 = {}\n",
    "for pr in processed_results:\n",
    "    if 'TIME' in pr:\n",
    "        t_df = pd.read_csv(f'./results/processed/{pr}').drop(columns=['Unnamed: 0'])\n",
    "        \n",
    "        dsn = t_df['2'].unique()[0]\n",
    "        fw = pr.split('_')[-1].split('.')[0]\n",
    "        \n",
    "        # Get right classes\n",
    "        t_df0 = t_df[t_df['1']==0]\n",
    "        t_df1 = t_df[t_df['1']==1]\n",
    "        \n",
    "        # Reindex\n",
    "        t_df0.index = t_df0['0'].tolist()\n",
    "        t_df1.index = t_df1['0'].tolist()\n",
    "        \n",
    "        # Remove index, n and framework column\n",
    "        t_df0 = t_df0.drop(columns=['0', '1', '2'])\n",
    "        t_df1 = t_df1.drop(columns=['0', '1', '2'])\n",
    "        \n",
    "        # Rename column to framework\n",
    "        t_df0.columns = [fw]\n",
    "        t_df1.columns = [fw]\n",
    "        \n",
    "        \n",
    "        n_factual_rows_0 = pd.read_csv(f'./experiments_data/{dsn}_CFDATASET_0.csv').shape[0]\n",
    "        n_factual_rows_1 = pd.read_csv(f'./experiments_data/{dsn}_CFDATASET_1.csv').shape[0]\n",
    "        \n",
    "        missing_rows_0 = list(set([*range(0,n_factual_rows_0)])-set(t_df0.index))\n",
    "        for mr in missing_rows_0:\n",
    "            t_df0.loc[mr] = [np.nan]*t_df0.shape[1]\n",
    "            \n",
    "        missing_rows_1 = list(set([*range(0,n_factual_rows_1)])-set(t_df1.index))\n",
    "        for mr in missing_rows_1:\n",
    "            t_df1.loc[mr] = [np.nan]*t_df1.shape[1]\n",
    "            \n",
    "        # Reorder index\n",
    "        t_df0 = t_df0.sort_index()\n",
    "        t_df1 = t_df1.sort_index()\n",
    "        \n",
    "        if dsn in time_dfs0.keys():\n",
    "            time_dfs0[dsn].append(t_df0)\n",
    "        else:\n",
    "            time_dfs0[dsn] = [t_df0]\n",
    "        \n",
    "        if dsn in time_dfs1.keys():\n",
    "            time_dfs1[dsn].append(t_df1)\n",
    "        else:\n",
    "            time_dfs1[dsn] = [t_df1]"
   ]
  },
  {
   "cell_type": "code",
   "execution_count": null,
   "metadata": {},
   "outputs": [],
   "source": [
    "p_time_df0 = {}\n",
    "for key, values in time_dfs0.items():\n",
    "    df = pd.concat(values, axis=1)\n",
    "    missing_cols = list(set(framework_names)-set(df.columns))\n",
    "    df[missing_cols] = np.nan\n",
    "    p_time_df0[key] = df\n",
    "p_time_df1 = {}\n",
    "for key, values in time_dfs1.items():\n",
    "    df = pd.concat(values, axis=1)\n",
    "    missing_cols = list(set(framework_names)-set(df.columns))\n",
    "    df[missing_cols] = np.nan\n",
    "    p_time_df1[key] = df"
   ]
  },
  {
   "cell_type": "code",
   "execution_count": null,
   "metadata": {},
   "outputs": [],
   "source": [
    "ds_ranking_time = []\n",
    "for dsn in dsNames:\n",
    "    df0 = p_time_df0[dsn]\n",
    "    df1 = p_time_df1[dsn]\n",
    "    \n",
    "    df = pd.concat([df0, df1]).rank(axis=1, method='average', na_option='bottom').mean()\n",
    "    \n",
    "    df['N'] = df0.shape[0]+df1.shape[0]\n",
    "    \n",
    "    df['dsn'] = dsn\n",
    "    \n",
    "    ds_ranking_time.append(df)\n",
    "df_ranking_time = pd.DataFrame(ds_ranking_time)\n",
    "df_ranking_time.index = df_ranking_time['dsn'].tolist()\n",
    "df_ranking_time = df_ranking_time.drop(columns=['dsn'])"
   ]
  },
  {
   "cell_type": "code",
   "execution_count": null,
   "metadata": {},
   "outputs": [],
   "source": [
    "processed_results[7]"
   ]
  },
  {
   "cell_type": "code",
   "execution_count": null,
   "metadata": {},
   "outputs": [],
   "source": [
    "df_time"
   ]
  },
  {
   "cell_type": "code",
   "execution_count": null,
   "metadata": {},
   "outputs": [],
   "source": [
    "test_metrics = [\n",
    "    [1]*200 + [0]*100 + [1]*200 + [0]*100 + [1]*200 + [0]*100 + [0]*100,\n",
    "    [1]*200 + [0]*100 + [1]*200 + [0]*100 + [1]*200 + [0]*100 + [0]*100,\n",
    "    [1]*200 + [0]*100 + [1]*200 + [0]*100 + [1]*200 + [0]*100 + [0]*100,\n",
    "    [1]*200 + [0]*100 + [1]*200 + [0]*100 + [1]*200 + [0]*100 + [0]*100,\n",
    "    [1]*200 + [0]*100 + [1]*200 + [0]*100 + [1]*200 + [0]*100 + [0]*100,\n",
    "    [1]*200 + [0]*100 + [1]*200 + [0]*100 + [1]*200 + [0]*100 + [0]*100,\n",
    "    [1]*200 + [0]*100 + [1]*200 + [0]*100 + [1]*200 + [0]*100 + [0]*100,\n",
    "    [1]*200 + [0]*100 + [1]*200 + [0]*100 + [1]*200 + [0]*100 + [0]*100,\n",
    "    [1]*200 + [0]*100 + [1]*200 + [0]*100 + [1]*200 + [0]*100 + [1]*100,\n",
    "    [0]*200 + [1]*100 + [1]*200 + [1]*100 + [1]*200 + [1]*100 + [0]*100,\n",
    "] "
   ]
  },
  {
   "cell_type": "code",
   "execution_count": null,
   "metadata": {},
   "outputs": [],
   "source": [
    "test = pd.DataFrame(test_metrics).T.rank(na_option='bottom', axis=1, ascending=True)\n",
    "test"
   ]
  },
  {
   "cell_type": "code",
   "execution_count": null,
   "metadata": {},
   "outputs": [],
   "source": [
    "test.mean()"
   ]
  },
  {
   "cell_type": "code",
   "execution_count": null,
   "metadata": {},
   "outputs": [],
   "source": []
  }
 ],
 "metadata": {
  "kernelspec": {
   "display_name": "Python 3",
   "language": "python",
   "name": "python3"
  },
  "language_info": {
   "codemirror_mode": {
    "name": "ipython",
    "version": 3
   },
   "file_extension": ".py",
   "mimetype": "text/x-python",
   "name": "python",
   "nbconvert_exporter": "python",
   "pygments_lexer": "ipython3",
   "version": "3.7.10"
  }
 },
 "nbformat": 4,
 "nbformat_minor": 4
}
